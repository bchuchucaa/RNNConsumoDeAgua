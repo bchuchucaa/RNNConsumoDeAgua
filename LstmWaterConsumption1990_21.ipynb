{
  "cells": [
    {
      "cell_type": "markdown",
      "metadata": {
        "id": "view-in-github",
        "colab_type": "text"
      },
      "source": [
        "<a href=\"https://colab.research.google.com/github/bchuchucaa/RNNConsumoDeAgua/blob/main/LstmWaterConsumption1990_21.ipynb\" target=\"_parent\"><img src=\"https://colab.research.google.com/assets/colab-badge.svg\" alt=\"Open In Colab\"/></a>"
      ]
    },
    {
      "cell_type": "markdown",
      "metadata": {
        "id": "omChKDIIc_1_"
      },
      "source": [
        "Universidad Politecnica Salesiana\n",
        "\n",
        "LSTM para prediccion del consumo de agua\n"
      ]
    },
    {
      "cell_type": "code",
      "source": [
        "!pip install keras-tuner\n",
        "!pip3 install datapane"
      ],
      "metadata": {
        "colab": {
          "base_uri": "https://localhost:8080/"
        },
        "id": "6fJBfecOJZ4I",
        "outputId": "09bf5b0d-c1bb-4080-a4ba-3769a0f8b565"
      },
      "execution_count": 7,
      "outputs": [
        {
          "output_type": "stream",
          "name": "stdout",
          "text": [
            "Requirement already satisfied: keras-tuner in /usr/local/lib/python3.7/dist-packages (1.1.0)\n",
            "Requirement already satisfied: packaging in /usr/local/lib/python3.7/dist-packages (from keras-tuner) (21.3)\n",
            "Requirement already satisfied: ipython in /usr/local/lib/python3.7/dist-packages (from keras-tuner) (5.5.0)\n",
            "Requirement already satisfied: kt-legacy in /usr/local/lib/python3.7/dist-packages (from keras-tuner) (1.0.4)\n",
            "Requirement already satisfied: scipy in /usr/local/lib/python3.7/dist-packages (from keras-tuner) (1.4.1)\n",
            "Requirement already satisfied: requests in /usr/local/lib/python3.7/dist-packages (from keras-tuner) (2.23.0)\n",
            "Requirement already satisfied: tensorboard in /usr/local/lib/python3.7/dist-packages (from keras-tuner) (2.8.0)\n",
            "Requirement already satisfied: numpy in /usr/local/lib/python3.7/dist-packages (from keras-tuner) (1.21.5)\n",
            "Requirement already satisfied: decorator in /usr/local/lib/python3.7/dist-packages (from ipython->keras-tuner) (4.4.2)\n",
            "Requirement already satisfied: pickleshare in /usr/local/lib/python3.7/dist-packages (from ipython->keras-tuner) (0.7.5)\n",
            "Requirement already satisfied: pexpect in /usr/local/lib/python3.7/dist-packages (from ipython->keras-tuner) (4.8.0)\n",
            "Requirement already satisfied: prompt-toolkit<2.0.0,>=1.0.4 in /usr/local/lib/python3.7/dist-packages (from ipython->keras-tuner) (1.0.18)\n",
            "Requirement already satisfied: traitlets>=4.2 in /usr/local/lib/python3.7/dist-packages (from ipython->keras-tuner) (5.1.1)\n",
            "Requirement already satisfied: simplegeneric>0.8 in /usr/local/lib/python3.7/dist-packages (from ipython->keras-tuner) (0.8.1)\n",
            "Requirement already satisfied: setuptools>=18.5 in /usr/local/lib/python3.7/dist-packages (from ipython->keras-tuner) (57.4.0)\n",
            "Requirement already satisfied: pygments in /usr/local/lib/python3.7/dist-packages (from ipython->keras-tuner) (2.6.1)\n",
            "Requirement already satisfied: six>=1.9.0 in /usr/local/lib/python3.7/dist-packages (from prompt-toolkit<2.0.0,>=1.0.4->ipython->keras-tuner) (1.15.0)\n",
            "Requirement already satisfied: wcwidth in /usr/local/lib/python3.7/dist-packages (from prompt-toolkit<2.0.0,>=1.0.4->ipython->keras-tuner) (0.2.5)\n",
            "Requirement already satisfied: pyparsing!=3.0.5,>=2.0.2 in /usr/local/lib/python3.7/dist-packages (from packaging->keras-tuner) (3.0.7)\n",
            "Requirement already satisfied: ptyprocess>=0.5 in /usr/local/lib/python3.7/dist-packages (from pexpect->ipython->keras-tuner) (0.7.0)\n",
            "Requirement already satisfied: certifi>=2017.4.17 in /usr/local/lib/python3.7/dist-packages (from requests->keras-tuner) (2021.10.8)\n",
            "Requirement already satisfied: idna<3,>=2.5 in /usr/local/lib/python3.7/dist-packages (from requests->keras-tuner) (2.10)\n",
            "Requirement already satisfied: urllib3!=1.25.0,!=1.25.1,<1.26,>=1.21.1 in /usr/local/lib/python3.7/dist-packages (from requests->keras-tuner) (1.24.3)\n",
            "Requirement already satisfied: chardet<4,>=3.0.2 in /usr/local/lib/python3.7/dist-packages (from requests->keras-tuner) (3.0.4)\n",
            "Requirement already satisfied: tensorboard-data-server<0.7.0,>=0.6.0 in /usr/local/lib/python3.7/dist-packages (from tensorboard->keras-tuner) (0.6.1)\n",
            "Requirement already satisfied: absl-py>=0.4 in /usr/local/lib/python3.7/dist-packages (from tensorboard->keras-tuner) (1.0.0)\n",
            "Requirement already satisfied: wheel>=0.26 in /usr/local/lib/python3.7/dist-packages (from tensorboard->keras-tuner) (0.37.1)\n",
            "Requirement already satisfied: tensorboard-plugin-wit>=1.6.0 in /usr/local/lib/python3.7/dist-packages (from tensorboard->keras-tuner) (1.8.1)\n",
            "Requirement already satisfied: google-auth-oauthlib<0.5,>=0.4.1 in /usr/local/lib/python3.7/dist-packages (from tensorboard->keras-tuner) (0.4.6)\n",
            "Requirement already satisfied: markdown>=2.6.8 in /usr/local/lib/python3.7/dist-packages (from tensorboard->keras-tuner) (3.3.6)\n",
            "Requirement already satisfied: protobuf>=3.6.0 in /usr/local/lib/python3.7/dist-packages (from tensorboard->keras-tuner) (3.17.3)\n",
            "Requirement already satisfied: grpcio>=1.24.3 in /usr/local/lib/python3.7/dist-packages (from tensorboard->keras-tuner) (1.43.0)\n",
            "Requirement already satisfied: google-auth<3,>=1.6.3 in /usr/local/lib/python3.7/dist-packages (from tensorboard->keras-tuner) (1.35.0)\n",
            "Requirement already satisfied: werkzeug>=0.11.15 in /usr/local/lib/python3.7/dist-packages (from tensorboard->keras-tuner) (1.0.1)\n",
            "Requirement already satisfied: pyasn1-modules>=0.2.1 in /usr/local/lib/python3.7/dist-packages (from google-auth<3,>=1.6.3->tensorboard->keras-tuner) (0.2.8)\n",
            "Requirement already satisfied: rsa<5,>=3.1.4 in /usr/local/lib/python3.7/dist-packages (from google-auth<3,>=1.6.3->tensorboard->keras-tuner) (4.8)\n",
            "Requirement already satisfied: cachetools<5.0,>=2.0.0 in /usr/local/lib/python3.7/dist-packages (from google-auth<3,>=1.6.3->tensorboard->keras-tuner) (4.2.4)\n",
            "Requirement already satisfied: requests-oauthlib>=0.7.0 in /usr/local/lib/python3.7/dist-packages (from google-auth-oauthlib<0.5,>=0.4.1->tensorboard->keras-tuner) (1.3.1)\n",
            "Requirement already satisfied: importlib-metadata>=4.4 in /usr/local/lib/python3.7/dist-packages (from markdown>=2.6.8->tensorboard->keras-tuner) (4.11.0)\n",
            "Requirement already satisfied: typing-extensions>=3.6.4 in /usr/local/lib/python3.7/dist-packages (from importlib-metadata>=4.4->markdown>=2.6.8->tensorboard->keras-tuner) (3.10.0.2)\n",
            "Requirement already satisfied: zipp>=0.5 in /usr/local/lib/python3.7/dist-packages (from importlib-metadata>=4.4->markdown>=2.6.8->tensorboard->keras-tuner) (3.7.0)\n",
            "Requirement already satisfied: pyasn1<0.5.0,>=0.4.6 in /usr/local/lib/python3.7/dist-packages (from pyasn1-modules>=0.2.1->google-auth<3,>=1.6.3->tensorboard->keras-tuner) (0.4.8)\n",
            "Requirement already satisfied: oauthlib>=3.0.0 in /usr/local/lib/python3.7/dist-packages (from requests-oauthlib>=0.7.0->google-auth-oauthlib<0.5,>=0.4.1->tensorboard->keras-tuner) (3.2.0)\n",
            "Requirement already satisfied: datapane in /usr/local/lib/python3.7/dist-packages (0.13.2)\n",
            "Requirement already satisfied: jsonschema<5.0.0,>=3.2.0 in /usr/local/lib/python3.7/dist-packages (from datapane) (4.3.3)\n",
            "Requirement already satisfied: pandas<2.0.0,>=1.1.0 in /usr/local/lib/python3.7/dist-packages (from datapane) (1.3.5)\n",
            "Requirement already satisfied: pyarrow<6.0.0,>=3.0.0 in /usr/local/lib/python3.7/dist-packages (from datapane) (5.0.0)\n",
            "Requirement already satisfied: click-spinner<0.2.0,>=0.1.8 in /usr/local/lib/python3.7/dist-packages (from datapane) (0.1.10)\n",
            "Requirement already satisfied: chardet<5.0.0,>=3.0.4 in /usr/local/lib/python3.7/dist-packages (from datapane) (3.0.4)\n",
            "Requirement already satisfied: dacite<2.0.0,>=1.0.2 in /usr/local/lib/python3.7/dist-packages (from datapane) (1.6.0)\n",
            "Requirement already satisfied: colorlog<7.0.0,>=4.1.0 in /usr/local/lib/python3.7/dist-packages (from datapane) (6.6.0)\n",
            "Requirement already satisfied: Jinja2<4.0.0,>=2.11.0 in /usr/local/lib/python3.7/dist-packages (from datapane) (2.11.3)\n",
            "Requirement already satisfied: packaging<22.0.0,>=20.0.0 in /usr/local/lib/python3.7/dist-packages (from datapane) (21.3)\n",
            "Requirement already satisfied: click<9.0.0,>=7.1.0 in /usr/local/lib/python3.7/dist-packages (from datapane) (7.1.2)\n",
            "Requirement already satisfied: validators<0.19.0,>=0.18.0 in /usr/local/lib/python3.7/dist-packages (from datapane) (0.18.2)\n",
            "Requirement already satisfied: posthog<2.0.0,>=1.4.0 in /usr/local/lib/python3.7/dist-packages (from datapane) (1.4.5)\n",
            "Requirement already satisfied: boltons<22.0.0,>=20.0.0 in /usr/local/lib/python3.7/dist-packages (from datapane) (21.0.0)\n",
            "Requirement already satisfied: datacommons-pandas<0.0.4,>=0.0.3 in /usr/local/lib/python3.7/dist-packages (from datapane) (0.0.3)\n",
            "Requirement already satisfied: lxml<5.0.0,>=4.0.0 in /usr/local/lib/python3.7/dist-packages (from datapane) (4.2.6)\n",
            "Requirement already satisfied: requests-toolbelt<0.10.0,>=0.9.1 in /usr/local/lib/python3.7/dist-packages (from datapane) (0.9.1)\n",
            "Requirement already satisfied: altair<5.0.0,>=4.0.0 in /usr/local/lib/python3.7/dist-packages (from datapane) (4.2.0)\n",
            "Requirement already satisfied: furl<3.0.0,>=2.0.0 in /usr/local/lib/python3.7/dist-packages (from datapane) (2.1.3)\n",
            "Requirement already satisfied: requests<3.0.0,>=2.19.0 in /usr/local/lib/python3.7/dist-packages (from datapane) (2.23.0)\n",
            "Requirement already satisfied: micawber>=0.5.0 in /usr/local/lib/python3.7/dist-packages (from datapane) (0.5.4)\n",
            "Requirement already satisfied: glom<21.0.0,>=20.5.0 in /usr/local/lib/python3.7/dist-packages (from datapane) (20.11.0)\n",
            "Requirement already satisfied: datacommons<2.0.0,>=1.4.3 in /usr/local/lib/python3.7/dist-packages (from datapane) (1.4.3)\n",
            "Requirement already satisfied: nbconvert<7.0.0,>=5.6.1 in /usr/local/lib/python3.7/dist-packages (from datapane) (5.6.1)\n",
            "Requirement already satisfied: tabulate<0.9.0,>=0.8.0 in /usr/local/lib/python3.7/dist-packages (from datapane) (0.8.9)\n",
            "Requirement already satisfied: toolz<0.12.0,>=0.11.0 in /usr/local/lib/python3.7/dist-packages (from datapane) (0.11.2)\n",
            "Requirement already satisfied: dominate<3.0.0,>=2.4.0 in /usr/local/lib/python3.7/dist-packages (from datapane) (2.6.0)\n",
            "Requirement already satisfied: munch<3.0.0,>=2.3.0 in /usr/local/lib/python3.7/dist-packages (from datapane) (2.5.0)\n",
            "Requirement already satisfied: stringcase<2.0.0,>=1.2.0 in /usr/local/lib/python3.7/dist-packages (from datapane) (1.2.0)\n",
            "Requirement already satisfied: pydantic<2.0.0,>=1.6.0 in /usr/local/lib/python3.7/dist-packages (from datapane) (1.9.0)\n",
            "Requirement already satisfied: vega-datasets<1.0.0,>=0.9.0 in /usr/local/lib/python3.7/dist-packages (from datapane) (0.9.0)\n",
            "Requirement already satisfied: PyYAML<7.0.0,>=6.0.0 in /usr/local/lib/python3.7/dist-packages (from datapane) (6.0)\n",
            "Requirement already satisfied: importlib_resources<6.0.0,>=3.0.0 in /usr/local/lib/python3.7/dist-packages (from datapane) (5.4.0)\n",
            "Requirement already satisfied: numpy in /usr/local/lib/python3.7/dist-packages (from altair<5.0.0,>=4.0.0->datapane) (1.21.5)\n",
            "Requirement already satisfied: entrypoints in /usr/local/lib/python3.7/dist-packages (from altair<5.0.0,>=4.0.0->datapane) (0.4)\n",
            "Requirement already satisfied: six in /usr/local/lib/python3.7/dist-packages (from datacommons<2.0.0,>=1.4.3->datapane) (1.15.0)\n",
            "Requirement already satisfied: orderedmultidict>=1.0.1 in /usr/local/lib/python3.7/dist-packages (from furl<3.0.0,>=2.0.0->datapane) (1.0.1)\n",
            "Requirement already satisfied: attrs in /usr/local/lib/python3.7/dist-packages (from glom<21.0.0,>=20.5.0->datapane) (21.4.0)\n",
            "Requirement already satisfied: face>=20.1.0 in /usr/local/lib/python3.7/dist-packages (from glom<21.0.0,>=20.5.0->datapane) (20.1.1)\n",
            "Requirement already satisfied: zipp>=3.1.0 in /usr/local/lib/python3.7/dist-packages (from importlib_resources<6.0.0,>=3.0.0->datapane) (3.7.0)\n",
            "Requirement already satisfied: MarkupSafe>=0.23 in /usr/local/lib/python3.7/dist-packages (from Jinja2<4.0.0,>=2.11.0->datapane) (2.0.1)\n",
            "Requirement already satisfied: pyrsistent!=0.17.0,!=0.17.1,!=0.17.2,>=0.14.0 in /usr/local/lib/python3.7/dist-packages (from jsonschema<5.0.0,>=3.2.0->datapane) (0.18.1)\n",
            "Requirement already satisfied: importlib-metadata in /usr/local/lib/python3.7/dist-packages (from jsonschema<5.0.0,>=3.2.0->datapane) (4.11.0)\n",
            "Requirement already satisfied: typing-extensions in /usr/local/lib/python3.7/dist-packages (from jsonschema<5.0.0,>=3.2.0->datapane) (3.10.0.2)\n",
            "Requirement already satisfied: pandocfilters>=1.4.1 in /usr/local/lib/python3.7/dist-packages (from nbconvert<7.0.0,>=5.6.1->datapane) (1.5.0)\n",
            "Requirement already satisfied: traitlets>=4.2 in /usr/local/lib/python3.7/dist-packages (from nbconvert<7.0.0,>=5.6.1->datapane) (5.1.1)\n",
            "Requirement already satisfied: jupyter-core in /usr/local/lib/python3.7/dist-packages (from nbconvert<7.0.0,>=5.6.1->datapane) (4.9.1)\n",
            "Requirement already satisfied: bleach in /usr/local/lib/python3.7/dist-packages (from nbconvert<7.0.0,>=5.6.1->datapane) (4.1.0)\n",
            "Requirement already satisfied: nbformat>=4.4 in /usr/local/lib/python3.7/dist-packages (from nbconvert<7.0.0,>=5.6.1->datapane) (5.1.3)\n",
            "Requirement already satisfied: pygments in /usr/local/lib/python3.7/dist-packages (from nbconvert<7.0.0,>=5.6.1->datapane) (2.6.1)\n",
            "Requirement already satisfied: testpath in /usr/local/lib/python3.7/dist-packages (from nbconvert<7.0.0,>=5.6.1->datapane) (0.5.0)\n",
            "Requirement already satisfied: defusedxml in /usr/local/lib/python3.7/dist-packages (from nbconvert<7.0.0,>=5.6.1->datapane) (0.7.1)\n",
            "Requirement already satisfied: mistune<2,>=0.8.1 in /usr/local/lib/python3.7/dist-packages (from nbconvert<7.0.0,>=5.6.1->datapane) (0.8.4)\n",
            "Requirement already satisfied: ipython-genutils in /usr/local/lib/python3.7/dist-packages (from nbformat>=4.4->nbconvert<7.0.0,>=5.6.1->datapane) (0.2.0)\n",
            "Requirement already satisfied: pyparsing!=3.0.5,>=2.0.2 in /usr/local/lib/python3.7/dist-packages (from packaging<22.0.0,>=20.0.0->datapane) (3.0.7)\n",
            "Requirement already satisfied: python-dateutil>=2.7.3 in /usr/local/lib/python3.7/dist-packages (from pandas<2.0.0,>=1.1.0->datapane) (2.8.2)\n",
            "Requirement already satisfied: pytz>=2017.3 in /usr/local/lib/python3.7/dist-packages (from pandas<2.0.0,>=1.1.0->datapane) (2018.9)\n",
            "Requirement already satisfied: backoff<2.0.0,>=1.10.0 in /usr/local/lib/python3.7/dist-packages (from posthog<2.0.0,>=1.4.0->datapane) (1.11.1)\n",
            "Requirement already satisfied: monotonic>=1.5 in /usr/local/lib/python3.7/dist-packages (from posthog<2.0.0,>=1.4.0->datapane) (1.6)\n",
            "Requirement already satisfied: certifi>=2017.4.17 in /usr/local/lib/python3.7/dist-packages (from requests<3.0.0,>=2.19.0->datapane) (2021.10.8)\n",
            "Requirement already satisfied: idna<3,>=2.5 in /usr/local/lib/python3.7/dist-packages (from requests<3.0.0,>=2.19.0->datapane) (2.10)\n",
            "Requirement already satisfied: urllib3!=1.25.0,!=1.25.1,<1.26,>=1.21.1 in /usr/local/lib/python3.7/dist-packages (from requests<3.0.0,>=2.19.0->datapane) (1.24.3)\n",
            "Requirement already satisfied: decorator>=3.4.0 in /usr/local/lib/python3.7/dist-packages (from validators<0.19.0,>=0.18.0->datapane) (4.4.2)\n",
            "Requirement already satisfied: webencodings in /usr/local/lib/python3.7/dist-packages (from bleach->nbconvert<7.0.0,>=5.6.1->datapane) (0.5.1)\n"
          ]
        }
      ]
    },
    {
      "cell_type": "markdown",
      "metadata": {
        "id": "BpZkLN3Tuqlq"
      },
      "source": [
        "# IMPORTACION DE LIBRERIAS"
      ]
    },
    {
      "cell_type": "code",
      "execution_count": 8,
      "metadata": {
        "colab": {
          "base_uri": "https://localhost:8080/"
        },
        "id": "Ych9GyovJ6ue",
        "outputId": "642abd32-5169-4a4d-ea93-f55c51537d64"
      },
      "outputs": [
        {
          "output_type": "stream",
          "name": "stdout",
          "text": [
            "LIBRERIAS CORRECTAMENTE IMPORTADAS\n"
          ]
        }
      ],
      "source": [
        "import pandas as pd\n",
        "import numpy as np\n",
        "from numpy import array\n",
        "from sklearn.preprocessing import MinMaxScaler\n",
        "from keras.models import Sequential\n",
        "from keras.layers import LSTM,Dense,RepeatVector,TimeDistributed, GRU, Dense, Dropout\n",
        "from tensorflow.keras.utils import plot_model\n",
        "from tensorflow.keras.callbacks import EarlyStopping, ReduceLROnPlateau, ModelCheckpoint\n",
        "import tensorflow as tf\n",
        "from tensorflow.keras import Sequential\n",
        "from tensorflow.keras.layers import LSTM, Dense, Dropout, TimeDistributed, Conv1D, MaxPooling1D, Flatten, Bidirectional, Input, Flatten, Activation, Reshape, RepeatVector, Concatenate\n",
        "from tensorflow.keras.models import Model\n",
        "from tensorflow.keras.utils import plot_model\n",
        "from tensorflow import keras\n",
        "#Librerias para graficos\n",
        "import plotly\n",
        "#import plotly.express as px\n",
        "import plotly.graph_objects as go\n",
        "import matplotlib.pyplot as plt\n",
        "from matplotlib import pyplot\n",
        "#Manejo de fechas\n",
        "from datetime import datetime\n",
        "from pandas.tseries.offsets import MonthBegin,MonthEnd\n",
        "\n",
        "print('LIBRERIAS CORRECTAMENTE IMPORTADAS')"
      ]
    },
    {
      "cell_type": "markdown",
      "metadata": {
        "id": "0KML4w9Pu6Bj"
      },
      "source": [
        "##Lectura de datos"
      ]
    },
    {
      "cell_type": "code",
      "execution_count": 9,
      "metadata": {
        "id": "TW3wMEX2KC_w",
        "colab": {
          "base_uri": "https://localhost:8080/",
          "height": 228
        },
        "outputId": "e81f5e39-ead3-4189-c45d-4fd3e88bb6ca"
      },
      "outputs": [
        {
          "output_type": "execute_result",
          "data": {
            "text/html": [
              "\n",
              "  <div id=\"df-dd37bf4f-6770-40fd-b31a-eae77b5ca291\">\n",
              "    <div class=\"colab-df-container\">\n",
              "      <div>\n",
              "<style scoped>\n",
              "    .dataframe tbody tr th:only-of-type {\n",
              "        vertical-align: middle;\n",
              "    }\n",
              "\n",
              "    .dataframe tbody tr th {\n",
              "        vertical-align: top;\n",
              "    }\n",
              "\n",
              "    .dataframe thead th {\n",
              "        text-align: right;\n",
              "    }\n",
              "</style>\n",
              "<table border=\"1\" class=\"dataframe\">\n",
              "  <thead>\n",
              "    <tr style=\"text-align: right;\">\n",
              "      <th></th>\n",
              "      <th>Date</th>\n",
              "      <th>Jimmy Magguill</th>\n",
              "      <th>Michael Hermantrout</th>\n",
              "      <th>Kim Yanza</th>\n",
              "      <th>Israel Canzas</th>\n",
              "      <th>Pablo Mendieta</th>\n",
              "      <th>Dominic Astudillo</th>\n",
              "      <th>Ximena Robles</th>\n",
              "      <th>Angus Young</th>\n",
              "      <th>Anderson Tay</th>\n",
              "      <th>Saudi Arabia(SAR)</th>\n",
              "      <th>Indonesia(IDR)</th>\n",
              "      <th>United Arab Emirates(AED)</th>\n",
              "      <th>Thailand(THB)</th>\n",
              "      <th>Vietnam(VND)</th>\n",
              "      <th>Egypt(EGP)</th>\n",
              "      <th>South Korean(KRW)</th>\n",
              "      <th>Australia(AUD)</th>\n",
              "      <th>South Africa(ZAR)</th>\n",
              "    </tr>\n",
              "  </thead>\n",
              "  <tbody>\n",
              "    <tr>\n",
              "      <th>0</th>\n",
              "      <td>1990-01-31</td>\n",
              "      <td>415.1</td>\n",
              "      <td>321.3</td>\n",
              "      <td>59972.3</td>\n",
              "      <td>247.1</td>\n",
              "      <td>492.0</td>\n",
              "      <td>623.8</td>\n",
              "      <td>7041.0</td>\n",
              "      <td>1930.2</td>\n",
              "      <td>1.0</td>\n",
              "      <td>1557.4</td>\n",
              "      <td>745400.5</td>\n",
              "      <td>1524.9</td>\n",
              "      <td>10623.3</td>\n",
              "      <td>1867170.0</td>\n",
              "      <td>1059.9</td>\n",
              "      <td>283240.8</td>\n",
              "      <td>540.0</td>\n",
              "      <td>1063.2</td>\n",
              "    </tr>\n",
              "    <tr>\n",
              "      <th>1</th>\n",
              "      <td>1990-02-28</td>\n",
              "      <td>407.7</td>\n",
              "      <td>316.2</td>\n",
              "      <td>60672.5</td>\n",
              "      <td>241.2</td>\n",
              "      <td>485.7</td>\n",
              "      <td>607.9</td>\n",
              "      <td>6957.4</td>\n",
              "      <td>1936.8</td>\n",
              "      <td>1.0</td>\n",
              "      <td>1527.7</td>\n",
              "      <td>747408.3</td>\n",
              "      <td>1496.0</td>\n",
              "      <td>10494.1</td>\n",
              "      <td>1853648.1</td>\n",
              "      <td>1085.6</td>\n",
              "      <td>282356.4</td>\n",
              "      <td>534.1</td>\n",
              "      <td>1040.4</td>\n",
              "    </tr>\n",
              "  </tbody>\n",
              "</table>\n",
              "</div>\n",
              "      <button class=\"colab-df-convert\" onclick=\"convertToInteractive('df-dd37bf4f-6770-40fd-b31a-eae77b5ca291')\"\n",
              "              title=\"Convert this dataframe to an interactive table.\"\n",
              "              style=\"display:none;\">\n",
              "        \n",
              "  <svg xmlns=\"http://www.w3.org/2000/svg\" height=\"24px\"viewBox=\"0 0 24 24\"\n",
              "       width=\"24px\">\n",
              "    <path d=\"M0 0h24v24H0V0z\" fill=\"none\"/>\n",
              "    <path d=\"M18.56 5.44l.94 2.06.94-2.06 2.06-.94-2.06-.94-.94-2.06-.94 2.06-2.06.94zm-11 1L8.5 8.5l.94-2.06 2.06-.94-2.06-.94L8.5 2.5l-.94 2.06-2.06.94zm10 10l.94 2.06.94-2.06 2.06-.94-2.06-.94-.94-2.06-.94 2.06-2.06.94z\"/><path d=\"M17.41 7.96l-1.37-1.37c-.4-.4-.92-.59-1.43-.59-.52 0-1.04.2-1.43.59L10.3 9.45l-7.72 7.72c-.78.78-.78 2.05 0 2.83L4 21.41c.39.39.9.59 1.41.59.51 0 1.02-.2 1.41-.59l7.78-7.78 2.81-2.81c.8-.78.8-2.07 0-2.86zM5.41 20L4 18.59l7.72-7.72 1.47 1.35L5.41 20z\"/>\n",
              "  </svg>\n",
              "      </button>\n",
              "      \n",
              "  <style>\n",
              "    .colab-df-container {\n",
              "      display:flex;\n",
              "      flex-wrap:wrap;\n",
              "      gap: 12px;\n",
              "    }\n",
              "\n",
              "    .colab-df-convert {\n",
              "      background-color: #E8F0FE;\n",
              "      border: none;\n",
              "      border-radius: 50%;\n",
              "      cursor: pointer;\n",
              "      display: none;\n",
              "      fill: #1967D2;\n",
              "      height: 32px;\n",
              "      padding: 0 0 0 0;\n",
              "      width: 32px;\n",
              "    }\n",
              "\n",
              "    .colab-df-convert:hover {\n",
              "      background-color: #E2EBFA;\n",
              "      box-shadow: 0px 1px 2px rgba(60, 64, 67, 0.3), 0px 1px 3px 1px rgba(60, 64, 67, 0.15);\n",
              "      fill: #174EA6;\n",
              "    }\n",
              "\n",
              "    [theme=dark] .colab-df-convert {\n",
              "      background-color: #3B4455;\n",
              "      fill: #D2E3FC;\n",
              "    }\n",
              "\n",
              "    [theme=dark] .colab-df-convert:hover {\n",
              "      background-color: #434B5C;\n",
              "      box-shadow: 0px 1px 3px 1px rgba(0, 0, 0, 0.15);\n",
              "      filter: drop-shadow(0px 1px 2px rgba(0, 0, 0, 0.3));\n",
              "      fill: #FFFFFF;\n",
              "    }\n",
              "  </style>\n",
              "\n",
              "      <script>\n",
              "        const buttonEl =\n",
              "          document.querySelector('#df-dd37bf4f-6770-40fd-b31a-eae77b5ca291 button.colab-df-convert');\n",
              "        buttonEl.style.display =\n",
              "          google.colab.kernel.accessAllowed ? 'block' : 'none';\n",
              "\n",
              "        async function convertToInteractive(key) {\n",
              "          const element = document.querySelector('#df-dd37bf4f-6770-40fd-b31a-eae77b5ca291');\n",
              "          const dataTable =\n",
              "            await google.colab.kernel.invokeFunction('convertToInteractive',\n",
              "                                                     [key], {});\n",
              "          if (!dataTable) return;\n",
              "\n",
              "          const docLinkHtml = 'Like what you see? Visit the ' +\n",
              "            '<a target=\"_blank\" href=https://colab.research.google.com/notebooks/data_table.ipynb>data table notebook</a>'\n",
              "            + ' to learn more about interactive tables.';\n",
              "          element.innerHTML = '';\n",
              "          dataTable['output_type'] = 'display_data';\n",
              "          await google.colab.output.renderOutput(dataTable, element);\n",
              "          const docLink = document.createElement('div');\n",
              "          docLink.innerHTML = docLinkHtml;\n",
              "          element.appendChild(docLink);\n",
              "        }\n",
              "      </script>\n",
              "    </div>\n",
              "  </div>\n",
              "  "
            ],
            "text/plain": [
              "        Date  Jimmy Magguill  ...  Australia(AUD)  South Africa(ZAR)\n",
              "0 1990-01-31           415.1  ...           540.0             1063.2\n",
              "1 1990-02-28           407.7  ...           534.1             1040.4\n",
              "\n",
              "[2 rows x 19 columns]"
            ]
          },
          "metadata": {},
          "execution_count": 9
        }
      ],
      "source": [
        "df_cpu_pivot = pd.read_csv('/content/1990-2021.csv')\n",
        "df_cpu_pivot = df_cpu_pivot.rename(columns={'United States(USD)':'Jimmy Magguill','Europe(EUR)':'Michael Hermantrout','Japan(JPY)':'Kim Yanza','United Kingdom(GBP)':'Israel Canzas','Canada(CAD)':'Pablo Mendieta','Switzerland(CHF)':'Dominic Astudillo','India(INR)':'Ximena Robles','China(CNY)':'Angus Young','Turkey(TRY)':'Anderson Tay'})\n",
        "df_cpu_pivot['Date'] = pd.to_datetime(df_cpu_pivot['Date'])\n",
        "df_cpu_pivot.head(2)\n"
      ]
    },
    {
      "cell_type": "code",
      "execution_count": 10,
      "metadata": {
        "id": "RZbW0Ws0FeWu",
        "colab": {
          "base_uri": "https://localhost:8080/"
        },
        "outputId": "ea95e2ce-989e-4532-dd4a-2b1a27e8b2e3"
      },
      "outputs": [
        {
          "output_type": "execute_result",
          "data": {
            "text/plain": [
              "(379, 19)"
            ]
          },
          "metadata": {},
          "execution_count": 10
        }
      ],
      "source": [
        "df_cpu_pivot['Date'] = pd.to_datetime(df_cpu_pivot['Date'])\n",
        "df_cpu_pivot.head(2)\n",
        "df_cpu_pivot.shape"
      ]
    },
    {
      "cell_type": "code",
      "source": [
        "import random\n",
        "sectores=['Totoracocha','Ricaurte']\n",
        "dict={}\n",
        "for name in df_cpu_pivot.columns:\n",
        "  if( name!= 'Date'):\n",
        "    dict.update({name:random.choice(sectores)})\n",
        "dict"
      ],
      "metadata": {
        "id": "31ew0eHdSN6X",
        "colab": {
          "base_uri": "https://localhost:8080/"
        },
        "outputId": "d4ba2663-7876-4799-ecee-d6823ac436e9"
      },
      "execution_count": 11,
      "outputs": [
        {
          "output_type": "execute_result",
          "data": {
            "text/plain": [
              "{'Anderson Tay': 'Ricaurte',\n",
              " 'Angus Young': 'Totoracocha',\n",
              " 'Australia(AUD)': 'Totoracocha',\n",
              " 'Dominic Astudillo': 'Totoracocha',\n",
              " 'Egypt(EGP)': 'Totoracocha',\n",
              " 'Indonesia(IDR)': 'Totoracocha',\n",
              " 'Israel Canzas': 'Ricaurte',\n",
              " 'Jimmy Magguill': 'Ricaurte',\n",
              " 'Kim Yanza': 'Totoracocha',\n",
              " 'Michael Hermantrout': 'Totoracocha',\n",
              " 'Pablo Mendieta': 'Totoracocha',\n",
              " 'Saudi Arabia(SAR)': 'Ricaurte',\n",
              " 'South Africa(ZAR)': 'Totoracocha',\n",
              " 'South Korean(KRW)': 'Totoracocha',\n",
              " 'Thailand(THB)': 'Totoracocha',\n",
              " 'United Arab Emirates(AED)': 'Totoracocha',\n",
              " 'Vietnam(VND)': 'Ricaurte',\n",
              " 'Ximena Robles': 'Ricaurte'}"
            ]
          },
          "metadata": {},
          "execution_count": 11
        }
      ]
    },
    {
      "cell_type": "markdown",
      "metadata": {
        "id": "vGq_GPi-wncr"
      },
      "source": [
        "# Data Exploration"
      ]
    },
    {
      "cell_type": "code",
      "execution_count": 12,
      "metadata": {
        "id": "aKAl5Kl6wvHx",
        "colab": {
          "base_uri": "https://localhost:8080/"
        },
        "outputId": "bf234bd3-f3c7-496f-95cd-46edefc4e1b7"
      },
      "outputs": [
        {
          "output_type": "stream",
          "name": "stdout",
          "text": [
            "Fecha de inicio : 1990-01-31 00:00:00 \n",
            "  Fecha de fin :  2021-07-30 00:00:00\n"
          ]
        }
      ],
      "source": [
        "print('Fecha de inicio :',df_cpu_pivot.Date.min(),'\\n',' Fecha de fin : ',df_cpu_pivot.Date.max())"
      ]
    },
    {
      "cell_type": "code",
      "execution_count": 13,
      "metadata": {
        "id": "WsLqiLUtKGP-",
        "colab": {
          "base_uri": "https://localhost:8080/",
          "height": 542
        },
        "outputId": "55d8da25-4a1a-4dc1-eb90-1f3394066092"
      },
      "outputs": [
        {
          "output_type": "display_data",
          "data": {
            "text/html": [
              "<html>\n",
              "<head><meta charset=\"utf-8\" /></head>\n",
              "<body>\n",
              "    <div>            <script src=\"https://cdnjs.cloudflare.com/ajax/libs/mathjax/2.7.5/MathJax.js?config=TeX-AMS-MML_SVG\"></script><script type=\"text/javascript\">if (window.MathJax) {MathJax.Hub.Config({SVG: {font: \"STIX-Web\"}});}</script>                <script type=\"text/javascript\">window.PlotlyConfig = {MathJaxConfig: 'local'};</script>\n",
              "        <script src=\"https://cdn.plot.ly/plotly-2.8.3.min.js\"></script>                <div id=\"207b2dc0-7262-452d-b58c-d5af61af23e5\" class=\"plotly-graph-div\" style=\"height:525px; width:100%;\"></div>            <script type=\"text/javascript\">                                    window.PLOTLYENV=window.PLOTLYENV || {};                                    if (document.getElementById(\"207b2dc0-7262-452d-b58c-d5af61af23e5\")) {                    Plotly.newPlot(                        \"207b2dc0-7262-452d-b58c-d5af61af23e5\",                        [{\"mode\":\"lines\",\"name\":\"Jimmy Magguill\",\"x\":[\"1990-01-31T00:00:00\",\"1990-02-28T00:00:00\",\"1990-03-30T00:00:00\",\"1990-04-30T00:00:00\",\"1990-05-31T00:00:00\",\"1990-06-29T00:00:00\",\"1990-07-31T00:00:00\",\"1990-08-31T00:00:00\",\"1990-09-28T00:00:00\",\"1990-10-31T00:00:00\",\"1990-11-30T00:00:00\",\"1990-12-31T00:00:00\",\"1991-01-31T00:00:00\",\"1991-02-28T00:00:00\",\"1991-03-29T00:00:00\",\"1991-04-30T00:00:00\",\"1991-05-31T00:00:00\",\"1991-06-28T00:00:00\",\"1991-07-31T00:00:00\",\"1991-08-30T00:00:00\",\"1991-09-30T00:00:00\",\"1991-10-31T00:00:00\",\"1991-11-29T00:00:00\",\"1991-12-31T00:00:00\",\"1992-01-31T00:00:00\",\"1992-02-28T00:00:00\",\"1992-03-31T00:00:00\",\"1992-04-30T00:00:00\",\"1992-05-29T00:00:00\",\"1992-06-30T00:00:00\",\"1992-07-31T00:00:00\",\"1992-08-31T00:00:00\",\"1992-09-30T00:00:00\",\"1992-10-30T00:00:00\",\"1992-11-30T00:00:00\",\"1992-12-31T00:00:00\",\"1993-01-29T00:00:00\",\"1993-02-26T00:00:00\",\"1993-03-31T00:00:00\",\"1993-04-30T00:00:00\",\"1993-05-31T00:00:00\",\"1993-06-30T00:00:00\",\"1993-07-30T00:00:00\",\"1993-08-31T00:00:00\",\"1993-09-30T00:00:00\",\"1993-10-29T00:00:00\",\"1993-11-30T00:00:00\",\"1993-12-31T00:00:00\",\"1994-01-31T00:00:00\",\"1994-02-28T00:00:00\",\"1994-03-31T00:00:00\",\"1994-04-29T00:00:00\",\"1994-05-31T00:00:00\",\"1994-06-30T00:00:00\",\"1994-07-29T00:00:00\",\"1994-08-31T00:00:00\",\"1994-09-30T00:00:00\",\"1994-10-31T00:00:00\",\"1994-11-30T00:00:00\",\"1994-12-30T00:00:00\",\"1995-01-31T00:00:00\",\"1995-02-28T00:00:00\",\"1995-03-31T00:00:00\",\"1995-04-28T00:00:00\",\"1995-05-31T00:00:00\",\"1995-06-30T00:00:00\",\"1995-07-31T00:00:00\",\"1995-08-31T00:00:00\",\"1995-09-29T00:00:00\",\"1995-10-31T00:00:00\",\"1995-11-30T00:00:00\",\"1995-12-29T00:00:00\",\"1996-01-31T00:00:00\",\"1996-02-29T00:00:00\",\"1996-03-29T00:00:00\",\"1996-04-30T00:00:00\",\"1996-05-31T00:00:00\",\"1996-06-28T00:00:00\",\"1996-07-31T00:00:00\",\"1996-08-30T00:00:00\",\"1996-09-30T00:00:00\",\"1996-10-31T00:00:00\",\"1996-11-29T00:00:00\",\"1996-12-31T00:00:00\",\"1997-01-31T00:00:00\",\"1997-02-28T00:00:00\",\"1997-03-31T00:00:00\",\"1997-04-30T00:00:00\",\"1997-05-30T00:00:00\",\"1997-06-30T00:00:00\",\"1997-07-31T00:00:00\",\"1997-08-29T00:00:00\",\"1997-09-30T00:00:00\",\"1997-10-31T00:00:00\",\"1997-11-28T00:00:00\",\"1997-12-31T00:00:00\",\"1998-01-30T00:00:00\",\"1998-02-27T00:00:00\",\"1998-03-31T00:00:00\",\"1998-04-30T00:00:00\",\"1998-05-29T00:00:00\",\"1998-06-30T00:00:00\",\"1998-07-31T00:00:00\",\"1998-08-31T00:00:00\",\"1998-09-30T00:00:00\",\"1998-10-30T00:00:00\",\"1998-11-30T00:00:00\",\"1998-12-31T00:00:00\",\"1999-01-29T00:00:00\",\"1999-02-26T00:00:00\",\"1999-03-31T00:00:00\",\"1999-04-30T00:00:00\",\"1999-05-31T00:00:00\",\"1999-06-30T00:00:00\",\"1999-07-30T00:00:00\",\"1999-08-31T00:00:00\",\"1999-09-30T00:00:00\",\"1999-10-29T00:00:00\",\"1999-11-30T00:00:00\",\"1999-12-31T00:00:00\",\"2000-01-31T00:00:00\",\"2000-02-29T00:00:00\",\"2000-03-31T00:00:00\",\"2000-04-28T00:00:00\",\"2000-05-31T00:00:00\",\"2000-06-30T00:00:00\",\"2000-07-31T00:00:00\",\"2000-08-31T00:00:00\",\"2000-09-29T00:00:00\",\"2000-10-31T00:00:00\",\"2000-11-30T00:00:00\",\"2000-12-29T00:00:00\",\"2001-01-31T00:00:00\",\"2001-02-28T00:00:00\",\"2001-03-30T00:00:00\",\"2001-04-30T00:00:00\",\"2001-05-31T00:00:00\",\"2001-06-29T00:00:00\",\"2001-07-31T00:00:00\",\"2001-08-31T00:00:00\",\"2001-09-28T00:00:00\",\"2001-10-31T00:00:00\",\"2001-11-30T00:00:00\",\"2001-12-31T00:00:00\",\"2002-01-31T00:00:00\",\"2002-02-28T00:00:00\",\"2002-03-29T00:00:00\",\"2002-04-30T00:00:00\",\"2002-05-31T00:00:00\",\"2002-06-28T00:00:00\",\"2002-07-31T00:00:00\",\"2002-08-30T00:00:00\",\"2002-09-30T00:00:00\",\"2002-10-31T00:00:00\",\"2002-11-29T00:00:00\",\"2002-12-31T00:00:00\",\"2003-01-31T00:00:00\",\"2003-02-28T00:00:00\",\"2003-03-31T00:00:00\",\"2003-04-30T00:00:00\",\"2003-05-30T00:00:00\",\"2003-06-30T00:00:00\",\"2003-07-31T00:00:00\",\"2003-08-29T00:00:00\",\"2003-09-30T00:00:00\",\"2003-10-31T00:00:00\",\"2003-11-28T00:00:00\",\"2003-12-31T00:00:00\",\"2004-01-30T00:00:00\",\"2004-02-27T00:00:00\",\"2004-03-31T00:00:00\",\"2004-04-30T00:00:00\",\"2004-05-31T00:00:00\",\"2004-06-30T00:00:00\",\"2004-07-30T00:00:00\",\"2004-08-31T00:00:00\",\"2004-09-30T00:00:00\",\"2004-10-29T00:00:00\",\"2004-11-30T00:00:00\",\"2004-12-31T00:00:00\",\"2005-01-31T00:00:00\",\"2005-02-28T00:00:00\",\"2005-03-31T00:00:00\",\"2005-04-29T00:00:00\",\"2005-05-31T00:00:00\",\"2005-06-30T00:00:00\",\"2005-07-29T00:00:00\",\"2005-08-31T00:00:00\",\"2005-09-30T00:00:00\",\"2005-10-31T00:00:00\",\"2005-11-30T00:00:00\",\"2005-12-30T00:00:00\",\"2006-01-31T00:00:00\",\"2006-02-28T00:00:00\",\"2006-03-31T00:00:00\",\"2006-04-28T00:00:00\",\"2006-05-31T00:00:00\",\"2006-06-30T00:00:00\",\"2006-07-31T00:00:00\",\"2006-08-31T00:00:00\",\"2006-09-29T00:00:00\",\"2006-10-31T00:00:00\",\"2006-11-30T00:00:00\",\"2006-12-29T00:00:00\",\"2007-01-31T00:00:00\",\"2007-02-28T00:00:00\",\"2007-03-30T00:00:00\",\"2007-04-30T00:00:00\",\"2007-05-31T00:00:00\",\"2007-06-29T00:00:00\",\"2007-07-31T00:00:00\",\"2007-08-31T00:00:00\",\"2007-09-28T00:00:00\",\"2007-10-31T00:00:00\",\"2007-11-30T00:00:00\",\"2007-12-31T00:00:00\",\"2008-01-31T00:00:00\",\"2008-02-29T00:00:00\",\"2008-03-31T00:00:00\",\"2008-04-30T00:00:00\",\"2008-05-30T00:00:00\",\"2008-06-30T00:00:00\",\"2008-07-31T00:00:00\",\"2008-08-29T00:00:00\",\"2008-09-30T00:00:00\",\"2008-10-31T00:00:00\",\"2008-11-28T00:00:00\",\"2008-12-31T00:00:00\",\"2009-01-30T00:00:00\",\"2009-02-27T00:00:00\",\"2009-03-31T00:00:00\",\"2009-04-30T00:00:00\",\"2009-05-29T00:00:00\",\"2009-06-30T00:00:00\",\"2009-07-31T00:00:00\",\"2009-08-31T00:00:00\",\"2009-09-30T00:00:00\",\"2009-10-30T00:00:00\",\"2009-11-30T00:00:00\",\"2009-12-31T00:00:00\",\"2010-01-29T00:00:00\",\"2010-02-26T00:00:00\",\"2010-03-31T00:00:00\",\"2010-04-30T00:00:00\",\"2010-05-31T00:00:00\",\"2010-06-30T00:00:00\",\"2010-07-30T00:00:00\",\"2010-08-31T00:00:00\",\"2010-09-30T00:00:00\",\"2010-10-29T00:00:00\",\"2010-11-30T00:00:00\",\"2010-12-31T00:00:00\",\"2011-01-31T00:00:00\",\"2011-02-28T00:00:00\",\"2011-03-31T00:00:00\",\"2011-04-29T00:00:00\",\"2011-05-31T00:00:00\",\"2011-06-30T00:00:00\",\"2011-07-29T00:00:00\",\"2011-08-31T00:00:00\",\"2011-09-30T00:00:00\",\"2011-10-31T00:00:00\",\"2011-11-30T00:00:00\",\"2011-12-30T00:00:00\",\"2012-01-31T00:00:00\",\"2012-02-29T00:00:00\",\"2012-03-30T00:00:00\",\"2012-04-30T00:00:00\",\"2012-05-31T00:00:00\",\"2012-06-29T00:00:00\",\"2012-07-31T00:00:00\",\"2012-08-31T00:00:00\",\"2012-09-28T00:00:00\",\"2012-10-31T00:00:00\",\"2012-11-30T00:00:00\",\"2012-12-31T00:00:00\",\"2013-01-31T00:00:00\",\"2013-02-28T00:00:00\",\"2013-03-29T00:00:00\",\"2013-04-30T00:00:00\",\"2013-05-31T00:00:00\",\"2013-06-28T00:00:00\",\"2013-07-31T00:00:00\",\"2013-08-30T00:00:00\",\"2013-09-30T00:00:00\",\"2013-10-31T00:00:00\",\"2013-11-29T00:00:00\",\"2013-12-31T00:00:00\",\"2014-01-31T00:00:00\",\"2014-02-28T00:00:00\",\"2014-03-31T00:00:00\",\"2014-04-30T00:00:00\",\"2014-05-30T00:00:00\",\"2014-06-30T00:00:00\",\"2014-07-31T00:00:00\",\"2014-08-29T00:00:00\",\"2014-09-30T00:00:00\",\"2014-10-31T00:00:00\",\"2014-11-28T00:00:00\",\"2014-12-31T00:00:00\",\"2015-01-30T00:00:00\",\"2015-02-27T00:00:00\",\"2015-03-31T00:00:00\",\"2015-04-30T00:00:00\",\"2015-05-29T00:00:00\",\"2015-06-30T00:00:00\",\"2015-07-31T00:00:00\",\"2015-08-31T00:00:00\",\"2015-09-30T00:00:00\",\"2015-10-30T00:00:00\",\"2015-11-30T00:00:00\",\"2015-12-31T00:00:00\",\"2016-01-29T00:00:00\",\"2016-02-29T00:00:00\",\"2016-03-31T00:00:00\",\"2016-04-29T00:00:00\",\"2016-05-31T00:00:00\",\"2016-06-30T00:00:00\",\"2016-07-29T00:00:00\",\"2016-08-31T00:00:00\",\"2016-09-30T00:00:00\",\"2016-10-31T00:00:00\",\"2016-11-30T00:00:00\",\"2016-12-30T00:00:00\",\"2017-01-31T00:00:00\",\"2017-02-28T00:00:00\",\"2017-03-31T00:00:00\",\"2017-04-28T00:00:00\",\"2017-05-31T00:00:00\",\"2017-06-30T00:00:00\",\"2017-07-31T00:00:00\",\"2017-08-31T00:00:00\",\"2017-09-29T00:00:00\",\"2017-10-31T00:00:00\",\"2017-11-30T00:00:00\",\"2017-12-29T00:00:00\",\"2018-01-31T00:00:00\",\"2018-02-28T00:00:00\",\"2018-03-30T00:00:00\",\"2018-04-30T00:00:00\",\"2018-05-31T00:00:00\",\"2018-06-29T00:00:00\",\"2018-07-31T00:00:00\",\"2018-08-31T00:00:00\",\"2018-09-28T00:00:00\",\"2018-10-31T00:00:00\",\"2018-11-30T00:00:00\",\"2018-12-31T00:00:00\",\"2019-01-31T00:00:00\",\"2019-02-28T00:00:00\",\"2019-03-29T00:00:00\",\"2019-04-30T00:00:00\",\"2019-05-31T00:00:00\",\"2019-06-28T00:00:00\",\"2019-07-31T00:00:00\",\"2019-08-30T00:00:00\",\"2019-09-30T00:00:00\",\"2019-10-31T00:00:00\",\"2019-11-29T00:00:00\",\"2019-12-31T00:00:00\",\"2020-01-31T00:00:00\",\"2020-02-28T00:00:00\",\"2020-03-31T00:00:00\",\"2020-04-30T00:00:00\",\"2020-05-29T00:00:00\",\"2020-06-30T00:00:00\",\"2020-07-31T00:00:00\",\"2020-08-31T00:00:00\",\"2020-09-30T00:00:00\",\"2020-10-30T00:00:00\",\"2020-11-30T00:00:00\",\"2020-12-31T00:00:00\",\"2021-01-29T00:00:00\",\"2021-02-26T00:00:00\",\"2021-03-31T00:00:00\",\"2021-04-30T00:00:00\",\"2021-05-31T00:00:00\",\"2021-06-30T00:00:00\",\"2021-07-30T00:00:00\"],\"y\":[415.1,407.7,368.5,367.8,363.1,352.2,372.3,387.8,408.4,379.5,384.9,386.2,366.0,362.7,355.7,357.8,360.4,368.4,362.9,347.4,354.9,357.5,366.3,353.2,354.1,353.1,341.7,336.4,337.5,343.4,357.9,340.0,349.0,339.3,334.2,332.9,330.5,327.6,337.8,354.3,377.5,378.5,401.8,371.6,355.5,369.6,370.9,391.8,377.9,381.6,389.2,376.5,387.6,388.3,384.0,385.8,394.9,383.9,383.1,383.3,374.9,376.4,392.0,389.8,384.3,387.1,383.4,382.4,384.0,382.7,387.8,387.0,405.6,400.7,396.4,391.3,390.6,382.0,385.3,386.5,379.0,379.5,371.3,369.3,345.5,358.6,348.2,340.2,345.6,334.6,326.4,325.4,332.1,311.4,296.8,290.2,304.9,297.4,301.0,310.7,293.6,296.3,288.9,273.4,293.9,292.3,294.7,287.8,285.4,287.1,279.5,286.6,268.6,261.0,255.6,254.8,299.0,299.1,291.4,290.3,283.3,293.7,276.8,275.1,272.3,288.2,276.8,277.0,273.7,264.5,269.1,274.5,264.5,266.7,257.7,263.2,267.5,270.6,265.9,273.0,293.1,278.8,275.5,276.5,282.3,296.9,301.4,308.2,326.6,318.5,304.7,312.8,323.7,316.9,319.1,347.2,367.5,347.5,334.9,336.8,361.4,346.0,354.8,375.6,388.0,386.3,398.4,416.3,399.8,395.9,423.7,388.5,393.3,395.8,391.4,407.3,415.7,425.6,453.4,435.6,422.2,435.5,427.5,435.7,414.5,437.1,429.0,433.3,473.3,470.8,495.7,513.0,568.8,556.0,582.0,644.0,653.0,613.5,632.5,623.5,599.3,603.8,646.7,632.0,650.5,664.2,661.8,677.0,659.1,650.5,665.5,672.0,743.0,789.5,783.5,833.8,923.3,971.5,933.5,871.0,885.8,930.3,918.0,833.0,884.5,730.8,814.5,869.8,919.5,952.0,916.5,883.3,975.5,934.5,939.0,955.5,995.8,1040.0,1175.8,1087.5,1078.5,1108.3,1115.5,1179.3,1207.5,1244.0,1169.0,1246.0,1307.0,1346.8,1383.5,1405.5,1327.0,1411.0,1439.0,1535.5,1536.5,1505.5,1628.5,1813.5,1620.0,1722.0,1746.0,1531.0,1744.0,1770.0,1662.5,1651.3,1558.0,1598.5,1622.0,1648.5,1776.0,1719.0,1726.0,1657.5,1664.8,1588.5,1598.3,1469.0,1394.5,1192.0,1314.5,1394.8,1326.5,1324.0,1253.0,1204.5,1251.0,1326.5,1291.8,1288.5,1250.5,1315.0,1285.3,1285.8,1216.5,1164.3,1182.8,1206.0,1260.3,1214.0,1187.0,1180.3,1191.4,1171.0,1098.4,1135.0,1114.0,1142.4,1061.9,1060.0,1111.8,1234.9,1237.0,1285.7,1212.1,1320.8,1342.0,1309.3,1322.5,1272.0,1178.1,1145.9,1212.8,1255.6,1244.9,1266.5,1266.2,1242.3,1267.6,1311.8,1283.1,1270.2,1280.2,1291.0,1345.1,1317.9,1323.9,1313.2,1305.4,1250.5,1221.0,1202.5,1187.3,1215.0,1217.6,1279.0,1323.3,1319.2,1295.4,1282.3,1295.6,1409.0,1427.6,1528.4,1485.3,1511.0,1460.2,1514.8,1584.2,1609.9,1609.0,1702.8,1728.7,1768.1,1964.9,1957.4,1886.9,1881.9,1762.6,1887.6,1863.8,1742.9,1691.1,1767.7,1900.0,1763.2,1825.8],\"type\":\"scatter\"},{\"mode\":\"lines\",\"name\":\"Michael Hermantrout\",\"x\":[\"1990-01-31T00:00:00\",\"1990-02-28T00:00:00\",\"1990-03-30T00:00:00\",\"1990-04-30T00:00:00\",\"1990-05-31T00:00:00\",\"1990-06-29T00:00:00\",\"1990-07-31T00:00:00\",\"1990-08-31T00:00:00\",\"1990-09-28T00:00:00\",\"1990-10-31T00:00:00\",\"1990-11-30T00:00:00\",\"1990-12-31T00:00:00\",\"1991-01-31T00:00:00\",\"1991-02-28T00:00:00\",\"1991-03-29T00:00:00\",\"1991-04-30T00:00:00\",\"1991-05-31T00:00:00\",\"1991-06-28T00:00:00\",\"1991-07-31T00:00:00\",\"1991-08-30T00:00:00\",\"1991-09-30T00:00:00\",\"1991-10-31T00:00:00\",\"1991-11-29T00:00:00\",\"1991-12-31T00:00:00\",\"1992-01-31T00:00:00\",\"1992-02-28T00:00:00\",\"1992-03-31T00:00:00\",\"1992-04-30T00:00:00\",\"1992-05-29T00:00:00\",\"1992-06-30T00:00:00\",\"1992-07-31T00:00:00\",\"1992-08-31T00:00:00\",\"1992-09-30T00:00:00\",\"1992-10-30T00:00:00\",\"1992-11-30T00:00:00\",\"1992-12-31T00:00:00\",\"1993-01-29T00:00:00\",\"1993-02-26T00:00:00\",\"1993-03-31T00:00:00\",\"1993-04-30T00:00:00\",\"1993-05-31T00:00:00\",\"1993-06-30T00:00:00\",\"1993-07-30T00:00:00\",\"1993-08-31T00:00:00\",\"1993-09-30T00:00:00\",\"1993-10-29T00:00:00\",\"1993-11-30T00:00:00\",\"1993-12-31T00:00:00\",\"1994-01-31T00:00:00\",\"1994-02-28T00:00:00\",\"1994-03-31T00:00:00\",\"1994-04-29T00:00:00\",\"1994-05-31T00:00:00\",\"1994-06-30T00:00:00\",\"1994-07-29T00:00:00\",\"1994-08-31T00:00:00\",\"1994-09-30T00:00:00\",\"1994-10-31T00:00:00\",\"1994-11-30T00:00:00\",\"1994-12-30T00:00:00\",\"1995-01-31T00:00:00\",\"1995-02-28T00:00:00\",\"1995-03-31T00:00:00\",\"1995-04-28T00:00:00\",\"1995-05-31T00:00:00\",\"1995-06-30T00:00:00\",\"1995-07-31T00:00:00\",\"1995-08-31T00:00:00\",\"1995-09-29T00:00:00\",\"1995-10-31T00:00:00\",\"1995-11-30T00:00:00\",\"1995-12-29T00:00:00\",\"1996-01-31T00:00:00\",\"1996-02-29T00:00:00\",\"1996-03-29T00:00:00\",\"1996-04-30T00:00:00\",\"1996-05-31T00:00:00\",\"1996-06-28T00:00:00\",\"1996-07-31T00:00:00\",\"1996-08-30T00:00:00\",\"1996-09-30T00:00:00\",\"1996-10-31T00:00:00\",\"1996-11-29T00:00:00\",\"1996-12-31T00:00:00\",\"1997-01-31T00:00:00\",\"1997-02-28T00:00:00\",\"1997-03-31T00:00:00\",\"1997-04-30T00:00:00\",\"1997-05-30T00:00:00\",\"1997-06-30T00:00:00\",\"1997-07-31T00:00:00\",\"1997-08-29T00:00:00\",\"1997-09-30T00:00:00\",\"1997-10-31T00:00:00\",\"1997-11-28T00:00:00\",\"1997-12-31T00:00:00\",\"1998-01-30T00:00:00\",\"1998-02-27T00:00:00\",\"1998-03-31T00:00:00\",\"1998-04-30T00:00:00\",\"1998-05-29T00:00:00\",\"1998-06-30T00:00:00\",\"1998-07-31T00:00:00\",\"1998-08-31T00:00:00\",\"1998-09-30T00:00:00\",\"1998-10-30T00:00:00\",\"1998-11-30T00:00:00\",\"1998-12-31T00:00:00\",\"1999-01-29T00:00:00\",\"1999-02-26T00:00:00\",\"1999-03-31T00:00:00\",\"1999-04-30T00:00:00\",\"1999-05-31T00:00:00\",\"1999-06-30T00:00:00\",\"1999-07-30T00:00:00\",\"1999-08-31T00:00:00\",\"1999-09-30T00:00:00\",\"1999-10-29T00:00:00\",\"1999-11-30T00:00:00\",\"1999-12-31T00:00:00\",\"2000-01-31T00:00:00\",\"2000-02-29T00:00:00\",\"2000-03-31T00:00:00\",\"2000-04-28T00:00:00\",\"2000-05-31T00:00:00\",\"2000-06-30T00:00:00\",\"2000-07-31T00:00:00\",\"2000-08-31T00:00:00\",\"2000-09-29T00:00:00\",\"2000-10-31T00:00:00\",\"2000-11-30T00:00:00\",\"2000-12-29T00:00:00\",\"2001-01-31T00:00:00\",\"2001-02-28T00:00:00\",\"2001-03-30T00:00:00\",\"2001-04-30T00:00:00\",\"2001-05-31T00:00:00\",\"2001-06-29T00:00:00\",\"2001-07-31T00:00:00\",\"2001-08-31T00:00:00\",\"2001-09-28T00:00:00\",\"2001-10-31T00:00:00\",\"2001-11-30T00:00:00\",\"2001-12-31T00:00:00\",\"2002-01-31T00:00:00\",\"2002-02-28T00:00:00\",\"2002-03-29T00:00:00\",\"2002-04-30T00:00:00\",\"2002-05-31T00:00:00\",\"2002-06-28T00:00:00\",\"2002-07-31T00:00:00\",\"2002-08-30T00:00:00\",\"2002-09-30T00:00:00\",\"2002-10-31T00:00:00\",\"2002-11-29T00:00:00\",\"2002-12-31T00:00:00\",\"2003-01-31T00:00:00\",\"2003-02-28T00:00:00\",\"2003-03-31T00:00:00\",\"2003-04-30T00:00:00\",\"2003-05-30T00:00:00\",\"2003-06-30T00:00:00\",\"2003-07-31T00:00:00\",\"2003-08-29T00:00:00\",\"2003-09-30T00:00:00\",\"2003-10-31T00:00:00\",\"2003-11-28T00:00:00\",\"2003-12-31T00:00:00\",\"2004-01-30T00:00:00\",\"2004-02-27T00:00:00\",\"2004-03-31T00:00:00\",\"2004-04-30T00:00:00\",\"2004-05-31T00:00:00\",\"2004-06-30T00:00:00\",\"2004-07-30T00:00:00\",\"2004-08-31T00:00:00\",\"2004-09-30T00:00:00\",\"2004-10-29T00:00:00\",\"2004-11-30T00:00:00\",\"2004-12-31T00:00:00\",\"2005-01-31T00:00:00\",\"2005-02-28T00:00:00\",\"2005-03-31T00:00:00\",\"2005-04-29T00:00:00\",\"2005-05-31T00:00:00\",\"2005-06-30T00:00:00\",\"2005-07-29T00:00:00\",\"2005-08-31T00:00:00\",\"2005-09-30T00:00:00\",\"2005-10-31T00:00:00\",\"2005-11-30T00:00:00\",\"2005-12-30T00:00:00\",\"2006-01-31T00:00:00\",\"2006-02-28T00:00:00\",\"2006-03-31T00:00:00\",\"2006-04-28T00:00:00\",\"2006-05-31T00:00:00\",\"2006-06-30T00:00:00\",\"2006-07-31T00:00:00\",\"2006-08-31T00:00:00\",\"2006-09-29T00:00:00\",\"2006-10-31T00:00:00\",\"2006-11-30T00:00:00\",\"2006-12-29T00:00:00\",\"2007-01-31T00:00:00\",\"2007-02-28T00:00:00\",\"2007-03-30T00:00:00\",\"2007-04-30T00:00:00\",\"2007-05-31T00:00:00\",\"2007-06-29T00:00:00\",\"2007-07-31T00:00:00\",\"2007-08-31T00:00:00\",\"2007-09-28T00:00:00\",\"2007-10-31T00:00:00\",\"2007-11-30T00:00:00\",\"2007-12-31T00:00:00\",\"2008-01-31T00:00:00\",\"2008-02-29T00:00:00\",\"2008-03-31T00:00:00\",\"2008-04-30T00:00:00\",\"2008-05-30T00:00:00\",\"2008-06-30T00:00:00\",\"2008-07-31T00:00:00\",\"2008-08-29T00:00:00\",\"2008-09-30T00:00:00\",\"2008-10-31T00:00:00\",\"2008-11-28T00:00:00\",\"2008-12-31T00:00:00\",\"2009-01-30T00:00:00\",\"2009-02-27T00:00:00\",\"2009-03-31T00:00:00\",\"2009-04-30T00:00:00\",\"2009-05-29T00:00:00\",\"2009-06-30T00:00:00\",\"2009-07-31T00:00:00\",\"2009-08-31T00:00:00\",\"2009-09-30T00:00:00\",\"2009-10-30T00:00:00\",\"2009-11-30T00:00:00\",\"2009-12-31T00:00:00\",\"2010-01-29T00:00:00\",\"2010-02-26T00:00:00\",\"2010-03-31T00:00:00\",\"2010-04-30T00:00:00\",\"2010-05-31T00:00:00\",\"2010-06-30T00:00:00\",\"2010-07-30T00:00:00\",\"2010-08-31T00:00:00\",\"2010-09-30T00:00:00\",\"2010-10-29T00:00:00\",\"2010-11-30T00:00:00\",\"2010-12-31T00:00:00\",\"2011-01-31T00:00:00\",\"2011-02-28T00:00:00\",\"2011-03-31T00:00:00\",\"2011-04-29T00:00:00\",\"2011-05-31T00:00:00\",\"2011-06-30T00:00:00\",\"2011-07-29T00:00:00\",\"2011-08-31T00:00:00\",\"2011-09-30T00:00:00\",\"2011-10-31T00:00:00\",\"2011-11-30T00:00:00\",\"2011-12-30T00:00:00\",\"2012-01-31T00:00:00\",\"2012-02-29T00:00:00\",\"2012-03-30T00:00:00\",\"2012-04-30T00:00:00\",\"2012-05-31T00:00:00\",\"2012-06-29T00:00:00\",\"2012-07-31T00:00:00\",\"2012-08-31T00:00:00\",\"2012-09-28T00:00:00\",\"2012-10-31T00:00:00\",\"2012-11-30T00:00:00\",\"2012-12-31T00:00:00\",\"2013-01-31T00:00:00\",\"2013-02-28T00:00:00\",\"2013-03-29T00:00:00\",\"2013-04-30T00:00:00\",\"2013-05-31T00:00:00\",\"2013-06-28T00:00:00\",\"2013-07-31T00:00:00\",\"2013-08-30T00:00:00\",\"2013-09-30T00:00:00\",\"2013-10-31T00:00:00\",\"2013-11-29T00:00:00\",\"2013-12-31T00:00:00\",\"2014-01-31T00:00:00\",\"2014-02-28T00:00:00\",\"2014-03-31T00:00:00\",\"2014-04-30T00:00:00\",\"2014-05-30T00:00:00\",\"2014-06-30T00:00:00\",\"2014-07-31T00:00:00\",\"2014-08-29T00:00:00\",\"2014-09-30T00:00:00\",\"2014-10-31T00:00:00\",\"2014-11-28T00:00:00\",\"2014-12-31T00:00:00\",\"2015-01-30T00:00:00\",\"2015-02-27T00:00:00\",\"2015-03-31T00:00:00\",\"2015-04-30T00:00:00\",\"2015-05-29T00:00:00\",\"2015-06-30T00:00:00\",\"2015-07-31T00:00:00\",\"2015-08-31T00:00:00\",\"2015-09-30T00:00:00\",\"2015-10-30T00:00:00\",\"2015-11-30T00:00:00\",\"2015-12-31T00:00:00\",\"2016-01-29T00:00:00\",\"2016-02-29T00:00:00\",\"2016-03-31T00:00:00\",\"2016-04-29T00:00:00\",\"2016-05-31T00:00:00\",\"2016-06-30T00:00:00\",\"2016-07-29T00:00:00\",\"2016-08-31T00:00:00\",\"2016-09-30T00:00:00\",\"2016-10-31T00:00:00\",\"2016-11-30T00:00:00\",\"2016-12-30T00:00:00\",\"2017-01-31T00:00:00\",\"2017-02-28T00:00:00\",\"2017-03-31T00:00:00\",\"2017-04-28T00:00:00\",\"2017-05-31T00:00:00\",\"2017-06-30T00:00:00\",\"2017-07-31T00:00:00\",\"2017-08-31T00:00:00\",\"2017-09-29T00:00:00\",\"2017-10-31T00:00:00\",\"2017-11-30T00:00:00\",\"2017-12-29T00:00:00\",\"2018-01-31T00:00:00\",\"2018-02-28T00:00:00\",\"2018-03-30T00:00:00\",\"2018-04-30T00:00:00\",\"2018-05-31T00:00:00\",\"2018-06-29T00:00:00\",\"2018-07-31T00:00:00\",\"2018-08-31T00:00:00\",\"2018-09-28T00:00:00\",\"2018-10-31T00:00:00\",\"2018-11-30T00:00:00\",\"2018-12-31T00:00:00\",\"2019-01-31T00:00:00\",\"2019-02-28T00:00:00\",\"2019-03-29T00:00:00\",\"2019-04-30T00:00:00\",\"2019-05-31T00:00:00\",\"2019-06-28T00:00:00\",\"2019-07-31T00:00:00\",\"2019-08-30T00:00:00\",\"2019-09-30T00:00:00\",\"2019-10-31T00:00:00\",\"2019-11-29T00:00:00\",\"2019-12-31T00:00:00\",\"2020-01-31T00:00:00\",\"2020-02-28T00:00:00\",\"2020-03-31T00:00:00\",\"2020-04-30T00:00:00\",\"2020-05-29T00:00:00\",\"2020-06-30T00:00:00\",\"2020-07-31T00:00:00\",\"2020-08-31T00:00:00\",\"2020-09-30T00:00:00\",\"2020-10-30T00:00:00\",\"2020-11-30T00:00:00\",\"2020-12-31T00:00:00\",\"2021-01-29T00:00:00\",\"2021-02-26T00:00:00\",\"2021-03-31T00:00:00\",\"2021-04-30T00:00:00\",\"2021-05-31T00:00:00\",\"2021-06-30T00:00:00\",\"2021-07-30T00:00:00\"],\"y\":[321.3,316.2,283.9,280.7,280.2,265.9,267.8,278.0,291.9,262.6,264.8,265.7,251.1,256.1,279.8,282.5,288.9,308.5,292.9,280.8,273.6,276.7,277.9,250.3,264.7,269.0,261.7,258.0,251.3,243.1,246.8,224.5,241.3,255.0,261.4,266.7,264.3,270.5,275.0,281.1,300.7,321.1,354.8,319.0,298.7,318.9,327.9,348.2,335.2,333.0,331.0,317.5,325.3,317.6,313.4,313.0,314.8,298.4,311.1,308.8,297.3,293.6,291.4,291.5,289.9,287.1,280.7,295.0,289.0,285.6,294.6,290.7,314.8,306.5,304.5,308.7,307.0,298.6,293.5,294.9,296.1,294.3,291.8,290.5,288.7,310.1,297.5,300.8,301.6,296.9,305.2,298.5,298.8,273.0,266.6,266.1,284.5,275.7,284.2,284.8,267.3,273.0,262.4,246.3,251.0,247.5,254.8,245.1,251.3,261.5,258.9,270.9,257.6,253.1,238.8,241.2,280.8,284.6,289.4,289.6,289.6,305.0,289.2,301.8,293.6,300.6,298.7,311.6,310.1,312.1,309.1,292.3,284.4,290.0,291.5,296.8,315.6,319.6,303.9,300.5,321.8,309.5,307.7,310.5,327.9,343.2,345.5,342.0,349.6,322.5,310.7,319.0,327.5,320.0,320.7,330.9,342.3,322.4,306.9,301.8,307.3,301.3,315.2,342.1,333.2,332.3,332.3,330.0,321.8,318.6,344.8,324.1,322.0,325.3,325.1,335.1,334.7,334.5,341.2,320.5,323.9,328.1,328.9,337.5,335.7,361.1,353.2,352.3,392.5,393.0,420.4,434.9,468.4,466.4,480.9,511.3,508.4,479.8,495.6,487.1,473.1,473.0,487.9,479.3,500.6,502.8,497.1,496.1,489.8,481.7,486.2,492.9,522.5,545.7,533.8,570.3,623.6,639.9,589.1,559.5,570.0,590.4,588.4,565.8,629.7,576.3,641.9,625.7,717.5,749.6,690.3,666.6,689.2,666.2,662.3,665.8,681.2,704.9,783.1,758.0,775.9,812.1,824.4,886.9,984.1,1015.6,897.3,980.4,957.4,969.0,1062.8,1047.7,967.9,1021.6,1014.0,1035.0,1068.8,1038.4,1133.3,1259.6,1207.4,1234.6,1297.0,1179.4,1332.3,1323.2,1248.4,1247.6,1260.1,1259.6,1317.0,1307.8,1380.5,1326.6,1327.1,1257.2,1226.4,1215.1,1244.7,1114.2,1076.0,917.0,990.0,1057.8,979.9,973.9,920.3,874.1,927.7,960.4,937.2,929.3,916.4,960.5,960.6,976.1,963.0,929.2,948.7,996.7,1116.8,1082.3,1105.2,1053.3,1086.7,1051.0,994.2,1012.9,998.0,1034.1,1005.4,975.8,1027.5,1136.5,1085.5,1122.5,1088.8,1188.9,1200.1,1175.5,1176.8,1160.4,1110.6,1086.4,1122.2,1181.6,1163.9,1163.0,1126.0,1089.2,1075.1,1103.3,1085.4,1090.3,1073.7,1075.1,1079.7,1080.5,1076.4,1086.9,1118.3,1071.0,1043.5,1033.5,1022.2,1072.3,1075.3,1118.8,1153.2,1158.5,1153.7,1144.2,1162.6,1237.3,1282.2,1387.9,1362.4,1354.3,1324.3,1349.4,1429.5,1465.6,1466.4,1554.6,1554.1,1574.2,1661.7,1636.7,1609.1,1615.5,1473.5,1542.7,1534.1,1435.9,1438.8,1468.4,1554.0,1486.8,1539.7],\"type\":\"scatter\"},{\"mode\":\"lines\",\"name\":\"Israel Canzas\",\"x\":[\"1990-01-31T00:00:00\",\"1990-02-28T00:00:00\",\"1990-03-30T00:00:00\",\"1990-04-30T00:00:00\",\"1990-05-31T00:00:00\",\"1990-06-29T00:00:00\",\"1990-07-31T00:00:00\",\"1990-08-31T00:00:00\",\"1990-09-28T00:00:00\",\"1990-10-31T00:00:00\",\"1990-11-30T00:00:00\",\"1990-12-31T00:00:00\",\"1991-01-31T00:00:00\",\"1991-02-28T00:00:00\",\"1991-03-29T00:00:00\",\"1991-04-30T00:00:00\",\"1991-05-31T00:00:00\",\"1991-06-28T00:00:00\",\"1991-07-31T00:00:00\",\"1991-08-30T00:00:00\",\"1991-09-30T00:00:00\",\"1991-10-31T00:00:00\",\"1991-11-29T00:00:00\",\"1991-12-31T00:00:00\",\"1992-01-31T00:00:00\",\"1992-02-28T00:00:00\",\"1992-03-31T00:00:00\",\"1992-04-30T00:00:00\",\"1992-05-29T00:00:00\",\"1992-06-30T00:00:00\",\"1992-07-31T00:00:00\",\"1992-08-31T00:00:00\",\"1992-09-30T00:00:00\",\"1992-10-30T00:00:00\",\"1992-11-30T00:00:00\",\"1992-12-31T00:00:00\",\"1993-01-29T00:00:00\",\"1993-02-26T00:00:00\",\"1993-03-31T00:00:00\",\"1993-04-30T00:00:00\",\"1993-05-31T00:00:00\",\"1993-06-30T00:00:00\",\"1993-07-30T00:00:00\",\"1993-08-31T00:00:00\",\"1993-09-30T00:00:00\",\"1993-10-29T00:00:00\",\"1993-11-30T00:00:00\",\"1993-12-31T00:00:00\",\"1994-01-31T00:00:00\",\"1994-02-28T00:00:00\",\"1994-03-31T00:00:00\",\"1994-04-29T00:00:00\",\"1994-05-31T00:00:00\",\"1994-06-30T00:00:00\",\"1994-07-29T00:00:00\",\"1994-08-31T00:00:00\",\"1994-09-30T00:00:00\",\"1994-10-31T00:00:00\",\"1994-11-30T00:00:00\",\"1994-12-30T00:00:00\",\"1995-01-31T00:00:00\",\"1995-02-28T00:00:00\",\"1995-03-31T00:00:00\",\"1995-04-28T00:00:00\",\"1995-05-31T00:00:00\",\"1995-06-30T00:00:00\",\"1995-07-31T00:00:00\",\"1995-08-31T00:00:00\",\"1995-09-29T00:00:00\",\"1995-10-31T00:00:00\",\"1995-11-30T00:00:00\",\"1995-12-29T00:00:00\",\"1996-01-31T00:00:00\",\"1996-02-29T00:00:00\",\"1996-03-29T00:00:00\",\"1996-04-30T00:00:00\",\"1996-05-31T00:00:00\",\"1996-06-28T00:00:00\",\"1996-07-31T00:00:00\",\"1996-08-30T00:00:00\",\"1996-09-30T00:00:00\",\"1996-10-31T00:00:00\",\"1996-11-29T00:00:00\",\"1996-12-31T00:00:00\",\"1997-01-31T00:00:00\",\"1997-02-28T00:00:00\",\"1997-03-31T00:00:00\",\"1997-04-30T00:00:00\",\"1997-05-30T00:00:00\",\"1997-06-30T00:00:00\",\"1997-07-31T00:00:00\",\"1997-08-29T00:00:00\",\"1997-09-30T00:00:00\",\"1997-10-31T00:00:00\",\"1997-11-28T00:00:00\",\"1997-12-31T00:00:00\",\"1998-01-30T00:00:00\",\"1998-02-27T00:00:00\",\"1998-03-31T00:00:00\",\"1998-04-30T00:00:00\",\"1998-05-29T00:00:00\",\"1998-06-30T00:00:00\",\"1998-07-31T00:00:00\",\"1998-08-31T00:00:00\",\"1998-09-30T00:00:00\",\"1998-10-30T00:00:00\",\"1998-11-30T00:00:00\",\"1998-12-31T00:00:00\",\"1999-01-29T00:00:00\",\"1999-02-26T00:00:00\",\"1999-03-31T00:00:00\",\"1999-04-30T00:00:00\",\"1999-05-31T00:00:00\",\"1999-06-30T00:00:00\",\"1999-07-30T00:00:00\",\"1999-08-31T00:00:00\",\"1999-09-30T00:00:00\",\"1999-10-29T00:00:00\",\"1999-11-30T00:00:00\",\"1999-12-31T00:00:00\",\"2000-01-31T00:00:00\",\"2000-02-29T00:00:00\",\"2000-03-31T00:00:00\",\"2000-04-28T00:00:00\",\"2000-05-31T00:00:00\",\"2000-06-30T00:00:00\",\"2000-07-31T00:00:00\",\"2000-08-31T00:00:00\",\"2000-09-29T00:00:00\",\"2000-10-31T00:00:00\",\"2000-11-30T00:00:00\",\"2000-12-29T00:00:00\",\"2001-01-31T00:00:00\",\"2001-02-28T00:00:00\",\"2001-03-30T00:00:00\",\"2001-04-30T00:00:00\",\"2001-05-31T00:00:00\",\"2001-06-29T00:00:00\",\"2001-07-31T00:00:00\",\"2001-08-31T00:00:00\",\"2001-09-28T00:00:00\",\"2001-10-31T00:00:00\",\"2001-11-30T00:00:00\",\"2001-12-31T00:00:00\",\"2002-01-31T00:00:00\",\"2002-02-28T00:00:00\",\"2002-03-29T00:00:00\",\"2002-04-30T00:00:00\",\"2002-05-31T00:00:00\",\"2002-06-28T00:00:00\",\"2002-07-31T00:00:00\",\"2002-08-30T00:00:00\",\"2002-09-30T00:00:00\",\"2002-10-31T00:00:00\",\"2002-11-29T00:00:00\",\"2002-12-31T00:00:00\",\"2003-01-31T00:00:00\",\"2003-02-28T00:00:00\",\"2003-03-31T00:00:00\",\"2003-04-30T00:00:00\",\"2003-05-30T00:00:00\",\"2003-06-30T00:00:00\",\"2003-07-31T00:00:00\",\"2003-08-29T00:00:00\",\"2003-09-30T00:00:00\",\"2003-10-31T00:00:00\",\"2003-11-28T00:00:00\",\"2003-12-31T00:00:00\",\"2004-01-30T00:00:00\",\"2004-02-27T00:00:00\",\"2004-03-31T00:00:00\",\"2004-04-30T00:00:00\",\"2004-05-31T00:00:00\",\"2004-06-30T00:00:00\",\"2004-07-30T00:00:00\",\"2004-08-31T00:00:00\",\"2004-09-30T00:00:00\",\"2004-10-29T00:00:00\",\"2004-11-30T00:00:00\",\"2004-12-31T00:00:00\",\"2005-01-31T00:00:00\",\"2005-02-28T00:00:00\",\"2005-03-31T00:00:00\",\"2005-04-29T00:00:00\",\"2005-05-31T00:00:00\",\"2005-06-30T00:00:00\",\"2005-07-29T00:00:00\",\"2005-08-31T00:00:00\",\"2005-09-30T00:00:00\",\"2005-10-31T00:00:00\",\"2005-11-30T00:00:00\",\"2005-12-30T00:00:00\",\"2006-01-31T00:00:00\",\"2006-02-28T00:00:00\",\"2006-03-31T00:00:00\",\"2006-04-28T00:00:00\",\"2006-05-31T00:00:00\",\"2006-06-30T00:00:00\",\"2006-07-31T00:00:00\",\"2006-08-31T00:00:00\",\"2006-09-29T00:00:00\",\"2006-10-31T00:00:00\",\"2006-11-30T00:00:00\",\"2006-12-29T00:00:00\",\"2007-01-31T00:00:00\",\"2007-02-28T00:00:00\",\"2007-03-30T00:00:00\",\"2007-04-30T00:00:00\",\"2007-05-31T00:00:00\",\"2007-06-29T00:00:00\",\"2007-07-31T00:00:00\",\"2007-08-31T00:00:00\",\"2007-09-28T00:00:00\",\"2007-10-31T00:00:00\",\"2007-11-30T00:00:00\",\"2007-12-31T00:00:00\",\"2008-01-31T00:00:00\",\"2008-02-29T00:00:00\",\"2008-03-31T00:00:00\",\"2008-04-30T00:00:00\",\"2008-05-30T00:00:00\",\"2008-06-30T00:00:00\",\"2008-07-31T00:00:00\",\"2008-08-29T00:00:00\",\"2008-09-30T00:00:00\",\"2008-10-31T00:00:00\",\"2008-11-28T00:00:00\",\"2008-12-31T00:00:00\",\"2009-01-30T00:00:00\",\"2009-02-27T00:00:00\",\"2009-03-31T00:00:00\",\"2009-04-30T00:00:00\",\"2009-05-29T00:00:00\",\"2009-06-30T00:00:00\",\"2009-07-31T00:00:00\",\"2009-08-31T00:00:00\",\"2009-09-30T00:00:00\",\"2009-10-30T00:00:00\",\"2009-11-30T00:00:00\",\"2009-12-31T00:00:00\",\"2010-01-29T00:00:00\",\"2010-02-26T00:00:00\",\"2010-03-31T00:00:00\",\"2010-04-30T00:00:00\",\"2010-05-31T00:00:00\",\"2010-06-30T00:00:00\",\"2010-07-30T00:00:00\",\"2010-08-31T00:00:00\",\"2010-09-30T00:00:00\",\"2010-10-29T00:00:00\",\"2010-11-30T00:00:00\",\"2010-12-31T00:00:00\",\"2011-01-31T00:00:00\",\"2011-02-28T00:00:00\",\"2011-03-31T00:00:00\",\"2011-04-29T00:00:00\",\"2011-05-31T00:00:00\",\"2011-06-30T00:00:00\",\"2011-07-29T00:00:00\",\"2011-08-31T00:00:00\",\"2011-09-30T00:00:00\",\"2011-10-31T00:00:00\",\"2011-11-30T00:00:00\",\"2011-12-30T00:00:00\",\"2012-01-31T00:00:00\",\"2012-02-29T00:00:00\",\"2012-03-30T00:00:00\",\"2012-04-30T00:00:00\",\"2012-05-31T00:00:00\",\"2012-06-29T00:00:00\",\"2012-07-31T00:00:00\",\"2012-08-31T00:00:00\",\"2012-09-28T00:00:00\",\"2012-10-31T00:00:00\",\"2012-11-30T00:00:00\",\"2012-12-31T00:00:00\",\"2013-01-31T00:00:00\",\"2013-02-28T00:00:00\",\"2013-03-29T00:00:00\",\"2013-04-30T00:00:00\",\"2013-05-31T00:00:00\",\"2013-06-28T00:00:00\",\"2013-07-31T00:00:00\",\"2013-08-30T00:00:00\",\"2013-09-30T00:00:00\",\"2013-10-31T00:00:00\",\"2013-11-29T00:00:00\",\"2013-12-31T00:00:00\",\"2014-01-31T00:00:00\",\"2014-02-28T00:00:00\",\"2014-03-31T00:00:00\",\"2014-04-30T00:00:00\",\"2014-05-30T00:00:00\",\"2014-06-30T00:00:00\",\"2014-07-31T00:00:00\",\"2014-08-29T00:00:00\",\"2014-09-30T00:00:00\",\"2014-10-31T00:00:00\",\"2014-11-28T00:00:00\",\"2014-12-31T00:00:00\",\"2015-01-30T00:00:00\",\"2015-02-27T00:00:00\",\"2015-03-31T00:00:00\",\"2015-04-30T00:00:00\",\"2015-05-29T00:00:00\",\"2015-06-30T00:00:00\",\"2015-07-31T00:00:00\",\"2015-08-31T00:00:00\",\"2015-09-30T00:00:00\",\"2015-10-30T00:00:00\",\"2015-11-30T00:00:00\",\"2015-12-31T00:00:00\",\"2016-01-29T00:00:00\",\"2016-02-29T00:00:00\",\"2016-03-31T00:00:00\",\"2016-04-29T00:00:00\",\"2016-05-31T00:00:00\",\"2016-06-30T00:00:00\",\"2016-07-29T00:00:00\",\"2016-08-31T00:00:00\",\"2016-09-30T00:00:00\",\"2016-10-31T00:00:00\",\"2016-11-30T00:00:00\",\"2016-12-30T00:00:00\",\"2017-01-31T00:00:00\",\"2017-02-28T00:00:00\",\"2017-03-31T00:00:00\",\"2017-04-28T00:00:00\",\"2017-05-31T00:00:00\",\"2017-06-30T00:00:00\",\"2017-07-31T00:00:00\",\"2017-08-31T00:00:00\",\"2017-09-29T00:00:00\",\"2017-10-31T00:00:00\",\"2017-11-30T00:00:00\",\"2017-12-29T00:00:00\",\"2018-01-31T00:00:00\",\"2018-02-28T00:00:00\",\"2018-03-30T00:00:00\",\"2018-04-30T00:00:00\",\"2018-05-31T00:00:00\",\"2018-06-29T00:00:00\",\"2018-07-31T00:00:00\",\"2018-08-31T00:00:00\",\"2018-09-28T00:00:00\",\"2018-10-31T00:00:00\",\"2018-11-30T00:00:00\",\"2018-12-31T00:00:00\",\"2019-01-31T00:00:00\",\"2019-02-28T00:00:00\",\"2019-03-29T00:00:00\",\"2019-04-30T00:00:00\",\"2019-05-31T00:00:00\",\"2019-06-28T00:00:00\",\"2019-07-31T00:00:00\",\"2019-08-30T00:00:00\",\"2019-09-30T00:00:00\",\"2019-10-31T00:00:00\",\"2019-11-29T00:00:00\",\"2019-12-31T00:00:00\",\"2020-01-31T00:00:00\",\"2020-02-28T00:00:00\",\"2020-03-31T00:00:00\",\"2020-04-30T00:00:00\",\"2020-05-29T00:00:00\",\"2020-06-30T00:00:00\",\"2020-07-31T00:00:00\",\"2020-08-31T00:00:00\",\"2020-09-30T00:00:00\",\"2020-10-30T00:00:00\",\"2020-11-30T00:00:00\",\"2020-12-31T00:00:00\",\"2021-01-29T00:00:00\",\"2021-02-26T00:00:00\",\"2021-03-31T00:00:00\",\"2021-04-30T00:00:00\",\"2021-05-31T00:00:00\",\"2021-06-30T00:00:00\",\"2021-07-30T00:00:00\"],\"y\":[247.1,241.2,223.7,224.3,216.5,201.9,200.2,204.9,218.0,195.2,198.4,200.1,186.3,189.9,204.5,207.5,212.1,227.5,215.3,206.7,202.5,205.1,207.5,188.8,197.8,201.0,196.9,189.6,184.5,180.4,186.4,171.5,195.9,217.1,220.8,219.9,222.2,230.2,224.4,225.8,241.8,253.4,270.5,249.8,237.7,248.6,249.9,264.8,252.1,256.8,262.2,248.3,256.4,251.6,249.9,251.1,250.4,235.4,244.8,245.0,236.2,238.2,240.7,242.2,241.9,243.3,239.6,246.8,242.6,242.5,253.6,249.3,268.4,261.7,259.7,260.8,252.1,245.9,247.5,247.3,242.4,233.1,221.0,215.8,215.6,219.8,212.0,209.6,211.3,201.0,199.3,200.6,205.6,185.7,176.2,176.4,186.5,180.6,179.8,185.8,180.1,177.6,176.6,163.3,172.9,174.5,178.5,173.0,173.7,179.2,173.1,178.0,167.5,165.6,157.8,158.5,181.6,182.3,182.9,180.1,174.8,186.0,173.5,175.8,182.1,190.3,184.8,190.4,185.1,182.2,189.8,183.7,181.0,184.9,181.3,183.9,188.3,192.4,186.6,188.2,199.4,191.7,193.2,190.0,199.8,209.9,211.7,211.5,223.2,209.0,195.0,202.2,205.8,202.6,205.0,215.7,223.6,220.6,211.8,210.7,220.6,209.7,220.7,237.5,233.5,227.6,231.6,232.5,219.6,213.3,230.5,219.1,214.5,218.3,215.2,226.4,229.7,232.3,237.2,226.9,223.8,226.1,226.2,228.1,227.4,243.9,243.7,240.9,267.5,265.9,286.4,298.8,320.0,317.5,335.5,354.3,349.0,331.7,338.8,327.8,320.8,316.6,328.8,322.9,332.3,338.9,337.4,338.5,333.2,324.2,327.5,333.2,364.7,380.1,381.1,418.8,464.4,488.4,469.7,439.8,448.2,467.4,463.4,456.7,496.2,452.3,530.8,604.9,637.8,667.9,639.4,596.1,604.9,567.5,566.4,586.3,622.6,630.9,716.4,673.4,673.1,728.0,735.4,770.4,831.1,831.5,746.4,810.7,829.4,842.4,888.4,897.7,828.5,867.5,897.7,920.6,933.5,937.7,992.1,1113.8,1039.9,1066.9,1110.1,985.1,1105.2,1108.0,1040.5,1016.9,1012.3,1019.2,1035.2,1037.9,1099.8,1067.0,1077.0,1019.7,1050.0,1046.5,1052.6,943.9,919.8,785.9,867.1,901.6,819.1,824.1,764.9,727.3,761.2,791.5,774.8,763.1,745.5,769.1,761.3,774.2,750.4,727.7,755.2,773.5,839.1,785.6,799.6,768.0,780.8,744.6,703.9,738.0,735.4,739.7,705.4,719.2,783.8,886.1,860.6,877.6,832.8,988.0,1010.8,999.7,1018.1,1041.9,942.9,927.4,964.0,1009.0,995.5,978.9,980.8,956.4,961.5,1018.0,956.4,956.5,945.7,954.4,945.9,956.5,943.7,953.4,981.0,947.1,930.8,925.1,910.4,950.9,954.3,1004.2,1005.9,991.8,994.1,983.6,1027.9,1107.1,1165.9,1255.0,1205.3,1167.7,1128.8,1143.4,1201.8,1260.4,1297.6,1349.9,1398.3,1431.0,1497.1,1461.9,1459.6,1455.4,1320.2,1380.9,1357.3,1246.6,1225.7,1276.7,1336.6,1276.3,1313.2],\"type\":\"scatter\"}],                        {\"title\":{\"text\":\"CONSUMO DE AGUA\"},\"xaxis\":{\"title\":{\"text\":\"Date\"}},\"yaxis\":{\"title\":{\"text\":\"Consumo\"}},\"template\":{\"data\":{\"bar\":[{\"error_x\":{\"color\":\"#2a3f5f\"},\"error_y\":{\"color\":\"#2a3f5f\"},\"marker\":{\"line\":{\"color\":\"#E5ECF6\",\"width\":0.5},\"pattern\":{\"fillmode\":\"overlay\",\"size\":10,\"solidity\":0.2}},\"type\":\"bar\"}],\"barpolar\":[{\"marker\":{\"line\":{\"color\":\"#E5ECF6\",\"width\":0.5},\"pattern\":{\"fillmode\":\"overlay\",\"size\":10,\"solidity\":0.2}},\"type\":\"barpolar\"}],\"carpet\":[{\"aaxis\":{\"endlinecolor\":\"#2a3f5f\",\"gridcolor\":\"white\",\"linecolor\":\"white\",\"minorgridcolor\":\"white\",\"startlinecolor\":\"#2a3f5f\"},\"baxis\":{\"endlinecolor\":\"#2a3f5f\",\"gridcolor\":\"white\",\"linecolor\":\"white\",\"minorgridcolor\":\"white\",\"startlinecolor\":\"#2a3f5f\"},\"type\":\"carpet\"}],\"choropleth\":[{\"colorbar\":{\"outlinewidth\":0,\"ticks\":\"\"},\"type\":\"choropleth\"}],\"contour\":[{\"colorbar\":{\"outlinewidth\":0,\"ticks\":\"\"},\"colorscale\":[[0.0,\"#0d0887\"],[0.1111111111111111,\"#46039f\"],[0.2222222222222222,\"#7201a8\"],[0.3333333333333333,\"#9c179e\"],[0.4444444444444444,\"#bd3786\"],[0.5555555555555556,\"#d8576b\"],[0.6666666666666666,\"#ed7953\"],[0.7777777777777778,\"#fb9f3a\"],[0.8888888888888888,\"#fdca26\"],[1.0,\"#f0f921\"]],\"type\":\"contour\"}],\"contourcarpet\":[{\"colorbar\":{\"outlinewidth\":0,\"ticks\":\"\"},\"type\":\"contourcarpet\"}],\"heatmap\":[{\"colorbar\":{\"outlinewidth\":0,\"ticks\":\"\"},\"colorscale\":[[0.0,\"#0d0887\"],[0.1111111111111111,\"#46039f\"],[0.2222222222222222,\"#7201a8\"],[0.3333333333333333,\"#9c179e\"],[0.4444444444444444,\"#bd3786\"],[0.5555555555555556,\"#d8576b\"],[0.6666666666666666,\"#ed7953\"],[0.7777777777777778,\"#fb9f3a\"],[0.8888888888888888,\"#fdca26\"],[1.0,\"#f0f921\"]],\"type\":\"heatmap\"}],\"heatmapgl\":[{\"colorbar\":{\"outlinewidth\":0,\"ticks\":\"\"},\"colorscale\":[[0.0,\"#0d0887\"],[0.1111111111111111,\"#46039f\"],[0.2222222222222222,\"#7201a8\"],[0.3333333333333333,\"#9c179e\"],[0.4444444444444444,\"#bd3786\"],[0.5555555555555556,\"#d8576b\"],[0.6666666666666666,\"#ed7953\"],[0.7777777777777778,\"#fb9f3a\"],[0.8888888888888888,\"#fdca26\"],[1.0,\"#f0f921\"]],\"type\":\"heatmapgl\"}],\"histogram\":[{\"marker\":{\"pattern\":{\"fillmode\":\"overlay\",\"size\":10,\"solidity\":0.2}},\"type\":\"histogram\"}],\"histogram2d\":[{\"colorbar\":{\"outlinewidth\":0,\"ticks\":\"\"},\"colorscale\":[[0.0,\"#0d0887\"],[0.1111111111111111,\"#46039f\"],[0.2222222222222222,\"#7201a8\"],[0.3333333333333333,\"#9c179e\"],[0.4444444444444444,\"#bd3786\"],[0.5555555555555556,\"#d8576b\"],[0.6666666666666666,\"#ed7953\"],[0.7777777777777778,\"#fb9f3a\"],[0.8888888888888888,\"#fdca26\"],[1.0,\"#f0f921\"]],\"type\":\"histogram2d\"}],\"histogram2dcontour\":[{\"colorbar\":{\"outlinewidth\":0,\"ticks\":\"\"},\"colorscale\":[[0.0,\"#0d0887\"],[0.1111111111111111,\"#46039f\"],[0.2222222222222222,\"#7201a8\"],[0.3333333333333333,\"#9c179e\"],[0.4444444444444444,\"#bd3786\"],[0.5555555555555556,\"#d8576b\"],[0.6666666666666666,\"#ed7953\"],[0.7777777777777778,\"#fb9f3a\"],[0.8888888888888888,\"#fdca26\"],[1.0,\"#f0f921\"]],\"type\":\"histogram2dcontour\"}],\"mesh3d\":[{\"colorbar\":{\"outlinewidth\":0,\"ticks\":\"\"},\"type\":\"mesh3d\"}],\"parcoords\":[{\"line\":{\"colorbar\":{\"outlinewidth\":0,\"ticks\":\"\"}},\"type\":\"parcoords\"}],\"pie\":[{\"automargin\":true,\"type\":\"pie\"}],\"scatter\":[{\"marker\":{\"colorbar\":{\"outlinewidth\":0,\"ticks\":\"\"}},\"type\":\"scatter\"}],\"scatter3d\":[{\"line\":{\"colorbar\":{\"outlinewidth\":0,\"ticks\":\"\"}},\"marker\":{\"colorbar\":{\"outlinewidth\":0,\"ticks\":\"\"}},\"type\":\"scatter3d\"}],\"scattercarpet\":[{\"marker\":{\"colorbar\":{\"outlinewidth\":0,\"ticks\":\"\"}},\"type\":\"scattercarpet\"}],\"scattergeo\":[{\"marker\":{\"colorbar\":{\"outlinewidth\":0,\"ticks\":\"\"}},\"type\":\"scattergeo\"}],\"scattergl\":[{\"marker\":{\"colorbar\":{\"outlinewidth\":0,\"ticks\":\"\"}},\"type\":\"scattergl\"}],\"scattermapbox\":[{\"marker\":{\"colorbar\":{\"outlinewidth\":0,\"ticks\":\"\"}},\"type\":\"scattermapbox\"}],\"scatterpolar\":[{\"marker\":{\"colorbar\":{\"outlinewidth\":0,\"ticks\":\"\"}},\"type\":\"scatterpolar\"}],\"scatterpolargl\":[{\"marker\":{\"colorbar\":{\"outlinewidth\":0,\"ticks\":\"\"}},\"type\":\"scatterpolargl\"}],\"scatterternary\":[{\"marker\":{\"colorbar\":{\"outlinewidth\":0,\"ticks\":\"\"}},\"type\":\"scatterternary\"}],\"surface\":[{\"colorbar\":{\"outlinewidth\":0,\"ticks\":\"\"},\"colorscale\":[[0.0,\"#0d0887\"],[0.1111111111111111,\"#46039f\"],[0.2222222222222222,\"#7201a8\"],[0.3333333333333333,\"#9c179e\"],[0.4444444444444444,\"#bd3786\"],[0.5555555555555556,\"#d8576b\"],[0.6666666666666666,\"#ed7953\"],[0.7777777777777778,\"#fb9f3a\"],[0.8888888888888888,\"#fdca26\"],[1.0,\"#f0f921\"]],\"type\":\"surface\"}],\"table\":[{\"cells\":{\"fill\":{\"color\":\"#EBF0F8\"},\"line\":{\"color\":\"white\"}},\"header\":{\"fill\":{\"color\":\"#C8D4E3\"},\"line\":{\"color\":\"white\"}},\"type\":\"table\"}]},\"layout\":{\"annotationdefaults\":{\"arrowcolor\":\"#2a3f5f\",\"arrowhead\":0,\"arrowwidth\":1},\"autotypenumbers\":\"strict\",\"coloraxis\":{\"colorbar\":{\"outlinewidth\":0,\"ticks\":\"\"}},\"colorscale\":{\"diverging\":[[0,\"#8e0152\"],[0.1,\"#c51b7d\"],[0.2,\"#de77ae\"],[0.3,\"#f1b6da\"],[0.4,\"#fde0ef\"],[0.5,\"#f7f7f7\"],[0.6,\"#e6f5d0\"],[0.7,\"#b8e186\"],[0.8,\"#7fbc41\"],[0.9,\"#4d9221\"],[1,\"#276419\"]],\"sequential\":[[0.0,\"#0d0887\"],[0.1111111111111111,\"#46039f\"],[0.2222222222222222,\"#7201a8\"],[0.3333333333333333,\"#9c179e\"],[0.4444444444444444,\"#bd3786\"],[0.5555555555555556,\"#d8576b\"],[0.6666666666666666,\"#ed7953\"],[0.7777777777777778,\"#fb9f3a\"],[0.8888888888888888,\"#fdca26\"],[1.0,\"#f0f921\"]],\"sequentialminus\":[[0.0,\"#0d0887\"],[0.1111111111111111,\"#46039f\"],[0.2222222222222222,\"#7201a8\"],[0.3333333333333333,\"#9c179e\"],[0.4444444444444444,\"#bd3786\"],[0.5555555555555556,\"#d8576b\"],[0.6666666666666666,\"#ed7953\"],[0.7777777777777778,\"#fb9f3a\"],[0.8888888888888888,\"#fdca26\"],[1.0,\"#f0f921\"]]},\"colorway\":[\"#636efa\",\"#EF553B\",\"#00cc96\",\"#ab63fa\",\"#FFA15A\",\"#19d3f3\",\"#FF6692\",\"#B6E880\",\"#FF97FF\",\"#FECB52\"],\"font\":{\"color\":\"#2a3f5f\"},\"geo\":{\"bgcolor\":\"white\",\"lakecolor\":\"white\",\"landcolor\":\"#E5ECF6\",\"showlakes\":true,\"showland\":true,\"subunitcolor\":\"white\"},\"hoverlabel\":{\"align\":\"left\"},\"hovermode\":\"closest\",\"mapbox\":{\"style\":\"light\"},\"paper_bgcolor\":\"white\",\"plot_bgcolor\":\"#E5ECF6\",\"polar\":{\"angularaxis\":{\"gridcolor\":\"white\",\"linecolor\":\"white\",\"ticks\":\"\"},\"bgcolor\":\"#E5ECF6\",\"radialaxis\":{\"gridcolor\":\"white\",\"linecolor\":\"white\",\"ticks\":\"\"}},\"scene\":{\"xaxis\":{\"backgroundcolor\":\"#E5ECF6\",\"gridcolor\":\"white\",\"gridwidth\":2,\"linecolor\":\"white\",\"showbackground\":true,\"ticks\":\"\",\"zerolinecolor\":\"white\"},\"yaxis\":{\"backgroundcolor\":\"#E5ECF6\",\"gridcolor\":\"white\",\"gridwidth\":2,\"linecolor\":\"white\",\"showbackground\":true,\"ticks\":\"\",\"zerolinecolor\":\"white\"},\"zaxis\":{\"backgroundcolor\":\"#E5ECF6\",\"gridcolor\":\"white\",\"gridwidth\":2,\"linecolor\":\"white\",\"showbackground\":true,\"ticks\":\"\",\"zerolinecolor\":\"white\"}},\"shapedefaults\":{\"line\":{\"color\":\"#2a3f5f\"}},\"ternary\":{\"aaxis\":{\"gridcolor\":\"white\",\"linecolor\":\"white\",\"ticks\":\"\"},\"baxis\":{\"gridcolor\":\"white\",\"linecolor\":\"white\",\"ticks\":\"\"},\"bgcolor\":\"#E5ECF6\",\"caxis\":{\"gridcolor\":\"white\",\"linecolor\":\"white\",\"ticks\":\"\"}},\"title\":{\"x\":0.05},\"xaxis\":{\"automargin\":true,\"gridcolor\":\"white\",\"linecolor\":\"white\",\"ticks\":\"\",\"title\":{\"standoff\":15},\"zerolinecolor\":\"white\",\"zerolinewidth\":2},\"yaxis\":{\"automargin\":true,\"gridcolor\":\"white\",\"linecolor\":\"white\",\"ticks\":\"\",\"title\":{\"standoff\":15},\"zerolinecolor\":\"white\",\"zerolinewidth\":2}}}},                        {\"responsive\": true}                    ).then(function(){\n",
              "                            \n",
              "var gd = document.getElementById('207b2dc0-7262-452d-b58c-d5af61af23e5');\n",
              "var x = new MutationObserver(function (mutations, observer) {{\n",
              "        var display = window.getComputedStyle(gd).display;\n",
              "        if (!display || display === 'none') {{\n",
              "            console.log([gd, 'removed!']);\n",
              "            Plotly.purge(gd);\n",
              "            observer.disconnect();\n",
              "        }}\n",
              "}});\n",
              "\n",
              "// Listen for the removal of the full notebook cells\n",
              "var notebookContainer = gd.closest('#notebook-container');\n",
              "if (notebookContainer) {{\n",
              "    x.observe(notebookContainer, {childList: true});\n",
              "}}\n",
              "\n",
              "// Listen for the clearing of the current output cell\n",
              "var outputEl = gd.closest('.output');\n",
              "if (outputEl) {{\n",
              "    x.observe(outputEl, {childList: true});\n",
              "}}\n",
              "\n",
              "                        })                };                            </script>        </div>\n",
              "</body>\n",
              "</html>"
            ]
          },
          "metadata": {}
        }
      ],
      "source": [
        "trace1 = go.Scatter(\n",
        " x = df_cpu_pivot['Date'],\n",
        " y = df_cpu_pivot[df_cpu_pivot.columns[1]],\n",
        " mode = 'lines',\n",
        " name = df_cpu_pivot.columns[1]\n",
        ")\n",
        "trace2 = go.Scatter(\n",
        " x = df_cpu_pivot['Date'],\n",
        " y = df_cpu_pivot[df_cpu_pivot.columns[2]],\n",
        " mode = 'lines',\n",
        " name = df_cpu_pivot.columns[2]\n",
        ")\n",
        "trace3 = go.Scatter(\n",
        " x = df_cpu_pivot['Date'],\n",
        " y = df_cpu_pivot[df_cpu_pivot.columns[4]],\n",
        " mode = 'lines',\n",
        " name = df_cpu_pivot.columns[4]\n",
        ")\n",
        "layout = go.Layout(\n",
        " title = 'CONSUMO DE AGUA',\n",
        " xaxis = {'title' : 'Date'},\n",
        " yaxis = {'title' : 'Consumo'}\n",
        ")\n",
        "fig = go.Figure(data=[trace1, trace2, trace3], layout=layout)\n",
        "fig.show()"
      ]
    },
    {
      "cell_type": "markdown",
      "metadata": {
        "id": "EOJaspVSxORG"
      },
      "source": [
        "##Separacion del dataset en conjunto de entranamiento y pruebas\n"
      ]
    },
    {
      "cell_type": "code",
      "execution_count": 14,
      "metadata": {
        "id": "8UuV1gJsLQqS"
      },
      "outputs": [],
      "source": [
        "train_test_split = datetime.strptime('01.12.2019', '%d.%m.%Y')\n",
        "df_train = df_cpu_pivot.loc[df_cpu_pivot['Date'] < train_test_split]\n",
        "df_test = df_cpu_pivot.loc[df_cpu_pivot['Date'] >= train_test_split]\n",
        "cpu_list = [i for i in df_cpu_pivot.columns if i != 'Date']\n",
        "scaler = MinMaxScaler(feature_range=(0,1))\n",
        "scaled_train = scaler.fit_transform(df_train[cpu_list])\n",
        "scaled_test = scaler.transform(df_test[cpu_list])"
      ]
    },
    {
      "cell_type": "code",
      "execution_count": 15,
      "metadata": {
        "id": "Pd0UudeULawO"
      },
      "outputs": [],
      "source": [
        "def split_sequence(sequence, look_back, forecast_horizon):\n",
        " X, y = list(), list()\n",
        " for i in range(len(sequence)):     \n",
        "   lag_end = i + look_back\n",
        "   forecast_end = lag_end + forecast_horizon\n",
        "   if forecast_end > len(sequence):\n",
        "     break\n",
        "   seq_x, seq_y = sequence[i:lag_end], sequence[lag_end:forecast_end]\n",
        "   X.append(seq_x)\n",
        "   y.append(seq_y)   \n",
        " return np.array(X), np.array(y)"
      ]
    },
    {
      "cell_type": "code",
      "execution_count": 16,
      "metadata": {
        "id": "7jzknooCLcvm",
        "colab": {
          "base_uri": "https://localhost:8080/"
        },
        "outputId": "3e86a1e5-bcc2-42a6-fbda-4f172b5e4dea"
      },
      "outputs": [
        {
          "output_type": "stream",
          "name": "stdout",
          "text": [
            "(352, 5, 18)\n",
            "(352, 3, 18)\n",
            "(13, 5, 18)\n",
            "(13, 3, 18)\n"
          ]
        }
      ],
      "source": [
        "#Tomamos 3 meses y como salida el siguiente mes\n",
        "LOOK_BACK = 5\n",
        "FORECAST_RANGE = 3\n",
        "n_features = len(cpu_list)\n",
        "X_train, y_train = split_sequence(scaled_train, look_back=LOOK_BACK, forecast_horizon=FORECAST_RANGE)\n",
        "X_test, y_test = split_sequence(scaled_test, look_back=LOOK_BACK, forecast_horizon=FORECAST_RANGE)\n",
        "print(X_train.shape)\n",
        "print(y_train.shape)\n",
        "print(X_test.shape)\n",
        "print(y_test.shape)"
      ]
    },
    {
      "cell_type": "code",
      "execution_count": 17,
      "metadata": {
        "id": "710D4EUtLfRR"
      },
      "outputs": [],
      "source": [
        "checkpoint_filepath = 'path_to_checkpoint_filepath'\n",
        "checkpoint_callback = ModelCheckpoint(   \n",
        " filepath=checkpoint_filepath,\n",
        " save_weights_only=False,\n",
        " monitor='val_loss',\n",
        " mode='min',\n",
        " save_best_only=True)\n",
        "#Funcion para controlar la evolucion del error\n",
        "early_stopping_callback = EarlyStopping(\n",
        " monitor='val_loss',\n",
        " min_delta=0.001,\n",
        " patience = 10,\n",
        " mode='min'\n",
        ")\n",
        "rlrop_callback = ReduceLROnPlateau(monitor='val_loss', factor=0.001, mode='min', patience=3, min_lr=0.0001)"
      ]
    },
    {
      "cell_type": "code",
      "execution_count": 18,
      "metadata": {
        "id": "t_x571pTLh3r"
      },
      "outputs": [],
      "source": [
        "#Funcion para obtener la transformacion inversa de los datos estandarizados\n",
        "def inverse_transform(y_test, yhat):\n",
        "    y_test_reshaped = y_test.reshape(-1, y_test.shape[-1])\n",
        "    yhat_reshaped = yhat.reshape(-1, yhat.shape[-1])\n",
        "    yhat_inverse = scaler.inverse_transform(yhat_reshaped)\n",
        "    y_test_inverse = scaler.inverse_transform(y_test_reshaped)\n",
        "    return yhat_inverse, y_test_inverse "
      ]
    },
    {
      "cell_type": "code",
      "execution_count": 19,
      "metadata": {
        "id": "zcin6KzoLjg3"
      },
      "outputs": [],
      "source": [
        "def evaluate_forecast(y_test_inverse, yhat_inverse):\n",
        "    mse_ = tf.keras.losses.MeanSquaredError()\n",
        "    mae_ = tf.keras.losses.MeanAbsoluteError()\n",
        "    mape_ = tf.keras.losses.MeanAbsolutePercentageError()\n",
        "    mae = mae_(y_test_inverse,yhat_inverse)\n",
        "    print('mae:', mae)\n",
        "    mse = mse_(y_test_inverse,yhat_inverse)\n",
        "    print('mse:', mse)\n",
        "    mape = mape_(y_test_inverse,yhat_inverse)\n",
        "    print('mape:', mape)"
      ]
    },
    {
      "cell_type": "code",
      "execution_count": 20,
      "metadata": {
        "id": "r4uZyZ9DLkbD"
      },
      "outputs": [],
      "source": [
        "def graph_predictions(y_test_inverse,yhat_inverse):\n",
        "  label=list(range(0,len(y_test_inverse)))\n",
        "  plt.plot(label, y_test_inverse, label = \"Real\")\n",
        "  plt.plot(label, yhat_inverse, label = \"Prediccion\")\n",
        "  plt.legend()\n",
        "  plt.show()"
      ]
    },
    {
      "cell_type": "markdown",
      "metadata": {
        "id": "FfFNYPd0yZBg"
      },
      "source": [
        "# Entrenamiento del modelo y evaluacion del error\n",
        "\n"
      ]
    },
    {
      "cell_type": "code",
      "execution_count": 21,
      "metadata": {
        "id": "mQ9RAe5fMnYy",
        "colab": {
          "base_uri": "https://localhost:8080/",
          "height": 1000
        },
        "outputId": "1ba3bd07-896f-4f2d-9a28-682e5095dce0"
      },
      "outputs": [
        {
          "output_type": "stream",
          "name": "stdout",
          "text": [
            "Epoch 1/500\n",
            "1/3 [=========>....................] - ETA: 6s - loss: 0.2653INFO:tensorflow:Assets written to: path_to_checkpoint_filepath/assets\n"
          ]
        },
        {
          "output_type": "stream",
          "name": "stderr",
          "text": [
            "WARNING:absl:<keras.layers.recurrent.LSTMCell object at 0x7f3a65626a90> has the same name 'LSTMCell' as a built-in Keras object. Consider renaming <class 'keras.layers.recurrent.LSTMCell'> to avoid naming conflicts when loading with `tf.keras.models.load_model`. If renaming is not possible, pass the object in the `custom_objects` parameter of the load function.\n",
            "WARNING:absl:<keras.layers.recurrent.LSTMCell object at 0x7f3a65adc2d0> has the same name 'LSTMCell' as a built-in Keras object. Consider renaming <class 'keras.layers.recurrent.LSTMCell'> to avoid naming conflicts when loading with `tf.keras.models.load_model`. If renaming is not possible, pass the object in the `custom_objects` parameter of the load function.\n"
          ]
        },
        {
          "output_type": "stream",
          "name": "stdout",
          "text": [
            "\b\b\b\b\b\b\b\b\b\b\b\b\b\b\b\b\b\b\b\b\b\b\b\b\b\b\b\b\b\b\b\b\b\b\b\b\b\b\b\b\b\b\b\b\b\b\b\b\b\b\b\b\b\b\b\b\b\b\b\b\b\r3/3 [==============================] - 9s 3s/step - loss: 0.2987 - val_loss: 0.8885 - lr: 4.0000e-04\n",
            "Epoch 2/500\n",
            "1/3 [=========>....................] - ETA: 0s - loss: 0.3089INFO:tensorflow:Assets written to: path_to_checkpoint_filepath/assets\n"
          ]
        },
        {
          "output_type": "stream",
          "name": "stderr",
          "text": [
            "INFO:tensorflow:Assets written to: path_to_checkpoint_filepath/assets\n",
            "WARNING:absl:<keras.layers.recurrent.LSTMCell object at 0x7f3a65626a90> has the same name 'LSTMCell' as a built-in Keras object. Consider renaming <class 'keras.layers.recurrent.LSTMCell'> to avoid naming conflicts when loading with `tf.keras.models.load_model`. If renaming is not possible, pass the object in the `custom_objects` parameter of the load function.\n",
            "WARNING:absl:<keras.layers.recurrent.LSTMCell object at 0x7f3a65adc2d0> has the same name 'LSTMCell' as a built-in Keras object. Consider renaming <class 'keras.layers.recurrent.LSTMCell'> to avoid naming conflicts when loading with `tf.keras.models.load_model`. If renaming is not possible, pass the object in the `custom_objects` parameter of the load function.\n"
          ]
        },
        {
          "output_type": "stream",
          "name": "stdout",
          "text": [
            "\b\b\b\b\b\b\b\b\b\b\b\b\b\b\b\b\b\b\b\b\b\b\b\b\b\b\b\b\b\b\b\b\b\b\b\b\b\b\b\b\b\b\b\b\b\b\b\b\b\b\b\b\b\b\b\b\b\b\b\b\b\r3/3 [==============================] - 5s 2s/step - loss: 0.2946 - val_loss: 0.8802 - lr: 4.0000e-04\n",
            "Epoch 3/500\n",
            "1/3 [=========>....................] - ETA: 0s - loss: 0.2742INFO:tensorflow:Assets written to: path_to_checkpoint_filepath/assets\n"
          ]
        },
        {
          "output_type": "stream",
          "name": "stderr",
          "text": [
            "INFO:tensorflow:Assets written to: path_to_checkpoint_filepath/assets\n",
            "WARNING:absl:<keras.layers.recurrent.LSTMCell object at 0x7f3a65626a90> has the same name 'LSTMCell' as a built-in Keras object. Consider renaming <class 'keras.layers.recurrent.LSTMCell'> to avoid naming conflicts when loading with `tf.keras.models.load_model`. If renaming is not possible, pass the object in the `custom_objects` parameter of the load function.\n",
            "WARNING:absl:<keras.layers.recurrent.LSTMCell object at 0x7f3a65adc2d0> has the same name 'LSTMCell' as a built-in Keras object. Consider renaming <class 'keras.layers.recurrent.LSTMCell'> to avoid naming conflicts when loading with `tf.keras.models.load_model`. If renaming is not possible, pass the object in the `custom_objects` parameter of the load function.\n"
          ]
        },
        {
          "output_type": "stream",
          "name": "stdout",
          "text": [
            "\b\b\b\b\b\b\b\b\b\b\b\b\b\b\b\b\b\b\b\b\b\b\b\b\b\b\b\b\b\b\b\b\b\b\b\b\b\b\b\b\b\b\b\b\b\b\b\b\b\b\b\b\b\b\b\b\b\b\b\b\b\r3/3 [==============================] - 5s 3s/step - loss: 0.2906 - val_loss: 0.8711 - lr: 4.0000e-04\n",
            "Epoch 4/500\n",
            "1/3 [=========>....................] - ETA: 0s - loss: 0.2390INFO:tensorflow:Assets written to: path_to_checkpoint_filepath/assets\n"
          ]
        },
        {
          "output_type": "stream",
          "name": "stderr",
          "text": [
            "INFO:tensorflow:Assets written to: path_to_checkpoint_filepath/assets\n",
            "WARNING:absl:<keras.layers.recurrent.LSTMCell object at 0x7f3a65626a90> has the same name 'LSTMCell' as a built-in Keras object. Consider renaming <class 'keras.layers.recurrent.LSTMCell'> to avoid naming conflicts when loading with `tf.keras.models.load_model`. If renaming is not possible, pass the object in the `custom_objects` parameter of the load function.\n",
            "WARNING:absl:<keras.layers.recurrent.LSTMCell object at 0x7f3a65adc2d0> has the same name 'LSTMCell' as a built-in Keras object. Consider renaming <class 'keras.layers.recurrent.LSTMCell'> to avoid naming conflicts when loading with `tf.keras.models.load_model`. If renaming is not possible, pass the object in the `custom_objects` parameter of the load function.\n"
          ]
        },
        {
          "output_type": "stream",
          "name": "stdout",
          "text": [
            "\b\b\b\b\b\b\b\b\b\b\b\b\b\b\b\b\b\b\b\b\b\b\b\b\b\b\b\b\b\b\b\b\b\b\b\b\b\b\b\b\b\b\b\b\b\b\b\b\b\b\b\b\b\b\b\b\b\b\b\b\b\r3/3 [==============================] - 5s 2s/step - loss: 0.2862 - val_loss: 0.8603 - lr: 4.0000e-04\n",
            "Epoch 5/500\n",
            "1/3 [=========>....................] - ETA: 0s - loss: 0.2752INFO:tensorflow:Assets written to: path_to_checkpoint_filepath/assets\n"
          ]
        },
        {
          "output_type": "stream",
          "name": "stderr",
          "text": [
            "INFO:tensorflow:Assets written to: path_to_checkpoint_filepath/assets\n",
            "WARNING:absl:<keras.layers.recurrent.LSTMCell object at 0x7f3a65626a90> has the same name 'LSTMCell' as a built-in Keras object. Consider renaming <class 'keras.layers.recurrent.LSTMCell'> to avoid naming conflicts when loading with `tf.keras.models.load_model`. If renaming is not possible, pass the object in the `custom_objects` parameter of the load function.\n",
            "WARNING:absl:<keras.layers.recurrent.LSTMCell object at 0x7f3a65adc2d0> has the same name 'LSTMCell' as a built-in Keras object. Consider renaming <class 'keras.layers.recurrent.LSTMCell'> to avoid naming conflicts when loading with `tf.keras.models.load_model`. If renaming is not possible, pass the object in the `custom_objects` parameter of the load function.\n"
          ]
        },
        {
          "output_type": "stream",
          "name": "stdout",
          "text": [
            "\b\b\b\b\b\b\b\b\b\b\b\b\b\b\b\b\b\b\b\b\b\b\b\b\b\b\b\b\b\b\b\b\b\b\b\b\b\b\b\b\b\b\b\b\b\b\b\b\b\b\b\b\b\b\b\b\b\b\b\b\b\r3/3 [==============================] - 5s 2s/step - loss: 0.2816 - val_loss: 0.8475 - lr: 4.0000e-04\n",
            "Epoch 6/500\n",
            "1/3 [=========>....................] - ETA: 0s - loss: 0.2630INFO:tensorflow:Assets written to: path_to_checkpoint_filepath/assets\n"
          ]
        },
        {
          "output_type": "stream",
          "name": "stderr",
          "text": [
            "INFO:tensorflow:Assets written to: path_to_checkpoint_filepath/assets\n",
            "WARNING:absl:<keras.layers.recurrent.LSTMCell object at 0x7f3a65626a90> has the same name 'LSTMCell' as a built-in Keras object. Consider renaming <class 'keras.layers.recurrent.LSTMCell'> to avoid naming conflicts when loading with `tf.keras.models.load_model`. If renaming is not possible, pass the object in the `custom_objects` parameter of the load function.\n",
            "WARNING:absl:<keras.layers.recurrent.LSTMCell object at 0x7f3a65adc2d0> has the same name 'LSTMCell' as a built-in Keras object. Consider renaming <class 'keras.layers.recurrent.LSTMCell'> to avoid naming conflicts when loading with `tf.keras.models.load_model`. If renaming is not possible, pass the object in the `custom_objects` parameter of the load function.\n"
          ]
        },
        {
          "output_type": "stream",
          "name": "stdout",
          "text": [
            "\b\b\b\b\b\b\b\b\b\b\b\b\b\b\b\b\b\b\b\b\b\b\b\b\b\b\b\b\b\b\b\b\b\b\b\b\b\b\b\b\b\b\b\b\b\b\b\b\b\b\b\b\b\b\b\b\b\b\b\b\b\r3/3 [==============================] - 5s 2s/step - loss: 0.2761 - val_loss: 0.8317 - lr: 4.0000e-04\n",
            "Epoch 7/500\n",
            "1/3 [=========>....................] - ETA: 0s - loss: 0.2690INFO:tensorflow:Assets written to: path_to_checkpoint_filepath/assets\n"
          ]
        },
        {
          "output_type": "stream",
          "name": "stderr",
          "text": [
            "INFO:tensorflow:Assets written to: path_to_checkpoint_filepath/assets\n",
            "WARNING:absl:<keras.layers.recurrent.LSTMCell object at 0x7f3a65626a90> has the same name 'LSTMCell' as a built-in Keras object. Consider renaming <class 'keras.layers.recurrent.LSTMCell'> to avoid naming conflicts when loading with `tf.keras.models.load_model`. If renaming is not possible, pass the object in the `custom_objects` parameter of the load function.\n",
            "WARNING:absl:<keras.layers.recurrent.LSTMCell object at 0x7f3a65adc2d0> has the same name 'LSTMCell' as a built-in Keras object. Consider renaming <class 'keras.layers.recurrent.LSTMCell'> to avoid naming conflicts when loading with `tf.keras.models.load_model`. If renaming is not possible, pass the object in the `custom_objects` parameter of the load function.\n"
          ]
        },
        {
          "output_type": "stream",
          "name": "stdout",
          "text": [
            "\b\b\b\b\b\b\b\b\b\b\b\b\b\b\b\b\b\b\b\b\b\b\b\b\b\b\b\b\b\b\b\b\b\b\b\b\b\b\b\b\b\b\b\b\b\b\b\b\b\b\b\b\b\b\b\b\b\b\b\b\b\r3/3 [==============================] - 7s 3s/step - loss: 0.2697 - val_loss: 0.8114 - lr: 4.0000e-04\n",
            "Epoch 8/500\n",
            "1/3 [=========>....................] - ETA: 0s - loss: 0.2639INFO:tensorflow:Assets written to: path_to_checkpoint_filepath/assets\n"
          ]
        },
        {
          "output_type": "stream",
          "name": "stderr",
          "text": [
            "INFO:tensorflow:Assets written to: path_to_checkpoint_filepath/assets\n",
            "WARNING:absl:<keras.layers.recurrent.LSTMCell object at 0x7f3a65626a90> has the same name 'LSTMCell' as a built-in Keras object. Consider renaming <class 'keras.layers.recurrent.LSTMCell'> to avoid naming conflicts when loading with `tf.keras.models.load_model`. If renaming is not possible, pass the object in the `custom_objects` parameter of the load function.\n",
            "WARNING:absl:<keras.layers.recurrent.LSTMCell object at 0x7f3a65adc2d0> has the same name 'LSTMCell' as a built-in Keras object. Consider renaming <class 'keras.layers.recurrent.LSTMCell'> to avoid naming conflicts when loading with `tf.keras.models.load_model`. If renaming is not possible, pass the object in the `custom_objects` parameter of the load function.\n"
          ]
        },
        {
          "output_type": "stream",
          "name": "stdout",
          "text": [
            "\b\b\b\b\b\b\b\b\b\b\b\b\b\b\b\b\b\b\b\b\b\b\b\b\b\b\b\b\b\b\b\b\b\b\b\b\b\b\b\b\b\b\b\b\b\b\b\b\b\b\b\b\b\b\b\b\b\b\b\b\b\r3/3 [==============================] - 5s 2s/step - loss: 0.2622 - val_loss: 0.7844 - lr: 4.0000e-04\n",
            "Epoch 9/500\n",
            "1/3 [=========>....................] - ETA: 0s - loss: 0.2435INFO:tensorflow:Assets written to: path_to_checkpoint_filepath/assets\n"
          ]
        },
        {
          "output_type": "stream",
          "name": "stderr",
          "text": [
            "INFO:tensorflow:Assets written to: path_to_checkpoint_filepath/assets\n",
            "WARNING:absl:<keras.layers.recurrent.LSTMCell object at 0x7f3a65626a90> has the same name 'LSTMCell' as a built-in Keras object. Consider renaming <class 'keras.layers.recurrent.LSTMCell'> to avoid naming conflicts when loading with `tf.keras.models.load_model`. If renaming is not possible, pass the object in the `custom_objects` parameter of the load function.\n",
            "WARNING:absl:<keras.layers.recurrent.LSTMCell object at 0x7f3a65adc2d0> has the same name 'LSTMCell' as a built-in Keras object. Consider renaming <class 'keras.layers.recurrent.LSTMCell'> to avoid naming conflicts when loading with `tf.keras.models.load_model`. If renaming is not possible, pass the object in the `custom_objects` parameter of the load function.\n"
          ]
        },
        {
          "output_type": "stream",
          "name": "stdout",
          "text": [
            "\b\b\b\b\b\b\b\b\b\b\b\b\b\b\b\b\b\b\b\b\b\b\b\b\b\b\b\b\b\b\b\b\b\b\b\b\b\b\b\b\b\b\b\b\b\b\b\b\b\b\b\b\b\b\b\b\b\b\b\b\b\r3/3 [==============================] - 5s 2s/step - loss: 0.2535 - val_loss: 0.7485 - lr: 4.0000e-04\n",
            "Epoch 10/500\n",
            "1/3 [=========>....................] - ETA: 0s - loss: 0.2766INFO:tensorflow:Assets written to: path_to_checkpoint_filepath/assets\n"
          ]
        },
        {
          "output_type": "stream",
          "name": "stderr",
          "text": [
            "INFO:tensorflow:Assets written to: path_to_checkpoint_filepath/assets\n",
            "WARNING:absl:<keras.layers.recurrent.LSTMCell object at 0x7f3a65626a90> has the same name 'LSTMCell' as a built-in Keras object. Consider renaming <class 'keras.layers.recurrent.LSTMCell'> to avoid naming conflicts when loading with `tf.keras.models.load_model`. If renaming is not possible, pass the object in the `custom_objects` parameter of the load function.\n",
            "WARNING:absl:<keras.layers.recurrent.LSTMCell object at 0x7f3a65adc2d0> has the same name 'LSTMCell' as a built-in Keras object. Consider renaming <class 'keras.layers.recurrent.LSTMCell'> to avoid naming conflicts when loading with `tf.keras.models.load_model`. If renaming is not possible, pass the object in the `custom_objects` parameter of the load function.\n"
          ]
        },
        {
          "output_type": "stream",
          "name": "stdout",
          "text": [
            "\b\b\b\b\b\b\b\b\b\b\b\b\b\b\b\b\b\b\b\b\b\b\b\b\b\b\b\b\b\b\b\b\b\b\b\b\b\b\b\b\b\b\b\b\b\b\b\b\b\b\b\b\b\b\b\b\b\b\b\b\b\r3/3 [==============================] - 5s 2s/step - loss: 0.2440 - val_loss: 0.6995 - lr: 4.0000e-04\n",
            "Epoch 11/500\n",
            "1/3 [=========>....................] - ETA: 0s - loss: 0.2376INFO:tensorflow:Assets written to: path_to_checkpoint_filepath/assets\n"
          ]
        },
        {
          "output_type": "stream",
          "name": "stderr",
          "text": [
            "INFO:tensorflow:Assets written to: path_to_checkpoint_filepath/assets\n",
            "WARNING:absl:<keras.layers.recurrent.LSTMCell object at 0x7f3a65626a90> has the same name 'LSTMCell' as a built-in Keras object. Consider renaming <class 'keras.layers.recurrent.LSTMCell'> to avoid naming conflicts when loading with `tf.keras.models.load_model`. If renaming is not possible, pass the object in the `custom_objects` parameter of the load function.\n",
            "WARNING:absl:<keras.layers.recurrent.LSTMCell object at 0x7f3a65adc2d0> has the same name 'LSTMCell' as a built-in Keras object. Consider renaming <class 'keras.layers.recurrent.LSTMCell'> to avoid naming conflicts when loading with `tf.keras.models.load_model`. If renaming is not possible, pass the object in the `custom_objects` parameter of the load function.\n"
          ]
        },
        {
          "output_type": "stream",
          "name": "stdout",
          "text": [
            "\b\b\b\b\b\b\b\b\b\b\b\b\b\b\b\b\b\b\b\b\b\b\b\b\b\b\b\b\b\b\b\b\b\b\b\b\b\b\b\b\b\b\b\b\b\b\b\b\b\b\b\b\b\b\b\b\b\b\b\b\b\r3/3 [==============================] - 4s 2s/step - loss: 0.2324 - val_loss: 0.6453 - lr: 4.0000e-04\n",
            "Epoch 12/500\n",
            "1/3 [=========>....................] - ETA: 0s - loss: 0.2280INFO:tensorflow:Assets written to: path_to_checkpoint_filepath/assets\n"
          ]
        },
        {
          "output_type": "stream",
          "name": "stderr",
          "text": [
            "INFO:tensorflow:Assets written to: path_to_checkpoint_filepath/assets\n",
            "WARNING:absl:<keras.layers.recurrent.LSTMCell object at 0x7f3a65626a90> has the same name 'LSTMCell' as a built-in Keras object. Consider renaming <class 'keras.layers.recurrent.LSTMCell'> to avoid naming conflicts when loading with `tf.keras.models.load_model`. If renaming is not possible, pass the object in the `custom_objects` parameter of the load function.\n",
            "WARNING:absl:<keras.layers.recurrent.LSTMCell object at 0x7f3a65adc2d0> has the same name 'LSTMCell' as a built-in Keras object. Consider renaming <class 'keras.layers.recurrent.LSTMCell'> to avoid naming conflicts when loading with `tf.keras.models.load_model`. If renaming is not possible, pass the object in the `custom_objects` parameter of the load function.\n"
          ]
        },
        {
          "output_type": "stream",
          "name": "stdout",
          "text": [
            "\b\b\b\b\b\b\b\b\b\b\b\b\b\b\b\b\b\b\b\b\b\b\b\b\b\b\b\b\b\b\b\b\b\b\b\b\b\b\b\b\b\b\b\b\b\b\b\b\b\b\b\b\b\b\b\b\b\b\b\b\b\r3/3 [==============================] - 5s 2s/step - loss: 0.2209 - val_loss: 0.5898 - lr: 4.0000e-04\n",
            "Epoch 13/500\n",
            "1/3 [=========>....................] - ETA: 0s - loss: 0.2007INFO:tensorflow:Assets written to: path_to_checkpoint_filepath/assets\n"
          ]
        },
        {
          "output_type": "stream",
          "name": "stderr",
          "text": [
            "INFO:tensorflow:Assets written to: path_to_checkpoint_filepath/assets\n",
            "WARNING:absl:<keras.layers.recurrent.LSTMCell object at 0x7f3a65626a90> has the same name 'LSTMCell' as a built-in Keras object. Consider renaming <class 'keras.layers.recurrent.LSTMCell'> to avoid naming conflicts when loading with `tf.keras.models.load_model`. If renaming is not possible, pass the object in the `custom_objects` parameter of the load function.\n",
            "WARNING:absl:<keras.layers.recurrent.LSTMCell object at 0x7f3a65adc2d0> has the same name 'LSTMCell' as a built-in Keras object. Consider renaming <class 'keras.layers.recurrent.LSTMCell'> to avoid naming conflicts when loading with `tf.keras.models.load_model`. If renaming is not possible, pass the object in the `custom_objects` parameter of the load function.\n"
          ]
        },
        {
          "output_type": "stream",
          "name": "stdout",
          "text": [
            "\b\b\b\b\b\b\b\b\b\b\b\b\b\b\b\b\b\b\b\b\b\b\b\b\b\b\b\b\b\b\b\b\b\b\b\b\b\b\b\b\b\b\b\b\b\b\b\b\b\b\b\b\b\b\b\b\b\b\b\b\b\r3/3 [==============================] - 5s 2s/step - loss: 0.2115 - val_loss: 0.5554 - lr: 4.0000e-04\n",
            "Epoch 14/500\n",
            "1/3 [=========>....................] - ETA: 0s - loss: 0.2278INFO:tensorflow:Assets written to: path_to_checkpoint_filepath/assets\n"
          ]
        },
        {
          "output_type": "stream",
          "name": "stderr",
          "text": [
            "INFO:tensorflow:Assets written to: path_to_checkpoint_filepath/assets\n",
            "WARNING:absl:<keras.layers.recurrent.LSTMCell object at 0x7f3a65626a90> has the same name 'LSTMCell' as a built-in Keras object. Consider renaming <class 'keras.layers.recurrent.LSTMCell'> to avoid naming conflicts when loading with `tf.keras.models.load_model`. If renaming is not possible, pass the object in the `custom_objects` parameter of the load function.\n",
            "WARNING:absl:<keras.layers.recurrent.LSTMCell object at 0x7f3a65adc2d0> has the same name 'LSTMCell' as a built-in Keras object. Consider renaming <class 'keras.layers.recurrent.LSTMCell'> to avoid naming conflicts when loading with `tf.keras.models.load_model`. If renaming is not possible, pass the object in the `custom_objects` parameter of the load function.\n"
          ]
        },
        {
          "output_type": "stream",
          "name": "stdout",
          "text": [
            "\b\b\b\b\b\b\b\b\b\b\b\b\b\b\b\b\b\b\b\b\b\b\b\b\b\b\b\b\b\b\b\b\b\b\b\b\b\b\b\b\b\b\b\b\b\b\b\b\b\b\b\b\b\b\b\b\b\b\b\b\b\r3/3 [==============================] - 5s 2s/step - loss: 0.2058 - val_loss: 0.5397 - lr: 4.0000e-04\n",
            "Epoch 15/500\n",
            "1/3 [=========>....................] - ETA: 0s - loss: 0.2032INFO:tensorflow:Assets written to: path_to_checkpoint_filepath/assets\n"
          ]
        },
        {
          "output_type": "stream",
          "name": "stderr",
          "text": [
            "INFO:tensorflow:Assets written to: path_to_checkpoint_filepath/assets\n",
            "WARNING:absl:<keras.layers.recurrent.LSTMCell object at 0x7f3a65626a90> has the same name 'LSTMCell' as a built-in Keras object. Consider renaming <class 'keras.layers.recurrent.LSTMCell'> to avoid naming conflicts when loading with `tf.keras.models.load_model`. If renaming is not possible, pass the object in the `custom_objects` parameter of the load function.\n",
            "WARNING:absl:<keras.layers.recurrent.LSTMCell object at 0x7f3a65adc2d0> has the same name 'LSTMCell' as a built-in Keras object. Consider renaming <class 'keras.layers.recurrent.LSTMCell'> to avoid naming conflicts when loading with `tf.keras.models.load_model`. If renaming is not possible, pass the object in the `custom_objects` parameter of the load function.\n"
          ]
        },
        {
          "output_type": "stream",
          "name": "stdout",
          "text": [
            "\b\b\b\b\b\b\b\b\b\b\b\b\b\b\b\b\b\b\b\b\b\b\b\b\b\b\b\b\b\b\b\b\b\b\b\b\b\b\b\b\b\b\b\b\b\b\b\b\b\b\b\b\b\b\b\b\b\b\b\b\b\r3/3 [==============================] - 5s 3s/step - loss: 0.2014 - val_loss: 0.5201 - lr: 4.0000e-04\n",
            "Epoch 16/500\n",
            "1/3 [=========>....................] - ETA: 0s - loss: 0.2024INFO:tensorflow:Assets written to: path_to_checkpoint_filepath/assets\n"
          ]
        },
        {
          "output_type": "stream",
          "name": "stderr",
          "text": [
            "INFO:tensorflow:Assets written to: path_to_checkpoint_filepath/assets\n",
            "WARNING:absl:<keras.layers.recurrent.LSTMCell object at 0x7f3a65626a90> has the same name 'LSTMCell' as a built-in Keras object. Consider renaming <class 'keras.layers.recurrent.LSTMCell'> to avoid naming conflicts when loading with `tf.keras.models.load_model`. If renaming is not possible, pass the object in the `custom_objects` parameter of the load function.\n",
            "WARNING:absl:<keras.layers.recurrent.LSTMCell object at 0x7f3a65adc2d0> has the same name 'LSTMCell' as a built-in Keras object. Consider renaming <class 'keras.layers.recurrent.LSTMCell'> to avoid naming conflicts when loading with `tf.keras.models.load_model`. If renaming is not possible, pass the object in the `custom_objects` parameter of the load function.\n"
          ]
        },
        {
          "output_type": "stream",
          "name": "stdout",
          "text": [
            "\b\b\b\b\b\b\b\b\b\b\b\b\b\b\b\b\b\b\b\b\b\b\b\b\b\b\b\b\b\b\b\b\b\b\b\b\b\b\b\b\b\b\b\b\b\b\b\b\b\b\b\b\b\b\b\b\b\b\b\b\b\r3/3 [==============================] - 5s 2s/step - loss: 0.1944 - val_loss: 0.4970 - lr: 4.0000e-04\n",
            "Epoch 17/500\n",
            "1/3 [=========>....................] - ETA: 0s - loss: 0.1925INFO:tensorflow:Assets written to: path_to_checkpoint_filepath/assets\n"
          ]
        },
        {
          "output_type": "stream",
          "name": "stderr",
          "text": [
            "INFO:tensorflow:Assets written to: path_to_checkpoint_filepath/assets\n",
            "WARNING:absl:<keras.layers.recurrent.LSTMCell object at 0x7f3a65626a90> has the same name 'LSTMCell' as a built-in Keras object. Consider renaming <class 'keras.layers.recurrent.LSTMCell'> to avoid naming conflicts when loading with `tf.keras.models.load_model`. If renaming is not possible, pass the object in the `custom_objects` parameter of the load function.\n",
            "WARNING:absl:<keras.layers.recurrent.LSTMCell object at 0x7f3a65adc2d0> has the same name 'LSTMCell' as a built-in Keras object. Consider renaming <class 'keras.layers.recurrent.LSTMCell'> to avoid naming conflicts when loading with `tf.keras.models.load_model`. If renaming is not possible, pass the object in the `custom_objects` parameter of the load function.\n"
          ]
        },
        {
          "output_type": "stream",
          "name": "stdout",
          "text": [
            "\b\b\b\b\b\b\b\b\b\b\b\b\b\b\b\b\b\b\b\b\b\b\b\b\b\b\b\b\b\b\b\b\b\b\b\b\b\b\b\b\b\b\b\b\b\b\b\b\b\b\b\b\b\b\b\b\b\b\b\b\b\r3/3 [==============================] - 5s 3s/step - loss: 0.1863 - val_loss: 0.4741 - lr: 4.0000e-04\n",
            "Epoch 18/500\n",
            "1/3 [=========>....................] - ETA: 0s - loss: 0.1782INFO:tensorflow:Assets written to: path_to_checkpoint_filepath/assets\n"
          ]
        },
        {
          "output_type": "stream",
          "name": "stderr",
          "text": [
            "INFO:tensorflow:Assets written to: path_to_checkpoint_filepath/assets\n",
            "WARNING:absl:<keras.layers.recurrent.LSTMCell object at 0x7f3a65626a90> has the same name 'LSTMCell' as a built-in Keras object. Consider renaming <class 'keras.layers.recurrent.LSTMCell'> to avoid naming conflicts when loading with `tf.keras.models.load_model`. If renaming is not possible, pass the object in the `custom_objects` parameter of the load function.\n",
            "WARNING:absl:<keras.layers.recurrent.LSTMCell object at 0x7f3a65adc2d0> has the same name 'LSTMCell' as a built-in Keras object. Consider renaming <class 'keras.layers.recurrent.LSTMCell'> to avoid naming conflicts when loading with `tf.keras.models.load_model`. If renaming is not possible, pass the object in the `custom_objects` parameter of the load function.\n"
          ]
        },
        {
          "output_type": "stream",
          "name": "stdout",
          "text": [
            "\b\b\b\b\b\b\b\b\b\b\b\b\b\b\b\b\b\b\b\b\b\b\b\b\b\b\b\b\b\b\b\b\b\b\b\b\b\b\b\b\b\b\b\b\b\b\b\b\b\b\b\b\b\b\b\b\b\b\b\b\b\r3/3 [==============================] - 4s 2s/step - loss: 0.1790 - val_loss: 0.4566 - lr: 4.0000e-04\n",
            "Epoch 19/500\n",
            "1/3 [=========>....................] - ETA: 0s - loss: 0.1845INFO:tensorflow:Assets written to: path_to_checkpoint_filepath/assets\n"
          ]
        },
        {
          "output_type": "stream",
          "name": "stderr",
          "text": [
            "INFO:tensorflow:Assets written to: path_to_checkpoint_filepath/assets\n",
            "WARNING:absl:<keras.layers.recurrent.LSTMCell object at 0x7f3a65626a90> has the same name 'LSTMCell' as a built-in Keras object. Consider renaming <class 'keras.layers.recurrent.LSTMCell'> to avoid naming conflicts when loading with `tf.keras.models.load_model`. If renaming is not possible, pass the object in the `custom_objects` parameter of the load function.\n",
            "WARNING:absl:<keras.layers.recurrent.LSTMCell object at 0x7f3a65adc2d0> has the same name 'LSTMCell' as a built-in Keras object. Consider renaming <class 'keras.layers.recurrent.LSTMCell'> to avoid naming conflicts when loading with `tf.keras.models.load_model`. If renaming is not possible, pass the object in the `custom_objects` parameter of the load function.\n"
          ]
        },
        {
          "output_type": "stream",
          "name": "stdout",
          "text": [
            "\b\b\b\b\b\b\b\b\b\b\b\b\b\b\b\b\b\b\b\b\b\b\b\b\b\b\b\b\b\b\b\b\b\b\b\b\b\b\b\b\b\b\b\b\b\b\b\b\b\b\b\b\b\b\b\b\b\b\b\b\b\r3/3 [==============================] - 5s 2s/step - loss: 0.1726 - val_loss: 0.4448 - lr: 4.0000e-04\n",
            "Epoch 20/500\n",
            "1/3 [=========>....................] - ETA: 0s - loss: 0.1510INFO:tensorflow:Assets written to: path_to_checkpoint_filepath/assets\n"
          ]
        },
        {
          "output_type": "stream",
          "name": "stderr",
          "text": [
            "INFO:tensorflow:Assets written to: path_to_checkpoint_filepath/assets\n",
            "WARNING:absl:<keras.layers.recurrent.LSTMCell object at 0x7f3a65626a90> has the same name 'LSTMCell' as a built-in Keras object. Consider renaming <class 'keras.layers.recurrent.LSTMCell'> to avoid naming conflicts when loading with `tf.keras.models.load_model`. If renaming is not possible, pass the object in the `custom_objects` parameter of the load function.\n",
            "WARNING:absl:<keras.layers.recurrent.LSTMCell object at 0x7f3a65adc2d0> has the same name 'LSTMCell' as a built-in Keras object. Consider renaming <class 'keras.layers.recurrent.LSTMCell'> to avoid naming conflicts when loading with `tf.keras.models.load_model`. If renaming is not possible, pass the object in the `custom_objects` parameter of the load function.\n"
          ]
        },
        {
          "output_type": "stream",
          "name": "stdout",
          "text": [
            "\b\b\b\b\b\b\b\b\b\b\b\b\b\b\b\b\b\b\b\b\b\b\b\b\b\b\b\b\b\b\b\b\b\b\b\b\b\b\b\b\b\b\b\b\b\b\b\b\b\b\b\b\b\b\b\b\b\b\b\b\b\r3/3 [==============================] - 4s 2s/step - loss: 0.1662 - val_loss: 0.4347 - lr: 4.0000e-04\n",
            "Epoch 21/500\n",
            "1/3 [=========>....................] - ETA: 0s - loss: 0.1599INFO:tensorflow:Assets written to: path_to_checkpoint_filepath/assets\n"
          ]
        },
        {
          "output_type": "stream",
          "name": "stderr",
          "text": [
            "INFO:tensorflow:Assets written to: path_to_checkpoint_filepath/assets\n",
            "WARNING:absl:<keras.layers.recurrent.LSTMCell object at 0x7f3a65626a90> has the same name 'LSTMCell' as a built-in Keras object. Consider renaming <class 'keras.layers.recurrent.LSTMCell'> to avoid naming conflicts when loading with `tf.keras.models.load_model`. If renaming is not possible, pass the object in the `custom_objects` parameter of the load function.\n",
            "WARNING:absl:<keras.layers.recurrent.LSTMCell object at 0x7f3a65adc2d0> has the same name 'LSTMCell' as a built-in Keras object. Consider renaming <class 'keras.layers.recurrent.LSTMCell'> to avoid naming conflicts when loading with `tf.keras.models.load_model`. If renaming is not possible, pass the object in the `custom_objects` parameter of the load function.\n"
          ]
        },
        {
          "output_type": "stream",
          "name": "stdout",
          "text": [
            "\b\b\b\b\b\b\b\b\b\b\b\b\b\b\b\b\b\b\b\b\b\b\b\b\b\b\b\b\b\b\b\b\b\b\b\b\b\b\b\b\b\b\b\b\b\b\b\b\b\b\b\b\b\b\b\b\b\b\b\b\b\r3/3 [==============================] - 5s 2s/step - loss: 0.1606 - val_loss: 0.4273 - lr: 4.0000e-04\n",
            "Epoch 22/500\n",
            "1/3 [=========>....................] - ETA: 0s - loss: 0.1572INFO:tensorflow:Assets written to: path_to_checkpoint_filepath/assets\n"
          ]
        },
        {
          "output_type": "stream",
          "name": "stderr",
          "text": [
            "INFO:tensorflow:Assets written to: path_to_checkpoint_filepath/assets\n",
            "WARNING:absl:<keras.layers.recurrent.LSTMCell object at 0x7f3a65626a90> has the same name 'LSTMCell' as a built-in Keras object. Consider renaming <class 'keras.layers.recurrent.LSTMCell'> to avoid naming conflicts when loading with `tf.keras.models.load_model`. If renaming is not possible, pass the object in the `custom_objects` parameter of the load function.\n",
            "WARNING:absl:<keras.layers.recurrent.LSTMCell object at 0x7f3a65adc2d0> has the same name 'LSTMCell' as a built-in Keras object. Consider renaming <class 'keras.layers.recurrent.LSTMCell'> to avoid naming conflicts when loading with `tf.keras.models.load_model`. If renaming is not possible, pass the object in the `custom_objects` parameter of the load function.\n"
          ]
        },
        {
          "output_type": "stream",
          "name": "stdout",
          "text": [
            "\b\b\b\b\b\b\b\b\b\b\b\b\b\b\b\b\b\b\b\b\b\b\b\b\b\b\b\b\b\b\b\b\b\b\b\b\b\b\b\b\b\b\b\b\b\b\b\b\b\b\b\b\b\b\b\b\b\b\b\b\b\r3/3 [==============================] - 5s 2s/step - loss: 0.1551 - val_loss: 0.4146 - lr: 4.0000e-04\n",
            "Epoch 23/500\n",
            "1/3 [=========>....................] - ETA: 0s - loss: 0.1538INFO:tensorflow:Assets written to: path_to_checkpoint_filepath/assets\n"
          ]
        },
        {
          "output_type": "stream",
          "name": "stderr",
          "text": [
            "INFO:tensorflow:Assets written to: path_to_checkpoint_filepath/assets\n",
            "WARNING:absl:<keras.layers.recurrent.LSTMCell object at 0x7f3a65626a90> has the same name 'LSTMCell' as a built-in Keras object. Consider renaming <class 'keras.layers.recurrent.LSTMCell'> to avoid naming conflicts when loading with `tf.keras.models.load_model`. If renaming is not possible, pass the object in the `custom_objects` parameter of the load function.\n",
            "WARNING:absl:<keras.layers.recurrent.LSTMCell object at 0x7f3a65adc2d0> has the same name 'LSTMCell' as a built-in Keras object. Consider renaming <class 'keras.layers.recurrent.LSTMCell'> to avoid naming conflicts when loading with `tf.keras.models.load_model`. If renaming is not possible, pass the object in the `custom_objects` parameter of the load function.\n"
          ]
        },
        {
          "output_type": "stream",
          "name": "stdout",
          "text": [
            "\b\b\b\b\b\b\b\b\b\b\b\b\b\b\b\b\b\b\b\b\b\b\b\b\b\b\b\b\b\b\b\b\b\b\b\b\b\b\b\b\b\b\b\b\b\b\b\b\b\b\b\b\b\b\b\b\b\b\b\b\b\r3/3 [==============================] - 4s 2s/step - loss: 0.1501 - val_loss: 0.3937 - lr: 4.0000e-04\n",
            "Epoch 24/500\n",
            "1/3 [=========>....................] - ETA: 0s - loss: 0.1437INFO:tensorflow:Assets written to: path_to_checkpoint_filepath/assets\n"
          ]
        },
        {
          "output_type": "stream",
          "name": "stderr",
          "text": [
            "INFO:tensorflow:Assets written to: path_to_checkpoint_filepath/assets\n",
            "WARNING:absl:<keras.layers.recurrent.LSTMCell object at 0x7f3a65626a90> has the same name 'LSTMCell' as a built-in Keras object. Consider renaming <class 'keras.layers.recurrent.LSTMCell'> to avoid naming conflicts when loading with `tf.keras.models.load_model`. If renaming is not possible, pass the object in the `custom_objects` parameter of the load function.\n",
            "WARNING:absl:<keras.layers.recurrent.LSTMCell object at 0x7f3a65adc2d0> has the same name 'LSTMCell' as a built-in Keras object. Consider renaming <class 'keras.layers.recurrent.LSTMCell'> to avoid naming conflicts when loading with `tf.keras.models.load_model`. If renaming is not possible, pass the object in the `custom_objects` parameter of the load function.\n"
          ]
        },
        {
          "output_type": "stream",
          "name": "stdout",
          "text": [
            "\b\b\b\b\b\b\b\b\b\b\b\b\b\b\b\b\b\b\b\b\b\b\b\b\b\b\b\b\b\b\b\b\b\b\b\b\b\b\b\b\b\b\b\b\b\b\b\b\b\b\b\b\b\b\b\b\b\b\b\b\b\r3/3 [==============================] - 5s 2s/step - loss: 0.1450 - val_loss: 0.3739 - lr: 4.0000e-04\n",
            "Epoch 25/500\n",
            "1/3 [=========>....................] - ETA: 0s - loss: 0.1511INFO:tensorflow:Assets written to: path_to_checkpoint_filepath/assets\n"
          ]
        },
        {
          "output_type": "stream",
          "name": "stderr",
          "text": [
            "INFO:tensorflow:Assets written to: path_to_checkpoint_filepath/assets\n",
            "WARNING:absl:<keras.layers.recurrent.LSTMCell object at 0x7f3a65626a90> has the same name 'LSTMCell' as a built-in Keras object. Consider renaming <class 'keras.layers.recurrent.LSTMCell'> to avoid naming conflicts when loading with `tf.keras.models.load_model`. If renaming is not possible, pass the object in the `custom_objects` parameter of the load function.\n",
            "WARNING:absl:<keras.layers.recurrent.LSTMCell object at 0x7f3a65adc2d0> has the same name 'LSTMCell' as a built-in Keras object. Consider renaming <class 'keras.layers.recurrent.LSTMCell'> to avoid naming conflicts when loading with `tf.keras.models.load_model`. If renaming is not possible, pass the object in the `custom_objects` parameter of the load function.\n"
          ]
        },
        {
          "output_type": "stream",
          "name": "stdout",
          "text": [
            "\b\b\b\b\b\b\b\b\b\b\b\b\b\b\b\b\b\b\b\b\b\b\b\b\b\b\b\b\b\b\b\b\b\b\b\b\b\b\b\b\b\b\b\b\b\b\b\b\b\b\b\b\b\b\b\b\b\b\b\b\b\r3/3 [==============================] - 5s 2s/step - loss: 0.1400 - val_loss: 0.3591 - lr: 4.0000e-04\n",
            "Epoch 26/500\n",
            "1/3 [=========>....................] - ETA: 0s - loss: 0.1257INFO:tensorflow:Assets written to: path_to_checkpoint_filepath/assets\n"
          ]
        },
        {
          "output_type": "stream",
          "name": "stderr",
          "text": [
            "INFO:tensorflow:Assets written to: path_to_checkpoint_filepath/assets\n",
            "WARNING:absl:<keras.layers.recurrent.LSTMCell object at 0x7f3a65626a90> has the same name 'LSTMCell' as a built-in Keras object. Consider renaming <class 'keras.layers.recurrent.LSTMCell'> to avoid naming conflicts when loading with `tf.keras.models.load_model`. If renaming is not possible, pass the object in the `custom_objects` parameter of the load function.\n",
            "WARNING:absl:<keras.layers.recurrent.LSTMCell object at 0x7f3a65adc2d0> has the same name 'LSTMCell' as a built-in Keras object. Consider renaming <class 'keras.layers.recurrent.LSTMCell'> to avoid naming conflicts when loading with `tf.keras.models.load_model`. If renaming is not possible, pass the object in the `custom_objects` parameter of the load function.\n"
          ]
        },
        {
          "output_type": "stream",
          "name": "stdout",
          "text": [
            "\b\b\b\b\b\b\b\b\b\b\b\b\b\b\b\b\b\b\b\b\b\b\b\b\b\b\b\b\b\b\b\b\b\b\b\b\b\b\b\b\b\b\b\b\b\b\b\b\b\b\b\b\b\b\b\b\b\b\b\b\b\r3/3 [==============================] - 5s 2s/step - loss: 0.1345 - val_loss: 0.3426 - lr: 4.0000e-04\n",
            "Epoch 27/500\n",
            "1/3 [=========>....................] - ETA: 0s - loss: 0.1227INFO:tensorflow:Assets written to: path_to_checkpoint_filepath/assets\n"
          ]
        },
        {
          "output_type": "stream",
          "name": "stderr",
          "text": [
            "INFO:tensorflow:Assets written to: path_to_checkpoint_filepath/assets\n",
            "WARNING:absl:<keras.layers.recurrent.LSTMCell object at 0x7f3a65626a90> has the same name 'LSTMCell' as a built-in Keras object. Consider renaming <class 'keras.layers.recurrent.LSTMCell'> to avoid naming conflicts when loading with `tf.keras.models.load_model`. If renaming is not possible, pass the object in the `custom_objects` parameter of the load function.\n",
            "WARNING:absl:<keras.layers.recurrent.LSTMCell object at 0x7f3a65adc2d0> has the same name 'LSTMCell' as a built-in Keras object. Consider renaming <class 'keras.layers.recurrent.LSTMCell'> to avoid naming conflicts when loading with `tf.keras.models.load_model`. If renaming is not possible, pass the object in the `custom_objects` parameter of the load function.\n"
          ]
        },
        {
          "output_type": "stream",
          "name": "stdout",
          "text": [
            "\b\b\b\b\b\b\b\b\b\b\b\b\b\b\b\b\b\b\b\b\b\b\b\b\b\b\b\b\b\b\b\b\b\b\b\b\b\b\b\b\b\b\b\b\b\b\b\b\b\b\b\b\b\b\b\b\b\b\b\b\b\r3/3 [==============================] - 4s 2s/step - loss: 0.1295 - val_loss: 0.3241 - lr: 4.0000e-04\n",
            "Epoch 28/500\n",
            "1/3 [=========>....................] - ETA: 0s - loss: 0.1333INFO:tensorflow:Assets written to: path_to_checkpoint_filepath/assets\n"
          ]
        },
        {
          "output_type": "stream",
          "name": "stderr",
          "text": [
            "INFO:tensorflow:Assets written to: path_to_checkpoint_filepath/assets\n",
            "WARNING:absl:<keras.layers.recurrent.LSTMCell object at 0x7f3a65626a90> has the same name 'LSTMCell' as a built-in Keras object. Consider renaming <class 'keras.layers.recurrent.LSTMCell'> to avoid naming conflicts when loading with `tf.keras.models.load_model`. If renaming is not possible, pass the object in the `custom_objects` parameter of the load function.\n",
            "WARNING:absl:<keras.layers.recurrent.LSTMCell object at 0x7f3a65adc2d0> has the same name 'LSTMCell' as a built-in Keras object. Consider renaming <class 'keras.layers.recurrent.LSTMCell'> to avoid naming conflicts when loading with `tf.keras.models.load_model`. If renaming is not possible, pass the object in the `custom_objects` parameter of the load function.\n"
          ]
        },
        {
          "output_type": "stream",
          "name": "stdout",
          "text": [
            "\b\b\b\b\b\b\b\b\b\b\b\b\b\b\b\b\b\b\b\b\b\b\b\b\b\b\b\b\b\b\b\b\b\b\b\b\b\b\b\b\b\b\b\b\b\b\b\b\b\b\b\b\b\b\b\b\b\b\b\b\b\r3/3 [==============================] - 5s 2s/step - loss: 0.1243 - val_loss: 0.3025 - lr: 4.0000e-04\n",
            "Epoch 29/500\n",
            "1/3 [=========>....................] - ETA: 0s - loss: 0.1143INFO:tensorflow:Assets written to: path_to_checkpoint_filepath/assets\n"
          ]
        },
        {
          "output_type": "stream",
          "name": "stderr",
          "text": [
            "INFO:tensorflow:Assets written to: path_to_checkpoint_filepath/assets\n",
            "WARNING:absl:<keras.layers.recurrent.LSTMCell object at 0x7f3a65626a90> has the same name 'LSTMCell' as a built-in Keras object. Consider renaming <class 'keras.layers.recurrent.LSTMCell'> to avoid naming conflicts when loading with `tf.keras.models.load_model`. If renaming is not possible, pass the object in the `custom_objects` parameter of the load function.\n",
            "WARNING:absl:<keras.layers.recurrent.LSTMCell object at 0x7f3a65adc2d0> has the same name 'LSTMCell' as a built-in Keras object. Consider renaming <class 'keras.layers.recurrent.LSTMCell'> to avoid naming conflicts when loading with `tf.keras.models.load_model`. If renaming is not possible, pass the object in the `custom_objects` parameter of the load function.\n"
          ]
        },
        {
          "output_type": "stream",
          "name": "stdout",
          "text": [
            "\b\b\b\b\b\b\b\b\b\b\b\b\b\b\b\b\b\b\b\b\b\b\b\b\b\b\b\b\b\b\b\b\b\b\b\b\b\b\b\b\b\b\b\b\b\b\b\b\b\b\b\b\b\b\b\b\b\b\b\b\b\r3/3 [==============================] - 5s 2s/step - loss: 0.1188 - val_loss: 0.2800 - lr: 4.0000e-04\n",
            "Epoch 30/500\n",
            "1/3 [=========>....................] - ETA: 0s - loss: 0.1154INFO:tensorflow:Assets written to: path_to_checkpoint_filepath/assets\n"
          ]
        },
        {
          "output_type": "stream",
          "name": "stderr",
          "text": [
            "INFO:tensorflow:Assets written to: path_to_checkpoint_filepath/assets\n",
            "WARNING:absl:<keras.layers.recurrent.LSTMCell object at 0x7f3a65626a90> has the same name 'LSTMCell' as a built-in Keras object. Consider renaming <class 'keras.layers.recurrent.LSTMCell'> to avoid naming conflicts when loading with `tf.keras.models.load_model`. If renaming is not possible, pass the object in the `custom_objects` parameter of the load function.\n",
            "WARNING:absl:<keras.layers.recurrent.LSTMCell object at 0x7f3a65adc2d0> has the same name 'LSTMCell' as a built-in Keras object. Consider renaming <class 'keras.layers.recurrent.LSTMCell'> to avoid naming conflicts when loading with `tf.keras.models.load_model`. If renaming is not possible, pass the object in the `custom_objects` parameter of the load function.\n"
          ]
        },
        {
          "output_type": "stream",
          "name": "stdout",
          "text": [
            "\b\b\b\b\b\b\b\b\b\b\b\b\b\b\b\b\b\b\b\b\b\b\b\b\b\b\b\b\b\b\b\b\b\b\b\b\b\b\b\b\b\b\b\b\b\b\b\b\b\b\b\b\b\b\b\b\b\b\b\b\b\r3/3 [==============================] - 4s 2s/step - loss: 0.1134 - val_loss: 0.2624 - lr: 4.0000e-04\n",
            "Epoch 31/500\n",
            "1/3 [=========>....................] - ETA: 0s - loss: 0.1177INFO:tensorflow:Assets written to: path_to_checkpoint_filepath/assets\n"
          ]
        },
        {
          "output_type": "stream",
          "name": "stderr",
          "text": [
            "INFO:tensorflow:Assets written to: path_to_checkpoint_filepath/assets\n",
            "WARNING:absl:<keras.layers.recurrent.LSTMCell object at 0x7f3a65626a90> has the same name 'LSTMCell' as a built-in Keras object. Consider renaming <class 'keras.layers.recurrent.LSTMCell'> to avoid naming conflicts when loading with `tf.keras.models.load_model`. If renaming is not possible, pass the object in the `custom_objects` parameter of the load function.\n",
            "WARNING:absl:<keras.layers.recurrent.LSTMCell object at 0x7f3a65adc2d0> has the same name 'LSTMCell' as a built-in Keras object. Consider renaming <class 'keras.layers.recurrent.LSTMCell'> to avoid naming conflicts when loading with `tf.keras.models.load_model`. If renaming is not possible, pass the object in the `custom_objects` parameter of the load function.\n"
          ]
        },
        {
          "output_type": "stream",
          "name": "stdout",
          "text": [
            "\b\b\b\b\b\b\b\b\b\b\b\b\b\b\b\b\b\b\b\b\b\b\b\b\b\b\b\b\b\b\b\b\b\b\b\b\b\b\b\b\b\b\b\b\b\b\b\b\b\b\b\b\b\b\b\b\b\b\b\b\b\r3/3 [==============================] - 5s 2s/step - loss: 0.1077 - val_loss: 0.2518 - lr: 4.0000e-04\n",
            "Epoch 32/500\n",
            "1/3 [=========>....................] - ETA: 0s - loss: 0.0961INFO:tensorflow:Assets written to: path_to_checkpoint_filepath/assets\n"
          ]
        },
        {
          "output_type": "stream",
          "name": "stderr",
          "text": [
            "INFO:tensorflow:Assets written to: path_to_checkpoint_filepath/assets\n",
            "WARNING:absl:<keras.layers.recurrent.LSTMCell object at 0x7f3a65626a90> has the same name 'LSTMCell' as a built-in Keras object. Consider renaming <class 'keras.layers.recurrent.LSTMCell'> to avoid naming conflicts when loading with `tf.keras.models.load_model`. If renaming is not possible, pass the object in the `custom_objects` parameter of the load function.\n",
            "WARNING:absl:<keras.layers.recurrent.LSTMCell object at 0x7f3a65adc2d0> has the same name 'LSTMCell' as a built-in Keras object. Consider renaming <class 'keras.layers.recurrent.LSTMCell'> to avoid naming conflicts when loading with `tf.keras.models.load_model`. If renaming is not possible, pass the object in the `custom_objects` parameter of the load function.\n"
          ]
        },
        {
          "output_type": "stream",
          "name": "stdout",
          "text": [
            "\b\b\b\b\b\b\b\b\b\b\b\b\b\b\b\b\b\b\b\b\b\b\b\b\b\b\b\b\b\b\b\b\b\b\b\b\b\b\b\b\b\b\b\b\b\b\b\b\b\b\b\b\b\b\b\b\b\b\b\b\b\r3/3 [==============================] - 4s 2s/step - loss: 0.1017 - val_loss: 0.2357 - lr: 4.0000e-04\n",
            "Epoch 33/500\n",
            "1/3 [=========>....................] - ETA: 0s - loss: 0.0959INFO:tensorflow:Assets written to: path_to_checkpoint_filepath/assets\n"
          ]
        },
        {
          "output_type": "stream",
          "name": "stderr",
          "text": [
            "INFO:tensorflow:Assets written to: path_to_checkpoint_filepath/assets\n",
            "WARNING:absl:<keras.layers.recurrent.LSTMCell object at 0x7f3a65626a90> has the same name 'LSTMCell' as a built-in Keras object. Consider renaming <class 'keras.layers.recurrent.LSTMCell'> to avoid naming conflicts when loading with `tf.keras.models.load_model`. If renaming is not possible, pass the object in the `custom_objects` parameter of the load function.\n",
            "WARNING:absl:<keras.layers.recurrent.LSTMCell object at 0x7f3a65adc2d0> has the same name 'LSTMCell' as a built-in Keras object. Consider renaming <class 'keras.layers.recurrent.LSTMCell'> to avoid naming conflicts when loading with `tf.keras.models.load_model`. If renaming is not possible, pass the object in the `custom_objects` parameter of the load function.\n"
          ]
        },
        {
          "output_type": "stream",
          "name": "stdout",
          "text": [
            "\b\b\b\b\b\b\b\b\b\b\b\b\b\b\b\b\b\b\b\b\b\b\b\b\b\b\b\b\b\b\b\b\b\b\b\b\b\b\b\b\b\b\b\b\b\b\b\b\b\b\b\b\b\b\b\b\b\b\b\b\b\r3/3 [==============================] - 5s 2s/step - loss: 0.0962 - val_loss: 0.2130 - lr: 4.0000e-04\n",
            "Epoch 34/500\n",
            "1/3 [=========>....................] - ETA: 0s - loss: 0.0925INFO:tensorflow:Assets written to: path_to_checkpoint_filepath/assets\n"
          ]
        },
        {
          "output_type": "stream",
          "name": "stderr",
          "text": [
            "INFO:tensorflow:Assets written to: path_to_checkpoint_filepath/assets\n",
            "WARNING:absl:<keras.layers.recurrent.LSTMCell object at 0x7f3a65626a90> has the same name 'LSTMCell' as a built-in Keras object. Consider renaming <class 'keras.layers.recurrent.LSTMCell'> to avoid naming conflicts when loading with `tf.keras.models.load_model`. If renaming is not possible, pass the object in the `custom_objects` parameter of the load function.\n",
            "WARNING:absl:<keras.layers.recurrent.LSTMCell object at 0x7f3a65adc2d0> has the same name 'LSTMCell' as a built-in Keras object. Consider renaming <class 'keras.layers.recurrent.LSTMCell'> to avoid naming conflicts when loading with `tf.keras.models.load_model`. If renaming is not possible, pass the object in the `custom_objects` parameter of the load function.\n"
          ]
        },
        {
          "output_type": "stream",
          "name": "stdout",
          "text": [
            "\b\b\b\b\b\b\b\b\b\b\b\b\b\b\b\b\b\b\b\b\b\b\b\b\b\b\b\b\b\b\b\b\b\b\b\b\b\b\b\b\b\b\b\b\b\b\b\b\b\b\b\b\b\b\b\b\b\b\b\b\b\r3/3 [==============================] - 4s 2s/step - loss: 0.0909 - val_loss: 0.1999 - lr: 4.0000e-04\n",
            "Epoch 35/500\n",
            "1/3 [=========>....................] - ETA: 0s - loss: 0.0912INFO:tensorflow:Assets written to: path_to_checkpoint_filepath/assets\n"
          ]
        },
        {
          "output_type": "stream",
          "name": "stderr",
          "text": [
            "INFO:tensorflow:Assets written to: path_to_checkpoint_filepath/assets\n",
            "WARNING:absl:<keras.layers.recurrent.LSTMCell object at 0x7f3a65626a90> has the same name 'LSTMCell' as a built-in Keras object. Consider renaming <class 'keras.layers.recurrent.LSTMCell'> to avoid naming conflicts when loading with `tf.keras.models.load_model`. If renaming is not possible, pass the object in the `custom_objects` parameter of the load function.\n",
            "WARNING:absl:<keras.layers.recurrent.LSTMCell object at 0x7f3a65adc2d0> has the same name 'LSTMCell' as a built-in Keras object. Consider renaming <class 'keras.layers.recurrent.LSTMCell'> to avoid naming conflicts when loading with `tf.keras.models.load_model`. If renaming is not possible, pass the object in the `custom_objects` parameter of the load function.\n"
          ]
        },
        {
          "output_type": "stream",
          "name": "stdout",
          "text": [
            "\b\b\b\b\b\b\b\b\b\b\b\b\b\b\b\b\b\b\b\b\b\b\b\b\b\b\b\b\b\b\b\b\b\b\b\b\b\b\b\b\b\b\b\b\b\b\b\b\b\b\b\b\b\b\b\b\b\b\b\b\b\r3/3 [==============================] - 5s 2s/step - loss: 0.0859 - val_loss: 0.1927 - lr: 4.0000e-04\n",
            "Epoch 36/500\n",
            "1/3 [=========>....................] - ETA: 0s - loss: 0.0772INFO:tensorflow:Assets written to: path_to_checkpoint_filepath/assets\n"
          ]
        },
        {
          "output_type": "stream",
          "name": "stderr",
          "text": [
            "INFO:tensorflow:Assets written to: path_to_checkpoint_filepath/assets\n",
            "WARNING:absl:<keras.layers.recurrent.LSTMCell object at 0x7f3a65626a90> has the same name 'LSTMCell' as a built-in Keras object. Consider renaming <class 'keras.layers.recurrent.LSTMCell'> to avoid naming conflicts when loading with `tf.keras.models.load_model`. If renaming is not possible, pass the object in the `custom_objects` parameter of the load function.\n",
            "WARNING:absl:<keras.layers.recurrent.LSTMCell object at 0x7f3a65adc2d0> has the same name 'LSTMCell' as a built-in Keras object. Consider renaming <class 'keras.layers.recurrent.LSTMCell'> to avoid naming conflicts when loading with `tf.keras.models.load_model`. If renaming is not possible, pass the object in the `custom_objects` parameter of the load function.\n"
          ]
        },
        {
          "output_type": "stream",
          "name": "stdout",
          "text": [
            "\b\b\b\b\b\b\b\b\b\b\b\b\b\b\b\b\b\b\b\b\b\b\b\b\b\b\b\b\b\b\b\b\b\b\b\b\b\b\b\b\b\b\b\b\b\b\b\b\b\b\b\b\b\b\b\b\b\b\b\b\b\r3/3 [==============================] - 5s 2s/step - loss: 0.0810 - val_loss: 0.1814 - lr: 4.0000e-04\n",
            "Epoch 37/500\n",
            "1/3 [=========>....................] - ETA: 0s - loss: 0.0701INFO:tensorflow:Assets written to: path_to_checkpoint_filepath/assets\n"
          ]
        },
        {
          "output_type": "stream",
          "name": "stderr",
          "text": [
            "INFO:tensorflow:Assets written to: path_to_checkpoint_filepath/assets\n",
            "WARNING:absl:<keras.layers.recurrent.LSTMCell object at 0x7f3a65626a90> has the same name 'LSTMCell' as a built-in Keras object. Consider renaming <class 'keras.layers.recurrent.LSTMCell'> to avoid naming conflicts when loading with `tf.keras.models.load_model`. If renaming is not possible, pass the object in the `custom_objects` parameter of the load function.\n",
            "WARNING:absl:<keras.layers.recurrent.LSTMCell object at 0x7f3a65adc2d0> has the same name 'LSTMCell' as a built-in Keras object. Consider renaming <class 'keras.layers.recurrent.LSTMCell'> to avoid naming conflicts when loading with `tf.keras.models.load_model`. If renaming is not possible, pass the object in the `custom_objects` parameter of the load function.\n"
          ]
        },
        {
          "output_type": "stream",
          "name": "stdout",
          "text": [
            "\b\b\b\b\b\b\b\b\b\b\b\b\b\b\b\b\b\b\b\b\b\b\b\b\b\b\b\b\b\b\b\b\b\b\b\b\b\b\b\b\b\b\b\b\b\b\b\b\b\b\b\b\b\b\b\b\b\b\b\b\b\r3/3 [==============================] - 4s 2s/step - loss: 0.0764 - val_loss: 0.1614 - lr: 4.0000e-04\n",
            "Epoch 38/500\n",
            "1/3 [=========>....................] - ETA: 0s - loss: 0.0672INFO:tensorflow:Assets written to: path_to_checkpoint_filepath/assets\n"
          ]
        },
        {
          "output_type": "stream",
          "name": "stderr",
          "text": [
            "INFO:tensorflow:Assets written to: path_to_checkpoint_filepath/assets\n",
            "WARNING:absl:<keras.layers.recurrent.LSTMCell object at 0x7f3a65626a90> has the same name 'LSTMCell' as a built-in Keras object. Consider renaming <class 'keras.layers.recurrent.LSTMCell'> to avoid naming conflicts when loading with `tf.keras.models.load_model`. If renaming is not possible, pass the object in the `custom_objects` parameter of the load function.\n",
            "WARNING:absl:<keras.layers.recurrent.LSTMCell object at 0x7f3a65adc2d0> has the same name 'LSTMCell' as a built-in Keras object. Consider renaming <class 'keras.layers.recurrent.LSTMCell'> to avoid naming conflicts when loading with `tf.keras.models.load_model`. If renaming is not possible, pass the object in the `custom_objects` parameter of the load function.\n"
          ]
        },
        {
          "output_type": "stream",
          "name": "stdout",
          "text": [
            "\b\b\b\b\b\b\b\b\b\b\b\b\b\b\b\b\b\b\b\b\b\b\b\b\b\b\b\b\b\b\b\b\b\b\b\b\b\b\b\b\b\b\b\b\b\b\b\b\b\b\b\b\b\b\b\b\b\b\b\b\b\r3/3 [==============================] - 5s 2s/step - loss: 0.0715 - val_loss: 0.1509 - lr: 4.0000e-04\n",
            "Epoch 39/500\n",
            "1/3 [=========>....................] - ETA: 0s - loss: 0.0686INFO:tensorflow:Assets written to: path_to_checkpoint_filepath/assets\n"
          ]
        },
        {
          "output_type": "stream",
          "name": "stderr",
          "text": [
            "INFO:tensorflow:Assets written to: path_to_checkpoint_filepath/assets\n",
            "WARNING:absl:<keras.layers.recurrent.LSTMCell object at 0x7f3a65626a90> has the same name 'LSTMCell' as a built-in Keras object. Consider renaming <class 'keras.layers.recurrent.LSTMCell'> to avoid naming conflicts when loading with `tf.keras.models.load_model`. If renaming is not possible, pass the object in the `custom_objects` parameter of the load function.\n",
            "WARNING:absl:<keras.layers.recurrent.LSTMCell object at 0x7f3a65adc2d0> has the same name 'LSTMCell' as a built-in Keras object. Consider renaming <class 'keras.layers.recurrent.LSTMCell'> to avoid naming conflicts when loading with `tf.keras.models.load_model`. If renaming is not possible, pass the object in the `custom_objects` parameter of the load function.\n"
          ]
        },
        {
          "output_type": "stream",
          "name": "stdout",
          "text": [
            "\b\b\b\b\b\b\b\b\b\b\b\b\b\b\b\b\b\b\b\b\b\b\b\b\b\b\b\b\b\b\b\b\b\b\b\b\b\b\b\b\b\b\b\b\b\b\b\b\b\b\b\b\b\b\b\b\b\b\b\b\b\r3/3 [==============================] - 4s 2s/step - loss: 0.0669 - val_loss: 0.1315 - lr: 4.0000e-04\n",
            "Epoch 40/500\n",
            "1/3 [=========>....................] - ETA: 0s - loss: 0.0645INFO:tensorflow:Assets written to: path_to_checkpoint_filepath/assets\n"
          ]
        },
        {
          "output_type": "stream",
          "name": "stderr",
          "text": [
            "INFO:tensorflow:Assets written to: path_to_checkpoint_filepath/assets\n",
            "WARNING:absl:<keras.layers.recurrent.LSTMCell object at 0x7f3a65626a90> has the same name 'LSTMCell' as a built-in Keras object. Consider renaming <class 'keras.layers.recurrent.LSTMCell'> to avoid naming conflicts when loading with `tf.keras.models.load_model`. If renaming is not possible, pass the object in the `custom_objects` parameter of the load function.\n",
            "WARNING:absl:<keras.layers.recurrent.LSTMCell object at 0x7f3a65adc2d0> has the same name 'LSTMCell' as a built-in Keras object. Consider renaming <class 'keras.layers.recurrent.LSTMCell'> to avoid naming conflicts when loading with `tf.keras.models.load_model`. If renaming is not possible, pass the object in the `custom_objects` parameter of the load function.\n"
          ]
        },
        {
          "output_type": "stream",
          "name": "stdout",
          "text": [
            "\b\b\b\b\b\b\b\b\b\b\b\b\b\b\b\b\b\b\b\b\b\b\b\b\b\b\b\b\b\b\b\b\b\b\b\b\b\b\b\b\b\b\b\b\b\b\b\b\b\b\b\b\b\b\b\b\b\b\b\b\b\r3/3 [==============================] - 5s 2s/step - loss: 0.0627 - val_loss: 0.1153 - lr: 4.0000e-04\n",
            "Epoch 41/500\n",
            "1/3 [=========>....................] - ETA: 0s - loss: 0.0576INFO:tensorflow:Assets written to: path_to_checkpoint_filepath/assets\n"
          ]
        },
        {
          "output_type": "stream",
          "name": "stderr",
          "text": [
            "INFO:tensorflow:Assets written to: path_to_checkpoint_filepath/assets\n",
            "WARNING:absl:<keras.layers.recurrent.LSTMCell object at 0x7f3a65626a90> has the same name 'LSTMCell' as a built-in Keras object. Consider renaming <class 'keras.layers.recurrent.LSTMCell'> to avoid naming conflicts when loading with `tf.keras.models.load_model`. If renaming is not possible, pass the object in the `custom_objects` parameter of the load function.\n",
            "WARNING:absl:<keras.layers.recurrent.LSTMCell object at 0x7f3a65adc2d0> has the same name 'LSTMCell' as a built-in Keras object. Consider renaming <class 'keras.layers.recurrent.LSTMCell'> to avoid naming conflicts when loading with `tf.keras.models.load_model`. If renaming is not possible, pass the object in the `custom_objects` parameter of the load function.\n"
          ]
        },
        {
          "output_type": "stream",
          "name": "stdout",
          "text": [
            "\b\b\b\b\b\b\b\b\b\b\b\b\b\b\b\b\b\b\b\b\b\b\b\b\b\b\b\b\b\b\b\b\b\b\b\b\b\b\b\b\b\b\b\b\b\b\b\b\b\b\b\b\b\b\b\b\b\b\b\b\b\r3/3 [==============================] - 4s 2s/step - loss: 0.0589 - val_loss: 0.1148 - lr: 4.0000e-04\n",
            "Epoch 42/500\n",
            "1/3 [=========>....................] - ETA: 0s - loss: 0.0574INFO:tensorflow:Assets written to: path_to_checkpoint_filepath/assets\n"
          ]
        },
        {
          "output_type": "stream",
          "name": "stderr",
          "text": [
            "INFO:tensorflow:Assets written to: path_to_checkpoint_filepath/assets\n",
            "WARNING:absl:<keras.layers.recurrent.LSTMCell object at 0x7f3a65626a90> has the same name 'LSTMCell' as a built-in Keras object. Consider renaming <class 'keras.layers.recurrent.LSTMCell'> to avoid naming conflicts when loading with `tf.keras.models.load_model`. If renaming is not possible, pass the object in the `custom_objects` parameter of the load function.\n",
            "WARNING:absl:<keras.layers.recurrent.LSTMCell object at 0x7f3a65adc2d0> has the same name 'LSTMCell' as a built-in Keras object. Consider renaming <class 'keras.layers.recurrent.LSTMCell'> to avoid naming conflicts when loading with `tf.keras.models.load_model`. If renaming is not possible, pass the object in the `custom_objects` parameter of the load function.\n"
          ]
        },
        {
          "output_type": "stream",
          "name": "stdout",
          "text": [
            "\b\b\b\b\b\b\b\b\b\b\b\b\b\b\b\b\b\b\b\b\b\b\b\b\b\b\b\b\b\b\b\b\b\b\b\b\b\b\b\b\b\b\b\b\b\b\b\b\b\b\b\b\b\b\b\b\b\b\b\b\b\r3/3 [==============================] - 5s 2s/step - loss: 0.0561 - val_loss: 0.1131 - lr: 4.0000e-04\n",
            "Epoch 43/500\n",
            "3/3 [==============================] - 0s 24ms/step - loss: 0.0544 - val_loss: 0.1160 - lr: 4.0000e-04\n",
            "Epoch 44/500\n",
            "3/3 [==============================] - 0s 23ms/step - loss: 0.0530 - val_loss: 0.1225 - lr: 4.0000e-04\n",
            "Epoch 45/500\n",
            "3/3 [==============================] - 0s 23ms/step - loss: 0.0517 - val_loss: 0.1249 - lr: 4.0000e-04\n",
            "Epoch 46/500\n",
            "3/3 [==============================] - 0s 25ms/step - loss: 0.0503 - val_loss: 0.1235 - lr: 1.0000e-04\n",
            "Epoch 47/500\n",
            "3/3 [==============================] - 0s 27ms/step - loss: 0.0499 - val_loss: 0.1247 - lr: 1.0000e-04\n",
            "Epoch 48/500\n",
            "3/3 [==============================] - 0s 29ms/step - loss: 0.0495 - val_loss: 0.1272 - lr: 1.0000e-04\n",
            "Epoch 49/500\n",
            "3/3 [==============================] - 0s 24ms/step - loss: 0.0492 - val_loss: 0.1288 - lr: 1.0000e-04\n",
            "Epoch 50/500\n",
            "3/3 [==============================] - 0s 23ms/step - loss: 0.0488 - val_loss: 0.1282 - lr: 1.0000e-04\n",
            "Epoch 51/500\n",
            "3/3 [==============================] - 0s 22ms/step - loss: 0.0485 - val_loss: 0.1272 - lr: 1.0000e-04\n",
            "Epoch 52/500\n",
            "3/3 [==============================] - 0s 25ms/step - loss: 0.0482 - val_loss: 0.1268 - lr: 1.0000e-04\n",
            "Epoch 53/500\n",
            "3/3 [==============================] - 0s 26ms/step - loss: 0.0479 - val_loss: 0.1270 - lr: 1.0000e-04\n",
            "Epoch 54/500\n",
            "3/3 [==============================] - 0s 23ms/step - loss: 0.0476 - val_loss: 0.1272 - lr: 1.0000e-04\n",
            "Epoch 55/500\n",
            "3/3 [==============================] - 0s 25ms/step - loss: 0.0474 - val_loss: 0.1258 - lr: 1.0000e-04\n",
            "Epoch 56/500\n",
            "3/3 [==============================] - 0s 23ms/step - loss: 0.0472 - val_loss: 0.1249 - lr: 1.0000e-04\n",
            "Epoch 57/500\n",
            "3/3 [==============================] - 0s 23ms/step - loss: 0.0469 - val_loss: 0.1246 - lr: 1.0000e-04\n",
            "Epoch 58/500\n",
            "3/3 [==============================] - 0s 24ms/step - loss: 0.0467 - val_loss: 0.1249 - lr: 1.0000e-04\n",
            "Epoch 59/500\n",
            "3/3 [==============================] - 0s 27ms/step - loss: 0.0465 - val_loss: 0.1253 - lr: 1.0000e-04\n",
            "Epoch 60/500\n",
            "3/3 [==============================] - 0s 23ms/step - loss: 0.0463 - val_loss: 0.1236 - lr: 1.0000e-04\n",
            "Epoch 61/500\n",
            "3/3 [==============================] - 0s 25ms/step - loss: 0.0461 - val_loss: 0.1228 - lr: 1.0000e-04\n",
            "Epoch 62/500\n",
            "3/3 [==============================] - 0s 33ms/step - loss: 0.0460 - val_loss: 0.1219 - lr: 1.0000e-04\n",
            "Epoch 63/500\n",
            "3/3 [==============================] - 0s 24ms/step - loss: 0.0457 - val_loss: 0.1221 - lr: 1.0000e-04\n",
            "Epoch 64/500\n",
            "3/3 [==============================] - 0s 23ms/step - loss: 0.0456 - val_loss: 0.1215 - lr: 1.0000e-04\n",
            "Epoch 65/500\n",
            "3/3 [==============================] - 0s 23ms/step - loss: 0.0454 - val_loss: 0.1211 - lr: 1.0000e-04\n",
            "Epoch 66/500\n",
            "3/3 [==============================] - 0s 25ms/step - loss: 0.0452 - val_loss: 0.1213 - lr: 1.0000e-04\n",
            "Epoch 67/500\n",
            "3/3 [==============================] - 0s 27ms/step - loss: 0.0451 - val_loss: 0.1214 - lr: 1.0000e-04\n",
            "Epoch 68/500\n",
            "3/3 [==============================] - 0s 26ms/step - loss: 0.0449 - val_loss: 0.1216 - lr: 1.0000e-04\n",
            "Epoch 69/500\n",
            "3/3 [==============================] - 0s 29ms/step - loss: 0.0448 - val_loss: 0.1214 - lr: 1.0000e-04\n",
            "Epoch 70/500\n",
            "3/3 [==============================] - 0s 28ms/step - loss: 0.0447 - val_loss: 0.1225 - lr: 1.0000e-04\n",
            "Epoch 71/500\n",
            "3/3 [==============================] - 0s 24ms/step - loss: 0.0445 - val_loss: 0.1227 - lr: 1.0000e-04\n",
            "Epoch 72/500\n",
            "3/3 [==============================] - 0s 23ms/step - loss: 0.0444 - val_loss: 0.1218 - lr: 1.0000e-04\n",
            "Epoch 73/500\n",
            "3/3 [==============================] - 0s 24ms/step - loss: 0.0443 - val_loss: 0.1212 - lr: 1.0000e-04\n",
            "Epoch 74/500\n",
            "3/3 [==============================] - 0s 26ms/step - loss: 0.0442 - val_loss: 0.1228 - lr: 1.0000e-04\n",
            "Epoch 75/500\n",
            "3/3 [==============================] - 0s 24ms/step - loss: 0.0441 - val_loss: 0.1227 - lr: 1.0000e-04\n",
            "Epoch 76/500\n",
            "3/3 [==============================] - 0s 24ms/step - loss: 0.0440 - val_loss: 0.1221 - lr: 1.0000e-04\n",
            "Epoch 77/500\n",
            "3/3 [==============================] - 0s 23ms/step - loss: 0.0439 - val_loss: 0.1225 - lr: 1.0000e-04\n",
            "Epoch 78/500\n",
            "3/3 [==============================] - 0s 24ms/step - loss: 0.0437 - val_loss: 0.1216 - lr: 1.0000e-04\n",
            "Epoch 79/500\n",
            "3/3 [==============================] - 0s 22ms/step - loss: 0.0436 - val_loss: 0.1216 - lr: 1.0000e-04\n",
            "Epoch 80/500\n",
            "3/3 [==============================] - 0s 26ms/step - loss: 0.0435 - val_loss: 0.1214 - lr: 1.0000e-04\n",
            "Epoch 81/500\n",
            "3/3 [==============================] - 0s 28ms/step - loss: 0.0434 - val_loss: 0.1211 - lr: 1.0000e-04\n",
            "Epoch 82/500\n",
            "3/3 [==============================] - 0s 26ms/step - loss: 0.0433 - val_loss: 0.1219 - lr: 1.0000e-04\n",
            "Epoch 83/500\n",
            "3/3 [==============================] - 0s 24ms/step - loss: 0.0432 - val_loss: 0.1212 - lr: 1.0000e-04\n",
            "Epoch 84/500\n",
            "3/3 [==============================] - 0s 25ms/step - loss: 0.0431 - val_loss: 0.1206 - lr: 1.0000e-04\n",
            "Epoch 85/500\n",
            "3/3 [==============================] - 0s 23ms/step - loss: 0.0430 - val_loss: 0.1204 - lr: 1.0000e-04\n",
            "Epoch 86/500\n",
            "3/3 [==============================] - 0s 22ms/step - loss: 0.0429 - val_loss: 0.1199 - lr: 1.0000e-04\n",
            "Epoch 87/500\n",
            "3/3 [==============================] - 0s 24ms/step - loss: 0.0428 - val_loss: 0.1213 - lr: 1.0000e-04\n",
            "Epoch 88/500\n",
            "3/3 [==============================] - 0s 27ms/step - loss: 0.0428 - val_loss: 0.1193 - lr: 1.0000e-04\n",
            "Epoch 89/500\n",
            "3/3 [==============================] - 0s 31ms/step - loss: 0.0427 - val_loss: 0.1205 - lr: 1.0000e-04\n",
            "Epoch 90/500\n",
            "3/3 [==============================] - 0s 26ms/step - loss: 0.0425 - val_loss: 0.1188 - lr: 1.0000e-04\n",
            "Epoch 91/500\n",
            "3/3 [==============================] - 0s 28ms/step - loss: 0.0424 - val_loss: 0.1189 - lr: 1.0000e-04\n",
            "Epoch 92/500\n",
            "3/3 [==============================] - 0s 27ms/step - loss: 0.0423 - val_loss: 0.1192 - lr: 1.0000e-04\n",
            "Epoch 93/500\n",
            "3/3 [==============================] - 0s 27ms/step - loss: 0.0423 - val_loss: 0.1174 - lr: 1.0000e-04\n",
            "Epoch 94/500\n",
            "3/3 [==============================] - 0s 32ms/step - loss: 0.0422 - val_loss: 0.1173 - lr: 1.0000e-04\n",
            "Epoch 95/500\n",
            "3/3 [==============================] - 0s 30ms/step - loss: 0.0421 - val_loss: 0.1194 - lr: 1.0000e-04\n",
            "Epoch 96/500\n",
            "3/3 [==============================] - 0s 24ms/step - loss: 0.0420 - val_loss: 0.1167 - lr: 1.0000e-04\n",
            "Epoch 97/500\n",
            "3/3 [==============================] - 0s 25ms/step - loss: 0.0419 - val_loss: 0.1158 - lr: 1.0000e-04\n",
            "Epoch 98/500\n",
            "3/3 [==============================] - 0s 25ms/step - loss: 0.0418 - val_loss: 0.1161 - lr: 1.0000e-04\n",
            "Epoch 99/500\n",
            "3/3 [==============================] - 0s 26ms/step - loss: 0.0417 - val_loss: 0.1158 - lr: 1.0000e-04\n",
            "Epoch 100/500\n",
            "3/3 [==============================] - 0s 27ms/step - loss: 0.0416 - val_loss: 0.1140 - lr: 1.0000e-04\n",
            "Epoch 101/500\n",
            "3/3 [==============================] - 0s 24ms/step - loss: 0.0415 - val_loss: 0.1143 - lr: 1.0000e-04\n",
            "Epoch 102/500\n",
            "3/3 [==============================] - 0s 23ms/step - loss: 0.0414 - val_loss: 0.1148 - lr: 1.0000e-04\n",
            "Epoch 103/500\n",
            "3/3 [==============================] - 0s 26ms/step - loss: 0.0413 - val_loss: 0.1142 - lr: 1.0000e-04\n",
            "Epoch 104/500\n",
            "3/3 [==============================] - 0s 24ms/step - loss: 0.0413 - val_loss: 0.1133 - lr: 1.0000e-04\n",
            "Epoch 105/500\n",
            "3/3 [==============================] - 0s 24ms/step - loss: 0.0412 - val_loss: 0.1136 - lr: 1.0000e-04\n",
            "Epoch 106/500\n",
            "1/3 [=========>....................] - ETA: 0s - loss: 0.0395INFO:tensorflow:Assets written to: path_to_checkpoint_filepath/assets\n"
          ]
        },
        {
          "output_type": "stream",
          "name": "stderr",
          "text": [
            "INFO:tensorflow:Assets written to: path_to_checkpoint_filepath/assets\n",
            "WARNING:absl:<keras.layers.recurrent.LSTMCell object at 0x7f3a65626a90> has the same name 'LSTMCell' as a built-in Keras object. Consider renaming <class 'keras.layers.recurrent.LSTMCell'> to avoid naming conflicts when loading with `tf.keras.models.load_model`. If renaming is not possible, pass the object in the `custom_objects` parameter of the load function.\n",
            "WARNING:absl:<keras.layers.recurrent.LSTMCell object at 0x7f3a65adc2d0> has the same name 'LSTMCell' as a built-in Keras object. Consider renaming <class 'keras.layers.recurrent.LSTMCell'> to avoid naming conflicts when loading with `tf.keras.models.load_model`. If renaming is not possible, pass the object in the `custom_objects` parameter of the load function.\n"
          ]
        },
        {
          "output_type": "stream",
          "name": "stdout",
          "text": [
            "\b\b\b\b\b\b\b\b\b\b\b\b\b\b\b\b\b\b\b\b\b\b\b\b\b\b\b\b\b\b\b\b\b\b\b\b\b\b\b\b\b\b\b\b\b\b\b\b\b\b\b\b\b\b\b\b\b\b\b\b\b\r3/3 [==============================] - 5s 2s/step - loss: 0.0411 - val_loss: 0.1125 - lr: 1.0000e-04\n",
            "Epoch 107/500\n",
            "1/3 [=========>....................] - ETA: 0s - loss: 0.0406INFO:tensorflow:Assets written to: path_to_checkpoint_filepath/assets\n"
          ]
        },
        {
          "output_type": "stream",
          "name": "stderr",
          "text": [
            "INFO:tensorflow:Assets written to: path_to_checkpoint_filepath/assets\n",
            "WARNING:absl:<keras.layers.recurrent.LSTMCell object at 0x7f3a65626a90> has the same name 'LSTMCell' as a built-in Keras object. Consider renaming <class 'keras.layers.recurrent.LSTMCell'> to avoid naming conflicts when loading with `tf.keras.models.load_model`. If renaming is not possible, pass the object in the `custom_objects` parameter of the load function.\n",
            "WARNING:absl:<keras.layers.recurrent.LSTMCell object at 0x7f3a65adc2d0> has the same name 'LSTMCell' as a built-in Keras object. Consider renaming <class 'keras.layers.recurrent.LSTMCell'> to avoid naming conflicts when loading with `tf.keras.models.load_model`. If renaming is not possible, pass the object in the `custom_objects` parameter of the load function.\n"
          ]
        },
        {
          "output_type": "stream",
          "name": "stdout",
          "text": [
            "\b\b\b\b\b\b\b\b\b\b\b\b\b\b\b\b\b\b\b\b\b\b\b\b\b\b\b\b\b\b\b\b\b\b\b\b\b\b\b\b\b\b\b\b\b\b\b\b\b\b\b\b\b\b\b\b\b\b\b\b\b\r3/3 [==============================] - 4s 2s/step - loss: 0.0410 - val_loss: 0.1119 - lr: 1.0000e-04\n",
            "Epoch 108/500\n",
            "3/3 [==============================] - 0s 23ms/step - loss: 0.0409 - val_loss: 0.1120 - lr: 1.0000e-04\n",
            "Epoch 109/500\n",
            "1/3 [=========>....................] - ETA: 0s - loss: 0.0422INFO:tensorflow:Assets written to: path_to_checkpoint_filepath/assets\n"
          ]
        },
        {
          "output_type": "stream",
          "name": "stderr",
          "text": [
            "INFO:tensorflow:Assets written to: path_to_checkpoint_filepath/assets\n",
            "WARNING:absl:<keras.layers.recurrent.LSTMCell object at 0x7f3a65626a90> has the same name 'LSTMCell' as a built-in Keras object. Consider renaming <class 'keras.layers.recurrent.LSTMCell'> to avoid naming conflicts when loading with `tf.keras.models.load_model`. If renaming is not possible, pass the object in the `custom_objects` parameter of the load function.\n",
            "WARNING:absl:<keras.layers.recurrent.LSTMCell object at 0x7f3a65adc2d0> has the same name 'LSTMCell' as a built-in Keras object. Consider renaming <class 'keras.layers.recurrent.LSTMCell'> to avoid naming conflicts when loading with `tf.keras.models.load_model`. If renaming is not possible, pass the object in the `custom_objects` parameter of the load function.\n"
          ]
        },
        {
          "output_type": "stream",
          "name": "stdout",
          "text": [
            "\b\b\b\b\b\b\b\b\b\b\b\b\b\b\b\b\b\b\b\b\b\b\b\b\b\b\b\b\b\b\b\b\b\b\b\b\b\b\b\b\b\b\b\b\b\b\b\b\b\b\b\b\b\b\b\b\b\b\b\b\b\r3/3 [==============================] - 5s 2s/step - loss: 0.0409 - val_loss: 0.1111 - lr: 1.0000e-04\n",
            "Epoch 110/500\n",
            "1/3 [=========>....................] - ETA: 0s - loss: 0.0444INFO:tensorflow:Assets written to: path_to_checkpoint_filepath/assets\n"
          ]
        },
        {
          "output_type": "stream",
          "name": "stderr",
          "text": [
            "INFO:tensorflow:Assets written to: path_to_checkpoint_filepath/assets\n",
            "WARNING:absl:<keras.layers.recurrent.LSTMCell object at 0x7f3a65626a90> has the same name 'LSTMCell' as a built-in Keras object. Consider renaming <class 'keras.layers.recurrent.LSTMCell'> to avoid naming conflicts when loading with `tf.keras.models.load_model`. If renaming is not possible, pass the object in the `custom_objects` parameter of the load function.\n",
            "WARNING:absl:<keras.layers.recurrent.LSTMCell object at 0x7f3a65adc2d0> has the same name 'LSTMCell' as a built-in Keras object. Consider renaming <class 'keras.layers.recurrent.LSTMCell'> to avoid naming conflicts when loading with `tf.keras.models.load_model`. If renaming is not possible, pass the object in the `custom_objects` parameter of the load function.\n"
          ]
        },
        {
          "output_type": "stream",
          "name": "stdout",
          "text": [
            "\b\b\b\b\b\b\b\b\b\b\b\b\b\b\b\b\b\b\b\b\b\b\b\b\b\b\b\b\b\b\b\b\b\b\b\b\b\b\b\b\b\b\b\b\b\b\b\b\b\b\b\b\b\b\b\b\b\b\b\b\b\r3/3 [==============================] - 4s 2s/step - loss: 0.0408 - val_loss: 0.1093 - lr: 1.0000e-04\n",
            "Epoch 111/500\n",
            "3/3 [==============================] - 0s 25ms/step - loss: 0.0407 - val_loss: 0.1113 - lr: 1.0000e-04\n",
            "Epoch 112/500\n",
            "3/3 [==============================] - 0s 25ms/step - loss: 0.0406 - val_loss: 0.1114 - lr: 1.0000e-04\n",
            "Epoch 113/500\n",
            "3/3 [==============================] - 0s 24ms/step - loss: 0.0405 - val_loss: 0.1099 - lr: 1.0000e-04\n",
            "Epoch 114/500\n",
            "1/3 [=========>....................] - ETA: 0s - loss: 0.0412INFO:tensorflow:Assets written to: path_to_checkpoint_filepath/assets\n"
          ]
        },
        {
          "output_type": "stream",
          "name": "stderr",
          "text": [
            "INFO:tensorflow:Assets written to: path_to_checkpoint_filepath/assets\n",
            "WARNING:absl:<keras.layers.recurrent.LSTMCell object at 0x7f3a65626a90> has the same name 'LSTMCell' as a built-in Keras object. Consider renaming <class 'keras.layers.recurrent.LSTMCell'> to avoid naming conflicts when loading with `tf.keras.models.load_model`. If renaming is not possible, pass the object in the `custom_objects` parameter of the load function.\n",
            "WARNING:absl:<keras.layers.recurrent.LSTMCell object at 0x7f3a65adc2d0> has the same name 'LSTMCell' as a built-in Keras object. Consider renaming <class 'keras.layers.recurrent.LSTMCell'> to avoid naming conflicts when loading with `tf.keras.models.load_model`. If renaming is not possible, pass the object in the `custom_objects` parameter of the load function.\n"
          ]
        },
        {
          "output_type": "stream",
          "name": "stdout",
          "text": [
            "\b\b\b\b\b\b\b\b\b\b\b\b\b\b\b\b\b\b\b\b\b\b\b\b\b\b\b\b\b\b\b\b\b\b\b\b\b\b\b\b\b\b\b\b\b\b\b\b\b\b\b\b\b\b\b\b\b\b\b\b\b\r3/3 [==============================] - 5s 2s/step - loss: 0.0404 - val_loss: 0.1089 - lr: 1.0000e-04\n",
            "Epoch 115/500\n",
            "3/3 [==============================] - 0s 24ms/step - loss: 0.0404 - val_loss: 0.1094 - lr: 1.0000e-04\n",
            "Epoch 116/500\n",
            "1/3 [=========>....................] - ETA: 0s - loss: 0.0432INFO:tensorflow:Assets written to: path_to_checkpoint_filepath/assets\n"
          ]
        },
        {
          "output_type": "stream",
          "name": "stderr",
          "text": [
            "INFO:tensorflow:Assets written to: path_to_checkpoint_filepath/assets\n",
            "WARNING:absl:<keras.layers.recurrent.LSTMCell object at 0x7f3a65626a90> has the same name 'LSTMCell' as a built-in Keras object. Consider renaming <class 'keras.layers.recurrent.LSTMCell'> to avoid naming conflicts when loading with `tf.keras.models.load_model`. If renaming is not possible, pass the object in the `custom_objects` parameter of the load function.\n",
            "WARNING:absl:<keras.layers.recurrent.LSTMCell object at 0x7f3a65adc2d0> has the same name 'LSTMCell' as a built-in Keras object. Consider renaming <class 'keras.layers.recurrent.LSTMCell'> to avoid naming conflicts when loading with `tf.keras.models.load_model`. If renaming is not possible, pass the object in the `custom_objects` parameter of the load function.\n"
          ]
        },
        {
          "output_type": "stream",
          "name": "stdout",
          "text": [
            "\b\b\b\b\b\b\b\b\b\b\b\b\b\b\b\b\b\b\b\b\b\b\b\b\b\b\b\b\b\b\b\b\b\b\b\b\b\b\b\b\b\b\b\b\b\b\b\b\b\b\b\b\b\b\b\b\b\b\b\b\b\r3/3 [==============================] - 4s 2s/step - loss: 0.0403 - val_loss: 0.1075 - lr: 1.0000e-04\n",
            "Epoch 117/500\n",
            "3/3 [==============================] - 0s 24ms/step - loss: 0.0402 - val_loss: 0.1082 - lr: 1.0000e-04\n",
            "Epoch 118/500\n",
            "3/3 [==============================] - 0s 24ms/step - loss: 0.0401 - val_loss: 0.1084 - lr: 1.0000e-04\n",
            "Epoch 119/500\n",
            "1/3 [=========>....................] - ETA: 0s - loss: 0.0412INFO:tensorflow:Assets written to: path_to_checkpoint_filepath/assets\n"
          ]
        },
        {
          "output_type": "stream",
          "name": "stderr",
          "text": [
            "INFO:tensorflow:Assets written to: path_to_checkpoint_filepath/assets\n",
            "WARNING:absl:<keras.layers.recurrent.LSTMCell object at 0x7f3a65626a90> has the same name 'LSTMCell' as a built-in Keras object. Consider renaming <class 'keras.layers.recurrent.LSTMCell'> to avoid naming conflicts when loading with `tf.keras.models.load_model`. If renaming is not possible, pass the object in the `custom_objects` parameter of the load function.\n",
            "WARNING:absl:<keras.layers.recurrent.LSTMCell object at 0x7f3a65adc2d0> has the same name 'LSTMCell' as a built-in Keras object. Consider renaming <class 'keras.layers.recurrent.LSTMCell'> to avoid naming conflicts when loading with `tf.keras.models.load_model`. If renaming is not possible, pass the object in the `custom_objects` parameter of the load function.\n"
          ]
        },
        {
          "output_type": "stream",
          "name": "stdout",
          "text": [
            "\b\b\b\b\b\b\b\b\b\b\b\b\b\b\b\b\b\b\b\b\b\b\b\b\b\b\b\b\b\b\b\b\b\b\b\b\b\b\b\b\b\b\b\b\b\b\b\b\b\b\b\b\b\b\b\b\b\b\b\b\b\r3/3 [==============================] - 5s 2s/step - loss: 0.0400 - val_loss: 0.1068 - lr: 1.0000e-04\n",
            "Epoch 120/500\n",
            "1/3 [=========>....................] - ETA: 0s - loss: 0.0388INFO:tensorflow:Assets written to: path_to_checkpoint_filepath/assets\n"
          ]
        },
        {
          "output_type": "stream",
          "name": "stderr",
          "text": [
            "INFO:tensorflow:Assets written to: path_to_checkpoint_filepath/assets\n",
            "WARNING:absl:<keras.layers.recurrent.LSTMCell object at 0x7f3a65626a90> has the same name 'LSTMCell' as a built-in Keras object. Consider renaming <class 'keras.layers.recurrent.LSTMCell'> to avoid naming conflicts when loading with `tf.keras.models.load_model`. If renaming is not possible, pass the object in the `custom_objects` parameter of the load function.\n",
            "WARNING:absl:<keras.layers.recurrent.LSTMCell object at 0x7f3a65adc2d0> has the same name 'LSTMCell' as a built-in Keras object. Consider renaming <class 'keras.layers.recurrent.LSTMCell'> to avoid naming conflicts when loading with `tf.keras.models.load_model`. If renaming is not possible, pass the object in the `custom_objects` parameter of the load function.\n"
          ]
        },
        {
          "output_type": "stream",
          "name": "stdout",
          "text": [
            "\b\b\b\b\b\b\b\b\b\b\b\b\b\b\b\b\b\b\b\b\b\b\b\b\b\b\b\b\b\b\b\b\b\b\b\b\b\b\b\b\b\b\b\b\b\b\b\b\b\b\b\b\b\b\b\b\b\b\b\b\b\r3/3 [==============================] - 5s 2s/step - loss: 0.0400 - val_loss: 0.1055 - lr: 1.0000e-04\n",
            "Epoch 121/500\n",
            "3/3 [==============================] - 0s 28ms/step - loss: 0.0399 - val_loss: 0.1057 - lr: 1.0000e-04\n",
            "Epoch 122/500\n",
            "3/3 [==============================] - 0s 22ms/step - loss: 0.0399 - val_loss: 0.1069 - lr: 1.0000e-04\n",
            "Epoch 123/500\n",
            "1/3 [=========>....................] - ETA: 0s - loss: 0.0367INFO:tensorflow:Assets written to: path_to_checkpoint_filepath/assets\n"
          ]
        },
        {
          "output_type": "stream",
          "name": "stderr",
          "text": [
            "INFO:tensorflow:Assets written to: path_to_checkpoint_filepath/assets\n",
            "WARNING:absl:<keras.layers.recurrent.LSTMCell object at 0x7f3a65626a90> has the same name 'LSTMCell' as a built-in Keras object. Consider renaming <class 'keras.layers.recurrent.LSTMCell'> to avoid naming conflicts when loading with `tf.keras.models.load_model`. If renaming is not possible, pass the object in the `custom_objects` parameter of the load function.\n",
            "WARNING:absl:<keras.layers.recurrent.LSTMCell object at 0x7f3a65adc2d0> has the same name 'LSTMCell' as a built-in Keras object. Consider renaming <class 'keras.layers.recurrent.LSTMCell'> to avoid naming conflicts when loading with `tf.keras.models.load_model`. If renaming is not possible, pass the object in the `custom_objects` parameter of the load function.\n"
          ]
        },
        {
          "output_type": "stream",
          "name": "stdout",
          "text": [
            "\b\b\b\b\b\b\b\b\b\b\b\b\b\b\b\b\b\b\b\b\b\b\b\b\b\b\b\b\b\b\b\b\b\b\b\b\b\b\b\b\b\b\b\b\b\b\b\b\b\b\b\b\b\b\b\b\b\b\b\b\b\r3/3 [==============================] - 4s 2s/step - loss: 0.0397 - val_loss: 0.1049 - lr: 1.0000e-04\n",
            "Epoch 124/500\n",
            "1/3 [=========>....................] - ETA: 0s - loss: 0.0390INFO:tensorflow:Assets written to: path_to_checkpoint_filepath/assets\n"
          ]
        },
        {
          "output_type": "stream",
          "name": "stderr",
          "text": [
            "INFO:tensorflow:Assets written to: path_to_checkpoint_filepath/assets\n",
            "WARNING:absl:<keras.layers.recurrent.LSTMCell object at 0x7f3a65626a90> has the same name 'LSTMCell' as a built-in Keras object. Consider renaming <class 'keras.layers.recurrent.LSTMCell'> to avoid naming conflicts when loading with `tf.keras.models.load_model`. If renaming is not possible, pass the object in the `custom_objects` parameter of the load function.\n",
            "WARNING:absl:<keras.layers.recurrent.LSTMCell object at 0x7f3a65adc2d0> has the same name 'LSTMCell' as a built-in Keras object. Consider renaming <class 'keras.layers.recurrent.LSTMCell'> to avoid naming conflicts when loading with `tf.keras.models.load_model`. If renaming is not possible, pass the object in the `custom_objects` parameter of the load function.\n"
          ]
        },
        {
          "output_type": "stream",
          "name": "stdout",
          "text": [
            "\b\b\b\b\b\b\b\b\b\b\b\b\b\b\b\b\b\b\b\b\b\b\b\b\b\b\b\b\b\b\b\b\b\b\b\b\b\b\b\b\b\b\b\b\b\b\b\b\b\b\b\b\b\b\b\b\b\b\b\b\b\r3/3 [==============================] - 5s 2s/step - loss: 0.0397 - val_loss: 0.1036 - lr: 1.0000e-04\n",
            "Epoch 125/500\n",
            "3/3 [==============================] - 0s 24ms/step - loss: 0.0396 - val_loss: 0.1053 - lr: 1.0000e-04\n",
            "Epoch 126/500\n",
            "3/3 [==============================] - 0s 23ms/step - loss: 0.0395 - val_loss: 0.1041 - lr: 1.0000e-04\n",
            "Epoch 127/500\n",
            "1/3 [=========>....................] - ETA: 0s - loss: 0.0412INFO:tensorflow:Assets written to: path_to_checkpoint_filepath/assets\n"
          ]
        },
        {
          "output_type": "stream",
          "name": "stderr",
          "text": [
            "INFO:tensorflow:Assets written to: path_to_checkpoint_filepath/assets\n",
            "WARNING:absl:<keras.layers.recurrent.LSTMCell object at 0x7f3a65626a90> has the same name 'LSTMCell' as a built-in Keras object. Consider renaming <class 'keras.layers.recurrent.LSTMCell'> to avoid naming conflicts when loading with `tf.keras.models.load_model`. If renaming is not possible, pass the object in the `custom_objects` parameter of the load function.\n",
            "WARNING:absl:<keras.layers.recurrent.LSTMCell object at 0x7f3a65adc2d0> has the same name 'LSTMCell' as a built-in Keras object. Consider renaming <class 'keras.layers.recurrent.LSTMCell'> to avoid naming conflicts when loading with `tf.keras.models.load_model`. If renaming is not possible, pass the object in the `custom_objects` parameter of the load function.\n"
          ]
        },
        {
          "output_type": "stream",
          "name": "stdout",
          "text": [
            "\b\b\b\b\b\b\b\b\b\b\b\b\b\b\b\b\b\b\b\b\b\b\b\b\b\b\b\b\b\b\b\b\b\b\b\b\b\b\b\b\b\b\b\b\b\b\b\b\b\b\b\b\b\b\b\b\b\b\b\b\b\r3/3 [==============================] - 4s 2s/step - loss: 0.0394 - val_loss: 0.1036 - lr: 1.0000e-04\n",
            "Epoch 128/500\n",
            "3/3 [==============================] - 0s 22ms/step - loss: 0.0393 - val_loss: 0.1036 - lr: 1.0000e-04\n",
            "Epoch 129/500\n",
            "1/3 [=========>....................] - ETA: 0s - loss: 0.0394INFO:tensorflow:Assets written to: path_to_checkpoint_filepath/assets\n"
          ]
        },
        {
          "output_type": "stream",
          "name": "stderr",
          "text": [
            "INFO:tensorflow:Assets written to: path_to_checkpoint_filepath/assets\n",
            "WARNING:absl:<keras.layers.recurrent.LSTMCell object at 0x7f3a65626a90> has the same name 'LSTMCell' as a built-in Keras object. Consider renaming <class 'keras.layers.recurrent.LSTMCell'> to avoid naming conflicts when loading with `tf.keras.models.load_model`. If renaming is not possible, pass the object in the `custom_objects` parameter of the load function.\n",
            "WARNING:absl:<keras.layers.recurrent.LSTMCell object at 0x7f3a65adc2d0> has the same name 'LSTMCell' as a built-in Keras object. Consider renaming <class 'keras.layers.recurrent.LSTMCell'> to avoid naming conflicts when loading with `tf.keras.models.load_model`. If renaming is not possible, pass the object in the `custom_objects` parameter of the load function.\n"
          ]
        },
        {
          "output_type": "stream",
          "name": "stdout",
          "text": [
            "\b\b\b\b\b\b\b\b\b\b\b\b\b\b\b\b\b\b\b\b\b\b\b\b\b\b\b\b\b\b\b\b\b\b\b\b\b\b\b\b\b\b\b\b\b\b\b\b\b\b\b\b\b\b\b\b\b\b\b\b\b\r3/3 [==============================] - 5s 2s/step - loss: 0.0393 - val_loss: 0.1022 - lr: 1.0000e-04\n",
            "Epoch 130/500\n",
            "3/3 [==============================] - 0s 27ms/step - loss: 0.0392 - val_loss: 0.1032 - lr: 1.0000e-04\n",
            "Epoch 131/500\n",
            "1/3 [=========>....................] - ETA: 0s - loss: 0.0385INFO:tensorflow:Assets written to: path_to_checkpoint_filepath/assets\n"
          ]
        },
        {
          "output_type": "stream",
          "name": "stderr",
          "text": [
            "INFO:tensorflow:Assets written to: path_to_checkpoint_filepath/assets\n",
            "WARNING:absl:<keras.layers.recurrent.LSTMCell object at 0x7f3a65626a90> has the same name 'LSTMCell' as a built-in Keras object. Consider renaming <class 'keras.layers.recurrent.LSTMCell'> to avoid naming conflicts when loading with `tf.keras.models.load_model`. If renaming is not possible, pass the object in the `custom_objects` parameter of the load function.\n",
            "WARNING:absl:<keras.layers.recurrent.LSTMCell object at 0x7f3a65adc2d0> has the same name 'LSTMCell' as a built-in Keras object. Consider renaming <class 'keras.layers.recurrent.LSTMCell'> to avoid naming conflicts when loading with `tf.keras.models.load_model`. If renaming is not possible, pass the object in the `custom_objects` parameter of the load function.\n"
          ]
        },
        {
          "output_type": "stream",
          "name": "stdout",
          "text": [
            "\b\b\b\b\b\b\b\b\b\b\b\b\b\b\b\b\b\b\b\b\b\b\b\b\b\b\b\b\b\b\b\b\b\b\b\b\b\b\b\b\b\b\b\b\b\b\b\b\b\b\b\b\b\b\b\b\b\b\b\b\b\r3/3 [==============================] - 5s 2s/step - loss: 0.0391 - val_loss: 0.1020 - lr: 1.0000e-04\n",
            "Epoch 132/500\n",
            "1/3 [=========>....................] - ETA: 0s - loss: 0.0379INFO:tensorflow:Assets written to: path_to_checkpoint_filepath/assets\n"
          ]
        },
        {
          "output_type": "stream",
          "name": "stderr",
          "text": [
            "INFO:tensorflow:Assets written to: path_to_checkpoint_filepath/assets\n",
            "WARNING:absl:<keras.layers.recurrent.LSTMCell object at 0x7f3a65626a90> has the same name 'LSTMCell' as a built-in Keras object. Consider renaming <class 'keras.layers.recurrent.LSTMCell'> to avoid naming conflicts when loading with `tf.keras.models.load_model`. If renaming is not possible, pass the object in the `custom_objects` parameter of the load function.\n",
            "WARNING:absl:<keras.layers.recurrent.LSTMCell object at 0x7f3a65adc2d0> has the same name 'LSTMCell' as a built-in Keras object. Consider renaming <class 'keras.layers.recurrent.LSTMCell'> to avoid naming conflicts when loading with `tf.keras.models.load_model`. If renaming is not possible, pass the object in the `custom_objects` parameter of the load function.\n"
          ]
        },
        {
          "output_type": "stream",
          "name": "stdout",
          "text": [
            "\b\b\b\b\b\b\b\b\b\b\b\b\b\b\b\b\b\b\b\b\b\b\b\b\b\b\b\b\b\b\b\b\b\b\b\b\b\b\b\b\b\b\b\b\b\b\b\b\b\b\b\b\b\b\b\b\b\b\b\b\b\r3/3 [==============================] - 5s 2s/step - loss: 0.0390 - val_loss: 0.1016 - lr: 1.0000e-04\n",
            "Epoch 133/500\n",
            "1/3 [=========>....................] - ETA: 0s - loss: 0.0428INFO:tensorflow:Assets written to: path_to_checkpoint_filepath/assets\n"
          ]
        },
        {
          "output_type": "stream",
          "name": "stderr",
          "text": [
            "INFO:tensorflow:Assets written to: path_to_checkpoint_filepath/assets\n",
            "WARNING:absl:<keras.layers.recurrent.LSTMCell object at 0x7f3a65626a90> has the same name 'LSTMCell' as a built-in Keras object. Consider renaming <class 'keras.layers.recurrent.LSTMCell'> to avoid naming conflicts when loading with `tf.keras.models.load_model`. If renaming is not possible, pass the object in the `custom_objects` parameter of the load function.\n",
            "WARNING:absl:<keras.layers.recurrent.LSTMCell object at 0x7f3a65adc2d0> has the same name 'LSTMCell' as a built-in Keras object. Consider renaming <class 'keras.layers.recurrent.LSTMCell'> to avoid naming conflicts when loading with `tf.keras.models.load_model`. If renaming is not possible, pass the object in the `custom_objects` parameter of the load function.\n"
          ]
        },
        {
          "output_type": "stream",
          "name": "stdout",
          "text": [
            "\b\b\b\b\b\b\b\b\b\b\b\b\b\b\b\b\b\b\b\b\b\b\b\b\b\b\b\b\b\b\b\b\b\b\b\b\b\b\b\b\b\b\b\b\b\b\b\b\b\b\b\b\b\b\b\b\b\b\b\b\b\r3/3 [==============================] - 5s 2s/step - loss: 0.0390 - val_loss: 0.1009 - lr: 1.0000e-04\n",
            "Epoch 134/500\n",
            "3/3 [==============================] - 0s 23ms/step - loss: 0.0389 - val_loss: 0.1016 - lr: 1.0000e-04\n",
            "Epoch 135/500\n",
            "1/3 [=========>....................] - ETA: 0s - loss: 0.0430INFO:tensorflow:Assets written to: path_to_checkpoint_filepath/assets\n"
          ]
        },
        {
          "output_type": "stream",
          "name": "stderr",
          "text": [
            "INFO:tensorflow:Assets written to: path_to_checkpoint_filepath/assets\n",
            "WARNING:absl:<keras.layers.recurrent.LSTMCell object at 0x7f3a65626a90> has the same name 'LSTMCell' as a built-in Keras object. Consider renaming <class 'keras.layers.recurrent.LSTMCell'> to avoid naming conflicts when loading with `tf.keras.models.load_model`. If renaming is not possible, pass the object in the `custom_objects` parameter of the load function.\n",
            "WARNING:absl:<keras.layers.recurrent.LSTMCell object at 0x7f3a65adc2d0> has the same name 'LSTMCell' as a built-in Keras object. Consider renaming <class 'keras.layers.recurrent.LSTMCell'> to avoid naming conflicts when loading with `tf.keras.models.load_model`. If renaming is not possible, pass the object in the `custom_objects` parameter of the load function.\n"
          ]
        },
        {
          "output_type": "stream",
          "name": "stdout",
          "text": [
            "\b\b\b\b\b\b\b\b\b\b\b\b\b\b\b\b\b\b\b\b\b\b\b\b\b\b\b\b\b\b\b\b\b\b\b\b\b\b\b\b\b\b\b\b\b\b\b\b\b\b\b\b\b\b\b\b\b\b\b\b\b\r3/3 [==============================] - 5s 2s/step - loss: 0.0388 - val_loss: 0.0990 - lr: 1.0000e-04\n",
            "Epoch 136/500\n",
            "1/3 [=========>....................] - ETA: 0s - loss: 0.0390INFO:tensorflow:Assets written to: path_to_checkpoint_filepath/assets\n"
          ]
        },
        {
          "output_type": "stream",
          "name": "stderr",
          "text": [
            "INFO:tensorflow:Assets written to: path_to_checkpoint_filepath/assets\n",
            "WARNING:absl:<keras.layers.recurrent.LSTMCell object at 0x7f3a65626a90> has the same name 'LSTMCell' as a built-in Keras object. Consider renaming <class 'keras.layers.recurrent.LSTMCell'> to avoid naming conflicts when loading with `tf.keras.models.load_model`. If renaming is not possible, pass the object in the `custom_objects` parameter of the load function.\n",
            "WARNING:absl:<keras.layers.recurrent.LSTMCell object at 0x7f3a65adc2d0> has the same name 'LSTMCell' as a built-in Keras object. Consider renaming <class 'keras.layers.recurrent.LSTMCell'> to avoid naming conflicts when loading with `tf.keras.models.load_model`. If renaming is not possible, pass the object in the `custom_objects` parameter of the load function.\n"
          ]
        },
        {
          "output_type": "stream",
          "name": "stdout",
          "text": [
            "\b\b\b\b\b\b\b\b\b\b\b\b\b\b\b\b\b\b\b\b\b\b\b\b\b\b\b\b\b\b\b\b\b\b\b\b\b\b\b\b\b\b\b\b\b\b\b\b\b\b\b\b\b\b\b\b\b\b\b\b\b\r3/3 [==============================] - 4s 2s/step - loss: 0.0387 - val_loss: 0.0977 - lr: 1.0000e-04\n",
            "Epoch 137/500\n",
            "3/3 [==============================] - 0s 23ms/step - loss: 0.0386 - val_loss: 0.0989 - lr: 1.0000e-04\n",
            "Epoch 138/500\n",
            "3/3 [==============================] - 0s 27ms/step - loss: 0.0386 - val_loss: 0.1005 - lr: 1.0000e-04\n",
            "Epoch 139/500\n",
            "1/3 [=========>....................] - ETA: 0s - loss: 0.0362INFO:tensorflow:Assets written to: path_to_checkpoint_filepath/assets\n"
          ]
        },
        {
          "output_type": "stream",
          "name": "stderr",
          "text": [
            "INFO:tensorflow:Assets written to: path_to_checkpoint_filepath/assets\n",
            "WARNING:absl:<keras.layers.recurrent.LSTMCell object at 0x7f3a65626a90> has the same name 'LSTMCell' as a built-in Keras object. Consider renaming <class 'keras.layers.recurrent.LSTMCell'> to avoid naming conflicts when loading with `tf.keras.models.load_model`. If renaming is not possible, pass the object in the `custom_objects` parameter of the load function.\n",
            "WARNING:absl:<keras.layers.recurrent.LSTMCell object at 0x7f3a65adc2d0> has the same name 'LSTMCell' as a built-in Keras object. Consider renaming <class 'keras.layers.recurrent.LSTMCell'> to avoid naming conflicts when loading with `tf.keras.models.load_model`. If renaming is not possible, pass the object in the `custom_objects` parameter of the load function.\n"
          ]
        },
        {
          "output_type": "stream",
          "name": "stdout",
          "text": [
            "\b\b\b\b\b\b\b\b\b\b\b\b\b\b\b\b\b\b\b\b\b\b\b\b\b\b\b\b\b\b\b\b\b\b\b\b\b\b\b\b\b\b\b\b\b\b\b\b\b\b\b\b\b\b\b\b\b\b\b\b\b\r3/3 [==============================] - 5s 2s/step - loss: 0.0385 - val_loss: 0.0968 - lr: 1.0000e-04\n",
            "Epoch 140/500\n",
            "1/3 [=========>....................] - ETA: 0s - loss: 0.0368INFO:tensorflow:Assets written to: path_to_checkpoint_filepath/assets\n"
          ]
        },
        {
          "output_type": "stream",
          "name": "stderr",
          "text": [
            "INFO:tensorflow:Assets written to: path_to_checkpoint_filepath/assets\n",
            "WARNING:absl:<keras.layers.recurrent.LSTMCell object at 0x7f3a65626a90> has the same name 'LSTMCell' as a built-in Keras object. Consider renaming <class 'keras.layers.recurrent.LSTMCell'> to avoid naming conflicts when loading with `tf.keras.models.load_model`. If renaming is not possible, pass the object in the `custom_objects` parameter of the load function.\n",
            "WARNING:absl:<keras.layers.recurrent.LSTMCell object at 0x7f3a65adc2d0> has the same name 'LSTMCell' as a built-in Keras object. Consider renaming <class 'keras.layers.recurrent.LSTMCell'> to avoid naming conflicts when loading with `tf.keras.models.load_model`. If renaming is not possible, pass the object in the `custom_objects` parameter of the load function.\n"
          ]
        },
        {
          "output_type": "stream",
          "name": "stdout",
          "text": [
            "\b\b\b\b\b\b\b\b\b\b\b\b\b\b\b\b\b\b\b\b\b\b\b\b\b\b\b\b\b\b\b\b\b\b\b\b\b\b\b\b\b\b\b\b\b\b\b\b\b\b\b\b\b\b\b\b\b\b\b\b\b\r3/3 [==============================] - 5s 2s/step - loss: 0.0385 - val_loss: 0.0961 - lr: 1.0000e-04\n",
            "Epoch 141/500\n",
            "3/3 [==============================] - 0s 26ms/step - loss: 0.0383 - val_loss: 0.0989 - lr: 1.0000e-04\n",
            "Epoch 142/500\n",
            "3/3 [==============================] - 0s 27ms/step - loss: 0.0383 - val_loss: 0.0969 - lr: 1.0000e-04\n",
            "Epoch 143/500\n",
            "1/3 [=========>....................] - ETA: 0s - loss: 0.0398INFO:tensorflow:Assets written to: path_to_checkpoint_filepath/assets\n"
          ]
        },
        {
          "output_type": "stream",
          "name": "stderr",
          "text": [
            "INFO:tensorflow:Assets written to: path_to_checkpoint_filepath/assets\n",
            "WARNING:absl:<keras.layers.recurrent.LSTMCell object at 0x7f3a65626a90> has the same name 'LSTMCell' as a built-in Keras object. Consider renaming <class 'keras.layers.recurrent.LSTMCell'> to avoid naming conflicts when loading with `tf.keras.models.load_model`. If renaming is not possible, pass the object in the `custom_objects` parameter of the load function.\n",
            "WARNING:absl:<keras.layers.recurrent.LSTMCell object at 0x7f3a65adc2d0> has the same name 'LSTMCell' as a built-in Keras object. Consider renaming <class 'keras.layers.recurrent.LSTMCell'> to avoid naming conflicts when loading with `tf.keras.models.load_model`. If renaming is not possible, pass the object in the `custom_objects` parameter of the load function.\n"
          ]
        },
        {
          "output_type": "stream",
          "name": "stdout",
          "text": [
            "\b\b\b\b\b\b\b\b\b\b\b\b\b\b\b\b\b\b\b\b\b\b\b\b\b\b\b\b\b\b\b\b\b\b\b\b\b\b\b\b\b\b\b\b\b\b\b\b\b\b\b\b\b\b\b\b\b\b\b\b\b\r3/3 [==============================] - 4s 2s/step - loss: 0.0382 - val_loss: 0.0934 - lr: 1.0000e-04\n",
            "Epoch 144/500\n",
            "3/3 [==============================] - 0s 23ms/step - loss: 0.0381 - val_loss: 0.0943 - lr: 1.0000e-04\n",
            "Epoch 145/500\n",
            "3/3 [==============================] - 0s 25ms/step - loss: 0.0380 - val_loss: 0.0953 - lr: 1.0000e-04\n",
            "Epoch 146/500\n",
            "3/3 [==============================] - 0s 25ms/step - loss: 0.0380 - val_loss: 0.0952 - lr: 1.0000e-04\n",
            "Epoch 147/500\n",
            "1/3 [=========>....................] - ETA: 0s - loss: 0.0362INFO:tensorflow:Assets written to: path_to_checkpoint_filepath/assets\n"
          ]
        },
        {
          "output_type": "stream",
          "name": "stderr",
          "text": [
            "INFO:tensorflow:Assets written to: path_to_checkpoint_filepath/assets\n",
            "WARNING:absl:<keras.layers.recurrent.LSTMCell object at 0x7f3a65626a90> has the same name 'LSTMCell' as a built-in Keras object. Consider renaming <class 'keras.layers.recurrent.LSTMCell'> to avoid naming conflicts when loading with `tf.keras.models.load_model`. If renaming is not possible, pass the object in the `custom_objects` parameter of the load function.\n",
            "WARNING:absl:<keras.layers.recurrent.LSTMCell object at 0x7f3a65adc2d0> has the same name 'LSTMCell' as a built-in Keras object. Consider renaming <class 'keras.layers.recurrent.LSTMCell'> to avoid naming conflicts when loading with `tf.keras.models.load_model`. If renaming is not possible, pass the object in the `custom_objects` parameter of the load function.\n"
          ]
        },
        {
          "output_type": "stream",
          "name": "stdout",
          "text": [
            "\b\b\b\b\b\b\b\b\b\b\b\b\b\b\b\b\b\b\b\b\b\b\b\b\b\b\b\b\b\b\b\b\b\b\b\b\b\b\b\b\b\b\b\b\b\b\b\b\b\b\b\b\b\b\b\b\b\b\b\b\b\r3/3 [==============================] - 5s 2s/step - loss: 0.0378 - val_loss: 0.0923 - lr: 1.0000e-04\n",
            "Epoch 148/500\n",
            "1/3 [=========>....................] - ETA: 0s - loss: 0.0392INFO:tensorflow:Assets written to: path_to_checkpoint_filepath/assets\n"
          ]
        },
        {
          "output_type": "stream",
          "name": "stderr",
          "text": [
            "INFO:tensorflow:Assets written to: path_to_checkpoint_filepath/assets\n",
            "WARNING:absl:<keras.layers.recurrent.LSTMCell object at 0x7f3a65626a90> has the same name 'LSTMCell' as a built-in Keras object. Consider renaming <class 'keras.layers.recurrent.LSTMCell'> to avoid naming conflicts when loading with `tf.keras.models.load_model`. If renaming is not possible, pass the object in the `custom_objects` parameter of the load function.\n",
            "WARNING:absl:<keras.layers.recurrent.LSTMCell object at 0x7f3a65adc2d0> has the same name 'LSTMCell' as a built-in Keras object. Consider renaming <class 'keras.layers.recurrent.LSTMCell'> to avoid naming conflicts when loading with `tf.keras.models.load_model`. If renaming is not possible, pass the object in the `custom_objects` parameter of the load function.\n"
          ]
        },
        {
          "output_type": "stream",
          "name": "stdout",
          "text": [
            "\b\b\b\b\b\b\b\b\b\b\b\b\b\b\b\b\b\b\b\b\b\b\b\b\b\b\b\b\b\b\b\b\b\b\b\b\b\b\b\b\b\b\b\b\b\b\b\b\b\b\b\b\b\b\b\b\b\b\b\b\b\r3/3 [==============================] - 5s 2s/step - loss: 0.0378 - val_loss: 0.0915 - lr: 1.0000e-04\n",
            "Epoch 149/500\n",
            "3/3 [==============================] - 0s 23ms/step - loss: 0.0377 - val_loss: 0.0943 - lr: 1.0000e-04\n",
            "Epoch 150/500\n",
            "3/3 [==============================] - 0s 23ms/step - loss: 0.0376 - val_loss: 0.0921 - lr: 1.0000e-04\n",
            "Epoch 151/500\n",
            "1/3 [=========>....................] - ETA: 0s - loss: 0.0362INFO:tensorflow:Assets written to: path_to_checkpoint_filepath/assets\n"
          ]
        },
        {
          "output_type": "stream",
          "name": "stderr",
          "text": [
            "INFO:tensorflow:Assets written to: path_to_checkpoint_filepath/assets\n",
            "WARNING:absl:<keras.layers.recurrent.LSTMCell object at 0x7f3a65626a90> has the same name 'LSTMCell' as a built-in Keras object. Consider renaming <class 'keras.layers.recurrent.LSTMCell'> to avoid naming conflicts when loading with `tf.keras.models.load_model`. If renaming is not possible, pass the object in the `custom_objects` parameter of the load function.\n",
            "WARNING:absl:<keras.layers.recurrent.LSTMCell object at 0x7f3a65adc2d0> has the same name 'LSTMCell' as a built-in Keras object. Consider renaming <class 'keras.layers.recurrent.LSTMCell'> to avoid naming conflicts when loading with `tf.keras.models.load_model`. If renaming is not possible, pass the object in the `custom_objects` parameter of the load function.\n"
          ]
        },
        {
          "output_type": "stream",
          "name": "stdout",
          "text": [
            "\b\b\b\b\b\b\b\b\b\b\b\b\b\b\b\b\b\b\b\b\b\b\b\b\b\b\b\b\b\b\b\b\b\b\b\b\b\b\b\b\b\b\b\b\b\b\b\b\b\b\b\b\b\b\b\b\b\b\b\b\b\r3/3 [==============================] - 5s 2s/step - loss: 0.0376 - val_loss: 0.0899 - lr: 1.0000e-04\n",
            "Epoch 152/500\n",
            "3/3 [==============================] - 0s 24ms/step - loss: 0.0375 - val_loss: 0.0918 - lr: 1.0000e-04\n",
            "Epoch 153/500\n",
            "3/3 [==============================] - 0s 25ms/step - loss: 0.0374 - val_loss: 0.0909 - lr: 1.0000e-04\n",
            "Epoch 154/500\n",
            "1/3 [=========>....................] - ETA: 0s - loss: 0.0365INFO:tensorflow:Assets written to: path_to_checkpoint_filepath/assets\n"
          ]
        },
        {
          "output_type": "stream",
          "name": "stderr",
          "text": [
            "INFO:tensorflow:Assets written to: path_to_checkpoint_filepath/assets\n",
            "WARNING:absl:<keras.layers.recurrent.LSTMCell object at 0x7f3a65626a90> has the same name 'LSTMCell' as a built-in Keras object. Consider renaming <class 'keras.layers.recurrent.LSTMCell'> to avoid naming conflicts when loading with `tf.keras.models.load_model`. If renaming is not possible, pass the object in the `custom_objects` parameter of the load function.\n",
            "WARNING:absl:<keras.layers.recurrent.LSTMCell object at 0x7f3a65adc2d0> has the same name 'LSTMCell' as a built-in Keras object. Consider renaming <class 'keras.layers.recurrent.LSTMCell'> to avoid naming conflicts when loading with `tf.keras.models.load_model`. If renaming is not possible, pass the object in the `custom_objects` parameter of the load function.\n"
          ]
        },
        {
          "output_type": "stream",
          "name": "stdout",
          "text": [
            "\b\b\b\b\b\b\b\b\b\b\b\b\b\b\b\b\b\b\b\b\b\b\b\b\b\b\b\b\b\b\b\b\b\b\b\b\b\b\b\b\b\b\b\b\b\b\b\b\b\b\b\b\b\b\b\b\b\b\b\b\b\r3/3 [==============================] - 4s 2s/step - loss: 0.0373 - val_loss: 0.0893 - lr: 1.0000e-04\n",
            "Epoch 155/500\n",
            "3/3 [==============================] - 0s 22ms/step - loss: 0.0372 - val_loss: 0.0902 - lr: 1.0000e-04\n",
            "Epoch 156/500\n",
            "3/3 [==============================] - 0s 22ms/step - loss: 0.0372 - val_loss: 0.0910 - lr: 1.0000e-04\n",
            "Epoch 157/500\n",
            "1/3 [=========>....................] - ETA: 0s - loss: 0.0355INFO:tensorflow:Assets written to: path_to_checkpoint_filepath/assets\n"
          ]
        },
        {
          "output_type": "stream",
          "name": "stderr",
          "text": [
            "INFO:tensorflow:Assets written to: path_to_checkpoint_filepath/assets\n",
            "WARNING:absl:<keras.layers.recurrent.LSTMCell object at 0x7f3a65626a90> has the same name 'LSTMCell' as a built-in Keras object. Consider renaming <class 'keras.layers.recurrent.LSTMCell'> to avoid naming conflicts when loading with `tf.keras.models.load_model`. If renaming is not possible, pass the object in the `custom_objects` parameter of the load function.\n",
            "WARNING:absl:<keras.layers.recurrent.LSTMCell object at 0x7f3a65adc2d0> has the same name 'LSTMCell' as a built-in Keras object. Consider renaming <class 'keras.layers.recurrent.LSTMCell'> to avoid naming conflicts when loading with `tf.keras.models.load_model`. If renaming is not possible, pass the object in the `custom_objects` parameter of the load function.\n"
          ]
        },
        {
          "output_type": "stream",
          "name": "stdout",
          "text": [
            "\b\b\b\b\b\b\b\b\b\b\b\b\b\b\b\b\b\b\b\b\b\b\b\b\b\b\b\b\b\b\b\b\b\b\b\b\b\b\b\b\b\b\b\b\b\b\b\b\b\b\b\b\b\b\b\b\b\b\b\b\b\r3/3 [==============================] - 5s 2s/step - loss: 0.0371 - val_loss: 0.0880 - lr: 1.0000e-04\n",
            "Epoch 158/500\n",
            "1/3 [=========>....................] - ETA: 0s - loss: 0.0378INFO:tensorflow:Assets written to: path_to_checkpoint_filepath/assets\n"
          ]
        },
        {
          "output_type": "stream",
          "name": "stderr",
          "text": [
            "INFO:tensorflow:Assets written to: path_to_checkpoint_filepath/assets\n",
            "WARNING:absl:<keras.layers.recurrent.LSTMCell object at 0x7f3a65626a90> has the same name 'LSTMCell' as a built-in Keras object. Consider renaming <class 'keras.layers.recurrent.LSTMCell'> to avoid naming conflicts when loading with `tf.keras.models.load_model`. If renaming is not possible, pass the object in the `custom_objects` parameter of the load function.\n",
            "WARNING:absl:<keras.layers.recurrent.LSTMCell object at 0x7f3a65adc2d0> has the same name 'LSTMCell' as a built-in Keras object. Consider renaming <class 'keras.layers.recurrent.LSTMCell'> to avoid naming conflicts when loading with `tf.keras.models.load_model`. If renaming is not possible, pass the object in the `custom_objects` parameter of the load function.\n"
          ]
        },
        {
          "output_type": "stream",
          "name": "stdout",
          "text": [
            "\b\b\b\b\b\b\b\b\b\b\b\b\b\b\b\b\b\b\b\b\b\b\b\b\b\b\b\b\b\b\b\b\b\b\b\b\b\b\b\b\b\b\b\b\b\b\b\b\b\b\b\b\b\b\b\b\b\b\b\b\b\r3/3 [==============================] - 5s 2s/step - loss: 0.0370 - val_loss: 0.0870 - lr: 1.0000e-04\n",
            "Epoch 159/500\n",
            "3/3 [==============================] - 0s 27ms/step - loss: 0.0369 - val_loss: 0.0873 - lr: 1.0000e-04\n",
            "Epoch 160/500\n",
            "3/3 [==============================] - 0s 23ms/step - loss: 0.0368 - val_loss: 0.0878 - lr: 1.0000e-04\n",
            "Epoch 161/500\n",
            "1/3 [=========>....................] - ETA: 0s - loss: 0.0396INFO:tensorflow:Assets written to: path_to_checkpoint_filepath/assets\n"
          ]
        },
        {
          "output_type": "stream",
          "name": "stderr",
          "text": [
            "INFO:tensorflow:Assets written to: path_to_checkpoint_filepath/assets\n",
            "WARNING:absl:<keras.layers.recurrent.LSTMCell object at 0x7f3a65626a90> has the same name 'LSTMCell' as a built-in Keras object. Consider renaming <class 'keras.layers.recurrent.LSTMCell'> to avoid naming conflicts when loading with `tf.keras.models.load_model`. If renaming is not possible, pass the object in the `custom_objects` parameter of the load function.\n",
            "WARNING:absl:<keras.layers.recurrent.LSTMCell object at 0x7f3a65adc2d0> has the same name 'LSTMCell' as a built-in Keras object. Consider renaming <class 'keras.layers.recurrent.LSTMCell'> to avoid naming conflicts when loading with `tf.keras.models.load_model`. If renaming is not possible, pass the object in the `custom_objects` parameter of the load function.\n"
          ]
        },
        {
          "output_type": "stream",
          "name": "stdout",
          "text": [
            "\b\b\b\b\b\b\b\b\b\b\b\b\b\b\b\b\b\b\b\b\b\b\b\b\b\b\b\b\b\b\b\b\b\b\b\b\b\b\b\b\b\b\b\b\b\b\b\b\b\b\b\b\b\b\b\b\b\b\b\b\b\r3/3 [==============================] - 4s 2s/step - loss: 0.0367 - val_loss: 0.0865 - lr: 1.0000e-04\n",
            "Epoch 162/500\n",
            "1/3 [=========>....................] - ETA: 0s - loss: 0.0377INFO:tensorflow:Assets written to: path_to_checkpoint_filepath/assets\n"
          ]
        },
        {
          "output_type": "stream",
          "name": "stderr",
          "text": [
            "INFO:tensorflow:Assets written to: path_to_checkpoint_filepath/assets\n",
            "WARNING:absl:<keras.layers.recurrent.LSTMCell object at 0x7f3a65626a90> has the same name 'LSTMCell' as a built-in Keras object. Consider renaming <class 'keras.layers.recurrent.LSTMCell'> to avoid naming conflicts when loading with `tf.keras.models.load_model`. If renaming is not possible, pass the object in the `custom_objects` parameter of the load function.\n",
            "WARNING:absl:<keras.layers.recurrent.LSTMCell object at 0x7f3a65adc2d0> has the same name 'LSTMCell' as a built-in Keras object. Consider renaming <class 'keras.layers.recurrent.LSTMCell'> to avoid naming conflicts when loading with `tf.keras.models.load_model`. If renaming is not possible, pass the object in the `custom_objects` parameter of the load function.\n"
          ]
        },
        {
          "output_type": "stream",
          "name": "stdout",
          "text": [
            "\b\b\b\b\b\b\b\b\b\b\b\b\b\b\b\b\b\b\b\b\b\b\b\b\b\b\b\b\b\b\b\b\b\b\b\b\b\b\b\b\b\b\b\b\b\b\b\b\b\b\b\b\b\b\b\b\b\b\b\b\b\r3/3 [==============================] - 5s 2s/step - loss: 0.0367 - val_loss: 0.0861 - lr: 1.0000e-04\n",
            "Epoch 163/500\n",
            "1/3 [=========>....................] - ETA: 0s - loss: 0.0376INFO:tensorflow:Assets written to: path_to_checkpoint_filepath/assets\n"
          ]
        },
        {
          "output_type": "stream",
          "name": "stderr",
          "text": [
            "INFO:tensorflow:Assets written to: path_to_checkpoint_filepath/assets\n",
            "WARNING:absl:<keras.layers.recurrent.LSTMCell object at 0x7f3a65626a90> has the same name 'LSTMCell' as a built-in Keras object. Consider renaming <class 'keras.layers.recurrent.LSTMCell'> to avoid naming conflicts when loading with `tf.keras.models.load_model`. If renaming is not possible, pass the object in the `custom_objects` parameter of the load function.\n",
            "WARNING:absl:<keras.layers.recurrent.LSTMCell object at 0x7f3a65adc2d0> has the same name 'LSTMCell' as a built-in Keras object. Consider renaming <class 'keras.layers.recurrent.LSTMCell'> to avoid naming conflicts when loading with `tf.keras.models.load_model`. If renaming is not possible, pass the object in the `custom_objects` parameter of the load function.\n"
          ]
        },
        {
          "output_type": "stream",
          "name": "stdout",
          "text": [
            "\b\b\b\b\b\b\b\b\b\b\b\b\b\b\b\b\b\b\b\b\b\b\b\b\b\b\b\b\b\b\b\b\b\b\b\b\b\b\b\b\b\b\b\b\b\b\b\b\b\b\b\b\b\b\b\b\b\b\b\b\b\r3/3 [==============================] - 4s 2s/step - loss: 0.0366 - val_loss: 0.0847 - lr: 1.0000e-04\n",
            "Epoch 164/500\n",
            "1/3 [=========>....................] - ETA: 0s - loss: 0.0378INFO:tensorflow:Assets written to: path_to_checkpoint_filepath/assets\n"
          ]
        },
        {
          "output_type": "stream",
          "name": "stderr",
          "text": [
            "INFO:tensorflow:Assets written to: path_to_checkpoint_filepath/assets\n",
            "WARNING:absl:<keras.layers.recurrent.LSTMCell object at 0x7f3a65626a90> has the same name 'LSTMCell' as a built-in Keras object. Consider renaming <class 'keras.layers.recurrent.LSTMCell'> to avoid naming conflicts when loading with `tf.keras.models.load_model`. If renaming is not possible, pass the object in the `custom_objects` parameter of the load function.\n",
            "WARNING:absl:<keras.layers.recurrent.LSTMCell object at 0x7f3a65adc2d0> has the same name 'LSTMCell' as a built-in Keras object. Consider renaming <class 'keras.layers.recurrent.LSTMCell'> to avoid naming conflicts when loading with `tf.keras.models.load_model`. If renaming is not possible, pass the object in the `custom_objects` parameter of the load function.\n"
          ]
        },
        {
          "output_type": "stream",
          "name": "stdout",
          "text": [
            "\b\b\b\b\b\b\b\b\b\b\b\b\b\b\b\b\b\b\b\b\b\b\b\b\b\b\b\b\b\b\b\b\b\b\b\b\b\b\b\b\b\b\b\b\b\b\b\b\b\b\b\b\b\b\b\b\b\b\b\b\b\r3/3 [==============================] - 5s 2s/step - loss: 0.0366 - val_loss: 0.0844 - lr: 1.0000e-04\n",
            "Epoch 165/500\n",
            "1/3 [=========>....................] - ETA: 0s - loss: 0.0358INFO:tensorflow:Assets written to: path_to_checkpoint_filepath/assets\n"
          ]
        },
        {
          "output_type": "stream",
          "name": "stderr",
          "text": [
            "INFO:tensorflow:Assets written to: path_to_checkpoint_filepath/assets\n",
            "WARNING:absl:<keras.layers.recurrent.LSTMCell object at 0x7f3a65626a90> has the same name 'LSTMCell' as a built-in Keras object. Consider renaming <class 'keras.layers.recurrent.LSTMCell'> to avoid naming conflicts when loading with `tf.keras.models.load_model`. If renaming is not possible, pass the object in the `custom_objects` parameter of the load function.\n",
            "WARNING:absl:<keras.layers.recurrent.LSTMCell object at 0x7f3a65adc2d0> has the same name 'LSTMCell' as a built-in Keras object. Consider renaming <class 'keras.layers.recurrent.LSTMCell'> to avoid naming conflicts when loading with `tf.keras.models.load_model`. If renaming is not possible, pass the object in the `custom_objects` parameter of the load function.\n"
          ]
        },
        {
          "output_type": "stream",
          "name": "stdout",
          "text": [
            "\b\b\b\b\b\b\b\b\b\b\b\b\b\b\b\b\b\b\b\b\b\b\b\b\b\b\b\b\b\b\b\b\b\b\b\b\b\b\b\b\b\b\b\b\b\b\b\b\b\b\b\b\b\b\b\b\b\b\b\b\b\r3/3 [==============================] - 5s 2s/step - loss: 0.0365 - val_loss: 0.0843 - lr: 1.0000e-04\n",
            "Epoch 166/500\n",
            "1/3 [=========>....................] - ETA: 0s - loss: 0.0326INFO:tensorflow:Assets written to: path_to_checkpoint_filepath/assets\n"
          ]
        },
        {
          "output_type": "stream",
          "name": "stderr",
          "text": [
            "INFO:tensorflow:Assets written to: path_to_checkpoint_filepath/assets\n",
            "WARNING:absl:<keras.layers.recurrent.LSTMCell object at 0x7f3a65626a90> has the same name 'LSTMCell' as a built-in Keras object. Consider renaming <class 'keras.layers.recurrent.LSTMCell'> to avoid naming conflicts when loading with `tf.keras.models.load_model`. If renaming is not possible, pass the object in the `custom_objects` parameter of the load function.\n",
            "WARNING:absl:<keras.layers.recurrent.LSTMCell object at 0x7f3a65adc2d0> has the same name 'LSTMCell' as a built-in Keras object. Consider renaming <class 'keras.layers.recurrent.LSTMCell'> to avoid naming conflicts when loading with `tf.keras.models.load_model`. If renaming is not possible, pass the object in the `custom_objects` parameter of the load function.\n"
          ]
        },
        {
          "output_type": "stream",
          "name": "stdout",
          "text": [
            "\b\b\b\b\b\b\b\b\b\b\b\b\b\b\b\b\b\b\b\b\b\b\b\b\b\b\b\b\b\b\b\b\b\b\b\b\b\b\b\b\b\b\b\b\b\b\b\b\b\b\b\b\b\b\b\b\b\b\b\b\b\r3/3 [==============================] - 5s 2s/step - loss: 0.0364 - val_loss: 0.0842 - lr: 1.0000e-04\n",
            "Epoch 167/500\n",
            "1/3 [=========>....................] - ETA: 0s - loss: 0.0372INFO:tensorflow:Assets written to: path_to_checkpoint_filepath/assets\n"
          ]
        },
        {
          "output_type": "stream",
          "name": "stderr",
          "text": [
            "INFO:tensorflow:Assets written to: path_to_checkpoint_filepath/assets\n",
            "WARNING:absl:<keras.layers.recurrent.LSTMCell object at 0x7f3a65626a90> has the same name 'LSTMCell' as a built-in Keras object. Consider renaming <class 'keras.layers.recurrent.LSTMCell'> to avoid naming conflicts when loading with `tf.keras.models.load_model`. If renaming is not possible, pass the object in the `custom_objects` parameter of the load function.\n",
            "WARNING:absl:<keras.layers.recurrent.LSTMCell object at 0x7f3a65adc2d0> has the same name 'LSTMCell' as a built-in Keras object. Consider renaming <class 'keras.layers.recurrent.LSTMCell'> to avoid naming conflicts when loading with `tf.keras.models.load_model`. If renaming is not possible, pass the object in the `custom_objects` parameter of the load function.\n"
          ]
        },
        {
          "output_type": "stream",
          "name": "stdout",
          "text": [
            "\b\b\b\b\b\b\b\b\b\b\b\b\b\b\b\b\b\b\b\b\b\b\b\b\b\b\b\b\b\b\b\b\b\b\b\b\b\b\b\b\b\b\b\b\b\b\b\b\b\b\b\b\b\b\b\b\b\b\b\b\b\r3/3 [==============================] - 5s 2s/step - loss: 0.0363 - val_loss: 0.0834 - lr: 1.0000e-04\n",
            "Epoch 168/500\n",
            "1/3 [=========>....................] - ETA: 0s - loss: 0.0328INFO:tensorflow:Assets written to: path_to_checkpoint_filepath/assets\n"
          ]
        },
        {
          "output_type": "stream",
          "name": "stderr",
          "text": [
            "INFO:tensorflow:Assets written to: path_to_checkpoint_filepath/assets\n",
            "WARNING:absl:<keras.layers.recurrent.LSTMCell object at 0x7f3a65626a90> has the same name 'LSTMCell' as a built-in Keras object. Consider renaming <class 'keras.layers.recurrent.LSTMCell'> to avoid naming conflicts when loading with `tf.keras.models.load_model`. If renaming is not possible, pass the object in the `custom_objects` parameter of the load function.\n",
            "WARNING:absl:<keras.layers.recurrent.LSTMCell object at 0x7f3a65adc2d0> has the same name 'LSTMCell' as a built-in Keras object. Consider renaming <class 'keras.layers.recurrent.LSTMCell'> to avoid naming conflicts when loading with `tf.keras.models.load_model`. If renaming is not possible, pass the object in the `custom_objects` parameter of the load function.\n"
          ]
        },
        {
          "output_type": "stream",
          "name": "stdout",
          "text": [
            "\b\b\b\b\b\b\b\b\b\b\b\b\b\b\b\b\b\b\b\b\b\b\b\b\b\b\b\b\b\b\b\b\b\b\b\b\b\b\b\b\b\b\b\b\b\b\b\b\b\b\b\b\b\b\b\b\b\b\b\b\b\r3/3 [==============================] - 5s 2s/step - loss: 0.0362 - val_loss: 0.0829 - lr: 1.0000e-04\n",
            "Epoch 169/500\n",
            "1/3 [=========>....................] - ETA: 0s - loss: 0.0346INFO:tensorflow:Assets written to: path_to_checkpoint_filepath/assets\n"
          ]
        },
        {
          "output_type": "stream",
          "name": "stderr",
          "text": [
            "INFO:tensorflow:Assets written to: path_to_checkpoint_filepath/assets\n",
            "WARNING:absl:<keras.layers.recurrent.LSTMCell object at 0x7f3a65626a90> has the same name 'LSTMCell' as a built-in Keras object. Consider renaming <class 'keras.layers.recurrent.LSTMCell'> to avoid naming conflicts when loading with `tf.keras.models.load_model`. If renaming is not possible, pass the object in the `custom_objects` parameter of the load function.\n",
            "WARNING:absl:<keras.layers.recurrent.LSTMCell object at 0x7f3a65adc2d0> has the same name 'LSTMCell' as a built-in Keras object. Consider renaming <class 'keras.layers.recurrent.LSTMCell'> to avoid naming conflicts when loading with `tf.keras.models.load_model`. If renaming is not possible, pass the object in the `custom_objects` parameter of the load function.\n"
          ]
        },
        {
          "output_type": "stream",
          "name": "stdout",
          "text": [
            "\b\b\b\b\b\b\b\b\b\b\b\b\b\b\b\b\b\b\b\b\b\b\b\b\b\b\b\b\b\b\b\b\b\b\b\b\b\b\b\b\b\b\b\b\b\b\b\b\b\b\b\b\b\b\b\b\b\b\b\b\b\r3/3 [==============================] - 5s 2s/step - loss: 0.0362 - val_loss: 0.0819 - lr: 1.0000e-04\n",
            "Epoch 170/500\n",
            "3/3 [==============================] - 0s 25ms/step - loss: 0.0361 - val_loss: 0.0835 - lr: 1.0000e-04\n",
            "Epoch 171/500\n",
            "1/3 [=========>....................] - ETA: 0s - loss: 0.0336INFO:tensorflow:Assets written to: path_to_checkpoint_filepath/assets\n"
          ]
        },
        {
          "output_type": "stream",
          "name": "stderr",
          "text": [
            "INFO:tensorflow:Assets written to: path_to_checkpoint_filepath/assets\n",
            "WARNING:absl:<keras.layers.recurrent.LSTMCell object at 0x7f3a65626a90> has the same name 'LSTMCell' as a built-in Keras object. Consider renaming <class 'keras.layers.recurrent.LSTMCell'> to avoid naming conflicts when loading with `tf.keras.models.load_model`. If renaming is not possible, pass the object in the `custom_objects` parameter of the load function.\n",
            "WARNING:absl:<keras.layers.recurrent.LSTMCell object at 0x7f3a65adc2d0> has the same name 'LSTMCell' as a built-in Keras object. Consider renaming <class 'keras.layers.recurrent.LSTMCell'> to avoid naming conflicts when loading with `tf.keras.models.load_model`. If renaming is not possible, pass the object in the `custom_objects` parameter of the load function.\n"
          ]
        },
        {
          "output_type": "stream",
          "name": "stdout",
          "text": [
            "\b\b\b\b\b\b\b\b\b\b\b\b\b\b\b\b\b\b\b\b\b\b\b\b\b\b\b\b\b\b\b\b\b\b\b\b\b\b\b\b\b\b\b\b\b\b\b\b\b\b\b\b\b\b\b\b\b\b\b\b\b\r3/3 [==============================] - 4s 2s/step - loss: 0.0360 - val_loss: 0.0814 - lr: 1.0000e-04\n",
            "Epoch 172/500\n",
            "1/3 [=========>....................] - ETA: 0s - loss: 0.0366INFO:tensorflow:Assets written to: path_to_checkpoint_filepath/assets\n"
          ]
        },
        {
          "output_type": "stream",
          "name": "stderr",
          "text": [
            "INFO:tensorflow:Assets written to: path_to_checkpoint_filepath/assets\n",
            "WARNING:absl:<keras.layers.recurrent.LSTMCell object at 0x7f3a65626a90> has the same name 'LSTMCell' as a built-in Keras object. Consider renaming <class 'keras.layers.recurrent.LSTMCell'> to avoid naming conflicts when loading with `tf.keras.models.load_model`. If renaming is not possible, pass the object in the `custom_objects` parameter of the load function.\n",
            "WARNING:absl:<keras.layers.recurrent.LSTMCell object at 0x7f3a65adc2d0> has the same name 'LSTMCell' as a built-in Keras object. Consider renaming <class 'keras.layers.recurrent.LSTMCell'> to avoid naming conflicts when loading with `tf.keras.models.load_model`. If renaming is not possible, pass the object in the `custom_objects` parameter of the load function.\n"
          ]
        },
        {
          "output_type": "stream",
          "name": "stdout",
          "text": [
            "\b\b\b\b\b\b\b\b\b\b\b\b\b\b\b\b\b\b\b\b\b\b\b\b\b\b\b\b\b\b\b\b\b\b\b\b\b\b\b\b\b\b\b\b\b\b\b\b\b\b\b\b\b\b\b\b\b\b\b\b\b\r3/3 [==============================] - 5s 2s/step - loss: 0.0359 - val_loss: 0.0808 - lr: 1.0000e-04\n",
            "Epoch 173/500\n",
            "3/3 [==============================] - 0s 26ms/step - loss: 0.0359 - val_loss: 0.0823 - lr: 1.0000e-04\n",
            "Epoch 174/500\n",
            "1/3 [=========>....................] - ETA: 0s - loss: 0.0352INFO:tensorflow:Assets written to: path_to_checkpoint_filepath/assets\n"
          ]
        },
        {
          "output_type": "stream",
          "name": "stderr",
          "text": [
            "INFO:tensorflow:Assets written to: path_to_checkpoint_filepath/assets\n",
            "WARNING:absl:<keras.layers.recurrent.LSTMCell object at 0x7f3a65626a90> has the same name 'LSTMCell' as a built-in Keras object. Consider renaming <class 'keras.layers.recurrent.LSTMCell'> to avoid naming conflicts when loading with `tf.keras.models.load_model`. If renaming is not possible, pass the object in the `custom_objects` parameter of the load function.\n",
            "WARNING:absl:<keras.layers.recurrent.LSTMCell object at 0x7f3a65adc2d0> has the same name 'LSTMCell' as a built-in Keras object. Consider renaming <class 'keras.layers.recurrent.LSTMCell'> to avoid naming conflicts when loading with `tf.keras.models.load_model`. If renaming is not possible, pass the object in the `custom_objects` parameter of the load function.\n"
          ]
        },
        {
          "output_type": "stream",
          "name": "stdout",
          "text": [
            "\b\b\b\b\b\b\b\b\b\b\b\b\b\b\b\b\b\b\b\b\b\b\b\b\b\b\b\b\b\b\b\b\b\b\b\b\b\b\b\b\b\b\b\b\b\b\b\b\b\b\b\b\b\b\b\b\b\b\b\b\b\r3/3 [==============================] - 5s 2s/step - loss: 0.0358 - val_loss: 0.0798 - lr: 1.0000e-04\n",
            "Epoch 175/500\n",
            "3/3 [==============================] - 0s 27ms/step - loss: 0.0357 - val_loss: 0.0802 - lr: 1.0000e-04\n",
            "Epoch 176/500\n",
            "3/3 [==============================] - 0s 25ms/step - loss: 0.0357 - val_loss: 0.0799 - lr: 1.0000e-04\n",
            "Epoch 177/500\n",
            "1/3 [=========>....................] - ETA: 0s - loss: 0.0371INFO:tensorflow:Assets written to: path_to_checkpoint_filepath/assets\n"
          ]
        },
        {
          "output_type": "stream",
          "name": "stderr",
          "text": [
            "INFO:tensorflow:Assets written to: path_to_checkpoint_filepath/assets\n",
            "WARNING:absl:<keras.layers.recurrent.LSTMCell object at 0x7f3a65626a90> has the same name 'LSTMCell' as a built-in Keras object. Consider renaming <class 'keras.layers.recurrent.LSTMCell'> to avoid naming conflicts when loading with `tf.keras.models.load_model`. If renaming is not possible, pass the object in the `custom_objects` parameter of the load function.\n",
            "WARNING:absl:<keras.layers.recurrent.LSTMCell object at 0x7f3a65adc2d0> has the same name 'LSTMCell' as a built-in Keras object. Consider renaming <class 'keras.layers.recurrent.LSTMCell'> to avoid naming conflicts when loading with `tf.keras.models.load_model`. If renaming is not possible, pass the object in the `custom_objects` parameter of the load function.\n"
          ]
        },
        {
          "output_type": "stream",
          "name": "stdout",
          "text": [
            "\b\b\b\b\b\b\b\b\b\b\b\b\b\b\b\b\b\b\b\b\b\b\b\b\b\b\b\b\b\b\b\b\b\b\b\b\b\b\b\b\b\b\b\b\b\b\b\b\b\b\b\b\b\b\b\b\b\b\b\b\b\r3/3 [==============================] - 5s 2s/step - loss: 0.0356 - val_loss: 0.0784 - lr: 1.0000e-04\n",
            "Epoch 178/500\n",
            "3/3 [==============================] - 0s 26ms/step - loss: 0.0355 - val_loss: 0.0793 - lr: 1.0000e-04\n",
            "Epoch 179/500\n",
            "1/3 [=========>....................] - ETA: 0s - loss: 0.0352INFO:tensorflow:Assets written to: path_to_checkpoint_filepath/assets\n"
          ]
        },
        {
          "output_type": "stream",
          "name": "stderr",
          "text": [
            "INFO:tensorflow:Assets written to: path_to_checkpoint_filepath/assets\n",
            "WARNING:absl:<keras.layers.recurrent.LSTMCell object at 0x7f3a65626a90> has the same name 'LSTMCell' as a built-in Keras object. Consider renaming <class 'keras.layers.recurrent.LSTMCell'> to avoid naming conflicts when loading with `tf.keras.models.load_model`. If renaming is not possible, pass the object in the `custom_objects` parameter of the load function.\n",
            "WARNING:absl:<keras.layers.recurrent.LSTMCell object at 0x7f3a65adc2d0> has the same name 'LSTMCell' as a built-in Keras object. Consider renaming <class 'keras.layers.recurrent.LSTMCell'> to avoid naming conflicts when loading with `tf.keras.models.load_model`. If renaming is not possible, pass the object in the `custom_objects` parameter of the load function.\n"
          ]
        },
        {
          "output_type": "stream",
          "name": "stdout",
          "text": [
            "\b\b\b\b\b\b\b\b\b\b\b\b\b\b\b\b\b\b\b\b\b\b\b\b\b\b\b\b\b\b\b\b\b\b\b\b\b\b\b\b\b\b\b\b\b\b\b\b\b\b\b\b\b\b\b\b\b\b\b\b\b\r3/3 [==============================] - 5s 2s/step - loss: 0.0354 - val_loss: 0.0782 - lr: 1.0000e-04\n",
            "Epoch 180/500\n",
            "1/3 [=========>....................] - ETA: 0s - loss: 0.0361INFO:tensorflow:Assets written to: path_to_checkpoint_filepath/assets\n"
          ]
        },
        {
          "output_type": "stream",
          "name": "stderr",
          "text": [
            "INFO:tensorflow:Assets written to: path_to_checkpoint_filepath/assets\n",
            "WARNING:absl:<keras.layers.recurrent.LSTMCell object at 0x7f3a65626a90> has the same name 'LSTMCell' as a built-in Keras object. Consider renaming <class 'keras.layers.recurrent.LSTMCell'> to avoid naming conflicts when loading with `tf.keras.models.load_model`. If renaming is not possible, pass the object in the `custom_objects` parameter of the load function.\n",
            "WARNING:absl:<keras.layers.recurrent.LSTMCell object at 0x7f3a65adc2d0> has the same name 'LSTMCell' as a built-in Keras object. Consider renaming <class 'keras.layers.recurrent.LSTMCell'> to avoid naming conflicts when loading with `tf.keras.models.load_model`. If renaming is not possible, pass the object in the `custom_objects` parameter of the load function.\n"
          ]
        },
        {
          "output_type": "stream",
          "name": "stdout",
          "text": [
            "\b\b\b\b\b\b\b\b\b\b\b\b\b\b\b\b\b\b\b\b\b\b\b\b\b\b\b\b\b\b\b\b\b\b\b\b\b\b\b\b\b\b\b\b\b\b\b\b\b\b\b\b\b\b\b\b\b\b\b\b\b\r3/3 [==============================] - 5s 2s/step - loss: 0.0353 - val_loss: 0.0777 - lr: 1.0000e-04\n",
            "Epoch 181/500\n",
            "1/3 [=========>....................] - ETA: 0s - loss: 0.0383INFO:tensorflow:Assets written to: path_to_checkpoint_filepath/assets\n"
          ]
        },
        {
          "output_type": "stream",
          "name": "stderr",
          "text": [
            "INFO:tensorflow:Assets written to: path_to_checkpoint_filepath/assets\n",
            "WARNING:absl:<keras.layers.recurrent.LSTMCell object at 0x7f3a65626a90> has the same name 'LSTMCell' as a built-in Keras object. Consider renaming <class 'keras.layers.recurrent.LSTMCell'> to avoid naming conflicts when loading with `tf.keras.models.load_model`. If renaming is not possible, pass the object in the `custom_objects` parameter of the load function.\n",
            "WARNING:absl:<keras.layers.recurrent.LSTMCell object at 0x7f3a65adc2d0> has the same name 'LSTMCell' as a built-in Keras object. Consider renaming <class 'keras.layers.recurrent.LSTMCell'> to avoid naming conflicts when loading with `tf.keras.models.load_model`. If renaming is not possible, pass the object in the `custom_objects` parameter of the load function.\n"
          ]
        },
        {
          "output_type": "stream",
          "name": "stdout",
          "text": [
            "\b\b\b\b\b\b\b\b\b\b\b\b\b\b\b\b\b\b\b\b\b\b\b\b\b\b\b\b\b\b\b\b\b\b\b\b\b\b\b\b\b\b\b\b\b\b\b\b\b\b\b\b\b\b\b\b\b\b\b\b\b\r3/3 [==============================] - 4s 2s/step - loss: 0.0353 - val_loss: 0.0771 - lr: 1.0000e-04\n",
            "Epoch 182/500\n",
            "1/3 [=========>....................] - ETA: 0s - loss: 0.0343INFO:tensorflow:Assets written to: path_to_checkpoint_filepath/assets\n"
          ]
        },
        {
          "output_type": "stream",
          "name": "stderr",
          "text": [
            "INFO:tensorflow:Assets written to: path_to_checkpoint_filepath/assets\n",
            "WARNING:absl:<keras.layers.recurrent.LSTMCell object at 0x7f3a65626a90> has the same name 'LSTMCell' as a built-in Keras object. Consider renaming <class 'keras.layers.recurrent.LSTMCell'> to avoid naming conflicts when loading with `tf.keras.models.load_model`. If renaming is not possible, pass the object in the `custom_objects` parameter of the load function.\n",
            "WARNING:absl:<keras.layers.recurrent.LSTMCell object at 0x7f3a65adc2d0> has the same name 'LSTMCell' as a built-in Keras object. Consider renaming <class 'keras.layers.recurrent.LSTMCell'> to avoid naming conflicts when loading with `tf.keras.models.load_model`. If renaming is not possible, pass the object in the `custom_objects` parameter of the load function.\n"
          ]
        },
        {
          "output_type": "stream",
          "name": "stdout",
          "text": [
            "\b\b\b\b\b\b\b\b\b\b\b\b\b\b\b\b\b\b\b\b\b\b\b\b\b\b\b\b\b\b\b\b\b\b\b\b\b\b\b\b\b\b\b\b\b\b\b\b\b\b\b\b\b\b\b\b\b\b\b\b\b\r3/3 [==============================] - 5s 2s/step - loss: 0.0352 - val_loss: 0.0758 - lr: 1.0000e-04\n",
            "Epoch 183/500\n",
            "3/3 [==============================] - 0s 27ms/step - loss: 0.0351 - val_loss: 0.0778 - lr: 1.0000e-04\n",
            "Epoch 184/500\n",
            "3/3 [==============================] - 0s 24ms/step - loss: 0.0351 - val_loss: 0.0765 - lr: 1.0000e-04\n",
            "Epoch 185/500\n",
            "1/3 [=========>....................] - ETA: 0s - loss: 0.0353INFO:tensorflow:Assets written to: path_to_checkpoint_filepath/assets\n"
          ]
        },
        {
          "output_type": "stream",
          "name": "stderr",
          "text": [
            "INFO:tensorflow:Assets written to: path_to_checkpoint_filepath/assets\n",
            "WARNING:absl:<keras.layers.recurrent.LSTMCell object at 0x7f3a65626a90> has the same name 'LSTMCell' as a built-in Keras object. Consider renaming <class 'keras.layers.recurrent.LSTMCell'> to avoid naming conflicts when loading with `tf.keras.models.load_model`. If renaming is not possible, pass the object in the `custom_objects` parameter of the load function.\n",
            "WARNING:absl:<keras.layers.recurrent.LSTMCell object at 0x7f3a65adc2d0> has the same name 'LSTMCell' as a built-in Keras object. Consider renaming <class 'keras.layers.recurrent.LSTMCell'> to avoid naming conflicts when loading with `tf.keras.models.load_model`. If renaming is not possible, pass the object in the `custom_objects` parameter of the load function.\n"
          ]
        },
        {
          "output_type": "stream",
          "name": "stdout",
          "text": [
            "\b\b\b\b\b\b\b\b\b\b\b\b\b\b\b\b\b\b\b\b\b\b\b\b\b\b\b\b\b\b\b\b\b\b\b\b\b\b\b\b\b\b\b\b\b\b\b\b\b\b\b\b\b\b\b\b\b\b\b\b\b\r3/3 [==============================] - 5s 2s/step - loss: 0.0350 - val_loss: 0.0746 - lr: 1.0000e-04\n",
            "Epoch 186/500\n",
            "3/3 [==============================] - 0s 24ms/step - loss: 0.0349 - val_loss: 0.0752 - lr: 1.0000e-04\n",
            "Epoch 187/500\n",
            "1/3 [=========>....................] - ETA: 0s - loss: 0.0339INFO:tensorflow:Assets written to: path_to_checkpoint_filepath/assets\n"
          ]
        },
        {
          "output_type": "stream",
          "name": "stderr",
          "text": [
            "INFO:tensorflow:Assets written to: path_to_checkpoint_filepath/assets\n",
            "WARNING:absl:<keras.layers.recurrent.LSTMCell object at 0x7f3a65626a90> has the same name 'LSTMCell' as a built-in Keras object. Consider renaming <class 'keras.layers.recurrent.LSTMCell'> to avoid naming conflicts when loading with `tf.keras.models.load_model`. If renaming is not possible, pass the object in the `custom_objects` parameter of the load function.\n",
            "WARNING:absl:<keras.layers.recurrent.LSTMCell object at 0x7f3a65adc2d0> has the same name 'LSTMCell' as a built-in Keras object. Consider renaming <class 'keras.layers.recurrent.LSTMCell'> to avoid naming conflicts when loading with `tf.keras.models.load_model`. If renaming is not possible, pass the object in the `custom_objects` parameter of the load function.\n"
          ]
        },
        {
          "output_type": "stream",
          "name": "stdout",
          "text": [
            "\b\b\b\b\b\b\b\b\b\b\b\b\b\b\b\b\b\b\b\b\b\b\b\b\b\b\b\b\b\b\b\b\b\b\b\b\b\b\b\b\b\b\b\b\b\b\b\b\b\b\b\b\b\b\b\b\b\b\b\b\b\r3/3 [==============================] - 5s 2s/step - loss: 0.0348 - val_loss: 0.0741 - lr: 1.0000e-04\n",
            "Epoch 188/500\n",
            "1/3 [=========>....................] - ETA: 0s - loss: 0.0342INFO:tensorflow:Assets written to: path_to_checkpoint_filepath/assets\n"
          ]
        },
        {
          "output_type": "stream",
          "name": "stderr",
          "text": [
            "INFO:tensorflow:Assets written to: path_to_checkpoint_filepath/assets\n",
            "WARNING:absl:<keras.layers.recurrent.LSTMCell object at 0x7f3a65626a90> has the same name 'LSTMCell' as a built-in Keras object. Consider renaming <class 'keras.layers.recurrent.LSTMCell'> to avoid naming conflicts when loading with `tf.keras.models.load_model`. If renaming is not possible, pass the object in the `custom_objects` parameter of the load function.\n",
            "WARNING:absl:<keras.layers.recurrent.LSTMCell object at 0x7f3a65adc2d0> has the same name 'LSTMCell' as a built-in Keras object. Consider renaming <class 'keras.layers.recurrent.LSTMCell'> to avoid naming conflicts when loading with `tf.keras.models.load_model`. If renaming is not possible, pass the object in the `custom_objects` parameter of the load function.\n"
          ]
        },
        {
          "output_type": "stream",
          "name": "stdout",
          "text": [
            "\b\b\b\b\b\b\b\b\b\b\b\b\b\b\b\b\b\b\b\b\b\b\b\b\b\b\b\b\b\b\b\b\b\b\b\b\b\b\b\b\b\b\b\b\b\b\b\b\b\b\b\b\b\b\b\b\b\b\b\b\b\r3/3 [==============================] - 5s 3s/step - loss: 0.0348 - val_loss: 0.0739 - lr: 1.0000e-04\n",
            "Epoch 189/500\n",
            "1/3 [=========>....................] - ETA: 0s - loss: 0.0352INFO:tensorflow:Assets written to: path_to_checkpoint_filepath/assets\n"
          ]
        },
        {
          "output_type": "stream",
          "name": "stderr",
          "text": [
            "INFO:tensorflow:Assets written to: path_to_checkpoint_filepath/assets\n",
            "WARNING:absl:<keras.layers.recurrent.LSTMCell object at 0x7f3a65626a90> has the same name 'LSTMCell' as a built-in Keras object. Consider renaming <class 'keras.layers.recurrent.LSTMCell'> to avoid naming conflicts when loading with `tf.keras.models.load_model`. If renaming is not possible, pass the object in the `custom_objects` parameter of the load function.\n",
            "WARNING:absl:<keras.layers.recurrent.LSTMCell object at 0x7f3a65adc2d0> has the same name 'LSTMCell' as a built-in Keras object. Consider renaming <class 'keras.layers.recurrent.LSTMCell'> to avoid naming conflicts when loading with `tf.keras.models.load_model`. If renaming is not possible, pass the object in the `custom_objects` parameter of the load function.\n"
          ]
        },
        {
          "output_type": "stream",
          "name": "stdout",
          "text": [
            "\b\b\b\b\b\b\b\b\b\b\b\b\b\b\b\b\b\b\b\b\b\b\b\b\b\b\b\b\b\b\b\b\b\b\b\b\b\b\b\b\b\b\b\b\b\b\b\b\b\b\b\b\b\b\b\b\b\b\b\b\b\r3/3 [==============================] - 5s 2s/step - loss: 0.0347 - val_loss: 0.0732 - lr: 1.0000e-04\n",
            "Epoch 190/500\n",
            "1/3 [=========>....................] - ETA: 0s - loss: 0.0343INFO:tensorflow:Assets written to: path_to_checkpoint_filepath/assets\n"
          ]
        },
        {
          "output_type": "stream",
          "name": "stderr",
          "text": [
            "INFO:tensorflow:Assets written to: path_to_checkpoint_filepath/assets\n",
            "WARNING:absl:<keras.layers.recurrent.LSTMCell object at 0x7f3a65626a90> has the same name 'LSTMCell' as a built-in Keras object. Consider renaming <class 'keras.layers.recurrent.LSTMCell'> to avoid naming conflicts when loading with `tf.keras.models.load_model`. If renaming is not possible, pass the object in the `custom_objects` parameter of the load function.\n",
            "WARNING:absl:<keras.layers.recurrent.LSTMCell object at 0x7f3a65adc2d0> has the same name 'LSTMCell' as a built-in Keras object. Consider renaming <class 'keras.layers.recurrent.LSTMCell'> to avoid naming conflicts when loading with `tf.keras.models.load_model`. If renaming is not possible, pass the object in the `custom_objects` parameter of the load function.\n"
          ]
        },
        {
          "output_type": "stream",
          "name": "stdout",
          "text": [
            "\b\b\b\b\b\b\b\b\b\b\b\b\b\b\b\b\b\b\b\b\b\b\b\b\b\b\b\b\b\b\b\b\b\b\b\b\b\b\b\b\b\b\b\b\b\b\b\b\b\b\b\b\b\b\b\b\b\b\b\b\b\r3/3 [==============================] - 5s 3s/step - loss: 0.0346 - val_loss: 0.0728 - lr: 1.0000e-04\n",
            "Epoch 191/500\n",
            "1/3 [=========>....................] - ETA: 0s - loss: 0.0345INFO:tensorflow:Assets written to: path_to_checkpoint_filepath/assets\n"
          ]
        },
        {
          "output_type": "stream",
          "name": "stderr",
          "text": [
            "INFO:tensorflow:Assets written to: path_to_checkpoint_filepath/assets\n",
            "WARNING:absl:<keras.layers.recurrent.LSTMCell object at 0x7f3a65626a90> has the same name 'LSTMCell' as a built-in Keras object. Consider renaming <class 'keras.layers.recurrent.LSTMCell'> to avoid naming conflicts when loading with `tf.keras.models.load_model`. If renaming is not possible, pass the object in the `custom_objects` parameter of the load function.\n",
            "WARNING:absl:<keras.layers.recurrent.LSTMCell object at 0x7f3a65adc2d0> has the same name 'LSTMCell' as a built-in Keras object. Consider renaming <class 'keras.layers.recurrent.LSTMCell'> to avoid naming conflicts when loading with `tf.keras.models.load_model`. If renaming is not possible, pass the object in the `custom_objects` parameter of the load function.\n"
          ]
        },
        {
          "output_type": "stream",
          "name": "stdout",
          "text": [
            "\b\b\b\b\b\b\b\b\b\b\b\b\b\b\b\b\b\b\b\b\b\b\b\b\b\b\b\b\b\b\b\b\b\b\b\b\b\b\b\b\b\b\b\b\b\b\b\b\b\b\b\b\b\b\b\b\b\b\b\b\b\r3/3 [==============================] - 5s 2s/step - loss: 0.0346 - val_loss: 0.0726 - lr: 1.0000e-04\n",
            "Epoch 192/500\n",
            "1/3 [=========>....................] - ETA: 0s - loss: 0.0343INFO:tensorflow:Assets written to: path_to_checkpoint_filepath/assets\n"
          ]
        },
        {
          "output_type": "stream",
          "name": "stderr",
          "text": [
            "INFO:tensorflow:Assets written to: path_to_checkpoint_filepath/assets\n",
            "WARNING:absl:<keras.layers.recurrent.LSTMCell object at 0x7f3a65626a90> has the same name 'LSTMCell' as a built-in Keras object. Consider renaming <class 'keras.layers.recurrent.LSTMCell'> to avoid naming conflicts when loading with `tf.keras.models.load_model`. If renaming is not possible, pass the object in the `custom_objects` parameter of the load function.\n",
            "WARNING:absl:<keras.layers.recurrent.LSTMCell object at 0x7f3a65adc2d0> has the same name 'LSTMCell' as a built-in Keras object. Consider renaming <class 'keras.layers.recurrent.LSTMCell'> to avoid naming conflicts when loading with `tf.keras.models.load_model`. If renaming is not possible, pass the object in the `custom_objects` parameter of the load function.\n"
          ]
        },
        {
          "output_type": "stream",
          "name": "stdout",
          "text": [
            "\b\b\b\b\b\b\b\b\b\b\b\b\b\b\b\b\b\b\b\b\b\b\b\b\b\b\b\b\b\b\b\b\b\b\b\b\b\b\b\b\b\b\b\b\b\b\b\b\b\b\b\b\b\b\b\b\b\b\b\b\b\r3/3 [==============================] - 5s 2s/step - loss: 0.0345 - val_loss: 0.0723 - lr: 1.0000e-04\n",
            "Epoch 193/500\n",
            "1/3 [=========>....................] - ETA: 0s - loss: 0.0349INFO:tensorflow:Assets written to: path_to_checkpoint_filepath/assets\n"
          ]
        },
        {
          "output_type": "stream",
          "name": "stderr",
          "text": [
            "INFO:tensorflow:Assets written to: path_to_checkpoint_filepath/assets\n",
            "WARNING:absl:<keras.layers.recurrent.LSTMCell object at 0x7f3a65626a90> has the same name 'LSTMCell' as a built-in Keras object. Consider renaming <class 'keras.layers.recurrent.LSTMCell'> to avoid naming conflicts when loading with `tf.keras.models.load_model`. If renaming is not possible, pass the object in the `custom_objects` parameter of the load function.\n",
            "WARNING:absl:<keras.layers.recurrent.LSTMCell object at 0x7f3a65adc2d0> has the same name 'LSTMCell' as a built-in Keras object. Consider renaming <class 'keras.layers.recurrent.LSTMCell'> to avoid naming conflicts when loading with `tf.keras.models.load_model`. If renaming is not possible, pass the object in the `custom_objects` parameter of the load function.\n"
          ]
        },
        {
          "output_type": "stream",
          "name": "stdout",
          "text": [
            "\b\b\b\b\b\b\b\b\b\b\b\b\b\b\b\b\b\b\b\b\b\b\b\b\b\b\b\b\b\b\b\b\b\b\b\b\b\b\b\b\b\b\b\b\b\b\b\b\b\b\b\b\b\b\b\b\b\b\b\b\b\r3/3 [==============================] - 5s 2s/step - loss: 0.0345 - val_loss: 0.0722 - lr: 1.0000e-04\n",
            "Epoch 194/500\n",
            "1/3 [=========>....................] - ETA: 0s - loss: 0.0348INFO:tensorflow:Assets written to: path_to_checkpoint_filepath/assets\n"
          ]
        },
        {
          "output_type": "stream",
          "name": "stderr",
          "text": [
            "INFO:tensorflow:Assets written to: path_to_checkpoint_filepath/assets\n",
            "WARNING:absl:<keras.layers.recurrent.LSTMCell object at 0x7f3a65626a90> has the same name 'LSTMCell' as a built-in Keras object. Consider renaming <class 'keras.layers.recurrent.LSTMCell'> to avoid naming conflicts when loading with `tf.keras.models.load_model`. If renaming is not possible, pass the object in the `custom_objects` parameter of the load function.\n",
            "WARNING:absl:<keras.layers.recurrent.LSTMCell object at 0x7f3a65adc2d0> has the same name 'LSTMCell' as a built-in Keras object. Consider renaming <class 'keras.layers.recurrent.LSTMCell'> to avoid naming conflicts when loading with `tf.keras.models.load_model`. If renaming is not possible, pass the object in the `custom_objects` parameter of the load function.\n"
          ]
        },
        {
          "output_type": "stream",
          "name": "stdout",
          "text": [
            "\b\b\b\b\b\b\b\b\b\b\b\b\b\b\b\b\b\b\b\b\b\b\b\b\b\b\b\b\b\b\b\b\b\b\b\b\b\b\b\b\b\b\b\b\b\b\b\b\b\b\b\b\b\b\b\b\b\b\b\b\b\r3/3 [==============================] - 5s 2s/step - loss: 0.0345 - val_loss: 0.0717 - lr: 1.0000e-04\n",
            "Epoch 195/500\n",
            "3/3 [==============================] - 0s 26ms/step - loss: 0.0343 - val_loss: 0.0731 - lr: 1.0000e-04\n",
            "Epoch 196/500\n",
            "1/3 [=========>....................] - ETA: 0s - loss: 0.0348INFO:tensorflow:Assets written to: path_to_checkpoint_filepath/assets\n"
          ]
        },
        {
          "output_type": "stream",
          "name": "stderr",
          "text": [
            "INFO:tensorflow:Assets written to: path_to_checkpoint_filepath/assets\n",
            "WARNING:absl:<keras.layers.recurrent.LSTMCell object at 0x7f3a65626a90> has the same name 'LSTMCell' as a built-in Keras object. Consider renaming <class 'keras.layers.recurrent.LSTMCell'> to avoid naming conflicts when loading with `tf.keras.models.load_model`. If renaming is not possible, pass the object in the `custom_objects` parameter of the load function.\n",
            "WARNING:absl:<keras.layers.recurrent.LSTMCell object at 0x7f3a65adc2d0> has the same name 'LSTMCell' as a built-in Keras object. Consider renaming <class 'keras.layers.recurrent.LSTMCell'> to avoid naming conflicts when loading with `tf.keras.models.load_model`. If renaming is not possible, pass the object in the `custom_objects` parameter of the load function.\n"
          ]
        },
        {
          "output_type": "stream",
          "name": "stdout",
          "text": [
            "\b\b\b\b\b\b\b\b\b\b\b\b\b\b\b\b\b\b\b\b\b\b\b\b\b\b\b\b\b\b\b\b\b\b\b\b\b\b\b\b\b\b\b\b\b\b\b\b\b\b\b\b\b\b\b\b\b\b\b\b\b\r3/3 [==============================] - 5s 2s/step - loss: 0.0343 - val_loss: 0.0713 - lr: 1.0000e-04\n",
            "Epoch 197/500\n",
            "1/3 [=========>....................] - ETA: 0s - loss: 0.0325INFO:tensorflow:Assets written to: path_to_checkpoint_filepath/assets\n"
          ]
        },
        {
          "output_type": "stream",
          "name": "stderr",
          "text": [
            "INFO:tensorflow:Assets written to: path_to_checkpoint_filepath/assets\n",
            "WARNING:absl:<keras.layers.recurrent.LSTMCell object at 0x7f3a65626a90> has the same name 'LSTMCell' as a built-in Keras object. Consider renaming <class 'keras.layers.recurrent.LSTMCell'> to avoid naming conflicts when loading with `tf.keras.models.load_model`. If renaming is not possible, pass the object in the `custom_objects` parameter of the load function.\n",
            "WARNING:absl:<keras.layers.recurrent.LSTMCell object at 0x7f3a65adc2d0> has the same name 'LSTMCell' as a built-in Keras object. Consider renaming <class 'keras.layers.recurrent.LSTMCell'> to avoid naming conflicts when loading with `tf.keras.models.load_model`. If renaming is not possible, pass the object in the `custom_objects` parameter of the load function.\n"
          ]
        },
        {
          "output_type": "stream",
          "name": "stdout",
          "text": [
            "\b\b\b\b\b\b\b\b\b\b\b\b\b\b\b\b\b\b\b\b\b\b\b\b\b\b\b\b\b\b\b\b\b\b\b\b\b\b\b\b\b\b\b\b\b\b\b\b\b\b\b\b\b\b\b\b\b\b\b\b\b\r3/3 [==============================] - 5s 2s/step - loss: 0.0342 - val_loss: 0.0711 - lr: 1.0000e-04\n",
            "Epoch 198/500\n",
            "3/3 [==============================] - 0s 26ms/step - loss: 0.0342 - val_loss: 0.0711 - lr: 1.0000e-04\n",
            "Epoch 199/500\n",
            "1/3 [=========>....................] - ETA: 0s - loss: 0.0321INFO:tensorflow:Assets written to: path_to_checkpoint_filepath/assets\n"
          ]
        },
        {
          "output_type": "stream",
          "name": "stderr",
          "text": [
            "INFO:tensorflow:Assets written to: path_to_checkpoint_filepath/assets\n",
            "WARNING:absl:<keras.layers.recurrent.LSTMCell object at 0x7f3a65626a90> has the same name 'LSTMCell' as a built-in Keras object. Consider renaming <class 'keras.layers.recurrent.LSTMCell'> to avoid naming conflicts when loading with `tf.keras.models.load_model`. If renaming is not possible, pass the object in the `custom_objects` parameter of the load function.\n",
            "WARNING:absl:<keras.layers.recurrent.LSTMCell object at 0x7f3a65adc2d0> has the same name 'LSTMCell' as a built-in Keras object. Consider renaming <class 'keras.layers.recurrent.LSTMCell'> to avoid naming conflicts when loading with `tf.keras.models.load_model`. If renaming is not possible, pass the object in the `custom_objects` parameter of the load function.\n"
          ]
        },
        {
          "output_type": "stream",
          "name": "stdout",
          "text": [
            "\b\b\b\b\b\b\b\b\b\b\b\b\b\b\b\b\b\b\b\b\b\b\b\b\b\b\b\b\b\b\b\b\b\b\b\b\b\b\b\b\b\b\b\b\b\b\b\b\b\b\b\b\b\b\b\b\b\b\b\b\b\r3/3 [==============================] - 5s 2s/step - loss: 0.0340 - val_loss: 0.0700 - lr: 1.0000e-04\n",
            "Epoch 200/500\n",
            "1/3 [=========>....................] - ETA: 0s - loss: 0.0356INFO:tensorflow:Assets written to: path_to_checkpoint_filepath/assets\n"
          ]
        },
        {
          "output_type": "stream",
          "name": "stderr",
          "text": [
            "INFO:tensorflow:Assets written to: path_to_checkpoint_filepath/assets\n",
            "WARNING:absl:<keras.layers.recurrent.LSTMCell object at 0x7f3a65626a90> has the same name 'LSTMCell' as a built-in Keras object. Consider renaming <class 'keras.layers.recurrent.LSTMCell'> to avoid naming conflicts when loading with `tf.keras.models.load_model`. If renaming is not possible, pass the object in the `custom_objects` parameter of the load function.\n",
            "WARNING:absl:<keras.layers.recurrent.LSTMCell object at 0x7f3a65adc2d0> has the same name 'LSTMCell' as a built-in Keras object. Consider renaming <class 'keras.layers.recurrent.LSTMCell'> to avoid naming conflicts when loading with `tf.keras.models.load_model`. If renaming is not possible, pass the object in the `custom_objects` parameter of the load function.\n"
          ]
        },
        {
          "output_type": "stream",
          "name": "stdout",
          "text": [
            "\b\b\b\b\b\b\b\b\b\b\b\b\b\b\b\b\b\b\b\b\b\b\b\b\b\b\b\b\b\b\b\b\b\b\b\b\b\b\b\b\b\b\b\b\b\b\b\b\b\b\b\b\b\b\b\b\b\b\b\b\b\r3/3 [==============================] - 4s 2s/step - loss: 0.0340 - val_loss: 0.0697 - lr: 1.0000e-04\n",
            "Epoch 201/500\n",
            "1/3 [=========>....................] - ETA: 0s - loss: 0.0323INFO:tensorflow:Assets written to: path_to_checkpoint_filepath/assets\n"
          ]
        },
        {
          "output_type": "stream",
          "name": "stderr",
          "text": [
            "INFO:tensorflow:Assets written to: path_to_checkpoint_filepath/assets\n",
            "WARNING:absl:<keras.layers.recurrent.LSTMCell object at 0x7f3a65626a90> has the same name 'LSTMCell' as a built-in Keras object. Consider renaming <class 'keras.layers.recurrent.LSTMCell'> to avoid naming conflicts when loading with `tf.keras.models.load_model`. If renaming is not possible, pass the object in the `custom_objects` parameter of the load function.\n",
            "WARNING:absl:<keras.layers.recurrent.LSTMCell object at 0x7f3a65adc2d0> has the same name 'LSTMCell' as a built-in Keras object. Consider renaming <class 'keras.layers.recurrent.LSTMCell'> to avoid naming conflicts when loading with `tf.keras.models.load_model`. If renaming is not possible, pass the object in the `custom_objects` parameter of the load function.\n"
          ]
        },
        {
          "output_type": "stream",
          "name": "stdout",
          "text": [
            "\b\b\b\b\b\b\b\b\b\b\b\b\b\b\b\b\b\b\b\b\b\b\b\b\b\b\b\b\b\b\b\b\b\b\b\b\b\b\b\b\b\b\b\b\b\b\b\b\b\b\b\b\b\b\b\b\b\b\b\b\b\r3/3 [==============================] - 5s 3s/step - loss: 0.0339 - val_loss: 0.0695 - lr: 1.0000e-04\n",
            "Epoch 202/500\n",
            "1/3 [=========>....................] - ETA: 0s - loss: 0.0333INFO:tensorflow:Assets written to: path_to_checkpoint_filepath/assets\n"
          ]
        },
        {
          "output_type": "stream",
          "name": "stderr",
          "text": [
            "INFO:tensorflow:Assets written to: path_to_checkpoint_filepath/assets\n",
            "WARNING:absl:<keras.layers.recurrent.LSTMCell object at 0x7f3a65626a90> has the same name 'LSTMCell' as a built-in Keras object. Consider renaming <class 'keras.layers.recurrent.LSTMCell'> to avoid naming conflicts when loading with `tf.keras.models.load_model`. If renaming is not possible, pass the object in the `custom_objects` parameter of the load function.\n",
            "WARNING:absl:<keras.layers.recurrent.LSTMCell object at 0x7f3a65adc2d0> has the same name 'LSTMCell' as a built-in Keras object. Consider renaming <class 'keras.layers.recurrent.LSTMCell'> to avoid naming conflicts when loading with `tf.keras.models.load_model`. If renaming is not possible, pass the object in the `custom_objects` parameter of the load function.\n"
          ]
        },
        {
          "output_type": "stream",
          "name": "stdout",
          "text": [
            "\b\b\b\b\b\b\b\b\b\b\b\b\b\b\b\b\b\b\b\b\b\b\b\b\b\b\b\b\b\b\b\b\b\b\b\b\b\b\b\b\b\b\b\b\b\b\b\b\b\b\b\b\b\b\b\b\b\b\b\b\b\r3/3 [==============================] - 4s 2s/step - loss: 0.0338 - val_loss: 0.0692 - lr: 1.0000e-04\n",
            "Epoch 203/500\n",
            "1/3 [=========>....................] - ETA: 0s - loss: 0.0357INFO:tensorflow:Assets written to: path_to_checkpoint_filepath/assets\n"
          ]
        },
        {
          "output_type": "stream",
          "name": "stderr",
          "text": [
            "INFO:tensorflow:Assets written to: path_to_checkpoint_filepath/assets\n",
            "WARNING:absl:<keras.layers.recurrent.LSTMCell object at 0x7f3a65626a90> has the same name 'LSTMCell' as a built-in Keras object. Consider renaming <class 'keras.layers.recurrent.LSTMCell'> to avoid naming conflicts when loading with `tf.keras.models.load_model`. If renaming is not possible, pass the object in the `custom_objects` parameter of the load function.\n",
            "WARNING:absl:<keras.layers.recurrent.LSTMCell object at 0x7f3a65adc2d0> has the same name 'LSTMCell' as a built-in Keras object. Consider renaming <class 'keras.layers.recurrent.LSTMCell'> to avoid naming conflicts when loading with `tf.keras.models.load_model`. If renaming is not possible, pass the object in the `custom_objects` parameter of the load function.\n"
          ]
        },
        {
          "output_type": "stream",
          "name": "stdout",
          "text": [
            "\b\b\b\b\b\b\b\b\b\b\b\b\b\b\b\b\b\b\b\b\b\b\b\b\b\b\b\b\b\b\b\b\b\b\b\b\b\b\b\b\b\b\b\b\b\b\b\b\b\b\b\b\b\b\b\b\b\b\b\b\b\r3/3 [==============================] - 5s 3s/step - loss: 0.0337 - val_loss: 0.0686 - lr: 1.0000e-04\n",
            "Epoch 204/500\n",
            "3/3 [==============================] - 0s 25ms/step - loss: 0.0337 - val_loss: 0.0686 - lr: 1.0000e-04\n",
            "Epoch 205/500\n",
            "1/3 [=========>....................] - ETA: 0s - loss: 0.0348INFO:tensorflow:Assets written to: path_to_checkpoint_filepath/assets\n"
          ]
        },
        {
          "output_type": "stream",
          "name": "stderr",
          "text": [
            "INFO:tensorflow:Assets written to: path_to_checkpoint_filepath/assets\n",
            "WARNING:absl:<keras.layers.recurrent.LSTMCell object at 0x7f3a65626a90> has the same name 'LSTMCell' as a built-in Keras object. Consider renaming <class 'keras.layers.recurrent.LSTMCell'> to avoid naming conflicts when loading with `tf.keras.models.load_model`. If renaming is not possible, pass the object in the `custom_objects` parameter of the load function.\n",
            "WARNING:absl:<keras.layers.recurrent.LSTMCell object at 0x7f3a65adc2d0> has the same name 'LSTMCell' as a built-in Keras object. Consider renaming <class 'keras.layers.recurrent.LSTMCell'> to avoid naming conflicts when loading with `tf.keras.models.load_model`. If renaming is not possible, pass the object in the `custom_objects` parameter of the load function.\n"
          ]
        },
        {
          "output_type": "stream",
          "name": "stdout",
          "text": [
            "\b\b\b\b\b\b\b\b\b\b\b\b\b\b\b\b\b\b\b\b\b\b\b\b\b\b\b\b\b\b\b\b\b\b\b\b\b\b\b\b\b\b\b\b\b\b\b\b\b\b\b\b\b\b\b\b\b\b\b\b\b\r3/3 [==============================] - 5s 2s/step - loss: 0.0336 - val_loss: 0.0679 - lr: 1.0000e-04\n",
            "Epoch 206/500\n",
            "3/3 [==============================] - 0s 29ms/step - loss: 0.0335 - val_loss: 0.0681 - lr: 1.0000e-04\n",
            "Epoch 207/500\n",
            "1/3 [=========>....................] - ETA: 0s - loss: 0.0308INFO:tensorflow:Assets written to: path_to_checkpoint_filepath/assets\n"
          ]
        },
        {
          "output_type": "stream",
          "name": "stderr",
          "text": [
            "INFO:tensorflow:Assets written to: path_to_checkpoint_filepath/assets\n",
            "WARNING:absl:<keras.layers.recurrent.LSTMCell object at 0x7f3a65626a90> has the same name 'LSTMCell' as a built-in Keras object. Consider renaming <class 'keras.layers.recurrent.LSTMCell'> to avoid naming conflicts when loading with `tf.keras.models.load_model`. If renaming is not possible, pass the object in the `custom_objects` parameter of the load function.\n",
            "WARNING:absl:<keras.layers.recurrent.LSTMCell object at 0x7f3a65adc2d0> has the same name 'LSTMCell' as a built-in Keras object. Consider renaming <class 'keras.layers.recurrent.LSTMCell'> to avoid naming conflicts when loading with `tf.keras.models.load_model`. If renaming is not possible, pass the object in the `custom_objects` parameter of the load function.\n"
          ]
        },
        {
          "output_type": "stream",
          "name": "stdout",
          "text": [
            "\b\b\b\b\b\b\b\b\b\b\b\b\b\b\b\b\b\b\b\b\b\b\b\b\b\b\b\b\b\b\b\b\b\b\b\b\b\b\b\b\b\b\b\b\b\b\b\b\b\b\b\b\b\b\b\b\b\b\b\b\b\r3/3 [==============================] - 4s 2s/step - loss: 0.0335 - val_loss: 0.0673 - lr: 1.0000e-04\n",
            "Epoch 208/500\n",
            "1/3 [=========>....................] - ETA: 0s - loss: 0.0347INFO:tensorflow:Assets written to: path_to_checkpoint_filepath/assets\n"
          ]
        },
        {
          "output_type": "stream",
          "name": "stderr",
          "text": [
            "INFO:tensorflow:Assets written to: path_to_checkpoint_filepath/assets\n",
            "WARNING:absl:<keras.layers.recurrent.LSTMCell object at 0x7f3a65626a90> has the same name 'LSTMCell' as a built-in Keras object. Consider renaming <class 'keras.layers.recurrent.LSTMCell'> to avoid naming conflicts when loading with `tf.keras.models.load_model`. If renaming is not possible, pass the object in the `custom_objects` parameter of the load function.\n",
            "WARNING:absl:<keras.layers.recurrent.LSTMCell object at 0x7f3a65adc2d0> has the same name 'LSTMCell' as a built-in Keras object. Consider renaming <class 'keras.layers.recurrent.LSTMCell'> to avoid naming conflicts when loading with `tf.keras.models.load_model`. If renaming is not possible, pass the object in the `custom_objects` parameter of the load function.\n"
          ]
        },
        {
          "output_type": "stream",
          "name": "stdout",
          "text": [
            "\b\b\b\b\b\b\b\b\b\b\b\b\b\b\b\b\b\b\b\b\b\b\b\b\b\b\b\b\b\b\b\b\b\b\b\b\b\b\b\b\b\b\b\b\b\b\b\b\b\b\b\b\b\b\b\b\b\b\b\b\b\r3/3 [==============================] - 5s 3s/step - loss: 0.0335 - val_loss: 0.0670 - lr: 1.0000e-04\n",
            "Epoch 209/500\n",
            "3/3 [==============================] - 0s 25ms/step - loss: 0.0333 - val_loss: 0.0674 - lr: 1.0000e-04\n",
            "Epoch 210/500\n",
            "1/3 [=========>....................] - ETA: 0s - loss: 0.0303INFO:tensorflow:Assets written to: path_to_checkpoint_filepath/assets\n"
          ]
        },
        {
          "output_type": "stream",
          "name": "stderr",
          "text": [
            "INFO:tensorflow:Assets written to: path_to_checkpoint_filepath/assets\n",
            "WARNING:absl:<keras.layers.recurrent.LSTMCell object at 0x7f3a65626a90> has the same name 'LSTMCell' as a built-in Keras object. Consider renaming <class 'keras.layers.recurrent.LSTMCell'> to avoid naming conflicts when loading with `tf.keras.models.load_model`. If renaming is not possible, pass the object in the `custom_objects` parameter of the load function.\n",
            "WARNING:absl:<keras.layers.recurrent.LSTMCell object at 0x7f3a65adc2d0> has the same name 'LSTMCell' as a built-in Keras object. Consider renaming <class 'keras.layers.recurrent.LSTMCell'> to avoid naming conflicts when loading with `tf.keras.models.load_model`. If renaming is not possible, pass the object in the `custom_objects` parameter of the load function.\n"
          ]
        },
        {
          "output_type": "stream",
          "name": "stdout",
          "text": [
            "\b\b\b\b\b\b\b\b\b\b\b\b\b\b\b\b\b\b\b\b\b\b\b\b\b\b\b\b\b\b\b\b\b\b\b\b\b\b\b\b\b\b\b\b\b\b\b\b\b\b\b\b\b\b\b\b\b\b\b\b\b\r3/3 [==============================] - 5s 3s/step - loss: 0.0334 - val_loss: 0.0667 - lr: 1.0000e-04\n",
            "Epoch 211/500\n",
            "1/3 [=========>....................] - ETA: 0s - loss: 0.0332INFO:tensorflow:Assets written to: path_to_checkpoint_filepath/assets\n"
          ]
        },
        {
          "output_type": "stream",
          "name": "stderr",
          "text": [
            "INFO:tensorflow:Assets written to: path_to_checkpoint_filepath/assets\n",
            "WARNING:absl:<keras.layers.recurrent.LSTMCell object at 0x7f3a65626a90> has the same name 'LSTMCell' as a built-in Keras object. Consider renaming <class 'keras.layers.recurrent.LSTMCell'> to avoid naming conflicts when loading with `tf.keras.models.load_model`. If renaming is not possible, pass the object in the `custom_objects` parameter of the load function.\n",
            "WARNING:absl:<keras.layers.recurrent.LSTMCell object at 0x7f3a65adc2d0> has the same name 'LSTMCell' as a built-in Keras object. Consider renaming <class 'keras.layers.recurrent.LSTMCell'> to avoid naming conflicts when loading with `tf.keras.models.load_model`. If renaming is not possible, pass the object in the `custom_objects` parameter of the load function.\n"
          ]
        },
        {
          "output_type": "stream",
          "name": "stdout",
          "text": [
            "\b\b\b\b\b\b\b\b\b\b\b\b\b\b\b\b\b\b\b\b\b\b\b\b\b\b\b\b\b\b\b\b\b\b\b\b\b\b\b\b\b\b\b\b\b\b\b\b\b\b\b\b\b\b\b\b\b\b\b\b\b\r3/3 [==============================] - 5s 3s/step - loss: 0.0332 - val_loss: 0.0657 - lr: 1.0000e-04\n",
            "Epoch 212/500\n",
            "1/3 [=========>....................] - ETA: 0s - loss: 0.0326INFO:tensorflow:Assets written to: path_to_checkpoint_filepath/assets\n"
          ]
        },
        {
          "output_type": "stream",
          "name": "stderr",
          "text": [
            "INFO:tensorflow:Assets written to: path_to_checkpoint_filepath/assets\n",
            "WARNING:absl:<keras.layers.recurrent.LSTMCell object at 0x7f3a65626a90> has the same name 'LSTMCell' as a built-in Keras object. Consider renaming <class 'keras.layers.recurrent.LSTMCell'> to avoid naming conflicts when loading with `tf.keras.models.load_model`. If renaming is not possible, pass the object in the `custom_objects` parameter of the load function.\n",
            "WARNING:absl:<keras.layers.recurrent.LSTMCell object at 0x7f3a65adc2d0> has the same name 'LSTMCell' as a built-in Keras object. Consider renaming <class 'keras.layers.recurrent.LSTMCell'> to avoid naming conflicts when loading with `tf.keras.models.load_model`. If renaming is not possible, pass the object in the `custom_objects` parameter of the load function.\n"
          ]
        },
        {
          "output_type": "stream",
          "name": "stdout",
          "text": [
            "\b\b\b\b\b\b\b\b\b\b\b\b\b\b\b\b\b\b\b\b\b\b\b\b\b\b\b\b\b\b\b\b\b\b\b\b\b\b\b\b\b\b\b\b\b\b\b\b\b\b\b\b\b\b\b\b\b\b\b\b\b\r3/3 [==============================] - 5s 2s/step - loss: 0.0331 - val_loss: 0.0653 - lr: 1.0000e-04\n",
            "Epoch 213/500\n",
            "3/3 [==============================] - 0s 27ms/step - loss: 0.0330 - val_loss: 0.0654 - lr: 1.0000e-04\n",
            "Epoch 214/500\n",
            "1/3 [=========>....................] - ETA: 0s - loss: 0.0312INFO:tensorflow:Assets written to: path_to_checkpoint_filepath/assets\n"
          ]
        },
        {
          "output_type": "stream",
          "name": "stderr",
          "text": [
            "INFO:tensorflow:Assets written to: path_to_checkpoint_filepath/assets\n",
            "WARNING:absl:<keras.layers.recurrent.LSTMCell object at 0x7f3a65626a90> has the same name 'LSTMCell' as a built-in Keras object. Consider renaming <class 'keras.layers.recurrent.LSTMCell'> to avoid naming conflicts when loading with `tf.keras.models.load_model`. If renaming is not possible, pass the object in the `custom_objects` parameter of the load function.\n",
            "WARNING:absl:<keras.layers.recurrent.LSTMCell object at 0x7f3a65adc2d0> has the same name 'LSTMCell' as a built-in Keras object. Consider renaming <class 'keras.layers.recurrent.LSTMCell'> to avoid naming conflicts when loading with `tf.keras.models.load_model`. If renaming is not possible, pass the object in the `custom_objects` parameter of the load function.\n"
          ]
        },
        {
          "output_type": "stream",
          "name": "stdout",
          "text": [
            "\b\b\b\b\b\b\b\b\b\b\b\b\b\b\b\b\b\b\b\b\b\b\b\b\b\b\b\b\b\b\b\b\b\b\b\b\b\b\b\b\b\b\b\b\b\b\b\b\b\b\b\b\b\b\b\b\b\b\b\b\b\r3/3 [==============================] - 5s 2s/step - loss: 0.0330 - val_loss: 0.0651 - lr: 1.0000e-04\n",
            "Epoch 215/500\n",
            "1/3 [=========>....................] - ETA: 0s - loss: 0.0344INFO:tensorflow:Assets written to: path_to_checkpoint_filepath/assets\n"
          ]
        },
        {
          "output_type": "stream",
          "name": "stderr",
          "text": [
            "INFO:tensorflow:Assets written to: path_to_checkpoint_filepath/assets\n",
            "WARNING:absl:<keras.layers.recurrent.LSTMCell object at 0x7f3a65626a90> has the same name 'LSTMCell' as a built-in Keras object. Consider renaming <class 'keras.layers.recurrent.LSTMCell'> to avoid naming conflicts when loading with `tf.keras.models.load_model`. If renaming is not possible, pass the object in the `custom_objects` parameter of the load function.\n",
            "WARNING:absl:<keras.layers.recurrent.LSTMCell object at 0x7f3a65adc2d0> has the same name 'LSTMCell' as a built-in Keras object. Consider renaming <class 'keras.layers.recurrent.LSTMCell'> to avoid naming conflicts when loading with `tf.keras.models.load_model`. If renaming is not possible, pass the object in the `custom_objects` parameter of the load function.\n"
          ]
        },
        {
          "output_type": "stream",
          "name": "stdout",
          "text": [
            "\b\b\b\b\b\b\b\b\b\b\b\b\b\b\b\b\b\b\b\b\b\b\b\b\b\b\b\b\b\b\b\b\b\b\b\b\b\b\b\b\b\b\b\b\b\b\b\b\b\b\b\b\b\b\b\b\b\b\b\b\b\r3/3 [==============================] - 5s 2s/step - loss: 0.0329 - val_loss: 0.0645 - lr: 1.0000e-04\n",
            "Epoch 216/500\n",
            "1/3 [=========>....................] - ETA: 0s - loss: 0.0319INFO:tensorflow:Assets written to: path_to_checkpoint_filepath/assets\n"
          ]
        },
        {
          "output_type": "stream",
          "name": "stderr",
          "text": [
            "INFO:tensorflow:Assets written to: path_to_checkpoint_filepath/assets\n",
            "WARNING:absl:<keras.layers.recurrent.LSTMCell object at 0x7f3a65626a90> has the same name 'LSTMCell' as a built-in Keras object. Consider renaming <class 'keras.layers.recurrent.LSTMCell'> to avoid naming conflicts when loading with `tf.keras.models.load_model`. If renaming is not possible, pass the object in the `custom_objects` parameter of the load function.\n",
            "WARNING:absl:<keras.layers.recurrent.LSTMCell object at 0x7f3a65adc2d0> has the same name 'LSTMCell' as a built-in Keras object. Consider renaming <class 'keras.layers.recurrent.LSTMCell'> to avoid naming conflicts when loading with `tf.keras.models.load_model`. If renaming is not possible, pass the object in the `custom_objects` parameter of the load function.\n"
          ]
        },
        {
          "output_type": "stream",
          "name": "stdout",
          "text": [
            "\b\b\b\b\b\b\b\b\b\b\b\b\b\b\b\b\b\b\b\b\b\b\b\b\b\b\b\b\b\b\b\b\b\b\b\b\b\b\b\b\b\b\b\b\b\b\b\b\b\b\b\b\b\b\b\b\b\b\b\b\b\r3/3 [==============================] - 5s 2s/step - loss: 0.0329 - val_loss: 0.0641 - lr: 1.0000e-04\n",
            "Epoch 217/500\n",
            "3/3 [==============================] - 0s 26ms/step - loss: 0.0328 - val_loss: 0.0648 - lr: 1.0000e-04\n",
            "Epoch 218/500\n",
            "3/3 [==============================] - 0s 26ms/step - loss: 0.0328 - val_loss: 0.0643 - lr: 1.0000e-04\n",
            "Epoch 219/500\n",
            "1/3 [=========>....................] - ETA: 0s - loss: 0.0321INFO:tensorflow:Assets written to: path_to_checkpoint_filepath/assets\n"
          ]
        },
        {
          "output_type": "stream",
          "name": "stderr",
          "text": [
            "INFO:tensorflow:Assets written to: path_to_checkpoint_filepath/assets\n",
            "WARNING:absl:<keras.layers.recurrent.LSTMCell object at 0x7f3a65626a90> has the same name 'LSTMCell' as a built-in Keras object. Consider renaming <class 'keras.layers.recurrent.LSTMCell'> to avoid naming conflicts when loading with `tf.keras.models.load_model`. If renaming is not possible, pass the object in the `custom_objects` parameter of the load function.\n",
            "WARNING:absl:<keras.layers.recurrent.LSTMCell object at 0x7f3a65adc2d0> has the same name 'LSTMCell' as a built-in Keras object. Consider renaming <class 'keras.layers.recurrent.LSTMCell'> to avoid naming conflicts when loading with `tf.keras.models.load_model`. If renaming is not possible, pass the object in the `custom_objects` parameter of the load function.\n"
          ]
        },
        {
          "output_type": "stream",
          "name": "stdout",
          "text": [
            "\b\b\b\b\b\b\b\b\b\b\b\b\b\b\b\b\b\b\b\b\b\b\b\b\b\b\b\b\b\b\b\b\b\b\b\b\b\b\b\b\b\b\b\b\b\b\b\b\b\b\b\b\b\b\b\b\b\b\b\b\b\r3/3 [==============================] - 5s 2s/step - loss: 0.0327 - val_loss: 0.0630 - lr: 1.0000e-04\n",
            "Epoch 220/500\n",
            "3/3 [==============================] - 0s 27ms/step - loss: 0.0326 - val_loss: 0.0632 - lr: 1.0000e-04\n",
            "Epoch 221/500\n",
            "1/3 [=========>....................] - ETA: 0s - loss: 0.0315INFO:tensorflow:Assets written to: path_to_checkpoint_filepath/assets\n"
          ]
        },
        {
          "output_type": "stream",
          "name": "stderr",
          "text": [
            "INFO:tensorflow:Assets written to: path_to_checkpoint_filepath/assets\n",
            "WARNING:absl:<keras.layers.recurrent.LSTMCell object at 0x7f3a65626a90> has the same name 'LSTMCell' as a built-in Keras object. Consider renaming <class 'keras.layers.recurrent.LSTMCell'> to avoid naming conflicts when loading with `tf.keras.models.load_model`. If renaming is not possible, pass the object in the `custom_objects` parameter of the load function.\n",
            "WARNING:absl:<keras.layers.recurrent.LSTMCell object at 0x7f3a65adc2d0> has the same name 'LSTMCell' as a built-in Keras object. Consider renaming <class 'keras.layers.recurrent.LSTMCell'> to avoid naming conflicts when loading with `tf.keras.models.load_model`. If renaming is not possible, pass the object in the `custom_objects` parameter of the load function.\n"
          ]
        },
        {
          "output_type": "stream",
          "name": "stdout",
          "text": [
            "\b\b\b\b\b\b\b\b\b\b\b\b\b\b\b\b\b\b\b\b\b\b\b\b\b\b\b\b\b\b\b\b\b\b\b\b\b\b\b\b\b\b\b\b\b\b\b\b\b\b\b\b\b\b\b\b\b\b\b\b\b\r3/3 [==============================] - 5s 2s/step - loss: 0.0325 - val_loss: 0.0628 - lr: 1.0000e-04\n",
            "Epoch 222/500\n",
            "3/3 [==============================] - 0s 29ms/step - loss: 0.0324 - val_loss: 0.0630 - lr: 1.0000e-04\n",
            "Epoch 223/500\n",
            "1/3 [=========>....................] - ETA: 0s - loss: 0.0332INFO:tensorflow:Assets written to: path_to_checkpoint_filepath/assets\n"
          ]
        },
        {
          "output_type": "stream",
          "name": "stderr",
          "text": [
            "INFO:tensorflow:Assets written to: path_to_checkpoint_filepath/assets\n",
            "WARNING:absl:<keras.layers.recurrent.LSTMCell object at 0x7f3a65626a90> has the same name 'LSTMCell' as a built-in Keras object. Consider renaming <class 'keras.layers.recurrent.LSTMCell'> to avoid naming conflicts when loading with `tf.keras.models.load_model`. If renaming is not possible, pass the object in the `custom_objects` parameter of the load function.\n",
            "WARNING:absl:<keras.layers.recurrent.LSTMCell object at 0x7f3a65adc2d0> has the same name 'LSTMCell' as a built-in Keras object. Consider renaming <class 'keras.layers.recurrent.LSTMCell'> to avoid naming conflicts when loading with `tf.keras.models.load_model`. If renaming is not possible, pass the object in the `custom_objects` parameter of the load function.\n"
          ]
        },
        {
          "output_type": "stream",
          "name": "stdout",
          "text": [
            "\b\b\b\b\b\b\b\b\b\b\b\b\b\b\b\b\b\b\b\b\b\b\b\b\b\b\b\b\b\b\b\b\b\b\b\b\b\b\b\b\b\b\b\b\b\b\b\b\b\b\b\b\b\b\b\b\b\b\b\b\b\r3/3 [==============================] - 5s 3s/step - loss: 0.0324 - val_loss: 0.0620 - lr: 1.0000e-04\n",
            "Epoch 224/500\n",
            "3/3 [==============================] - 0s 27ms/step - loss: 0.0323 - val_loss: 0.0621 - lr: 1.0000e-04\n",
            "Epoch 225/500\n",
            "1/3 [=========>....................] - ETA: 0s - loss: 0.0315INFO:tensorflow:Assets written to: path_to_checkpoint_filepath/assets\n"
          ]
        },
        {
          "output_type": "stream",
          "name": "stderr",
          "text": [
            "INFO:tensorflow:Assets written to: path_to_checkpoint_filepath/assets\n",
            "WARNING:absl:<keras.layers.recurrent.LSTMCell object at 0x7f3a65626a90> has the same name 'LSTMCell' as a built-in Keras object. Consider renaming <class 'keras.layers.recurrent.LSTMCell'> to avoid naming conflicts when loading with `tf.keras.models.load_model`. If renaming is not possible, pass the object in the `custom_objects` parameter of the load function.\n",
            "WARNING:absl:<keras.layers.recurrent.LSTMCell object at 0x7f3a65adc2d0> has the same name 'LSTMCell' as a built-in Keras object. Consider renaming <class 'keras.layers.recurrent.LSTMCell'> to avoid naming conflicts when loading with `tf.keras.models.load_model`. If renaming is not possible, pass the object in the `custom_objects` parameter of the load function.\n"
          ]
        },
        {
          "output_type": "stream",
          "name": "stdout",
          "text": [
            "\b\b\b\b\b\b\b\b\b\b\b\b\b\b\b\b\b\b\b\b\b\b\b\b\b\b\b\b\b\b\b\b\b\b\b\b\b\b\b\b\b\b\b\b\b\b\b\b\b\b\b\b\b\b\b\b\b\b\b\b\b\r3/3 [==============================] - 5s 2s/step - loss: 0.0323 - val_loss: 0.0617 - lr: 1.0000e-04\n",
            "Epoch 226/500\n",
            "1/3 [=========>....................] - ETA: 0s - loss: 0.0334INFO:tensorflow:Assets written to: path_to_checkpoint_filepath/assets\n"
          ]
        },
        {
          "output_type": "stream",
          "name": "stderr",
          "text": [
            "INFO:tensorflow:Assets written to: path_to_checkpoint_filepath/assets\n",
            "WARNING:absl:<keras.layers.recurrent.LSTMCell object at 0x7f3a65626a90> has the same name 'LSTMCell' as a built-in Keras object. Consider renaming <class 'keras.layers.recurrent.LSTMCell'> to avoid naming conflicts when loading with `tf.keras.models.load_model`. If renaming is not possible, pass the object in the `custom_objects` parameter of the load function.\n",
            "WARNING:absl:<keras.layers.recurrent.LSTMCell object at 0x7f3a65adc2d0> has the same name 'LSTMCell' as a built-in Keras object. Consider renaming <class 'keras.layers.recurrent.LSTMCell'> to avoid naming conflicts when loading with `tf.keras.models.load_model`. If renaming is not possible, pass the object in the `custom_objects` parameter of the load function.\n"
          ]
        },
        {
          "output_type": "stream",
          "name": "stdout",
          "text": [
            "\b\b\b\b\b\b\b\b\b\b\b\b\b\b\b\b\b\b\b\b\b\b\b\b\b\b\b\b\b\b\b\b\b\b\b\b\b\b\b\b\b\b\b\b\b\b\b\b\b\b\b\b\b\b\b\b\b\b\b\b\b\r3/3 [==============================] - 5s 3s/step - loss: 0.0322 - val_loss: 0.0609 - lr: 1.0000e-04\n",
            "Epoch 227/500\n",
            "1/3 [=========>....................] - ETA: 0s - loss: 0.0311INFO:tensorflow:Assets written to: path_to_checkpoint_filepath/assets\n"
          ]
        },
        {
          "output_type": "stream",
          "name": "stderr",
          "text": [
            "INFO:tensorflow:Assets written to: path_to_checkpoint_filepath/assets\n",
            "WARNING:absl:<keras.layers.recurrent.LSTMCell object at 0x7f3a65626a90> has the same name 'LSTMCell' as a built-in Keras object. Consider renaming <class 'keras.layers.recurrent.LSTMCell'> to avoid naming conflicts when loading with `tf.keras.models.load_model`. If renaming is not possible, pass the object in the `custom_objects` parameter of the load function.\n",
            "WARNING:absl:<keras.layers.recurrent.LSTMCell object at 0x7f3a65adc2d0> has the same name 'LSTMCell' as a built-in Keras object. Consider renaming <class 'keras.layers.recurrent.LSTMCell'> to avoid naming conflicts when loading with `tf.keras.models.load_model`. If renaming is not possible, pass the object in the `custom_objects` parameter of the load function.\n"
          ]
        },
        {
          "output_type": "stream",
          "name": "stdout",
          "text": [
            "\b\b\b\b\b\b\b\b\b\b\b\b\b\b\b\b\b\b\b\b\b\b\b\b\b\b\b\b\b\b\b\b\b\b\b\b\b\b\b\b\b\b\b\b\b\b\b\b\b\b\b\b\b\b\b\b\b\b\b\b\b\r3/3 [==============================] - 5s 2s/step - loss: 0.0321 - val_loss: 0.0607 - lr: 1.0000e-04\n",
            "Epoch 228/500\n",
            "1/3 [=========>....................] - ETA: 0s - loss: 0.0326INFO:tensorflow:Assets written to: path_to_checkpoint_filepath/assets\n"
          ]
        },
        {
          "output_type": "stream",
          "name": "stderr",
          "text": [
            "INFO:tensorflow:Assets written to: path_to_checkpoint_filepath/assets\n",
            "WARNING:absl:<keras.layers.recurrent.LSTMCell object at 0x7f3a65626a90> has the same name 'LSTMCell' as a built-in Keras object. Consider renaming <class 'keras.layers.recurrent.LSTMCell'> to avoid naming conflicts when loading with `tf.keras.models.load_model`. If renaming is not possible, pass the object in the `custom_objects` parameter of the load function.\n",
            "WARNING:absl:<keras.layers.recurrent.LSTMCell object at 0x7f3a65adc2d0> has the same name 'LSTMCell' as a built-in Keras object. Consider renaming <class 'keras.layers.recurrent.LSTMCell'> to avoid naming conflicts when loading with `tf.keras.models.load_model`. If renaming is not possible, pass the object in the `custom_objects` parameter of the load function.\n"
          ]
        },
        {
          "output_type": "stream",
          "name": "stdout",
          "text": [
            "\b\b\b\b\b\b\b\b\b\b\b\b\b\b\b\b\b\b\b\b\b\b\b\b\b\b\b\b\b\b\b\b\b\b\b\b\b\b\b\b\b\b\b\b\b\b\b\b\b\b\b\b\b\b\b\b\b\b\b\b\b\r3/3 [==============================] - 5s 3s/step - loss: 0.0321 - val_loss: 0.0606 - lr: 1.0000e-04\n",
            "Epoch 229/500\n",
            "3/3 [==============================] - 0s 32ms/step - loss: 0.0322 - val_loss: 0.0607 - lr: 1.0000e-04\n",
            "Epoch 230/500\n",
            "1/3 [=========>....................] - ETA: 0s - loss: 0.0308INFO:tensorflow:Assets written to: path_to_checkpoint_filepath/assets\n"
          ]
        },
        {
          "output_type": "stream",
          "name": "stderr",
          "text": [
            "INFO:tensorflow:Assets written to: path_to_checkpoint_filepath/assets\n",
            "WARNING:absl:<keras.layers.recurrent.LSTMCell object at 0x7f3a65626a90> has the same name 'LSTMCell' as a built-in Keras object. Consider renaming <class 'keras.layers.recurrent.LSTMCell'> to avoid naming conflicts when loading with `tf.keras.models.load_model`. If renaming is not possible, pass the object in the `custom_objects` parameter of the load function.\n",
            "WARNING:absl:<keras.layers.recurrent.LSTMCell object at 0x7f3a65adc2d0> has the same name 'LSTMCell' as a built-in Keras object. Consider renaming <class 'keras.layers.recurrent.LSTMCell'> to avoid naming conflicts when loading with `tf.keras.models.load_model`. If renaming is not possible, pass the object in the `custom_objects` parameter of the load function.\n"
          ]
        },
        {
          "output_type": "stream",
          "name": "stdout",
          "text": [
            "\b\b\b\b\b\b\b\b\b\b\b\b\b\b\b\b\b\b\b\b\b\b\b\b\b\b\b\b\b\b\b\b\b\b\b\b\b\b\b\b\b\b\b\b\b\b\b\b\b\b\b\b\b\b\b\b\b\b\b\b\b\r3/3 [==============================] - 5s 2s/step - loss: 0.0319 - val_loss: 0.0602 - lr: 1.0000e-04\n",
            "Epoch 231/500\n",
            "1/3 [=========>....................] - ETA: 0s - loss: 0.0315INFO:tensorflow:Assets written to: path_to_checkpoint_filepath/assets\n"
          ]
        },
        {
          "output_type": "stream",
          "name": "stderr",
          "text": [
            "INFO:tensorflow:Assets written to: path_to_checkpoint_filepath/assets\n",
            "WARNING:absl:<keras.layers.recurrent.LSTMCell object at 0x7f3a65626a90> has the same name 'LSTMCell' as a built-in Keras object. Consider renaming <class 'keras.layers.recurrent.LSTMCell'> to avoid naming conflicts when loading with `tf.keras.models.load_model`. If renaming is not possible, pass the object in the `custom_objects` parameter of the load function.\n",
            "WARNING:absl:<keras.layers.recurrent.LSTMCell object at 0x7f3a65adc2d0> has the same name 'LSTMCell' as a built-in Keras object. Consider renaming <class 'keras.layers.recurrent.LSTMCell'> to avoid naming conflicts when loading with `tf.keras.models.load_model`. If renaming is not possible, pass the object in the `custom_objects` parameter of the load function.\n"
          ]
        },
        {
          "output_type": "stream",
          "name": "stdout",
          "text": [
            "\b\b\b\b\b\b\b\b\b\b\b\b\b\b\b\b\b\b\b\b\b\b\b\b\b\b\b\b\b\b\b\b\b\b\b\b\b\b\b\b\b\b\b\b\b\b\b\b\b\b\b\b\b\b\b\b\b\b\b\b\b\r3/3 [==============================] - 5s 2s/step - loss: 0.0319 - val_loss: 0.0597 - lr: 1.0000e-04\n",
            "Epoch 232/500\n",
            "3/3 [==============================] - 0s 29ms/step - loss: 0.0318 - val_loss: 0.0600 - lr: 1.0000e-04\n",
            "Epoch 233/500\n",
            "1/3 [=========>....................] - ETA: 0s - loss: 0.0307INFO:tensorflow:Assets written to: path_to_checkpoint_filepath/assets\n"
          ]
        },
        {
          "output_type": "stream",
          "name": "stderr",
          "text": [
            "INFO:tensorflow:Assets written to: path_to_checkpoint_filepath/assets\n",
            "WARNING:absl:<keras.layers.recurrent.LSTMCell object at 0x7f3a65626a90> has the same name 'LSTMCell' as a built-in Keras object. Consider renaming <class 'keras.layers.recurrent.LSTMCell'> to avoid naming conflicts when loading with `tf.keras.models.load_model`. If renaming is not possible, pass the object in the `custom_objects` parameter of the load function.\n",
            "WARNING:absl:<keras.layers.recurrent.LSTMCell object at 0x7f3a65adc2d0> has the same name 'LSTMCell' as a built-in Keras object. Consider renaming <class 'keras.layers.recurrent.LSTMCell'> to avoid naming conflicts when loading with `tf.keras.models.load_model`. If renaming is not possible, pass the object in the `custom_objects` parameter of the load function.\n"
          ]
        },
        {
          "output_type": "stream",
          "name": "stdout",
          "text": [
            "\b\b\b\b\b\b\b\b\b\b\b\b\b\b\b\b\b\b\b\b\b\b\b\b\b\b\b\b\b\b\b\b\b\b\b\b\b\b\b\b\b\b\b\b\b\b\b\b\b\b\b\b\b\b\b\b\b\b\b\b\b\r3/3 [==============================] - 5s 2s/step - loss: 0.0318 - val_loss: 0.0591 - lr: 1.0000e-04\n",
            "Epoch 234/500\n",
            "1/3 [=========>....................] - ETA: 0s - loss: 0.0341INFO:tensorflow:Assets written to: path_to_checkpoint_filepath/assets\n"
          ]
        },
        {
          "output_type": "stream",
          "name": "stderr",
          "text": [
            "INFO:tensorflow:Assets written to: path_to_checkpoint_filepath/assets\n",
            "WARNING:absl:<keras.layers.recurrent.LSTMCell object at 0x7f3a65626a90> has the same name 'LSTMCell' as a built-in Keras object. Consider renaming <class 'keras.layers.recurrent.LSTMCell'> to avoid naming conflicts when loading with `tf.keras.models.load_model`. If renaming is not possible, pass the object in the `custom_objects` parameter of the load function.\n",
            "WARNING:absl:<keras.layers.recurrent.LSTMCell object at 0x7f3a65adc2d0> has the same name 'LSTMCell' as a built-in Keras object. Consider renaming <class 'keras.layers.recurrent.LSTMCell'> to avoid naming conflicts when loading with `tf.keras.models.load_model`. If renaming is not possible, pass the object in the `custom_objects` parameter of the load function.\n"
          ]
        },
        {
          "output_type": "stream",
          "name": "stdout",
          "text": [
            "\b\b\b\b\b\b\b\b\b\b\b\b\b\b\b\b\b\b\b\b\b\b\b\b\b\b\b\b\b\b\b\b\b\b\b\b\b\b\b\b\b\b\b\b\b\b\b\b\b\b\b\b\b\b\b\b\b\b\b\b\b\r3/3 [==============================] - 5s 2s/step - loss: 0.0317 - val_loss: 0.0589 - lr: 1.0000e-04\n",
            "Epoch 235/500\n",
            "1/3 [=========>....................] - ETA: 0s - loss: 0.0311INFO:tensorflow:Assets written to: path_to_checkpoint_filepath/assets\n"
          ]
        },
        {
          "output_type": "stream",
          "name": "stderr",
          "text": [
            "INFO:tensorflow:Assets written to: path_to_checkpoint_filepath/assets\n",
            "WARNING:absl:<keras.layers.recurrent.LSTMCell object at 0x7f3a65626a90> has the same name 'LSTMCell' as a built-in Keras object. Consider renaming <class 'keras.layers.recurrent.LSTMCell'> to avoid naming conflicts when loading with `tf.keras.models.load_model`. If renaming is not possible, pass the object in the `custom_objects` parameter of the load function.\n",
            "WARNING:absl:<keras.layers.recurrent.LSTMCell object at 0x7f3a65adc2d0> has the same name 'LSTMCell' as a built-in Keras object. Consider renaming <class 'keras.layers.recurrent.LSTMCell'> to avoid naming conflicts when loading with `tf.keras.models.load_model`. If renaming is not possible, pass the object in the `custom_objects` parameter of the load function.\n"
          ]
        },
        {
          "output_type": "stream",
          "name": "stdout",
          "text": [
            "\b\b\b\b\b\b\b\b\b\b\b\b\b\b\b\b\b\b\b\b\b\b\b\b\b\b\b\b\b\b\b\b\b\b\b\b\b\b\b\b\b\b\b\b\b\b\b\b\b\b\b\b\b\b\b\b\b\b\b\b\b\r3/3 [==============================] - 5s 2s/step - loss: 0.0317 - val_loss: 0.0586 - lr: 1.0000e-04\n",
            "Epoch 236/500\n",
            "3/3 [==============================] - 0s 30ms/step - loss: 0.0316 - val_loss: 0.0591 - lr: 1.0000e-04\n",
            "Epoch 237/500\n",
            "1/3 [=========>....................] - ETA: 0s - loss: 0.0305INFO:tensorflow:Assets written to: path_to_checkpoint_filepath/assets\n"
          ]
        },
        {
          "output_type": "stream",
          "name": "stderr",
          "text": [
            "INFO:tensorflow:Assets written to: path_to_checkpoint_filepath/assets\n",
            "WARNING:absl:<keras.layers.recurrent.LSTMCell object at 0x7f3a65626a90> has the same name 'LSTMCell' as a built-in Keras object. Consider renaming <class 'keras.layers.recurrent.LSTMCell'> to avoid naming conflicts when loading with `tf.keras.models.load_model`. If renaming is not possible, pass the object in the `custom_objects` parameter of the load function.\n",
            "WARNING:absl:<keras.layers.recurrent.LSTMCell object at 0x7f3a65adc2d0> has the same name 'LSTMCell' as a built-in Keras object. Consider renaming <class 'keras.layers.recurrent.LSTMCell'> to avoid naming conflicts when loading with `tf.keras.models.load_model`. If renaming is not possible, pass the object in the `custom_objects` parameter of the load function.\n"
          ]
        },
        {
          "output_type": "stream",
          "name": "stdout",
          "text": [
            "\b\b\b\b\b\b\b\b\b\b\b\b\b\b\b\b\b\b\b\b\b\b\b\b\b\b\b\b\b\b\b\b\b\b\b\b\b\b\b\b\b\b\b\b\b\b\b\b\b\b\b\b\b\b\b\b\b\b\b\b\b\r3/3 [==============================] - 4s 2s/step - loss: 0.0315 - val_loss: 0.0580 - lr: 1.0000e-04\n",
            "Epoch 238/500\n",
            "3/3 [==============================] - 0s 25ms/step - loss: 0.0314 - val_loss: 0.0580 - lr: 1.0000e-04\n",
            "Epoch 239/500\n",
            "3/3 [==============================] - 0s 25ms/step - loss: 0.0314 - val_loss: 0.0581 - lr: 1.0000e-04\n",
            "Epoch 240/500\n",
            "1/3 [=========>....................] - ETA: 0s - loss: 0.0305INFO:tensorflow:Assets written to: path_to_checkpoint_filepath/assets\n"
          ]
        },
        {
          "output_type": "stream",
          "name": "stderr",
          "text": [
            "INFO:tensorflow:Assets written to: path_to_checkpoint_filepath/assets\n",
            "WARNING:absl:<keras.layers.recurrent.LSTMCell object at 0x7f3a65626a90> has the same name 'LSTMCell' as a built-in Keras object. Consider renaming <class 'keras.layers.recurrent.LSTMCell'> to avoid naming conflicts when loading with `tf.keras.models.load_model`. If renaming is not possible, pass the object in the `custom_objects` parameter of the load function.\n",
            "WARNING:absl:<keras.layers.recurrent.LSTMCell object at 0x7f3a65adc2d0> has the same name 'LSTMCell' as a built-in Keras object. Consider renaming <class 'keras.layers.recurrent.LSTMCell'> to avoid naming conflicts when loading with `tf.keras.models.load_model`. If renaming is not possible, pass the object in the `custom_objects` parameter of the load function.\n"
          ]
        },
        {
          "output_type": "stream",
          "name": "stdout",
          "text": [
            "\b\b\b\b\b\b\b\b\b\b\b\b\b\b\b\b\b\b\b\b\b\b\b\b\b\b\b\b\b\b\b\b\b\b\b\b\b\b\b\b\b\b\b\b\b\b\b\b\b\b\b\b\b\b\b\b\b\b\b\b\b\r3/3 [==============================] - 5s 2s/step - loss: 0.0313 - val_loss: 0.0574 - lr: 1.0000e-04\n",
            "Epoch 241/500\n",
            "1/3 [=========>....................] - ETA: 0s - loss: 0.0298INFO:tensorflow:Assets written to: path_to_checkpoint_filepath/assets\n"
          ]
        },
        {
          "output_type": "stream",
          "name": "stderr",
          "text": [
            "INFO:tensorflow:Assets written to: path_to_checkpoint_filepath/assets\n",
            "WARNING:absl:<keras.layers.recurrent.LSTMCell object at 0x7f3a65626a90> has the same name 'LSTMCell' as a built-in Keras object. Consider renaming <class 'keras.layers.recurrent.LSTMCell'> to avoid naming conflicts when loading with `tf.keras.models.load_model`. If renaming is not possible, pass the object in the `custom_objects` parameter of the load function.\n",
            "WARNING:absl:<keras.layers.recurrent.LSTMCell object at 0x7f3a65adc2d0> has the same name 'LSTMCell' as a built-in Keras object. Consider renaming <class 'keras.layers.recurrent.LSTMCell'> to avoid naming conflicts when loading with `tf.keras.models.load_model`. If renaming is not possible, pass the object in the `custom_objects` parameter of the load function.\n"
          ]
        },
        {
          "output_type": "stream",
          "name": "stdout",
          "text": [
            "\b\b\b\b\b\b\b\b\b\b\b\b\b\b\b\b\b\b\b\b\b\b\b\b\b\b\b\b\b\b\b\b\b\b\b\b\b\b\b\b\b\b\b\b\b\b\b\b\b\b\b\b\b\b\b\b\b\b\b\b\b\r3/3 [==============================] - 5s 2s/step - loss: 0.0313 - val_loss: 0.0574 - lr: 1.0000e-04\n",
            "Epoch 242/500\n",
            "3/3 [==============================] - 0s 31ms/step - loss: 0.0312 - val_loss: 0.0578 - lr: 1.0000e-04\n",
            "Epoch 243/500\n",
            "1/3 [=========>....................] - ETA: 0s - loss: 0.0304INFO:tensorflow:Assets written to: path_to_checkpoint_filepath/assets\n"
          ]
        },
        {
          "output_type": "stream",
          "name": "stderr",
          "text": [
            "INFO:tensorflow:Assets written to: path_to_checkpoint_filepath/assets\n",
            "WARNING:absl:<keras.layers.recurrent.LSTMCell object at 0x7f3a65626a90> has the same name 'LSTMCell' as a built-in Keras object. Consider renaming <class 'keras.layers.recurrent.LSTMCell'> to avoid naming conflicts when loading with `tf.keras.models.load_model`. If renaming is not possible, pass the object in the `custom_objects` parameter of the load function.\n",
            "WARNING:absl:<keras.layers.recurrent.LSTMCell object at 0x7f3a65adc2d0> has the same name 'LSTMCell' as a built-in Keras object. Consider renaming <class 'keras.layers.recurrent.LSTMCell'> to avoid naming conflicts when loading with `tf.keras.models.load_model`. If renaming is not possible, pass the object in the `custom_objects` parameter of the load function.\n"
          ]
        },
        {
          "output_type": "stream",
          "name": "stdout",
          "text": [
            "\b\b\b\b\b\b\b\b\b\b\b\b\b\b\b\b\b\b\b\b\b\b\b\b\b\b\b\b\b\b\b\b\b\b\b\b\b\b\b\b\b\b\b\b\b\b\b\b\b\b\b\b\b\b\b\b\b\b\b\b\b\r3/3 [==============================] - 5s 2s/step - loss: 0.0311 - val_loss: 0.0570 - lr: 1.0000e-04\n",
            "Epoch 244/500\n",
            "1/3 [=========>....................] - ETA: 0s - loss: 0.0293INFO:tensorflow:Assets written to: path_to_checkpoint_filepath/assets\n"
          ]
        },
        {
          "output_type": "stream",
          "name": "stderr",
          "text": [
            "INFO:tensorflow:Assets written to: path_to_checkpoint_filepath/assets\n",
            "WARNING:absl:<keras.layers.recurrent.LSTMCell object at 0x7f3a65626a90> has the same name 'LSTMCell' as a built-in Keras object. Consider renaming <class 'keras.layers.recurrent.LSTMCell'> to avoid naming conflicts when loading with `tf.keras.models.load_model`. If renaming is not possible, pass the object in the `custom_objects` parameter of the load function.\n",
            "WARNING:absl:<keras.layers.recurrent.LSTMCell object at 0x7f3a65adc2d0> has the same name 'LSTMCell' as a built-in Keras object. Consider renaming <class 'keras.layers.recurrent.LSTMCell'> to avoid naming conflicts when loading with `tf.keras.models.load_model`. If renaming is not possible, pass the object in the `custom_objects` parameter of the load function.\n"
          ]
        },
        {
          "output_type": "stream",
          "name": "stdout",
          "text": [
            "\b\b\b\b\b\b\b\b\b\b\b\b\b\b\b\b\b\b\b\b\b\b\b\b\b\b\b\b\b\b\b\b\b\b\b\b\b\b\b\b\b\b\b\b\b\b\b\b\b\b\b\b\b\b\b\b\b\b\b\b\b\r3/3 [==============================] - 5s 3s/step - loss: 0.0311 - val_loss: 0.0567 - lr: 1.0000e-04\n",
            "Epoch 245/500\n",
            "3/3 [==============================] - 0s 26ms/step - loss: 0.0311 - val_loss: 0.0567 - lr: 1.0000e-04\n",
            "Epoch 246/500\n",
            "3/3 [==============================] - 0s 25ms/step - loss: 0.0310 - val_loss: 0.0577 - lr: 1.0000e-04\n",
            "Epoch 247/500\n",
            "1/3 [=========>....................] - ETA: 0s - loss: 0.0303INFO:tensorflow:Assets written to: path_to_checkpoint_filepath/assets\n"
          ]
        },
        {
          "output_type": "stream",
          "name": "stderr",
          "text": [
            "INFO:tensorflow:Assets written to: path_to_checkpoint_filepath/assets\n",
            "WARNING:absl:<keras.layers.recurrent.LSTMCell object at 0x7f3a65626a90> has the same name 'LSTMCell' as a built-in Keras object. Consider renaming <class 'keras.layers.recurrent.LSTMCell'> to avoid naming conflicts when loading with `tf.keras.models.load_model`. If renaming is not possible, pass the object in the `custom_objects` parameter of the load function.\n",
            "WARNING:absl:<keras.layers.recurrent.LSTMCell object at 0x7f3a65adc2d0> has the same name 'LSTMCell' as a built-in Keras object. Consider renaming <class 'keras.layers.recurrent.LSTMCell'> to avoid naming conflicts when loading with `tf.keras.models.load_model`. If renaming is not possible, pass the object in the `custom_objects` parameter of the load function.\n"
          ]
        },
        {
          "output_type": "stream",
          "name": "stdout",
          "text": [
            "\b\b\b\b\b\b\b\b\b\b\b\b\b\b\b\b\b\b\b\b\b\b\b\b\b\b\b\b\b\b\b\b\b\b\b\b\b\b\b\b\b\b\b\b\b\b\b\b\b\b\b\b\b\b\b\b\b\b\b\b\b\r3/3 [==============================] - 5s 2s/step - loss: 0.0309 - val_loss: 0.0556 - lr: 1.0000e-04\n",
            "Epoch 248/500\n",
            "3/3 [==============================] - 0s 26ms/step - loss: 0.0309 - val_loss: 0.0560 - lr: 1.0000e-04\n",
            "Epoch 249/500\n",
            "3/3 [==============================] - 0s 25ms/step - loss: 0.0308 - val_loss: 0.0565 - lr: 1.0000e-04\n",
            "Epoch 250/500\n",
            "1/3 [=========>....................] - ETA: 0s - loss: 0.0315INFO:tensorflow:Assets written to: path_to_checkpoint_filepath/assets\n"
          ]
        },
        {
          "output_type": "stream",
          "name": "stderr",
          "text": [
            "INFO:tensorflow:Assets written to: path_to_checkpoint_filepath/assets\n",
            "WARNING:absl:<keras.layers.recurrent.LSTMCell object at 0x7f3a65626a90> has the same name 'LSTMCell' as a built-in Keras object. Consider renaming <class 'keras.layers.recurrent.LSTMCell'> to avoid naming conflicts when loading with `tf.keras.models.load_model`. If renaming is not possible, pass the object in the `custom_objects` parameter of the load function.\n",
            "WARNING:absl:<keras.layers.recurrent.LSTMCell object at 0x7f3a65adc2d0> has the same name 'LSTMCell' as a built-in Keras object. Consider renaming <class 'keras.layers.recurrent.LSTMCell'> to avoid naming conflicts when loading with `tf.keras.models.load_model`. If renaming is not possible, pass the object in the `custom_objects` parameter of the load function.\n"
          ]
        },
        {
          "output_type": "stream",
          "name": "stdout",
          "text": [
            "\b\b\b\b\b\b\b\b\b\b\b\b\b\b\b\b\b\b\b\b\b\b\b\b\b\b\b\b\b\b\b\b\b\b\b\b\b\b\b\b\b\b\b\b\b\b\b\b\b\b\b\b\b\b\b\b\b\b\b\b\b\r3/3 [==============================] - 5s 2s/step - loss: 0.0308 - val_loss: 0.0552 - lr: 1.0000e-04\n",
            "Epoch 251/500\n",
            "3/3 [==============================] - 0s 26ms/step - loss: 0.0307 - val_loss: 0.0556 - lr: 1.0000e-04\n",
            "Epoch 252/500\n",
            "3/3 [==============================] - 0s 26ms/step - loss: 0.0307 - val_loss: 0.0559 - lr: 1.0000e-04\n",
            "Epoch 253/500\n",
            "3/3 [==============================] - 0s 27ms/step - loss: 0.0306 - val_loss: 0.0581 - lr: 1.0000e-04\n",
            "Epoch 254/500\n",
            "3/3 [==============================] - 0s 25ms/step - loss: 0.0305 - val_loss: 0.0561 - lr: 1.0000e-04\n",
            "Epoch 255/500\n",
            "3/3 [==============================] - 0s 29ms/step - loss: 0.0307 - val_loss: 0.0572 - lr: 1.0000e-04\n",
            "Epoch 256/500\n",
            "3/3 [==============================] - 0s 27ms/step - loss: 0.0303 - val_loss: 0.0603 - lr: 1.0000e-04\n",
            "Epoch 257/500\n",
            "3/3 [==============================] - 0s 25ms/step - loss: 0.0304 - val_loss: 0.0552 - lr: 1.0000e-04\n",
            "Epoch 258/500\n",
            "1/3 [=========>....................] - ETA: 0s - loss: 0.0299INFO:tensorflow:Assets written to: path_to_checkpoint_filepath/assets\n"
          ]
        },
        {
          "output_type": "stream",
          "name": "stderr",
          "text": [
            "INFO:tensorflow:Assets written to: path_to_checkpoint_filepath/assets\n",
            "WARNING:absl:<keras.layers.recurrent.LSTMCell object at 0x7f3a65626a90> has the same name 'LSTMCell' as a built-in Keras object. Consider renaming <class 'keras.layers.recurrent.LSTMCell'> to avoid naming conflicts when loading with `tf.keras.models.load_model`. If renaming is not possible, pass the object in the `custom_objects` parameter of the load function.\n",
            "WARNING:absl:<keras.layers.recurrent.LSTMCell object at 0x7f3a65adc2d0> has the same name 'LSTMCell' as a built-in Keras object. Consider renaming <class 'keras.layers.recurrent.LSTMCell'> to avoid naming conflicts when loading with `tf.keras.models.load_model`. If renaming is not possible, pass the object in the `custom_objects` parameter of the load function.\n"
          ]
        },
        {
          "output_type": "stream",
          "name": "stdout",
          "text": [
            "\b\b\b\b\b\b\b\b\b\b\b\b\b\b\b\b\b\b\b\b\b\b\b\b\b\b\b\b\b\b\b\b\b\b\b\b\b\b\b\b\b\b\b\b\b\b\b\b\b\b\b\b\b\b\b\b\b\b\b\b\b\r3/3 [==============================] - 5s 2s/step - loss: 0.0304 - val_loss: 0.0550 - lr: 1.0000e-04\n",
            "Epoch 259/500\n",
            "3/3 [==============================] - 0s 25ms/step - loss: 0.0302 - val_loss: 0.0580 - lr: 1.0000e-04\n",
            "Epoch 260/500\n",
            "3/3 [==============================] - 0s 24ms/step - loss: 0.0302 - val_loss: 0.0552 - lr: 1.0000e-04\n",
            "Epoch 261/500\n",
            "1/3 [=========>....................] - ETA: 0s - loss: 0.0291INFO:tensorflow:Assets written to: path_to_checkpoint_filepath/assets\n"
          ]
        },
        {
          "output_type": "stream",
          "name": "stderr",
          "text": [
            "INFO:tensorflow:Assets written to: path_to_checkpoint_filepath/assets\n",
            "WARNING:absl:<keras.layers.recurrent.LSTMCell object at 0x7f3a65626a90> has the same name 'LSTMCell' as a built-in Keras object. Consider renaming <class 'keras.layers.recurrent.LSTMCell'> to avoid naming conflicts when loading with `tf.keras.models.load_model`. If renaming is not possible, pass the object in the `custom_objects` parameter of the load function.\n",
            "WARNING:absl:<keras.layers.recurrent.LSTMCell object at 0x7f3a65adc2d0> has the same name 'LSTMCell' as a built-in Keras object. Consider renaming <class 'keras.layers.recurrent.LSTMCell'> to avoid naming conflicts when loading with `tf.keras.models.load_model`. If renaming is not possible, pass the object in the `custom_objects` parameter of the load function.\n"
          ]
        },
        {
          "output_type": "stream",
          "name": "stdout",
          "text": [
            "\b\b\b\b\b\b\b\b\b\b\b\b\b\b\b\b\b\b\b\b\b\b\b\b\b\b\b\b\b\b\b\b\b\b\b\b\b\b\b\b\b\b\b\b\b\b\b\b\b\b\b\b\b\b\b\b\b\b\b\b\b\r3/3 [==============================] - 5s 2s/step - loss: 0.0301 - val_loss: 0.0549 - lr: 1.0000e-04\n",
            "Epoch 262/500\n",
            "3/3 [==============================] - 0s 25ms/step - loss: 0.0300 - val_loss: 0.0560 - lr: 1.0000e-04\n",
            "Epoch 263/500\n",
            "3/3 [==============================] - 0s 26ms/step - loss: 0.0301 - val_loss: 0.0558 - lr: 1.0000e-04\n",
            "Epoch 264/500\n",
            "1/3 [=========>....................] - ETA: 0s - loss: 0.0303INFO:tensorflow:Assets written to: path_to_checkpoint_filepath/assets\n"
          ]
        },
        {
          "output_type": "stream",
          "name": "stderr",
          "text": [
            "INFO:tensorflow:Assets written to: path_to_checkpoint_filepath/assets\n",
            "WARNING:absl:<keras.layers.recurrent.LSTMCell object at 0x7f3a65626a90> has the same name 'LSTMCell' as a built-in Keras object. Consider renaming <class 'keras.layers.recurrent.LSTMCell'> to avoid naming conflicts when loading with `tf.keras.models.load_model`. If renaming is not possible, pass the object in the `custom_objects` parameter of the load function.\n",
            "WARNING:absl:<keras.layers.recurrent.LSTMCell object at 0x7f3a65adc2d0> has the same name 'LSTMCell' as a built-in Keras object. Consider renaming <class 'keras.layers.recurrent.LSTMCell'> to avoid naming conflicts when loading with `tf.keras.models.load_model`. If renaming is not possible, pass the object in the `custom_objects` parameter of the load function.\n"
          ]
        },
        {
          "output_type": "stream",
          "name": "stdout",
          "text": [
            "\b\b\b\b\b\b\b\b\b\b\b\b\b\b\b\b\b\b\b\b\b\b\b\b\b\b\b\b\b\b\b\b\b\b\b\b\b\b\b\b\b\b\b\b\b\b\b\b\b\b\b\b\b\b\b\b\b\b\b\b\b\r3/3 [==============================] - 4s 2s/step - loss: 0.0300 - val_loss: 0.0538 - lr: 1.0000e-04\n",
            "Epoch 265/500\n",
            "3/3 [==============================] - 0s 26ms/step - loss: 0.0299 - val_loss: 0.0567 - lr: 1.0000e-04\n",
            "Epoch 266/500\n",
            "1/3 [=========>....................] - ETA: 0s - loss: 0.0312INFO:tensorflow:Assets written to: path_to_checkpoint_filepath/assets\n"
          ]
        },
        {
          "output_type": "stream",
          "name": "stderr",
          "text": [
            "INFO:tensorflow:Assets written to: path_to_checkpoint_filepath/assets\n",
            "WARNING:absl:<keras.layers.recurrent.LSTMCell object at 0x7f3a65626a90> has the same name 'LSTMCell' as a built-in Keras object. Consider renaming <class 'keras.layers.recurrent.LSTMCell'> to avoid naming conflicts when loading with `tf.keras.models.load_model`. If renaming is not possible, pass the object in the `custom_objects` parameter of the load function.\n",
            "WARNING:absl:<keras.layers.recurrent.LSTMCell object at 0x7f3a65adc2d0> has the same name 'LSTMCell' as a built-in Keras object. Consider renaming <class 'keras.layers.recurrent.LSTMCell'> to avoid naming conflicts when loading with `tf.keras.models.load_model`. If renaming is not possible, pass the object in the `custom_objects` parameter of the load function.\n"
          ]
        },
        {
          "output_type": "stream",
          "name": "stdout",
          "text": [
            "\b\b\b\b\b\b\b\b\b\b\b\b\b\b\b\b\b\b\b\b\b\b\b\b\b\b\b\b\b\b\b\b\b\b\b\b\b\b\b\b\b\b\b\b\b\b\b\b\b\b\b\b\b\b\b\b\b\b\b\b\b\r3/3 [==============================] - 5s 2s/step - loss: 0.0299 - val_loss: 0.0536 - lr: 1.0000e-04\n",
            "Epoch 267/500\n",
            "3/3 [==============================] - 0s 29ms/step - loss: 0.0300 - val_loss: 0.0536 - lr: 1.0000e-04\n",
            "Epoch 268/500\n",
            "3/3 [==============================] - 0s 24ms/step - loss: 0.0297 - val_loss: 0.0586 - lr: 1.0000e-04\n",
            "Epoch 269/500\n",
            "3/3 [==============================] - 0s 30ms/step - loss: 0.0298 - val_loss: 0.0538 - lr: 1.0000e-04\n",
            "Epoch 270/500\n",
            "1/3 [=========>....................] - ETA: 0s - loss: 0.0285INFO:tensorflow:Assets written to: path_to_checkpoint_filepath/assets\n"
          ]
        },
        {
          "output_type": "stream",
          "name": "stderr",
          "text": [
            "INFO:tensorflow:Assets written to: path_to_checkpoint_filepath/assets\n",
            "WARNING:absl:<keras.layers.recurrent.LSTMCell object at 0x7f3a65626a90> has the same name 'LSTMCell' as a built-in Keras object. Consider renaming <class 'keras.layers.recurrent.LSTMCell'> to avoid naming conflicts when loading with `tf.keras.models.load_model`. If renaming is not possible, pass the object in the `custom_objects` parameter of the load function.\n",
            "WARNING:absl:<keras.layers.recurrent.LSTMCell object at 0x7f3a65adc2d0> has the same name 'LSTMCell' as a built-in Keras object. Consider renaming <class 'keras.layers.recurrent.LSTMCell'> to avoid naming conflicts when loading with `tf.keras.models.load_model`. If renaming is not possible, pass the object in the `custom_objects` parameter of the load function.\n"
          ]
        },
        {
          "output_type": "stream",
          "name": "stdout",
          "text": [
            "\b\b\b\b\b\b\b\b\b\b\b\b\b\b\b\b\b\b\b\b\b\b\b\b\b\b\b\b\b\b\b\b\b\b\b\b\b\b\b\b\b\b\b\b\b\b\b\b\b\b\b\b\b\b\b\b\b\b\b\b\b\r3/3 [==============================] - 5s 2s/step - loss: 0.0298 - val_loss: 0.0533 - lr: 1.0000e-04\n",
            "Epoch 271/500\n",
            "3/3 [==============================] - 0s 28ms/step - loss: 0.0296 - val_loss: 0.0572 - lr: 1.0000e-04\n",
            "Epoch 272/500\n",
            "1/3 [=========>....................] - ETA: 0s - loss: 0.0287INFO:tensorflow:Assets written to: path_to_checkpoint_filepath/assets\n"
          ]
        },
        {
          "output_type": "stream",
          "name": "stderr",
          "text": [
            "INFO:tensorflow:Assets written to: path_to_checkpoint_filepath/assets\n",
            "WARNING:absl:<keras.layers.recurrent.LSTMCell object at 0x7f3a65626a90> has the same name 'LSTMCell' as a built-in Keras object. Consider renaming <class 'keras.layers.recurrent.LSTMCell'> to avoid naming conflicts when loading with `tf.keras.models.load_model`. If renaming is not possible, pass the object in the `custom_objects` parameter of the load function.\n",
            "WARNING:absl:<keras.layers.recurrent.LSTMCell object at 0x7f3a65adc2d0> has the same name 'LSTMCell' as a built-in Keras object. Consider renaming <class 'keras.layers.recurrent.LSTMCell'> to avoid naming conflicts when loading with `tf.keras.models.load_model`. If renaming is not possible, pass the object in the `custom_objects` parameter of the load function.\n"
          ]
        },
        {
          "output_type": "stream",
          "name": "stdout",
          "text": [
            "\b\b\b\b\b\b\b\b\b\b\b\b\b\b\b\b\b\b\b\b\b\b\b\b\b\b\b\b\b\b\b\b\b\b\b\b\b\b\b\b\b\b\b\b\b\b\b\b\b\b\b\b\b\b\b\b\b\b\b\b\b\r3/3 [==============================] - 5s 2s/step - loss: 0.0296 - val_loss: 0.0529 - lr: 1.0000e-04\n",
            "Epoch 273/500\n",
            "3/3 [==============================] - 0s 27ms/step - loss: 0.0296 - val_loss: 0.0529 - lr: 1.0000e-04\n",
            "Epoch 274/500\n",
            "3/3 [==============================] - 0s 31ms/step - loss: 0.0294 - val_loss: 0.0562 - lr: 1.0000e-04\n",
            "Epoch 275/500\n",
            "3/3 [==============================] - 0s 29ms/step - loss: 0.0295 - val_loss: 0.0534 - lr: 1.0000e-04\n",
            "Epoch 276/500\n",
            "1/3 [=========>....................] - ETA: 0s - loss: 0.0275INFO:tensorflow:Assets written to: path_to_checkpoint_filepath/assets\n"
          ]
        },
        {
          "output_type": "stream",
          "name": "stderr",
          "text": [
            "INFO:tensorflow:Assets written to: path_to_checkpoint_filepath/assets\n",
            "WARNING:absl:<keras.layers.recurrent.LSTMCell object at 0x7f3a65626a90> has the same name 'LSTMCell' as a built-in Keras object. Consider renaming <class 'keras.layers.recurrent.LSTMCell'> to avoid naming conflicts when loading with `tf.keras.models.load_model`. If renaming is not possible, pass the object in the `custom_objects` parameter of the load function.\n",
            "WARNING:absl:<keras.layers.recurrent.LSTMCell object at 0x7f3a65adc2d0> has the same name 'LSTMCell' as a built-in Keras object. Consider renaming <class 'keras.layers.recurrent.LSTMCell'> to avoid naming conflicts when loading with `tf.keras.models.load_model`. If renaming is not possible, pass the object in the `custom_objects` parameter of the load function.\n"
          ]
        },
        {
          "output_type": "stream",
          "name": "stdout",
          "text": [
            "\b\b\b\b\b\b\b\b\b\b\b\b\b\b\b\b\b\b\b\b\b\b\b\b\b\b\b\b\b\b\b\b\b\b\b\b\b\b\b\b\b\b\b\b\b\b\b\b\b\b\b\b\b\b\b\b\b\b\b\b\b\r3/3 [==============================] - 5s 3s/step - loss: 0.0294 - val_loss: 0.0525 - lr: 1.0000e-04\n",
            "Epoch 277/500\n",
            "3/3 [==============================] - 0s 26ms/step - loss: 0.0293 - val_loss: 0.0539 - lr: 1.0000e-04\n",
            "Epoch 278/500\n",
            "3/3 [==============================] - 0s 25ms/step - loss: 0.0293 - val_loss: 0.0541 - lr: 1.0000e-04\n",
            "Epoch 279/500\n",
            "3/3 [==============================] - 0s 26ms/step - loss: 0.0292 - val_loss: 0.0539 - lr: 1.0000e-04\n",
            "Epoch 280/500\n",
            "1/3 [=========>....................] - ETA: 0s - loss: 0.0278INFO:tensorflow:Assets written to: path_to_checkpoint_filepath/assets\n"
          ]
        },
        {
          "output_type": "stream",
          "name": "stderr",
          "text": [
            "INFO:tensorflow:Assets written to: path_to_checkpoint_filepath/assets\n",
            "WARNING:absl:<keras.layers.recurrent.LSTMCell object at 0x7f3a65626a90> has the same name 'LSTMCell' as a built-in Keras object. Consider renaming <class 'keras.layers.recurrent.LSTMCell'> to avoid naming conflicts when loading with `tf.keras.models.load_model`. If renaming is not possible, pass the object in the `custom_objects` parameter of the load function.\n",
            "WARNING:absl:<keras.layers.recurrent.LSTMCell object at 0x7f3a65adc2d0> has the same name 'LSTMCell' as a built-in Keras object. Consider renaming <class 'keras.layers.recurrent.LSTMCell'> to avoid naming conflicts when loading with `tf.keras.models.load_model`. If renaming is not possible, pass the object in the `custom_objects` parameter of the load function.\n"
          ]
        },
        {
          "output_type": "stream",
          "name": "stdout",
          "text": [
            "\b\b\b\b\b\b\b\b\b\b\b\b\b\b\b\b\b\b\b\b\b\b\b\b\b\b\b\b\b\b\b\b\b\b\b\b\b\b\b\b\b\b\b\b\b\b\b\b\b\b\b\b\b\b\b\b\b\b\b\b\b\r3/3 [==============================] - 5s 2s/step - loss: 0.0293 - val_loss: 0.0522 - lr: 1.0000e-04\n",
            "Epoch 281/500\n",
            "3/3 [==============================] - 0s 24ms/step - loss: 0.0291 - val_loss: 0.0565 - lr: 1.0000e-04\n",
            "Epoch 282/500\n",
            "3/3 [==============================] - 0s 29ms/step - loss: 0.0292 - val_loss: 0.0529 - lr: 1.0000e-04\n",
            "Epoch 283/500\n",
            "1/3 [=========>....................] - ETA: 0s - loss: 0.0289INFO:tensorflow:Assets written to: path_to_checkpoint_filepath/assets\n"
          ]
        },
        {
          "output_type": "stream",
          "name": "stderr",
          "text": [
            "INFO:tensorflow:Assets written to: path_to_checkpoint_filepath/assets\n",
            "WARNING:absl:<keras.layers.recurrent.LSTMCell object at 0x7f3a65626a90> has the same name 'LSTMCell' as a built-in Keras object. Consider renaming <class 'keras.layers.recurrent.LSTMCell'> to avoid naming conflicts when loading with `tf.keras.models.load_model`. If renaming is not possible, pass the object in the `custom_objects` parameter of the load function.\n",
            "WARNING:absl:<keras.layers.recurrent.LSTMCell object at 0x7f3a65adc2d0> has the same name 'LSTMCell' as a built-in Keras object. Consider renaming <class 'keras.layers.recurrent.LSTMCell'> to avoid naming conflicts when loading with `tf.keras.models.load_model`. If renaming is not possible, pass the object in the `custom_objects` parameter of the load function.\n"
          ]
        },
        {
          "output_type": "stream",
          "name": "stdout",
          "text": [
            "\b\b\b\b\b\b\b\b\b\b\b\b\b\b\b\b\b\b\b\b\b\b\b\b\b\b\b\b\b\b\b\b\b\b\b\b\b\b\b\b\b\b\b\b\b\b\b\b\b\b\b\b\b\b\b\b\b\b\b\b\b\r3/3 [==============================] - 5s 3s/step - loss: 0.0291 - val_loss: 0.0505 - lr: 1.0000e-04\n",
            "Epoch 284/500\n",
            "3/3 [==============================] - 0s 34ms/step - loss: 0.0290 - val_loss: 0.0564 - lr: 1.0000e-04\n",
            "Epoch 285/500\n",
            "3/3 [==============================] - 0s 25ms/step - loss: 0.0292 - val_loss: 0.0523 - lr: 1.0000e-04\n",
            "Epoch 286/500\n",
            "1/3 [=========>....................] - ETA: 0s - loss: 0.0280INFO:tensorflow:Assets written to: path_to_checkpoint_filepath/assets\n"
          ]
        },
        {
          "output_type": "stream",
          "name": "stderr",
          "text": [
            "INFO:tensorflow:Assets written to: path_to_checkpoint_filepath/assets\n",
            "WARNING:absl:<keras.layers.recurrent.LSTMCell object at 0x7f3a65626a90> has the same name 'LSTMCell' as a built-in Keras object. Consider renaming <class 'keras.layers.recurrent.LSTMCell'> to avoid naming conflicts when loading with `tf.keras.models.load_model`. If renaming is not possible, pass the object in the `custom_objects` parameter of the load function.\n",
            "WARNING:absl:<keras.layers.recurrent.LSTMCell object at 0x7f3a65adc2d0> has the same name 'LSTMCell' as a built-in Keras object. Consider renaming <class 'keras.layers.recurrent.LSTMCell'> to avoid naming conflicts when loading with `tf.keras.models.load_model`. If renaming is not possible, pass the object in the `custom_objects` parameter of the load function.\n"
          ]
        },
        {
          "output_type": "stream",
          "name": "stdout",
          "text": [
            "\b\b\b\b\b\b\b\b\b\b\b\b\b\b\b\b\b\b\b\b\b\b\b\b\b\b\b\b\b\b\b\b\b\b\b\b\b\b\b\b\b\b\b\b\b\b\b\b\b\b\b\b\b\b\b\b\b\b\b\b\b\r3/3 [==============================] - 5s 2s/step - loss: 0.0293 - val_loss: 0.0501 - lr: 1.0000e-04\n",
            "Epoch 287/500\n",
            "3/3 [==============================] - 0s 27ms/step - loss: 0.0290 - val_loss: 0.0585 - lr: 1.0000e-04\n",
            "Epoch 288/500\n",
            "1/3 [=========>....................] - ETA: 0s - loss: 0.0324INFO:tensorflow:Assets written to: path_to_checkpoint_filepath/assets\n"
          ]
        },
        {
          "output_type": "stream",
          "name": "stderr",
          "text": [
            "INFO:tensorflow:Assets written to: path_to_checkpoint_filepath/assets\n",
            "WARNING:absl:<keras.layers.recurrent.LSTMCell object at 0x7f3a65626a90> has the same name 'LSTMCell' as a built-in Keras object. Consider renaming <class 'keras.layers.recurrent.LSTMCell'> to avoid naming conflicts when loading with `tf.keras.models.load_model`. If renaming is not possible, pass the object in the `custom_objects` parameter of the load function.\n",
            "WARNING:absl:<keras.layers.recurrent.LSTMCell object at 0x7f3a65adc2d0> has the same name 'LSTMCell' as a built-in Keras object. Consider renaming <class 'keras.layers.recurrent.LSTMCell'> to avoid naming conflicts when loading with `tf.keras.models.load_model`. If renaming is not possible, pass the object in the `custom_objects` parameter of the load function.\n"
          ]
        },
        {
          "output_type": "stream",
          "name": "stdout",
          "text": [
            "\b\b\b\b\b\b\b\b\b\b\b\b\b\b\b\b\b\b\b\b\b\b\b\b\b\b\b\b\b\b\b\b\b\b\b\b\b\b\b\b\b\b\b\b\b\b\b\b\b\b\b\b\b\b\b\b\b\b\b\b\b\r3/3 [==============================] - 5s 2s/step - loss: 0.0290 - val_loss: 0.0500 - lr: 1.0000e-04\n",
            "Epoch 289/500\n",
            "3/3 [==============================] - 0s 33ms/step - loss: 0.0288 - val_loss: 0.0529 - lr: 1.0000e-04\n",
            "Epoch 290/500\n",
            "3/3 [==============================] - 0s 27ms/step - loss: 0.0289 - val_loss: 0.0551 - lr: 1.0000e-04\n",
            "Epoch 291/500\n",
            "3/3 [==============================] - 0s 30ms/step - loss: 0.0288 - val_loss: 0.0509 - lr: 1.0000e-04\n",
            "Epoch 292/500\n",
            "3/3 [==============================] - 0s 32ms/step - loss: 0.0287 - val_loss: 0.0546 - lr: 1.0000e-04\n",
            "Epoch 293/500\n",
            "3/3 [==============================] - 0s 32ms/step - loss: 0.0286 - val_loss: 0.0524 - lr: 1.0000e-04\n",
            "Epoch 294/500\n",
            "3/3 [==============================] - 0s 28ms/step - loss: 0.0286 - val_loss: 0.0507 - lr: 1.0000e-04\n",
            "Epoch 295/500\n",
            "3/3 [==============================] - 0s 29ms/step - loss: 0.0285 - val_loss: 0.0540 - lr: 1.0000e-04\n",
            "Epoch 296/500\n",
            "3/3 [==============================] - 0s 30ms/step - loss: 0.0286 - val_loss: 0.0538 - lr: 1.0000e-04\n",
            "Epoch 297/500\n",
            "1/3 [=========>....................] - ETA: 0s - loss: 0.0285INFO:tensorflow:Assets written to: path_to_checkpoint_filepath/assets\n"
          ]
        },
        {
          "output_type": "stream",
          "name": "stderr",
          "text": [
            "INFO:tensorflow:Assets written to: path_to_checkpoint_filepath/assets\n",
            "WARNING:absl:<keras.layers.recurrent.LSTMCell object at 0x7f3a65626a90> has the same name 'LSTMCell' as a built-in Keras object. Consider renaming <class 'keras.layers.recurrent.LSTMCell'> to avoid naming conflicts when loading with `tf.keras.models.load_model`. If renaming is not possible, pass the object in the `custom_objects` parameter of the load function.\n",
            "WARNING:absl:<keras.layers.recurrent.LSTMCell object at 0x7f3a65adc2d0> has the same name 'LSTMCell' as a built-in Keras object. Consider renaming <class 'keras.layers.recurrent.LSTMCell'> to avoid naming conflicts when loading with `tf.keras.models.load_model`. If renaming is not possible, pass the object in the `custom_objects` parameter of the load function.\n"
          ]
        },
        {
          "output_type": "stream",
          "name": "stdout",
          "text": [
            "\b\b\b\b\b\b\b\b\b\b\b\b\b\b\b\b\b\b\b\b\b\b\b\b\b\b\b\b\b\b\b\b\b\b\b\b\b\b\b\b\b\b\b\b\b\b\b\b\b\b\b\b\b\b\b\b\b\b\b\b\b\r3/3 [==============================] - 5s 2s/step - loss: 0.0285 - val_loss: 0.0498 - lr: 1.0000e-04\n",
            "Epoch 298/500\n",
            "3/3 [==============================] - 0s 29ms/step - loss: 0.0284 - val_loss: 0.0541 - lr: 1.0000e-04\n",
            "Epoch 299/500\n",
            "3/3 [==============================] - 0s 28ms/step - loss: 0.0284 - val_loss: 0.0542 - lr: 1.0000e-04\n",
            "Epoch 300/500\n",
            "3/3 [==============================] - 0s 34ms/step - loss: 0.0283 - val_loss: 0.0500 - lr: 1.0000e-04\n",
            "Epoch 301/500\n",
            "3/3 [==============================] - 0s 30ms/step - loss: 0.0284 - val_loss: 0.0517 - lr: 1.0000e-04\n",
            "Epoch 302/500\n",
            "3/3 [==============================] - 0s 30ms/step - loss: 0.0282 - val_loss: 0.0555 - lr: 1.0000e-04\n",
            "Epoch 303/500\n",
            "3/3 [==============================] - 0s 28ms/step - loss: 0.0283 - val_loss: 0.0510 - lr: 1.0000e-04\n",
            "Epoch 304/500\n",
            "3/3 [==============================] - 0s 26ms/step - loss: 0.0282 - val_loss: 0.0518 - lr: 1.0000e-04\n",
            "Epoch 305/500\n",
            "3/3 [==============================] - 0s 26ms/step - loss: 0.0281 - val_loss: 0.0514 - lr: 1.0000e-04\n",
            "Epoch 306/500\n",
            "3/3 [==============================] - 0s 30ms/step - loss: 0.0282 - val_loss: 0.0540 - lr: 1.0000e-04\n",
            "Epoch 307/500\n",
            "3/3 [==============================] - 0s 26ms/step - loss: 0.0281 - val_loss: 0.0537 - lr: 1.0000e-04\n",
            "Epoch 308/500\n",
            "1/3 [=========>....................] - ETA: 0s - loss: 0.0291INFO:tensorflow:Assets written to: path_to_checkpoint_filepath/assets\n"
          ]
        },
        {
          "output_type": "stream",
          "name": "stderr",
          "text": [
            "INFO:tensorflow:Assets written to: path_to_checkpoint_filepath/assets\n",
            "WARNING:absl:<keras.layers.recurrent.LSTMCell object at 0x7f3a65626a90> has the same name 'LSTMCell' as a built-in Keras object. Consider renaming <class 'keras.layers.recurrent.LSTMCell'> to avoid naming conflicts when loading with `tf.keras.models.load_model`. If renaming is not possible, pass the object in the `custom_objects` parameter of the load function.\n",
            "WARNING:absl:<keras.layers.recurrent.LSTMCell object at 0x7f3a65adc2d0> has the same name 'LSTMCell' as a built-in Keras object. Consider renaming <class 'keras.layers.recurrent.LSTMCell'> to avoid naming conflicts when loading with `tf.keras.models.load_model`. If renaming is not possible, pass the object in the `custom_objects` parameter of the load function.\n"
          ]
        },
        {
          "output_type": "stream",
          "name": "stdout",
          "text": [
            "\b\b\b\b\b\b\b\b\b\b\b\b\b\b\b\b\b\b\b\b\b\b\b\b\b\b\b\b\b\b\b\b\b\b\b\b\b\b\b\b\b\b\b\b\b\b\b\b\b\b\b\b\b\b\b\b\b\b\b\b\b\r3/3 [==============================] - 5s 2s/step - loss: 0.0281 - val_loss: 0.0496 - lr: 1.0000e-04\n",
            "Epoch 309/500\n",
            "3/3 [==============================] - 0s 34ms/step - loss: 0.0280 - val_loss: 0.0561 - lr: 1.0000e-04\n",
            "Epoch 310/500\n",
            "3/3 [==============================] - 0s 27ms/step - loss: 0.0280 - val_loss: 0.0529 - lr: 1.0000e-04\n",
            "Epoch 311/500\n",
            "3/3 [==============================] - 0s 25ms/step - loss: 0.0279 - val_loss: 0.0508 - lr: 1.0000e-04\n",
            "Epoch 312/500\n",
            "3/3 [==============================] - 0s 26ms/step - loss: 0.0279 - val_loss: 0.0537 - lr: 1.0000e-04\n",
            "Epoch 313/500\n",
            "3/3 [==============================] - 0s 29ms/step - loss: 0.0278 - val_loss: 0.0509 - lr: 1.0000e-04\n",
            "Epoch 314/500\n",
            "3/3 [==============================] - 0s 27ms/step - loss: 0.0279 - val_loss: 0.0515 - lr: 1.0000e-04\n",
            "Epoch 315/500\n",
            "3/3 [==============================] - 0s 25ms/step - loss: 0.0278 - val_loss: 0.0511 - lr: 1.0000e-04\n",
            "Epoch 316/500\n",
            "3/3 [==============================] - 0s 27ms/step - loss: 0.0277 - val_loss: 0.0556 - lr: 1.0000e-04\n",
            "Epoch 317/500\n",
            "3/3 [==============================] - 0s 26ms/step - loss: 0.0278 - val_loss: 0.0516 - lr: 1.0000e-04\n",
            "Epoch 318/500\n",
            "3/3 [==============================] - 0s 27ms/step - loss: 0.0279 - val_loss: 0.0507 - lr: 1.0000e-04\n",
            "Epoch 319/500\n",
            "3/3 [==============================] - 0s 27ms/step - loss: 0.0278 - val_loss: 0.0580 - lr: 1.0000e-04\n",
            "Epoch 320/500\n",
            "1/3 [=========>....................] - ETA: 0s - loss: 0.0293INFO:tensorflow:Assets written to: path_to_checkpoint_filepath/assets\n"
          ]
        },
        {
          "output_type": "stream",
          "name": "stderr",
          "text": [
            "INFO:tensorflow:Assets written to: path_to_checkpoint_filepath/assets\n",
            "WARNING:absl:<keras.layers.recurrent.LSTMCell object at 0x7f3a65626a90> has the same name 'LSTMCell' as a built-in Keras object. Consider renaming <class 'keras.layers.recurrent.LSTMCell'> to avoid naming conflicts when loading with `tf.keras.models.load_model`. If renaming is not possible, pass the object in the `custom_objects` parameter of the load function.\n",
            "WARNING:absl:<keras.layers.recurrent.LSTMCell object at 0x7f3a65adc2d0> has the same name 'LSTMCell' as a built-in Keras object. Consider renaming <class 'keras.layers.recurrent.LSTMCell'> to avoid naming conflicts when loading with `tf.keras.models.load_model`. If renaming is not possible, pass the object in the `custom_objects` parameter of the load function.\n"
          ]
        },
        {
          "output_type": "stream",
          "name": "stdout",
          "text": [
            "\b\b\b\b\b\b\b\b\b\b\b\b\b\b\b\b\b\b\b\b\b\b\b\b\b\b\b\b\b\b\b\b\b\b\b\b\b\b\b\b\b\b\b\b\b\b\b\b\b\b\b\b\b\b\b\b\b\b\b\b\b\r3/3 [==============================] - 5s 3s/step - loss: 0.0276 - val_loss: 0.0487 - lr: 1.0000e-04\n",
            "Epoch 321/500\n",
            "3/3 [==============================] - 0s 27ms/step - loss: 0.0277 - val_loss: 0.0525 - lr: 1.0000e-04\n",
            "Epoch 322/500\n",
            "3/3 [==============================] - 0s 34ms/step - loss: 0.0276 - val_loss: 0.0566 - lr: 1.0000e-04\n",
            "Epoch 323/500\n",
            "3/3 [==============================] - 0s 28ms/step - loss: 0.0276 - val_loss: 0.0504 - lr: 1.0000e-04\n",
            "Epoch 324/500\n",
            "3/3 [==============================] - 0s 27ms/step - loss: 0.0275 - val_loss: 0.0540 - lr: 1.0000e-04\n",
            "Epoch 325/500\n",
            "3/3 [==============================] - 0s 27ms/step - loss: 0.0274 - val_loss: 0.0516 - lr: 1.0000e-04\n",
            "Epoch 326/500\n",
            "3/3 [==============================] - 0s 29ms/step - loss: 0.0274 - val_loss: 0.0534 - lr: 1.0000e-04\n",
            "Epoch 327/500\n",
            "3/3 [==============================] - 0s 26ms/step - loss: 0.0274 - val_loss: 0.0520 - lr: 1.0000e-04\n",
            "Epoch 328/500\n",
            "3/3 [==============================] - 0s 29ms/step - loss: 0.0274 - val_loss: 0.0545 - lr: 1.0000e-04\n",
            "Epoch 329/500\n",
            "3/3 [==============================] - 0s 31ms/step - loss: 0.0273 - val_loss: 0.0534 - lr: 1.0000e-04\n",
            "Epoch 330/500\n",
            "3/3 [==============================] - 0s 27ms/step - loss: 0.0273 - val_loss: 0.0524 - lr: 1.0000e-04\n",
            "Epoch 331/500\n",
            "3/3 [==============================] - 0s 28ms/step - loss: 0.0272 - val_loss: 0.0537 - lr: 1.0000e-04\n",
            "Epoch 332/500\n",
            "3/3 [==============================] - 0s 27ms/step - loss: 0.0272 - val_loss: 0.0538 - lr: 1.0000e-04\n",
            "Epoch 333/500\n",
            "3/3 [==============================] - 0s 31ms/step - loss: 0.0272 - val_loss: 0.0516 - lr: 1.0000e-04\n",
            "Epoch 334/500\n",
            "3/3 [==============================] - 0s 33ms/step - loss: 0.0272 - val_loss: 0.0521 - lr: 1.0000e-04\n",
            "Epoch 335/500\n",
            "3/3 [==============================] - 0s 29ms/step - loss: 0.0271 - val_loss: 0.0541 - lr: 1.0000e-04\n",
            "Epoch 336/500\n",
            "3/3 [==============================] - 0s 27ms/step - loss: 0.0271 - val_loss: 0.0525 - lr: 1.0000e-04\n",
            "Epoch 337/500\n",
            "3/3 [==============================] - 0s 31ms/step - loss: 0.0271 - val_loss: 0.0510 - lr: 1.0000e-04\n",
            "Epoch 338/500\n",
            "3/3 [==============================] - 0s 26ms/step - loss: 0.0270 - val_loss: 0.0551 - lr: 1.0000e-04\n",
            "Epoch 339/500\n",
            "3/3 [==============================] - 0s 30ms/step - loss: 0.0270 - val_loss: 0.0529 - lr: 1.0000e-04\n",
            "Epoch 340/500\n",
            "3/3 [==============================] - 0s 25ms/step - loss: 0.0269 - val_loss: 0.0513 - lr: 1.0000e-04\n",
            "Epoch 341/500\n",
            "3/3 [==============================] - 0s 27ms/step - loss: 0.0269 - val_loss: 0.0535 - lr: 1.0000e-04\n",
            "Epoch 342/500\n",
            "3/3 [==============================] - 0s 29ms/step - loss: 0.0269 - val_loss: 0.0544 - lr: 1.0000e-04\n",
            "Epoch 343/500\n",
            "3/3 [==============================] - 0s 27ms/step - loss: 0.0269 - val_loss: 0.0537 - lr: 1.0000e-04\n",
            "Epoch 344/500\n",
            "3/3 [==============================] - 0s 28ms/step - loss: 0.0268 - val_loss: 0.0496 - lr: 1.0000e-04\n",
            "Epoch 345/500\n",
            "3/3 [==============================] - 0s 29ms/step - loss: 0.0269 - val_loss: 0.0569 - lr: 1.0000e-04\n",
            "Epoch 346/500\n",
            "3/3 [==============================] - 0s 37ms/step - loss: 0.0268 - val_loss: 0.0520 - lr: 1.0000e-04\n",
            "Epoch 347/500\n",
            "3/3 [==============================] - 0s 28ms/step - loss: 0.0268 - val_loss: 0.0510 - lr: 1.0000e-04\n",
            "Epoch 348/500\n",
            "3/3 [==============================] - 0s 28ms/step - loss: 0.0268 - val_loss: 0.0529 - lr: 1.0000e-04\n",
            "Epoch 349/500\n",
            "3/3 [==============================] - 0s 29ms/step - loss: 0.0268 - val_loss: 0.0557 - lr: 1.0000e-04\n",
            "Epoch 350/500\n",
            "3/3 [==============================] - 0s 30ms/step - loss: 0.0267 - val_loss: 0.0490 - lr: 1.0000e-04\n",
            "Epoch 351/500\n",
            "3/3 [==============================] - 0s 27ms/step - loss: 0.0267 - val_loss: 0.0559 - lr: 1.0000e-04\n",
            "Epoch 352/500\n",
            "3/3 [==============================] - 0s 29ms/step - loss: 0.0267 - val_loss: 0.0567 - lr: 1.0000e-04\n",
            "Epoch 353/500\n",
            "3/3 [==============================] - 0s 25ms/step - loss: 0.0266 - val_loss: 0.0493 - lr: 1.0000e-04\n",
            "Epoch 354/500\n",
            "3/3 [==============================] - 0s 28ms/step - loss: 0.0267 - val_loss: 0.0524 - lr: 1.0000e-04\n",
            "Epoch 355/500\n",
            "3/3 [==============================] - 0s 28ms/step - loss: 0.0265 - val_loss: 0.0562 - lr: 1.0000e-04\n",
            "Epoch 356/500\n",
            "3/3 [==============================] - 0s 29ms/step - loss: 0.0265 - val_loss: 0.0525 - lr: 1.0000e-04\n",
            "Epoch 357/500\n",
            "3/3 [==============================] - 0s 29ms/step - loss: 0.0265 - val_loss: 0.0523 - lr: 1.0000e-04\n",
            "Epoch 358/500\n",
            "3/3 [==============================] - 0s 37ms/step - loss: 0.0264 - val_loss: 0.0520 - lr: 1.0000e-04\n",
            "Epoch 359/500\n",
            "3/3 [==============================] - 0s 28ms/step - loss: 0.0265 - val_loss: 0.0539 - lr: 1.0000e-04\n",
            "Epoch 360/500\n",
            "3/3 [==============================] - 0s 29ms/step - loss: 0.0264 - val_loss: 0.0508 - lr: 1.0000e-04\n",
            "Epoch 361/500\n",
            "3/3 [==============================] - 0s 27ms/step - loss: 0.0265 - val_loss: 0.0557 - lr: 1.0000e-04\n",
            "Epoch 362/500\n",
            "3/3 [==============================] - 0s 24ms/step - loss: 0.0266 - val_loss: 0.0576 - lr: 1.0000e-04\n",
            "Epoch 363/500\n",
            "1/3 [=========>....................] - ETA: 0s - loss: 0.0275INFO:tensorflow:Assets written to: path_to_checkpoint_filepath/assets\n"
          ]
        },
        {
          "output_type": "stream",
          "name": "stderr",
          "text": [
            "INFO:tensorflow:Assets written to: path_to_checkpoint_filepath/assets\n",
            "WARNING:absl:<keras.layers.recurrent.LSTMCell object at 0x7f3a65626a90> has the same name 'LSTMCell' as a built-in Keras object. Consider renaming <class 'keras.layers.recurrent.LSTMCell'> to avoid naming conflicts when loading with `tf.keras.models.load_model`. If renaming is not possible, pass the object in the `custom_objects` parameter of the load function.\n",
            "WARNING:absl:<keras.layers.recurrent.LSTMCell object at 0x7f3a65adc2d0> has the same name 'LSTMCell' as a built-in Keras object. Consider renaming <class 'keras.layers.recurrent.LSTMCell'> to avoid naming conflicts when loading with `tf.keras.models.load_model`. If renaming is not possible, pass the object in the `custom_objects` parameter of the load function.\n"
          ]
        },
        {
          "output_type": "stream",
          "name": "stdout",
          "text": [
            "\b\b\b\b\b\b\b\b\b\b\b\b\b\b\b\b\b\b\b\b\b\b\b\b\b\b\b\b\b\b\b\b\b\b\b\b\b\b\b\b\b\b\b\b\b\b\b\b\b\b\b\b\b\b\b\b\b\b\b\b\b\r3/3 [==============================] - 5s 2s/step - loss: 0.0266 - val_loss: 0.0475 - lr: 1.0000e-04\n",
            "Epoch 364/500\n",
            "3/3 [==============================] - 0s 34ms/step - loss: 0.0264 - val_loss: 0.0587 - lr: 1.0000e-04\n",
            "Epoch 365/500\n",
            "3/3 [==============================] - 0s 29ms/step - loss: 0.0265 - val_loss: 0.0530 - lr: 1.0000e-04\n",
            "Epoch 366/500\n",
            "3/3 [==============================] - 0s 27ms/step - loss: 0.0263 - val_loss: 0.0521 - lr: 1.0000e-04\n",
            "Epoch 367/500\n",
            "3/3 [==============================] - 0s 31ms/step - loss: 0.0263 - val_loss: 0.0527 - lr: 1.0000e-04\n",
            "Epoch 368/500\n",
            "3/3 [==============================] - 0s 25ms/step - loss: 0.0262 - val_loss: 0.0577 - lr: 1.0000e-04\n",
            "Epoch 369/500\n",
            "3/3 [==============================] - 0s 27ms/step - loss: 0.0262 - val_loss: 0.0512 - lr: 1.0000e-04\n",
            "Epoch 370/500\n",
            "3/3 [==============================] - 0s 28ms/step - loss: 0.0262 - val_loss: 0.0513 - lr: 1.0000e-04\n",
            "Epoch 371/500\n",
            "3/3 [==============================] - 0s 29ms/step - loss: 0.0262 - val_loss: 0.0547 - lr: 1.0000e-04\n",
            "Epoch 372/500\n",
            "3/3 [==============================] - 0s 26ms/step - loss: 0.0261 - val_loss: 0.0547 - lr: 1.0000e-04\n",
            "Epoch 373/500\n",
            "3/3 [==============================] - 0s 25ms/step - loss: 0.0262 - val_loss: 0.0507 - lr: 1.0000e-04\n",
            "Epoch 374/500\n",
            "3/3 [==============================] - 0s 25ms/step - loss: 0.0262 - val_loss: 0.0505 - lr: 1.0000e-04\n",
            "Epoch 375/500\n",
            "3/3 [==============================] - 0s 25ms/step - loss: 0.0261 - val_loss: 0.0590 - lr: 1.0000e-04\n",
            "Epoch 376/500\n",
            "3/3 [==============================] - 0s 33ms/step - loss: 0.0262 - val_loss: 0.0514 - lr: 1.0000e-04\n",
            "Epoch 377/500\n",
            "3/3 [==============================] - 0s 29ms/step - loss: 0.0261 - val_loss: 0.0493 - lr: 1.0000e-04\n",
            "Epoch 378/500\n",
            "3/3 [==============================] - 0s 25ms/step - loss: 0.0260 - val_loss: 0.0558 - lr: 1.0000e-04\n",
            "Epoch 379/500\n",
            "3/3 [==============================] - 0s 24ms/step - loss: 0.0261 - val_loss: 0.0551 - lr: 1.0000e-04\n",
            "Epoch 380/500\n",
            "3/3 [==============================] - 0s 27ms/step - loss: 0.0262 - val_loss: 0.0500 - lr: 1.0000e-04\n",
            "Epoch 381/500\n",
            "3/3 [==============================] - 0s 27ms/step - loss: 0.0260 - val_loss: 0.0606 - lr: 1.0000e-04\n",
            "Epoch 382/500\n",
            "3/3 [==============================] - 0s 29ms/step - loss: 0.0260 - val_loss: 0.0528 - lr: 1.0000e-04\n",
            "Epoch 383/500\n",
            "3/3 [==============================] - 0s 26ms/step - loss: 0.0259 - val_loss: 0.0528 - lr: 1.0000e-04\n",
            "Epoch 384/500\n",
            "3/3 [==============================] - 0s 30ms/step - loss: 0.0259 - val_loss: 0.0577 - lr: 1.0000e-04\n",
            "Epoch 385/500\n",
            "3/3 [==============================] - 0s 25ms/step - loss: 0.0259 - val_loss: 0.0518 - lr: 1.0000e-04\n",
            "Epoch 386/500\n",
            "3/3 [==============================] - 0s 26ms/step - loss: 0.0260 - val_loss: 0.0508 - lr: 1.0000e-04\n",
            "Epoch 387/500\n",
            "3/3 [==============================] - 0s 29ms/step - loss: 0.0259 - val_loss: 0.0569 - lr: 1.0000e-04\n",
            "Epoch 388/500\n",
            "3/3 [==============================] - 0s 28ms/step - loss: 0.0258 - val_loss: 0.0524 - lr: 1.0000e-04\n",
            "Epoch 389/500\n",
            "3/3 [==============================] - 0s 31ms/step - loss: 0.0258 - val_loss: 0.0519 - lr: 1.0000e-04\n",
            "Epoch 390/500\n",
            "3/3 [==============================] - 0s 25ms/step - loss: 0.0258 - val_loss: 0.0571 - lr: 1.0000e-04\n",
            "Epoch 391/500\n",
            "3/3 [==============================] - 0s 28ms/step - loss: 0.0257 - val_loss: 0.0516 - lr: 1.0000e-04\n",
            "Epoch 392/500\n",
            "3/3 [==============================] - 0s 25ms/step - loss: 0.0258 - val_loss: 0.0540 - lr: 1.0000e-04\n",
            "Epoch 393/500\n",
            "3/3 [==============================] - 0s 33ms/step - loss: 0.0257 - val_loss: 0.0547 - lr: 1.0000e-04\n",
            "Epoch 394/500\n",
            "3/3 [==============================] - 0s 26ms/step - loss: 0.0257 - val_loss: 0.0512 - lr: 1.0000e-04\n",
            "Epoch 395/500\n",
            "3/3 [==============================] - 0s 26ms/step - loss: 0.0257 - val_loss: 0.0543 - lr: 1.0000e-04\n",
            "Epoch 396/500\n",
            "3/3 [==============================] - 0s 26ms/step - loss: 0.0257 - val_loss: 0.0568 - lr: 1.0000e-04\n",
            "Epoch 397/500\n",
            "3/3 [==============================] - 0s 32ms/step - loss: 0.0256 - val_loss: 0.0525 - lr: 1.0000e-04\n",
            "Epoch 398/500\n",
            "3/3 [==============================] - 0s 30ms/step - loss: 0.0256 - val_loss: 0.0534 - lr: 1.0000e-04\n",
            "Epoch 399/500\n",
            "3/3 [==============================] - 0s 29ms/step - loss: 0.0256 - val_loss: 0.0557 - lr: 1.0000e-04\n",
            "Epoch 400/500\n",
            "3/3 [==============================] - 0s 33ms/step - loss: 0.0256 - val_loss: 0.0521 - lr: 1.0000e-04\n",
            "Epoch 401/500\n",
            "3/3 [==============================] - 0s 29ms/step - loss: 0.0256 - val_loss: 0.0528 - lr: 1.0000e-04\n",
            "Epoch 402/500\n",
            "3/3 [==============================] - 0s 29ms/step - loss: 0.0255 - val_loss: 0.0547 - lr: 1.0000e-04\n",
            "Epoch 403/500\n",
            "3/3 [==============================] - 0s 25ms/step - loss: 0.0255 - val_loss: 0.0537 - lr: 1.0000e-04\n",
            "Epoch 404/500\n",
            "3/3 [==============================] - 0s 28ms/step - loss: 0.0255 - val_loss: 0.0517 - lr: 1.0000e-04\n",
            "Epoch 405/500\n",
            "3/3 [==============================] - 0s 26ms/step - loss: 0.0255 - val_loss: 0.0531 - lr: 1.0000e-04\n",
            "Epoch 406/500\n",
            "3/3 [==============================] - 0s 28ms/step - loss: 0.0254 - val_loss: 0.0569 - lr: 1.0000e-04\n",
            "Epoch 407/500\n",
            "3/3 [==============================] - 0s 27ms/step - loss: 0.0255 - val_loss: 0.0532 - lr: 1.0000e-04\n",
            "Epoch 408/500\n",
            "3/3 [==============================] - 0s 26ms/step - loss: 0.0254 - val_loss: 0.0527 - lr: 1.0000e-04\n",
            "Epoch 409/500\n",
            "3/3 [==============================] - 0s 30ms/step - loss: 0.0254 - val_loss: 0.0549 - lr: 1.0000e-04\n",
            "Epoch 410/500\n",
            "3/3 [==============================] - 0s 28ms/step - loss: 0.0254 - val_loss: 0.0529 - lr: 1.0000e-04\n",
            "Epoch 411/500\n",
            "3/3 [==============================] - 0s 29ms/step - loss: 0.0255 - val_loss: 0.0514 - lr: 1.0000e-04\n",
            "Epoch 412/500\n",
            "3/3 [==============================] - 0s 28ms/step - loss: 0.0254 - val_loss: 0.0585 - lr: 1.0000e-04\n",
            "Epoch 413/500\n",
            "3/3 [==============================] - 0s 27ms/step - loss: 0.0254 - val_loss: 0.0490 - lr: 1.0000e-04\n",
            "Epoch 414/500\n",
            "3/3 [==============================] - 0s 29ms/step - loss: 0.0256 - val_loss: 0.0524 - lr: 1.0000e-04\n",
            "Epoch 415/500\n",
            "3/3 [==============================] - 0s 33ms/step - loss: 0.0255 - val_loss: 0.0607 - lr: 1.0000e-04\n",
            "Epoch 416/500\n",
            "3/3 [==============================] - 0s 29ms/step - loss: 0.0254 - val_loss: 0.0477 - lr: 1.0000e-04\n",
            "Epoch 417/500\n",
            "3/3 [==============================] - 0s 36ms/step - loss: 0.0254 - val_loss: 0.0529 - lr: 1.0000e-04\n",
            "Epoch 418/500\n",
            "3/3 [==============================] - 0s 29ms/step - loss: 0.0253 - val_loss: 0.0572 - lr: 1.0000e-04\n",
            "Epoch 419/500\n",
            "3/3 [==============================] - 0s 29ms/step - loss: 0.0253 - val_loss: 0.0495 - lr: 1.0000e-04\n",
            "Epoch 420/500\n",
            "3/3 [==============================] - 0s 29ms/step - loss: 0.0253 - val_loss: 0.0533 - lr: 1.0000e-04\n",
            "Epoch 421/500\n",
            "3/3 [==============================] - 0s 29ms/step - loss: 0.0253 - val_loss: 0.0545 - lr: 1.0000e-04\n",
            "Epoch 422/500\n",
            "3/3 [==============================] - 0s 30ms/step - loss: 0.0252 - val_loss: 0.0517 - lr: 1.0000e-04\n",
            "Epoch 423/500\n",
            "3/3 [==============================] - 0s 30ms/step - loss: 0.0252 - val_loss: 0.0528 - lr: 1.0000e-04\n",
            "Epoch 424/500\n",
            "3/3 [==============================] - 0s 29ms/step - loss: 0.0251 - val_loss: 0.0556 - lr: 1.0000e-04\n",
            "Epoch 425/500\n",
            "3/3 [==============================] - 0s 31ms/step - loss: 0.0252 - val_loss: 0.0526 - lr: 1.0000e-04\n",
            "Epoch 426/500\n",
            "3/3 [==============================] - 0s 30ms/step - loss: 0.0251 - val_loss: 0.0546 - lr: 1.0000e-04\n",
            "Epoch 427/500\n",
            "3/3 [==============================] - 0s 28ms/step - loss: 0.0252 - val_loss: 0.0530 - lr: 1.0000e-04\n",
            "Epoch 428/500\n",
            "3/3 [==============================] - 0s 37ms/step - loss: 0.0251 - val_loss: 0.0506 - lr: 1.0000e-04\n",
            "Epoch 429/500\n",
            "3/3 [==============================] - 0s 30ms/step - loss: 0.0251 - val_loss: 0.0555 - lr: 1.0000e-04\n",
            "Epoch 430/500\n",
            "3/3 [==============================] - 0s 36ms/step - loss: 0.0251 - val_loss: 0.0559 - lr: 1.0000e-04\n",
            "Epoch 431/500\n",
            "3/3 [==============================] - 0s 28ms/step - loss: 0.0251 - val_loss: 0.0511 - lr: 1.0000e-04\n",
            "Epoch 432/500\n",
            "3/3 [==============================] - 0s 29ms/step - loss: 0.0251 - val_loss: 0.0525 - lr: 1.0000e-04\n",
            "Epoch 433/500\n",
            "3/3 [==============================] - 0s 29ms/step - loss: 0.0251 - val_loss: 0.0542 - lr: 1.0000e-04\n",
            "Epoch 434/500\n",
            "3/3 [==============================] - 0s 27ms/step - loss: 0.0250 - val_loss: 0.0532 - lr: 1.0000e-04\n",
            "Epoch 435/500\n",
            "3/3 [==============================] - 0s 32ms/step - loss: 0.0250 - val_loss: 0.0505 - lr: 1.0000e-04\n",
            "Epoch 436/500\n",
            "3/3 [==============================] - 0s 28ms/step - loss: 0.0250 - val_loss: 0.0569 - lr: 1.0000e-04\n",
            "Epoch 437/500\n",
            "3/3 [==============================] - 0s 31ms/step - loss: 0.0250 - val_loss: 0.0540 - lr: 1.0000e-04\n",
            "Epoch 438/500\n",
            "3/3 [==============================] - 0s 27ms/step - loss: 0.0250 - val_loss: 0.0504 - lr: 1.0000e-04\n",
            "Epoch 439/500\n",
            "3/3 [==============================] - 0s 25ms/step - loss: 0.0251 - val_loss: 0.0566 - lr: 1.0000e-04\n",
            "Epoch 440/500\n",
            "3/3 [==============================] - 0s 27ms/step - loss: 0.0249 - val_loss: 0.0512 - lr: 1.0000e-04\n",
            "Epoch 441/500\n",
            "3/3 [==============================] - 0s 27ms/step - loss: 0.0249 - val_loss: 0.0542 - lr: 1.0000e-04\n",
            "Epoch 442/500\n",
            "3/3 [==============================] - 0s 30ms/step - loss: 0.0249 - val_loss: 0.0540 - lr: 1.0000e-04\n",
            "Epoch 443/500\n",
            "3/3 [==============================] - 0s 26ms/step - loss: 0.0249 - val_loss: 0.0512 - lr: 1.0000e-04\n",
            "Epoch 444/500\n",
            "3/3 [==============================] - 0s 27ms/step - loss: 0.0249 - val_loss: 0.0529 - lr: 1.0000e-04\n",
            "Epoch 445/500\n",
            "3/3 [==============================] - 0s 27ms/step - loss: 0.0250 - val_loss: 0.0541 - lr: 1.0000e-04\n",
            "Epoch 446/500\n",
            "3/3 [==============================] - 0s 25ms/step - loss: 0.0250 - val_loss: 0.0501 - lr: 1.0000e-04\n",
            "Epoch 447/500\n",
            "3/3 [==============================] - 0s 26ms/step - loss: 0.0249 - val_loss: 0.0579 - lr: 1.0000e-04\n",
            "Epoch 448/500\n",
            "3/3 [==============================] - 0s 31ms/step - loss: 0.0249 - val_loss: 0.0508 - lr: 1.0000e-04\n",
            "Epoch 449/500\n",
            "3/3 [==============================] - 0s 25ms/step - loss: 0.0248 - val_loss: 0.0559 - lr: 1.0000e-04\n",
            "Epoch 450/500\n",
            "3/3 [==============================] - 0s 27ms/step - loss: 0.0248 - val_loss: 0.0557 - lr: 1.0000e-04\n",
            "Epoch 451/500\n",
            "3/3 [==============================] - 0s 27ms/step - loss: 0.0248 - val_loss: 0.0498 - lr: 1.0000e-04\n",
            "Epoch 452/500\n",
            "3/3 [==============================] - 0s 27ms/step - loss: 0.0248 - val_loss: 0.0555 - lr: 1.0000e-04\n",
            "Epoch 453/500\n",
            "3/3 [==============================] - 0s 25ms/step - loss: 0.0248 - val_loss: 0.0568 - lr: 1.0000e-04\n",
            "Epoch 454/500\n",
            "3/3 [==============================] - 0s 27ms/step - loss: 0.0248 - val_loss: 0.0492 - lr: 1.0000e-04\n",
            "Epoch 455/500\n",
            "3/3 [==============================] - 0s 29ms/step - loss: 0.0249 - val_loss: 0.0561 - lr: 1.0000e-04\n",
            "Epoch 456/500\n",
            "3/3 [==============================] - 0s 32ms/step - loss: 0.0248 - val_loss: 0.0570 - lr: 1.0000e-04\n",
            "Epoch 457/500\n",
            "3/3 [==============================] - 0s 27ms/step - loss: 0.0247 - val_loss: 0.0511 - lr: 1.0000e-04\n",
            "Epoch 458/500\n",
            "3/3 [==============================] - 0s 26ms/step - loss: 0.0249 - val_loss: 0.0537 - lr: 1.0000e-04\n",
            "Epoch 459/500\n",
            "3/3 [==============================] - 0s 26ms/step - loss: 0.0249 - val_loss: 0.0607 - lr: 1.0000e-04\n",
            "Epoch 460/500\n",
            "1/3 [=========>....................] - ETA: 0s - loss: 0.0252INFO:tensorflow:Assets written to: path_to_checkpoint_filepath/assets\n"
          ]
        },
        {
          "output_type": "stream",
          "name": "stderr",
          "text": [
            "INFO:tensorflow:Assets written to: path_to_checkpoint_filepath/assets\n",
            "WARNING:absl:<keras.layers.recurrent.LSTMCell object at 0x7f3a65626a90> has the same name 'LSTMCell' as a built-in Keras object. Consider renaming <class 'keras.layers.recurrent.LSTMCell'> to avoid naming conflicts when loading with `tf.keras.models.load_model`. If renaming is not possible, pass the object in the `custom_objects` parameter of the load function.\n",
            "WARNING:absl:<keras.layers.recurrent.LSTMCell object at 0x7f3a65adc2d0> has the same name 'LSTMCell' as a built-in Keras object. Consider renaming <class 'keras.layers.recurrent.LSTMCell'> to avoid naming conflicts when loading with `tf.keras.models.load_model`. If renaming is not possible, pass the object in the `custom_objects` parameter of the load function.\n"
          ]
        },
        {
          "output_type": "stream",
          "name": "stdout",
          "text": [
            "\b\b\b\b\b\b\b\b\b\b\b\b\b\b\b\b\b\b\b\b\b\b\b\b\b\b\b\b\b\b\b\b\b\b\b\b\b\b\b\b\b\b\b\b\b\b\b\b\b\b\b\b\b\b\b\b\b\b\b\b\b\r3/3 [==============================] - 5s 2s/step - loss: 0.0247 - val_loss: 0.0447 - lr: 1.0000e-04\n",
            "Epoch 461/500\n",
            "3/3 [==============================] - 0s 26ms/step - loss: 0.0250 - val_loss: 0.0532 - lr: 1.0000e-04\n",
            "Epoch 462/500\n",
            "3/3 [==============================] - 0s 25ms/step - loss: 0.0246 - val_loss: 0.0578 - lr: 1.0000e-04\n",
            "Epoch 463/500\n",
            "3/3 [==============================] - 0s 25ms/step - loss: 0.0247 - val_loss: 0.0501 - lr: 1.0000e-04\n",
            "Epoch 464/500\n",
            "3/3 [==============================] - 0s 26ms/step - loss: 0.0247 - val_loss: 0.0488 - lr: 1.0000e-04\n",
            "Epoch 465/500\n",
            "3/3 [==============================] - 0s 30ms/step - loss: 0.0246 - val_loss: 0.0585 - lr: 1.0000e-04\n",
            "Epoch 466/500\n",
            "3/3 [==============================] - 0s 29ms/step - loss: 0.0247 - val_loss: 0.0518 - lr: 1.0000e-04\n",
            "Epoch 467/500\n",
            "3/3 [==============================] - 0s 27ms/step - loss: 0.0246 - val_loss: 0.0506 - lr: 1.0000e-04\n",
            "Epoch 468/500\n",
            "3/3 [==============================] - 0s 27ms/step - loss: 0.0245 - val_loss: 0.0585 - lr: 1.0000e-04\n",
            "Epoch 469/500\n",
            "3/3 [==============================] - 0s 34ms/step - loss: 0.0246 - val_loss: 0.0514 - lr: 1.0000e-04\n",
            "Epoch 470/500\n",
            "3/3 [==============================] - 0s 25ms/step - loss: 0.0246 - val_loss: 0.0496 - lr: 1.0000e-04\n",
            "Epoch 471/500\n",
            "3/3 [==============================] - 0s 28ms/step - loss: 0.0246 - val_loss: 0.0558 - lr: 1.0000e-04\n",
            "Epoch 472/500\n",
            "3/3 [==============================] - 0s 28ms/step - loss: 0.0245 - val_loss: 0.0518 - lr: 1.0000e-04\n",
            "Epoch 473/500\n",
            "3/3 [==============================] - 0s 25ms/step - loss: 0.0245 - val_loss: 0.0529 - lr: 1.0000e-04\n",
            "Epoch 474/500\n",
            "3/3 [==============================] - 0s 30ms/step - loss: 0.0245 - val_loss: 0.0563 - lr: 1.0000e-04\n",
            "Epoch 475/500\n",
            "3/3 [==============================] - 0s 25ms/step - loss: 0.0245 - val_loss: 0.0514 - lr: 1.0000e-04\n",
            "Epoch 476/500\n",
            "3/3 [==============================] - 0s 25ms/step - loss: 0.0245 - val_loss: 0.0522 - lr: 1.0000e-04\n",
            "Epoch 477/500\n",
            "3/3 [==============================] - 0s 29ms/step - loss: 0.0244 - val_loss: 0.0547 - lr: 1.0000e-04\n",
            "Epoch 478/500\n",
            "3/3 [==============================] - 0s 29ms/step - loss: 0.0245 - val_loss: 0.0519 - lr: 1.0000e-04\n",
            "Epoch 479/500\n",
            "3/3 [==============================] - 0s 31ms/step - loss: 0.0244 - val_loss: 0.0518 - lr: 1.0000e-04\n",
            "Epoch 480/500\n",
            "3/3 [==============================] - 0s 25ms/step - loss: 0.0244 - val_loss: 0.0565 - lr: 1.0000e-04\n",
            "Epoch 481/500\n",
            "3/3 [==============================] - 0s 27ms/step - loss: 0.0244 - val_loss: 0.0503 - lr: 1.0000e-04\n",
            "Epoch 482/500\n",
            "3/3 [==============================] - 0s 28ms/step - loss: 0.0244 - val_loss: 0.0530 - lr: 1.0000e-04\n",
            "Epoch 483/500\n",
            "3/3 [==============================] - 0s 26ms/step - loss: 0.0244 - val_loss: 0.0545 - lr: 1.0000e-04\n",
            "Epoch 484/500\n",
            "3/3 [==============================] - 0s 28ms/step - loss: 0.0244 - val_loss: 0.0499 - lr: 1.0000e-04\n",
            "Epoch 485/500\n",
            "3/3 [==============================] - 0s 28ms/step - loss: 0.0244 - val_loss: 0.0547 - lr: 1.0000e-04\n",
            "Epoch 486/500\n",
            "3/3 [==============================] - 0s 27ms/step - loss: 0.0244 - val_loss: 0.0509 - lr: 1.0000e-04\n",
            "Epoch 487/500\n",
            "3/3 [==============================] - 0s 29ms/step - loss: 0.0243 - val_loss: 0.0556 - lr: 1.0000e-04\n",
            "Epoch 488/500\n",
            "3/3 [==============================] - 0s 27ms/step - loss: 0.0243 - val_loss: 0.0500 - lr: 1.0000e-04\n",
            "Epoch 489/500\n",
            "3/3 [==============================] - 0s 26ms/step - loss: 0.0244 - val_loss: 0.0516 - lr: 1.0000e-04\n",
            "Epoch 490/500\n",
            "3/3 [==============================] - 0s 32ms/step - loss: 0.0244 - val_loss: 0.0550 - lr: 1.0000e-04\n",
            "Epoch 491/500\n",
            "3/3 [==============================] - 0s 27ms/step - loss: 0.0242 - val_loss: 0.0460 - lr: 1.0000e-04\n",
            "Epoch 492/500\n",
            "3/3 [==============================] - 0s 27ms/step - loss: 0.0244 - val_loss: 0.0516 - lr: 1.0000e-04\n",
            "Epoch 493/500\n",
            "3/3 [==============================] - 0s 29ms/step - loss: 0.0243 - val_loss: 0.0541 - lr: 1.0000e-04\n",
            "Epoch 494/500\n",
            "3/3 [==============================] - 0s 27ms/step - loss: 0.0243 - val_loss: 0.0478 - lr: 1.0000e-04\n",
            "Epoch 495/500\n",
            "3/3 [==============================] - 0s 30ms/step - loss: 0.0243 - val_loss: 0.0517 - lr: 1.0000e-04\n",
            "Epoch 496/500\n",
            "3/3 [==============================] - 0s 28ms/step - loss: 0.0243 - val_loss: 0.0564 - lr: 1.0000e-04\n",
            "Epoch 497/500\n",
            "3/3 [==============================] - 0s 34ms/step - loss: 0.0242 - val_loss: 0.0495 - lr: 1.0000e-04\n",
            "Epoch 498/500\n",
            "3/3 [==============================] - 0s 25ms/step - loss: 0.0243 - val_loss: 0.0498 - lr: 1.0000e-04\n",
            "Epoch 499/500\n",
            "3/3 [==============================] - 0s 28ms/step - loss: 0.0243 - val_loss: 0.0540 - lr: 1.0000e-04\n",
            "Epoch 500/500\n",
            "3/3 [==============================] - 0s 29ms/step - loss: 0.0242 - val_loss: 0.0484 - lr: 1.0000e-04\n",
            "mae: tf.Tensor(0.276868, shape=(), dtype=float32)\n",
            "mse: tf.Tensor(0.13744938, shape=(), dtype=float32)\n",
            "mape: tf.Tensor(24.868242, shape=(), dtype=float32)\n"
          ]
        },
        {
          "output_type": "display_data",
          "data": {
            "image/png": "[encoded data removed]",
            "text/plain": [
              "<Figure size 432x288 with 1 Axes>"
            ]
          },
          "metadata": {
            "needs_background": "light"
          }
        }
      ],
      "source": [
        "import tensorflow as tf\n",
        "epochs = 500\n",
        "batch_size = 128\n",
        "validation = 0.0001\n",
        "\n",
        "tf.keras.backend.clear_session()\n",
        "tf.random.set_seed(22)\n",
        "np.random.seed(22)\n",
        "opt = keras.optimizers.Adam(learning_rate=0.0004)\n",
        "model_enc_dec = tf.keras.models.Sequential()\n",
        "model_enc_dec.add(tf.keras.layers.LSTM(50, activation='relu', input_shape=(LOOK_BACK, n_features)))\n",
        "model_enc_dec.add(tf.keras.layers.RepeatVector(FORECAST_RANGE))\n",
        "model_enc_dec.add(tf.keras.layers.LSTM(60, activation='relu', return_sequences=True))\n",
        "model_enc_dec.add(tf.keras.layers.Dense(32,activation='relu'))\n",
        "model_enc_dec.add(tf.keras.layers.TimeDistributed(Dense(n_features)))\n",
        "model_enc_dec.compile(optimizer=opt, loss='mae')\n",
        "plot_model(model=model_enc_dec, show_shapes=True)\n",
        "history = model_enc_dec.fit(X_train, y_train, epochs=epochs, batch_size=batch_size, validation_split=validation,callbacks=[checkpoint_callback, rlrop_callback])\n",
        "yhat = model_enc_dec.predict(X_test, verbose=0)\n",
        "yhat_inverse, y_test_inverse = inverse_transform(y_test, yhat)\n",
        "evaluate_forecast(y_test, yhat)\n",
        "pyplot.plot(history.history['loss'], label='train')\n",
        "pyplot.plot(history.history['val_loss'], label='test')\n",
        "pyplot.legend()\n",
        "pyplot.show()\n",
        "\n",
        "#0.16"
      ]
    },
    {
      "cell_type": "code",
      "execution_count": 22,
      "metadata": {
        "id": "uJsUIftsyHqK",
        "colab": {
          "base_uri": "https://localhost:8080/",
          "height": 1000
        },
        "outputId": "70439563-6342-4651-8291-979292c2c264"
      },
      "outputs": [
        {
          "output_type": "stream",
          "name": "stdout",
          "text": [
            "Epoch 1/500\n",
            "3/3 [==============================] - 2s 169ms/step - loss: 0.2967 - val_loss: 0.8796 - lr: 0.0100\n",
            "Epoch 2/500\n",
            "3/3 [==============================] - 0s 22ms/step - loss: 0.2940 - val_loss: 0.8765 - lr: 0.0100\n",
            "Epoch 3/500\n",
            "3/3 [==============================] - 0s 19ms/step - loss: 0.2915 - val_loss: 0.8734 - lr: 0.0100\n",
            "Epoch 4/500\n",
            "3/3 [==============================] - 0s 24ms/step - loss: 0.2891 - val_loss: 0.8703 - lr: 0.0100\n",
            "Epoch 5/500\n",
            "3/3 [==============================] - 0s 23ms/step - loss: 0.2868 - val_loss: 0.8674 - lr: 0.0100\n",
            "Epoch 6/500\n",
            "3/3 [==============================] - 0s 23ms/step - loss: 0.2846 - val_loss: 0.8644 - lr: 0.0100\n",
            "Epoch 7/500\n",
            "3/3 [==============================] - 0s 19ms/step - loss: 0.2825 - val_loss: 0.8616 - lr: 0.0100\n",
            "Epoch 8/500\n",
            "3/3 [==============================] - 0s 19ms/step - loss: 0.2805 - val_loss: 0.8588 - lr: 0.0100\n",
            "Epoch 9/500\n",
            "3/3 [==============================] - 0s 20ms/step - loss: 0.2785 - val_loss: 0.8561 - lr: 0.0100\n",
            "Epoch 10/500\n",
            "3/3 [==============================] - 0s 22ms/step - loss: 0.2767 - val_loss: 0.8535 - lr: 0.0100\n",
            "Epoch 11/500\n",
            "3/3 [==============================] - 0s 22ms/step - loss: 0.2749 - val_loss: 0.8509 - lr: 0.0100\n",
            "Epoch 12/500\n",
            "3/3 [==============================] - 0s 23ms/step - loss: 0.2732 - val_loss: 0.8484 - lr: 0.0100\n",
            "Epoch 13/500\n",
            "3/3 [==============================] - 0s 20ms/step - loss: 0.2716 - val_loss: 0.8459 - lr: 0.0100\n",
            "Epoch 14/500\n",
            "3/3 [==============================] - 0s 20ms/step - loss: 0.2700 - val_loss: 0.8435 - lr: 0.0100\n",
            "Epoch 15/500\n",
            "3/3 [==============================] - 0s 19ms/step - loss: 0.2684 - val_loss: 0.8410 - lr: 0.0100\n",
            "Epoch 16/500\n",
            "3/3 [==============================] - 0s 22ms/step - loss: 0.2669 - val_loss: 0.8386 - lr: 0.0100\n",
            "Epoch 17/500\n",
            "3/3 [==============================] - 0s 23ms/step - loss: 0.2654 - val_loss: 0.8363 - lr: 0.0100\n",
            "Epoch 18/500\n",
            "3/3 [==============================] - 0s 23ms/step - loss: 0.2640 - val_loss: 0.8339 - lr: 0.0100\n",
            "Epoch 19/500\n",
            "3/3 [==============================] - 0s 20ms/step - loss: 0.2626 - val_loss: 0.8317 - lr: 0.0100\n",
            "Epoch 20/500\n",
            "3/3 [==============================] - 0s 20ms/step - loss: 0.2612 - val_loss: 0.8294 - lr: 0.0100\n",
            "Epoch 21/500\n",
            "3/3 [==============================] - 0s 26ms/step - loss: 0.2599 - val_loss: 0.8271 - lr: 0.0100\n",
            "Epoch 22/500\n",
            "3/3 [==============================] - 0s 20ms/step - loss: 0.2587 - val_loss: 0.8250 - lr: 0.0100\n",
            "Epoch 23/500\n",
            "3/3 [==============================] - 0s 20ms/step - loss: 0.2575 - val_loss: 0.8229 - lr: 0.0100\n",
            "Epoch 24/500\n",
            "3/3 [==============================] - 0s 20ms/step - loss: 0.2563 - val_loss: 0.8208 - lr: 0.0100\n",
            "Epoch 25/500\n",
            "3/3 [==============================] - 0s 20ms/step - loss: 0.2553 - val_loss: 0.8187 - lr: 0.0100\n",
            "Epoch 26/500\n",
            "3/3 [==============================] - 0s 19ms/step - loss: 0.2542 - val_loss: 0.8167 - lr: 0.0100\n",
            "Epoch 27/500\n",
            "3/3 [==============================] - 0s 22ms/step - loss: 0.2532 - val_loss: 0.8146 - lr: 0.0100\n",
            "Epoch 28/500\n",
            "3/3 [==============================] - 0s 20ms/step - loss: 0.2522 - val_loss: 0.8127 - lr: 0.0100\n",
            "Epoch 29/500\n",
            "3/3 [==============================] - 0s 22ms/step - loss: 0.2513 - val_loss: 0.8107 - lr: 0.0100\n",
            "Epoch 30/500\n",
            "3/3 [==============================] - 0s 19ms/step - loss: 0.2504 - val_loss: 0.8089 - lr: 0.0100\n",
            "Epoch 31/500\n",
            "3/3 [==============================] - 0s 21ms/step - loss: 0.2495 - val_loss: 0.8071 - lr: 0.0100\n",
            "Epoch 32/500\n",
            "3/3 [==============================] - 0s 22ms/step - loss: 0.2487 - val_loss: 0.8052 - lr: 0.0100\n",
            "Epoch 33/500\n",
            "3/3 [==============================] - 0s 19ms/step - loss: 0.2479 - val_loss: 0.8034 - lr: 0.0100\n",
            "Epoch 34/500\n",
            "3/3 [==============================] - 0s 24ms/step - loss: 0.2471 - val_loss: 0.8017 - lr: 0.0100\n",
            "Epoch 35/500\n",
            "3/3 [==============================] - 0s 22ms/step - loss: 0.2464 - val_loss: 0.8000 - lr: 0.0100\n",
            "Epoch 36/500\n",
            "3/3 [==============================] - 0s 20ms/step - loss: 0.2457 - val_loss: 0.7983 - lr: 0.0100\n",
            "Epoch 37/500\n",
            "3/3 [==============================] - 0s 28ms/step - loss: 0.2450 - val_loss: 0.7967 - lr: 0.0100\n",
            "Epoch 38/500\n",
            "3/3 [==============================] - 0s 20ms/step - loss: 0.2444 - val_loss: 0.7951 - lr: 0.0100\n",
            "Epoch 39/500\n",
            "3/3 [==============================] - 0s 21ms/step - loss: 0.2437 - val_loss: 0.7935 - lr: 0.0100\n",
            "Epoch 40/500\n",
            "3/3 [==============================] - 0s 24ms/step - loss: 0.2431 - val_loss: 0.7919 - lr: 0.0100\n",
            "Epoch 41/500\n",
            "3/3 [==============================] - 0s 20ms/step - loss: 0.2425 - val_loss: 0.7902 - lr: 0.0100\n",
            "Epoch 42/500\n",
            "3/3 [==============================] - 0s 23ms/step - loss: 0.2419 - val_loss: 0.7887 - lr: 0.0100\n",
            "Epoch 43/500\n",
            "3/3 [==============================] - 0s 20ms/step - loss: 0.2413 - val_loss: 0.7871 - lr: 0.0100\n",
            "Epoch 44/500\n",
            "3/3 [==============================] - 0s 20ms/step - loss: 0.2407 - val_loss: 0.7856 - lr: 0.0100\n",
            "Epoch 45/500\n",
            "3/3 [==============================] - 0s 21ms/step - loss: 0.2402 - val_loss: 0.7841 - lr: 0.0100\n",
            "Epoch 46/500\n",
            "3/3 [==============================] - 0s 20ms/step - loss: 0.2397 - val_loss: 0.7825 - lr: 0.0100\n",
            "Epoch 47/500\n",
            "3/3 [==============================] - 0s 22ms/step - loss: 0.2391 - val_loss: 0.7810 - lr: 0.0100\n",
            "Epoch 48/500\n",
            "3/3 [==============================] - 0s 25ms/step - loss: 0.2386 - val_loss: 0.7795 - lr: 0.0100\n",
            "Epoch 49/500\n",
            "3/3 [==============================] - 0s 20ms/step - loss: 0.2381 - val_loss: 0.7780 - lr: 0.0100\n",
            "Epoch 50/500\n",
            "3/3 [==============================] - 0s 22ms/step - loss: 0.2376 - val_loss: 0.7766 - lr: 0.0100\n",
            "Epoch 51/500\n",
            "3/3 [==============================] - 0s 20ms/step - loss: 0.2371 - val_loss: 0.7751 - lr: 0.0100\n",
            "Epoch 52/500\n",
            "3/3 [==============================] - 0s 20ms/step - loss: 0.2367 - val_loss: 0.7737 - lr: 0.0100\n",
            "Epoch 53/500\n",
            "3/3 [==============================] - 0s 23ms/step - loss: 0.2362 - val_loss: 0.7722 - lr: 0.0100\n",
            "Epoch 54/500\n",
            "3/3 [==============================] - 0s 25ms/step - loss: 0.2358 - val_loss: 0.7708 - lr: 0.0100\n",
            "Epoch 55/500\n",
            "3/3 [==============================] - 0s 23ms/step - loss: 0.2353 - val_loss: 0.7694 - lr: 0.0100\n",
            "Epoch 56/500\n",
            "3/3 [==============================] - 0s 21ms/step - loss: 0.2349 - val_loss: 0.7679 - lr: 0.0100\n",
            "Epoch 57/500\n",
            "3/3 [==============================] - 0s 20ms/step - loss: 0.2344 - val_loss: 0.7665 - lr: 0.0100\n",
            "Epoch 58/500\n",
            "3/3 [==============================] - 0s 21ms/step - loss: 0.2340 - val_loss: 0.7650 - lr: 0.0100\n",
            "Epoch 59/500\n",
            "3/3 [==============================] - 0s 21ms/step - loss: 0.2335 - val_loss: 0.7636 - lr: 0.0100\n",
            "Epoch 60/500\n",
            "3/3 [==============================] - 0s 20ms/step - loss: 0.2331 - val_loss: 0.7622 - lr: 0.0100\n",
            "Epoch 61/500\n",
            "3/3 [==============================] - 0s 20ms/step - loss: 0.2327 - val_loss: 0.7608 - lr: 0.0100\n",
            "Epoch 62/500\n",
            "3/3 [==============================] - 0s 23ms/step - loss: 0.2322 - val_loss: 0.7594 - lr: 0.0100\n",
            "Epoch 63/500\n",
            "3/3 [==============================] - 0s 20ms/step - loss: 0.2318 - val_loss: 0.7580 - lr: 0.0100\n",
            "Epoch 64/500\n",
            "3/3 [==============================] - 0s 22ms/step - loss: 0.2314 - val_loss: 0.7567 - lr: 0.0100\n",
            "Epoch 65/500\n",
            "3/3 [==============================] - 0s 21ms/step - loss: 0.2310 - val_loss: 0.7552 - lr: 0.0100\n",
            "Epoch 66/500\n",
            "3/3 [==============================] - 0s 20ms/step - loss: 0.2306 - val_loss: 0.7538 - lr: 0.0100\n",
            "Epoch 67/500\n",
            "3/3 [==============================] - 0s 21ms/step - loss: 0.2301 - val_loss: 0.7523 - lr: 0.0100\n",
            "Epoch 68/500\n",
            "3/3 [==============================] - 0s 22ms/step - loss: 0.2297 - val_loss: 0.7509 - lr: 0.0100\n",
            "Epoch 69/500\n",
            "3/3 [==============================] - 0s 21ms/step - loss: 0.2293 - val_loss: 0.7495 - lr: 0.0100\n",
            "Epoch 70/500\n",
            "3/3 [==============================] - 0s 25ms/step - loss: 0.2289 - val_loss: 0.7481 - lr: 0.0100\n",
            "Epoch 71/500\n",
            "3/3 [==============================] - 0s 20ms/step - loss: 0.2285 - val_loss: 0.7467 - lr: 0.0100\n",
            "Epoch 72/500\n",
            "3/3 [==============================] - 0s 19ms/step - loss: 0.2280 - val_loss: 0.7452 - lr: 0.0100\n",
            "Epoch 73/500\n",
            "3/3 [==============================] - 0s 19ms/step - loss: 0.2276 - val_loss: 0.7438 - lr: 0.0100\n",
            "Epoch 74/500\n",
            "3/3 [==============================] - 0s 20ms/step - loss: 0.2272 - val_loss: 0.7423 - lr: 0.0100\n",
            "Epoch 75/500\n",
            "3/3 [==============================] - 0s 20ms/step - loss: 0.2268 - val_loss: 0.7408 - lr: 0.0100\n",
            "Epoch 76/500\n",
            "3/3 [==============================] - 0s 21ms/step - loss: 0.2263 - val_loss: 0.7393 - lr: 0.0100\n",
            "Epoch 77/500\n",
            "3/3 [==============================] - 0s 25ms/step - loss: 0.2259 - val_loss: 0.7378 - lr: 0.0100\n",
            "Epoch 78/500\n",
            "3/3 [==============================] - 0s 24ms/step - loss: 0.2255 - val_loss: 0.7363 - lr: 0.0100\n",
            "Epoch 79/500\n",
            "3/3 [==============================] - 0s 24ms/step - loss: 0.2250 - val_loss: 0.7347 - lr: 0.0100\n",
            "Epoch 80/500\n",
            "3/3 [==============================] - 0s 22ms/step - loss: 0.2246 - val_loss: 0.7332 - lr: 0.0100\n",
            "Epoch 81/500\n",
            "3/3 [==============================] - 0s 21ms/step - loss: 0.2242 - val_loss: 0.7318 - lr: 0.0100\n",
            "Epoch 82/500\n",
            "3/3 [==============================] - 0s 22ms/step - loss: 0.2237 - val_loss: 0.7302 - lr: 0.0100\n",
            "Epoch 83/500\n",
            "3/3 [==============================] - 0s 22ms/step - loss: 0.2233 - val_loss: 0.7287 - lr: 0.0100\n",
            "Epoch 84/500\n",
            "3/3 [==============================] - 0s 26ms/step - loss: 0.2229 - val_loss: 0.7271 - lr: 0.0100\n",
            "Epoch 85/500\n",
            "3/3 [==============================] - 0s 21ms/step - loss: 0.2224 - val_loss: 0.7256 - lr: 0.0100\n",
            "Epoch 86/500\n",
            "3/3 [==============================] - 0s 23ms/step - loss: 0.2220 - val_loss: 0.7240 - lr: 0.0100\n",
            "Epoch 87/500\n",
            "3/3 [==============================] - 0s 26ms/step - loss: 0.2215 - val_loss: 0.7225 - lr: 0.0100\n",
            "Epoch 88/500\n",
            "3/3 [==============================] - 0s 22ms/step - loss: 0.2211 - val_loss: 0.7209 - lr: 0.0100\n",
            "Epoch 89/500\n",
            "3/3 [==============================] - 0s 20ms/step - loss: 0.2207 - val_loss: 0.7193 - lr: 0.0100\n",
            "Epoch 90/500\n",
            "3/3 [==============================] - 0s 22ms/step - loss: 0.2202 - val_loss: 0.7176 - lr: 0.0100\n",
            "Epoch 91/500\n",
            "3/3 [==============================] - 0s 21ms/step - loss: 0.2197 - val_loss: 0.7160 - lr: 0.0100\n",
            "Epoch 92/500\n",
            "3/3 [==============================] - 0s 21ms/step - loss: 0.2193 - val_loss: 0.7145 - lr: 0.0100\n",
            "Epoch 93/500\n",
            "3/3 [==============================] - 0s 21ms/step - loss: 0.2188 - val_loss: 0.7129 - lr: 0.0100\n",
            "Epoch 94/500\n",
            "3/3 [==============================] - 0s 23ms/step - loss: 0.2184 - val_loss: 0.7112 - lr: 0.0100\n",
            "Epoch 95/500\n",
            "3/3 [==============================] - 0s 20ms/step - loss: 0.2179 - val_loss: 0.7095 - lr: 0.0100\n",
            "Epoch 96/500\n",
            "3/3 [==============================] - 0s 23ms/step - loss: 0.2174 - val_loss: 0.7078 - lr: 0.0100\n",
            "Epoch 97/500\n",
            "3/3 [==============================] - 0s 20ms/step - loss: 0.2169 - val_loss: 0.7061 - lr: 0.0100\n",
            "Epoch 98/500\n",
            "3/3 [==============================] - 0s 20ms/step - loss: 0.2164 - val_loss: 0.7043 - lr: 0.0100\n",
            "Epoch 99/500\n",
            "3/3 [==============================] - 0s 22ms/step - loss: 0.2159 - val_loss: 0.7025 - lr: 0.0100\n",
            "Epoch 100/500\n",
            "3/3 [==============================] - 0s 22ms/step - loss: 0.2154 - val_loss: 0.7007 - lr: 0.0100\n",
            "Epoch 101/500\n",
            "3/3 [==============================] - 0s 24ms/step - loss: 0.2149 - val_loss: 0.6989 - lr: 0.0100\n",
            "Epoch 102/500\n",
            "3/3 [==============================] - 0s 21ms/step - loss: 0.2144 - val_loss: 0.6970 - lr: 0.0100\n",
            "Epoch 103/500\n",
            "3/3 [==============================] - 0s 28ms/step - loss: 0.2139 - val_loss: 0.6951 - lr: 0.0100\n",
            "Epoch 104/500\n",
            "3/3 [==============================] - 0s 21ms/step - loss: 0.2134 - val_loss: 0.6933 - lr: 0.0100\n",
            "Epoch 105/500\n",
            "3/3 [==============================] - 0s 20ms/step - loss: 0.2128 - val_loss: 0.6913 - lr: 0.0100\n",
            "Epoch 106/500\n",
            "3/3 [==============================] - 0s 26ms/step - loss: 0.2123 - val_loss: 0.6893 - lr: 0.0100\n",
            "Epoch 107/500\n",
            "3/3 [==============================] - 0s 21ms/step - loss: 0.2117 - val_loss: 0.6874 - lr: 0.0100\n",
            "Epoch 108/500\n",
            "3/3 [==============================] - 0s 22ms/step - loss: 0.2112 - val_loss: 0.6854 - lr: 0.0100\n",
            "Epoch 109/500\n",
            "3/3 [==============================] - 0s 21ms/step - loss: 0.2106 - val_loss: 0.6833 - lr: 0.0100\n",
            "Epoch 110/500\n",
            "3/3 [==============================] - 0s 21ms/step - loss: 0.2100 - val_loss: 0.6813 - lr: 0.0100\n",
            "Epoch 111/500\n",
            "3/3 [==============================] - 0s 21ms/step - loss: 0.2094 - val_loss: 0.6792 - lr: 0.0100\n",
            "Epoch 112/500\n",
            "3/3 [==============================] - 0s 21ms/step - loss: 0.2089 - val_loss: 0.6770 - lr: 0.0100\n",
            "Epoch 113/500\n",
            "3/3 [==============================] - 0s 21ms/step - loss: 0.2083 - val_loss: 0.6749 - lr: 0.0100\n",
            "Epoch 114/500\n",
            "3/3 [==============================] - 0s 22ms/step - loss: 0.2077 - val_loss: 0.6727 - lr: 0.0100\n",
            "Epoch 115/500\n",
            "3/3 [==============================] - 0s 20ms/step - loss: 0.2070 - val_loss: 0.6705 - lr: 0.0100\n",
            "Epoch 116/500\n",
            "3/3 [==============================] - 0s 23ms/step - loss: 0.2064 - val_loss: 0.6682 - lr: 0.0100\n",
            "Epoch 117/500\n",
            "3/3 [==============================] - 0s 23ms/step - loss: 0.2058 - val_loss: 0.6659 - lr: 0.0100\n",
            "Epoch 118/500\n",
            "3/3 [==============================] - 0s 23ms/step - loss: 0.2051 - val_loss: 0.6637 - lr: 0.0100\n",
            "Epoch 119/500\n",
            "3/3 [==============================] - 0s 27ms/step - loss: 0.2045 - val_loss: 0.6613 - lr: 0.0100\n",
            "Epoch 120/500\n",
            "3/3 [==============================] - 0s 21ms/step - loss: 0.2038 - val_loss: 0.6588 - lr: 0.0100\n",
            "Epoch 121/500\n",
            "3/3 [==============================] - 0s 21ms/step - loss: 0.2031 - val_loss: 0.6564 - lr: 0.0100\n",
            "Epoch 122/500\n",
            "3/3 [==============================] - 0s 25ms/step - loss: 0.2024 - val_loss: 0.6538 - lr: 0.0100\n",
            "Epoch 123/500\n",
            "3/3 [==============================] - 0s 21ms/step - loss: 0.2017 - val_loss: 0.6512 - lr: 0.0100\n",
            "Epoch 124/500\n",
            "3/3 [==============================] - 0s 20ms/step - loss: 0.2010 - val_loss: 0.6486 - lr: 0.0100\n",
            "Epoch 125/500\n",
            "3/3 [==============================] - 0s 22ms/step - loss: 0.2003 - val_loss: 0.6458 - lr: 0.0100\n",
            "Epoch 126/500\n",
            "3/3 [==============================] - 0s 20ms/step - loss: 0.1995 - val_loss: 0.6431 - lr: 0.0100\n",
            "Epoch 127/500\n",
            "3/3 [==============================] - 0s 25ms/step - loss: 0.1988 - val_loss: 0.6403 - lr: 0.0100\n",
            "Epoch 128/500\n",
            "3/3 [==============================] - 0s 23ms/step - loss: 0.1980 - val_loss: 0.6375 - lr: 0.0100\n",
            "Epoch 129/500\n",
            "3/3 [==============================] - 0s 20ms/step - loss: 0.1973 - val_loss: 0.6346 - lr: 0.0100\n",
            "Epoch 130/500\n",
            "3/3 [==============================] - 0s 23ms/step - loss: 0.1965 - val_loss: 0.6318 - lr: 0.0100\n",
            "Epoch 131/500\n",
            "3/3 [==============================] - 0s 21ms/step - loss: 0.1957 - val_loss: 0.6288 - lr: 0.0100\n",
            "Epoch 132/500\n",
            "3/3 [==============================] - 0s 22ms/step - loss: 0.1949 - val_loss: 0.6257 - lr: 0.0100\n",
            "Epoch 133/500\n",
            "3/3 [==============================] - 0s 32ms/step - loss: 0.1940 - val_loss: 0.6227 - lr: 0.0100\n",
            "Epoch 134/500\n",
            "3/3 [==============================] - 0s 22ms/step - loss: 0.1932 - val_loss: 0.6196 - lr: 0.0100\n",
            "Epoch 135/500\n",
            "3/3 [==============================] - 0s 26ms/step - loss: 0.1924 - val_loss: 0.6166 - lr: 0.0100\n",
            "Epoch 136/500\n",
            "3/3 [==============================] - 0s 25ms/step - loss: 0.1915 - val_loss: 0.6134 - lr: 0.0100\n",
            "Epoch 137/500\n",
            "3/3 [==============================] - 0s 24ms/step - loss: 0.1907 - val_loss: 0.6101 - lr: 0.0100\n",
            "Epoch 138/500\n",
            "3/3 [==============================] - 0s 20ms/step - loss: 0.1898 - val_loss: 0.6067 - lr: 0.0100\n",
            "Epoch 139/500\n",
            "3/3 [==============================] - 0s 20ms/step - loss: 0.1889 - val_loss: 0.6033 - lr: 0.0100\n",
            "Epoch 140/500\n",
            "3/3 [==============================] - 0s 23ms/step - loss: 0.1881 - val_loss: 0.6002 - lr: 0.0100\n",
            "Epoch 141/500\n",
            "3/3 [==============================] - 0s 23ms/step - loss: 0.1872 - val_loss: 0.5972 - lr: 0.0100\n",
            "Epoch 142/500\n",
            "3/3 [==============================] - 0s 22ms/step - loss: 0.1863 - val_loss: 0.5941 - lr: 0.0100\n",
            "Epoch 143/500\n",
            "3/3 [==============================] - 0s 22ms/step - loss: 0.1855 - val_loss: 0.5911 - lr: 0.0100\n",
            "Epoch 144/500\n",
            "3/3 [==============================] - 0s 23ms/step - loss: 0.1846 - val_loss: 0.5880 - lr: 0.0100\n",
            "Epoch 145/500\n",
            "3/3 [==============================] - 0s 22ms/step - loss: 0.1837 - val_loss: 0.5849 - lr: 0.0100\n",
            "Epoch 146/500\n",
            "3/3 [==============================] - 0s 21ms/step - loss: 0.1829 - val_loss: 0.5820 - lr: 0.0100\n",
            "Epoch 147/500\n",
            "3/3 [==============================] - 0s 21ms/step - loss: 0.1820 - val_loss: 0.5793 - lr: 0.0100\n",
            "Epoch 148/500\n",
            "3/3 [==============================] - 0s 21ms/step - loss: 0.1812 - val_loss: 0.5765 - lr: 0.0100\n",
            "Epoch 149/500\n",
            "3/3 [==============================] - 0s 21ms/step - loss: 0.1803 - val_loss: 0.5736 - lr: 0.0100\n",
            "Epoch 150/500\n",
            "3/3 [==============================] - 0s 20ms/step - loss: 0.1794 - val_loss: 0.5707 - lr: 0.0100\n",
            "Epoch 151/500\n",
            "3/3 [==============================] - 0s 27ms/step - loss: 0.1786 - val_loss: 0.5678 - lr: 0.0100\n",
            "Epoch 152/500\n",
            "3/3 [==============================] - 0s 20ms/step - loss: 0.1777 - val_loss: 0.5651 - lr: 0.0100\n",
            "Epoch 153/500\n",
            "3/3 [==============================] - 0s 26ms/step - loss: 0.1769 - val_loss: 0.5624 - lr: 0.0100\n",
            "Epoch 154/500\n",
            "3/3 [==============================] - 0s 20ms/step - loss: 0.1761 - val_loss: 0.5598 - lr: 0.0100\n",
            "Epoch 155/500\n",
            "3/3 [==============================] - 0s 21ms/step - loss: 0.1752 - val_loss: 0.5573 - lr: 0.0100\n",
            "Epoch 156/500\n",
            "3/3 [==============================] - 0s 20ms/step - loss: 0.1744 - val_loss: 0.5547 - lr: 0.0100\n",
            "Epoch 157/500\n",
            "3/3 [==============================] - 0s 20ms/step - loss: 0.1736 - val_loss: 0.5523 - lr: 0.0100\n",
            "Epoch 158/500\n",
            "3/3 [==============================] - 0s 19ms/step - loss: 0.1728 - val_loss: 0.5499 - lr: 0.0100\n",
            "Epoch 159/500\n",
            "3/3 [==============================] - 0s 20ms/step - loss: 0.1720 - val_loss: 0.5475 - lr: 0.0100\n",
            "Epoch 160/500\n",
            "3/3 [==============================] - 0s 28ms/step - loss: 0.1712 - val_loss: 0.5451 - lr: 0.0100\n",
            "Epoch 161/500\n",
            "3/3 [==============================] - 0s 24ms/step - loss: 0.1704 - val_loss: 0.5426 - lr: 0.0100\n",
            "Epoch 162/500\n",
            "3/3 [==============================] - 0s 21ms/step - loss: 0.1696 - val_loss: 0.5402 - lr: 0.0100\n",
            "Epoch 163/500\n",
            "3/3 [==============================] - 0s 21ms/step - loss: 0.1689 - val_loss: 0.5378 - lr: 0.0100\n",
            "Epoch 164/500\n",
            "3/3 [==============================] - 0s 20ms/step - loss: 0.1681 - val_loss: 0.5355 - lr: 0.0100\n",
            "Epoch 165/500\n",
            "3/3 [==============================] - 0s 20ms/step - loss: 0.1673 - val_loss: 0.5332 - lr: 0.0100\n",
            "Epoch 166/500\n",
            "3/3 [==============================] - 0s 32ms/step - loss: 0.1665 - val_loss: 0.5309 - lr: 0.0100\n",
            "Epoch 167/500\n",
            "3/3 [==============================] - 0s 24ms/step - loss: 0.1657 - val_loss: 0.5285 - lr: 0.0100\n",
            "Epoch 168/500\n",
            "3/3 [==============================] - 0s 20ms/step - loss: 0.1649 - val_loss: 0.5261 - lr: 0.0100\n",
            "Epoch 169/500\n",
            "3/3 [==============================] - 0s 22ms/step - loss: 0.1641 - val_loss: 0.5237 - lr: 0.0100\n",
            "Epoch 170/500\n",
            "3/3 [==============================] - 0s 21ms/step - loss: 0.1633 - val_loss: 0.5215 - lr: 0.0100\n",
            "Epoch 171/500\n",
            "3/3 [==============================] - 0s 21ms/step - loss: 0.1626 - val_loss: 0.5193 - lr: 0.0100\n",
            "Epoch 172/500\n",
            "3/3 [==============================] - 0s 21ms/step - loss: 0.1618 - val_loss: 0.5171 - lr: 0.0100\n",
            "Epoch 173/500\n",
            "3/3 [==============================] - 0s 21ms/step - loss: 0.1610 - val_loss: 0.5149 - lr: 0.0100\n",
            "Epoch 174/500\n",
            "3/3 [==============================] - 0s 22ms/step - loss: 0.1602 - val_loss: 0.5127 - lr: 0.0100\n",
            "Epoch 175/500\n",
            "3/3 [==============================] - 0s 28ms/step - loss: 0.1595 - val_loss: 0.5105 - lr: 0.0100\n",
            "Epoch 176/500\n",
            "3/3 [==============================] - 0s 23ms/step - loss: 0.1587 - val_loss: 0.5084 - lr: 0.0100\n",
            "Epoch 177/500\n",
            "3/3 [==============================] - 0s 23ms/step - loss: 0.1580 - val_loss: 0.5062 - lr: 0.0100\n",
            "Epoch 178/500\n",
            "3/3 [==============================] - 0s 22ms/step - loss: 0.1572 - val_loss: 0.5041 - lr: 0.0100\n",
            "Epoch 179/500\n",
            "3/3 [==============================] - 0s 20ms/step - loss: 0.1564 - val_loss: 0.5018 - lr: 0.0100\n",
            "Epoch 180/500\n",
            "3/3 [==============================] - 0s 20ms/step - loss: 0.1556 - val_loss: 0.4996 - lr: 0.0100\n",
            "Epoch 181/500\n",
            "3/3 [==============================] - 0s 20ms/step - loss: 0.1549 - val_loss: 0.4974 - lr: 0.0100\n",
            "Epoch 182/500\n",
            "3/3 [==============================] - 0s 20ms/step - loss: 0.1541 - val_loss: 0.4951 - lr: 0.0100\n",
            "Epoch 183/500\n",
            "3/3 [==============================] - 0s 25ms/step - loss: 0.1533 - val_loss: 0.4928 - lr: 0.0100\n",
            "Epoch 184/500\n",
            "3/3 [==============================] - 0s 20ms/step - loss: 0.1525 - val_loss: 0.4906 - lr: 0.0100\n",
            "Epoch 185/500\n",
            "3/3 [==============================] - 0s 20ms/step - loss: 0.1518 - val_loss: 0.4882 - lr: 0.0100\n",
            "Epoch 186/500\n",
            "3/3 [==============================] - 0s 20ms/step - loss: 0.1510 - val_loss: 0.4858 - lr: 0.0100\n",
            "Epoch 187/500\n",
            "3/3 [==============================] - 0s 23ms/step - loss: 0.1502 - val_loss: 0.4833 - lr: 0.0100\n",
            "Epoch 188/500\n",
            "3/3 [==============================] - 0s 26ms/step - loss: 0.1494 - val_loss: 0.4809 - lr: 0.0100\n",
            "Epoch 189/500\n",
            "3/3 [==============================] - 0s 25ms/step - loss: 0.1486 - val_loss: 0.4784 - lr: 0.0100\n",
            "Epoch 190/500\n",
            "3/3 [==============================] - 0s 26ms/step - loss: 0.1479 - val_loss: 0.4760 - lr: 0.0100\n",
            "Epoch 191/500\n",
            "3/3 [==============================] - 0s 22ms/step - loss: 0.1471 - val_loss: 0.4734 - lr: 0.0100\n",
            "Epoch 192/500\n",
            "3/3 [==============================] - 0s 24ms/step - loss: 0.1463 - val_loss: 0.4710 - lr: 0.0100\n",
            "Epoch 193/500\n",
            "3/3 [==============================] - 0s 22ms/step - loss: 0.1455 - val_loss: 0.4684 - lr: 0.0100\n",
            "Epoch 194/500\n",
            "3/3 [==============================] - 0s 20ms/step - loss: 0.1447 - val_loss: 0.4658 - lr: 0.0100\n",
            "Epoch 195/500\n",
            "3/3 [==============================] - 0s 23ms/step - loss: 0.1440 - val_loss: 0.4632 - lr: 0.0100\n",
            "Epoch 196/500\n",
            "3/3 [==============================] - 0s 21ms/step - loss: 0.1432 - val_loss: 0.4606 - lr: 0.0100\n",
            "Epoch 197/500\n",
            "3/3 [==============================] - 0s 23ms/step - loss: 0.1424 - val_loss: 0.4581 - lr: 0.0100\n",
            "Epoch 198/500\n",
            "3/3 [==============================] - 0s 20ms/step - loss: 0.1416 - val_loss: 0.4556 - lr: 0.0100\n",
            "Epoch 199/500\n",
            "3/3 [==============================] - 0s 23ms/step - loss: 0.1408 - val_loss: 0.4531 - lr: 0.0100\n",
            "Epoch 200/500\n",
            "3/3 [==============================] - 0s 23ms/step - loss: 0.1401 - val_loss: 0.4505 - lr: 0.0100\n",
            "Epoch 201/500\n",
            "3/3 [==============================] - 0s 21ms/step - loss: 0.1393 - val_loss: 0.4480 - lr: 0.0100\n",
            "Epoch 202/500\n",
            "3/3 [==============================] - 0s 26ms/step - loss: 0.1385 - val_loss: 0.4455 - lr: 0.0100\n",
            "Epoch 203/500\n",
            "3/3 [==============================] - 0s 24ms/step - loss: 0.1378 - val_loss: 0.4430 - lr: 0.0100\n",
            "Epoch 204/500\n",
            "3/3 [==============================] - 0s 23ms/step - loss: 0.1370 - val_loss: 0.4404 - lr: 0.0100\n",
            "Epoch 205/500\n",
            "3/3 [==============================] - 0s 22ms/step - loss: 0.1363 - val_loss: 0.4378 - lr: 0.0100\n",
            "Epoch 206/500\n",
            "3/3 [==============================] - 0s 21ms/step - loss: 0.1355 - val_loss: 0.4352 - lr: 0.0100\n",
            "Epoch 207/500\n",
            "3/3 [==============================] - 0s 22ms/step - loss: 0.1348 - val_loss: 0.4326 - lr: 0.0100\n",
            "Epoch 208/500\n",
            "3/3 [==============================] - 0s 23ms/step - loss: 0.1340 - val_loss: 0.4301 - lr: 0.0100\n",
            "Epoch 209/500\n",
            "3/3 [==============================] - 0s 23ms/step - loss: 0.1333 - val_loss: 0.4275 - lr: 0.0100\n",
            "Epoch 210/500\n",
            "3/3 [==============================] - 0s 26ms/step - loss: 0.1326 - val_loss: 0.4250 - lr: 0.0100\n",
            "Epoch 211/500\n",
            "3/3 [==============================] - 0s 24ms/step - loss: 0.1319 - val_loss: 0.4226 - lr: 0.0100\n",
            "Epoch 212/500\n",
            "3/3 [==============================] - 0s 21ms/step - loss: 0.1312 - val_loss: 0.4201 - lr: 0.0100\n",
            "Epoch 213/500\n",
            "3/3 [==============================] - 0s 20ms/step - loss: 0.1305 - val_loss: 0.4178 - lr: 0.0100\n",
            "Epoch 214/500\n",
            "3/3 [==============================] - 0s 23ms/step - loss: 0.1298 - val_loss: 0.4153 - lr: 0.0100\n",
            "Epoch 215/500\n",
            "3/3 [==============================] - 0s 26ms/step - loss: 0.1291 - val_loss: 0.4129 - lr: 0.0100\n",
            "Epoch 216/500\n",
            "3/3 [==============================] - 0s 26ms/step - loss: 0.1284 - val_loss: 0.4106 - lr: 0.0100\n",
            "Epoch 217/500\n",
            "3/3 [==============================] - 0s 25ms/step - loss: 0.1277 - val_loss: 0.4085 - lr: 0.0100\n",
            "Epoch 218/500\n",
            "3/3 [==============================] - 0s 23ms/step - loss: 0.1271 - val_loss: 0.4064 - lr: 0.0100\n",
            "Epoch 219/500\n",
            "3/3 [==============================] - 0s 24ms/step - loss: 0.1265 - val_loss: 0.4043 - lr: 0.0100\n",
            "Epoch 220/500\n",
            "3/3 [==============================] - 0s 21ms/step - loss: 0.1258 - val_loss: 0.4023 - lr: 0.0100\n",
            "Epoch 221/500\n",
            "3/3 [==============================] - 0s 22ms/step - loss: 0.1252 - val_loss: 0.4002 - lr: 0.0100\n",
            "Epoch 222/500\n",
            "3/3 [==============================] - 0s 22ms/step - loss: 0.1246 - val_loss: 0.3981 - lr: 0.0100\n",
            "Epoch 223/500\n",
            "3/3 [==============================] - 0s 27ms/step - loss: 0.1240 - val_loss: 0.3962 - lr: 0.0100\n",
            "Epoch 224/500\n",
            "3/3 [==============================] - 0s 22ms/step - loss: 0.1234 - val_loss: 0.3942 - lr: 0.0100\n",
            "Epoch 225/500\n",
            "3/3 [==============================] - 0s 25ms/step - loss: 0.1228 - val_loss: 0.3922 - lr: 0.0100\n",
            "Epoch 226/500\n",
            "3/3 [==============================] - 0s 21ms/step - loss: 0.1222 - val_loss: 0.3903 - lr: 0.0100\n",
            "Epoch 227/500\n",
            "3/3 [==============================] - 0s 23ms/step - loss: 0.1217 - val_loss: 0.3884 - lr: 0.0100\n",
            "Epoch 228/500\n",
            "3/3 [==============================] - 0s 24ms/step - loss: 0.1211 - val_loss: 0.3864 - lr: 0.0100\n",
            "Epoch 229/500\n",
            "3/3 [==============================] - 0s 22ms/step - loss: 0.1205 - val_loss: 0.3845 - lr: 0.0100\n",
            "Epoch 230/500\n",
            "3/3 [==============================] - 0s 21ms/step - loss: 0.1200 - val_loss: 0.3826 - lr: 0.0100\n",
            "Epoch 231/500\n",
            "3/3 [==============================] - 0s 22ms/step - loss: 0.1194 - val_loss: 0.3806 - lr: 0.0100\n",
            "Epoch 232/500\n",
            "3/3 [==============================] - 0s 25ms/step - loss: 0.1189 - val_loss: 0.3787 - lr: 0.0100\n",
            "Epoch 233/500\n",
            "3/3 [==============================] - 0s 22ms/step - loss: 0.1183 - val_loss: 0.3770 - lr: 0.0100\n",
            "Epoch 234/500\n",
            "3/3 [==============================] - 0s 24ms/step - loss: 0.1178 - val_loss: 0.3753 - lr: 0.0100\n",
            "Epoch 235/500\n",
            "3/3 [==============================] - 0s 25ms/step - loss: 0.1173 - val_loss: 0.3735 - lr: 0.0100\n",
            "Epoch 236/500\n",
            "3/3 [==============================] - 0s 24ms/step - loss: 0.1167 - val_loss: 0.3718 - lr: 0.0100\n",
            "Epoch 237/500\n",
            "3/3 [==============================] - 0s 21ms/step - loss: 0.1162 - val_loss: 0.3700 - lr: 0.0100\n",
            "Epoch 238/500\n",
            "3/3 [==============================] - 0s 24ms/step - loss: 0.1157 - val_loss: 0.3684 - lr: 0.0100\n",
            "Epoch 239/500\n",
            "3/3 [==============================] - 0s 25ms/step - loss: 0.1151 - val_loss: 0.3666 - lr: 0.0100\n",
            "Epoch 240/500\n",
            "3/3 [==============================] - 0s 21ms/step - loss: 0.1146 - val_loss: 0.3649 - lr: 0.0100\n",
            "Epoch 241/500\n",
            "3/3 [==============================] - 0s 22ms/step - loss: 0.1141 - val_loss: 0.3632 - lr: 0.0100\n",
            "Epoch 242/500\n",
            "3/3 [==============================] - 0s 23ms/step - loss: 0.1136 - val_loss: 0.3615 - lr: 0.0100\n",
            "Epoch 243/500\n",
            "3/3 [==============================] - 0s 22ms/step - loss: 0.1131 - val_loss: 0.3599 - lr: 0.0100\n",
            "Epoch 244/500\n",
            "3/3 [==============================] - 0s 22ms/step - loss: 0.1126 - val_loss: 0.3583 - lr: 0.0100\n",
            "Epoch 245/500\n",
            "3/3 [==============================] - 0s 22ms/step - loss: 0.1121 - val_loss: 0.3568 - lr: 0.0100\n",
            "Epoch 246/500\n",
            "3/3 [==============================] - 0s 21ms/step - loss: 0.1117 - val_loss: 0.3554 - lr: 0.0100\n",
            "Epoch 247/500\n",
            "3/3 [==============================] - 0s 26ms/step - loss: 0.1112 - val_loss: 0.3538 - lr: 0.0100\n",
            "Epoch 248/500\n",
            "3/3 [==============================] - 0s 26ms/step - loss: 0.1107 - val_loss: 0.3524 - lr: 0.0100\n",
            "Epoch 249/500\n",
            "3/3 [==============================] - 0s 21ms/step - loss: 0.1102 - val_loss: 0.3509 - lr: 0.0100\n",
            "Epoch 250/500\n",
            "3/3 [==============================] - 0s 23ms/step - loss: 0.1098 - val_loss: 0.3495 - lr: 0.0100\n",
            "Epoch 251/500\n",
            "3/3 [==============================] - 0s 22ms/step - loss: 0.1093 - val_loss: 0.3480 - lr: 0.0100\n",
            "Epoch 252/500\n",
            "3/3 [==============================] - 0s 24ms/step - loss: 0.1089 - val_loss: 0.3465 - lr: 0.0100\n",
            "Epoch 253/500\n",
            "3/3 [==============================] - 0s 22ms/step - loss: 0.1084 - val_loss: 0.3450 - lr: 0.0100\n",
            "Epoch 254/500\n",
            "3/3 [==============================] - 0s 21ms/step - loss: 0.1080 - val_loss: 0.3437 - lr: 0.0100\n",
            "Epoch 255/500\n",
            "3/3 [==============================] - 0s 22ms/step - loss: 0.1076 - val_loss: 0.3422 - lr: 0.0100\n",
            "Epoch 256/500\n",
            "3/3 [==============================] - 0s 22ms/step - loss: 0.1071 - val_loss: 0.3407 - lr: 0.0100\n",
            "Epoch 257/500\n",
            "3/3 [==============================] - 0s 22ms/step - loss: 0.1067 - val_loss: 0.3393 - lr: 0.0100\n",
            "Epoch 258/500\n",
            "3/3 [==============================] - 0s 25ms/step - loss: 0.1063 - val_loss: 0.3380 - lr: 0.0100\n",
            "Epoch 259/500\n",
            "3/3 [==============================] - 0s 24ms/step - loss: 0.1059 - val_loss: 0.3367 - lr: 0.0100\n",
            "Epoch 260/500\n",
            "3/3 [==============================] - 0s 22ms/step - loss: 0.1055 - val_loss: 0.3354 - lr: 0.0100\n",
            "Epoch 261/500\n",
            "3/3 [==============================] - 0s 23ms/step - loss: 0.1051 - val_loss: 0.3341 - lr: 0.0100\n",
            "Epoch 262/500\n",
            "3/3 [==============================] - 0s 23ms/step - loss: 0.1047 - val_loss: 0.3328 - lr: 0.0100\n",
            "Epoch 263/500\n",
            "3/3 [==============================] - 0s 35ms/step - loss: 0.1043 - val_loss: 0.3315 - lr: 0.0100\n",
            "Epoch 264/500\n",
            "3/3 [==============================] - 0s 24ms/step - loss: 0.1039 - val_loss: 0.3303 - lr: 0.0100\n",
            "Epoch 265/500\n",
            "3/3 [==============================] - 0s 21ms/step - loss: 0.1035 - val_loss: 0.3290 - lr: 0.0100\n",
            "Epoch 266/500\n",
            "3/3 [==============================] - 0s 25ms/step - loss: 0.1031 - val_loss: 0.3277 - lr: 0.0100\n",
            "Epoch 267/500\n",
            "3/3 [==============================] - 0s 30ms/step - loss: 0.1027 - val_loss: 0.3264 - lr: 0.0100\n",
            "Epoch 268/500\n",
            "3/3 [==============================] - 0s 28ms/step - loss: 0.1023 - val_loss: 0.3251 - lr: 0.0100\n",
            "Epoch 269/500\n",
            "3/3 [==============================] - 0s 24ms/step - loss: 0.1019 - val_loss: 0.3239 - lr: 0.0100\n",
            "Epoch 270/500\n",
            "3/3 [==============================] - 0s 24ms/step - loss: 0.1015 - val_loss: 0.3225 - lr: 0.0100\n",
            "Epoch 271/500\n",
            "3/3 [==============================] - 0s 21ms/step - loss: 0.1011 - val_loss: 0.3212 - lr: 0.0100\n",
            "Epoch 272/500\n",
            "3/3 [==============================] - 0s 24ms/step - loss: 0.1008 - val_loss: 0.3200 - lr: 0.0100\n",
            "Epoch 273/500\n",
            "3/3 [==============================] - 0s 24ms/step - loss: 0.1004 - val_loss: 0.3188 - lr: 0.0100\n",
            "Epoch 274/500\n",
            "3/3 [==============================] - 0s 22ms/step - loss: 0.1000 - val_loss: 0.3176 - lr: 0.0100\n",
            "Epoch 275/500\n",
            "3/3 [==============================] - 0s 25ms/step - loss: 0.0996 - val_loss: 0.3165 - lr: 0.0100\n",
            "Epoch 276/500\n",
            "3/3 [==============================] - 0s 25ms/step - loss: 0.0993 - val_loss: 0.3154 - lr: 0.0100\n",
            "Epoch 277/500\n",
            "3/3 [==============================] - 0s 24ms/step - loss: 0.0989 - val_loss: 0.3143 - lr: 0.0100\n",
            "Epoch 278/500\n",
            "3/3 [==============================] - 0s 25ms/step - loss: 0.0985 - val_loss: 0.3131 - lr: 0.0100\n",
            "Epoch 279/500\n",
            "3/3 [==============================] - 0s 23ms/step - loss: 0.0982 - val_loss: 0.3119 - lr: 0.0100\n",
            "Epoch 280/500\n",
            "3/3 [==============================] - 0s 22ms/step - loss: 0.0978 - val_loss: 0.3108 - lr: 0.0100\n",
            "Epoch 281/500\n",
            "3/3 [==============================] - 0s 23ms/step - loss: 0.0975 - val_loss: 0.3095 - lr: 0.0100\n",
            "Epoch 282/500\n",
            "3/3 [==============================] - 0s 25ms/step - loss: 0.0971 - val_loss: 0.3085 - lr: 0.0100\n",
            "Epoch 283/500\n",
            "3/3 [==============================] - 0s 22ms/step - loss: 0.0968 - val_loss: 0.3073 - lr: 0.0100\n",
            "Epoch 284/500\n",
            "3/3 [==============================] - 0s 23ms/step - loss: 0.0964 - val_loss: 0.3062 - lr: 0.0100\n",
            "Epoch 285/500\n",
            "3/3 [==============================] - 0s 24ms/step - loss: 0.0961 - val_loss: 0.3051 - lr: 0.0100\n",
            "Epoch 286/500\n",
            "3/3 [==============================] - 0s 24ms/step - loss: 0.0958 - val_loss: 0.3039 - lr: 0.0100\n",
            "Epoch 287/500\n",
            "3/3 [==============================] - 0s 29ms/step - loss: 0.0954 - val_loss: 0.3028 - lr: 0.0100\n",
            "Epoch 288/500\n",
            "3/3 [==============================] - 0s 25ms/step - loss: 0.0951 - val_loss: 0.3017 - lr: 0.0100\n",
            "Epoch 289/500\n",
            "3/3 [==============================] - 0s 25ms/step - loss: 0.0948 - val_loss: 0.3006 - lr: 0.0100\n",
            "Epoch 290/500\n",
            "3/3 [==============================] - 0s 24ms/step - loss: 0.0945 - val_loss: 0.2995 - lr: 0.0100\n",
            "Epoch 291/500\n",
            "3/3 [==============================] - 0s 22ms/step - loss: 0.0942 - val_loss: 0.2984 - lr: 0.0100\n",
            "Epoch 292/500\n",
            "3/3 [==============================] - 0s 27ms/step - loss: 0.0939 - val_loss: 0.2974 - lr: 0.0100\n",
            "Epoch 293/500\n",
            "3/3 [==============================] - 0s 32ms/step - loss: 0.0936 - val_loss: 0.2963 - lr: 0.0100\n",
            "Epoch 294/500\n",
            "3/3 [==============================] - 0s 25ms/step - loss: 0.0933 - val_loss: 0.2952 - lr: 0.0100\n",
            "Epoch 295/500\n",
            "3/3 [==============================] - 0s 22ms/step - loss: 0.0930 - val_loss: 0.2942 - lr: 0.0100\n",
            "Epoch 296/500\n",
            "3/3 [==============================] - 0s 22ms/step - loss: 0.0927 - val_loss: 0.2932 - lr: 0.0100\n",
            "Epoch 297/500\n",
            "3/3 [==============================] - 0s 22ms/step - loss: 0.0924 - val_loss: 0.2922 - lr: 0.0100\n",
            "Epoch 298/500\n",
            "3/3 [==============================] - 0s 23ms/step - loss: 0.0921 - val_loss: 0.2912 - lr: 0.0100\n",
            "Epoch 299/500\n",
            "3/3 [==============================] - 0s 24ms/step - loss: 0.0918 - val_loss: 0.2901 - lr: 0.0100\n",
            "Epoch 300/500\n",
            "3/3 [==============================] - 0s 24ms/step - loss: 0.0916 - val_loss: 0.2892 - lr: 0.0100\n",
            "Epoch 301/500\n",
            "3/3 [==============================] - 0s 21ms/step - loss: 0.0913 - val_loss: 0.2881 - lr: 0.0100\n",
            "Epoch 302/500\n",
            "3/3 [==============================] - 0s 21ms/step - loss: 0.0910 - val_loss: 0.2871 - lr: 0.0100\n",
            "Epoch 303/500\n",
            "3/3 [==============================] - 0s 30ms/step - loss: 0.0907 - val_loss: 0.2861 - lr: 0.0100\n",
            "Epoch 304/500\n",
            "3/3 [==============================] - 0s 22ms/step - loss: 0.0905 - val_loss: 0.2852 - lr: 0.0100\n",
            "Epoch 305/500\n",
            "3/3 [==============================] - 0s 22ms/step - loss: 0.0902 - val_loss: 0.2844 - lr: 0.0100\n",
            "Epoch 306/500\n",
            "3/3 [==============================] - 0s 20ms/step - loss: 0.0899 - val_loss: 0.2834 - lr: 0.0100\n",
            "Epoch 307/500\n",
            "3/3 [==============================] - 0s 21ms/step - loss: 0.0897 - val_loss: 0.2825 - lr: 0.0100\n",
            "Epoch 308/500\n",
            "3/3 [==============================] - 0s 23ms/step - loss: 0.0894 - val_loss: 0.2817 - lr: 0.0100\n",
            "Epoch 309/500\n",
            "3/3 [==============================] - 0s 26ms/step - loss: 0.0891 - val_loss: 0.2808 - lr: 0.0100\n",
            "Epoch 310/500\n",
            "3/3 [==============================] - 0s 20ms/step - loss: 0.0889 - val_loss: 0.2800 - lr: 0.0100\n",
            "Epoch 311/500\n",
            "3/3 [==============================] - 0s 23ms/step - loss: 0.0886 - val_loss: 0.2792 - lr: 0.0100\n",
            "Epoch 312/500\n",
            "3/3 [==============================] - 0s 22ms/step - loss: 0.0884 - val_loss: 0.2783 - lr: 0.0100\n",
            "Epoch 313/500\n",
            "3/3 [==============================] - 0s 23ms/step - loss: 0.0881 - val_loss: 0.2775 - lr: 0.0100\n",
            "Epoch 314/500\n",
            "3/3 [==============================] - 0s 22ms/step - loss: 0.0879 - val_loss: 0.2767 - lr: 0.0100\n",
            "Epoch 315/500\n",
            "3/3 [==============================] - 0s 23ms/step - loss: 0.0876 - val_loss: 0.2758 - lr: 0.0100\n",
            "Epoch 316/500\n",
            "3/3 [==============================] - 0s 23ms/step - loss: 0.0874 - val_loss: 0.2749 - lr: 0.0100\n",
            "Epoch 317/500\n",
            "3/3 [==============================] - 0s 22ms/step - loss: 0.0871 - val_loss: 0.2740 - lr: 0.0100\n",
            "Epoch 318/500\n",
            "3/3 [==============================] - 0s 23ms/step - loss: 0.0868 - val_loss: 0.2731 - lr: 0.0100\n",
            "Epoch 319/500\n",
            "3/3 [==============================] - 0s 22ms/step - loss: 0.0866 - val_loss: 0.2724 - lr: 0.0100\n",
            "Epoch 320/500\n",
            "3/3 [==============================] - 0s 20ms/step - loss: 0.0864 - val_loss: 0.2715 - lr: 0.0100\n",
            "Epoch 321/500\n",
            "3/3 [==============================] - 0s 20ms/step - loss: 0.0861 - val_loss: 0.2707 - lr: 0.0100\n",
            "Epoch 322/500\n",
            "3/3 [==============================] - 0s 23ms/step - loss: 0.0859 - val_loss: 0.2698 - lr: 0.0100\n",
            "Epoch 323/500\n",
            "3/3 [==============================] - 0s 24ms/step - loss: 0.0856 - val_loss: 0.2690 - lr: 0.0100\n",
            "Epoch 324/500\n",
            "3/3 [==============================] - 0s 22ms/step - loss: 0.0854 - val_loss: 0.2682 - lr: 0.0100\n",
            "Epoch 325/500\n",
            "3/3 [==============================] - 0s 25ms/step - loss: 0.0852 - val_loss: 0.2674 - lr: 0.0100\n",
            "Epoch 326/500\n",
            "3/3 [==============================] - 0s 24ms/step - loss: 0.0849 - val_loss: 0.2666 - lr: 0.0100\n",
            "Epoch 327/500\n",
            "3/3 [==============================] - 0s 22ms/step - loss: 0.0847 - val_loss: 0.2658 - lr: 0.0100\n",
            "Epoch 328/500\n",
            "3/3 [==============================] - 0s 20ms/step - loss: 0.0844 - val_loss: 0.2649 - lr: 0.0100\n",
            "Epoch 329/500\n",
            "3/3 [==============================] - 0s 26ms/step - loss: 0.0842 - val_loss: 0.2641 - lr: 0.0100\n",
            "Epoch 330/500\n",
            "3/3 [==============================] - 0s 20ms/step - loss: 0.0840 - val_loss: 0.2633 - lr: 0.0100\n",
            "Epoch 331/500\n",
            "3/3 [==============================] - 0s 23ms/step - loss: 0.0837 - val_loss: 0.2625 - lr: 0.0100\n",
            "Epoch 332/500\n",
            "3/3 [==============================] - 0s 20ms/step - loss: 0.0835 - val_loss: 0.2617 - lr: 0.0100\n",
            "Epoch 333/500\n",
            "3/3 [==============================] - 0s 23ms/step - loss: 0.0833 - val_loss: 0.2609 - lr: 0.0100\n",
            "Epoch 334/500\n",
            "3/3 [==============================] - 0s 24ms/step - loss: 0.0831 - val_loss: 0.2601 - lr: 0.0100\n",
            "Epoch 335/500\n",
            "3/3 [==============================] - 0s 21ms/step - loss: 0.0828 - val_loss: 0.2593 - lr: 0.0100\n",
            "Epoch 336/500\n",
            "3/3 [==============================] - 0s 23ms/step - loss: 0.0826 - val_loss: 0.2585 - lr: 0.0100\n",
            "Epoch 337/500\n",
            "3/3 [==============================] - 0s 21ms/step - loss: 0.0824 - val_loss: 0.2577 - lr: 0.0100\n",
            "Epoch 338/500\n",
            "3/3 [==============================] - 0s 23ms/step - loss: 0.0822 - val_loss: 0.2569 - lr: 0.0100\n",
            "Epoch 339/500\n",
            "3/3 [==============================] - 0s 31ms/step - loss: 0.0820 - val_loss: 0.2561 - lr: 0.0100\n",
            "Epoch 340/500\n",
            "3/3 [==============================] - 0s 22ms/step - loss: 0.0817 - val_loss: 0.2553 - lr: 0.0100\n",
            "Epoch 341/500\n",
            "3/3 [==============================] - 0s 29ms/step - loss: 0.0815 - val_loss: 0.2545 - lr: 0.0100\n",
            "Epoch 342/500\n",
            "3/3 [==============================] - 0s 26ms/step - loss: 0.0813 - val_loss: 0.2537 - lr: 0.0100\n",
            "Epoch 343/500\n",
            "3/3 [==============================] - 0s 21ms/step - loss: 0.0811 - val_loss: 0.2529 - lr: 0.0100\n",
            "Epoch 344/500\n",
            "3/3 [==============================] - 0s 22ms/step - loss: 0.0809 - val_loss: 0.2522 - lr: 0.0100\n",
            "Epoch 345/500\n",
            "3/3 [==============================] - 0s 23ms/step - loss: 0.0807 - val_loss: 0.2514 - lr: 0.0100\n",
            "Epoch 346/500\n",
            "3/3 [==============================] - 0s 21ms/step - loss: 0.0805 - val_loss: 0.2506 - lr: 0.0100\n",
            "Epoch 347/500\n",
            "3/3 [==============================] - 0s 24ms/step - loss: 0.0803 - val_loss: 0.2499 - lr: 0.0100\n",
            "Epoch 348/500\n",
            "3/3 [==============================] - 0s 23ms/step - loss: 0.0801 - val_loss: 0.2491 - lr: 0.0100\n",
            "Epoch 349/500\n",
            "3/3 [==============================] - 0s 25ms/step - loss: 0.0799 - val_loss: 0.2483 - lr: 0.0100\n",
            "Epoch 350/500\n",
            "3/3 [==============================] - 0s 23ms/step - loss: 0.0796 - val_loss: 0.2476 - lr: 0.0100\n",
            "Epoch 351/500\n",
            "3/3 [==============================] - 0s 21ms/step - loss: 0.0795 - val_loss: 0.2468 - lr: 0.0100\n",
            "Epoch 352/500\n",
            "3/3 [==============================] - 0s 22ms/step - loss: 0.0793 - val_loss: 0.2461 - lr: 0.0100\n",
            "Epoch 353/500\n",
            "3/3 [==============================] - 0s 23ms/step - loss: 0.0791 - val_loss: 0.2454 - lr: 0.0100\n",
            "Epoch 354/500\n",
            "3/3 [==============================] - 0s 25ms/step - loss: 0.0789 - val_loss: 0.2447 - lr: 0.0100\n",
            "Epoch 355/500\n",
            "3/3 [==============================] - 0s 23ms/step - loss: 0.0787 - val_loss: 0.2440 - lr: 0.0100\n",
            "Epoch 356/500\n",
            "3/3 [==============================] - 0s 23ms/step - loss: 0.0785 - val_loss: 0.2432 - lr: 0.0100\n",
            "Epoch 357/500\n",
            "3/3 [==============================] - 0s 27ms/step - loss: 0.0783 - val_loss: 0.2425 - lr: 0.0100\n",
            "Epoch 358/500\n",
            "3/3 [==============================] - 0s 24ms/step - loss: 0.0781 - val_loss: 0.2418 - lr: 0.0100\n",
            "Epoch 359/500\n",
            "3/3 [==============================] - 0s 23ms/step - loss: 0.0780 - val_loss: 0.2411 - lr: 0.0100\n",
            "Epoch 360/500\n",
            "3/3 [==============================] - 0s 23ms/step - loss: 0.0778 - val_loss: 0.2404 - lr: 0.0100\n",
            "Epoch 361/500\n",
            "3/3 [==============================] - 0s 24ms/step - loss: 0.0776 - val_loss: 0.2396 - lr: 0.0100\n",
            "Epoch 362/500\n",
            "3/3 [==============================] - 0s 23ms/step - loss: 0.0774 - val_loss: 0.2390 - lr: 0.0100\n",
            "Epoch 363/500\n",
            "3/3 [==============================] - 0s 24ms/step - loss: 0.0773 - val_loss: 0.2382 - lr: 0.0100\n",
            "Epoch 364/500\n",
            "3/3 [==============================] - 0s 24ms/step - loss: 0.0771 - val_loss: 0.2376 - lr: 0.0100\n",
            "Epoch 365/500\n",
            "3/3 [==============================] - 0s 21ms/step - loss: 0.0769 - val_loss: 0.2369 - lr: 0.0100\n",
            "Epoch 366/500\n",
            "3/3 [==============================] - 0s 22ms/step - loss: 0.0768 - val_loss: 0.2363 - lr: 0.0100\n",
            "Epoch 367/500\n",
            "3/3 [==============================] - 0s 23ms/step - loss: 0.0766 - val_loss: 0.2356 - lr: 0.0100\n",
            "Epoch 368/500\n",
            "3/3 [==============================] - 0s 23ms/step - loss: 0.0765 - val_loss: 0.2350 - lr: 0.0100\n",
            "Epoch 369/500\n",
            "3/3 [==============================] - 0s 24ms/step - loss: 0.0763 - val_loss: 0.2344 - lr: 0.0100\n",
            "Epoch 370/500\n",
            "3/3 [==============================] - 0s 25ms/step - loss: 0.0761 - val_loss: 0.2338 - lr: 0.0100\n",
            "Epoch 371/500\n",
            "3/3 [==============================] - 0s 22ms/step - loss: 0.0760 - val_loss: 0.2332 - lr: 0.0100\n",
            "Epoch 372/500\n",
            "3/3 [==============================] - 0s 24ms/step - loss: 0.0758 - val_loss: 0.2325 - lr: 0.0100\n",
            "Epoch 373/500\n",
            "3/3 [==============================] - 0s 28ms/step - loss: 0.0757 - val_loss: 0.2320 - lr: 0.0100\n",
            "Epoch 374/500\n",
            "3/3 [==============================] - 0s 21ms/step - loss: 0.0755 - val_loss: 0.2314 - lr: 0.0100\n",
            "Epoch 375/500\n",
            "3/3 [==============================] - 0s 28ms/step - loss: 0.0754 - val_loss: 0.2308 - lr: 0.0100\n",
            "Epoch 376/500\n",
            "3/3 [==============================] - 0s 25ms/step - loss: 0.0752 - val_loss: 0.2303 - lr: 0.0100\n",
            "Epoch 377/500\n",
            "3/3 [==============================] - 0s 21ms/step - loss: 0.0751 - val_loss: 0.2297 - lr: 0.0100\n",
            "Epoch 378/500\n",
            "3/3 [==============================] - 0s 22ms/step - loss: 0.0749 - val_loss: 0.2292 - lr: 0.0100\n",
            "Epoch 379/500\n",
            "3/3 [==============================] - 0s 23ms/step - loss: 0.0748 - val_loss: 0.2286 - lr: 0.0100\n",
            "Epoch 380/500\n",
            "3/3 [==============================] - 0s 21ms/step - loss: 0.0746 - val_loss: 0.2280 - lr: 0.0100\n",
            "Epoch 381/500\n",
            "3/3 [==============================] - 0s 20ms/step - loss: 0.0745 - val_loss: 0.2274 - lr: 0.0100\n",
            "Epoch 382/500\n",
            "3/3 [==============================] - 0s 22ms/step - loss: 0.0743 - val_loss: 0.2269 - lr: 0.0100\n",
            "Epoch 383/500\n",
            "3/3 [==============================] - 0s 21ms/step - loss: 0.0742 - val_loss: 0.2263 - lr: 0.0100\n",
            "Epoch 384/500\n",
            "3/3 [==============================] - 0s 22ms/step - loss: 0.0741 - val_loss: 0.2258 - lr: 0.0100\n",
            "Epoch 385/500\n",
            "3/3 [==============================] - 0s 25ms/step - loss: 0.0739 - val_loss: 0.2253 - lr: 0.0100\n",
            "Epoch 386/500\n",
            "3/3 [==============================] - 0s 22ms/step - loss: 0.0738 - val_loss: 0.2247 - lr: 0.0100\n",
            "Epoch 387/500\n",
            "3/3 [==============================] - 0s 25ms/step - loss: 0.0736 - val_loss: 0.2242 - lr: 0.0100\n",
            "Epoch 388/500\n",
            "3/3 [==============================] - 0s 20ms/step - loss: 0.0735 - val_loss: 0.2237 - lr: 0.0100\n",
            "Epoch 389/500\n",
            "3/3 [==============================] - 0s 21ms/step - loss: 0.0733 - val_loss: 0.2231 - lr: 0.0100\n",
            "Epoch 390/500\n",
            "3/3 [==============================] - 0s 26ms/step - loss: 0.0732 - val_loss: 0.2226 - lr: 0.0100\n",
            "Epoch 391/500\n",
            "3/3 [==============================] - 0s 21ms/step - loss: 0.0731 - val_loss: 0.2221 - lr: 0.0100\n",
            "Epoch 392/500\n",
            "3/3 [==============================] - 0s 23ms/step - loss: 0.0729 - val_loss: 0.2215 - lr: 0.0100\n",
            "Epoch 393/500\n",
            "3/3 [==============================] - 0s 24ms/step - loss: 0.0728 - val_loss: 0.2211 - lr: 0.0100\n",
            "Epoch 394/500\n",
            "3/3 [==============================] - 0s 27ms/step - loss: 0.0726 - val_loss: 0.2205 - lr: 0.0100\n",
            "Epoch 395/500\n",
            "3/3 [==============================] - 0s 33ms/step - loss: 0.0725 - val_loss: 0.2200 - lr: 0.0100\n",
            "Epoch 396/500\n",
            "3/3 [==============================] - 0s 24ms/step - loss: 0.0724 - val_loss: 0.2194 - lr: 0.0100\n",
            "Epoch 397/500\n",
            "3/3 [==============================] - 0s 20ms/step - loss: 0.0722 - val_loss: 0.2189 - lr: 0.0100\n",
            "Epoch 398/500\n",
            "3/3 [==============================] - 0s 21ms/step - loss: 0.0721 - val_loss: 0.2183 - lr: 0.0100\n",
            "Epoch 399/500\n",
            "3/3 [==============================] - 0s 21ms/step - loss: 0.0719 - val_loss: 0.2178 - lr: 0.0100\n",
            "Epoch 400/500\n",
            "3/3 [==============================] - 0s 22ms/step - loss: 0.0718 - val_loss: 0.2172 - lr: 0.0100\n",
            "Epoch 401/500\n",
            "3/3 [==============================] - 0s 24ms/step - loss: 0.0716 - val_loss: 0.2166 - lr: 0.0100\n",
            "Epoch 402/500\n",
            "3/3 [==============================] - 0s 23ms/step - loss: 0.0715 - val_loss: 0.2160 - lr: 0.0100\n",
            "Epoch 403/500\n",
            "3/3 [==============================] - 0s 23ms/step - loss: 0.0714 - val_loss: 0.2154 - lr: 0.0100\n",
            "Epoch 404/500\n",
            "3/3 [==============================] - 0s 22ms/step - loss: 0.0712 - val_loss: 0.2149 - lr: 0.0100\n",
            "Epoch 405/500\n",
            "3/3 [==============================] - 0s 22ms/step - loss: 0.0711 - val_loss: 0.2144 - lr: 0.0100\n",
            "Epoch 406/500\n",
            "3/3 [==============================] - 0s 24ms/step - loss: 0.0710 - val_loss: 0.2138 - lr: 0.0100\n",
            "Epoch 407/500\n",
            "3/3 [==============================] - 0s 24ms/step - loss: 0.0708 - val_loss: 0.2133 - lr: 0.0100\n",
            "Epoch 408/500\n",
            "3/3 [==============================] - 0s 24ms/step - loss: 0.0707 - val_loss: 0.2128 - lr: 0.0100\n",
            "Epoch 409/500\n",
            "3/3 [==============================] - 0s 25ms/step - loss: 0.0706 - val_loss: 0.2123 - lr: 0.0100\n",
            "Epoch 410/500\n",
            "3/3 [==============================] - 0s 22ms/step - loss: 0.0704 - val_loss: 0.2118 - lr: 0.0100\n",
            "Epoch 411/500\n",
            "3/3 [==============================] - 0s 22ms/step - loss: 0.0703 - val_loss: 0.2111 - lr: 0.0100\n",
            "Epoch 412/500\n",
            "3/3 [==============================] - 0s 21ms/step - loss: 0.0702 - val_loss: 0.2106 - lr: 0.0100\n",
            "Epoch 413/500\n",
            "3/3 [==============================] - 0s 21ms/step - loss: 0.0700 - val_loss: 0.2101 - lr: 0.0100\n",
            "Epoch 414/500\n",
            "3/3 [==============================] - 0s 23ms/step - loss: 0.0699 - val_loss: 0.2096 - lr: 0.0100\n",
            "Epoch 415/500\n",
            "3/3 [==============================] - 0s 22ms/step - loss: 0.0698 - val_loss: 0.2090 - lr: 0.0100\n",
            "Epoch 416/500\n",
            "3/3 [==============================] - 0s 25ms/step - loss: 0.0696 - val_loss: 0.2086 - lr: 0.0100\n",
            "Epoch 417/500\n",
            "3/3 [==============================] - 0s 22ms/step - loss: 0.0695 - val_loss: 0.2081 - lr: 0.0100\n",
            "Epoch 418/500\n",
            "3/3 [==============================] - 0s 22ms/step - loss: 0.0694 - val_loss: 0.2076 - lr: 0.0100\n",
            "Epoch 419/500\n",
            "3/3 [==============================] - 0s 22ms/step - loss: 0.0692 - val_loss: 0.2070 - lr: 0.0100\n",
            "Epoch 420/500\n",
            "3/3 [==============================] - 0s 22ms/step - loss: 0.0691 - val_loss: 0.2065 - lr: 0.0100\n",
            "Epoch 421/500\n",
            "3/3 [==============================] - 0s 21ms/step - loss: 0.0690 - val_loss: 0.2061 - lr: 0.0100\n",
            "Epoch 422/500\n",
            "3/3 [==============================] - 0s 21ms/step - loss: 0.0689 - val_loss: 0.2055 - lr: 0.0100\n",
            "Epoch 423/500\n",
            "3/3 [==============================] - 0s 28ms/step - loss: 0.0687 - val_loss: 0.2051 - lr: 0.0100\n",
            "Epoch 424/500\n",
            "3/3 [==============================] - 0s 24ms/step - loss: 0.0686 - val_loss: 0.2046 - lr: 0.0100\n",
            "Epoch 425/500\n",
            "3/3 [==============================] - 0s 24ms/step - loss: 0.0685 - val_loss: 0.2041 - lr: 0.0100\n",
            "Epoch 426/500\n",
            "3/3 [==============================] - 0s 21ms/step - loss: 0.0684 - val_loss: 0.2035 - lr: 0.0100\n",
            "Epoch 427/500\n",
            "3/3 [==============================] - 0s 31ms/step - loss: 0.0682 - val_loss: 0.2030 - lr: 0.0100\n",
            "Epoch 428/500\n",
            "3/3 [==============================] - 0s 21ms/step - loss: 0.0681 - val_loss: 0.2026 - lr: 0.0100\n",
            "Epoch 429/500\n",
            "3/3 [==============================] - 0s 22ms/step - loss: 0.0680 - val_loss: 0.2021 - lr: 0.0100\n",
            "Epoch 430/500\n",
            "3/3 [==============================] - 0s 22ms/step - loss: 0.0679 - val_loss: 0.2016 - lr: 0.0100\n",
            "Epoch 431/500\n",
            "3/3 [==============================] - 0s 24ms/step - loss: 0.0677 - val_loss: 0.2011 - lr: 0.0100\n",
            "Epoch 432/500\n",
            "3/3 [==============================] - 0s 22ms/step - loss: 0.0676 - val_loss: 0.2006 - lr: 0.0100\n",
            "Epoch 433/500\n",
            "3/3 [==============================] - 0s 22ms/step - loss: 0.0675 - val_loss: 0.2001 - lr: 0.0100\n",
            "Epoch 434/500\n",
            "3/3 [==============================] - 0s 21ms/step - loss: 0.0674 - val_loss: 0.1995 - lr: 0.0100\n",
            "Epoch 435/500\n",
            "3/3 [==============================] - 0s 23ms/step - loss: 0.0673 - val_loss: 0.1990 - lr: 0.0100\n",
            "Epoch 436/500\n",
            "3/3 [==============================] - 0s 22ms/step - loss: 0.0672 - val_loss: 0.1984 - lr: 0.0100\n",
            "Epoch 437/500\n",
            "3/3 [==============================] - 0s 25ms/step - loss: 0.0670 - val_loss: 0.1980 - lr: 0.0100\n",
            "Epoch 438/500\n",
            "3/3 [==============================] - 0s 27ms/step - loss: 0.0669 - val_loss: 0.1975 - lr: 0.0100\n",
            "Epoch 439/500\n",
            "3/3 [==============================] - 0s 23ms/step - loss: 0.0668 - val_loss: 0.1971 - lr: 0.0100\n",
            "Epoch 440/500\n",
            "3/3 [==============================] - 0s 23ms/step - loss: 0.0667 - val_loss: 0.1966 - lr: 0.0100\n",
            "Epoch 441/500\n",
            "3/3 [==============================] - 0s 25ms/step - loss: 0.0665 - val_loss: 0.1962 - lr: 0.0100\n",
            "Epoch 442/500\n",
            "3/3 [==============================] - 0s 25ms/step - loss: 0.0664 - val_loss: 0.1957 - lr: 0.0100\n",
            "Epoch 443/500\n",
            "3/3 [==============================] - 0s 22ms/step - loss: 0.0663 - val_loss: 0.1953 - lr: 0.0100\n",
            "Epoch 444/500\n",
            "3/3 [==============================] - 0s 23ms/step - loss: 0.0662 - val_loss: 0.1948 - lr: 0.0100\n",
            "Epoch 445/500\n",
            "3/3 [==============================] - 0s 21ms/step - loss: 0.0661 - val_loss: 0.1944 - lr: 0.0100\n",
            "Epoch 446/500\n",
            "3/3 [==============================] - 0s 22ms/step - loss: 0.0660 - val_loss: 0.1939 - lr: 0.0100\n",
            "Epoch 447/500\n",
            "3/3 [==============================] - 0s 21ms/step - loss: 0.0658 - val_loss: 0.1934 - lr: 0.0100\n",
            "Epoch 448/500\n",
            "3/3 [==============================] - 0s 24ms/step - loss: 0.0657 - val_loss: 0.1929 - lr: 0.0100\n",
            "Epoch 449/500\n",
            "3/3 [==============================] - 0s 22ms/step - loss: 0.0656 - val_loss: 0.1924 - lr: 0.0100\n",
            "Epoch 450/500\n",
            "3/3 [==============================] - 0s 27ms/step - loss: 0.0655 - val_loss: 0.1920 - lr: 0.0100\n",
            "Epoch 451/500\n",
            "3/3 [==============================] - 0s 21ms/step - loss: 0.0654 - val_loss: 0.1915 - lr: 0.0100\n",
            "Epoch 452/500\n",
            "3/3 [==============================] - 0s 21ms/step - loss: 0.0652 - val_loss: 0.1910 - lr: 0.0100\n",
            "Epoch 453/500\n",
            "3/3 [==============================] - 0s 24ms/step - loss: 0.0651 - val_loss: 0.1906 - lr: 0.0100\n",
            "Epoch 454/500\n",
            "3/3 [==============================] - 0s 23ms/step - loss: 0.0650 - val_loss: 0.1901 - lr: 0.0100\n",
            "Epoch 455/500\n",
            "3/3 [==============================] - 0s 33ms/step - loss: 0.0649 - val_loss: 0.1897 - lr: 0.0100\n",
            "Epoch 456/500\n",
            "3/3 [==============================] - 0s 22ms/step - loss: 0.0648 - val_loss: 0.1892 - lr: 0.0100\n",
            "Epoch 457/500\n",
            "3/3 [==============================] - 0s 24ms/step - loss: 0.0646 - val_loss: 0.1887 - lr: 0.0100\n",
            "Epoch 458/500\n",
            "3/3 [==============================] - 0s 26ms/step - loss: 0.0645 - val_loss: 0.1881 - lr: 0.0100\n",
            "Epoch 459/500\n",
            "3/3 [==============================] - 0s 22ms/step - loss: 0.0644 - val_loss: 0.1878 - lr: 0.0100\n",
            "Epoch 460/500\n",
            "3/3 [==============================] - 0s 24ms/step - loss: 0.0643 - val_loss: 0.1874 - lr: 0.0100\n",
            "Epoch 461/500\n",
            "3/3 [==============================] - 0s 23ms/step - loss: 0.0642 - val_loss: 0.1869 - lr: 0.0100\n",
            "Epoch 462/500\n",
            "3/3 [==============================] - 0s 23ms/step - loss: 0.0641 - val_loss: 0.1864 - lr: 0.0100\n",
            "Epoch 463/500\n",
            "3/3 [==============================] - 0s 25ms/step - loss: 0.0639 - val_loss: 0.1859 - lr: 0.0100\n",
            "Epoch 464/500\n",
            "3/3 [==============================] - 0s 25ms/step - loss: 0.0638 - val_loss: 0.1854 - lr: 0.0100\n",
            "Epoch 465/500\n",
            "3/3 [==============================] - 0s 22ms/step - loss: 0.0637 - val_loss: 0.1850 - lr: 0.0100\n",
            "Epoch 466/500\n",
            "3/3 [==============================] - 0s 21ms/step - loss: 0.0636 - val_loss: 0.1845 - lr: 0.0100\n",
            "Epoch 467/500\n",
            "3/3 [==============================] - 0s 21ms/step - loss: 0.0635 - val_loss: 0.1841 - lr: 0.0100\n",
            "Epoch 468/500\n",
            "3/3 [==============================] - 0s 23ms/step - loss: 0.0633 - val_loss: 0.1836 - lr: 0.0100\n",
            "Epoch 469/500\n",
            "3/3 [==============================] - 0s 28ms/step - loss: 0.0632 - val_loss: 0.1832 - lr: 0.0100\n",
            "Epoch 470/500\n",
            "3/3 [==============================] - 0s 25ms/step - loss: 0.0631 - val_loss: 0.1827 - lr: 0.0100\n",
            "Epoch 471/500\n",
            "3/3 [==============================] - 0s 21ms/step - loss: 0.0630 - val_loss: 0.1822 - lr: 0.0100\n",
            "Epoch 472/500\n",
            "3/3 [==============================] - 0s 23ms/step - loss: 0.0629 - val_loss: 0.1816 - lr: 0.0100\n",
            "Epoch 473/500\n",
            "3/3 [==============================] - 0s 21ms/step - loss: 0.0627 - val_loss: 0.1811 - lr: 0.0100\n",
            "Epoch 474/500\n",
            "3/3 [==============================] - 0s 21ms/step - loss: 0.0626 - val_loss: 0.1806 - lr: 0.0100\n",
            "Epoch 475/500\n",
            "3/3 [==============================] - 0s 23ms/step - loss: 0.0625 - val_loss: 0.1801 - lr: 0.0100\n",
            "Epoch 476/500\n",
            "3/3 [==============================] - 0s 25ms/step - loss: 0.0624 - val_loss: 0.1796 - lr: 0.0100\n",
            "Epoch 477/500\n",
            "3/3 [==============================] - 0s 22ms/step - loss: 0.0623 - val_loss: 0.1792 - lr: 0.0100\n",
            "Epoch 478/500\n",
            "3/3 [==============================] - 0s 24ms/step - loss: 0.0621 - val_loss: 0.1788 - lr: 0.0100\n",
            "Epoch 479/500\n",
            "3/3 [==============================] - 0s 24ms/step - loss: 0.0620 - val_loss: 0.1783 - lr: 0.0100\n",
            "Epoch 480/500\n",
            "3/3 [==============================] - 0s 24ms/step - loss: 0.0619 - val_loss: 0.1780 - lr: 0.0100\n",
            "Epoch 481/500\n",
            "3/3 [==============================] - 0s 23ms/step - loss: 0.0618 - val_loss: 0.1776 - lr: 0.0100\n",
            "Epoch 482/500\n",
            "3/3 [==============================] - 0s 25ms/step - loss: 0.0617 - val_loss: 0.1771 - lr: 0.0100\n",
            "Epoch 483/500\n",
            "3/3 [==============================] - 0s 26ms/step - loss: 0.0615 - val_loss: 0.1768 - lr: 0.0100\n",
            "Epoch 484/500\n",
            "3/3 [==============================] - 0s 23ms/step - loss: 0.0614 - val_loss: 0.1762 - lr: 0.0100\n",
            "Epoch 485/500\n",
            "3/3 [==============================] - 0s 32ms/step - loss: 0.0613 - val_loss: 0.1758 - lr: 0.0100\n",
            "Epoch 486/500\n",
            "3/3 [==============================] - 0s 22ms/step - loss: 0.0612 - val_loss: 0.1753 - lr: 0.0100\n",
            "Epoch 487/500\n",
            "3/3 [==============================] - 0s 23ms/step - loss: 0.0611 - val_loss: 0.1749 - lr: 0.0100\n",
            "Epoch 488/500\n",
            "3/3 [==============================] - 0s 28ms/step - loss: 0.0609 - val_loss: 0.1745 - lr: 0.0100\n",
            "Epoch 489/500\n",
            "3/3 [==============================] - 0s 21ms/step - loss: 0.0608 - val_loss: 0.1741 - lr: 0.0100\n",
            "Epoch 490/500\n",
            "3/3 [==============================] - 0s 26ms/step - loss: 0.0607 - val_loss: 0.1737 - lr: 0.0100\n",
            "Epoch 491/500\n",
            "3/3 [==============================] - 0s 22ms/step - loss: 0.0606 - val_loss: 0.1734 - lr: 0.0100\n",
            "Epoch 492/500\n",
            "3/3 [==============================] - 0s 22ms/step - loss: 0.0605 - val_loss: 0.1729 - lr: 0.0100\n",
            "Epoch 493/500\n",
            "3/3 [==============================] - 0s 25ms/step - loss: 0.0603 - val_loss: 0.1724 - lr: 0.0100\n",
            "Epoch 494/500\n",
            "3/3 [==============================] - 0s 24ms/step - loss: 0.0602 - val_loss: 0.1719 - lr: 0.0100\n",
            "Epoch 495/500\n",
            "3/3 [==============================] - 0s 24ms/step - loss: 0.0601 - val_loss: 0.1713 - lr: 0.0100\n",
            "Epoch 496/500\n",
            "3/3 [==============================] - 0s 24ms/step - loss: 0.0600 - val_loss: 0.1709 - lr: 0.0100\n",
            "Epoch 497/500\n",
            "3/3 [==============================] - 0s 25ms/step - loss: 0.0599 - val_loss: 0.1704 - lr: 0.0100\n",
            "Epoch 498/500\n",
            "3/3 [==============================] - 0s 24ms/step - loss: 0.0597 - val_loss: 0.1700 - lr: 0.0100\n",
            "Epoch 499/500\n",
            "3/3 [==============================] - 0s 24ms/step - loss: 0.0596 - val_loss: 0.1696 - lr: 0.0100\n",
            "Epoch 500/500\n",
            "3/3 [==============================] - 0s 40ms/step - loss: 0.0595 - val_loss: 0.1690 - lr: 0.0100\n",
            "mae: tf.Tensor(0.22880661, shape=(), dtype=float32)\n",
            "mse: tf.Tensor(0.10613972, shape=(), dtype=float32)\n",
            "mape: tf.Tensor(19.105291, shape=(), dtype=float32)\n"
          ]
        },
        {
          "output_type": "display_data",
          "data": {
            "image/png": "[encoded data removed]",
            "text/plain": [
              "<Figure size 432x288 with 1 Axes>"
            ]
          },
          "metadata": {
            "needs_background": "light"
          }
        }
      ],
      "source": [
        "model_cnn = Sequential()\n",
        "model_cnn.add(Conv1D(filters=15, kernel_size=2, activation='relu', input_shape=(LOOK_BACK, n_features)))\n",
        "model_cnn.add(MaxPooling1D(pool_size=2))\n",
        "model_cnn.add(Flatten())\n",
        "model_cnn.add(RepeatVector(FORECAST_RANGE))\n",
        "model_cnn.add(LSTM(60, activation='relu', return_sequences=True))\n",
        "model_cnn.add(TimeDistributed(Dense(100, activation='relu')))\n",
        "model_cnn.add(TimeDistributed(Dense(n_features)))\n",
        "model_cnn.compile(loss='mae', optimizer='sgd')\n",
        "plot_model(model=model_cnn, show_shapes=True)\n",
        "history = model_cnn.fit(X_train, y_train, epochs=epochs, batch_size=batch_size, validation_split=validation,callbacks=[checkpoint_callback, rlrop_callback])\n",
        "yhat = model_cnn.predict(X_test, verbose=0)\n",
        "yhat_inverse, y_test_inverse = inverse_transform(y_test, yhat)\n",
        "evaluate_forecast(y_test, yhat)\n",
        "pyplot.plot(history.history['loss'], label='train')\n",
        "pyplot.plot(history.history['val_loss'], label='test')\n",
        "pyplot.legend()\n",
        "pyplot.show()"
      ]
    },
    {
      "cell_type": "code",
      "execution_count": 23,
      "metadata": {
        "id": "qTCkKScaM-L_"
      },
      "outputs": [],
      "source": [
        "#model_enc_dec.save_weights('mae0punto121.h5') 0.1322 con una ventana"
      ]
    },
    {
      "cell_type": "code",
      "execution_count": 24,
      "metadata": {
        "id": "g3ajU8B0MMz3"
      },
      "outputs": [],
      "source": [
        "batch_size = 64\n",
        "buffer_size = 75\n",
        "train_data = tf.data.Dataset.from_tensor_slices((X_train, y_train))\n",
        "train_data = train_data.cache().shuffle(buffer_size).batch(batch_size).repeat()\n",
        "val_data = tf.data.Dataset.from_tensor_slices((X_test, y_test))\n",
        "val_data = val_data.batch(batch_size).repeat() "
      ]
    },
    {
      "cell_type": "code",
      "execution_count": 25,
      "metadata": {
        "id": "ARNZYvBPXmEv",
        "colab": {
          "base_uri": "https://localhost:8080/",
          "height": 1000
        },
        "outputId": "0ba6c125-4d48-4419-f1fa-badfe498495e"
      },
      "outputs": [
        {
          "output_type": "stream",
          "name": "stdout",
          "text": [
            "Epoch 1/400\n",
            "100/100 [==============================] - 3s 10ms/step - loss: 0.1138 - val_loss: 0.2250 - lr: 0.0010\n",
            "Epoch 2/400\n",
            "100/100 [==============================] - 1s 7ms/step - loss: 0.0463 - val_loss: 0.1952 - lr: 0.0010\n",
            "Epoch 3/400\n",
            "100/100 [==============================] - 1s 6ms/step - loss: 0.0376 - val_loss: 0.1748 - lr: 0.0010\n",
            "Epoch 4/400\n",
            "100/100 [==============================] - 1s 6ms/step - loss: 0.0343 - val_loss: 0.1714 - lr: 0.0010\n",
            "Epoch 5/400\n",
            "100/100 [==============================] - 1s 6ms/step - loss: 0.0320 - val_loss: 0.1556 - lr: 0.0010\n",
            "Epoch 6/400\n",
            "100/100 [==============================] - 1s 6ms/step - loss: 0.0313 - val_loss: 0.1468 - lr: 0.0010\n",
            "Epoch 7/400\n",
            "100/100 [==============================] - 1s 6ms/step - loss: 0.0286 - val_loss: 0.1569 - lr: 0.0010\n",
            "Epoch 8/400\n",
            "100/100 [==============================] - 1s 7ms/step - loss: 0.0282 - val_loss: 0.1426 - lr: 0.0010\n",
            "Epoch 9/400\n",
            "100/100 [==============================] - 1s 6ms/step - loss: 0.0284 - val_loss: 0.1455 - lr: 0.0010\n",
            "Epoch 10/400\n",
            "100/100 [==============================] - 1s 6ms/step - loss: 0.0262 - val_loss: 0.1567 - lr: 0.0010\n",
            "Epoch 11/400\n",
            "100/100 [==============================] - 1s 6ms/step - loss: 0.0266 - val_loss: 0.1488 - lr: 0.0010\n",
            "Epoch 12/400\n",
            "100/100 [==============================] - 1s 6ms/step - loss: 0.0241 - val_loss: 0.1427 - lr: 1.0000e-04\n",
            "Epoch 13/400\n",
            "100/100 [==============================] - 1s 6ms/step - loss: 0.0232 - val_loss: 0.1429 - lr: 1.0000e-04\n",
            "Epoch 14/400\n",
            "100/100 [==============================] - 1s 6ms/step - loss: 0.0233 - val_loss: 0.1423 - lr: 1.0000e-04\n",
            "Epoch 15/400\n",
            "100/100 [==============================] - 1s 7ms/step - loss: 0.0236 - val_loss: 0.1419 - lr: 1.0000e-04\n",
            "Epoch 16/400\n",
            "100/100 [==============================] - 1s 7ms/step - loss: 0.0230 - val_loss: 0.1418 - lr: 1.0000e-04\n",
            "Epoch 17/400\n",
            "100/100 [==============================] - 1s 6ms/step - loss: 0.0231 - val_loss: 0.1418 - lr: 1.0000e-04\n",
            "Epoch 18/400\n",
            "100/100 [==============================] - 1s 6ms/step - loss: 0.0234 - val_loss: 0.1411 - lr: 1.0000e-04\n",
            "Epoch 19/400\n",
            "100/100 [==============================] - 1s 6ms/step - loss: 0.0228 - val_loss: 0.1412 - lr: 1.0000e-04\n",
            "Epoch 20/400\n",
            "100/100 [==============================] - 1s 6ms/step - loss: 0.0229 - val_loss: 0.1414 - lr: 1.0000e-04\n",
            "Epoch 21/400\n",
            "100/100 [==============================] - 1s 6ms/step - loss: 0.0232 - val_loss: 0.1409 - lr: 1.0000e-04\n",
            "Epoch 22/400\n",
            "100/100 [==============================] - 1s 6ms/step - loss: 0.0227 - val_loss: 0.1406 - lr: 1.0000e-04\n",
            "Epoch 23/400\n",
            "100/100 [==============================] - 1s 6ms/step - loss: 0.0227 - val_loss: 0.1399 - lr: 1.0000e-04\n",
            "Epoch 24/400\n",
            "100/100 [==============================] - 1s 7ms/step - loss: 0.0230 - val_loss: 0.1402 - lr: 1.0000e-04\n",
            "Epoch 25/400\n",
            "100/100 [==============================] - 1s 6ms/step - loss: 0.0225 - val_loss: 0.1402 - lr: 1.0000e-04\n",
            "Epoch 26/400\n",
            "100/100 [==============================] - 1s 6ms/step - loss: 0.0225 - val_loss: 0.1401 - lr: 1.0000e-04\n",
            "Epoch 27/400\n",
            "100/100 [==============================] - 1s 6ms/step - loss: 0.0229 - val_loss: 0.1404 - lr: 1.0000e-04\n",
            "Epoch 28/400\n",
            "100/100 [==============================] - 1s 6ms/step - loss: 0.0222 - val_loss: 0.1398 - lr: 1.0000e-04\n",
            "Epoch 29/400\n",
            "100/100 [==============================] - 1s 6ms/step - loss: 0.0224 - val_loss: 0.1401 - lr: 1.0000e-04\n",
            "Epoch 30/400\n",
            "100/100 [==============================] - 1s 7ms/step - loss: 0.0227 - val_loss: 0.1400 - lr: 1.0000e-04\n",
            "Epoch 31/400\n",
            "100/100 [==============================] - 1s 7ms/step - loss: 0.0221 - val_loss: 0.1402 - lr: 1.0000e-04\n",
            "Epoch 32/400\n",
            "100/100 [==============================] - 1s 7ms/step - loss: 0.0221 - val_loss: 0.1392 - lr: 1.0000e-04\n",
            "Epoch 33/400\n",
            "100/100 [==============================] - 1s 6ms/step - loss: 0.0225 - val_loss: 0.1397 - lr: 1.0000e-04\n",
            "Epoch 34/400\n",
            "100/100 [==============================] - 1s 6ms/step - loss: 0.0219 - val_loss: 0.1398 - lr: 1.0000e-04\n",
            "Epoch 35/400\n",
            "100/100 [==============================] - 1s 6ms/step - loss: 0.0220 - val_loss: 0.1389 - lr: 1.0000e-04\n",
            "Epoch 36/400\n",
            "100/100 [==============================] - 1s 6ms/step - loss: 0.0223 - val_loss: 0.1396 - lr: 1.0000e-04\n",
            "Epoch 37/400\n",
            "100/100 [==============================] - 1s 6ms/step - loss: 0.0217 - val_loss: 0.1391 - lr: 1.0000e-04\n",
            "Epoch 38/400\n",
            "100/100 [==============================] - 1s 6ms/step - loss: 0.0218 - val_loss: 0.1390 - lr: 1.0000e-04\n",
            "Epoch 39/400\n",
            "100/100 [==============================] - 1s 6ms/step - loss: 0.0221 - val_loss: 0.1390 - lr: 1.0000e-04\n",
            "Epoch 40/400\n",
            "100/100 [==============================] - 1s 6ms/step - loss: 0.0215 - val_loss: 0.1386 - lr: 1.0000e-04\n",
            "Epoch 41/400\n",
            "100/100 [==============================] - 1s 6ms/step - loss: 0.0216 - val_loss: 0.1392 - lr: 1.0000e-04\n",
            "Epoch 42/400\n",
            "100/100 [==============================] - 1s 6ms/step - loss: 0.0219 - val_loss: 0.1388 - lr: 1.0000e-04\n",
            "Epoch 43/400\n",
            "100/100 [==============================] - 1s 6ms/step - loss: 0.0214 - val_loss: 0.1386 - lr: 1.0000e-04\n",
            "Epoch 44/400\n",
            "100/100 [==============================] - 1s 6ms/step - loss: 0.0215 - val_loss: 0.1387 - lr: 1.0000e-04\n",
            "Epoch 45/400\n",
            "100/100 [==============================] - 1s 6ms/step - loss: 0.0218 - val_loss: 0.1383 - lr: 1.0000e-04\n",
            "Epoch 46/400\n",
            "100/100 [==============================] - 1s 6ms/step - loss: 0.0212 - val_loss: 0.1390 - lr: 1.0000e-04\n",
            "Epoch 47/400\n",
            "100/100 [==============================] - 1s 6ms/step - loss: 0.0213 - val_loss: 0.1390 - lr: 1.0000e-04\n",
            "Epoch 48/400\n",
            "100/100 [==============================] - 1s 6ms/step - loss: 0.0216 - val_loss: 0.1396 - lr: 1.0000e-04\n",
            "Epoch 49/400\n",
            "100/100 [==============================] - 1s 6ms/step - loss: 0.0211 - val_loss: 0.1398 - lr: 1.0000e-04\n",
            "Epoch 50/400\n",
            "100/100 [==============================] - 1s 6ms/step - loss: 0.0212 - val_loss: 0.1407 - lr: 1.0000e-04\n",
            "Epoch 51/400\n",
            "100/100 [==============================] - 1s 6ms/step - loss: 0.0215 - val_loss: 0.1404 - lr: 1.0000e-04\n",
            "Epoch 52/400\n",
            "100/100 [==============================] - 1s 7ms/step - loss: 0.0210 - val_loss: 0.1406 - lr: 1.0000e-04\n",
            "Epoch 53/400\n",
            "100/100 [==============================] - 1s 6ms/step - loss: 0.0210 - val_loss: 0.1411 - lr: 1.0000e-04\n",
            "Epoch 54/400\n",
            "100/100 [==============================] - 1s 6ms/step - loss: 0.0213 - val_loss: 0.1414 - lr: 1.0000e-04\n",
            "Epoch 55/400\n",
            "100/100 [==============================] - 1s 6ms/step - loss: 0.0208 - val_loss: 0.1423 - lr: 1.0000e-04\n",
            "Epoch 56/400\n",
            "100/100 [==============================] - 1s 6ms/step - loss: 0.0209 - val_loss: 0.1424 - lr: 1.0000e-04\n",
            "Epoch 57/400\n",
            "100/100 [==============================] - 1s 7ms/step - loss: 0.0212 - val_loss: 0.1431 - lr: 1.0000e-04\n",
            "Epoch 58/400\n",
            "100/100 [==============================] - 1s 7ms/step - loss: 0.0207 - val_loss: 0.1433 - lr: 1.0000e-04\n",
            "Epoch 59/400\n",
            "100/100 [==============================] - 1s 6ms/step - loss: 0.0208 - val_loss: 0.1448 - lr: 1.0000e-04\n",
            "Epoch 60/400\n",
            "100/100 [==============================] - 1s 6ms/step - loss: 0.0211 - val_loss: 0.1455 - lr: 1.0000e-04\n",
            "Epoch 61/400\n",
            "100/100 [==============================] - 1s 6ms/step - loss: 0.0206 - val_loss: 0.1440 - lr: 1.0000e-04\n",
            "Epoch 62/400\n",
            "100/100 [==============================] - 1s 6ms/step - loss: 0.0207 - val_loss: 0.1455 - lr: 1.0000e-04\n",
            "Epoch 63/400\n",
            "100/100 [==============================] - 1s 6ms/step - loss: 0.0210 - val_loss: 0.1461 - lr: 1.0000e-04\n",
            "Epoch 64/400\n",
            "100/100 [==============================] - 1s 7ms/step - loss: 0.0205 - val_loss: 0.1481 - lr: 1.0000e-04\n",
            "Epoch 65/400\n",
            "100/100 [==============================] - 1s 6ms/step - loss: 0.0206 - val_loss: 0.1473 - lr: 1.0000e-04\n",
            "Epoch 66/400\n",
            "100/100 [==============================] - 1s 6ms/step - loss: 0.0208 - val_loss: 0.1491 - lr: 1.0000e-04\n",
            "Epoch 67/400\n",
            "100/100 [==============================] - 1s 6ms/step - loss: 0.0203 - val_loss: 0.1488 - lr: 1.0000e-04\n",
            "Epoch 68/400\n",
            "100/100 [==============================] - 1s 6ms/step - loss: 0.0204 - val_loss: 0.1497 - lr: 1.0000e-04\n",
            "Epoch 69/400\n",
            "100/100 [==============================] - 1s 6ms/step - loss: 0.0207 - val_loss: 0.1500 - lr: 1.0000e-04\n",
            "Epoch 70/400\n",
            "100/100 [==============================] - 1s 6ms/step - loss: 0.0202 - val_loss: 0.1508 - lr: 1.0000e-04\n",
            "Epoch 71/400\n",
            "100/100 [==============================] - 1s 6ms/step - loss: 0.0203 - val_loss: 0.1509 - lr: 1.0000e-04\n",
            "Epoch 72/400\n",
            "100/100 [==============================] - 1s 6ms/step - loss: 0.0206 - val_loss: 0.1533 - lr: 1.0000e-04\n",
            "Epoch 73/400\n",
            "100/100 [==============================] - 1s 6ms/step - loss: 0.0201 - val_loss: 0.1527 - lr: 1.0000e-04\n",
            "Epoch 74/400\n",
            "100/100 [==============================] - 1s 6ms/step - loss: 0.0202 - val_loss: 0.1542 - lr: 1.0000e-04\n",
            "Epoch 75/400\n",
            "100/100 [==============================] - 1s 6ms/step - loss: 0.0205 - val_loss: 0.1573 - lr: 1.0000e-04\n",
            "Epoch 76/400\n",
            "100/100 [==============================] - 1s 6ms/step - loss: 0.0200 - val_loss: 0.1547 - lr: 1.0000e-04\n",
            "Epoch 77/400\n",
            "100/100 [==============================] - 1s 6ms/step - loss: 0.0201 - val_loss: 0.1556 - lr: 1.0000e-04\n",
            "Epoch 78/400\n",
            "100/100 [==============================] - 1s 6ms/step - loss: 0.0204 - val_loss: 0.1554 - lr: 1.0000e-04\n",
            "Epoch 79/400\n",
            "100/100 [==============================] - 1s 6ms/step - loss: 0.0199 - val_loss: 0.1569 - lr: 1.0000e-04\n",
            "Epoch 80/400\n",
            "100/100 [==============================] - 1s 6ms/step - loss: 0.0200 - val_loss: 0.1590 - lr: 1.0000e-04\n",
            "Epoch 81/400\n",
            "100/100 [==============================] - 1s 6ms/step - loss: 0.0203 - val_loss: 0.1603 - lr: 1.0000e-04\n",
            "Epoch 82/400\n",
            "100/100 [==============================] - 1s 6ms/step - loss: 0.0198 - val_loss: 0.1618 - lr: 1.0000e-04\n",
            "Epoch 83/400\n",
            "100/100 [==============================] - 1s 6ms/step - loss: 0.0199 - val_loss: 0.1596 - lr: 1.0000e-04\n",
            "Epoch 84/400\n",
            "100/100 [==============================] - 1s 6ms/step - loss: 0.0202 - val_loss: 0.1601 - lr: 1.0000e-04\n",
            "Epoch 85/400\n",
            "100/100 [==============================] - 1s 6ms/step - loss: 0.0197 - val_loss: 0.1600 - lr: 1.0000e-04\n",
            "Epoch 86/400\n",
            "100/100 [==============================] - 1s 6ms/step - loss: 0.0198 - val_loss: 0.1624 - lr: 1.0000e-04\n",
            "Epoch 87/400\n",
            "100/100 [==============================] - 1s 6ms/step - loss: 0.0201 - val_loss: 0.1628 - lr: 1.0000e-04\n",
            "Epoch 88/400\n",
            "100/100 [==============================] - 1s 6ms/step - loss: 0.0196 - val_loss: 0.1617 - lr: 1.0000e-04\n",
            "Epoch 89/400\n",
            "100/100 [==============================] - 1s 6ms/step - loss: 0.0197 - val_loss: 0.1644 - lr: 1.0000e-04\n",
            "Epoch 90/400\n",
            "100/100 [==============================] - 1s 6ms/step - loss: 0.0200 - val_loss: 0.1635 - lr: 1.0000e-04\n",
            "Epoch 91/400\n",
            "100/100 [==============================] - 1s 6ms/step - loss: 0.0195 - val_loss: 0.1676 - lr: 1.0000e-04\n",
            "Epoch 92/400\n",
            "100/100 [==============================] - 1s 6ms/step - loss: 0.0196 - val_loss: 0.1655 - lr: 1.0000e-04\n",
            "Epoch 93/400\n",
            "100/100 [==============================] - 1s 6ms/step - loss: 0.0199 - val_loss: 0.1661 - lr: 1.0000e-04\n",
            "Epoch 94/400\n",
            "100/100 [==============================] - 1s 6ms/step - loss: 0.0194 - val_loss: 0.1699 - lr: 1.0000e-04\n",
            "Epoch 95/400\n",
            "100/100 [==============================] - 1s 6ms/step - loss: 0.0195 - val_loss: 0.1673 - lr: 1.0000e-04\n",
            "Epoch 96/400\n",
            "100/100 [==============================] - 1s 6ms/step - loss: 0.0198 - val_loss: 0.1690 - lr: 1.0000e-04\n",
            "Epoch 97/400\n",
            "100/100 [==============================] - 1s 7ms/step - loss: 0.0193 - val_loss: 0.1692 - lr: 1.0000e-04\n",
            "Epoch 98/400\n",
            "100/100 [==============================] - 1s 6ms/step - loss: 0.0194 - val_loss: 0.1653 - lr: 1.0000e-04\n",
            "Epoch 99/400\n",
            "100/100 [==============================] - 1s 6ms/step - loss: 0.0197 - val_loss: 0.1659 - lr: 1.0000e-04\n",
            "Epoch 100/400\n",
            "100/100 [==============================] - 1s 6ms/step - loss: 0.0193 - val_loss: 0.1719 - lr: 1.0000e-04\n",
            "Epoch 101/400\n",
            "100/100 [==============================] - 1s 6ms/step - loss: 0.0193 - val_loss: 0.1674 - lr: 1.0000e-04\n",
            "Epoch 102/400\n",
            "100/100 [==============================] - 1s 6ms/step - loss: 0.0196 - val_loss: 0.1701 - lr: 1.0000e-04\n",
            "Epoch 103/400\n",
            "100/100 [==============================] - 1s 7ms/step - loss: 0.0192 - val_loss: 0.1658 - lr: 1.0000e-04\n",
            "Epoch 104/400\n",
            "100/100 [==============================] - 1s 6ms/step - loss: 0.0192 - val_loss: 0.1729 - lr: 1.0000e-04\n",
            "Epoch 105/400\n",
            "100/100 [==============================] - 1s 6ms/step - loss: 0.0195 - val_loss: 0.1690 - lr: 1.0000e-04\n",
            "Epoch 106/400\n",
            "100/100 [==============================] - 1s 7ms/step - loss: 0.0191 - val_loss: 0.1667 - lr: 1.0000e-04\n",
            "Epoch 107/400\n",
            "100/100 [==============================] - 1s 6ms/step - loss: 0.0192 - val_loss: 0.1712 - lr: 1.0000e-04\n",
            "Epoch 108/400\n",
            "100/100 [==============================] - 1s 6ms/step - loss: 0.0194 - val_loss: 0.1718 - lr: 1.0000e-04\n",
            "Epoch 109/400\n",
            "100/100 [==============================] - 1s 6ms/step - loss: 0.0190 - val_loss: 0.1738 - lr: 1.0000e-04\n",
            "Epoch 110/400\n",
            "100/100 [==============================] - 1s 6ms/step - loss: 0.0190 - val_loss: 0.1715 - lr: 1.0000e-04\n",
            "Epoch 111/400\n",
            "100/100 [==============================] - 1s 6ms/step - loss: 0.0193 - val_loss: 0.1723 - lr: 1.0000e-04\n",
            "Epoch 112/400\n",
            "100/100 [==============================] - 1s 6ms/step - loss: 0.0189 - val_loss: 0.1722 - lr: 1.0000e-04\n",
            "Epoch 113/400\n",
            "100/100 [==============================] - 1s 6ms/step - loss: 0.0190 - val_loss: 0.1730 - lr: 1.0000e-04\n",
            "Epoch 114/400\n",
            "100/100 [==============================] - 1s 6ms/step - loss: 0.0193 - val_loss: 0.1734 - lr: 1.0000e-04\n",
            "Epoch 115/400\n",
            "100/100 [==============================] - 1s 6ms/step - loss: 0.0188 - val_loss: 0.1731 - lr: 1.0000e-04\n",
            "Epoch 116/400\n",
            "100/100 [==============================] - 1s 6ms/step - loss: 0.0189 - val_loss: 0.1757 - lr: 1.0000e-04\n",
            "Epoch 117/400\n",
            "100/100 [==============================] - 1s 6ms/step - loss: 0.0192 - val_loss: 0.1774 - lr: 1.0000e-04\n",
            "Epoch 118/400\n",
            "100/100 [==============================] - 1s 6ms/step - loss: 0.0187 - val_loss: 0.1796 - lr: 1.0000e-04\n",
            "Epoch 119/400\n",
            "100/100 [==============================] - 1s 6ms/step - loss: 0.0188 - val_loss: 0.1739 - lr: 1.0000e-04\n",
            "Epoch 120/400\n",
            "100/100 [==============================] - 1s 6ms/step - loss: 0.0191 - val_loss: 0.1770 - lr: 1.0000e-04\n",
            "Epoch 121/400\n",
            "100/100 [==============================] - 1s 6ms/step - loss: 0.0187 - val_loss: 0.1834 - lr: 1.0000e-04\n",
            "Epoch 122/400\n",
            "100/100 [==============================] - 1s 6ms/step - loss: 0.0187 - val_loss: 0.1824 - lr: 1.0000e-04\n",
            "Epoch 123/400\n",
            "100/100 [==============================] - 1s 6ms/step - loss: 0.0190 - val_loss: 0.1791 - lr: 1.0000e-04\n",
            "Epoch 124/400\n",
            "100/100 [==============================] - 1s 6ms/step - loss: 0.0186 - val_loss: 0.1832 - lr: 1.0000e-04\n",
            "Epoch 125/400\n",
            "100/100 [==============================] - 1s 6ms/step - loss: 0.0186 - val_loss: 0.1815 - lr: 1.0000e-04\n",
            "Epoch 126/400\n",
            "100/100 [==============================] - 1s 6ms/step - loss: 0.0189 - val_loss: 0.1802 - lr: 1.0000e-04\n",
            "Epoch 127/400\n",
            "100/100 [==============================] - 1s 6ms/step - loss: 0.0185 - val_loss: 0.1807 - lr: 1.0000e-04\n",
            "Epoch 128/400\n",
            "100/100 [==============================] - 1s 6ms/step - loss: 0.0185 - val_loss: 0.1841 - lr: 1.0000e-04\n",
            "Epoch 129/400\n",
            "100/100 [==============================] - 1s 6ms/step - loss: 0.0188 - val_loss: 0.1835 - lr: 1.0000e-04\n",
            "Epoch 130/400\n",
            "100/100 [==============================] - 1s 6ms/step - loss: 0.0183 - val_loss: 0.1805 - lr: 1.0000e-04\n",
            "Epoch 131/400\n",
            "100/100 [==============================] - 1s 6ms/step - loss: 0.0185 - val_loss: 0.1814 - lr: 1.0000e-04\n",
            "Epoch 132/400\n",
            "100/100 [==============================] - 1s 6ms/step - loss: 0.0188 - val_loss: 0.1823 - lr: 1.0000e-04\n",
            "Epoch 133/400\n",
            "100/100 [==============================] - 1s 6ms/step - loss: 0.0184 - val_loss: 0.1853 - lr: 1.0000e-04\n",
            "Epoch 134/400\n",
            "100/100 [==============================] - 1s 6ms/step - loss: 0.0183 - val_loss: 0.1835 - lr: 1.0000e-04\n",
            "Epoch 135/400\n",
            "100/100 [==============================] - 1s 6ms/step - loss: 0.0186 - val_loss: 0.1859 - lr: 1.0000e-04\n",
            "Epoch 136/400\n",
            "100/100 [==============================] - 1s 7ms/step - loss: 0.0182 - val_loss: 0.1844 - lr: 1.0000e-04\n",
            "Epoch 137/400\n",
            "100/100 [==============================] - 1s 6ms/step - loss: 0.0183 - val_loss: 0.1846 - lr: 1.0000e-04\n",
            "Epoch 138/400\n",
            "100/100 [==============================] - 1s 6ms/step - loss: 0.0186 - val_loss: 0.1865 - lr: 1.0000e-04\n",
            "Epoch 139/400\n",
            "100/100 [==============================] - 1s 7ms/step - loss: 0.0182 - val_loss: 0.1896 - lr: 1.0000e-04\n",
            "Epoch 140/400\n",
            "100/100 [==============================] - 1s 6ms/step - loss: 0.0182 - val_loss: 0.1853 - lr: 1.0000e-04\n",
            "Epoch 141/400\n",
            "100/100 [==============================] - 1s 6ms/step - loss: 0.0185 - val_loss: 0.1882 - lr: 1.0000e-04\n",
            "Epoch 142/400\n",
            "100/100 [==============================] - 1s 6ms/step - loss: 0.0181 - val_loss: 0.1857 - lr: 1.0000e-04\n",
            "Epoch 143/400\n",
            "100/100 [==============================] - 1s 6ms/step - loss: 0.0182 - val_loss: 0.1878 - lr: 1.0000e-04\n",
            "Epoch 144/400\n",
            "100/100 [==============================] - 1s 6ms/step - loss: 0.0184 - val_loss: 0.1900 - lr: 1.0000e-04\n",
            "Epoch 145/400\n",
            "100/100 [==============================] - 1s 6ms/step - loss: 0.0180 - val_loss: 0.1918 - lr: 1.0000e-04\n",
            "Epoch 146/400\n",
            "100/100 [==============================] - 1s 6ms/step - loss: 0.0181 - val_loss: 0.1918 - lr: 1.0000e-04\n",
            "Epoch 147/400\n",
            "100/100 [==============================] - 1s 6ms/step - loss: 0.0183 - val_loss: 0.1885 - lr: 1.0000e-04\n",
            "Epoch 148/400\n",
            "100/100 [==============================] - 1s 6ms/step - loss: 0.0180 - val_loss: 0.1936 - lr: 1.0000e-04\n",
            "Epoch 149/400\n",
            "100/100 [==============================] - 1s 6ms/step - loss: 0.0180 - val_loss: 0.1919 - lr: 1.0000e-04\n",
            "Epoch 150/400\n",
            "100/100 [==============================] - 1s 6ms/step - loss: 0.0183 - val_loss: 0.1968 - lr: 1.0000e-04\n",
            "Epoch 151/400\n",
            "100/100 [==============================] - 1s 6ms/step - loss: 0.0178 - val_loss: 0.1939 - lr: 1.0000e-04\n",
            "Epoch 152/400\n",
            "100/100 [==============================] - 1s 7ms/step - loss: 0.0179 - val_loss: 0.1966 - lr: 1.0000e-04\n",
            "Epoch 153/400\n",
            "100/100 [==============================] - 1s 6ms/step - loss: 0.0182 - val_loss: 0.1990 - lr: 1.0000e-04\n",
            "Epoch 154/400\n",
            "100/100 [==============================] - 1s 6ms/step - loss: 0.0178 - val_loss: 0.2029 - lr: 1.0000e-04\n",
            "Epoch 155/400\n",
            "100/100 [==============================] - 1s 6ms/step - loss: 0.0179 - val_loss: 0.1958 - lr: 1.0000e-04\n",
            "Epoch 156/400\n",
            "100/100 [==============================] - 1s 6ms/step - loss: 0.0182 - val_loss: 0.2009 - lr: 1.0000e-04\n",
            "Epoch 157/400\n",
            "100/100 [==============================] - 1s 6ms/step - loss: 0.0177 - val_loss: 0.1958 - lr: 1.0000e-04\n",
            "Epoch 158/400\n",
            "100/100 [==============================] - 1s 7ms/step - loss: 0.0178 - val_loss: 0.2035 - lr: 1.0000e-04\n",
            "Epoch 159/400\n",
            "100/100 [==============================] - 1s 7ms/step - loss: 0.0180 - val_loss: 0.2024 - lr: 1.0000e-04\n",
            "Epoch 160/400\n",
            "100/100 [==============================] - 1s 6ms/step - loss: 0.0176 - val_loss: 0.1977 - lr: 1.0000e-04\n",
            "Epoch 161/400\n",
            "100/100 [==============================] - 1s 7ms/step - loss: 0.0177 - val_loss: 0.2037 - lr: 1.0000e-04\n",
            "Epoch 162/400\n",
            "100/100 [==============================] - 1s 6ms/step - loss: 0.0180 - val_loss: 0.2066 - lr: 1.0000e-04\n",
            "Epoch 163/400\n",
            "100/100 [==============================] - 1s 6ms/step - loss: 0.0176 - val_loss: 0.2057 - lr: 1.0000e-04\n",
            "Epoch 164/400\n",
            "100/100 [==============================] - 1s 6ms/step - loss: 0.0177 - val_loss: 0.2058 - lr: 1.0000e-04\n",
            "Epoch 165/400\n",
            "100/100 [==============================] - 1s 6ms/step - loss: 0.0179 - val_loss: 0.2084 - lr: 1.0000e-04\n",
            "Epoch 166/400\n",
            "100/100 [==============================] - 1s 6ms/step - loss: 0.0175 - val_loss: 0.2166 - lr: 1.0000e-04\n",
            "Epoch 167/400\n",
            "100/100 [==============================] - 1s 7ms/step - loss: 0.0175 - val_loss: 0.2076 - lr: 1.0000e-04\n",
            "Epoch 168/400\n",
            "100/100 [==============================] - 1s 6ms/step - loss: 0.0179 - val_loss: 0.2118 - lr: 1.0000e-04\n",
            "Epoch 169/400\n",
            "100/100 [==============================] - 1s 6ms/step - loss: 0.0174 - val_loss: 0.2130 - lr: 1.0000e-04\n",
            "Epoch 170/400\n",
            "100/100 [==============================] - 1s 6ms/step - loss: 0.0174 - val_loss: 0.2173 - lr: 1.0000e-04\n",
            "Epoch 171/400\n",
            "100/100 [==============================] - 1s 6ms/step - loss: 0.0178 - val_loss: 0.2142 - lr: 1.0000e-04\n",
            "Epoch 172/400\n",
            "100/100 [==============================] - 1s 6ms/step - loss: 0.0174 - val_loss: 0.2099 - lr: 1.0000e-04\n",
            "Epoch 173/400\n",
            "100/100 [==============================] - 1s 6ms/step - loss: 0.0174 - val_loss: 0.2149 - lr: 1.0000e-04\n",
            "Epoch 174/400\n",
            "100/100 [==============================] - 1s 7ms/step - loss: 0.0177 - val_loss: 0.2184 - lr: 1.0000e-04\n",
            "Epoch 175/400\n",
            "100/100 [==============================] - 1s 6ms/step - loss: 0.0173 - val_loss: 0.2181 - lr: 1.0000e-04\n",
            "Epoch 176/400\n",
            "100/100 [==============================] - 1s 6ms/step - loss: 0.0173 - val_loss: 0.2169 - lr: 1.0000e-04\n",
            "Epoch 177/400\n",
            "100/100 [==============================] - 1s 6ms/step - loss: 0.0176 - val_loss: 0.2181 - lr: 1.0000e-04\n",
            "Epoch 178/400\n",
            "100/100 [==============================] - 1s 6ms/step - loss: 0.0172 - val_loss: 0.2207 - lr: 1.0000e-04\n",
            "Epoch 179/400\n",
            "100/100 [==============================] - 1s 6ms/step - loss: 0.0174 - val_loss: 0.2260 - lr: 1.0000e-04\n",
            "Epoch 180/400\n",
            "100/100 [==============================] - 1s 6ms/step - loss: 0.0175 - val_loss: 0.2258 - lr: 1.0000e-04\n",
            "Epoch 181/400\n",
            "100/100 [==============================] - 1s 6ms/step - loss: 0.0171 - val_loss: 0.2176 - lr: 1.0000e-04\n",
            "Epoch 182/400\n",
            "100/100 [==============================] - 1s 7ms/step - loss: 0.0172 - val_loss: 0.2276 - lr: 1.0000e-04\n",
            "Epoch 183/400\n",
            "100/100 [==============================] - 1s 6ms/step - loss: 0.0175 - val_loss: 0.2251 - lr: 1.0000e-04\n",
            "Epoch 184/400\n",
            "100/100 [==============================] - 1s 6ms/step - loss: 0.0171 - val_loss: 0.2277 - lr: 1.0000e-04\n",
            "Epoch 185/400\n",
            "100/100 [==============================] - 1s 6ms/step - loss: 0.0172 - val_loss: 0.2271 - lr: 1.0000e-04\n",
            "Epoch 186/400\n",
            "100/100 [==============================] - 1s 6ms/step - loss: 0.0175 - val_loss: 0.2307 - lr: 1.0000e-04\n",
            "Epoch 187/400\n",
            "100/100 [==============================] - 1s 6ms/step - loss: 0.0171 - val_loss: 0.2348 - lr: 1.0000e-04\n",
            "Epoch 188/400\n",
            "100/100 [==============================] - 1s 6ms/step - loss: 0.0171 - val_loss: 0.2273 - lr: 1.0000e-04\n",
            "Epoch 189/400\n",
            "100/100 [==============================] - 1s 6ms/step - loss: 0.0174 - val_loss: 0.2354 - lr: 1.0000e-04\n",
            "Epoch 190/400\n",
            "100/100 [==============================] - 1s 7ms/step - loss: 0.0169 - val_loss: 0.2446 - lr: 1.0000e-04\n",
            "Epoch 191/400\n",
            "100/100 [==============================] - 1s 7ms/step - loss: 0.0171 - val_loss: 0.2297 - lr: 1.0000e-04\n",
            "Epoch 192/400\n",
            "100/100 [==============================] - 1s 7ms/step - loss: 0.0174 - val_loss: 0.2381 - lr: 1.0000e-04\n",
            "Epoch 193/400\n",
            "100/100 [==============================] - 1s 7ms/step - loss: 0.0169 - val_loss: 0.2329 - lr: 1.0000e-04\n",
            "Epoch 194/400\n",
            "100/100 [==============================] - 1s 7ms/step - loss: 0.0169 - val_loss: 0.2374 - lr: 1.0000e-04\n",
            "Epoch 195/400\n",
            "100/100 [==============================] - 1s 7ms/step - loss: 0.0172 - val_loss: 0.2375 - lr: 1.0000e-04\n",
            "Epoch 196/400\n",
            "100/100 [==============================] - 1s 6ms/step - loss: 0.0169 - val_loss: 0.2313 - lr: 1.0000e-04\n",
            "Epoch 197/400\n",
            "100/100 [==============================] - 1s 7ms/step - loss: 0.0168 - val_loss: 0.2440 - lr: 1.0000e-04\n",
            "Epoch 198/400\n",
            "100/100 [==============================] - 1s 7ms/step - loss: 0.0172 - val_loss: 0.2414 - lr: 1.0000e-04\n",
            "Epoch 199/400\n",
            "100/100 [==============================] - 1s 7ms/step - loss: 0.0169 - val_loss: 0.2544 - lr: 1.0000e-04\n",
            "Epoch 200/400\n",
            "100/100 [==============================] - 1s 6ms/step - loss: 0.0169 - val_loss: 0.2513 - lr: 1.0000e-04\n",
            "Epoch 201/400\n",
            "100/100 [==============================] - 1s 7ms/step - loss: 0.0172 - val_loss: 0.2459 - lr: 1.0000e-04\n",
            "Epoch 202/400\n",
            "100/100 [==============================] - 1s 7ms/step - loss: 0.0168 - val_loss: 0.2525 - lr: 1.0000e-04\n",
            "Epoch 203/400\n",
            "100/100 [==============================] - 1s 6ms/step - loss: 0.0168 - val_loss: 0.2431 - lr: 1.0000e-04\n",
            "Epoch 204/400\n",
            "100/100 [==============================] - 1s 6ms/step - loss: 0.0171 - val_loss: 0.2472 - lr: 1.0000e-04\n",
            "Epoch 205/400\n",
            "100/100 [==============================] - 1s 6ms/step - loss: 0.0166 - val_loss: 0.2454 - lr: 1.0000e-04\n",
            "Epoch 206/400\n",
            "100/100 [==============================] - 1s 6ms/step - loss: 0.0168 - val_loss: 0.2458 - lr: 1.0000e-04\n",
            "Epoch 207/400\n",
            "100/100 [==============================] - 1s 6ms/step - loss: 0.0170 - val_loss: 0.2479 - lr: 1.0000e-04\n",
            "Epoch 208/400\n",
            "100/100 [==============================] - 1s 6ms/step - loss: 0.0167 - val_loss: 0.2652 - lr: 1.0000e-04\n",
            "Epoch 209/400\n",
            "100/100 [==============================] - 1s 6ms/step - loss: 0.0168 - val_loss: 0.2557 - lr: 1.0000e-04\n",
            "Epoch 210/400\n",
            "100/100 [==============================] - 1s 6ms/step - loss: 0.0170 - val_loss: 0.2533 - lr: 1.0000e-04\n",
            "Epoch 211/400\n",
            "100/100 [==============================] - 1s 6ms/step - loss: 0.0166 - val_loss: 0.2525 - lr: 1.0000e-04\n",
            "Epoch 212/400\n",
            "100/100 [==============================] - 1s 6ms/step - loss: 0.0167 - val_loss: 0.2506 - lr: 1.0000e-04\n",
            "Epoch 213/400\n",
            "100/100 [==============================] - 1s 6ms/step - loss: 0.0170 - val_loss: 0.2560 - lr: 1.0000e-04\n",
            "Epoch 214/400\n",
            "100/100 [==============================] - 1s 6ms/step - loss: 0.0167 - val_loss: 0.2504 - lr: 1.0000e-04\n",
            "Epoch 215/400\n",
            "100/100 [==============================] - 1s 6ms/step - loss: 0.0166 - val_loss: 0.2557 - lr: 1.0000e-04\n",
            "Epoch 216/400\n",
            "100/100 [==============================] - 1s 6ms/step - loss: 0.0169 - val_loss: 0.2614 - lr: 1.0000e-04\n",
            "Epoch 217/400\n",
            "100/100 [==============================] - 1s 6ms/step - loss: 0.0165 - val_loss: 0.2608 - lr: 1.0000e-04\n",
            "Epoch 218/400\n",
            "100/100 [==============================] - 1s 6ms/step - loss: 0.0166 - val_loss: 0.2584 - lr: 1.0000e-04\n",
            "Epoch 219/400\n",
            "100/100 [==============================] - 1s 6ms/step - loss: 0.0168 - val_loss: 0.2622 - lr: 1.0000e-04\n",
            "Epoch 220/400\n",
            "100/100 [==============================] - 1s 6ms/step - loss: 0.0165 - val_loss: 0.2676 - lr: 1.0000e-04\n",
            "Epoch 221/400\n",
            "100/100 [==============================] - 1s 6ms/step - loss: 0.0165 - val_loss: 0.2625 - lr: 1.0000e-04\n",
            "Epoch 222/400\n",
            "100/100 [==============================] - 1s 6ms/step - loss: 0.0168 - val_loss: 0.2624 - lr: 1.0000e-04\n",
            "Epoch 223/400\n",
            "100/100 [==============================] - 1s 6ms/step - loss: 0.0164 - val_loss: 0.2610 - lr: 1.0000e-04\n",
            "Epoch 224/400\n",
            "100/100 [==============================] - 1s 6ms/step - loss: 0.0165 - val_loss: 0.2704 - lr: 1.0000e-04\n",
            "Epoch 225/400\n",
            "100/100 [==============================] - 1s 6ms/step - loss: 0.0168 - val_loss: 0.2681 - lr: 1.0000e-04\n",
            "Epoch 226/400\n",
            "100/100 [==============================] - 1s 6ms/step - loss: 0.0164 - val_loss: 0.2762 - lr: 1.0000e-04\n",
            "Epoch 227/400\n",
            "100/100 [==============================] - 1s 6ms/step - loss: 0.0164 - val_loss: 0.2644 - lr: 1.0000e-04\n",
            "Epoch 228/400\n",
            "100/100 [==============================] - 1s 6ms/step - loss: 0.0168 - val_loss: 0.2714 - lr: 1.0000e-04\n",
            "Epoch 229/400\n",
            "100/100 [==============================] - 1s 6ms/step - loss: 0.0164 - val_loss: 0.2758 - lr: 1.0000e-04\n",
            "Epoch 230/400\n",
            "100/100 [==============================] - 1s 6ms/step - loss: 0.0164 - val_loss: 0.2661 - lr: 1.0000e-04\n",
            "Epoch 231/400\n",
            "100/100 [==============================] - 1s 6ms/step - loss: 0.0167 - val_loss: 0.2728 - lr: 1.0000e-04\n",
            "Epoch 232/400\n",
            "100/100 [==============================] - 1s 6ms/step - loss: 0.0163 - val_loss: 0.2610 - lr: 1.0000e-04\n",
            "Epoch 233/400\n",
            "100/100 [==============================] - 1s 6ms/step - loss: 0.0164 - val_loss: 0.2659 - lr: 1.0000e-04\n",
            "Epoch 234/400\n",
            "100/100 [==============================] - 1s 6ms/step - loss: 0.0167 - val_loss: 0.2710 - lr: 1.0000e-04\n",
            "Epoch 235/400\n",
            "100/100 [==============================] - 1s 6ms/step - loss: 0.0163 - val_loss: 0.2714 - lr: 1.0000e-04\n",
            "Epoch 236/400\n",
            "100/100 [==============================] - 1s 6ms/step - loss: 0.0163 - val_loss: 0.2780 - lr: 1.0000e-04\n",
            "Epoch 237/400\n",
            "100/100 [==============================] - 1s 6ms/step - loss: 0.0166 - val_loss: 0.2812 - lr: 1.0000e-04\n",
            "Epoch 238/400\n",
            "100/100 [==============================] - 1s 6ms/step - loss: 0.0162 - val_loss: 0.2681 - lr: 1.0000e-04\n",
            "Epoch 239/400\n",
            "100/100 [==============================] - 1s 7ms/step - loss: 0.0164 - val_loss: 0.2792 - lr: 1.0000e-04\n",
            "Epoch 240/400\n",
            "100/100 [==============================] - 1s 6ms/step - loss: 0.0165 - val_loss: 0.2808 - lr: 1.0000e-04\n",
            "Epoch 241/400\n",
            "100/100 [==============================] - 1s 6ms/step - loss: 0.0161 - val_loss: 0.2733 - lr: 1.0000e-04\n",
            "Epoch 242/400\n",
            "100/100 [==============================] - 1s 6ms/step - loss: 0.0162 - val_loss: 0.2820 - lr: 1.0000e-04\n",
            "Epoch 243/400\n",
            "100/100 [==============================] - 1s 6ms/step - loss: 0.0165 - val_loss: 0.2815 - lr: 1.0000e-04\n",
            "Epoch 244/400\n",
            "100/100 [==============================] - 1s 6ms/step - loss: 0.0162 - val_loss: 0.2925 - lr: 1.0000e-04\n",
            "Epoch 245/400\n",
            "100/100 [==============================] - 1s 6ms/step - loss: 0.0163 - val_loss: 0.2894 - lr: 1.0000e-04\n",
            "Epoch 246/400\n",
            "100/100 [==============================] - 1s 6ms/step - loss: 0.0165 - val_loss: 0.2898 - lr: 1.0000e-04\n",
            "Epoch 247/400\n",
            "100/100 [==============================] - 1s 6ms/step - loss: 0.0161 - val_loss: 0.2933 - lr: 1.0000e-04\n",
            "Epoch 248/400\n",
            "100/100 [==============================] - 1s 6ms/step - loss: 0.0162 - val_loss: 0.2943 - lr: 1.0000e-04\n",
            "Epoch 249/400\n",
            "100/100 [==============================] - 1s 6ms/step - loss: 0.0165 - val_loss: 0.2846 - lr: 1.0000e-04\n",
            "Epoch 250/400\n",
            "100/100 [==============================] - 1s 6ms/step - loss: 0.0160 - val_loss: 0.2880 - lr: 1.0000e-04\n",
            "Epoch 251/400\n",
            "100/100 [==============================] - 1s 6ms/step - loss: 0.0162 - val_loss: 0.2887 - lr: 1.0000e-04\n",
            "Epoch 252/400\n",
            "100/100 [==============================] - 1s 6ms/step - loss: 0.0164 - val_loss: 0.2923 - lr: 1.0000e-04\n",
            "Epoch 253/400\n",
            "100/100 [==============================] - 1s 7ms/step - loss: 0.0160 - val_loss: 0.2795 - lr: 1.0000e-04\n",
            "Epoch 254/400\n",
            "100/100 [==============================] - 1s 6ms/step - loss: 0.0162 - val_loss: 0.2884 - lr: 1.0000e-04\n",
            "Epoch 255/400\n",
            "100/100 [==============================] - 1s 6ms/step - loss: 0.0164 - val_loss: 0.2938 - lr: 1.0000e-04\n",
            "Epoch 256/400\n",
            "100/100 [==============================] - 1s 7ms/step - loss: 0.0162 - val_loss: 0.3031 - lr: 1.0000e-04\n",
            "Epoch 257/400\n",
            "100/100 [==============================] - 1s 6ms/step - loss: 0.0160 - val_loss: 0.2978 - lr: 1.0000e-04\n",
            "Epoch 258/400\n",
            "100/100 [==============================] - 1s 6ms/step - loss: 0.0163 - val_loss: 0.2957 - lr: 1.0000e-04\n",
            "Epoch 259/400\n",
            "100/100 [==============================] - 1s 6ms/step - loss: 0.0161 - val_loss: 0.2986 - lr: 1.0000e-04\n",
            "Epoch 260/400\n",
            "100/100 [==============================] - 1s 6ms/step - loss: 0.0160 - val_loss: 0.3034 - lr: 1.0000e-04\n",
            "Epoch 261/400\n",
            "100/100 [==============================] - 1s 6ms/step - loss: 0.0163 - val_loss: 0.2983 - lr: 1.0000e-04\n",
            "Epoch 262/400\n",
            "100/100 [==============================] - 1s 6ms/step - loss: 0.0159 - val_loss: 0.2892 - lr: 1.0000e-04\n",
            "Epoch 263/400\n",
            "100/100 [==============================] - 1s 6ms/step - loss: 0.0160 - val_loss: 0.3062 - lr: 1.0000e-04\n",
            "Epoch 264/400\n",
            "100/100 [==============================] - 1s 6ms/step - loss: 0.0163 - val_loss: 0.3009 - lr: 1.0000e-04\n",
            "Epoch 265/400\n",
            "100/100 [==============================] - 1s 7ms/step - loss: 0.0160 - val_loss: 0.2989 - lr: 1.0000e-04\n",
            "Epoch 266/400\n",
            "100/100 [==============================] - 1s 6ms/step - loss: 0.0160 - val_loss: 0.3034 - lr: 1.0000e-04\n",
            "Epoch 267/400\n",
            "100/100 [==============================] - 1s 6ms/step - loss: 0.0161 - val_loss: 0.3062 - lr: 1.0000e-04\n",
            "Epoch 268/400\n",
            "100/100 [==============================] - 1s 6ms/step - loss: 0.0159 - val_loss: 0.3098 - lr: 1.0000e-04\n",
            "Epoch 269/400\n",
            "100/100 [==============================] - 1s 6ms/step - loss: 0.0160 - val_loss: 0.3009 - lr: 1.0000e-04\n",
            "Epoch 270/400\n",
            "100/100 [==============================] - 1s 6ms/step - loss: 0.0162 - val_loss: 0.3033 - lr: 1.0000e-04\n",
            "Epoch 271/400\n",
            "100/100 [==============================] - 1s 6ms/step - loss: 0.0159 - val_loss: 0.2976 - lr: 1.0000e-04\n",
            "Epoch 272/400\n",
            "100/100 [==============================] - 1s 6ms/step - loss: 0.0159 - val_loss: 0.3134 - lr: 1.0000e-04\n",
            "Epoch 273/400\n",
            "100/100 [==============================] - 1s 6ms/step - loss: 0.0162 - val_loss: 0.3052 - lr: 1.0000e-04\n",
            "Epoch 274/400\n",
            "100/100 [==============================] - 1s 6ms/step - loss: 0.0158 - val_loss: 0.3039 - lr: 1.0000e-04\n",
            "Epoch 275/400\n",
            "100/100 [==============================] - 1s 6ms/step - loss: 0.0159 - val_loss: 0.3047 - lr: 1.0000e-04\n",
            "Epoch 276/400\n",
            "100/100 [==============================] - 1s 6ms/step - loss: 0.0163 - val_loss: 0.3114 - lr: 1.0000e-04\n",
            "Epoch 277/400\n",
            "100/100 [==============================] - 1s 7ms/step - loss: 0.0157 - val_loss: 0.3164 - lr: 1.0000e-04\n",
            "Epoch 278/400\n",
            "100/100 [==============================] - 1s 6ms/step - loss: 0.0158 - val_loss: 0.3181 - lr: 1.0000e-04\n",
            "Epoch 279/400\n",
            "100/100 [==============================] - 1s 6ms/step - loss: 0.0162 - val_loss: 0.3167 - lr: 1.0000e-04\n",
            "Epoch 280/400\n",
            "100/100 [==============================] - 1s 6ms/step - loss: 0.0158 - val_loss: 0.3298 - lr: 1.0000e-04\n",
            "Epoch 281/400\n",
            "100/100 [==============================] - 1s 6ms/step - loss: 0.0158 - val_loss: 0.3146 - lr: 1.0000e-04\n",
            "Epoch 282/400\n",
            "100/100 [==============================] - 1s 6ms/step - loss: 0.0161 - val_loss: 0.3147 - lr: 1.0000e-04\n",
            "Epoch 283/400\n",
            "100/100 [==============================] - 1s 6ms/step - loss: 0.0158 - val_loss: 0.3278 - lr: 1.0000e-04\n",
            "Epoch 284/400\n",
            "100/100 [==============================] - 1s 7ms/step - loss: 0.0158 - val_loss: 0.3140 - lr: 1.0000e-04\n",
            "Epoch 285/400\n",
            "100/100 [==============================] - 1s 6ms/step - loss: 0.0162 - val_loss: 0.3115 - lr: 1.0000e-04\n",
            "Epoch 286/400\n",
            "100/100 [==============================] - 1s 6ms/step - loss: 0.0158 - val_loss: 0.3318 - lr: 1.0000e-04\n",
            "Epoch 287/400\n",
            "100/100 [==============================] - 1s 6ms/step - loss: 0.0157 - val_loss: 0.3246 - lr: 1.0000e-04\n",
            "Epoch 288/400\n",
            "100/100 [==============================] - 1s 6ms/step - loss: 0.0161 - val_loss: 0.3206 - lr: 1.0000e-04\n",
            "Epoch 289/400\n",
            "100/100 [==============================] - 1s 6ms/step - loss: 0.0157 - val_loss: 0.3386 - lr: 1.0000e-04\n",
            "Epoch 290/400\n",
            "100/100 [==============================] - 1s 7ms/step - loss: 0.0157 - val_loss: 0.3216 - lr: 1.0000e-04\n",
            "Epoch 291/400\n",
            "100/100 [==============================] - 1s 6ms/step - loss: 0.0161 - val_loss: 0.3201 - lr: 1.0000e-04\n",
            "Epoch 292/400\n",
            "100/100 [==============================] - 1s 7ms/step - loss: 0.0156 - val_loss: 0.3108 - lr: 1.0000e-04\n",
            "Epoch 293/400\n",
            "100/100 [==============================] - 1s 6ms/step - loss: 0.0158 - val_loss: 0.3228 - lr: 1.0000e-04\n",
            "Epoch 294/400\n",
            "100/100 [==============================] - 1s 7ms/step - loss: 0.0160 - val_loss: 0.3225 - lr: 1.0000e-04\n",
            "Epoch 295/400\n",
            "100/100 [==============================] - 1s 6ms/step - loss: 0.0155 - val_loss: 0.3290 - lr: 1.0000e-04\n",
            "Epoch 296/400\n",
            "100/100 [==============================] - 1s 6ms/step - loss: 0.0157 - val_loss: 0.3236 - lr: 1.0000e-04\n",
            "Epoch 297/400\n",
            "100/100 [==============================] - 1s 6ms/step - loss: 0.0161 - val_loss: 0.3306 - lr: 1.0000e-04\n",
            "Epoch 298/400\n",
            "100/100 [==============================] - 1s 6ms/step - loss: 0.0155 - val_loss: 0.3383 - lr: 1.0000e-04\n",
            "Epoch 299/400\n",
            "100/100 [==============================] - 1s 6ms/step - loss: 0.0158 - val_loss: 0.3351 - lr: 1.0000e-04\n",
            "Epoch 300/400\n",
            "100/100 [==============================] - 1s 6ms/step - loss: 0.0159 - val_loss: 0.3388 - lr: 1.0000e-04\n",
            "Epoch 301/400\n",
            "100/100 [==============================] - 1s 6ms/step - loss: 0.0156 - val_loss: 0.3357 - lr: 1.0000e-04\n",
            "Epoch 302/400\n",
            "100/100 [==============================] - 1s 6ms/step - loss: 0.0157 - val_loss: 0.3540 - lr: 1.0000e-04\n",
            "Epoch 303/400\n",
            "100/100 [==============================] - 1s 6ms/step - loss: 0.0160 - val_loss: 0.3419 - lr: 1.0000e-04\n",
            "Epoch 304/400\n",
            "100/100 [==============================] - 1s 6ms/step - loss: 0.0156 - val_loss: 0.3585 - lr: 1.0000e-04\n",
            "Epoch 305/400\n",
            "100/100 [==============================] - 1s 6ms/step - loss: 0.0157 - val_loss: 0.3426 - lr: 1.0000e-04\n",
            "Epoch 306/400\n",
            "100/100 [==============================] - 1s 6ms/step - loss: 0.0158 - val_loss: 0.3500 - lr: 1.0000e-04\n",
            "Epoch 307/400\n",
            "100/100 [==============================] - 1s 7ms/step - loss: 0.0155 - val_loss: 0.3396 - lr: 1.0000e-04\n",
            "Epoch 308/400\n",
            "100/100 [==============================] - 1s 7ms/step - loss: 0.0155 - val_loss: 0.3422 - lr: 1.0000e-04\n",
            "Epoch 309/400\n",
            "100/100 [==============================] - 1s 6ms/step - loss: 0.0160 - val_loss: 0.3455 - lr: 1.0000e-04\n",
            "Epoch 310/400\n",
            "100/100 [==============================] - 1s 6ms/step - loss: 0.0154 - val_loss: 0.3472 - lr: 1.0000e-04\n",
            "Epoch 311/400\n",
            "100/100 [==============================] - 1s 6ms/step - loss: 0.0155 - val_loss: 0.3592 - lr: 1.0000e-04\n",
            "Epoch 312/400\n",
            "100/100 [==============================] - 1s 7ms/step - loss: 0.0159 - val_loss: 0.3563 - lr: 1.0000e-04\n",
            "Epoch 313/400\n",
            "100/100 [==============================] - 1s 6ms/step - loss: 0.0154 - val_loss: 0.3451 - lr: 1.0000e-04\n",
            "Epoch 314/400\n",
            "100/100 [==============================] - 1s 6ms/step - loss: 0.0155 - val_loss: 0.3550 - lr: 1.0000e-04\n",
            "Epoch 315/400\n",
            "100/100 [==============================] - 1s 7ms/step - loss: 0.0158 - val_loss: 0.3529 - lr: 1.0000e-04\n",
            "Epoch 316/400\n",
            "100/100 [==============================] - 1s 6ms/step - loss: 0.0155 - val_loss: 0.3655 - lr: 1.0000e-04\n",
            "Epoch 317/400\n",
            "100/100 [==============================] - 1s 7ms/step - loss: 0.0155 - val_loss: 0.3615 - lr: 1.0000e-04\n",
            "Epoch 318/400\n",
            "100/100 [==============================] - 1s 6ms/step - loss: 0.0158 - val_loss: 0.3568 - lr: 1.0000e-04\n",
            "Epoch 319/400\n",
            "100/100 [==============================] - 1s 6ms/step - loss: 0.0155 - val_loss: 0.3679 - lr: 1.0000e-04\n",
            "Epoch 320/400\n",
            "100/100 [==============================] - 1s 6ms/step - loss: 0.0155 - val_loss: 0.3678 - lr: 1.0000e-04\n",
            "Epoch 321/400\n",
            "100/100 [==============================] - 1s 6ms/step - loss: 0.0157 - val_loss: 0.3637 - lr: 1.0000e-04\n",
            "Epoch 322/400\n",
            "100/100 [==============================] - 1s 6ms/step - loss: 0.0153 - val_loss: 0.3549 - lr: 1.0000e-04\n",
            "Epoch 323/400\n",
            "100/100 [==============================] - 1s 7ms/step - loss: 0.0154 - val_loss: 0.3684 - lr: 1.0000e-04\n",
            "Epoch 324/400\n",
            "100/100 [==============================] - 1s 6ms/step - loss: 0.0158 - val_loss: 0.3612 - lr: 1.0000e-04\n",
            "Epoch 325/400\n",
            "100/100 [==============================] - 1s 6ms/step - loss: 0.0154 - val_loss: 0.3576 - lr: 1.0000e-04\n",
            "Epoch 326/400\n",
            "100/100 [==============================] - 1s 7ms/step - loss: 0.0154 - val_loss: 0.3603 - lr: 1.0000e-04\n",
            "Epoch 327/400\n",
            "100/100 [==============================] - 1s 6ms/step - loss: 0.0156 - val_loss: 0.3557 - lr: 1.0000e-04\n",
            "Epoch 328/400\n",
            "100/100 [==============================] - 1s 6ms/step - loss: 0.0153 - val_loss: 0.3830 - lr: 1.0000e-04\n",
            "Epoch 329/400\n",
            "100/100 [==============================] - 1s 6ms/step - loss: 0.0154 - val_loss: 0.3623 - lr: 1.0000e-04\n",
            "Epoch 330/400\n",
            "100/100 [==============================] - 1s 7ms/step - loss: 0.0158 - val_loss: 0.3745 - lr: 1.0000e-04\n",
            "Epoch 331/400\n",
            "100/100 [==============================] - 1s 6ms/step - loss: 0.0153 - val_loss: 0.3704 - lr: 1.0000e-04\n",
            "Epoch 332/400\n",
            "100/100 [==============================] - 1s 6ms/step - loss: 0.0153 - val_loss: 0.3681 - lr: 1.0000e-04\n",
            "Epoch 333/400\n",
            "100/100 [==============================] - 1s 7ms/step - loss: 0.0156 - val_loss: 0.3718 - lr: 1.0000e-04\n",
            "Epoch 334/400\n",
            "100/100 [==============================] - 1s 7ms/step - loss: 0.0153 - val_loss: 0.3814 - lr: 1.0000e-04\n",
            "Epoch 335/400\n",
            "100/100 [==============================] - 1s 7ms/step - loss: 0.0154 - val_loss: 0.3772 - lr: 1.0000e-04\n",
            "Epoch 336/400\n",
            "100/100 [==============================] - 1s 7ms/step - loss: 0.0155 - val_loss: 0.3712 - lr: 1.0000e-04\n",
            "Epoch 337/400\n",
            "100/100 [==============================] - 1s 6ms/step - loss: 0.0154 - val_loss: 0.3680 - lr: 1.0000e-04\n",
            "Epoch 338/400\n",
            "100/100 [==============================] - 1s 6ms/step - loss: 0.0153 - val_loss: 0.3624 - lr: 1.0000e-04\n",
            "Epoch 339/400\n",
            "100/100 [==============================] - 1s 7ms/step - loss: 0.0157 - val_loss: 0.3696 - lr: 1.0000e-04\n",
            "Epoch 340/400\n",
            "100/100 [==============================] - 1s 6ms/step - loss: 0.0152 - val_loss: 0.3891 - lr: 1.0000e-04\n",
            "Epoch 341/400\n",
            "100/100 [==============================] - 1s 7ms/step - loss: 0.0153 - val_loss: 0.3816 - lr: 1.0000e-04\n",
            "Epoch 342/400\n",
            "100/100 [==============================] - 1s 6ms/step - loss: 0.0156 - val_loss: 0.3826 - lr: 1.0000e-04\n",
            "Epoch 343/400\n",
            "100/100 [==============================] - 1s 7ms/step - loss: 0.0153 - val_loss: 0.3696 - lr: 1.0000e-04\n",
            "Epoch 344/400\n",
            "100/100 [==============================] - 1s 7ms/step - loss: 0.0153 - val_loss: 0.3880 - lr: 1.0000e-04\n",
            "Epoch 345/400\n",
            "100/100 [==============================] - 1s 6ms/step - loss: 0.0156 - val_loss: 0.3812 - lr: 1.0000e-04\n",
            "Epoch 346/400\n",
            "100/100 [==============================] - 1s 6ms/step - loss: 0.0152 - val_loss: 0.3866 - lr: 1.0000e-04\n",
            "Epoch 347/400\n",
            "100/100 [==============================] - 1s 6ms/step - loss: 0.0153 - val_loss: 0.3797 - lr: 1.0000e-04\n",
            "Epoch 348/400\n",
            "100/100 [==============================] - 1s 6ms/step - loss: 0.0155 - val_loss: 0.3811 - lr: 1.0000e-04\n",
            "Epoch 349/400\n",
            "100/100 [==============================] - 1s 7ms/step - loss: 0.0152 - val_loss: 0.3791 - lr: 1.0000e-04\n",
            "Epoch 350/400\n",
            "100/100 [==============================] - 1s 7ms/step - loss: 0.0152 - val_loss: 0.3927 - lr: 1.0000e-04\n",
            "Epoch 351/400\n",
            "100/100 [==============================] - 1s 7ms/step - loss: 0.0154 - val_loss: 0.3853 - lr: 1.0000e-04\n",
            "Epoch 352/400\n",
            "100/100 [==============================] - 1s 7ms/step - loss: 0.0152 - val_loss: 0.3694 - lr: 1.0000e-04\n",
            "Epoch 353/400\n",
            "100/100 [==============================] - 1s 7ms/step - loss: 0.0153 - val_loss: 0.3893 - lr: 1.0000e-04\n",
            "Epoch 354/400\n",
            "100/100 [==============================] - 1s 7ms/step - loss: 0.0155 - val_loss: 0.3915 - lr: 1.0000e-04\n",
            "Epoch 355/400\n",
            "100/100 [==============================] - 1s 7ms/step - loss: 0.0152 - val_loss: 0.3792 - lr: 1.0000e-04\n",
            "Epoch 356/400\n",
            "100/100 [==============================] - 1s 7ms/step - loss: 0.0151 - val_loss: 0.3952 - lr: 1.0000e-04\n",
            "Epoch 357/400\n",
            "100/100 [==============================] - 1s 7ms/step - loss: 0.0155 - val_loss: 0.3880 - lr: 1.0000e-04\n",
            "Epoch 358/400\n",
            "100/100 [==============================] - 1s 7ms/step - loss: 0.0151 - val_loss: 0.4040 - lr: 1.0000e-04\n",
            "Epoch 359/400\n",
            "100/100 [==============================] - 1s 7ms/step - loss: 0.0152 - val_loss: 0.3944 - lr: 1.0000e-04\n",
            "Epoch 360/400\n",
            "100/100 [==============================] - 1s 7ms/step - loss: 0.0155 - val_loss: 0.3887 - lr: 1.0000e-04\n",
            "Epoch 361/400\n",
            "100/100 [==============================] - 1s 6ms/step - loss: 0.0150 - val_loss: 0.3774 - lr: 1.0000e-04\n",
            "Epoch 362/400\n",
            "100/100 [==============================] - 1s 7ms/step - loss: 0.0152 - val_loss: 0.3994 - lr: 1.0000e-04\n",
            "Epoch 363/400\n",
            "100/100 [==============================] - 1s 7ms/step - loss: 0.0154 - val_loss: 0.3942 - lr: 1.0000e-04\n",
            "Epoch 364/400\n",
            "100/100 [==============================] - 1s 6ms/step - loss: 0.0151 - val_loss: 0.3866 - lr: 1.0000e-04\n",
            "Epoch 365/400\n",
            "100/100 [==============================] - 1s 6ms/step - loss: 0.0151 - val_loss: 0.3988 - lr: 1.0000e-04\n",
            "Epoch 366/400\n",
            "100/100 [==============================] - 1s 6ms/step - loss: 0.0154 - val_loss: 0.3981 - lr: 1.0000e-04\n",
            "Epoch 367/400\n",
            "100/100 [==============================] - 1s 7ms/step - loss: 0.0151 - val_loss: 0.3910 - lr: 1.0000e-04\n",
            "Epoch 368/400\n",
            "100/100 [==============================] - 1s 7ms/step - loss: 0.0151 - val_loss: 0.4006 - lr: 1.0000e-04\n",
            "Epoch 369/400\n",
            "100/100 [==============================] - 1s 7ms/step - loss: 0.0154 - val_loss: 0.4056 - lr: 1.0000e-04\n",
            "Epoch 370/400\n",
            "100/100 [==============================] - 1s 6ms/step - loss: 0.0151 - val_loss: 0.3883 - lr: 1.0000e-04\n",
            "Epoch 371/400\n",
            "100/100 [==============================] - 1s 6ms/step - loss: 0.0152 - val_loss: 0.4033 - lr: 1.0000e-04\n",
            "Epoch 372/400\n",
            "100/100 [==============================] - 1s 6ms/step - loss: 0.0154 - val_loss: 0.4000 - lr: 1.0000e-04\n",
            "Epoch 373/400\n",
            "100/100 [==============================] - 1s 7ms/step - loss: 0.0150 - val_loss: 0.3992 - lr: 1.0000e-04\n",
            "Epoch 374/400\n",
            "100/100 [==============================] - 1s 6ms/step - loss: 0.0151 - val_loss: 0.3981 - lr: 1.0000e-04\n",
            "Epoch 375/400\n",
            "100/100 [==============================] - 1s 7ms/step - loss: 0.0154 - val_loss: 0.3982 - lr: 1.0000e-04\n",
            "Epoch 376/400\n",
            "100/100 [==============================] - 1s 7ms/step - loss: 0.0150 - val_loss: 0.4157 - lr: 1.0000e-04\n",
            "Epoch 377/400\n",
            "100/100 [==============================] - 1s 7ms/step - loss: 0.0151 - val_loss: 0.4135 - lr: 1.0000e-04\n",
            "Epoch 378/400\n",
            "100/100 [==============================] - 1s 6ms/step - loss: 0.0153 - val_loss: 0.4020 - lr: 1.0000e-04\n",
            "Epoch 379/400\n",
            "100/100 [==============================] - 1s 7ms/step - loss: 0.0150 - val_loss: 0.4005 - lr: 1.0000e-04\n",
            "Epoch 380/400\n",
            "100/100 [==============================] - 1s 7ms/step - loss: 0.0152 - val_loss: 0.4129 - lr: 1.0000e-04\n",
            "Epoch 381/400\n",
            "100/100 [==============================] - 1s 6ms/step - loss: 0.0153 - val_loss: 0.4118 - lr: 1.0000e-04\n",
            "Epoch 382/400\n",
            "100/100 [==============================] - 1s 7ms/step - loss: 0.0150 - val_loss: 0.4060 - lr: 1.0000e-04\n",
            "Epoch 383/400\n",
            "100/100 [==============================] - 1s 7ms/step - loss: 0.0150 - val_loss: 0.4076 - lr: 1.0000e-04\n",
            "Epoch 384/400\n",
            "100/100 [==============================] - 1s 7ms/step - loss: 0.0153 - val_loss: 0.4181 - lr: 1.0000e-04\n",
            "Epoch 385/400\n",
            "100/100 [==============================] - 1s 7ms/step - loss: 0.0149 - val_loss: 0.4012 - lr: 1.0000e-04\n",
            "Epoch 386/400\n",
            "100/100 [==============================] - 1s 7ms/step - loss: 0.0151 - val_loss: 0.4242 - lr: 1.0000e-04\n",
            "Epoch 387/400\n",
            "100/100 [==============================] - 1s 7ms/step - loss: 0.0153 - val_loss: 0.4206 - lr: 1.0000e-04\n",
            "Epoch 388/400\n",
            "100/100 [==============================] - 1s 7ms/step - loss: 0.0149 - val_loss: 0.4366 - lr: 1.0000e-04\n",
            "Epoch 389/400\n",
            "100/100 [==============================] - 1s 7ms/step - loss: 0.0150 - val_loss: 0.4224 - lr: 1.0000e-04\n",
            "Epoch 390/400\n",
            "100/100 [==============================] - 1s 7ms/step - loss: 0.0153 - val_loss: 0.4119 - lr: 1.0000e-04\n",
            "Epoch 391/400\n",
            "100/100 [==============================] - 1s 7ms/step - loss: 0.0148 - val_loss: 0.3995 - lr: 1.0000e-04\n",
            "Epoch 392/400\n",
            "100/100 [==============================] - 1s 6ms/step - loss: 0.0151 - val_loss: 0.4254 - lr: 1.0000e-04\n",
            "Epoch 393/400\n",
            "100/100 [==============================] - 1s 7ms/step - loss: 0.0153 - val_loss: 0.4228 - lr: 1.0000e-04\n",
            "Epoch 394/400\n",
            "100/100 [==============================] - 1s 6ms/step - loss: 0.0149 - val_loss: 0.4052 - lr: 1.0000e-04\n",
            "Epoch 395/400\n",
            "100/100 [==============================] - 1s 7ms/step - loss: 0.0150 - val_loss: 0.4182 - lr: 1.0000e-04\n",
            "Epoch 396/400\n",
            "100/100 [==============================] - 1s 7ms/step - loss: 0.0151 - val_loss: 0.4195 - lr: 1.0000e-04\n",
            "Epoch 397/400\n",
            "100/100 [==============================] - 1s 8ms/step - loss: 0.0148 - val_loss: 0.4256 - lr: 1.0000e-04\n",
            "Epoch 398/400\n",
            "100/100 [==============================] - 1s 7ms/step - loss: 0.0150 - val_loss: 0.4231 - lr: 1.0000e-04\n",
            "Epoch 399/400\n",
            "100/100 [==============================] - 1s 6ms/step - loss: 0.0152 - val_loss: 0.4217 - lr: 1.0000e-04\n",
            "Epoch 400/400\n",
            "100/100 [==============================] - 1s 6ms/step - loss: 0.0149 - val_loss: 0.4387 - lr: 1.0000e-04\n",
            "mae: tf.Tensor(0.43870142, shape=(), dtype=float32)\n",
            "mse: tf.Tensor(0.28573582, shape=(), dtype=float32)\n",
            "mape: tf.Tensor(40.282898, shape=(), dtype=float32)\n"
          ]
        },
        {
          "output_type": "display_data",
          "data": {
            "image/png": "[encoded data removed]",
            "text/plain": [
              "<Figure size 432x288 with 1 Axes>"
            ]
          },
          "metadata": {
            "needs_background": "light"
          }
        }
      ],
      "source": [
        "opt = keras.optimizers.Adam(learning_rate=0.001)\n",
        "model_testing = Sequential()\n",
        "model_testing.add(Conv1D(filters=13, kernel_size=4, activation='relu', input_shape=(LOOK_BACK, n_features)))\n",
        "model_testing.add(MaxPooling1D(pool_size=2))\n",
        "model_testing.add(Flatten())\n",
        "model_testing.add(RepeatVector(FORECAST_RANGE))\n",
        "model_testing.add(LSTM(60, activation='relu', return_sequences=True))\n",
        "model_testing.add(TimeDistributed(Dense(100, activation='relu')))\n",
        "model_testing.add(TimeDistributed(Dense(n_features)))\n",
        "model_testing.compile(loss='mae', optimizer=opt)\n",
        "plot_model(model=model_testing, show_shapes=True)\n",
        "history = model_testing.fit(train_data,epochs=400,steps_per_epoch=100,validation_data=val_data,validation_steps=25,verbose=1,callbacks=[checkpoint_callback, rlrop_callback])\n",
        "yhat = model_testing.predict(X_test, verbose=0)\n",
        "yhat_inverse, y_test_inverse = inverse_transform(y_test, yhat)\n",
        "evaluate_forecast(y_test, yhat)\n",
        "pyplot.plot(history.history['loss'], label='train')\n",
        "pyplot.plot(history.history['val_loss'], label='test')\n",
        "pyplot.legend()\n",
        "pyplot.show()\n",
        "#0.12 best"
      ]
    },
    {
      "cell_type": "code",
      "execution_count": 26,
      "metadata": {
        "id": "uPeCpd0aMVtk",
        "colab": {
          "base_uri": "https://localhost:8080/",
          "height": 1000
        },
        "outputId": "6857ccff-acbc-4b03-ae39-d23ff01f7778"
      },
      "outputs": [
        {
          "output_type": "stream",
          "name": "stdout",
          "text": [
            "Epoch 1/400\n",
            "100/100 [==============================] - 3s 9ms/step - loss: 0.1141 - val_loss: 0.3655\n",
            "Epoch 2/400\n",
            "100/100 [==============================] - 1s 6ms/step - loss: 0.0438 - val_loss: 0.2000\n",
            "Epoch 3/400\n",
            "100/100 [==============================] - 1s 6ms/step - loss: 0.0358 - val_loss: 0.1836\n",
            "Epoch 4/400\n",
            "100/100 [==============================] - 1s 6ms/step - loss: 0.0313 - val_loss: 0.1753\n",
            "Epoch 5/400\n",
            "100/100 [==============================] - 1s 6ms/step - loss: 0.0339 - val_loss: 0.1923\n",
            "Epoch 6/400\n",
            "100/100 [==============================] - 1s 6ms/step - loss: 0.0315 - val_loss: 0.1797\n",
            "Epoch 7/400\n",
            "100/100 [==============================] - 1s 6ms/step - loss: 0.0291 - val_loss: 0.1469\n",
            "Epoch 8/400\n",
            "100/100 [==============================] - 1s 6ms/step - loss: 0.0281 - val_loss: 0.1847\n",
            "Epoch 9/400\n",
            "100/100 [==============================] - 1s 6ms/step - loss: 0.0283 - val_loss: 0.1583\n",
            "Epoch 10/400\n",
            "100/100 [==============================] - 1s 6ms/step - loss: 0.0274 - val_loss: 0.1387\n",
            "Epoch 11/400\n",
            "100/100 [==============================] - 1s 6ms/step - loss: 0.0270 - val_loss: 0.1650\n",
            "Epoch 12/400\n",
            "100/100 [==============================] - 1s 6ms/step - loss: 0.0267 - val_loss: 0.1534\n",
            "Epoch 13/400\n",
            "100/100 [==============================] - 1s 6ms/step - loss: 0.0257 - val_loss: 0.1302\n",
            "Epoch 14/400\n",
            "100/100 [==============================] - 1s 6ms/step - loss: 0.0249 - val_loss: 0.1537\n",
            "Epoch 15/400\n",
            "100/100 [==============================] - 1s 7ms/step - loss: 0.0258 - val_loss: 0.1435\n",
            "Epoch 16/400\n",
            "100/100 [==============================] - 1s 6ms/step - loss: 0.0251 - val_loss: 0.1225\n",
            "Epoch 17/400\n",
            "100/100 [==============================] - 1s 6ms/step - loss: 0.0254 - val_loss: 0.1424\n",
            "Epoch 18/400\n",
            "100/100 [==============================] - 1s 6ms/step - loss: 0.0239 - val_loss: 0.1333\n",
            "Epoch 19/400\n",
            "100/100 [==============================] - 1s 6ms/step - loss: 0.0240 - val_loss: 0.1273\n",
            "Epoch 20/400\n",
            "100/100 [==============================] - 1s 6ms/step - loss: 0.0233 - val_loss: 0.1596\n",
            "Epoch 21/400\n",
            "100/100 [==============================] - 1s 6ms/step - loss: 0.0251 - val_loss: 0.1427\n",
            "Epoch 22/400\n",
            "100/100 [==============================] - 1s 6ms/step - loss: 0.0234 - val_loss: 0.1197\n",
            "Epoch 23/400\n",
            "100/100 [==============================] - 1s 6ms/step - loss: 0.0242 - val_loss: 0.1600\n",
            "Epoch 24/400\n",
            "100/100 [==============================] - 1s 6ms/step - loss: 0.0240 - val_loss: 0.1397\n",
            "Epoch 25/400\n",
            "100/100 [==============================] - 1s 7ms/step - loss: 0.0222 - val_loss: 0.1120\n",
            "Epoch 26/400\n",
            "100/100 [==============================] - 1s 6ms/step - loss: 0.0234 - val_loss: 0.1475\n",
            "Epoch 27/400\n",
            "100/100 [==============================] - 1s 6ms/step - loss: 0.0214 - val_loss: 0.1366\n",
            "Epoch 28/400\n",
            "100/100 [==============================] - 1s 6ms/step - loss: 0.0229 - val_loss: 0.1157\n",
            "Epoch 29/400\n",
            "100/100 [==============================] - 1s 6ms/step - loss: 0.0238 - val_loss: 0.1616\n",
            "Epoch 30/400\n",
            "100/100 [==============================] - 1s 6ms/step - loss: 0.0236 - val_loss: 0.1579\n",
            "Epoch 31/400\n",
            "100/100 [==============================] - 1s 6ms/step - loss: 0.0218 - val_loss: 0.1334\n",
            "Epoch 32/400\n",
            "100/100 [==============================] - 1s 6ms/step - loss: 0.0229 - val_loss: 0.1587\n",
            "Epoch 33/400\n",
            "100/100 [==============================] - 1s 6ms/step - loss: 0.0215 - val_loss: 0.1411\n",
            "Epoch 34/400\n",
            "100/100 [==============================] - 1s 6ms/step - loss: 0.0225 - val_loss: 0.1739\n",
            "Epoch 35/400\n",
            "100/100 [==============================] - 1s 7ms/step - loss: 0.0216 - val_loss: 0.1317\n",
            "mae: tf.Tensor(0.13170505, shape=(), dtype=float32)\n",
            "mse: tf.Tensor(0.02607127, shape=(), dtype=float32)\n",
            "mape: tf.Tensor(11.732329, shape=(), dtype=float32)\n"
          ]
        },
        {
          "output_type": "display_data",
          "data": {
            "image/png": "[encoded data removed]",
            "text/plain": [
              "<Figure size 432x288 with 1 Axes>"
            ]
          },
          "metadata": {
            "needs_background": "light"
          }
        }
      ],
      "source": [
        "model_kronos = Sequential()\n",
        "model_kronos.add(Conv1D(filters=13, kernel_size=4, activation='relu', input_shape=(LOOK_BACK, n_features)))\n",
        "model_kronos.add(MaxPooling1D(pool_size=2))\n",
        "model_kronos.add(Flatten())\n",
        "model_kronos.add(RepeatVector(FORECAST_RANGE))\n",
        "model_kronos.add(LSTM(60, activation='relu', return_sequences=True))\n",
        "model_kronos.add(TimeDistributed(Dense(200, activation='relu')))\n",
        "model_kronos.add(TimeDistributed(Dense(n_features)))\n",
        "model_kronos.compile(loss='mae', optimizer='adam')\n",
        "plot_model(model=model_kronos, show_shapes=True)\n",
        "history = model_kronos.fit(train_data,epochs=400,steps_per_epoch=100,validation_data=val_data,validation_steps=25,verbose=1,callbacks=[early_stopping_callback])\n",
        "yhat = model_kronos.predict(X_test, verbose=0)\n",
        "yhat_inverse, y_test_inverse = inverse_transform(y_test, yhat)\n",
        "evaluate_forecast(y_test, yhat)\n",
        "pyplot.plot(history.history['loss'], label='train')\n",
        "pyplot.plot(history.history['val_loss'], label='test')\n",
        "pyplot.legend()\n",
        "pyplot.show()\n",
        "#0.11 best"
      ]
    },
    {
      "cell_type": "code",
      "execution_count": 27,
      "metadata": {
        "id": "Eof5zx6pOzl3",
        "colab": {
          "base_uri": "https://localhost:8080/",
          "height": 1000
        },
        "outputId": "047cf203-fcc1-4a25-cf46-67bace3fb025"
      },
      "outputs": [
        {
          "output_type": "stream",
          "name": "stdout",
          "text": [
            "Epoch 1/200\n",
            "6/6 [==============================] - 3s 111ms/step - loss: 0.1731 - val_loss: 0.7386 - lr: 0.0010\n",
            "Epoch 2/200\n",
            "6/6 [==============================] - 0s 21ms/step - loss: 0.1483 - val_loss: 0.5317 - lr: 0.0010\n",
            "Epoch 3/200\n",
            "6/6 [==============================] - 0s 21ms/step - loss: 0.1021 - val_loss: 0.3784 - lr: 0.0010\n",
            "Epoch 4/200\n",
            "6/6 [==============================] - 0s 23ms/step - loss: 0.0736 - val_loss: 0.2836 - lr: 0.0010\n",
            "Epoch 5/200\n",
            "6/6 [==============================] - 0s 19ms/step - loss: 0.0568 - val_loss: 0.2391 - lr: 0.0010\n",
            "Epoch 6/200\n",
            "6/6 [==============================] - 0s 20ms/step - loss: 0.0419 - val_loss: 0.1708 - lr: 0.0010\n",
            "Epoch 7/200\n",
            "6/6 [==============================] - 0s 21ms/step - loss: 0.0310 - val_loss: 0.1218 - lr: 0.0010\n",
            "Epoch 8/200\n",
            "6/6 [==============================] - 0s 19ms/step - loss: 0.0212 - val_loss: 0.0645 - lr: 0.0010\n",
            "Epoch 9/200\n",
            "5/6 [========================>.....] - ETA: 0s - loss: 0.0129INFO:tensorflow:Assets written to: path_to_checkpoint_filepath/assets\n"
          ]
        },
        {
          "output_type": "stream",
          "name": "stderr",
          "text": [
            "INFO:tensorflow:Assets written to: path_to_checkpoint_filepath/assets\n",
            "WARNING:absl:<keras.layers.recurrent.LSTMCell object at 0x7f3a5b6ed750> has the same name 'LSTMCell' as a built-in Keras object. Consider renaming <class 'keras.layers.recurrent.LSTMCell'> to avoid naming conflicts when loading with `tf.keras.models.load_model`. If renaming is not possible, pass the object in the `custom_objects` parameter of the load function.\n",
            "WARNING:absl:<keras.layers.recurrent.LSTMCell object at 0x7f3a5b5a0150> has the same name 'LSTMCell' as a built-in Keras object. Consider renaming <class 'keras.layers.recurrent.LSTMCell'> to avoid naming conflicts when loading with `tf.keras.models.load_model`. If renaming is not possible, pass the object in the `custom_objects` parameter of the load function.\n"
          ]
        },
        {
          "output_type": "stream",
          "name": "stdout",
          "text": [
            "\b\b\b\b\b\b\b\b\b\b\b\b\b\b\b\b\b\b\b\b\b\b\b\b\b\b\b\b\b\b\b\b\b\b\b\b\b\b\b\b\b\b\b\b\b\b\b\b\b\b\b\b\b\b\b\b\b\b\b\b\b\r6/6 [==============================] - 5s 974ms/step - loss: 0.0124 - val_loss: 0.0414 - lr: 0.0010\n",
            "Epoch 10/200\n",
            "5/6 [========================>.....] - ETA: 0s - loss: 0.0089INFO:tensorflow:Assets written to: path_to_checkpoint_filepath/assets\n"
          ]
        },
        {
          "output_type": "stream",
          "name": "stderr",
          "text": [
            "INFO:tensorflow:Assets written to: path_to_checkpoint_filepath/assets\n",
            "WARNING:absl:<keras.layers.recurrent.LSTMCell object at 0x7f3a5b6ed750> has the same name 'LSTMCell' as a built-in Keras object. Consider renaming <class 'keras.layers.recurrent.LSTMCell'> to avoid naming conflicts when loading with `tf.keras.models.load_model`. If renaming is not possible, pass the object in the `custom_objects` parameter of the load function.\n",
            "WARNING:absl:<keras.layers.recurrent.LSTMCell object at 0x7f3a5b5a0150> has the same name 'LSTMCell' as a built-in Keras object. Consider renaming <class 'keras.layers.recurrent.LSTMCell'> to avoid naming conflicts when loading with `tf.keras.models.load_model`. If renaming is not possible, pass the object in the `custom_objects` parameter of the load function.\n"
          ]
        },
        {
          "output_type": "stream",
          "name": "stdout",
          "text": [
            "\b\b\b\b\b\b\b\b\b\b\b\b\b\b\b\b\b\b\b\b\b\b\b\b\b\b\b\b\b\b\b\b\b\b\b\b\b\b\b\b\b\b\b\b\b\b\b\b\b\b\b\b\b\b\b\b\b\b\b\b\b\r6/6 [==============================] - 5s 900ms/step - loss: 0.0087 - val_loss: 0.0235 - lr: 0.0010\n",
            "Epoch 11/200\n",
            "5/6 [========================>.....] - ETA: 0s - loss: 0.0076INFO:tensorflow:Assets written to: path_to_checkpoint_filepath/assets\n"
          ]
        },
        {
          "output_type": "stream",
          "name": "stderr",
          "text": [
            "INFO:tensorflow:Assets written to: path_to_checkpoint_filepath/assets\n",
            "WARNING:absl:<keras.layers.recurrent.LSTMCell object at 0x7f3a5b6ed750> has the same name 'LSTMCell' as a built-in Keras object. Consider renaming <class 'keras.layers.recurrent.LSTMCell'> to avoid naming conflicts when loading with `tf.keras.models.load_model`. If renaming is not possible, pass the object in the `custom_objects` parameter of the load function.\n",
            "WARNING:absl:<keras.layers.recurrent.LSTMCell object at 0x7f3a5b5a0150> has the same name 'LSTMCell' as a built-in Keras object. Consider renaming <class 'keras.layers.recurrent.LSTMCell'> to avoid naming conflicts when loading with `tf.keras.models.load_model`. If renaming is not possible, pass the object in the `custom_objects` parameter of the load function.\n"
          ]
        },
        {
          "output_type": "stream",
          "name": "stdout",
          "text": [
            "\b\b\b\b\b\b\b\b\b\b\b\b\b\b\b\b\b\b\b\b\b\b\b\b\b\b\b\b\b\b\b\b\b\b\b\b\b\b\b\b\b\b\b\b\b\b\b\b\b\b\b\b\b\b\b\b\b\b\b\b\b\r6/6 [==============================] - 5s 918ms/step - loss: 0.0075 - val_loss: 0.0180 - lr: 0.0010\n",
            "Epoch 12/200\n",
            "6/6 [==============================] - 0s 19ms/step - loss: 0.0065 - val_loss: 0.0206 - lr: 0.0010\n",
            "Epoch 13/200\n",
            "6/6 [==============================] - 0s 20ms/step - loss: 0.0057 - val_loss: 0.0198 - lr: 0.0010\n",
            "Epoch 14/200\n",
            "5/6 [========================>.....] - ETA: 0s - loss: 0.0051INFO:tensorflow:Assets written to: path_to_checkpoint_filepath/assets\n"
          ]
        },
        {
          "output_type": "stream",
          "name": "stderr",
          "text": [
            "INFO:tensorflow:Assets written to: path_to_checkpoint_filepath/assets\n",
            "WARNING:absl:<keras.layers.recurrent.LSTMCell object at 0x7f3a5b6ed750> has the same name 'LSTMCell' as a built-in Keras object. Consider renaming <class 'keras.layers.recurrent.LSTMCell'> to avoid naming conflicts when loading with `tf.keras.models.load_model`. If renaming is not possible, pass the object in the `custom_objects` parameter of the load function.\n",
            "WARNING:absl:<keras.layers.recurrent.LSTMCell object at 0x7f3a5b5a0150> has the same name 'LSTMCell' as a built-in Keras object. Consider renaming <class 'keras.layers.recurrent.LSTMCell'> to avoid naming conflicts when loading with `tf.keras.models.load_model`. If renaming is not possible, pass the object in the `custom_objects` parameter of the load function.\n"
          ]
        },
        {
          "output_type": "stream",
          "name": "stdout",
          "text": [
            "\b\b\b\b\b\b\b\b\b\b\b\b\b\b\b\b\b\b\b\b\b\b\b\b\b\b\b\b\b\b\b\b\b\b\b\b\b\b\b\b\b\b\b\b\b\b\b\b\b\b\b\b\b\b\b\b\b\b\b\b\b\r6/6 [==============================] - 5s 1s/step - loss: 0.0051 - val_loss: 0.0165 - lr: 0.0010\n",
            "Epoch 15/200\n",
            "5/6 [========================>.....] - ETA: 0s - loss: 0.0046INFO:tensorflow:Assets written to: path_to_checkpoint_filepath/assets\n"
          ]
        },
        {
          "output_type": "stream",
          "name": "stderr",
          "text": [
            "INFO:tensorflow:Assets written to: path_to_checkpoint_filepath/assets\n",
            "WARNING:absl:<keras.layers.recurrent.LSTMCell object at 0x7f3a5b6ed750> has the same name 'LSTMCell' as a built-in Keras object. Consider renaming <class 'keras.layers.recurrent.LSTMCell'> to avoid naming conflicts when loading with `tf.keras.models.load_model`. If renaming is not possible, pass the object in the `custom_objects` parameter of the load function.\n",
            "WARNING:absl:<keras.layers.recurrent.LSTMCell object at 0x7f3a5b5a0150> has the same name 'LSTMCell' as a built-in Keras object. Consider renaming <class 'keras.layers.recurrent.LSTMCell'> to avoid naming conflicts when loading with `tf.keras.models.load_model`. If renaming is not possible, pass the object in the `custom_objects` parameter of the load function.\n"
          ]
        },
        {
          "output_type": "stream",
          "name": "stdout",
          "text": [
            "\b\b\b\b\b\b\b\b\b\b\b\b\b\b\b\b\b\b\b\b\b\b\b\b\b\b\b\b\b\b\b\b\b\b\b\b\b\b\b\b\b\b\b\b\b\b\b\b\b\b\b\b\b\b\b\b\b\b\b\b\b\r6/6 [==============================] - 5s 909ms/step - loss: 0.0045 - val_loss: 0.0142 - lr: 0.0010\n",
            "Epoch 16/200\n",
            "4/6 [===================>..........] - ETA: 0s - loss: 0.0043INFO:tensorflow:Assets written to: path_to_checkpoint_filepath/assets\n"
          ]
        },
        {
          "output_type": "stream",
          "name": "stderr",
          "text": [
            "INFO:tensorflow:Assets written to: path_to_checkpoint_filepath/assets\n",
            "WARNING:absl:<keras.layers.recurrent.LSTMCell object at 0x7f3a5b6ed750> has the same name 'LSTMCell' as a built-in Keras object. Consider renaming <class 'keras.layers.recurrent.LSTMCell'> to avoid naming conflicts when loading with `tf.keras.models.load_model`. If renaming is not possible, pass the object in the `custom_objects` parameter of the load function.\n",
            "WARNING:absl:<keras.layers.recurrent.LSTMCell object at 0x7f3a5b5a0150> has the same name 'LSTMCell' as a built-in Keras object. Consider renaming <class 'keras.layers.recurrent.LSTMCell'> to avoid naming conflicts when loading with `tf.keras.models.load_model`. If renaming is not possible, pass the object in the `custom_objects` parameter of the load function.\n"
          ]
        },
        {
          "output_type": "stream",
          "name": "stdout",
          "text": [
            "\b\b\b\b\b\b\b\b\b\b\b\b\b\b\b\b\b\b\b\b\b\b\b\b\b\b\b\b\b\b\b\b\b\b\b\b\b\b\b\b\b\b\b\b\b\b\b\b\b\b\b\b\b\b\b\b\b\b\b\b\b\r6/6 [==============================] - 5s 1s/step - loss: 0.0042 - val_loss: 0.0119 - lr: 0.0010\n",
            "Epoch 17/200\n",
            "6/6 [==============================] - 0s 24ms/step - loss: 0.0038 - val_loss: 0.0121 - lr: 0.0010\n",
            "Epoch 18/200\n",
            "6/6 [==============================] - 0s 20ms/step - loss: 0.0036 - val_loss: 0.0128 - lr: 0.0010\n",
            "Epoch 19/200\n",
            "4/6 [===================>..........] - ETA: 0s - loss: 0.0037INFO:tensorflow:Assets written to: path_to_checkpoint_filepath/assets\n"
          ]
        },
        {
          "output_type": "stream",
          "name": "stderr",
          "text": [
            "INFO:tensorflow:Assets written to: path_to_checkpoint_filepath/assets\n",
            "WARNING:absl:<keras.layers.recurrent.LSTMCell object at 0x7f3a5b6ed750> has the same name 'LSTMCell' as a built-in Keras object. Consider renaming <class 'keras.layers.recurrent.LSTMCell'> to avoid naming conflicts when loading with `tf.keras.models.load_model`. If renaming is not possible, pass the object in the `custom_objects` parameter of the load function.\n",
            "WARNING:absl:<keras.layers.recurrent.LSTMCell object at 0x7f3a5b5a0150> has the same name 'LSTMCell' as a built-in Keras object. Consider renaming <class 'keras.layers.recurrent.LSTMCell'> to avoid naming conflicts when loading with `tf.keras.models.load_model`. If renaming is not possible, pass the object in the `custom_objects` parameter of the load function.\n"
          ]
        },
        {
          "output_type": "stream",
          "name": "stdout",
          "text": [
            "\b\b\b\b\b\b\b\b\b\b\b\b\b\b\b\b\b\b\b\b\b\b\b\b\b\b\b\b\b\b\b\b\b\b\b\b\b\b\b\b\b\b\b\b\b\b\b\b\b\b\b\b\b\b\b\b\b\b\b\b\b\r6/6 [==============================] - 5s 912ms/step - loss: 0.0035 - val_loss: 0.0093 - lr: 0.0010\n",
            "Epoch 20/200\n",
            "6/6 [==============================] - 0s 19ms/step - loss: 0.0034 - val_loss: 0.0093 - lr: 0.0010\n",
            "Epoch 21/200\n",
            "6/6 [==============================] - 0s 19ms/step - loss: 0.0033 - val_loss: 0.0108 - lr: 0.0010\n",
            "Epoch 22/200\n",
            "4/6 [===================>..........] - ETA: 0s - loss: 0.0033INFO:tensorflow:Assets written to: path_to_checkpoint_filepath/assets\n"
          ]
        },
        {
          "output_type": "stream",
          "name": "stderr",
          "text": [
            "INFO:tensorflow:Assets written to: path_to_checkpoint_filepath/assets\n",
            "WARNING:absl:<keras.layers.recurrent.LSTMCell object at 0x7f3a5b6ed750> has the same name 'LSTMCell' as a built-in Keras object. Consider renaming <class 'keras.layers.recurrent.LSTMCell'> to avoid naming conflicts when loading with `tf.keras.models.load_model`. If renaming is not possible, pass the object in the `custom_objects` parameter of the load function.\n",
            "WARNING:absl:<keras.layers.recurrent.LSTMCell object at 0x7f3a5b5a0150> has the same name 'LSTMCell' as a built-in Keras object. Consider renaming <class 'keras.layers.recurrent.LSTMCell'> to avoid naming conflicts when loading with `tf.keras.models.load_model`. If renaming is not possible, pass the object in the `custom_objects` parameter of the load function.\n"
          ]
        },
        {
          "output_type": "stream",
          "name": "stdout",
          "text": [
            "\b\b\b\b\b\b\b\b\b\b\b\b\b\b\b\b\b\b\b\b\b\b\b\b\b\b\b\b\b\b\b\b\b\b\b\b\b\b\b\b\b\b\b\b\b\b\b\b\b\b\b\b\b\b\b\b\b\b\b\b\b\r6/6 [==============================] - 5s 1s/step - loss: 0.0033 - val_loss: 0.0080 - lr: 0.0010\n",
            "Epoch 23/200\n",
            "6/6 [==============================] - 0s 22ms/step - loss: 0.0031 - val_loss: 0.0090 - lr: 0.0010\n",
            "Epoch 24/200\n",
            "6/6 [==============================] - 0s 19ms/step - loss: 0.0031 - val_loss: 0.0090 - lr: 0.0010\n",
            "Epoch 25/200\n",
            "4/6 [===================>..........] - ETA: 0s - loss: 0.0030INFO:tensorflow:Assets written to: path_to_checkpoint_filepath/assets\n"
          ]
        },
        {
          "output_type": "stream",
          "name": "stderr",
          "text": [
            "INFO:tensorflow:Assets written to: path_to_checkpoint_filepath/assets\n",
            "WARNING:absl:<keras.layers.recurrent.LSTMCell object at 0x7f3a5b6ed750> has the same name 'LSTMCell' as a built-in Keras object. Consider renaming <class 'keras.layers.recurrent.LSTMCell'> to avoid naming conflicts when loading with `tf.keras.models.load_model`. If renaming is not possible, pass the object in the `custom_objects` parameter of the load function.\n",
            "WARNING:absl:<keras.layers.recurrent.LSTMCell object at 0x7f3a5b5a0150> has the same name 'LSTMCell' as a built-in Keras object. Consider renaming <class 'keras.layers.recurrent.LSTMCell'> to avoid naming conflicts when loading with `tf.keras.models.load_model`. If renaming is not possible, pass the object in the `custom_objects` parameter of the load function.\n"
          ]
        },
        {
          "output_type": "stream",
          "name": "stdout",
          "text": [
            "\b\b\b\b\b\b\b\b\b\b\b\b\b\b\b\b\b\b\b\b\b\b\b\b\b\b\b\b\b\b\b\b\b\b\b\b\b\b\b\b\b\b\b\b\b\b\b\b\b\b\b\b\b\b\b\b\b\b\b\b\b\r6/6 [==============================] - 5s 926ms/step - loss: 0.0029 - val_loss: 0.0063 - lr: 0.0010\n",
            "Epoch 26/200\n",
            "5/6 [========================>.....] - ETA: 0s - loss: 0.0026INFO:tensorflow:Assets written to: path_to_checkpoint_filepath/assets\n"
          ]
        },
        {
          "output_type": "stream",
          "name": "stderr",
          "text": [
            "INFO:tensorflow:Assets written to: path_to_checkpoint_filepath/assets\n",
            "WARNING:absl:<keras.layers.recurrent.LSTMCell object at 0x7f3a5b6ed750> has the same name 'LSTMCell' as a built-in Keras object. Consider renaming <class 'keras.layers.recurrent.LSTMCell'> to avoid naming conflicts when loading with `tf.keras.models.load_model`. If renaming is not possible, pass the object in the `custom_objects` parameter of the load function.\n",
            "WARNING:absl:<keras.layers.recurrent.LSTMCell object at 0x7f3a5b5a0150> has the same name 'LSTMCell' as a built-in Keras object. Consider renaming <class 'keras.layers.recurrent.LSTMCell'> to avoid naming conflicts when loading with `tf.keras.models.load_model`. If renaming is not possible, pass the object in the `custom_objects` parameter of the load function.\n"
          ]
        },
        {
          "output_type": "stream",
          "name": "stdout",
          "text": [
            "\b\b\b\b\b\b\b\b\b\b\b\b\b\b\b\b\b\b\b\b\b\b\b\b\b\b\b\b\b\b\b\b\b\b\b\b\b\b\b\b\b\b\b\b\b\b\b\b\b\b\b\b\b\b\b\b\b\b\b\b\b\r6/6 [==============================] - 5s 1s/step - loss: 0.0027 - val_loss: 0.0062 - lr: 0.0010\n",
            "Epoch 27/200\n",
            "6/6 [==============================] - 0s 20ms/step - loss: 0.0026 - val_loss: 0.0068 - lr: 0.0010\n",
            "Epoch 28/200\n",
            "6/6 [==============================] - 0s 21ms/step - loss: 0.0026 - val_loss: 0.0071 - lr: 0.0010\n",
            "Epoch 29/200\n",
            "6/6 [==============================] - 0s 20ms/step - loss: 0.0025 - val_loss: 0.0065 - lr: 1.0000e-04\n",
            "Epoch 30/200\n",
            "4/6 [===================>..........] - ETA: 0s - loss: 0.0024INFO:tensorflow:Assets written to: path_to_checkpoint_filepath/assets\n"
          ]
        },
        {
          "output_type": "stream",
          "name": "stderr",
          "text": [
            "INFO:tensorflow:Assets written to: path_to_checkpoint_filepath/assets\n",
            "WARNING:absl:<keras.layers.recurrent.LSTMCell object at 0x7f3a5b6ed750> has the same name 'LSTMCell' as a built-in Keras object. Consider renaming <class 'keras.layers.recurrent.LSTMCell'> to avoid naming conflicts when loading with `tf.keras.models.load_model`. If renaming is not possible, pass the object in the `custom_objects` parameter of the load function.\n",
            "WARNING:absl:<keras.layers.recurrent.LSTMCell object at 0x7f3a5b5a0150> has the same name 'LSTMCell' as a built-in Keras object. Consider renaming <class 'keras.layers.recurrent.LSTMCell'> to avoid naming conflicts when loading with `tf.keras.models.load_model`. If renaming is not possible, pass the object in the `custom_objects` parameter of the load function.\n"
          ]
        },
        {
          "output_type": "stream",
          "name": "stdout",
          "text": [
            "\b\b\b\b\b\b\b\b\b\b\b\b\b\b\b\b\b\b\b\b\b\b\b\b\b\b\b\b\b\b\b\b\b\b\b\b\b\b\b\b\b\b\b\b\b\b\b\b\b\b\b\b\b\b\b\b\b\b\b\b\b\r6/6 [==============================] - 5s 911ms/step - loss: 0.0025 - val_loss: 0.0061 - lr: 1.0000e-04\n",
            "Epoch 31/200\n",
            "6/6 [==============================] - 0s 20ms/step - loss: 0.0024 - val_loss: 0.0064 - lr: 1.0000e-04\n",
            "Epoch 32/200\n",
            "6/6 [==============================] - 0s 20ms/step - loss: 0.0024 - val_loss: 0.0064 - lr: 1.0000e-04\n",
            "Epoch 33/200\n",
            "5/6 [========================>.....] - ETA: 0s - loss: 0.0024INFO:tensorflow:Assets written to: path_to_checkpoint_filepath/assets\n"
          ]
        },
        {
          "output_type": "stream",
          "name": "stderr",
          "text": [
            "INFO:tensorflow:Assets written to: path_to_checkpoint_filepath/assets\n",
            "WARNING:absl:<keras.layers.recurrent.LSTMCell object at 0x7f3a5b6ed750> has the same name 'LSTMCell' as a built-in Keras object. Consider renaming <class 'keras.layers.recurrent.LSTMCell'> to avoid naming conflicts when loading with `tf.keras.models.load_model`. If renaming is not possible, pass the object in the `custom_objects` parameter of the load function.\n",
            "WARNING:absl:<keras.layers.recurrent.LSTMCell object at 0x7f3a5b5a0150> has the same name 'LSTMCell' as a built-in Keras object. Consider renaming <class 'keras.layers.recurrent.LSTMCell'> to avoid naming conflicts when loading with `tf.keras.models.load_model`. If renaming is not possible, pass the object in the `custom_objects` parameter of the load function.\n"
          ]
        },
        {
          "output_type": "stream",
          "name": "stdout",
          "text": [
            "\b\b\b\b\b\b\b\b\b\b\b\b\b\b\b\b\b\b\b\b\b\b\b\b\b\b\b\b\b\b\b\b\b\b\b\b\b\b\b\b\b\b\b\b\b\b\b\b\b\b\b\b\b\b\b\b\b\b\b\b\b\r6/6 [==============================] - 5s 1s/step - loss: 0.0024 - val_loss: 0.0061 - lr: 1.0000e-04\n",
            "Epoch 34/200\n",
            "4/6 [===================>..........] - ETA: 0s - loss: 0.0024INFO:tensorflow:Assets written to: path_to_checkpoint_filepath/assets\n"
          ]
        },
        {
          "output_type": "stream",
          "name": "stderr",
          "text": [
            "INFO:tensorflow:Assets written to: path_to_checkpoint_filepath/assets\n",
            "WARNING:absl:<keras.layers.recurrent.LSTMCell object at 0x7f3a5b6ed750> has the same name 'LSTMCell' as a built-in Keras object. Consider renaming <class 'keras.layers.recurrent.LSTMCell'> to avoid naming conflicts when loading with `tf.keras.models.load_model`. If renaming is not possible, pass the object in the `custom_objects` parameter of the load function.\n",
            "WARNING:absl:<keras.layers.recurrent.LSTMCell object at 0x7f3a5b5a0150> has the same name 'LSTMCell' as a built-in Keras object. Consider renaming <class 'keras.layers.recurrent.LSTMCell'> to avoid naming conflicts when loading with `tf.keras.models.load_model`. If renaming is not possible, pass the object in the `custom_objects` parameter of the load function.\n"
          ]
        },
        {
          "output_type": "stream",
          "name": "stdout",
          "text": [
            "\b\b\b\b\b\b\b\b\b\b\b\b\b\b\b\b\b\b\b\b\b\b\b\b\b\b\b\b\b\b\b\b\b\b\b\b\b\b\b\b\b\b\b\b\b\b\b\b\b\b\b\b\b\b\b\b\b\b\b\b\b\r6/6 [==============================] - 5s 912ms/step - loss: 0.0024 - val_loss: 0.0060 - lr: 1.0000e-04\n",
            "Epoch 35/200\n",
            "6/6 [==============================] - 0s 20ms/step - loss: 0.0024 - val_loss: 0.0062 - lr: 1.0000e-04\n",
            "WARNING:tensorflow:5 out of the last 5 calls to <function Model.make_predict_function.<locals>.predict_function at 0x7f3a5b8e3d40> triggered tf.function retracing. Tracing is expensive and the excessive number of tracings could be due to (1) creating @tf.function repeatedly in a loop, (2) passing tensors with different shapes, (3) passing Python objects instead of tensors. For (1), please define your @tf.function outside of the loop. For (2), @tf.function has experimental_relax_shapes=True option that relaxes argument shapes that can avoid unnecessary retracing. For (3), please refer to https://www.tensorflow.org/guide/function#controlling_retracing and https://www.tensorflow.org/api_docs/python/tf/function for  more details.\n"
          ]
        },
        {
          "output_type": "stream",
          "name": "stderr",
          "text": [
            "WARNING:tensorflow:5 out of the last 5 calls to <function Model.make_predict_function.<locals>.predict_function at 0x7f3a5b8e3d40> triggered tf.function retracing. Tracing is expensive and the excessive number of tracings could be due to (1) creating @tf.function repeatedly in a loop, (2) passing tensors with different shapes, (3) passing Python objects instead of tensors. For (1), please define your @tf.function outside of the loop. For (2), @tf.function has experimental_relax_shapes=True option that relaxes argument shapes that can avoid unnecessary retracing. For (3), please refer to https://www.tensorflow.org/guide/function#controlling_retracing and https://www.tensorflow.org/api_docs/python/tf/function for  more details.\n"
          ]
        },
        {
          "output_type": "stream",
          "name": "stdout",
          "text": [
            "mae: tf.Tensor(0.2244662, shape=(), dtype=float32)\n",
            "mse: tf.Tensor(0.08196843, shape=(), dtype=float32)\n",
            "mape: tf.Tensor(20.13939, shape=(), dtype=float32)\n"
          ]
        },
        {
          "output_type": "display_data",
          "data": {
            "image/png": "[encoded data removed]",
            "text/plain": [
              "<Figure size 432x288 with 1 Axes>"
            ]
          },
          "metadata": {
            "needs_background": "light"
          }
        }
      ],
      "source": [
        "##no tocar\n",
        "epochs = 200\n",
        "batch_size = 64\n",
        "validation = 0.0001\n",
        "model_ades = Sequential()\n",
        "model_ades.add(LSTM(120, activation='relu', input_shape=(LOOK_BACK, n_features)))\n",
        "model_ades.add(RepeatVector(FORECAST_RANGE))\n",
        "\n",
        "model_ades.add(LSTM(64, activation='relu', return_sequences=True))\n",
        "model_ades.add(Dense(32,activation='relu'))\n",
        "model_ades.add(TimeDistributed(Dense(n_features)))\n",
        "model_ades.compile(optimizer='adam', loss='mse')\n",
        "plot_model(model=model_ades, show_shapes=True)\n",
        "history = model_ades.fit(X_train, y_train, epochs=epochs, batch_size=batch_size, validation_split=validation,callbacks=[early_stopping_callback, checkpoint_callback, rlrop_callback])\n",
        "yhat = model_ades.predict(X_test, verbose=0)\n",
        "yhat_inverse, y_test_inverse = inverse_transform(y_test, yhat)\n",
        "evaluate_forecast(y_test, yhat)\n",
        "pyplot.plot(history.history['loss'], label='train')\n",
        "pyplot.plot(history.history['val_loss'], label='test')\n",
        "pyplot.legend()\n",
        "pyplot.show()"
      ]
    },
    {
      "cell_type": "code",
      "execution_count": 28,
      "metadata": {
        "id": "G2wzcV9qMJHK",
        "colab": {
          "base_uri": "https://localhost:8080/",
          "height": 611
        },
        "outputId": "490c791d-1449-4d64-bc1d-608c82054ee3"
      },
      "outputs": [
        {
          "output_type": "display_data",
          "data": {
            "image/png": "[encoded data removed]",
            "text/plain": [
              "<Figure size 432x288 with 1 Axes>"
            ]
          },
          "metadata": {
            "needs_background": "light"
          }
        },
        {
          "output_type": "execute_result",
          "data": {
            "text/html": [
              "\n",
              "  <div id=\"df-2cc7d9fa-6f56-4bc8-8bde-529e538b53b8\">\n",
              "    <div class=\"colab-df-container\">\n",
              "      <div>\n",
              "<style scoped>\n",
              "    .dataframe tbody tr th:only-of-type {\n",
              "        vertical-align: middle;\n",
              "    }\n",
              "\n",
              "    .dataframe tbody tr th {\n",
              "        vertical-align: top;\n",
              "    }\n",
              "\n",
              "    .dataframe thead th {\n",
              "        text-align: right;\n",
              "    }\n",
              "</style>\n",
              "<table border=\"1\" class=\"dataframe\">\n",
              "  <thead>\n",
              "    <tr style=\"text-align: right;\">\n",
              "      <th></th>\n",
              "      <th>real</th>\n",
              "      <th>prediccion</th>\n",
              "    </tr>\n",
              "  </thead>\n",
              "  <tbody>\n",
              "    <tr>\n",
              "      <th>0</th>\n",
              "      <td>1398.3</td>\n",
              "      <td>1482.312744</td>\n",
              "    </tr>\n",
              "    <tr>\n",
              "      <th>1</th>\n",
              "      <td>1431.0</td>\n",
              "      <td>1392.738159</td>\n",
              "    </tr>\n",
              "    <tr>\n",
              "      <th>2</th>\n",
              "      <td>1497.1</td>\n",
              "      <td>1490.503296</td>\n",
              "    </tr>\n",
              "    <tr>\n",
              "      <th>3</th>\n",
              "      <td>1431.0</td>\n",
              "      <td>1545.120483</td>\n",
              "    </tr>\n",
              "    <tr>\n",
              "      <th>4</th>\n",
              "      <td>1497.1</td>\n",
              "      <td>1450.436523</td>\n",
              "    </tr>\n",
              "    <tr>\n",
              "      <th>5</th>\n",
              "      <td>1461.9</td>\n",
              "      <td>1566.781006</td>\n",
              "    </tr>\n",
              "    <tr>\n",
              "      <th>6</th>\n",
              "      <td>1497.1</td>\n",
              "      <td>1589.864380</td>\n",
              "    </tr>\n",
              "    <tr>\n",
              "      <th>7</th>\n",
              "      <td>1461.9</td>\n",
              "      <td>1496.244263</td>\n",
              "    </tr>\n",
              "    <tr>\n",
              "      <th>8</th>\n",
              "      <td>1459.6</td>\n",
              "      <td>1625.335327</td>\n",
              "    </tr>\n",
              "    <tr>\n",
              "      <th>9</th>\n",
              "      <td>1461.9</td>\n",
              "      <td>1691.622681</td>\n",
              "    </tr>\n",
              "  </tbody>\n",
              "</table>\n",
              "</div>\n",
              "      <button class=\"colab-df-convert\" onclick=\"convertToInteractive('df-2cc7d9fa-6f56-4bc8-8bde-529e538b53b8')\"\n",
              "              title=\"Convert this dataframe to an interactive table.\"\n",
              "              style=\"display:none;\">\n",
              "        \n",
              "  <svg xmlns=\"http://www.w3.org/2000/svg\" height=\"24px\"viewBox=\"0 0 24 24\"\n",
              "       width=\"24px\">\n",
              "    <path d=\"M0 0h24v24H0V0z\" fill=\"none\"/>\n",
              "    <path d=\"M18.56 5.44l.94 2.06.94-2.06 2.06-.94-2.06-.94-.94-2.06-.94 2.06-2.06.94zm-11 1L8.5 8.5l.94-2.06 2.06-.94-2.06-.94L8.5 2.5l-.94 2.06-2.06.94zm10 10l.94 2.06.94-2.06 2.06-.94-2.06-.94-.94-2.06-.94 2.06-2.06.94z\"/><path d=\"M17.41 7.96l-1.37-1.37c-.4-.4-.92-.59-1.43-.59-.52 0-1.04.2-1.43.59L10.3 9.45l-7.72 7.72c-.78.78-.78 2.05 0 2.83L4 21.41c.39.39.9.59 1.41.59.51 0 1.02-.2 1.41-.59l7.78-7.78 2.81-2.81c.8-.78.8-2.07 0-2.86zM5.41 20L4 18.59l7.72-7.72 1.47 1.35L5.41 20z\"/>\n",
              "  </svg>\n",
              "      </button>\n",
              "      \n",
              "  <style>\n",
              "    .colab-df-container {\n",
              "      display:flex;\n",
              "      flex-wrap:wrap;\n",
              "      gap: 12px;\n",
              "    }\n",
              "\n",
              "    .colab-df-convert {\n",
              "      background-color: #E8F0FE;\n",
              "      border: none;\n",
              "      border-radius: 50%;\n",
              "      cursor: pointer;\n",
              "      display: none;\n",
              "      fill: #1967D2;\n",
              "      height: 32px;\n",
              "      padding: 0 0 0 0;\n",
              "      width: 32px;\n",
              "    }\n",
              "\n",
              "    .colab-df-convert:hover {\n",
              "      background-color: #E2EBFA;\n",
              "      box-shadow: 0px 1px 2px rgba(60, 64, 67, 0.3), 0px 1px 3px 1px rgba(60, 64, 67, 0.15);\n",
              "      fill: #174EA6;\n",
              "    }\n",
              "\n",
              "    [theme=dark] .colab-df-convert {\n",
              "      background-color: #3B4455;\n",
              "      fill: #D2E3FC;\n",
              "    }\n",
              "\n",
              "    [theme=dark] .colab-df-convert:hover {\n",
              "      background-color: #434B5C;\n",
              "      box-shadow: 0px 1px 3px 1px rgba(0, 0, 0, 0.15);\n",
              "      filter: drop-shadow(0px 1px 2px rgba(0, 0, 0, 0.3));\n",
              "      fill: #FFFFFF;\n",
              "    }\n",
              "  </style>\n",
              "\n",
              "      <script>\n",
              "        const buttonEl =\n",
              "          document.querySelector('#df-2cc7d9fa-6f56-4bc8-8bde-529e538b53b8 button.colab-df-convert');\n",
              "        buttonEl.style.display =\n",
              "          google.colab.kernel.accessAllowed ? 'block' : 'none';\n",
              "\n",
              "        async function convertToInteractive(key) {\n",
              "          const element = document.querySelector('#df-2cc7d9fa-6f56-4bc8-8bde-529e538b53b8');\n",
              "          const dataTable =\n",
              "            await google.colab.kernel.invokeFunction('convertToInteractive',\n",
              "                                                     [key], {});\n",
              "          if (!dataTable) return;\n",
              "\n",
              "          const docLinkHtml = 'Like what you see? Visit the ' +\n",
              "            '<a target=\"_blank\" href=https://colab.research.google.com/notebooks/data_table.ipynb>data table notebook</a>'\n",
              "            + ' to learn more about interactive tables.';\n",
              "          element.innerHTML = '';\n",
              "          dataTable['output_type'] = 'display_data';\n",
              "          await google.colab.output.renderOutput(dataTable, element);\n",
              "          const docLink = document.createElement('div');\n",
              "          docLink.innerHTML = docLinkHtml;\n",
              "          element.appendChild(docLink);\n",
              "        }\n",
              "      </script>\n",
              "    </div>\n",
              "  </div>\n",
              "  "
            ],
            "text/plain": [
              "     real   prediccion\n",
              "0  1398.3  1482.312744\n",
              "1  1431.0  1392.738159\n",
              "2  1497.1  1490.503296\n",
              "3  1431.0  1545.120483\n",
              "4  1497.1  1450.436523\n",
              "5  1461.9  1566.781006\n",
              "6  1497.1  1589.864380\n",
              "7  1461.9  1496.244263\n",
              "8  1459.6  1625.335327\n",
              "9  1461.9  1691.622681"
            ]
          },
          "metadata": {},
          "execution_count": 28
        }
      ],
      "source": [
        "user=3\n",
        "graph_predictions(y_test_inverse[:,user],yhat_inverse[:,user])\n",
        "df_concat=pd.DataFrame({'real': y_test_inverse[:,user] , 'prediccion':yhat_inverse[:,user]})\n",
        "df_concat.head(10)"
      ]
    },
    {
      "cell_type": "markdown",
      "metadata": {
        "id": "_wJXOWFdy8Al"
      },
      "source": [
        "# NUEVAS PREDICCIONES"
      ]
    },
    {
      "cell_type": "code",
      "execution_count": 29,
      "metadata": {
        "id": "FNPkdG3Q44KR"
      },
      "outputs": [],
      "source": [
        "import datapane as dp\n",
        "def new_prediction(model, usuario,pago_mensual=3.10,descuento=0.10):\n",
        "  x_input = df_cpu_pivot.iloc[len(df_cpu_pivot)-LOOK_BACK:len(df_cpu_pivot),1:].values\n",
        "  x_input=scaler.transform(x_input)\n",
        "  x_input = x_input.reshape((1, LOOK_BACK, len(df_cpu_pivot.columns)-1))\n",
        "  yhat = model.predict(x_input, verbose=0)\n",
        "  yhat = yhat.reshape(-1, yhat.shape[-1])\n",
        "  yhat = pd.DataFrame(scaler.inverse_transform(yhat))\n",
        "  historial,prediccion,nombre,df_all_predict=formating_samples(yhat,usuario)\n",
        "  grafica_consumos=graph_comparation(historial,prediccion,nombre)\n",
        "  grafica_pagos=graph_series_payment(prediccion,nombre)\n",
        "  #report = input('Desea realizar un reporte? si/no')\n",
        "  #generate_report(grafica_consumos,grafica_pagos,prediccion) if report.lower() =='si' else print('PROCESO FINALIZADO')\n",
        "  dp.Report(\"Reporte de consumo de agua\",\n",
        "    dp.Plot(grafica_consumos, caption=\"Consumo de agua potable a traves del tiempo\"),\n",
        "    dp.Plot(grafica_pagos, caption=\"Comparacion de pagos para los siguientes meses\"),\n",
        "    dp.Table(np.round(prediccion,2), caption=\"Informacion consumo vs pago\")\n",
        "  ).save(path='report.html', open=True)\n",
        "  return prediccion"
      ]
    },
    {
      "cell_type": "code",
      "execution_count": 30,
      "metadata": {
        "id": "Cpl7l6Z4xz_e"
      },
      "outputs": [],
      "source": [
        "def formating_samples(yhat,usuario,mensualidad=3.10,red_inc=0.10):\n",
        "  date_predictions(yhat)\n",
        "  df_2_plot = df_cpu_pivot.tail(LOOK_BACK+7)\n",
        "  yhat.columns=df_2_plot.columns\n",
        "  df_2_plot=df_2_plot.append(yhat,ignore_index=True)\n",
        "  df_2_plot_date = df_2_plot[(df_2_plot['Date'] <= df_cpu_pivot.Date.max())]\n",
        "  df_all_predictions = df_2_plot[(df_2_plot['Date'] >= df_cpu_pivot.Date.max())]\n",
        "  name_user= df_all_predictions.columns[usuario]\n",
        "  values_user=df_all_predictions[name_user]\n",
        "  values_user=pd.DataFrame(values_user)\n",
        "  values_user.iloc[0,0]=df_2_plot_date[name_user].iloc[-1]\n",
        "  values_user.insert(1, 'PAGO_NORMAL', values_user*mensualidad, True) \n",
        "  values_user.insert(2,'CONSUMO_REDUCIDO',values_user[name_user]-(values_user[name_user]*red_inc), True) \n",
        "  values_user.insert(3,'PAGO_REDUCIDO',values_user['CONSUMO_REDUCIDO']*mensualidad, True) \n",
        "  values_user.insert(4,'CONSUMO_INCREMENTO',values_user[name_user]+(values_user[name_user]*red_inc), True)\n",
        "  values_user.insert(5,'PAGO_INCREMENTO',values_user['CONSUMO_INCREMENTO']*mensualidad, True) \n",
        "  values_user.iloc[0,2]=df_2_plot_date[name_user].iloc[-1]\n",
        "  values_user.iloc[0,4]=df_2_plot_date[name_user].iloc[-1]\n",
        "  values_user.iloc[0,3]=values_user.iloc[0,1]\n",
        "  values_user.iloc[0,5]=values_user.iloc[0,1]\n",
        "  values_user.index= df_all_predictions.Date\n",
        "  values_user = values_user.rename(columns={name_user:'CONSUMO_NORMAL'})\n",
        "  return df_2_plot_date,values_user,name_user,df_all_predictions"
      ]
    },
    {
      "cell_type": "code",
      "execution_count": 31,
      "metadata": {
        "id": "_AcWSTy694sp"
      },
      "outputs": [],
      "source": [
        "def date_predictions(yhat):\n",
        "  yhat.insert(0, 'Date', pd.to_datetime(df_cpu_pivot['Date'].max(), format=\"%Y%m%d\"))\n",
        "  for i in range (len(yhat)):\n",
        "    yhat.iloc[i,0]=yhat.iloc[i,0]+MonthBegin(i+1)+MonthEnd(1)"
      ]
    },
    {
      "cell_type": "code",
      "execution_count": 32,
      "metadata": {
        "id": "mmLF0kmeyYbz"
      },
      "outputs": [],
      "source": [
        "def graph_comparation(historial,prediccion,usuario):\n",
        "  trace1 = go.Scatter(\n",
        "  x = historial.Date,\n",
        "  y = historial[usuario],\n",
        "  mode = 'lines',\n",
        "  name = 'HISTORIAL',\n",
        "  #fill='tozeroy',\n",
        "  fillcolor = 'green'\n",
        "  )\n",
        "  trace2 = go.Scatter(\n",
        "  x = prediccion.index,\n",
        "  y = prediccion['CONSUMO_NORMAL'],\n",
        "  mode = 'lines',\n",
        "  name = 'NORMAL',\n",
        "  #fill='tozeroy',\n",
        "  fillcolor = 'green'\n",
        "  )\n",
        "  \n",
        "  trace3 = go.Scatter(\n",
        "  x = prediccion.index,\n",
        "  y = prediccion['CONSUMO_REDUCIDO'],\n",
        "  mode = 'lines',\n",
        "  name = 'REDUCCION',\n",
        " #fill='tonexty',\n",
        "  fillcolor = 'red'                   \n",
        "  )\n",
        "  trace4 = go.Scatter(\n",
        "  x = prediccion.index,\n",
        "  y = prediccion['CONSUMO_INCREMENTO'],\n",
        "  mode = 'lines',\n",
        "  name = 'INCREMENTO',\n",
        " #fill='tonexty',\n",
        "  fillcolor = 'red'                   \n",
        "  )\n",
        "  layout = go.Layout(\n",
        "  title = 'CONSUMO DE AGUA DEL SR: '+usuario+' PARA '+str(FORECAST_RANGE)+' MESES',\n",
        "  xaxis = {'title' : 'Date'},\n",
        "  yaxis = {'title' : 'Consumo (m3)'}\n",
        "  )\n",
        "  fig = go.Figure(data=[trace1,trace2, trace3,trace4], layout=layout)\n",
        "  fig.show()\n",
        "  return fig\n"
      ]
    },
    {
      "cell_type": "code",
      "execution_count": 33,
      "metadata": {
        "id": "_S4tvsjXf-hb"
      },
      "outputs": [],
      "source": [
        "def graph_series_payment(prediccion,usuario):\n",
        "  fig = go.Figure()\n",
        "  fig.add_trace(go.Bar(\n",
        "    x=prediccion.index,\n",
        "    y=prediccion['PAGO_NORMAL'],\n",
        "    name='PAGO NORMAL',\n",
        "    marker_color='indianred',\n",
        "    text=np.round(prediccion['PAGO_NORMAL'],2)\n",
        "    \n",
        "  ))\n",
        "  fig.add_trace(go.Bar(\n",
        "    x=prediccion.index,\n",
        "    y=prediccion['PAGO_REDUCIDO'],\n",
        "    name='PAGO REDUCIDO',\n",
        "    marker_color='lightsalmon',\n",
        "    text=np.round(prediccion['PAGO_REDUCIDO'],2)\n",
        "  ))\n",
        "  fig.add_trace(go.Bar(\n",
        "    x=prediccion.index,\n",
        "    y=prediccion['PAGO_INCREMENTO'],\n",
        "    name='PAGO INCREMENTO',\n",
        "    marker_color='yellow',\n",
        "    text= np.round(prediccion['PAGO_INCREMENTO'],2)\n",
        "  ))\n",
        "\n",
        "# Here we modify the tickangle of the xaxis, resulting in rotated labels.\n",
        "  fig.update_layout(barmode='group', xaxis_tickangle=-45)\n",
        "  fig.show()\n",
        "  return fig"
      ]
    },
    {
      "cell_type": "code",
      "execution_count": 34,
      "metadata": {
        "id": "zBzdEIu3ybEZ",
        "colab": {
          "base_uri": "https://localhost:8080/",
          "height": 1000
        },
        "outputId": "0b6d12cd-d137-41c1-d122-b6b1d6dfa512"
      },
      "outputs": [
        {
          "output_type": "stream",
          "name": "stderr",
          "text": [
            "/usr/local/lib/python3.7/dist-packages/sklearn/base.py:451: UserWarning:\n",
            "\n",
            "X does not have valid feature names, but MinMaxScaler was fitted with feature names\n",
            "\n"
          ]
        },
        {
          "output_type": "display_data",
          "data": {
            "text/html": [
              "<html>\n",
              "<head><meta charset=\"utf-8\" /></head>\n",
              "<body>\n",
              "    <div>            <script src=\"https://cdnjs.cloudflare.com/ajax/libs/mathjax/2.7.5/MathJax.js?config=TeX-AMS-MML_SVG\"></script><script type=\"text/javascript\">if (window.MathJax) {MathJax.Hub.Config({SVG: {font: \"STIX-Web\"}});}</script>                <script type=\"text/javascript\">window.PlotlyConfig = {MathJaxConfig: 'local'};</script>\n",
              "        <script src=\"https://cdn.plot.ly/plotly-2.8.3.min.js\"></script>                <div id=\"60a8a5eb-d6cf-4014-9dc8-f9df32380d06\" class=\"plotly-graph-div\" style=\"height:525px; width:100%;\"></div>            <script type=\"text/javascript\">                                    window.PLOTLYENV=window.PLOTLYENV || {};                                    if (document.getElementById(\"60a8a5eb-d6cf-4014-9dc8-f9df32380d06\")) {                    Plotly.newPlot(                        \"60a8a5eb-d6cf-4014-9dc8-f9df32380d06\",                        [{\"fillcolor\":\"green\",\"mode\":\"lines\",\"name\":\"HISTORIAL\",\"x\":[\"2020-08-31T00:00:00\",\"2020-09-30T00:00:00\",\"2020-10-30T00:00:00\",\"2020-11-30T00:00:00\",\"2020-12-31T00:00:00\",\"2021-01-29T00:00:00\",\"2021-02-26T00:00:00\",\"2021-03-31T00:00:00\",\"2021-04-30T00:00:00\",\"2021-05-31T00:00:00\",\"2021-06-30T00:00:00\",\"2021-07-30T00:00:00\"],\"y\":[1957.4,1886.9,1881.9,1762.6,1887.6,1863.8,1742.9,1691.1,1767.7,1900.0,1763.2,1825.8],\"type\":\"scatter\"},{\"fillcolor\":\"green\",\"mode\":\"lines\",\"name\":\"NORMAL\",\"x\":[\"2021-07-30T00:00:00\",\"2021-08-31T00:00:00\",\"2021-09-30T00:00:00\",\"2021-10-31T00:00:00\"],\"y\":[1825.8,2154.399169921875,1917.89208984375,1909.9766845703125],\"type\":\"scatter\"},{\"fillcolor\":\"red\",\"mode\":\"lines\",\"name\":\"REDUCCION\",\"x\":[\"2021-07-30T00:00:00\",\"2021-08-31T00:00:00\",\"2021-09-30T00:00:00\",\"2021-10-31T00:00:00\"],\"y\":[1825.8,1938.9592529296874,1726.102880859375,1718.9790161132812],\"type\":\"scatter\"},{\"fillcolor\":\"red\",\"mode\":\"lines\",\"name\":\"INCREMENTO\",\"x\":[\"2021-07-30T00:00:00\",\"2021-08-31T00:00:00\",\"2021-09-30T00:00:00\",\"2021-10-31T00:00:00\"],\"y\":[1825.8,2369.8390869140626,2109.681298828125,2100.9743530273436],\"type\":\"scatter\"}],                        {\"title\":{\"text\":\"CONSUMO DE AGUA DEL SR: Jimmy Magguill PARA 3 MESES\"},\"xaxis\":{\"title\":{\"text\":\"Date\"}},\"yaxis\":{\"title\":{\"text\":\"Consumo (m3)\"}},\"template\":{\"data\":{\"bar\":[{\"error_x\":{\"color\":\"#2a3f5f\"},\"error_y\":{\"color\":\"#2a3f5f\"},\"marker\":{\"line\":{\"color\":\"#E5ECF6\",\"width\":0.5},\"pattern\":{\"fillmode\":\"overlay\",\"size\":10,\"solidity\":0.2}},\"type\":\"bar\"}],\"barpolar\":[{\"marker\":{\"line\":{\"color\":\"#E5ECF6\",\"width\":0.5},\"pattern\":{\"fillmode\":\"overlay\",\"size\":10,\"solidity\":0.2}},\"type\":\"barpolar\"}],\"carpet\":[{\"aaxis\":{\"endlinecolor\":\"#2a3f5f\",\"gridcolor\":\"white\",\"linecolor\":\"white\",\"minorgridcolor\":\"white\",\"startlinecolor\":\"#2a3f5f\"},\"baxis\":{\"endlinecolor\":\"#2a3f5f\",\"gridcolor\":\"white\",\"linecolor\":\"white\",\"minorgridcolor\":\"white\",\"startlinecolor\":\"#2a3f5f\"},\"type\":\"carpet\"}],\"choropleth\":[{\"colorbar\":{\"outlinewidth\":0,\"ticks\":\"\"},\"type\":\"choropleth\"}],\"contour\":[{\"colorbar\":{\"outlinewidth\":0,\"ticks\":\"\"},\"colorscale\":[[0.0,\"#0d0887\"],[0.1111111111111111,\"#46039f\"],[0.2222222222222222,\"#7201a8\"],[0.3333333333333333,\"#9c179e\"],[0.4444444444444444,\"#bd3786\"],[0.5555555555555556,\"#d8576b\"],[0.6666666666666666,\"#ed7953\"],[0.7777777777777778,\"#fb9f3a\"],[0.8888888888888888,\"#fdca26\"],[1.0,\"#f0f921\"]],\"type\":\"contour\"}],\"contourcarpet\":[{\"colorbar\":{\"outlinewidth\":0,\"ticks\":\"\"},\"type\":\"contourcarpet\"}],\"heatmap\":[{\"colorbar\":{\"outlinewidth\":0,\"ticks\":\"\"},\"colorscale\":[[0.0,\"#0d0887\"],[0.1111111111111111,\"#46039f\"],[0.2222222222222222,\"#7201a8\"],[0.3333333333333333,\"#9c179e\"],[0.4444444444444444,\"#bd3786\"],[0.5555555555555556,\"#d8576b\"],[0.6666666666666666,\"#ed7953\"],[0.7777777777777778,\"#fb9f3a\"],[0.8888888888888888,\"#fdca26\"],[1.0,\"#f0f921\"]],\"type\":\"heatmap\"}],\"heatmapgl\":[{\"colorbar\":{\"outlinewidth\":0,\"ticks\":\"\"},\"colorscale\":[[0.0,\"#0d0887\"],[0.1111111111111111,\"#46039f\"],[0.2222222222222222,\"#7201a8\"],[0.3333333333333333,\"#9c179e\"],[0.4444444444444444,\"#bd3786\"],[0.5555555555555556,\"#d8576b\"],[0.6666666666666666,\"#ed7953\"],[0.7777777777777778,\"#fb9f3a\"],[0.8888888888888888,\"#fdca26\"],[1.0,\"#f0f921\"]],\"type\":\"heatmapgl\"}],\"histogram\":[{\"marker\":{\"pattern\":{\"fillmode\":\"overlay\",\"size\":10,\"solidity\":0.2}},\"type\":\"histogram\"}],\"histogram2d\":[{\"colorbar\":{\"outlinewidth\":0,\"ticks\":\"\"},\"colorscale\":[[0.0,\"#0d0887\"],[0.1111111111111111,\"#46039f\"],[0.2222222222222222,\"#7201a8\"],[0.3333333333333333,\"#9c179e\"],[0.4444444444444444,\"#bd3786\"],[0.5555555555555556,\"#d8576b\"],[0.6666666666666666,\"#ed7953\"],[0.7777777777777778,\"#fb9f3a\"],[0.8888888888888888,\"#fdca26\"],[1.0,\"#f0f921\"]],\"type\":\"histogram2d\"}],\"histogram2dcontour\":[{\"colorbar\":{\"outlinewidth\":0,\"ticks\":\"\"},\"colorscale\":[[0.0,\"#0d0887\"],[0.1111111111111111,\"#46039f\"],[0.2222222222222222,\"#7201a8\"],[0.3333333333333333,\"#9c179e\"],[0.4444444444444444,\"#bd3786\"],[0.5555555555555556,\"#d8576b\"],[0.6666666666666666,\"#ed7953\"],[0.7777777777777778,\"#fb9f3a\"],[0.8888888888888888,\"#fdca26\"],[1.0,\"#f0f921\"]],\"type\":\"histogram2dcontour\"}],\"mesh3d\":[{\"colorbar\":{\"outlinewidth\":0,\"ticks\":\"\"},\"type\":\"mesh3d\"}],\"parcoords\":[{\"line\":{\"colorbar\":{\"outlinewidth\":0,\"ticks\":\"\"}},\"type\":\"parcoords\"}],\"pie\":[{\"automargin\":true,\"type\":\"pie\"}],\"scatter\":[{\"marker\":{\"colorbar\":{\"outlinewidth\":0,\"ticks\":\"\"}},\"type\":\"scatter\"}],\"scatter3d\":[{\"line\":{\"colorbar\":{\"outlinewidth\":0,\"ticks\":\"\"}},\"marker\":{\"colorbar\":{\"outlinewidth\":0,\"ticks\":\"\"}},\"type\":\"scatter3d\"}],\"scattercarpet\":[{\"marker\":{\"colorbar\":{\"outlinewidth\":0,\"ticks\":\"\"}},\"type\":\"scattercarpet\"}],\"scattergeo\":[{\"marker\":{\"colorbar\":{\"outlinewidth\":0,\"ticks\":\"\"}},\"type\":\"scattergeo\"}],\"scattergl\":[{\"marker\":{\"colorbar\":{\"outlinewidth\":0,\"ticks\":\"\"}},\"type\":\"scattergl\"}],\"scattermapbox\":[{\"marker\":{\"colorbar\":{\"outlinewidth\":0,\"ticks\":\"\"}},\"type\":\"scattermapbox\"}],\"scatterpolar\":[{\"marker\":{\"colorbar\":{\"outlinewidth\":0,\"ticks\":\"\"}},\"type\":\"scatterpolar\"}],\"scatterpolargl\":[{\"marker\":{\"colorbar\":{\"outlinewidth\":0,\"ticks\":\"\"}},\"type\":\"scatterpolargl\"}],\"scatterternary\":[{\"marker\":{\"colorbar\":{\"outlinewidth\":0,\"ticks\":\"\"}},\"type\":\"scatterternary\"}],\"surface\":[{\"colorbar\":{\"outlinewidth\":0,\"ticks\":\"\"},\"colorscale\":[[0.0,\"#0d0887\"],[0.1111111111111111,\"#46039f\"],[0.2222222222222222,\"#7201a8\"],[0.3333333333333333,\"#9c179e\"],[0.4444444444444444,\"#bd3786\"],[0.5555555555555556,\"#d8576b\"],[0.6666666666666666,\"#ed7953\"],[0.7777777777777778,\"#fb9f3a\"],[0.8888888888888888,\"#fdca26\"],[1.0,\"#f0f921\"]],\"type\":\"surface\"}],\"table\":[{\"cells\":{\"fill\":{\"color\":\"#EBF0F8\"},\"line\":{\"color\":\"white\"}},\"header\":{\"fill\":{\"color\":\"#C8D4E3\"},\"line\":{\"color\":\"white\"}},\"type\":\"table\"}]},\"layout\":{\"annotationdefaults\":{\"arrowcolor\":\"#2a3f5f\",\"arrowhead\":0,\"arrowwidth\":1},\"autotypenumbers\":\"strict\",\"coloraxis\":{\"colorbar\":{\"outlinewidth\":0,\"ticks\":\"\"}},\"colorscale\":{\"diverging\":[[0,\"#8e0152\"],[0.1,\"#c51b7d\"],[0.2,\"#de77ae\"],[0.3,\"#f1b6da\"],[0.4,\"#fde0ef\"],[0.5,\"#f7f7f7\"],[0.6,\"#e6f5d0\"],[0.7,\"#b8e186\"],[0.8,\"#7fbc41\"],[0.9,\"#4d9221\"],[1,\"#276419\"]],\"sequential\":[[0.0,\"#0d0887\"],[0.1111111111111111,\"#46039f\"],[0.2222222222222222,\"#7201a8\"],[0.3333333333333333,\"#9c179e\"],[0.4444444444444444,\"#bd3786\"],[0.5555555555555556,\"#d8576b\"],[0.6666666666666666,\"#ed7953\"],[0.7777777777777778,\"#fb9f3a\"],[0.8888888888888888,\"#fdca26\"],[1.0,\"#f0f921\"]],\"sequentialminus\":[[0.0,\"#0d0887\"],[0.1111111111111111,\"#46039f\"],[0.2222222222222222,\"#7201a8\"],[0.3333333333333333,\"#9c179e\"],[0.4444444444444444,\"#bd3786\"],[0.5555555555555556,\"#d8576b\"],[0.6666666666666666,\"#ed7953\"],[0.7777777777777778,\"#fb9f3a\"],[0.8888888888888888,\"#fdca26\"],[1.0,\"#f0f921\"]]},\"colorway\":[\"#636efa\",\"#EF553B\",\"#00cc96\",\"#ab63fa\",\"#FFA15A\",\"#19d3f3\",\"#FF6692\",\"#B6E880\",\"#FF97FF\",\"#FECB52\"],\"font\":{\"color\":\"#2a3f5f\"},\"geo\":{\"bgcolor\":\"white\",\"lakecolor\":\"white\",\"landcolor\":\"#E5ECF6\",\"showlakes\":true,\"showland\":true,\"subunitcolor\":\"white\"},\"hoverlabel\":{\"align\":\"left\"},\"hovermode\":\"closest\",\"mapbox\":{\"style\":\"light\"},\"paper_bgcolor\":\"white\",\"plot_bgcolor\":\"#E5ECF6\",\"polar\":{\"angularaxis\":{\"gridcolor\":\"white\",\"linecolor\":\"white\",\"ticks\":\"\"},\"bgcolor\":\"#E5ECF6\",\"radialaxis\":{\"gridcolor\":\"white\",\"linecolor\":\"white\",\"ticks\":\"\"}},\"scene\":{\"xaxis\":{\"backgroundcolor\":\"#E5ECF6\",\"gridcolor\":\"white\",\"gridwidth\":2,\"linecolor\":\"white\",\"showbackground\":true,\"ticks\":\"\",\"zerolinecolor\":\"white\"},\"yaxis\":{\"backgroundcolor\":\"#E5ECF6\",\"gridcolor\":\"white\",\"gridwidth\":2,\"linecolor\":\"white\",\"showbackground\":true,\"ticks\":\"\",\"zerolinecolor\":\"white\"},\"zaxis\":{\"backgroundcolor\":\"#E5ECF6\",\"gridcolor\":\"white\",\"gridwidth\":2,\"linecolor\":\"white\",\"showbackground\":true,\"ticks\":\"\",\"zerolinecolor\":\"white\"}},\"shapedefaults\":{\"line\":{\"color\":\"#2a3f5f\"}},\"ternary\":{\"aaxis\":{\"gridcolor\":\"white\",\"linecolor\":\"white\",\"ticks\":\"\"},\"baxis\":{\"gridcolor\":\"white\",\"linecolor\":\"white\",\"ticks\":\"\"},\"bgcolor\":\"#E5ECF6\",\"caxis\":{\"gridcolor\":\"white\",\"linecolor\":\"white\",\"ticks\":\"\"}},\"title\":{\"x\":0.05},\"xaxis\":{\"automargin\":true,\"gridcolor\":\"white\",\"linecolor\":\"white\",\"ticks\":\"\",\"title\":{\"standoff\":15},\"zerolinecolor\":\"white\",\"zerolinewidth\":2},\"yaxis\":{\"automargin\":true,\"gridcolor\":\"white\",\"linecolor\":\"white\",\"ticks\":\"\",\"title\":{\"standoff\":15},\"zerolinecolor\":\"white\",\"zerolinewidth\":2}}}},                        {\"responsive\": true}                    ).then(function(){\n",
              "                            \n",
              "var gd = document.getElementById('60a8a5eb-d6cf-4014-9dc8-f9df32380d06');\n",
              "var x = new MutationObserver(function (mutations, observer) {{\n",
              "        var display = window.getComputedStyle(gd).display;\n",
              "        if (!display || display === 'none') {{\n",
              "            console.log([gd, 'removed!']);\n",
              "            Plotly.purge(gd);\n",
              "            observer.disconnect();\n",
              "        }}\n",
              "}});\n",
              "\n",
              "// Listen for the removal of the full notebook cells\n",
              "var notebookContainer = gd.closest('#notebook-container');\n",
              "if (notebookContainer) {{\n",
              "    x.observe(notebookContainer, {childList: true});\n",
              "}}\n",
              "\n",
              "// Listen for the clearing of the current output cell\n",
              "var outputEl = gd.closest('.output');\n",
              "if (outputEl) {{\n",
              "    x.observe(outputEl, {childList: true});\n",
              "}}\n",
              "\n",
              "                        })                };                            </script>        </div>\n",
              "</body>\n",
              "</html>"
            ]
          },
          "metadata": {}
        },
        {
          "output_type": "display_data",
          "data": {
            "text/html": [
              "<html>\n",
              "<head><meta charset=\"utf-8\" /></head>\n",
              "<body>\n",
              "    <div>            <script src=\"https://cdnjs.cloudflare.com/ajax/libs/mathjax/2.7.5/MathJax.js?config=TeX-AMS-MML_SVG\"></script><script type=\"text/javascript\">if (window.MathJax) {MathJax.Hub.Config({SVG: {font: \"STIX-Web\"}});}</script>                <script type=\"text/javascript\">window.PlotlyConfig = {MathJaxConfig: 'local'};</script>\n",
              "        <script src=\"https://cdn.plot.ly/plotly-2.8.3.min.js\"></script>                <div id=\"b17ed874-71bf-4ee1-8dfb-1cec9bcc845b\" class=\"plotly-graph-div\" style=\"height:525px; width:100%;\"></div>            <script type=\"text/javascript\">                                    window.PLOTLYENV=window.PLOTLYENV || {};                                    if (document.getElementById(\"b17ed874-71bf-4ee1-8dfb-1cec9bcc845b\")) {                    Plotly.newPlot(                        \"b17ed874-71bf-4ee1-8dfb-1cec9bcc845b\",                        [{\"marker\":{\"color\":\"indianred\"},\"name\":\"PAGO NORMAL\",\"text\":[5659.98,6678.64,5945.47,5920.93],\"x\":[\"2021-07-30T00:00:00\",\"2021-08-31T00:00:00\",\"2021-09-30T00:00:00\",\"2021-10-31T00:00:00\"],\"y\":[5659.9800000000005,6678.637426757813,5945.465478515625,5920.927722167969],\"type\":\"bar\"},{\"marker\":{\"color\":\"lightsalmon\"},\"name\":\"PAGO REDUCIDO\",\"text\":[5659.98,6010.77,5350.92,5328.83],\"x\":[\"2021-07-30T00:00:00\",\"2021-08-31T00:00:00\",\"2021-09-30T00:00:00\",\"2021-10-31T00:00:00\"],\"y\":[5659.9800000000005,6010.773684082031,5350.918930664063,5328.834949951171],\"type\":\"bar\"},{\"marker\":{\"color\":\"yellow\"},\"name\":\"PAGO INCREMENTO\",\"text\":[5659.98,7346.5,6540.01,6513.02],\"x\":[\"2021-07-30T00:00:00\",\"2021-08-31T00:00:00\",\"2021-09-30T00:00:00\",\"2021-10-31T00:00:00\"],\"y\":[5659.9800000000005,7346.501169433594,6540.012026367187,6513.020494384766],\"type\":\"bar\"}],                        {\"template\":{\"data\":{\"bar\":[{\"error_x\":{\"color\":\"#2a3f5f\"},\"error_y\":{\"color\":\"#2a3f5f\"},\"marker\":{\"line\":{\"color\":\"#E5ECF6\",\"width\":0.5},\"pattern\":{\"fillmode\":\"overlay\",\"size\":10,\"solidity\":0.2}},\"type\":\"bar\"}],\"barpolar\":[{\"marker\":{\"line\":{\"color\":\"#E5ECF6\",\"width\":0.5},\"pattern\":{\"fillmode\":\"overlay\",\"size\":10,\"solidity\":0.2}},\"type\":\"barpolar\"}],\"carpet\":[{\"aaxis\":{\"endlinecolor\":\"#2a3f5f\",\"gridcolor\":\"white\",\"linecolor\":\"white\",\"minorgridcolor\":\"white\",\"startlinecolor\":\"#2a3f5f\"},\"baxis\":{\"endlinecolor\":\"#2a3f5f\",\"gridcolor\":\"white\",\"linecolor\":\"white\",\"minorgridcolor\":\"white\",\"startlinecolor\":\"#2a3f5f\"},\"type\":\"carpet\"}],\"choropleth\":[{\"colorbar\":{\"outlinewidth\":0,\"ticks\":\"\"},\"type\":\"choropleth\"}],\"contour\":[{\"colorbar\":{\"outlinewidth\":0,\"ticks\":\"\"},\"colorscale\":[[0.0,\"#0d0887\"],[0.1111111111111111,\"#46039f\"],[0.2222222222222222,\"#7201a8\"],[0.3333333333333333,\"#9c179e\"],[0.4444444444444444,\"#bd3786\"],[0.5555555555555556,\"#d8576b\"],[0.6666666666666666,\"#ed7953\"],[0.7777777777777778,\"#fb9f3a\"],[0.8888888888888888,\"#fdca26\"],[1.0,\"#f0f921\"]],\"type\":\"contour\"}],\"contourcarpet\":[{\"colorbar\":{\"outlinewidth\":0,\"ticks\":\"\"},\"type\":\"contourcarpet\"}],\"heatmap\":[{\"colorbar\":{\"outlinewidth\":0,\"ticks\":\"\"},\"colorscale\":[[0.0,\"#0d0887\"],[0.1111111111111111,\"#46039f\"],[0.2222222222222222,\"#7201a8\"],[0.3333333333333333,\"#9c179e\"],[0.4444444444444444,\"#bd3786\"],[0.5555555555555556,\"#d8576b\"],[0.6666666666666666,\"#ed7953\"],[0.7777777777777778,\"#fb9f3a\"],[0.8888888888888888,\"#fdca26\"],[1.0,\"#f0f921\"]],\"type\":\"heatmap\"}],\"heatmapgl\":[{\"colorbar\":{\"outlinewidth\":0,\"ticks\":\"\"},\"colorscale\":[[0.0,\"#0d0887\"],[0.1111111111111111,\"#46039f\"],[0.2222222222222222,\"#7201a8\"],[0.3333333333333333,\"#9c179e\"],[0.4444444444444444,\"#bd3786\"],[0.5555555555555556,\"#d8576b\"],[0.6666666666666666,\"#ed7953\"],[0.7777777777777778,\"#fb9f3a\"],[0.8888888888888888,\"#fdca26\"],[1.0,\"#f0f921\"]],\"type\":\"heatmapgl\"}],\"histogram\":[{\"marker\":{\"pattern\":{\"fillmode\":\"overlay\",\"size\":10,\"solidity\":0.2}},\"type\":\"histogram\"}],\"histogram2d\":[{\"colorbar\":{\"outlinewidth\":0,\"ticks\":\"\"},\"colorscale\":[[0.0,\"#0d0887\"],[0.1111111111111111,\"#46039f\"],[0.2222222222222222,\"#7201a8\"],[0.3333333333333333,\"#9c179e\"],[0.4444444444444444,\"#bd3786\"],[0.5555555555555556,\"#d8576b\"],[0.6666666666666666,\"#ed7953\"],[0.7777777777777778,\"#fb9f3a\"],[0.8888888888888888,\"#fdca26\"],[1.0,\"#f0f921\"]],\"type\":\"histogram2d\"}],\"histogram2dcontour\":[{\"colorbar\":{\"outlinewidth\":0,\"ticks\":\"\"},\"colorscale\":[[0.0,\"#0d0887\"],[0.1111111111111111,\"#46039f\"],[0.2222222222222222,\"#7201a8\"],[0.3333333333333333,\"#9c179e\"],[0.4444444444444444,\"#bd3786\"],[0.5555555555555556,\"#d8576b\"],[0.6666666666666666,\"#ed7953\"],[0.7777777777777778,\"#fb9f3a\"],[0.8888888888888888,\"#fdca26\"],[1.0,\"#f0f921\"]],\"type\":\"histogram2dcontour\"}],\"mesh3d\":[{\"colorbar\":{\"outlinewidth\":0,\"ticks\":\"\"},\"type\":\"mesh3d\"}],\"parcoords\":[{\"line\":{\"colorbar\":{\"outlinewidth\":0,\"ticks\":\"\"}},\"type\":\"parcoords\"}],\"pie\":[{\"automargin\":true,\"type\":\"pie\"}],\"scatter\":[{\"marker\":{\"colorbar\":{\"outlinewidth\":0,\"ticks\":\"\"}},\"type\":\"scatter\"}],\"scatter3d\":[{\"line\":{\"colorbar\":{\"outlinewidth\":0,\"ticks\":\"\"}},\"marker\":{\"colorbar\":{\"outlinewidth\":0,\"ticks\":\"\"}},\"type\":\"scatter3d\"}],\"scattercarpet\":[{\"marker\":{\"colorbar\":{\"outlinewidth\":0,\"ticks\":\"\"}},\"type\":\"scattercarpet\"}],\"scattergeo\":[{\"marker\":{\"colorbar\":{\"outlinewidth\":0,\"ticks\":\"\"}},\"type\":\"scattergeo\"}],\"scattergl\":[{\"marker\":{\"colorbar\":{\"outlinewidth\":0,\"ticks\":\"\"}},\"type\":\"scattergl\"}],\"scattermapbox\":[{\"marker\":{\"colorbar\":{\"outlinewidth\":0,\"ticks\":\"\"}},\"type\":\"scattermapbox\"}],\"scatterpolar\":[{\"marker\":{\"colorbar\":{\"outlinewidth\":0,\"ticks\":\"\"}},\"type\":\"scatterpolar\"}],\"scatterpolargl\":[{\"marker\":{\"colorbar\":{\"outlinewidth\":0,\"ticks\":\"\"}},\"type\":\"scatterpolargl\"}],\"scatterternary\":[{\"marker\":{\"colorbar\":{\"outlinewidth\":0,\"ticks\":\"\"}},\"type\":\"scatterternary\"}],\"surface\":[{\"colorbar\":{\"outlinewidth\":0,\"ticks\":\"\"},\"colorscale\":[[0.0,\"#0d0887\"],[0.1111111111111111,\"#46039f\"],[0.2222222222222222,\"#7201a8\"],[0.3333333333333333,\"#9c179e\"],[0.4444444444444444,\"#bd3786\"],[0.5555555555555556,\"#d8576b\"],[0.6666666666666666,\"#ed7953\"],[0.7777777777777778,\"#fb9f3a\"],[0.8888888888888888,\"#fdca26\"],[1.0,\"#f0f921\"]],\"type\":\"surface\"}],\"table\":[{\"cells\":{\"fill\":{\"color\":\"#EBF0F8\"},\"line\":{\"color\":\"white\"}},\"header\":{\"fill\":{\"color\":\"#C8D4E3\"},\"line\":{\"color\":\"white\"}},\"type\":\"table\"}]},\"layout\":{\"annotationdefaults\":{\"arrowcolor\":\"#2a3f5f\",\"arrowhead\":0,\"arrowwidth\":1},\"autotypenumbers\":\"strict\",\"coloraxis\":{\"colorbar\":{\"outlinewidth\":0,\"ticks\":\"\"}},\"colorscale\":{\"diverging\":[[0,\"#8e0152\"],[0.1,\"#c51b7d\"],[0.2,\"#de77ae\"],[0.3,\"#f1b6da\"],[0.4,\"#fde0ef\"],[0.5,\"#f7f7f7\"],[0.6,\"#e6f5d0\"],[0.7,\"#b8e186\"],[0.8,\"#7fbc41\"],[0.9,\"#4d9221\"],[1,\"#276419\"]],\"sequential\":[[0.0,\"#0d0887\"],[0.1111111111111111,\"#46039f\"],[0.2222222222222222,\"#7201a8\"],[0.3333333333333333,\"#9c179e\"],[0.4444444444444444,\"#bd3786\"],[0.5555555555555556,\"#d8576b\"],[0.6666666666666666,\"#ed7953\"],[0.7777777777777778,\"#fb9f3a\"],[0.8888888888888888,\"#fdca26\"],[1.0,\"#f0f921\"]],\"sequentialminus\":[[0.0,\"#0d0887\"],[0.1111111111111111,\"#46039f\"],[0.2222222222222222,\"#7201a8\"],[0.3333333333333333,\"#9c179e\"],[0.4444444444444444,\"#bd3786\"],[0.5555555555555556,\"#d8576b\"],[0.6666666666666666,\"#ed7953\"],[0.7777777777777778,\"#fb9f3a\"],[0.8888888888888888,\"#fdca26\"],[1.0,\"#f0f921\"]]},\"colorway\":[\"#636efa\",\"#EF553B\",\"#00cc96\",\"#ab63fa\",\"#FFA15A\",\"#19d3f3\",\"#FF6692\",\"#B6E880\",\"#FF97FF\",\"#FECB52\"],\"font\":{\"color\":\"#2a3f5f\"},\"geo\":{\"bgcolor\":\"white\",\"lakecolor\":\"white\",\"landcolor\":\"#E5ECF6\",\"showlakes\":true,\"showland\":true,\"subunitcolor\":\"white\"},\"hoverlabel\":{\"align\":\"left\"},\"hovermode\":\"closest\",\"mapbox\":{\"style\":\"light\"},\"paper_bgcolor\":\"white\",\"plot_bgcolor\":\"#E5ECF6\",\"polar\":{\"angularaxis\":{\"gridcolor\":\"white\",\"linecolor\":\"white\",\"ticks\":\"\"},\"bgcolor\":\"#E5ECF6\",\"radialaxis\":{\"gridcolor\":\"white\",\"linecolor\":\"white\",\"ticks\":\"\"}},\"scene\":{\"xaxis\":{\"backgroundcolor\":\"#E5ECF6\",\"gridcolor\":\"white\",\"gridwidth\":2,\"linecolor\":\"white\",\"showbackground\":true,\"ticks\":\"\",\"zerolinecolor\":\"white\"},\"yaxis\":{\"backgroundcolor\":\"#E5ECF6\",\"gridcolor\":\"white\",\"gridwidth\":2,\"linecolor\":\"white\",\"showbackground\":true,\"ticks\":\"\",\"zerolinecolor\":\"white\"},\"zaxis\":{\"backgroundcolor\":\"#E5ECF6\",\"gridcolor\":\"white\",\"gridwidth\":2,\"linecolor\":\"white\",\"showbackground\":true,\"ticks\":\"\",\"zerolinecolor\":\"white\"}},\"shapedefaults\":{\"line\":{\"color\":\"#2a3f5f\"}},\"ternary\":{\"aaxis\":{\"gridcolor\":\"white\",\"linecolor\":\"white\",\"ticks\":\"\"},\"baxis\":{\"gridcolor\":\"white\",\"linecolor\":\"white\",\"ticks\":\"\"},\"bgcolor\":\"#E5ECF6\",\"caxis\":{\"gridcolor\":\"white\",\"linecolor\":\"white\",\"ticks\":\"\"}},\"title\":{\"x\":0.05},\"xaxis\":{\"automargin\":true,\"gridcolor\":\"white\",\"linecolor\":\"white\",\"ticks\":\"\",\"title\":{\"standoff\":15},\"zerolinecolor\":\"white\",\"zerolinewidth\":2},\"yaxis\":{\"automargin\":true,\"gridcolor\":\"white\",\"linecolor\":\"white\",\"ticks\":\"\",\"title\":{\"standoff\":15},\"zerolinecolor\":\"white\",\"zerolinewidth\":2}}},\"xaxis\":{\"tickangle\":-45},\"barmode\":\"group\"},                        {\"responsive\": true}                    ).then(function(){\n",
              "                            \n",
              "var gd = document.getElementById('b17ed874-71bf-4ee1-8dfb-1cec9bcc845b');\n",
              "var x = new MutationObserver(function (mutations, observer) {{\n",
              "        var display = window.getComputedStyle(gd).display;\n",
              "        if (!display || display === 'none') {{\n",
              "            console.log([gd, 'removed!']);\n",
              "            Plotly.purge(gd);\n",
              "            observer.disconnect();\n",
              "        }}\n",
              "}});\n",
              "\n",
              "// Listen for the removal of the full notebook cells\n",
              "var notebookContainer = gd.closest('#notebook-container');\n",
              "if (notebookContainer) {{\n",
              "    x.observe(notebookContainer, {childList: true});\n",
              "}}\n",
              "\n",
              "// Listen for the clearing of the current output cell\n",
              "var outputEl = gd.closest('.output');\n",
              "if (outputEl) {{\n",
              "    x.observe(outputEl, {childList: true});\n",
              "}}\n",
              "\n",
              "                        })                };                            </script>        </div>\n",
              "</body>\n",
              "</html>"
            ]
          },
          "metadata": {}
        },
        {
          "output_type": "stream",
          "name": "stderr",
          "text": [
            "WARNING:datapane:Bokeh version 2.3.3 is not supported, these plots may not display correctly, please install version ~=2.2.0\n",
            "WARNING:datapane:Folium version 0.8.3 is not supported, these plots may not display correctly, please install version >=0.12.0\n"
          ]
        },
        {
          "output_type": "stream",
          "name": "stdout",
          "text": [
            "Report saved to ./report.html. To upload and share your report, create a free Datapane account by running `datapane signup`.\n",
            "How is your experience of Datapane? Please take two minutes to answer our anonymous product survey at https://bit.ly/3lWjRlr\n"
          ]
        },
        {
          "output_type": "execute_result",
          "data": {
            "text/html": [
              "\n",
              "  <div id=\"df-153293a6-c2b8-4ba7-83cf-769330a165d8\">\n",
              "    <div class=\"colab-df-container\">\n",
              "      <div>\n",
              "<style scoped>\n",
              "    .dataframe tbody tr th:only-of-type {\n",
              "        vertical-align: middle;\n",
              "    }\n",
              "\n",
              "    .dataframe tbody tr th {\n",
              "        vertical-align: top;\n",
              "    }\n",
              "\n",
              "    .dataframe thead th {\n",
              "        text-align: right;\n",
              "    }\n",
              "</style>\n",
              "<table border=\"1\" class=\"dataframe\">\n",
              "  <thead>\n",
              "    <tr style=\"text-align: right;\">\n",
              "      <th></th>\n",
              "      <th>CONSUMO_NORMAL</th>\n",
              "      <th>PAGO_NORMAL</th>\n",
              "      <th>CONSUMO_REDUCIDO</th>\n",
              "      <th>PAGO_REDUCIDO</th>\n",
              "      <th>CONSUMO_INCREMENTO</th>\n",
              "      <th>PAGO_INCREMENTO</th>\n",
              "    </tr>\n",
              "    <tr>\n",
              "      <th>Date</th>\n",
              "      <th></th>\n",
              "      <th></th>\n",
              "      <th></th>\n",
              "      <th></th>\n",
              "      <th></th>\n",
              "      <th></th>\n",
              "    </tr>\n",
              "  </thead>\n",
              "  <tbody>\n",
              "    <tr>\n",
              "      <th>2021-07-30</th>\n",
              "      <td>1825.800000</td>\n",
              "      <td>5659.980000</td>\n",
              "      <td>1825.800000</td>\n",
              "      <td>5659.980000</td>\n",
              "      <td>1825.800000</td>\n",
              "      <td>5659.980000</td>\n",
              "    </tr>\n",
              "    <tr>\n",
              "      <th>2021-08-31</th>\n",
              "      <td>2154.399170</td>\n",
              "      <td>6678.637427</td>\n",
              "      <td>1938.959253</td>\n",
              "      <td>6010.773684</td>\n",
              "      <td>2369.839087</td>\n",
              "      <td>7346.501169</td>\n",
              "    </tr>\n",
              "    <tr>\n",
              "      <th>2021-09-30</th>\n",
              "      <td>1917.892090</td>\n",
              "      <td>5945.465479</td>\n",
              "      <td>1726.102881</td>\n",
              "      <td>5350.918931</td>\n",
              "      <td>2109.681299</td>\n",
              "      <td>6540.012026</td>\n",
              "    </tr>\n",
              "    <tr>\n",
              "      <th>2021-10-31</th>\n",
              "      <td>1909.976685</td>\n",
              "      <td>5920.927722</td>\n",
              "      <td>1718.979016</td>\n",
              "      <td>5328.834950</td>\n",
              "      <td>2100.974353</td>\n",
              "      <td>6513.020494</td>\n",
              "    </tr>\n",
              "  </tbody>\n",
              "</table>\n",
              "</div>\n",
              "      <button class=\"colab-df-convert\" onclick=\"convertToInteractive('df-153293a6-c2b8-4ba7-83cf-769330a165d8')\"\n",
              "              title=\"Convert this dataframe to an interactive table.\"\n",
              "              style=\"display:none;\">\n",
              "        \n",
              "  <svg xmlns=\"http://www.w3.org/2000/svg\" height=\"24px\"viewBox=\"0 0 24 24\"\n",
              "       width=\"24px\">\n",
              "    <path d=\"M0 0h24v24H0V0z\" fill=\"none\"/>\n",
              "    <path d=\"M18.56 5.44l.94 2.06.94-2.06 2.06-.94-2.06-.94-.94-2.06-.94 2.06-2.06.94zm-11 1L8.5 8.5l.94-2.06 2.06-.94-2.06-.94L8.5 2.5l-.94 2.06-2.06.94zm10 10l.94 2.06.94-2.06 2.06-.94-2.06-.94-.94-2.06-.94 2.06-2.06.94z\"/><path d=\"M17.41 7.96l-1.37-1.37c-.4-.4-.92-.59-1.43-.59-.52 0-1.04.2-1.43.59L10.3 9.45l-7.72 7.72c-.78.78-.78 2.05 0 2.83L4 21.41c.39.39.9.59 1.41.59.51 0 1.02-.2 1.41-.59l7.78-7.78 2.81-2.81c.8-.78.8-2.07 0-2.86zM5.41 20L4 18.59l7.72-7.72 1.47 1.35L5.41 20z\"/>\n",
              "  </svg>\n",
              "      </button>\n",
              "      \n",
              "  <style>\n",
              "    .colab-df-container {\n",
              "      display:flex;\n",
              "      flex-wrap:wrap;\n",
              "      gap: 12px;\n",
              "    }\n",
              "\n",
              "    .colab-df-convert {\n",
              "      background-color: #E8F0FE;\n",
              "      border: none;\n",
              "      border-radius: 50%;\n",
              "      cursor: pointer;\n",
              "      display: none;\n",
              "      fill: #1967D2;\n",
              "      height: 32px;\n",
              "      padding: 0 0 0 0;\n",
              "      width: 32px;\n",
              "    }\n",
              "\n",
              "    .colab-df-convert:hover {\n",
              "      background-color: #E2EBFA;\n",
              "      box-shadow: 0px 1px 2px rgba(60, 64, 67, 0.3), 0px 1px 3px 1px rgba(60, 64, 67, 0.15);\n",
              "      fill: #174EA6;\n",
              "    }\n",
              "\n",
              "    [theme=dark] .colab-df-convert {\n",
              "      background-color: #3B4455;\n",
              "      fill: #D2E3FC;\n",
              "    }\n",
              "\n",
              "    [theme=dark] .colab-df-convert:hover {\n",
              "      background-color: #434B5C;\n",
              "      box-shadow: 0px 1px 3px 1px rgba(0, 0, 0, 0.15);\n",
              "      filter: drop-shadow(0px 1px 2px rgba(0, 0, 0, 0.3));\n",
              "      fill: #FFFFFF;\n",
              "    }\n",
              "  </style>\n",
              "\n",
              "      <script>\n",
              "        const buttonEl =\n",
              "          document.querySelector('#df-153293a6-c2b8-4ba7-83cf-769330a165d8 button.colab-df-convert');\n",
              "        buttonEl.style.display =\n",
              "          google.colab.kernel.accessAllowed ? 'block' : 'none';\n",
              "\n",
              "        async function convertToInteractive(key) {\n",
              "          const element = document.querySelector('#df-153293a6-c2b8-4ba7-83cf-769330a165d8');\n",
              "          const dataTable =\n",
              "            await google.colab.kernel.invokeFunction('convertToInteractive',\n",
              "                                                     [key], {});\n",
              "          if (!dataTable) return;\n",
              "\n",
              "          const docLinkHtml = 'Like what you see? Visit the ' +\n",
              "            '<a target=\"_blank\" href=https://colab.research.google.com/notebooks/data_table.ipynb>data table notebook</a>'\n",
              "            + ' to learn more about interactive tables.';\n",
              "          element.innerHTML = '';\n",
              "          dataTable['output_type'] = 'display_data';\n",
              "          await google.colab.output.renderOutput(dataTable, element);\n",
              "          const docLink = document.createElement('div');\n",
              "          docLink.innerHTML = docLinkHtml;\n",
              "          element.appendChild(docLink);\n",
              "        }\n",
              "      </script>\n",
              "    </div>\n",
              "  </div>\n",
              "  "
            ],
            "text/plain": [
              "            CONSUMO_NORMAL  PAGO_NORMAL  ...  CONSUMO_INCREMENTO  PAGO_INCREMENTO\n",
              "Date                                     ...                                     \n",
              "2021-07-30     1825.800000  5659.980000  ...         1825.800000      5659.980000\n",
              "2021-08-31     2154.399170  6678.637427  ...         2369.839087      7346.501169\n",
              "2021-09-30     1917.892090  5945.465479  ...         2109.681299      6540.012026\n",
              "2021-10-31     1909.976685  5920.927722  ...         2100.974353      6513.020494\n",
              "\n",
              "[4 rows x 6 columns]"
            ]
          },
          "metadata": {},
          "execution_count": 34
        }
      ],
      "source": [
        "new_prediction(model_enc_dec,usuario=1)"
      ]
    },
    {
      "cell_type": "code",
      "execution_count": 35,
      "metadata": {
        "id": "YHzlTvUr4fw4",
        "colab": {
          "base_uri": "https://localhost:8080/",
          "height": 1000
        },
        "outputId": "de174d7a-8ed7-4a38-f6b2-d65fb1cb77c5"
      },
      "outputs": [
        {
          "output_type": "stream",
          "name": "stderr",
          "text": [
            "/usr/local/lib/python3.7/dist-packages/sklearn/base.py:451: UserWarning:\n",
            "\n",
            "X does not have valid feature names, but MinMaxScaler was fitted with feature names\n",
            "\n"
          ]
        },
        {
          "output_type": "display_data",
          "data": {
            "text/html": [
              "<html>\n",
              "<head><meta charset=\"utf-8\" /></head>\n",
              "<body>\n",
              "    <div>            <script src=\"https://cdnjs.cloudflare.com/ajax/libs/mathjax/2.7.5/MathJax.js?config=TeX-AMS-MML_SVG\"></script><script type=\"text/javascript\">if (window.MathJax) {MathJax.Hub.Config({SVG: {font: \"STIX-Web\"}});}</script>                <script type=\"text/javascript\">window.PlotlyConfig = {MathJaxConfig: 'local'};</script>\n",
              "        <script src=\"https://cdn.plot.ly/plotly-2.8.3.min.js\"></script>                <div id=\"1bb46efe-fb28-4adf-be61-5dbcbad05281\" class=\"plotly-graph-div\" style=\"height:525px; width:100%;\"></div>            <script type=\"text/javascript\">                                    window.PLOTLYENV=window.PLOTLYENV || {};                                    if (document.getElementById(\"1bb46efe-fb28-4adf-be61-5dbcbad05281\")) {                    Plotly.newPlot(                        \"1bb46efe-fb28-4adf-be61-5dbcbad05281\",                        [{\"fillcolor\":\"green\",\"mode\":\"lines\",\"name\":\"HISTORIAL\",\"x\":[\"2020-08-31T00:00:00\",\"2020-09-30T00:00:00\",\"2020-10-30T00:00:00\",\"2020-11-30T00:00:00\",\"2020-12-31T00:00:00\",\"2021-01-29T00:00:00\",\"2021-02-26T00:00:00\",\"2021-03-31T00:00:00\",\"2021-04-30T00:00:00\",\"2021-05-31T00:00:00\",\"2021-06-30T00:00:00\",\"2021-07-30T00:00:00\"],\"y\":[1957.4,1886.9,1881.9,1762.6,1887.6,1863.8,1742.9,1691.1,1767.7,1900.0,1763.2,1825.8],\"type\":\"scatter\"},{\"fillcolor\":\"green\",\"mode\":\"lines\",\"name\":\"NORMAL\",\"x\":[\"2021-07-30T00:00:00\",\"2021-08-31T00:00:00\",\"2021-09-30T00:00:00\",\"2021-10-31T00:00:00\"],\"y\":[1825.8,1885.29052734375,2124.7939453125,2170.57861328125],\"type\":\"scatter\"},{\"fillcolor\":\"red\",\"mode\":\"lines\",\"name\":\"REDUCCION\",\"x\":[\"2021-07-30T00:00:00\",\"2021-08-31T00:00:00\",\"2021-09-30T00:00:00\",\"2021-10-31T00:00:00\"],\"y\":[1825.8,1696.761474609375,1912.31455078125,1953.520751953125],\"type\":\"scatter\"},{\"fillcolor\":\"red\",\"mode\":\"lines\",\"name\":\"INCREMENTO\",\"x\":[\"2021-07-30T00:00:00\",\"2021-08-31T00:00:00\",\"2021-09-30T00:00:00\",\"2021-10-31T00:00:00\"],\"y\":[1825.8,2073.819580078125,2337.27333984375,2387.636474609375],\"type\":\"scatter\"}],                        {\"title\":{\"text\":\"CONSUMO DE AGUA DEL SR: Jimmy Magguill PARA 3 MESES\"},\"xaxis\":{\"title\":{\"text\":\"Date\"}},\"yaxis\":{\"title\":{\"text\":\"Consumo (m3)\"}},\"template\":{\"data\":{\"bar\":[{\"error_x\":{\"color\":\"#2a3f5f\"},\"error_y\":{\"color\":\"#2a3f5f\"},\"marker\":{\"line\":{\"color\":\"#E5ECF6\",\"width\":0.5},\"pattern\":{\"fillmode\":\"overlay\",\"size\":10,\"solidity\":0.2}},\"type\":\"bar\"}],\"barpolar\":[{\"marker\":{\"line\":{\"color\":\"#E5ECF6\",\"width\":0.5},\"pattern\":{\"fillmode\":\"overlay\",\"size\":10,\"solidity\":0.2}},\"type\":\"barpolar\"}],\"carpet\":[{\"aaxis\":{\"endlinecolor\":\"#2a3f5f\",\"gridcolor\":\"white\",\"linecolor\":\"white\",\"minorgridcolor\":\"white\",\"startlinecolor\":\"#2a3f5f\"},\"baxis\":{\"endlinecolor\":\"#2a3f5f\",\"gridcolor\":\"white\",\"linecolor\":\"white\",\"minorgridcolor\":\"white\",\"startlinecolor\":\"#2a3f5f\"},\"type\":\"carpet\"}],\"choropleth\":[{\"colorbar\":{\"outlinewidth\":0,\"ticks\":\"\"},\"type\":\"choropleth\"}],\"contour\":[{\"colorbar\":{\"outlinewidth\":0,\"ticks\":\"\"},\"colorscale\":[[0.0,\"#0d0887\"],[0.1111111111111111,\"#46039f\"],[0.2222222222222222,\"#7201a8\"],[0.3333333333333333,\"#9c179e\"],[0.4444444444444444,\"#bd3786\"],[0.5555555555555556,\"#d8576b\"],[0.6666666666666666,\"#ed7953\"],[0.7777777777777778,\"#fb9f3a\"],[0.8888888888888888,\"#fdca26\"],[1.0,\"#f0f921\"]],\"type\":\"contour\"}],\"contourcarpet\":[{\"colorbar\":{\"outlinewidth\":0,\"ticks\":\"\"},\"type\":\"contourcarpet\"}],\"heatmap\":[{\"colorbar\":{\"outlinewidth\":0,\"ticks\":\"\"},\"colorscale\":[[0.0,\"#0d0887\"],[0.1111111111111111,\"#46039f\"],[0.2222222222222222,\"#7201a8\"],[0.3333333333333333,\"#9c179e\"],[0.4444444444444444,\"#bd3786\"],[0.5555555555555556,\"#d8576b\"],[0.6666666666666666,\"#ed7953\"],[0.7777777777777778,\"#fb9f3a\"],[0.8888888888888888,\"#fdca26\"],[1.0,\"#f0f921\"]],\"type\":\"heatmap\"}],\"heatmapgl\":[{\"colorbar\":{\"outlinewidth\":0,\"ticks\":\"\"},\"colorscale\":[[0.0,\"#0d0887\"],[0.1111111111111111,\"#46039f\"],[0.2222222222222222,\"#7201a8\"],[0.3333333333333333,\"#9c179e\"],[0.4444444444444444,\"#bd3786\"],[0.5555555555555556,\"#d8576b\"],[0.6666666666666666,\"#ed7953\"],[0.7777777777777778,\"#fb9f3a\"],[0.8888888888888888,\"#fdca26\"],[1.0,\"#f0f921\"]],\"type\":\"heatmapgl\"}],\"histogram\":[{\"marker\":{\"pattern\":{\"fillmode\":\"overlay\",\"size\":10,\"solidity\":0.2}},\"type\":\"histogram\"}],\"histogram2d\":[{\"colorbar\":{\"outlinewidth\":0,\"ticks\":\"\"},\"colorscale\":[[0.0,\"#0d0887\"],[0.1111111111111111,\"#46039f\"],[0.2222222222222222,\"#7201a8\"],[0.3333333333333333,\"#9c179e\"],[0.4444444444444444,\"#bd3786\"],[0.5555555555555556,\"#d8576b\"],[0.6666666666666666,\"#ed7953\"],[0.7777777777777778,\"#fb9f3a\"],[0.8888888888888888,\"#fdca26\"],[1.0,\"#f0f921\"]],\"type\":\"histogram2d\"}],\"histogram2dcontour\":[{\"colorbar\":{\"outlinewidth\":0,\"ticks\":\"\"},\"colorscale\":[[0.0,\"#0d0887\"],[0.1111111111111111,\"#46039f\"],[0.2222222222222222,\"#7201a8\"],[0.3333333333333333,\"#9c179e\"],[0.4444444444444444,\"#bd3786\"],[0.5555555555555556,\"#d8576b\"],[0.6666666666666666,\"#ed7953\"],[0.7777777777777778,\"#fb9f3a\"],[0.8888888888888888,\"#fdca26\"],[1.0,\"#f0f921\"]],\"type\":\"histogram2dcontour\"}],\"mesh3d\":[{\"colorbar\":{\"outlinewidth\":0,\"ticks\":\"\"},\"type\":\"mesh3d\"}],\"parcoords\":[{\"line\":{\"colorbar\":{\"outlinewidth\":0,\"ticks\":\"\"}},\"type\":\"parcoords\"}],\"pie\":[{\"automargin\":true,\"type\":\"pie\"}],\"scatter\":[{\"marker\":{\"colorbar\":{\"outlinewidth\":0,\"ticks\":\"\"}},\"type\":\"scatter\"}],\"scatter3d\":[{\"line\":{\"colorbar\":{\"outlinewidth\":0,\"ticks\":\"\"}},\"marker\":{\"colorbar\":{\"outlinewidth\":0,\"ticks\":\"\"}},\"type\":\"scatter3d\"}],\"scattercarpet\":[{\"marker\":{\"colorbar\":{\"outlinewidth\":0,\"ticks\":\"\"}},\"type\":\"scattercarpet\"}],\"scattergeo\":[{\"marker\":{\"colorbar\":{\"outlinewidth\":0,\"ticks\":\"\"}},\"type\":\"scattergeo\"}],\"scattergl\":[{\"marker\":{\"colorbar\":{\"outlinewidth\":0,\"ticks\":\"\"}},\"type\":\"scattergl\"}],\"scattermapbox\":[{\"marker\":{\"colorbar\":{\"outlinewidth\":0,\"ticks\":\"\"}},\"type\":\"scattermapbox\"}],\"scatterpolar\":[{\"marker\":{\"colorbar\":{\"outlinewidth\":0,\"ticks\":\"\"}},\"type\":\"scatterpolar\"}],\"scatterpolargl\":[{\"marker\":{\"colorbar\":{\"outlinewidth\":0,\"ticks\":\"\"}},\"type\":\"scatterpolargl\"}],\"scatterternary\":[{\"marker\":{\"colorbar\":{\"outlinewidth\":0,\"ticks\":\"\"}},\"type\":\"scatterternary\"}],\"surface\":[{\"colorbar\":{\"outlinewidth\":0,\"ticks\":\"\"},\"colorscale\":[[0.0,\"#0d0887\"],[0.1111111111111111,\"#46039f\"],[0.2222222222222222,\"#7201a8\"],[0.3333333333333333,\"#9c179e\"],[0.4444444444444444,\"#bd3786\"],[0.5555555555555556,\"#d8576b\"],[0.6666666666666666,\"#ed7953\"],[0.7777777777777778,\"#fb9f3a\"],[0.8888888888888888,\"#fdca26\"],[1.0,\"#f0f921\"]],\"type\":\"surface\"}],\"table\":[{\"cells\":{\"fill\":{\"color\":\"#EBF0F8\"},\"line\":{\"color\":\"white\"}},\"header\":{\"fill\":{\"color\":\"#C8D4E3\"},\"line\":{\"color\":\"white\"}},\"type\":\"table\"}]},\"layout\":{\"annotationdefaults\":{\"arrowcolor\":\"#2a3f5f\",\"arrowhead\":0,\"arrowwidth\":1},\"autotypenumbers\":\"strict\",\"coloraxis\":{\"colorbar\":{\"outlinewidth\":0,\"ticks\":\"\"}},\"colorscale\":{\"diverging\":[[0,\"#8e0152\"],[0.1,\"#c51b7d\"],[0.2,\"#de77ae\"],[0.3,\"#f1b6da\"],[0.4,\"#fde0ef\"],[0.5,\"#f7f7f7\"],[0.6,\"#e6f5d0\"],[0.7,\"#b8e186\"],[0.8,\"#7fbc41\"],[0.9,\"#4d9221\"],[1,\"#276419\"]],\"sequential\":[[0.0,\"#0d0887\"],[0.1111111111111111,\"#46039f\"],[0.2222222222222222,\"#7201a8\"],[0.3333333333333333,\"#9c179e\"],[0.4444444444444444,\"#bd3786\"],[0.5555555555555556,\"#d8576b\"],[0.6666666666666666,\"#ed7953\"],[0.7777777777777778,\"#fb9f3a\"],[0.8888888888888888,\"#fdca26\"],[1.0,\"#f0f921\"]],\"sequentialminus\":[[0.0,\"#0d0887\"],[0.1111111111111111,\"#46039f\"],[0.2222222222222222,\"#7201a8\"],[0.3333333333333333,\"#9c179e\"],[0.4444444444444444,\"#bd3786\"],[0.5555555555555556,\"#d8576b\"],[0.6666666666666666,\"#ed7953\"],[0.7777777777777778,\"#fb9f3a\"],[0.8888888888888888,\"#fdca26\"],[1.0,\"#f0f921\"]]},\"colorway\":[\"#636efa\",\"#EF553B\",\"#00cc96\",\"#ab63fa\",\"#FFA15A\",\"#19d3f3\",\"#FF6692\",\"#B6E880\",\"#FF97FF\",\"#FECB52\"],\"font\":{\"color\":\"#2a3f5f\"},\"geo\":{\"bgcolor\":\"white\",\"lakecolor\":\"white\",\"landcolor\":\"#E5ECF6\",\"showlakes\":true,\"showland\":true,\"subunitcolor\":\"white\"},\"hoverlabel\":{\"align\":\"left\"},\"hovermode\":\"closest\",\"mapbox\":{\"style\":\"light\"},\"paper_bgcolor\":\"white\",\"plot_bgcolor\":\"#E5ECF6\",\"polar\":{\"angularaxis\":{\"gridcolor\":\"white\",\"linecolor\":\"white\",\"ticks\":\"\"},\"bgcolor\":\"#E5ECF6\",\"radialaxis\":{\"gridcolor\":\"white\",\"linecolor\":\"white\",\"ticks\":\"\"}},\"scene\":{\"xaxis\":{\"backgroundcolor\":\"#E5ECF6\",\"gridcolor\":\"white\",\"gridwidth\":2,\"linecolor\":\"white\",\"showbackground\":true,\"ticks\":\"\",\"zerolinecolor\":\"white\"},\"yaxis\":{\"backgroundcolor\":\"#E5ECF6\",\"gridcolor\":\"white\",\"gridwidth\":2,\"linecolor\":\"white\",\"showbackground\":true,\"ticks\":\"\",\"zerolinecolor\":\"white\"},\"zaxis\":{\"backgroundcolor\":\"#E5ECF6\",\"gridcolor\":\"white\",\"gridwidth\":2,\"linecolor\":\"white\",\"showbackground\":true,\"ticks\":\"\",\"zerolinecolor\":\"white\"}},\"shapedefaults\":{\"line\":{\"color\":\"#2a3f5f\"}},\"ternary\":{\"aaxis\":{\"gridcolor\":\"white\",\"linecolor\":\"white\",\"ticks\":\"\"},\"baxis\":{\"gridcolor\":\"white\",\"linecolor\":\"white\",\"ticks\":\"\"},\"bgcolor\":\"#E5ECF6\",\"caxis\":{\"gridcolor\":\"white\",\"linecolor\":\"white\",\"ticks\":\"\"}},\"title\":{\"x\":0.05},\"xaxis\":{\"automargin\":true,\"gridcolor\":\"white\",\"linecolor\":\"white\",\"ticks\":\"\",\"title\":{\"standoff\":15},\"zerolinecolor\":\"white\",\"zerolinewidth\":2},\"yaxis\":{\"automargin\":true,\"gridcolor\":\"white\",\"linecolor\":\"white\",\"ticks\":\"\",\"title\":{\"standoff\":15},\"zerolinecolor\":\"white\",\"zerolinewidth\":2}}}},                        {\"responsive\": true}                    ).then(function(){\n",
              "                            \n",
              "var gd = document.getElementById('1bb46efe-fb28-4adf-be61-5dbcbad05281');\n",
              "var x = new MutationObserver(function (mutations, observer) {{\n",
              "        var display = window.getComputedStyle(gd).display;\n",
              "        if (!display || display === 'none') {{\n",
              "            console.log([gd, 'removed!']);\n",
              "            Plotly.purge(gd);\n",
              "            observer.disconnect();\n",
              "        }}\n",
              "}});\n",
              "\n",
              "// Listen for the removal of the full notebook cells\n",
              "var notebookContainer = gd.closest('#notebook-container');\n",
              "if (notebookContainer) {{\n",
              "    x.observe(notebookContainer, {childList: true});\n",
              "}}\n",
              "\n",
              "// Listen for the clearing of the current output cell\n",
              "var outputEl = gd.closest('.output');\n",
              "if (outputEl) {{\n",
              "    x.observe(outputEl, {childList: true});\n",
              "}}\n",
              "\n",
              "                        })                };                            </script>        </div>\n",
              "</body>\n",
              "</html>"
            ]
          },
          "metadata": {}
        },
        {
          "output_type": "display_data",
          "data": {
            "text/html": [
              "<html>\n",
              "<head><meta charset=\"utf-8\" /></head>\n",
              "<body>\n",
              "    <div>            <script src=\"https://cdnjs.cloudflare.com/ajax/libs/mathjax/2.7.5/MathJax.js?config=TeX-AMS-MML_SVG\"></script><script type=\"text/javascript\">if (window.MathJax) {MathJax.Hub.Config({SVG: {font: \"STIX-Web\"}});}</script>                <script type=\"text/javascript\">window.PlotlyConfig = {MathJaxConfig: 'local'};</script>\n",
              "        <script src=\"https://cdn.plot.ly/plotly-2.8.3.min.js\"></script>                <div id=\"886a02e2-b3ef-47d5-af38-d1f1cab748e7\" class=\"plotly-graph-div\" style=\"height:525px; width:100%;\"></div>            <script type=\"text/javascript\">                                    window.PLOTLYENV=window.PLOTLYENV || {};                                    if (document.getElementById(\"886a02e2-b3ef-47d5-af38-d1f1cab748e7\")) {                    Plotly.newPlot(                        \"886a02e2-b3ef-47d5-af38-d1f1cab748e7\",                        [{\"marker\":{\"color\":\"indianred\"},\"name\":\"PAGO NORMAL\",\"text\":[5659.98,5844.4,6586.86,6728.79],\"x\":[\"2021-07-30T00:00:00\",\"2021-08-31T00:00:00\",\"2021-09-30T00:00:00\",\"2021-10-31T00:00:00\"],\"y\":[5659.9800000000005,5844.400634765625,6586.86123046875,6728.793701171875],\"type\":\"bar\"},{\"marker\":{\"color\":\"lightsalmon\"},\"name\":\"PAGO REDUCIDO\",\"text\":[5659.98,5259.96,5928.18,6055.91],\"x\":[\"2021-07-30T00:00:00\",\"2021-08-31T00:00:00\",\"2021-09-30T00:00:00\",\"2021-10-31T00:00:00\"],\"y\":[5659.9800000000005,5259.9605712890625,5928.1751074218755,6055.914331054688],\"type\":\"bar\"},{\"marker\":{\"color\":\"yellow\"},\"name\":\"PAGO INCREMENTO\",\"text\":[5659.98,6428.84,7245.55,7401.67],\"x\":[\"2021-07-30T00:00:00\",\"2021-08-31T00:00:00\",\"2021-09-30T00:00:00\",\"2021-10-31T00:00:00\"],\"y\":[5659.9800000000005,6428.8406982421875,7245.547353515625,7401.673071289063],\"type\":\"bar\"}],                        {\"template\":{\"data\":{\"bar\":[{\"error_x\":{\"color\":\"#2a3f5f\"},\"error_y\":{\"color\":\"#2a3f5f\"},\"marker\":{\"line\":{\"color\":\"#E5ECF6\",\"width\":0.5},\"pattern\":{\"fillmode\":\"overlay\",\"size\":10,\"solidity\":0.2}},\"type\":\"bar\"}],\"barpolar\":[{\"marker\":{\"line\":{\"color\":\"#E5ECF6\",\"width\":0.5},\"pattern\":{\"fillmode\":\"overlay\",\"size\":10,\"solidity\":0.2}},\"type\":\"barpolar\"}],\"carpet\":[{\"aaxis\":{\"endlinecolor\":\"#2a3f5f\",\"gridcolor\":\"white\",\"linecolor\":\"white\",\"minorgridcolor\":\"white\",\"startlinecolor\":\"#2a3f5f\"},\"baxis\":{\"endlinecolor\":\"#2a3f5f\",\"gridcolor\":\"white\",\"linecolor\":\"white\",\"minorgridcolor\":\"white\",\"startlinecolor\":\"#2a3f5f\"},\"type\":\"carpet\"}],\"choropleth\":[{\"colorbar\":{\"outlinewidth\":0,\"ticks\":\"\"},\"type\":\"choropleth\"}],\"contour\":[{\"colorbar\":{\"outlinewidth\":0,\"ticks\":\"\"},\"colorscale\":[[0.0,\"#0d0887\"],[0.1111111111111111,\"#46039f\"],[0.2222222222222222,\"#7201a8\"],[0.3333333333333333,\"#9c179e\"],[0.4444444444444444,\"#bd3786\"],[0.5555555555555556,\"#d8576b\"],[0.6666666666666666,\"#ed7953\"],[0.7777777777777778,\"#fb9f3a\"],[0.8888888888888888,\"#fdca26\"],[1.0,\"#f0f921\"]],\"type\":\"contour\"}],\"contourcarpet\":[{\"colorbar\":{\"outlinewidth\":0,\"ticks\":\"\"},\"type\":\"contourcarpet\"}],\"heatmap\":[{\"colorbar\":{\"outlinewidth\":0,\"ticks\":\"\"},\"colorscale\":[[0.0,\"#0d0887\"],[0.1111111111111111,\"#46039f\"],[0.2222222222222222,\"#7201a8\"],[0.3333333333333333,\"#9c179e\"],[0.4444444444444444,\"#bd3786\"],[0.5555555555555556,\"#d8576b\"],[0.6666666666666666,\"#ed7953\"],[0.7777777777777778,\"#fb9f3a\"],[0.8888888888888888,\"#fdca26\"],[1.0,\"#f0f921\"]],\"type\":\"heatmap\"}],\"heatmapgl\":[{\"colorbar\":{\"outlinewidth\":0,\"ticks\":\"\"},\"colorscale\":[[0.0,\"#0d0887\"],[0.1111111111111111,\"#46039f\"],[0.2222222222222222,\"#7201a8\"],[0.3333333333333333,\"#9c179e\"],[0.4444444444444444,\"#bd3786\"],[0.5555555555555556,\"#d8576b\"],[0.6666666666666666,\"#ed7953\"],[0.7777777777777778,\"#fb9f3a\"],[0.8888888888888888,\"#fdca26\"],[1.0,\"#f0f921\"]],\"type\":\"heatmapgl\"}],\"histogram\":[{\"marker\":{\"pattern\":{\"fillmode\":\"overlay\",\"size\":10,\"solidity\":0.2}},\"type\":\"histogram\"}],\"histogram2d\":[{\"colorbar\":{\"outlinewidth\":0,\"ticks\":\"\"},\"colorscale\":[[0.0,\"#0d0887\"],[0.1111111111111111,\"#46039f\"],[0.2222222222222222,\"#7201a8\"],[0.3333333333333333,\"#9c179e\"],[0.4444444444444444,\"#bd3786\"],[0.5555555555555556,\"#d8576b\"],[0.6666666666666666,\"#ed7953\"],[0.7777777777777778,\"#fb9f3a\"],[0.8888888888888888,\"#fdca26\"],[1.0,\"#f0f921\"]],\"type\":\"histogram2d\"}],\"histogram2dcontour\":[{\"colorbar\":{\"outlinewidth\":0,\"ticks\":\"\"},\"colorscale\":[[0.0,\"#0d0887\"],[0.1111111111111111,\"#46039f\"],[0.2222222222222222,\"#7201a8\"],[0.3333333333333333,\"#9c179e\"],[0.4444444444444444,\"#bd3786\"],[0.5555555555555556,\"#d8576b\"],[0.6666666666666666,\"#ed7953\"],[0.7777777777777778,\"#fb9f3a\"],[0.8888888888888888,\"#fdca26\"],[1.0,\"#f0f921\"]],\"type\":\"histogram2dcontour\"}],\"mesh3d\":[{\"colorbar\":{\"outlinewidth\":0,\"ticks\":\"\"},\"type\":\"mesh3d\"}],\"parcoords\":[{\"line\":{\"colorbar\":{\"outlinewidth\":0,\"ticks\":\"\"}},\"type\":\"parcoords\"}],\"pie\":[{\"automargin\":true,\"type\":\"pie\"}],\"scatter\":[{\"marker\":{\"colorbar\":{\"outlinewidth\":0,\"ticks\":\"\"}},\"type\":\"scatter\"}],\"scatter3d\":[{\"line\":{\"colorbar\":{\"outlinewidth\":0,\"ticks\":\"\"}},\"marker\":{\"colorbar\":{\"outlinewidth\":0,\"ticks\":\"\"}},\"type\":\"scatter3d\"}],\"scattercarpet\":[{\"marker\":{\"colorbar\":{\"outlinewidth\":0,\"ticks\":\"\"}},\"type\":\"scattercarpet\"}],\"scattergeo\":[{\"marker\":{\"colorbar\":{\"outlinewidth\":0,\"ticks\":\"\"}},\"type\":\"scattergeo\"}],\"scattergl\":[{\"marker\":{\"colorbar\":{\"outlinewidth\":0,\"ticks\":\"\"}},\"type\":\"scattergl\"}],\"scattermapbox\":[{\"marker\":{\"colorbar\":{\"outlinewidth\":0,\"ticks\":\"\"}},\"type\":\"scattermapbox\"}],\"scatterpolar\":[{\"marker\":{\"colorbar\":{\"outlinewidth\":0,\"ticks\":\"\"}},\"type\":\"scatterpolar\"}],\"scatterpolargl\":[{\"marker\":{\"colorbar\":{\"outlinewidth\":0,\"ticks\":\"\"}},\"type\":\"scatterpolargl\"}],\"scatterternary\":[{\"marker\":{\"colorbar\":{\"outlinewidth\":0,\"ticks\":\"\"}},\"type\":\"scatterternary\"}],\"surface\":[{\"colorbar\":{\"outlinewidth\":0,\"ticks\":\"\"},\"colorscale\":[[0.0,\"#0d0887\"],[0.1111111111111111,\"#46039f\"],[0.2222222222222222,\"#7201a8\"],[0.3333333333333333,\"#9c179e\"],[0.4444444444444444,\"#bd3786\"],[0.5555555555555556,\"#d8576b\"],[0.6666666666666666,\"#ed7953\"],[0.7777777777777778,\"#fb9f3a\"],[0.8888888888888888,\"#fdca26\"],[1.0,\"#f0f921\"]],\"type\":\"surface\"}],\"table\":[{\"cells\":{\"fill\":{\"color\":\"#EBF0F8\"},\"line\":{\"color\":\"white\"}},\"header\":{\"fill\":{\"color\":\"#C8D4E3\"},\"line\":{\"color\":\"white\"}},\"type\":\"table\"}]},\"layout\":{\"annotationdefaults\":{\"arrowcolor\":\"#2a3f5f\",\"arrowhead\":0,\"arrowwidth\":1},\"autotypenumbers\":\"strict\",\"coloraxis\":{\"colorbar\":{\"outlinewidth\":0,\"ticks\":\"\"}},\"colorscale\":{\"diverging\":[[0,\"#8e0152\"],[0.1,\"#c51b7d\"],[0.2,\"#de77ae\"],[0.3,\"#f1b6da\"],[0.4,\"#fde0ef\"],[0.5,\"#f7f7f7\"],[0.6,\"#e6f5d0\"],[0.7,\"#b8e186\"],[0.8,\"#7fbc41\"],[0.9,\"#4d9221\"],[1,\"#276419\"]],\"sequential\":[[0.0,\"#0d0887\"],[0.1111111111111111,\"#46039f\"],[0.2222222222222222,\"#7201a8\"],[0.3333333333333333,\"#9c179e\"],[0.4444444444444444,\"#bd3786\"],[0.5555555555555556,\"#d8576b\"],[0.6666666666666666,\"#ed7953\"],[0.7777777777777778,\"#fb9f3a\"],[0.8888888888888888,\"#fdca26\"],[1.0,\"#f0f921\"]],\"sequentialminus\":[[0.0,\"#0d0887\"],[0.1111111111111111,\"#46039f\"],[0.2222222222222222,\"#7201a8\"],[0.3333333333333333,\"#9c179e\"],[0.4444444444444444,\"#bd3786\"],[0.5555555555555556,\"#d8576b\"],[0.6666666666666666,\"#ed7953\"],[0.7777777777777778,\"#fb9f3a\"],[0.8888888888888888,\"#fdca26\"],[1.0,\"#f0f921\"]]},\"colorway\":[\"#636efa\",\"#EF553B\",\"#00cc96\",\"#ab63fa\",\"#FFA15A\",\"#19d3f3\",\"#FF6692\",\"#B6E880\",\"#FF97FF\",\"#FECB52\"],\"font\":{\"color\":\"#2a3f5f\"},\"geo\":{\"bgcolor\":\"white\",\"lakecolor\":\"white\",\"landcolor\":\"#E5ECF6\",\"showlakes\":true,\"showland\":true,\"subunitcolor\":\"white\"},\"hoverlabel\":{\"align\":\"left\"},\"hovermode\":\"closest\",\"mapbox\":{\"style\":\"light\"},\"paper_bgcolor\":\"white\",\"plot_bgcolor\":\"#E5ECF6\",\"polar\":{\"angularaxis\":{\"gridcolor\":\"white\",\"linecolor\":\"white\",\"ticks\":\"\"},\"bgcolor\":\"#E5ECF6\",\"radialaxis\":{\"gridcolor\":\"white\",\"linecolor\":\"white\",\"ticks\":\"\"}},\"scene\":{\"xaxis\":{\"backgroundcolor\":\"#E5ECF6\",\"gridcolor\":\"white\",\"gridwidth\":2,\"linecolor\":\"white\",\"showbackground\":true,\"ticks\":\"\",\"zerolinecolor\":\"white\"},\"yaxis\":{\"backgroundcolor\":\"#E5ECF6\",\"gridcolor\":\"white\",\"gridwidth\":2,\"linecolor\":\"white\",\"showbackground\":true,\"ticks\":\"\",\"zerolinecolor\":\"white\"},\"zaxis\":{\"backgroundcolor\":\"#E5ECF6\",\"gridcolor\":\"white\",\"gridwidth\":2,\"linecolor\":\"white\",\"showbackground\":true,\"ticks\":\"\",\"zerolinecolor\":\"white\"}},\"shapedefaults\":{\"line\":{\"color\":\"#2a3f5f\"}},\"ternary\":{\"aaxis\":{\"gridcolor\":\"white\",\"linecolor\":\"white\",\"ticks\":\"\"},\"baxis\":{\"gridcolor\":\"white\",\"linecolor\":\"white\",\"ticks\":\"\"},\"bgcolor\":\"#E5ECF6\",\"caxis\":{\"gridcolor\":\"white\",\"linecolor\":\"white\",\"ticks\":\"\"}},\"title\":{\"x\":0.05},\"xaxis\":{\"automargin\":true,\"gridcolor\":\"white\",\"linecolor\":\"white\",\"ticks\":\"\",\"title\":{\"standoff\":15},\"zerolinecolor\":\"white\",\"zerolinewidth\":2},\"yaxis\":{\"automargin\":true,\"gridcolor\":\"white\",\"linecolor\":\"white\",\"ticks\":\"\",\"title\":{\"standoff\":15},\"zerolinecolor\":\"white\",\"zerolinewidth\":2}}},\"xaxis\":{\"tickangle\":-45},\"barmode\":\"group\"},                        {\"responsive\": true}                    ).then(function(){\n",
              "                            \n",
              "var gd = document.getElementById('886a02e2-b3ef-47d5-af38-d1f1cab748e7');\n",
              "var x = new MutationObserver(function (mutations, observer) {{\n",
              "        var display = window.getComputedStyle(gd).display;\n",
              "        if (!display || display === 'none') {{\n",
              "            console.log([gd, 'removed!']);\n",
              "            Plotly.purge(gd);\n",
              "            observer.disconnect();\n",
              "        }}\n",
              "}});\n",
              "\n",
              "// Listen for the removal of the full notebook cells\n",
              "var notebookContainer = gd.closest('#notebook-container');\n",
              "if (notebookContainer) {{\n",
              "    x.observe(notebookContainer, {childList: true});\n",
              "}}\n",
              "\n",
              "// Listen for the clearing of the current output cell\n",
              "var outputEl = gd.closest('.output');\n",
              "if (outputEl) {{\n",
              "    x.observe(outputEl, {childList: true});\n",
              "}}\n",
              "\n",
              "                        })                };                            </script>        </div>\n",
              "</body>\n",
              "</html>"
            ]
          },
          "metadata": {}
        },
        {
          "output_type": "stream",
          "name": "stdout",
          "text": [
            "Report saved to ./report.html. To upload and share your report, create a free Datapane account by running `datapane signup`.\n"
          ]
        },
        {
          "output_type": "execute_result",
          "data": {
            "text/html": [
              "\n",
              "  <div id=\"df-b7d5ad2c-99e7-4d85-ade5-c01a45437860\">\n",
              "    <div class=\"colab-df-container\">\n",
              "      <div>\n",
              "<style scoped>\n",
              "    .dataframe tbody tr th:only-of-type {\n",
              "        vertical-align: middle;\n",
              "    }\n",
              "\n",
              "    .dataframe tbody tr th {\n",
              "        vertical-align: top;\n",
              "    }\n",
              "\n",
              "    .dataframe thead th {\n",
              "        text-align: right;\n",
              "    }\n",
              "</style>\n",
              "<table border=\"1\" class=\"dataframe\">\n",
              "  <thead>\n",
              "    <tr style=\"text-align: right;\">\n",
              "      <th></th>\n",
              "      <th>CONSUMO_NORMAL</th>\n",
              "      <th>PAGO_NORMAL</th>\n",
              "      <th>CONSUMO_REDUCIDO</th>\n",
              "      <th>PAGO_REDUCIDO</th>\n",
              "      <th>CONSUMO_INCREMENTO</th>\n",
              "      <th>PAGO_INCREMENTO</th>\n",
              "    </tr>\n",
              "    <tr>\n",
              "      <th>Date</th>\n",
              "      <th></th>\n",
              "      <th></th>\n",
              "      <th></th>\n",
              "      <th></th>\n",
              "      <th></th>\n",
              "      <th></th>\n",
              "    </tr>\n",
              "  </thead>\n",
              "  <tbody>\n",
              "    <tr>\n",
              "      <th>2021-07-30</th>\n",
              "      <td>1825.800000</td>\n",
              "      <td>5659.980000</td>\n",
              "      <td>1825.800000</td>\n",
              "      <td>5659.980000</td>\n",
              "      <td>1825.800000</td>\n",
              "      <td>5659.980000</td>\n",
              "    </tr>\n",
              "    <tr>\n",
              "      <th>2021-08-31</th>\n",
              "      <td>1885.290527</td>\n",
              "      <td>5844.400635</td>\n",
              "      <td>1696.761475</td>\n",
              "      <td>5259.960571</td>\n",
              "      <td>2073.819580</td>\n",
              "      <td>6428.840698</td>\n",
              "    </tr>\n",
              "    <tr>\n",
              "      <th>2021-09-30</th>\n",
              "      <td>2124.793945</td>\n",
              "      <td>6586.861230</td>\n",
              "      <td>1912.314551</td>\n",
              "      <td>5928.175107</td>\n",
              "      <td>2337.273340</td>\n",
              "      <td>7245.547354</td>\n",
              "    </tr>\n",
              "    <tr>\n",
              "      <th>2021-10-31</th>\n",
              "      <td>2170.578613</td>\n",
              "      <td>6728.793701</td>\n",
              "      <td>1953.520752</td>\n",
              "      <td>6055.914331</td>\n",
              "      <td>2387.636475</td>\n",
              "      <td>7401.673071</td>\n",
              "    </tr>\n",
              "  </tbody>\n",
              "</table>\n",
              "</div>\n",
              "      <button class=\"colab-df-convert\" onclick=\"convertToInteractive('df-b7d5ad2c-99e7-4d85-ade5-c01a45437860')\"\n",
              "              title=\"Convert this dataframe to an interactive table.\"\n",
              "              style=\"display:none;\">\n",
              "        \n",
              "  <svg xmlns=\"http://www.w3.org/2000/svg\" height=\"24px\"viewBox=\"0 0 24 24\"\n",
              "       width=\"24px\">\n",
              "    <path d=\"M0 0h24v24H0V0z\" fill=\"none\"/>\n",
              "    <path d=\"M18.56 5.44l.94 2.06.94-2.06 2.06-.94-2.06-.94-.94-2.06-.94 2.06-2.06.94zm-11 1L8.5 8.5l.94-2.06 2.06-.94-2.06-.94L8.5 2.5l-.94 2.06-2.06.94zm10 10l.94 2.06.94-2.06 2.06-.94-2.06-.94-.94-2.06-.94 2.06-2.06.94z\"/><path d=\"M17.41 7.96l-1.37-1.37c-.4-.4-.92-.59-1.43-.59-.52 0-1.04.2-1.43.59L10.3 9.45l-7.72 7.72c-.78.78-.78 2.05 0 2.83L4 21.41c.39.39.9.59 1.41.59.51 0 1.02-.2 1.41-.59l7.78-7.78 2.81-2.81c.8-.78.8-2.07 0-2.86zM5.41 20L4 18.59l7.72-7.72 1.47 1.35L5.41 20z\"/>\n",
              "  </svg>\n",
              "      </button>\n",
              "      \n",
              "  <style>\n",
              "    .colab-df-container {\n",
              "      display:flex;\n",
              "      flex-wrap:wrap;\n",
              "      gap: 12px;\n",
              "    }\n",
              "\n",
              "    .colab-df-convert {\n",
              "      background-color: #E8F0FE;\n",
              "      border: none;\n",
              "      border-radius: 50%;\n",
              "      cursor: pointer;\n",
              "      display: none;\n",
              "      fill: #1967D2;\n",
              "      height: 32px;\n",
              "      padding: 0 0 0 0;\n",
              "      width: 32px;\n",
              "    }\n",
              "\n",
              "    .colab-df-convert:hover {\n",
              "      background-color: #E2EBFA;\n",
              "      box-shadow: 0px 1px 2px rgba(60, 64, 67, 0.3), 0px 1px 3px 1px rgba(60, 64, 67, 0.15);\n",
              "      fill: #174EA6;\n",
              "    }\n",
              "\n",
              "    [theme=dark] .colab-df-convert {\n",
              "      background-color: #3B4455;\n",
              "      fill: #D2E3FC;\n",
              "    }\n",
              "\n",
              "    [theme=dark] .colab-df-convert:hover {\n",
              "      background-color: #434B5C;\n",
              "      box-shadow: 0px 1px 3px 1px rgba(0, 0, 0, 0.15);\n",
              "      filter: drop-shadow(0px 1px 2px rgba(0, 0, 0, 0.3));\n",
              "      fill: #FFFFFF;\n",
              "    }\n",
              "  </style>\n",
              "\n",
              "      <script>\n",
              "        const buttonEl =\n",
              "          document.querySelector('#df-b7d5ad2c-99e7-4d85-ade5-c01a45437860 button.colab-df-convert');\n",
              "        buttonEl.style.display =\n",
              "          google.colab.kernel.accessAllowed ? 'block' : 'none';\n",
              "\n",
              "        async function convertToInteractive(key) {\n",
              "          const element = document.querySelector('#df-b7d5ad2c-99e7-4d85-ade5-c01a45437860');\n",
              "          const dataTable =\n",
              "            await google.colab.kernel.invokeFunction('convertToInteractive',\n",
              "                                                     [key], {});\n",
              "          if (!dataTable) return;\n",
              "\n",
              "          const docLinkHtml = 'Like what you see? Visit the ' +\n",
              "            '<a target=\"_blank\" href=https://colab.research.google.com/notebooks/data_table.ipynb>data table notebook</a>'\n",
              "            + ' to learn more about interactive tables.';\n",
              "          element.innerHTML = '';\n",
              "          dataTable['output_type'] = 'display_data';\n",
              "          await google.colab.output.renderOutput(dataTable, element);\n",
              "          const docLink = document.createElement('div');\n",
              "          docLink.innerHTML = docLinkHtml;\n",
              "          element.appendChild(docLink);\n",
              "        }\n",
              "      </script>\n",
              "    </div>\n",
              "  </div>\n",
              "  "
            ],
            "text/plain": [
              "            CONSUMO_NORMAL  PAGO_NORMAL  ...  CONSUMO_INCREMENTO  PAGO_INCREMENTO\n",
              "Date                                     ...                                     \n",
              "2021-07-30     1825.800000  5659.980000  ...         1825.800000      5659.980000\n",
              "2021-08-31     1885.290527  5844.400635  ...         2073.819580      6428.840698\n",
              "2021-09-30     2124.793945  6586.861230  ...         2337.273340      7245.547354\n",
              "2021-10-31     2170.578613  6728.793701  ...         2387.636475      7401.673071\n",
              "\n",
              "[4 rows x 6 columns]"
            ]
          },
          "metadata": {},
          "execution_count": 35
        }
      ],
      "source": [
        "new_prediction(model_cnn,usuario=1)"
      ]
    },
    {
      "cell_type": "code",
      "execution_count": 36,
      "metadata": {
        "id": "Vd4Aq42S4kKZ",
        "colab": {
          "base_uri": "https://localhost:8080/",
          "height": 1000
        },
        "outputId": "9b01698d-bc1c-4c63-c0b6-48a5f8180f41"
      },
      "outputs": [
        {
          "output_type": "stream",
          "name": "stderr",
          "text": [
            "/usr/local/lib/python3.7/dist-packages/sklearn/base.py:451: UserWarning:\n",
            "\n",
            "X does not have valid feature names, but MinMaxScaler was fitted with feature names\n",
            "\n"
          ]
        },
        {
          "output_type": "display_data",
          "data": {
            "text/html": [
              "<html>\n",
              "<head><meta charset=\"utf-8\" /></head>\n",
              "<body>\n",
              "    <div>            <script src=\"https://cdnjs.cloudflare.com/ajax/libs/mathjax/2.7.5/MathJax.js?config=TeX-AMS-MML_SVG\"></script><script type=\"text/javascript\">if (window.MathJax) {MathJax.Hub.Config({SVG: {font: \"STIX-Web\"}});}</script>                <script type=\"text/javascript\">window.PlotlyConfig = {MathJaxConfig: 'local'};</script>\n",
              "        <script src=\"https://cdn.plot.ly/plotly-2.8.3.min.js\"></script>                <div id=\"e11598b6-562c-4b1e-bcfc-0d691ecd0ff9\" class=\"plotly-graph-div\" style=\"height:525px; width:100%;\"></div>            <script type=\"text/javascript\">                                    window.PLOTLYENV=window.PLOTLYENV || {};                                    if (document.getElementById(\"e11598b6-562c-4b1e-bcfc-0d691ecd0ff9\")) {                    Plotly.newPlot(                        \"e11598b6-562c-4b1e-bcfc-0d691ecd0ff9\",                        [{\"fillcolor\":\"green\",\"mode\":\"lines\",\"name\":\"HISTORIAL\",\"x\":[\"2020-08-31T00:00:00\",\"2020-09-30T00:00:00\",\"2020-10-30T00:00:00\",\"2020-11-30T00:00:00\",\"2020-12-31T00:00:00\",\"2021-01-29T00:00:00\",\"2021-02-26T00:00:00\",\"2021-03-31T00:00:00\",\"2021-04-30T00:00:00\",\"2021-05-31T00:00:00\",\"2021-06-30T00:00:00\",\"2021-07-30T00:00:00\"],\"y\":[1636.7,1609.1,1615.5,1473.5,1542.7,1534.1,1435.9,1438.8,1468.4,1554.0,1486.8,1539.7],\"type\":\"scatter\"},{\"fillcolor\":\"green\",\"mode\":\"lines\",\"name\":\"NORMAL\",\"x\":[\"2021-07-30T00:00:00\",\"2021-08-31T00:00:00\",\"2021-09-30T00:00:00\",\"2021-10-31T00:00:00\"],\"y\":[1539.7,2019.217529296875,2445.649658203125,2847.594970703125],\"type\":\"scatter\"},{\"fillcolor\":\"red\",\"mode\":\"lines\",\"name\":\"REDUCCION\",\"x\":[\"2021-07-30T00:00:00\",\"2021-08-31T00:00:00\",\"2021-09-30T00:00:00\",\"2021-10-31T00:00:00\"],\"y\":[1539.7,1817.2957763671875,2201.0846923828126,2562.8354736328124],\"type\":\"scatter\"},{\"fillcolor\":\"red\",\"mode\":\"lines\",\"name\":\"INCREMENTO\",\"x\":[\"2021-07-30T00:00:00\",\"2021-08-31T00:00:00\",\"2021-09-30T00:00:00\",\"2021-10-31T00:00:00\"],\"y\":[1539.7,2221.1392822265625,2690.2146240234374,3132.3544677734376],\"type\":\"scatter\"}],                        {\"title\":{\"text\":\"CONSUMO DE AGUA DEL SR: Michael Hermantrout PARA 3 MESES\"},\"xaxis\":{\"title\":{\"text\":\"Date\"}},\"yaxis\":{\"title\":{\"text\":\"Consumo (m3)\"}},\"template\":{\"data\":{\"bar\":[{\"error_x\":{\"color\":\"#2a3f5f\"},\"error_y\":{\"color\":\"#2a3f5f\"},\"marker\":{\"line\":{\"color\":\"#E5ECF6\",\"width\":0.5},\"pattern\":{\"fillmode\":\"overlay\",\"size\":10,\"solidity\":0.2}},\"type\":\"bar\"}],\"barpolar\":[{\"marker\":{\"line\":{\"color\":\"#E5ECF6\",\"width\":0.5},\"pattern\":{\"fillmode\":\"overlay\",\"size\":10,\"solidity\":0.2}},\"type\":\"barpolar\"}],\"carpet\":[{\"aaxis\":{\"endlinecolor\":\"#2a3f5f\",\"gridcolor\":\"white\",\"linecolor\":\"white\",\"minorgridcolor\":\"white\",\"startlinecolor\":\"#2a3f5f\"},\"baxis\":{\"endlinecolor\":\"#2a3f5f\",\"gridcolor\":\"white\",\"linecolor\":\"white\",\"minorgridcolor\":\"white\",\"startlinecolor\":\"#2a3f5f\"},\"type\":\"carpet\"}],\"choropleth\":[{\"colorbar\":{\"outlinewidth\":0,\"ticks\":\"\"},\"type\":\"choropleth\"}],\"contour\":[{\"colorbar\":{\"outlinewidth\":0,\"ticks\":\"\"},\"colorscale\":[[0.0,\"#0d0887\"],[0.1111111111111111,\"#46039f\"],[0.2222222222222222,\"#7201a8\"],[0.3333333333333333,\"#9c179e\"],[0.4444444444444444,\"#bd3786\"],[0.5555555555555556,\"#d8576b\"],[0.6666666666666666,\"#ed7953\"],[0.7777777777777778,\"#fb9f3a\"],[0.8888888888888888,\"#fdca26\"],[1.0,\"#f0f921\"]],\"type\":\"contour\"}],\"contourcarpet\":[{\"colorbar\":{\"outlinewidth\":0,\"ticks\":\"\"},\"type\":\"contourcarpet\"}],\"heatmap\":[{\"colorbar\":{\"outlinewidth\":0,\"ticks\":\"\"},\"colorscale\":[[0.0,\"#0d0887\"],[0.1111111111111111,\"#46039f\"],[0.2222222222222222,\"#7201a8\"],[0.3333333333333333,\"#9c179e\"],[0.4444444444444444,\"#bd3786\"],[0.5555555555555556,\"#d8576b\"],[0.6666666666666666,\"#ed7953\"],[0.7777777777777778,\"#fb9f3a\"],[0.8888888888888888,\"#fdca26\"],[1.0,\"#f0f921\"]],\"type\":\"heatmap\"}],\"heatmapgl\":[{\"colorbar\":{\"outlinewidth\":0,\"ticks\":\"\"},\"colorscale\":[[0.0,\"#0d0887\"],[0.1111111111111111,\"#46039f\"],[0.2222222222222222,\"#7201a8\"],[0.3333333333333333,\"#9c179e\"],[0.4444444444444444,\"#bd3786\"],[0.5555555555555556,\"#d8576b\"],[0.6666666666666666,\"#ed7953\"],[0.7777777777777778,\"#fb9f3a\"],[0.8888888888888888,\"#fdca26\"],[1.0,\"#f0f921\"]],\"type\":\"heatmapgl\"}],\"histogram\":[{\"marker\":{\"pattern\":{\"fillmode\":\"overlay\",\"size\":10,\"solidity\":0.2}},\"type\":\"histogram\"}],\"histogram2d\":[{\"colorbar\":{\"outlinewidth\":0,\"ticks\":\"\"},\"colorscale\":[[0.0,\"#0d0887\"],[0.1111111111111111,\"#46039f\"],[0.2222222222222222,\"#7201a8\"],[0.3333333333333333,\"#9c179e\"],[0.4444444444444444,\"#bd3786\"],[0.5555555555555556,\"#d8576b\"],[0.6666666666666666,\"#ed7953\"],[0.7777777777777778,\"#fb9f3a\"],[0.8888888888888888,\"#fdca26\"],[1.0,\"#f0f921\"]],\"type\":\"histogram2d\"}],\"histogram2dcontour\":[{\"colorbar\":{\"outlinewidth\":0,\"ticks\":\"\"},\"colorscale\":[[0.0,\"#0d0887\"],[0.1111111111111111,\"#46039f\"],[0.2222222222222222,\"#7201a8\"],[0.3333333333333333,\"#9c179e\"],[0.4444444444444444,\"#bd3786\"],[0.5555555555555556,\"#d8576b\"],[0.6666666666666666,\"#ed7953\"],[0.7777777777777778,\"#fb9f3a\"],[0.8888888888888888,\"#fdca26\"],[1.0,\"#f0f921\"]],\"type\":\"histogram2dcontour\"}],\"mesh3d\":[{\"colorbar\":{\"outlinewidth\":0,\"ticks\":\"\"},\"type\":\"mesh3d\"}],\"parcoords\":[{\"line\":{\"colorbar\":{\"outlinewidth\":0,\"ticks\":\"\"}},\"type\":\"parcoords\"}],\"pie\":[{\"automargin\":true,\"type\":\"pie\"}],\"scatter\":[{\"marker\":{\"colorbar\":{\"outlinewidth\":0,\"ticks\":\"\"}},\"type\":\"scatter\"}],\"scatter3d\":[{\"line\":{\"colorbar\":{\"outlinewidth\":0,\"ticks\":\"\"}},\"marker\":{\"colorbar\":{\"outlinewidth\":0,\"ticks\":\"\"}},\"type\":\"scatter3d\"}],\"scattercarpet\":[{\"marker\":{\"colorbar\":{\"outlinewidth\":0,\"ticks\":\"\"}},\"type\":\"scattercarpet\"}],\"scattergeo\":[{\"marker\":{\"colorbar\":{\"outlinewidth\":0,\"ticks\":\"\"}},\"type\":\"scattergeo\"}],\"scattergl\":[{\"marker\":{\"colorbar\":{\"outlinewidth\":0,\"ticks\":\"\"}},\"type\":\"scattergl\"}],\"scattermapbox\":[{\"marker\":{\"colorbar\":{\"outlinewidth\":0,\"ticks\":\"\"}},\"type\":\"scattermapbox\"}],\"scatterpolar\":[{\"marker\":{\"colorbar\":{\"outlinewidth\":0,\"ticks\":\"\"}},\"type\":\"scatterpolar\"}],\"scatterpolargl\":[{\"marker\":{\"colorbar\":{\"outlinewidth\":0,\"ticks\":\"\"}},\"type\":\"scatterpolargl\"}],\"scatterternary\":[{\"marker\":{\"colorbar\":{\"outlinewidth\":0,\"ticks\":\"\"}},\"type\":\"scatterternary\"}],\"surface\":[{\"colorbar\":{\"outlinewidth\":0,\"ticks\":\"\"},\"colorscale\":[[0.0,\"#0d0887\"],[0.1111111111111111,\"#46039f\"],[0.2222222222222222,\"#7201a8\"],[0.3333333333333333,\"#9c179e\"],[0.4444444444444444,\"#bd3786\"],[0.5555555555555556,\"#d8576b\"],[0.6666666666666666,\"#ed7953\"],[0.7777777777777778,\"#fb9f3a\"],[0.8888888888888888,\"#fdca26\"],[1.0,\"#f0f921\"]],\"type\":\"surface\"}],\"table\":[{\"cells\":{\"fill\":{\"color\":\"#EBF0F8\"},\"line\":{\"color\":\"white\"}},\"header\":{\"fill\":{\"color\":\"#C8D4E3\"},\"line\":{\"color\":\"white\"}},\"type\":\"table\"}]},\"layout\":{\"annotationdefaults\":{\"arrowcolor\":\"#2a3f5f\",\"arrowhead\":0,\"arrowwidth\":1},\"autotypenumbers\":\"strict\",\"coloraxis\":{\"colorbar\":{\"outlinewidth\":0,\"ticks\":\"\"}},\"colorscale\":{\"diverging\":[[0,\"#8e0152\"],[0.1,\"#c51b7d\"],[0.2,\"#de77ae\"],[0.3,\"#f1b6da\"],[0.4,\"#fde0ef\"],[0.5,\"#f7f7f7\"],[0.6,\"#e6f5d0\"],[0.7,\"#b8e186\"],[0.8,\"#7fbc41\"],[0.9,\"#4d9221\"],[1,\"#276419\"]],\"sequential\":[[0.0,\"#0d0887\"],[0.1111111111111111,\"#46039f\"],[0.2222222222222222,\"#7201a8\"],[0.3333333333333333,\"#9c179e\"],[0.4444444444444444,\"#bd3786\"],[0.5555555555555556,\"#d8576b\"],[0.6666666666666666,\"#ed7953\"],[0.7777777777777778,\"#fb9f3a\"],[0.8888888888888888,\"#fdca26\"],[1.0,\"#f0f921\"]],\"sequentialminus\":[[0.0,\"#0d0887\"],[0.1111111111111111,\"#46039f\"],[0.2222222222222222,\"#7201a8\"],[0.3333333333333333,\"#9c179e\"],[0.4444444444444444,\"#bd3786\"],[0.5555555555555556,\"#d8576b\"],[0.6666666666666666,\"#ed7953\"],[0.7777777777777778,\"#fb9f3a\"],[0.8888888888888888,\"#fdca26\"],[1.0,\"#f0f921\"]]},\"colorway\":[\"#636efa\",\"#EF553B\",\"#00cc96\",\"#ab63fa\",\"#FFA15A\",\"#19d3f3\",\"#FF6692\",\"#B6E880\",\"#FF97FF\",\"#FECB52\"],\"font\":{\"color\":\"#2a3f5f\"},\"geo\":{\"bgcolor\":\"white\",\"lakecolor\":\"white\",\"landcolor\":\"#E5ECF6\",\"showlakes\":true,\"showland\":true,\"subunitcolor\":\"white\"},\"hoverlabel\":{\"align\":\"left\"},\"hovermode\":\"closest\",\"mapbox\":{\"style\":\"light\"},\"paper_bgcolor\":\"white\",\"plot_bgcolor\":\"#E5ECF6\",\"polar\":{\"angularaxis\":{\"gridcolor\":\"white\",\"linecolor\":\"white\",\"ticks\":\"\"},\"bgcolor\":\"#E5ECF6\",\"radialaxis\":{\"gridcolor\":\"white\",\"linecolor\":\"white\",\"ticks\":\"\"}},\"scene\":{\"xaxis\":{\"backgroundcolor\":\"#E5ECF6\",\"gridcolor\":\"white\",\"gridwidth\":2,\"linecolor\":\"white\",\"showbackground\":true,\"ticks\":\"\",\"zerolinecolor\":\"white\"},\"yaxis\":{\"backgroundcolor\":\"#E5ECF6\",\"gridcolor\":\"white\",\"gridwidth\":2,\"linecolor\":\"white\",\"showbackground\":true,\"ticks\":\"\",\"zerolinecolor\":\"white\"},\"zaxis\":{\"backgroundcolor\":\"#E5ECF6\",\"gridcolor\":\"white\",\"gridwidth\":2,\"linecolor\":\"white\",\"showbackground\":true,\"ticks\":\"\",\"zerolinecolor\":\"white\"}},\"shapedefaults\":{\"line\":{\"color\":\"#2a3f5f\"}},\"ternary\":{\"aaxis\":{\"gridcolor\":\"white\",\"linecolor\":\"white\",\"ticks\":\"\"},\"baxis\":{\"gridcolor\":\"white\",\"linecolor\":\"white\",\"ticks\":\"\"},\"bgcolor\":\"#E5ECF6\",\"caxis\":{\"gridcolor\":\"white\",\"linecolor\":\"white\",\"ticks\":\"\"}},\"title\":{\"x\":0.05},\"xaxis\":{\"automargin\":true,\"gridcolor\":\"white\",\"linecolor\":\"white\",\"ticks\":\"\",\"title\":{\"standoff\":15},\"zerolinecolor\":\"white\",\"zerolinewidth\":2},\"yaxis\":{\"automargin\":true,\"gridcolor\":\"white\",\"linecolor\":\"white\",\"ticks\":\"\",\"title\":{\"standoff\":15},\"zerolinecolor\":\"white\",\"zerolinewidth\":2}}}},                        {\"responsive\": true}                    ).then(function(){\n",
              "                            \n",
              "var gd = document.getElementById('e11598b6-562c-4b1e-bcfc-0d691ecd0ff9');\n",
              "var x = new MutationObserver(function (mutations, observer) {{\n",
              "        var display = window.getComputedStyle(gd).display;\n",
              "        if (!display || display === 'none') {{\n",
              "            console.log([gd, 'removed!']);\n",
              "            Plotly.purge(gd);\n",
              "            observer.disconnect();\n",
              "        }}\n",
              "}});\n",
              "\n",
              "// Listen for the removal of the full notebook cells\n",
              "var notebookContainer = gd.closest('#notebook-container');\n",
              "if (notebookContainer) {{\n",
              "    x.observe(notebookContainer, {childList: true});\n",
              "}}\n",
              "\n",
              "// Listen for the clearing of the current output cell\n",
              "var outputEl = gd.closest('.output');\n",
              "if (outputEl) {{\n",
              "    x.observe(outputEl, {childList: true});\n",
              "}}\n",
              "\n",
              "                        })                };                            </script>        </div>\n",
              "</body>\n",
              "</html>"
            ]
          },
          "metadata": {}
        },
        {
          "output_type": "display_data",
          "data": {
            "text/html": [
              "<html>\n",
              "<head><meta charset=\"utf-8\" /></head>\n",
              "<body>\n",
              "    <div>            <script src=\"https://cdnjs.cloudflare.com/ajax/libs/mathjax/2.7.5/MathJax.js?config=TeX-AMS-MML_SVG\"></script><script type=\"text/javascript\">if (window.MathJax) {MathJax.Hub.Config({SVG: {font: \"STIX-Web\"}});}</script>                <script type=\"text/javascript\">window.PlotlyConfig = {MathJaxConfig: 'local'};</script>\n",
              "        <script src=\"https://cdn.plot.ly/plotly-2.8.3.min.js\"></script>                <div id=\"4ad32596-d63c-4eed-ac71-4f0de76f0f35\" class=\"plotly-graph-div\" style=\"height:525px; width:100%;\"></div>            <script type=\"text/javascript\">                                    window.PLOTLYENV=window.PLOTLYENV || {};                                    if (document.getElementById(\"4ad32596-d63c-4eed-ac71-4f0de76f0f35\")) {                    Plotly.newPlot(                        \"4ad32596-d63c-4eed-ac71-4f0de76f0f35\",                        [{\"marker\":{\"color\":\"indianred\"},\"name\":\"PAGO NORMAL\",\"text\":[4773.07,6259.57,7581.51,8827.54],\"x\":[\"2021-07-30T00:00:00\",\"2021-08-31T00:00:00\",\"2021-09-30T00:00:00\",\"2021-10-31T00:00:00\"],\"y\":[4773.070000000001,6259.5743408203125,7581.513940429688,8827.544409179687],\"type\":\"bar\"},{\"marker\":{\"color\":\"lightsalmon\"},\"name\":\"PAGO REDUCIDO\",\"text\":[4773.07,5633.62,6823.36,7944.79],\"x\":[\"2021-07-30T00:00:00\",\"2021-08-31T00:00:00\",\"2021-09-30T00:00:00\",\"2021-10-31T00:00:00\"],\"y\":[4773.070000000001,5633.616906738282,6823.362546386719,7944.789968261719],\"type\":\"bar\"},{\"marker\":{\"color\":\"yellow\"},\"name\":\"PAGO INCREMENTO\",\"text\":[4773.07,6885.53,8339.67,9710.3],\"x\":[\"2021-07-30T00:00:00\",\"2021-08-31T00:00:00\",\"2021-09-30T00:00:00\",\"2021-10-31T00:00:00\"],\"y\":[4773.070000000001,6885.531774902344,8339.665334472656,9710.298850097657],\"type\":\"bar\"}],                        {\"template\":{\"data\":{\"bar\":[{\"error_x\":{\"color\":\"#2a3f5f\"},\"error_y\":{\"color\":\"#2a3f5f\"},\"marker\":{\"line\":{\"color\":\"#E5ECF6\",\"width\":0.5},\"pattern\":{\"fillmode\":\"overlay\",\"size\":10,\"solidity\":0.2}},\"type\":\"bar\"}],\"barpolar\":[{\"marker\":{\"line\":{\"color\":\"#E5ECF6\",\"width\":0.5},\"pattern\":{\"fillmode\":\"overlay\",\"size\":10,\"solidity\":0.2}},\"type\":\"barpolar\"}],\"carpet\":[{\"aaxis\":{\"endlinecolor\":\"#2a3f5f\",\"gridcolor\":\"white\",\"linecolor\":\"white\",\"minorgridcolor\":\"white\",\"startlinecolor\":\"#2a3f5f\"},\"baxis\":{\"endlinecolor\":\"#2a3f5f\",\"gridcolor\":\"white\",\"linecolor\":\"white\",\"minorgridcolor\":\"white\",\"startlinecolor\":\"#2a3f5f\"},\"type\":\"carpet\"}],\"choropleth\":[{\"colorbar\":{\"outlinewidth\":0,\"ticks\":\"\"},\"type\":\"choropleth\"}],\"contour\":[{\"colorbar\":{\"outlinewidth\":0,\"ticks\":\"\"},\"colorscale\":[[0.0,\"#0d0887\"],[0.1111111111111111,\"#46039f\"],[0.2222222222222222,\"#7201a8\"],[0.3333333333333333,\"#9c179e\"],[0.4444444444444444,\"#bd3786\"],[0.5555555555555556,\"#d8576b\"],[0.6666666666666666,\"#ed7953\"],[0.7777777777777778,\"#fb9f3a\"],[0.8888888888888888,\"#fdca26\"],[1.0,\"#f0f921\"]],\"type\":\"contour\"}],\"contourcarpet\":[{\"colorbar\":{\"outlinewidth\":0,\"ticks\":\"\"},\"type\":\"contourcarpet\"}],\"heatmap\":[{\"colorbar\":{\"outlinewidth\":0,\"ticks\":\"\"},\"colorscale\":[[0.0,\"#0d0887\"],[0.1111111111111111,\"#46039f\"],[0.2222222222222222,\"#7201a8\"],[0.3333333333333333,\"#9c179e\"],[0.4444444444444444,\"#bd3786\"],[0.5555555555555556,\"#d8576b\"],[0.6666666666666666,\"#ed7953\"],[0.7777777777777778,\"#fb9f3a\"],[0.8888888888888888,\"#fdca26\"],[1.0,\"#f0f921\"]],\"type\":\"heatmap\"}],\"heatmapgl\":[{\"colorbar\":{\"outlinewidth\":0,\"ticks\":\"\"},\"colorscale\":[[0.0,\"#0d0887\"],[0.1111111111111111,\"#46039f\"],[0.2222222222222222,\"#7201a8\"],[0.3333333333333333,\"#9c179e\"],[0.4444444444444444,\"#bd3786\"],[0.5555555555555556,\"#d8576b\"],[0.6666666666666666,\"#ed7953\"],[0.7777777777777778,\"#fb9f3a\"],[0.8888888888888888,\"#fdca26\"],[1.0,\"#f0f921\"]],\"type\":\"heatmapgl\"}],\"histogram\":[{\"marker\":{\"pattern\":{\"fillmode\":\"overlay\",\"size\":10,\"solidity\":0.2}},\"type\":\"histogram\"}],\"histogram2d\":[{\"colorbar\":{\"outlinewidth\":0,\"ticks\":\"\"},\"colorscale\":[[0.0,\"#0d0887\"],[0.1111111111111111,\"#46039f\"],[0.2222222222222222,\"#7201a8\"],[0.3333333333333333,\"#9c179e\"],[0.4444444444444444,\"#bd3786\"],[0.5555555555555556,\"#d8576b\"],[0.6666666666666666,\"#ed7953\"],[0.7777777777777778,\"#fb9f3a\"],[0.8888888888888888,\"#fdca26\"],[1.0,\"#f0f921\"]],\"type\":\"histogram2d\"}],\"histogram2dcontour\":[{\"colorbar\":{\"outlinewidth\":0,\"ticks\":\"\"},\"colorscale\":[[0.0,\"#0d0887\"],[0.1111111111111111,\"#46039f\"],[0.2222222222222222,\"#7201a8\"],[0.3333333333333333,\"#9c179e\"],[0.4444444444444444,\"#bd3786\"],[0.5555555555555556,\"#d8576b\"],[0.6666666666666666,\"#ed7953\"],[0.7777777777777778,\"#fb9f3a\"],[0.8888888888888888,\"#fdca26\"],[1.0,\"#f0f921\"]],\"type\":\"histogram2dcontour\"}],\"mesh3d\":[{\"colorbar\":{\"outlinewidth\":0,\"ticks\":\"\"},\"type\":\"mesh3d\"}],\"parcoords\":[{\"line\":{\"colorbar\":{\"outlinewidth\":0,\"ticks\":\"\"}},\"type\":\"parcoords\"}],\"pie\":[{\"automargin\":true,\"type\":\"pie\"}],\"scatter\":[{\"marker\":{\"colorbar\":{\"outlinewidth\":0,\"ticks\":\"\"}},\"type\":\"scatter\"}],\"scatter3d\":[{\"line\":{\"colorbar\":{\"outlinewidth\":0,\"ticks\":\"\"}},\"marker\":{\"colorbar\":{\"outlinewidth\":0,\"ticks\":\"\"}},\"type\":\"scatter3d\"}],\"scattercarpet\":[{\"marker\":{\"colorbar\":{\"outlinewidth\":0,\"ticks\":\"\"}},\"type\":\"scattercarpet\"}],\"scattergeo\":[{\"marker\":{\"colorbar\":{\"outlinewidth\":0,\"ticks\":\"\"}},\"type\":\"scattergeo\"}],\"scattergl\":[{\"marker\":{\"colorbar\":{\"outlinewidth\":0,\"ticks\":\"\"}},\"type\":\"scattergl\"}],\"scattermapbox\":[{\"marker\":{\"colorbar\":{\"outlinewidth\":0,\"ticks\":\"\"}},\"type\":\"scattermapbox\"}],\"scatterpolar\":[{\"marker\":{\"colorbar\":{\"outlinewidth\":0,\"ticks\":\"\"}},\"type\":\"scatterpolar\"}],\"scatterpolargl\":[{\"marker\":{\"colorbar\":{\"outlinewidth\":0,\"ticks\":\"\"}},\"type\":\"scatterpolargl\"}],\"scatterternary\":[{\"marker\":{\"colorbar\":{\"outlinewidth\":0,\"ticks\":\"\"}},\"type\":\"scatterternary\"}],\"surface\":[{\"colorbar\":{\"outlinewidth\":0,\"ticks\":\"\"},\"colorscale\":[[0.0,\"#0d0887\"],[0.1111111111111111,\"#46039f\"],[0.2222222222222222,\"#7201a8\"],[0.3333333333333333,\"#9c179e\"],[0.4444444444444444,\"#bd3786\"],[0.5555555555555556,\"#d8576b\"],[0.6666666666666666,\"#ed7953\"],[0.7777777777777778,\"#fb9f3a\"],[0.8888888888888888,\"#fdca26\"],[1.0,\"#f0f921\"]],\"type\":\"surface\"}],\"table\":[{\"cells\":{\"fill\":{\"color\":\"#EBF0F8\"},\"line\":{\"color\":\"white\"}},\"header\":{\"fill\":{\"color\":\"#C8D4E3\"},\"line\":{\"color\":\"white\"}},\"type\":\"table\"}]},\"layout\":{\"annotationdefaults\":{\"arrowcolor\":\"#2a3f5f\",\"arrowhead\":0,\"arrowwidth\":1},\"autotypenumbers\":\"strict\",\"coloraxis\":{\"colorbar\":{\"outlinewidth\":0,\"ticks\":\"\"}},\"colorscale\":{\"diverging\":[[0,\"#8e0152\"],[0.1,\"#c51b7d\"],[0.2,\"#de77ae\"],[0.3,\"#f1b6da\"],[0.4,\"#fde0ef\"],[0.5,\"#f7f7f7\"],[0.6,\"#e6f5d0\"],[0.7,\"#b8e186\"],[0.8,\"#7fbc41\"],[0.9,\"#4d9221\"],[1,\"#276419\"]],\"sequential\":[[0.0,\"#0d0887\"],[0.1111111111111111,\"#46039f\"],[0.2222222222222222,\"#7201a8\"],[0.3333333333333333,\"#9c179e\"],[0.4444444444444444,\"#bd3786\"],[0.5555555555555556,\"#d8576b\"],[0.6666666666666666,\"#ed7953\"],[0.7777777777777778,\"#fb9f3a\"],[0.8888888888888888,\"#fdca26\"],[1.0,\"#f0f921\"]],\"sequentialminus\":[[0.0,\"#0d0887\"],[0.1111111111111111,\"#46039f\"],[0.2222222222222222,\"#7201a8\"],[0.3333333333333333,\"#9c179e\"],[0.4444444444444444,\"#bd3786\"],[0.5555555555555556,\"#d8576b\"],[0.6666666666666666,\"#ed7953\"],[0.7777777777777778,\"#fb9f3a\"],[0.8888888888888888,\"#fdca26\"],[1.0,\"#f0f921\"]]},\"colorway\":[\"#636efa\",\"#EF553B\",\"#00cc96\",\"#ab63fa\",\"#FFA15A\",\"#19d3f3\",\"#FF6692\",\"#B6E880\",\"#FF97FF\",\"#FECB52\"],\"font\":{\"color\":\"#2a3f5f\"},\"geo\":{\"bgcolor\":\"white\",\"lakecolor\":\"white\",\"landcolor\":\"#E5ECF6\",\"showlakes\":true,\"showland\":true,\"subunitcolor\":\"white\"},\"hoverlabel\":{\"align\":\"left\"},\"hovermode\":\"closest\",\"mapbox\":{\"style\":\"light\"},\"paper_bgcolor\":\"white\",\"plot_bgcolor\":\"#E5ECF6\",\"polar\":{\"angularaxis\":{\"gridcolor\":\"white\",\"linecolor\":\"white\",\"ticks\":\"\"},\"bgcolor\":\"#E5ECF6\",\"radialaxis\":{\"gridcolor\":\"white\",\"linecolor\":\"white\",\"ticks\":\"\"}},\"scene\":{\"xaxis\":{\"backgroundcolor\":\"#E5ECF6\",\"gridcolor\":\"white\",\"gridwidth\":2,\"linecolor\":\"white\",\"showbackground\":true,\"ticks\":\"\",\"zerolinecolor\":\"white\"},\"yaxis\":{\"backgroundcolor\":\"#E5ECF6\",\"gridcolor\":\"white\",\"gridwidth\":2,\"linecolor\":\"white\",\"showbackground\":true,\"ticks\":\"\",\"zerolinecolor\":\"white\"},\"zaxis\":{\"backgroundcolor\":\"#E5ECF6\",\"gridcolor\":\"white\",\"gridwidth\":2,\"linecolor\":\"white\",\"showbackground\":true,\"ticks\":\"\",\"zerolinecolor\":\"white\"}},\"shapedefaults\":{\"line\":{\"color\":\"#2a3f5f\"}},\"ternary\":{\"aaxis\":{\"gridcolor\":\"white\",\"linecolor\":\"white\",\"ticks\":\"\"},\"baxis\":{\"gridcolor\":\"white\",\"linecolor\":\"white\",\"ticks\":\"\"},\"bgcolor\":\"#E5ECF6\",\"caxis\":{\"gridcolor\":\"white\",\"linecolor\":\"white\",\"ticks\":\"\"}},\"title\":{\"x\":0.05},\"xaxis\":{\"automargin\":true,\"gridcolor\":\"white\",\"linecolor\":\"white\",\"ticks\":\"\",\"title\":{\"standoff\":15},\"zerolinecolor\":\"white\",\"zerolinewidth\":2},\"yaxis\":{\"automargin\":true,\"gridcolor\":\"white\",\"linecolor\":\"white\",\"ticks\":\"\",\"title\":{\"standoff\":15},\"zerolinecolor\":\"white\",\"zerolinewidth\":2}}},\"xaxis\":{\"tickangle\":-45},\"barmode\":\"group\"},                        {\"responsive\": true}                    ).then(function(){\n",
              "                            \n",
              "var gd = document.getElementById('4ad32596-d63c-4eed-ac71-4f0de76f0f35');\n",
              "var x = new MutationObserver(function (mutations, observer) {{\n",
              "        var display = window.getComputedStyle(gd).display;\n",
              "        if (!display || display === 'none') {{\n",
              "            console.log([gd, 'removed!']);\n",
              "            Plotly.purge(gd);\n",
              "            observer.disconnect();\n",
              "        }}\n",
              "}});\n",
              "\n",
              "// Listen for the removal of the full notebook cells\n",
              "var notebookContainer = gd.closest('#notebook-container');\n",
              "if (notebookContainer) {{\n",
              "    x.observe(notebookContainer, {childList: true});\n",
              "}}\n",
              "\n",
              "// Listen for the clearing of the current output cell\n",
              "var outputEl = gd.closest('.output');\n",
              "if (outputEl) {{\n",
              "    x.observe(outputEl, {childList: true});\n",
              "}}\n",
              "\n",
              "                        })                };                            </script>        </div>\n",
              "</body>\n",
              "</html>"
            ]
          },
          "metadata": {}
        },
        {
          "output_type": "stream",
          "name": "stdout",
          "text": [
            "Report saved to ./report.html. To upload and share your report, create a free Datapane account by running `datapane signup`.\n"
          ]
        },
        {
          "output_type": "execute_result",
          "data": {
            "text/html": [
              "\n",
              "  <div id=\"df-b297b3a0-fb61-41ab-a84b-0220255f029f\">\n",
              "    <div class=\"colab-df-container\">\n",
              "      <div>\n",
              "<style scoped>\n",
              "    .dataframe tbody tr th:only-of-type {\n",
              "        vertical-align: middle;\n",
              "    }\n",
              "\n",
              "    .dataframe tbody tr th {\n",
              "        vertical-align: top;\n",
              "    }\n",
              "\n",
              "    .dataframe thead th {\n",
              "        text-align: right;\n",
              "    }\n",
              "</style>\n",
              "<table border=\"1\" class=\"dataframe\">\n",
              "  <thead>\n",
              "    <tr style=\"text-align: right;\">\n",
              "      <th></th>\n",
              "      <th>CONSUMO_NORMAL</th>\n",
              "      <th>PAGO_NORMAL</th>\n",
              "      <th>CONSUMO_REDUCIDO</th>\n",
              "      <th>PAGO_REDUCIDO</th>\n",
              "      <th>CONSUMO_INCREMENTO</th>\n",
              "      <th>PAGO_INCREMENTO</th>\n",
              "    </tr>\n",
              "    <tr>\n",
              "      <th>Date</th>\n",
              "      <th></th>\n",
              "      <th></th>\n",
              "      <th></th>\n",
              "      <th></th>\n",
              "      <th></th>\n",
              "      <th></th>\n",
              "    </tr>\n",
              "  </thead>\n",
              "  <tbody>\n",
              "    <tr>\n",
              "      <th>2021-07-30</th>\n",
              "      <td>1539.700000</td>\n",
              "      <td>4773.070000</td>\n",
              "      <td>1539.700000</td>\n",
              "      <td>4773.070000</td>\n",
              "      <td>1539.700000</td>\n",
              "      <td>4773.070000</td>\n",
              "    </tr>\n",
              "    <tr>\n",
              "      <th>2021-08-31</th>\n",
              "      <td>2019.217529</td>\n",
              "      <td>6259.574341</td>\n",
              "      <td>1817.295776</td>\n",
              "      <td>5633.616907</td>\n",
              "      <td>2221.139282</td>\n",
              "      <td>6885.531775</td>\n",
              "    </tr>\n",
              "    <tr>\n",
              "      <th>2021-09-30</th>\n",
              "      <td>2445.649658</td>\n",
              "      <td>7581.513940</td>\n",
              "      <td>2201.084692</td>\n",
              "      <td>6823.362546</td>\n",
              "      <td>2690.214624</td>\n",
              "      <td>8339.665334</td>\n",
              "    </tr>\n",
              "    <tr>\n",
              "      <th>2021-10-31</th>\n",
              "      <td>2847.594971</td>\n",
              "      <td>8827.544409</td>\n",
              "      <td>2562.835474</td>\n",
              "      <td>7944.789968</td>\n",
              "      <td>3132.354468</td>\n",
              "      <td>9710.298850</td>\n",
              "    </tr>\n",
              "  </tbody>\n",
              "</table>\n",
              "</div>\n",
              "      <button class=\"colab-df-convert\" onclick=\"convertToInteractive('df-b297b3a0-fb61-41ab-a84b-0220255f029f')\"\n",
              "              title=\"Convert this dataframe to an interactive table.\"\n",
              "              style=\"display:none;\">\n",
              "        \n",
              "  <svg xmlns=\"http://www.w3.org/2000/svg\" height=\"24px\"viewBox=\"0 0 24 24\"\n",
              "       width=\"24px\">\n",
              "    <path d=\"M0 0h24v24H0V0z\" fill=\"none\"/>\n",
              "    <path d=\"M18.56 5.44l.94 2.06.94-2.06 2.06-.94-2.06-.94-.94-2.06-.94 2.06-2.06.94zm-11 1L8.5 8.5l.94-2.06 2.06-.94-2.06-.94L8.5 2.5l-.94 2.06-2.06.94zm10 10l.94 2.06.94-2.06 2.06-.94-2.06-.94-.94-2.06-.94 2.06-2.06.94z\"/><path d=\"M17.41 7.96l-1.37-1.37c-.4-.4-.92-.59-1.43-.59-.52 0-1.04.2-1.43.59L10.3 9.45l-7.72 7.72c-.78.78-.78 2.05 0 2.83L4 21.41c.39.39.9.59 1.41.59.51 0 1.02-.2 1.41-.59l7.78-7.78 2.81-2.81c.8-.78.8-2.07 0-2.86zM5.41 20L4 18.59l7.72-7.72 1.47 1.35L5.41 20z\"/>\n",
              "  </svg>\n",
              "      </button>\n",
              "      \n",
              "  <style>\n",
              "    .colab-df-container {\n",
              "      display:flex;\n",
              "      flex-wrap:wrap;\n",
              "      gap: 12px;\n",
              "    }\n",
              "\n",
              "    .colab-df-convert {\n",
              "      background-color: #E8F0FE;\n",
              "      border: none;\n",
              "      border-radius: 50%;\n",
              "      cursor: pointer;\n",
              "      display: none;\n",
              "      fill: #1967D2;\n",
              "      height: 32px;\n",
              "      padding: 0 0 0 0;\n",
              "      width: 32px;\n",
              "    }\n",
              "\n",
              "    .colab-df-convert:hover {\n",
              "      background-color: #E2EBFA;\n",
              "      box-shadow: 0px 1px 2px rgba(60, 64, 67, 0.3), 0px 1px 3px 1px rgba(60, 64, 67, 0.15);\n",
              "      fill: #174EA6;\n",
              "    }\n",
              "\n",
              "    [theme=dark] .colab-df-convert {\n",
              "      background-color: #3B4455;\n",
              "      fill: #D2E3FC;\n",
              "    }\n",
              "\n",
              "    [theme=dark] .colab-df-convert:hover {\n",
              "      background-color: #434B5C;\n",
              "      box-shadow: 0px 1px 3px 1px rgba(0, 0, 0, 0.15);\n",
              "      filter: drop-shadow(0px 1px 2px rgba(0, 0, 0, 0.3));\n",
              "      fill: #FFFFFF;\n",
              "    }\n",
              "  </style>\n",
              "\n",
              "      <script>\n",
              "        const buttonEl =\n",
              "          document.querySelector('#df-b297b3a0-fb61-41ab-a84b-0220255f029f button.colab-df-convert');\n",
              "        buttonEl.style.display =\n",
              "          google.colab.kernel.accessAllowed ? 'block' : 'none';\n",
              "\n",
              "        async function convertToInteractive(key) {\n",
              "          const element = document.querySelector('#df-b297b3a0-fb61-41ab-a84b-0220255f029f');\n",
              "          const dataTable =\n",
              "            await google.colab.kernel.invokeFunction('convertToInteractive',\n",
              "                                                     [key], {});\n",
              "          if (!dataTable) return;\n",
              "\n",
              "          const docLinkHtml = 'Like what you see? Visit the ' +\n",
              "            '<a target=\"_blank\" href=https://colab.research.google.com/notebooks/data_table.ipynb>data table notebook</a>'\n",
              "            + ' to learn more about interactive tables.';\n",
              "          element.innerHTML = '';\n",
              "          dataTable['output_type'] = 'display_data';\n",
              "          await google.colab.output.renderOutput(dataTable, element);\n",
              "          const docLink = document.createElement('div');\n",
              "          docLink.innerHTML = docLinkHtml;\n",
              "          element.appendChild(docLink);\n",
              "        }\n",
              "      </script>\n",
              "    </div>\n",
              "  </div>\n",
              "  "
            ],
            "text/plain": [
              "            CONSUMO_NORMAL  PAGO_NORMAL  ...  CONSUMO_INCREMENTO  PAGO_INCREMENTO\n",
              "Date                                     ...                                     \n",
              "2021-07-30     1539.700000  4773.070000  ...         1539.700000      4773.070000\n",
              "2021-08-31     2019.217529  6259.574341  ...         2221.139282      6885.531775\n",
              "2021-09-30     2445.649658  7581.513940  ...         2690.214624      8339.665334\n",
              "2021-10-31     2847.594971  8827.544409  ...         3132.354468      9710.298850\n",
              "\n",
              "[4 rows x 6 columns]"
            ]
          },
          "metadata": {},
          "execution_count": 36
        }
      ],
      "source": [
        "new_prediction(model_testing,usuario=2)"
      ]
    },
    {
      "cell_type": "code",
      "execution_count": 37,
      "metadata": {
        "id": "zRnJ08V36x8w",
        "colab": {
          "base_uri": "https://localhost:8080/",
          "height": 1000
        },
        "outputId": "1df82303-a6a9-48fc-f4f9-297478794fa2"
      },
      "outputs": [
        {
          "output_type": "stream",
          "name": "stderr",
          "text": [
            "/usr/local/lib/python3.7/dist-packages/sklearn/base.py:451: UserWarning:\n",
            "\n",
            "X does not have valid feature names, but MinMaxScaler was fitted with feature names\n",
            "\n"
          ]
        },
        {
          "output_type": "display_data",
          "data": {
            "text/html": [
              "<html>\n",
              "<head><meta charset=\"utf-8\" /></head>\n",
              "<body>\n",
              "    <div>            <script src=\"https://cdnjs.cloudflare.com/ajax/libs/mathjax/2.7.5/MathJax.js?config=TeX-AMS-MML_SVG\"></script><script type=\"text/javascript\">if (window.MathJax) {MathJax.Hub.Config({SVG: {font: \"STIX-Web\"}});}</script>                <script type=\"text/javascript\">window.PlotlyConfig = {MathJaxConfig: 'local'};</script>\n",
              "        <script src=\"https://cdn.plot.ly/plotly-2.8.3.min.js\"></script>                <div id=\"79650773-415a-41a5-a50b-979f4b78ef34\" class=\"plotly-graph-div\" style=\"height:525px; width:100%;\"></div>            <script type=\"text/javascript\">                                    window.PLOTLYENV=window.PLOTLYENV || {};                                    if (document.getElementById(\"79650773-415a-41a5-a50b-979f4b78ef34\")) {                    Plotly.newPlot(                        \"79650773-415a-41a5-a50b-979f4b78ef34\",                        [{\"fillcolor\":\"green\",\"mode\":\"lines\",\"name\":\"HISTORIAL\",\"x\":[\"2020-08-31T00:00:00\",\"2020-09-30T00:00:00\",\"2020-10-30T00:00:00\",\"2020-11-30T00:00:00\",\"2020-12-31T00:00:00\",\"2021-01-29T00:00:00\",\"2021-02-26T00:00:00\",\"2021-03-31T00:00:00\",\"2021-04-30T00:00:00\",\"2021-05-31T00:00:00\",\"2021-06-30T00:00:00\",\"2021-07-30T00:00:00\"],\"y\":[1957.4,1886.9,1881.9,1762.6,1887.6,1863.8,1742.9,1691.1,1767.7,1900.0,1763.2,1825.8],\"type\":\"scatter\"},{\"fillcolor\":\"green\",\"mode\":\"lines\",\"name\":\"NORMAL\",\"x\":[\"2021-07-30T00:00:00\",\"2021-08-31T00:00:00\",\"2021-09-30T00:00:00\",\"2021-10-31T00:00:00\"],\"y\":[1825.8,1915.9755859375,1785.462158203125,1831.505859375],\"type\":\"scatter\"},{\"fillcolor\":\"red\",\"mode\":\"lines\",\"name\":\"REDUCCION\",\"x\":[\"2021-07-30T00:00:00\",\"2021-08-31T00:00:00\",\"2021-09-30T00:00:00\",\"2021-10-31T00:00:00\"],\"y\":[1825.8,1724.37802734375,1606.9159423828125,1648.3552734375],\"type\":\"scatter\"},{\"fillcolor\":\"red\",\"mode\":\"lines\",\"name\":\"INCREMENTO\",\"x\":[\"2021-07-30T00:00:00\",\"2021-08-31T00:00:00\",\"2021-09-30T00:00:00\",\"2021-10-31T00:00:00\"],\"y\":[1825.8,2107.57314453125,1964.0083740234375,2014.6564453125],\"type\":\"scatter\"}],                        {\"title\":{\"text\":\"CONSUMO DE AGUA DEL SR: Jimmy Magguill PARA 3 MESES\"},\"xaxis\":{\"title\":{\"text\":\"Date\"}},\"yaxis\":{\"title\":{\"text\":\"Consumo (m3)\"}},\"template\":{\"data\":{\"bar\":[{\"error_x\":{\"color\":\"#2a3f5f\"},\"error_y\":{\"color\":\"#2a3f5f\"},\"marker\":{\"line\":{\"color\":\"#E5ECF6\",\"width\":0.5},\"pattern\":{\"fillmode\":\"overlay\",\"size\":10,\"solidity\":0.2}},\"type\":\"bar\"}],\"barpolar\":[{\"marker\":{\"line\":{\"color\":\"#E5ECF6\",\"width\":0.5},\"pattern\":{\"fillmode\":\"overlay\",\"size\":10,\"solidity\":0.2}},\"type\":\"barpolar\"}],\"carpet\":[{\"aaxis\":{\"endlinecolor\":\"#2a3f5f\",\"gridcolor\":\"white\",\"linecolor\":\"white\",\"minorgridcolor\":\"white\",\"startlinecolor\":\"#2a3f5f\"},\"baxis\":{\"endlinecolor\":\"#2a3f5f\",\"gridcolor\":\"white\",\"linecolor\":\"white\",\"minorgridcolor\":\"white\",\"startlinecolor\":\"#2a3f5f\"},\"type\":\"carpet\"}],\"choropleth\":[{\"colorbar\":{\"outlinewidth\":0,\"ticks\":\"\"},\"type\":\"choropleth\"}],\"contour\":[{\"colorbar\":{\"outlinewidth\":0,\"ticks\":\"\"},\"colorscale\":[[0.0,\"#0d0887\"],[0.1111111111111111,\"#46039f\"],[0.2222222222222222,\"#7201a8\"],[0.3333333333333333,\"#9c179e\"],[0.4444444444444444,\"#bd3786\"],[0.5555555555555556,\"#d8576b\"],[0.6666666666666666,\"#ed7953\"],[0.7777777777777778,\"#fb9f3a\"],[0.8888888888888888,\"#fdca26\"],[1.0,\"#f0f921\"]],\"type\":\"contour\"}],\"contourcarpet\":[{\"colorbar\":{\"outlinewidth\":0,\"ticks\":\"\"},\"type\":\"contourcarpet\"}],\"heatmap\":[{\"colorbar\":{\"outlinewidth\":0,\"ticks\":\"\"},\"colorscale\":[[0.0,\"#0d0887\"],[0.1111111111111111,\"#46039f\"],[0.2222222222222222,\"#7201a8\"],[0.3333333333333333,\"#9c179e\"],[0.4444444444444444,\"#bd3786\"],[0.5555555555555556,\"#d8576b\"],[0.6666666666666666,\"#ed7953\"],[0.7777777777777778,\"#fb9f3a\"],[0.8888888888888888,\"#fdca26\"],[1.0,\"#f0f921\"]],\"type\":\"heatmap\"}],\"heatmapgl\":[{\"colorbar\":{\"outlinewidth\":0,\"ticks\":\"\"},\"colorscale\":[[0.0,\"#0d0887\"],[0.1111111111111111,\"#46039f\"],[0.2222222222222222,\"#7201a8\"],[0.3333333333333333,\"#9c179e\"],[0.4444444444444444,\"#bd3786\"],[0.5555555555555556,\"#d8576b\"],[0.6666666666666666,\"#ed7953\"],[0.7777777777777778,\"#fb9f3a\"],[0.8888888888888888,\"#fdca26\"],[1.0,\"#f0f921\"]],\"type\":\"heatmapgl\"}],\"histogram\":[{\"marker\":{\"pattern\":{\"fillmode\":\"overlay\",\"size\":10,\"solidity\":0.2}},\"type\":\"histogram\"}],\"histogram2d\":[{\"colorbar\":{\"outlinewidth\":0,\"ticks\":\"\"},\"colorscale\":[[0.0,\"#0d0887\"],[0.1111111111111111,\"#46039f\"],[0.2222222222222222,\"#7201a8\"],[0.3333333333333333,\"#9c179e\"],[0.4444444444444444,\"#bd3786\"],[0.5555555555555556,\"#d8576b\"],[0.6666666666666666,\"#ed7953\"],[0.7777777777777778,\"#fb9f3a\"],[0.8888888888888888,\"#fdca26\"],[1.0,\"#f0f921\"]],\"type\":\"histogram2d\"}],\"histogram2dcontour\":[{\"colorbar\":{\"outlinewidth\":0,\"ticks\":\"\"},\"colorscale\":[[0.0,\"#0d0887\"],[0.1111111111111111,\"#46039f\"],[0.2222222222222222,\"#7201a8\"],[0.3333333333333333,\"#9c179e\"],[0.4444444444444444,\"#bd3786\"],[0.5555555555555556,\"#d8576b\"],[0.6666666666666666,\"#ed7953\"],[0.7777777777777778,\"#fb9f3a\"],[0.8888888888888888,\"#fdca26\"],[1.0,\"#f0f921\"]],\"type\":\"histogram2dcontour\"}],\"mesh3d\":[{\"colorbar\":{\"outlinewidth\":0,\"ticks\":\"\"},\"type\":\"mesh3d\"}],\"parcoords\":[{\"line\":{\"colorbar\":{\"outlinewidth\":0,\"ticks\":\"\"}},\"type\":\"parcoords\"}],\"pie\":[{\"automargin\":true,\"type\":\"pie\"}],\"scatter\":[{\"marker\":{\"colorbar\":{\"outlinewidth\":0,\"ticks\":\"\"}},\"type\":\"scatter\"}],\"scatter3d\":[{\"line\":{\"colorbar\":{\"outlinewidth\":0,\"ticks\":\"\"}},\"marker\":{\"colorbar\":{\"outlinewidth\":0,\"ticks\":\"\"}},\"type\":\"scatter3d\"}],\"scattercarpet\":[{\"marker\":{\"colorbar\":{\"outlinewidth\":0,\"ticks\":\"\"}},\"type\":\"scattercarpet\"}],\"scattergeo\":[{\"marker\":{\"colorbar\":{\"outlinewidth\":0,\"ticks\":\"\"}},\"type\":\"scattergeo\"}],\"scattergl\":[{\"marker\":{\"colorbar\":{\"outlinewidth\":0,\"ticks\":\"\"}},\"type\":\"scattergl\"}],\"scattermapbox\":[{\"marker\":{\"colorbar\":{\"outlinewidth\":0,\"ticks\":\"\"}},\"type\":\"scattermapbox\"}],\"scatterpolar\":[{\"marker\":{\"colorbar\":{\"outlinewidth\":0,\"ticks\":\"\"}},\"type\":\"scatterpolar\"}],\"scatterpolargl\":[{\"marker\":{\"colorbar\":{\"outlinewidth\":0,\"ticks\":\"\"}},\"type\":\"scatterpolargl\"}],\"scatterternary\":[{\"marker\":{\"colorbar\":{\"outlinewidth\":0,\"ticks\":\"\"}},\"type\":\"scatterternary\"}],\"surface\":[{\"colorbar\":{\"outlinewidth\":0,\"ticks\":\"\"},\"colorscale\":[[0.0,\"#0d0887\"],[0.1111111111111111,\"#46039f\"],[0.2222222222222222,\"#7201a8\"],[0.3333333333333333,\"#9c179e\"],[0.4444444444444444,\"#bd3786\"],[0.5555555555555556,\"#d8576b\"],[0.6666666666666666,\"#ed7953\"],[0.7777777777777778,\"#fb9f3a\"],[0.8888888888888888,\"#fdca26\"],[1.0,\"#f0f921\"]],\"type\":\"surface\"}],\"table\":[{\"cells\":{\"fill\":{\"color\":\"#EBF0F8\"},\"line\":{\"color\":\"white\"}},\"header\":{\"fill\":{\"color\":\"#C8D4E3\"},\"line\":{\"color\":\"white\"}},\"type\":\"table\"}]},\"layout\":{\"annotationdefaults\":{\"arrowcolor\":\"#2a3f5f\",\"arrowhead\":0,\"arrowwidth\":1},\"autotypenumbers\":\"strict\",\"coloraxis\":{\"colorbar\":{\"outlinewidth\":0,\"ticks\":\"\"}},\"colorscale\":{\"diverging\":[[0,\"#8e0152\"],[0.1,\"#c51b7d\"],[0.2,\"#de77ae\"],[0.3,\"#f1b6da\"],[0.4,\"#fde0ef\"],[0.5,\"#f7f7f7\"],[0.6,\"#e6f5d0\"],[0.7,\"#b8e186\"],[0.8,\"#7fbc41\"],[0.9,\"#4d9221\"],[1,\"#276419\"]],\"sequential\":[[0.0,\"#0d0887\"],[0.1111111111111111,\"#46039f\"],[0.2222222222222222,\"#7201a8\"],[0.3333333333333333,\"#9c179e\"],[0.4444444444444444,\"#bd3786\"],[0.5555555555555556,\"#d8576b\"],[0.6666666666666666,\"#ed7953\"],[0.7777777777777778,\"#fb9f3a\"],[0.8888888888888888,\"#fdca26\"],[1.0,\"#f0f921\"]],\"sequentialminus\":[[0.0,\"#0d0887\"],[0.1111111111111111,\"#46039f\"],[0.2222222222222222,\"#7201a8\"],[0.3333333333333333,\"#9c179e\"],[0.4444444444444444,\"#bd3786\"],[0.5555555555555556,\"#d8576b\"],[0.6666666666666666,\"#ed7953\"],[0.7777777777777778,\"#fb9f3a\"],[0.8888888888888888,\"#fdca26\"],[1.0,\"#f0f921\"]]},\"colorway\":[\"#636efa\",\"#EF553B\",\"#00cc96\",\"#ab63fa\",\"#FFA15A\",\"#19d3f3\",\"#FF6692\",\"#B6E880\",\"#FF97FF\",\"#FECB52\"],\"font\":{\"color\":\"#2a3f5f\"},\"geo\":{\"bgcolor\":\"white\",\"lakecolor\":\"white\",\"landcolor\":\"#E5ECF6\",\"showlakes\":true,\"showland\":true,\"subunitcolor\":\"white\"},\"hoverlabel\":{\"align\":\"left\"},\"hovermode\":\"closest\",\"mapbox\":{\"style\":\"light\"},\"paper_bgcolor\":\"white\",\"plot_bgcolor\":\"#E5ECF6\",\"polar\":{\"angularaxis\":{\"gridcolor\":\"white\",\"linecolor\":\"white\",\"ticks\":\"\"},\"bgcolor\":\"#E5ECF6\",\"radialaxis\":{\"gridcolor\":\"white\",\"linecolor\":\"white\",\"ticks\":\"\"}},\"scene\":{\"xaxis\":{\"backgroundcolor\":\"#E5ECF6\",\"gridcolor\":\"white\",\"gridwidth\":2,\"linecolor\":\"white\",\"showbackground\":true,\"ticks\":\"\",\"zerolinecolor\":\"white\"},\"yaxis\":{\"backgroundcolor\":\"#E5ECF6\",\"gridcolor\":\"white\",\"gridwidth\":2,\"linecolor\":\"white\",\"showbackground\":true,\"ticks\":\"\",\"zerolinecolor\":\"white\"},\"zaxis\":{\"backgroundcolor\":\"#E5ECF6\",\"gridcolor\":\"white\",\"gridwidth\":2,\"linecolor\":\"white\",\"showbackground\":true,\"ticks\":\"\",\"zerolinecolor\":\"white\"}},\"shapedefaults\":{\"line\":{\"color\":\"#2a3f5f\"}},\"ternary\":{\"aaxis\":{\"gridcolor\":\"white\",\"linecolor\":\"white\",\"ticks\":\"\"},\"baxis\":{\"gridcolor\":\"white\",\"linecolor\":\"white\",\"ticks\":\"\"},\"bgcolor\":\"#E5ECF6\",\"caxis\":{\"gridcolor\":\"white\",\"linecolor\":\"white\",\"ticks\":\"\"}},\"title\":{\"x\":0.05},\"xaxis\":{\"automargin\":true,\"gridcolor\":\"white\",\"linecolor\":\"white\",\"ticks\":\"\",\"title\":{\"standoff\":15},\"zerolinecolor\":\"white\",\"zerolinewidth\":2},\"yaxis\":{\"automargin\":true,\"gridcolor\":\"white\",\"linecolor\":\"white\",\"ticks\":\"\",\"title\":{\"standoff\":15},\"zerolinecolor\":\"white\",\"zerolinewidth\":2}}}},                        {\"responsive\": true}                    ).then(function(){\n",
              "                            \n",
              "var gd = document.getElementById('79650773-415a-41a5-a50b-979f4b78ef34');\n",
              "var x = new MutationObserver(function (mutations, observer) {{\n",
              "        var display = window.getComputedStyle(gd).display;\n",
              "        if (!display || display === 'none') {{\n",
              "            console.log([gd, 'removed!']);\n",
              "            Plotly.purge(gd);\n",
              "            observer.disconnect();\n",
              "        }}\n",
              "}});\n",
              "\n",
              "// Listen for the removal of the full notebook cells\n",
              "var notebookContainer = gd.closest('#notebook-container');\n",
              "if (notebookContainer) {{\n",
              "    x.observe(notebookContainer, {childList: true});\n",
              "}}\n",
              "\n",
              "// Listen for the clearing of the current output cell\n",
              "var outputEl = gd.closest('.output');\n",
              "if (outputEl) {{\n",
              "    x.observe(outputEl, {childList: true});\n",
              "}}\n",
              "\n",
              "                        })                };                            </script>        </div>\n",
              "</body>\n",
              "</html>"
            ]
          },
          "metadata": {}
        },
        {
          "output_type": "display_data",
          "data": {
            "text/html": [
              "<html>\n",
              "<head><meta charset=\"utf-8\" /></head>\n",
              "<body>\n",
              "    <div>            <script src=\"https://cdnjs.cloudflare.com/ajax/libs/mathjax/2.7.5/MathJax.js?config=TeX-AMS-MML_SVG\"></script><script type=\"text/javascript\">if (window.MathJax) {MathJax.Hub.Config({SVG: {font: \"STIX-Web\"}});}</script>                <script type=\"text/javascript\">window.PlotlyConfig = {MathJaxConfig: 'local'};</script>\n",
              "        <script src=\"https://cdn.plot.ly/plotly-2.8.3.min.js\"></script>                <div id=\"04344838-bab4-4ad8-ac9d-7e96c7065fec\" class=\"plotly-graph-div\" style=\"height:525px; width:100%;\"></div>            <script type=\"text/javascript\">                                    window.PLOTLYENV=window.PLOTLYENV || {};                                    if (document.getElementById(\"04344838-bab4-4ad8-ac9d-7e96c7065fec\")) {                    Plotly.newPlot(                        \"04344838-bab4-4ad8-ac9d-7e96c7065fec\",                        [{\"marker\":{\"color\":\"indianred\"},\"name\":\"PAGO NORMAL\",\"text\":[5659.98,5939.52,5534.93,5677.67],\"x\":[\"2021-07-30T00:00:00\",\"2021-08-31T00:00:00\",\"2021-09-30T00:00:00\",\"2021-10-31T00:00:00\"],\"y\":[5659.9800000000005,5939.52431640625,5534.932690429688,5677.6681640625],\"type\":\"bar\"},{\"marker\":{\"color\":\"lightsalmon\"},\"name\":\"PAGO REDUCIDO\",\"text\":[5659.98,5345.57,4981.44,5109.9],\"x\":[\"2021-07-30T00:00:00\",\"2021-08-31T00:00:00\",\"2021-09-30T00:00:00\",\"2021-10-31T00:00:00\"],\"y\":[5659.9800000000005,5345.571884765625,4981.439421386719,5109.90134765625],\"type\":\"bar\"},{\"marker\":{\"color\":\"yellow\"},\"name\":\"PAGO INCREMENTO\",\"text\":[5659.98,6533.48,6088.43,6245.43],\"x\":[\"2021-07-30T00:00:00\",\"2021-08-31T00:00:00\",\"2021-09-30T00:00:00\",\"2021-10-31T00:00:00\"],\"y\":[5659.9800000000005,6533.4767480468745,6088.425959472656,6245.43498046875],\"type\":\"bar\"}],                        {\"template\":{\"data\":{\"bar\":[{\"error_x\":{\"color\":\"#2a3f5f\"},\"error_y\":{\"color\":\"#2a3f5f\"},\"marker\":{\"line\":{\"color\":\"#E5ECF6\",\"width\":0.5},\"pattern\":{\"fillmode\":\"overlay\",\"size\":10,\"solidity\":0.2}},\"type\":\"bar\"}],\"barpolar\":[{\"marker\":{\"line\":{\"color\":\"#E5ECF6\",\"width\":0.5},\"pattern\":{\"fillmode\":\"overlay\",\"size\":10,\"solidity\":0.2}},\"type\":\"barpolar\"}],\"carpet\":[{\"aaxis\":{\"endlinecolor\":\"#2a3f5f\",\"gridcolor\":\"white\",\"linecolor\":\"white\",\"minorgridcolor\":\"white\",\"startlinecolor\":\"#2a3f5f\"},\"baxis\":{\"endlinecolor\":\"#2a3f5f\",\"gridcolor\":\"white\",\"linecolor\":\"white\",\"minorgridcolor\":\"white\",\"startlinecolor\":\"#2a3f5f\"},\"type\":\"carpet\"}],\"choropleth\":[{\"colorbar\":{\"outlinewidth\":0,\"ticks\":\"\"},\"type\":\"choropleth\"}],\"contour\":[{\"colorbar\":{\"outlinewidth\":0,\"ticks\":\"\"},\"colorscale\":[[0.0,\"#0d0887\"],[0.1111111111111111,\"#46039f\"],[0.2222222222222222,\"#7201a8\"],[0.3333333333333333,\"#9c179e\"],[0.4444444444444444,\"#bd3786\"],[0.5555555555555556,\"#d8576b\"],[0.6666666666666666,\"#ed7953\"],[0.7777777777777778,\"#fb9f3a\"],[0.8888888888888888,\"#fdca26\"],[1.0,\"#f0f921\"]],\"type\":\"contour\"}],\"contourcarpet\":[{\"colorbar\":{\"outlinewidth\":0,\"ticks\":\"\"},\"type\":\"contourcarpet\"}],\"heatmap\":[{\"colorbar\":{\"outlinewidth\":0,\"ticks\":\"\"},\"colorscale\":[[0.0,\"#0d0887\"],[0.1111111111111111,\"#46039f\"],[0.2222222222222222,\"#7201a8\"],[0.3333333333333333,\"#9c179e\"],[0.4444444444444444,\"#bd3786\"],[0.5555555555555556,\"#d8576b\"],[0.6666666666666666,\"#ed7953\"],[0.7777777777777778,\"#fb9f3a\"],[0.8888888888888888,\"#fdca26\"],[1.0,\"#f0f921\"]],\"type\":\"heatmap\"}],\"heatmapgl\":[{\"colorbar\":{\"outlinewidth\":0,\"ticks\":\"\"},\"colorscale\":[[0.0,\"#0d0887\"],[0.1111111111111111,\"#46039f\"],[0.2222222222222222,\"#7201a8\"],[0.3333333333333333,\"#9c179e\"],[0.4444444444444444,\"#bd3786\"],[0.5555555555555556,\"#d8576b\"],[0.6666666666666666,\"#ed7953\"],[0.7777777777777778,\"#fb9f3a\"],[0.8888888888888888,\"#fdca26\"],[1.0,\"#f0f921\"]],\"type\":\"heatmapgl\"}],\"histogram\":[{\"marker\":{\"pattern\":{\"fillmode\":\"overlay\",\"size\":10,\"solidity\":0.2}},\"type\":\"histogram\"}],\"histogram2d\":[{\"colorbar\":{\"outlinewidth\":0,\"ticks\":\"\"},\"colorscale\":[[0.0,\"#0d0887\"],[0.1111111111111111,\"#46039f\"],[0.2222222222222222,\"#7201a8\"],[0.3333333333333333,\"#9c179e\"],[0.4444444444444444,\"#bd3786\"],[0.5555555555555556,\"#d8576b\"],[0.6666666666666666,\"#ed7953\"],[0.7777777777777778,\"#fb9f3a\"],[0.8888888888888888,\"#fdca26\"],[1.0,\"#f0f921\"]],\"type\":\"histogram2d\"}],\"histogram2dcontour\":[{\"colorbar\":{\"outlinewidth\":0,\"ticks\":\"\"},\"colorscale\":[[0.0,\"#0d0887\"],[0.1111111111111111,\"#46039f\"],[0.2222222222222222,\"#7201a8\"],[0.3333333333333333,\"#9c179e\"],[0.4444444444444444,\"#bd3786\"],[0.5555555555555556,\"#d8576b\"],[0.6666666666666666,\"#ed7953\"],[0.7777777777777778,\"#fb9f3a\"],[0.8888888888888888,\"#fdca26\"],[1.0,\"#f0f921\"]],\"type\":\"histogram2dcontour\"}],\"mesh3d\":[{\"colorbar\":{\"outlinewidth\":0,\"ticks\":\"\"},\"type\":\"mesh3d\"}],\"parcoords\":[{\"line\":{\"colorbar\":{\"outlinewidth\":0,\"ticks\":\"\"}},\"type\":\"parcoords\"}],\"pie\":[{\"automargin\":true,\"type\":\"pie\"}],\"scatter\":[{\"marker\":{\"colorbar\":{\"outlinewidth\":0,\"ticks\":\"\"}},\"type\":\"scatter\"}],\"scatter3d\":[{\"line\":{\"colorbar\":{\"outlinewidth\":0,\"ticks\":\"\"}},\"marker\":{\"colorbar\":{\"outlinewidth\":0,\"ticks\":\"\"}},\"type\":\"scatter3d\"}],\"scattercarpet\":[{\"marker\":{\"colorbar\":{\"outlinewidth\":0,\"ticks\":\"\"}},\"type\":\"scattercarpet\"}],\"scattergeo\":[{\"marker\":{\"colorbar\":{\"outlinewidth\":0,\"ticks\":\"\"}},\"type\":\"scattergeo\"}],\"scattergl\":[{\"marker\":{\"colorbar\":{\"outlinewidth\":0,\"ticks\":\"\"}},\"type\":\"scattergl\"}],\"scattermapbox\":[{\"marker\":{\"colorbar\":{\"outlinewidth\":0,\"ticks\":\"\"}},\"type\":\"scattermapbox\"}],\"scatterpolar\":[{\"marker\":{\"colorbar\":{\"outlinewidth\":0,\"ticks\":\"\"}},\"type\":\"scatterpolar\"}],\"scatterpolargl\":[{\"marker\":{\"colorbar\":{\"outlinewidth\":0,\"ticks\":\"\"}},\"type\":\"scatterpolargl\"}],\"scatterternary\":[{\"marker\":{\"colorbar\":{\"outlinewidth\":0,\"ticks\":\"\"}},\"type\":\"scatterternary\"}],\"surface\":[{\"colorbar\":{\"outlinewidth\":0,\"ticks\":\"\"},\"colorscale\":[[0.0,\"#0d0887\"],[0.1111111111111111,\"#46039f\"],[0.2222222222222222,\"#7201a8\"],[0.3333333333333333,\"#9c179e\"],[0.4444444444444444,\"#bd3786\"],[0.5555555555555556,\"#d8576b\"],[0.6666666666666666,\"#ed7953\"],[0.7777777777777778,\"#fb9f3a\"],[0.8888888888888888,\"#fdca26\"],[1.0,\"#f0f921\"]],\"type\":\"surface\"}],\"table\":[{\"cells\":{\"fill\":{\"color\":\"#EBF0F8\"},\"line\":{\"color\":\"white\"}},\"header\":{\"fill\":{\"color\":\"#C8D4E3\"},\"line\":{\"color\":\"white\"}},\"type\":\"table\"}]},\"layout\":{\"annotationdefaults\":{\"arrowcolor\":\"#2a3f5f\",\"arrowhead\":0,\"arrowwidth\":1},\"autotypenumbers\":\"strict\",\"coloraxis\":{\"colorbar\":{\"outlinewidth\":0,\"ticks\":\"\"}},\"colorscale\":{\"diverging\":[[0,\"#8e0152\"],[0.1,\"#c51b7d\"],[0.2,\"#de77ae\"],[0.3,\"#f1b6da\"],[0.4,\"#fde0ef\"],[0.5,\"#f7f7f7\"],[0.6,\"#e6f5d0\"],[0.7,\"#b8e186\"],[0.8,\"#7fbc41\"],[0.9,\"#4d9221\"],[1,\"#276419\"]],\"sequential\":[[0.0,\"#0d0887\"],[0.1111111111111111,\"#46039f\"],[0.2222222222222222,\"#7201a8\"],[0.3333333333333333,\"#9c179e\"],[0.4444444444444444,\"#bd3786\"],[0.5555555555555556,\"#d8576b\"],[0.6666666666666666,\"#ed7953\"],[0.7777777777777778,\"#fb9f3a\"],[0.8888888888888888,\"#fdca26\"],[1.0,\"#f0f921\"]],\"sequentialminus\":[[0.0,\"#0d0887\"],[0.1111111111111111,\"#46039f\"],[0.2222222222222222,\"#7201a8\"],[0.3333333333333333,\"#9c179e\"],[0.4444444444444444,\"#bd3786\"],[0.5555555555555556,\"#d8576b\"],[0.6666666666666666,\"#ed7953\"],[0.7777777777777778,\"#fb9f3a\"],[0.8888888888888888,\"#fdca26\"],[1.0,\"#f0f921\"]]},\"colorway\":[\"#636efa\",\"#EF553B\",\"#00cc96\",\"#ab63fa\",\"#FFA15A\",\"#19d3f3\",\"#FF6692\",\"#B6E880\",\"#FF97FF\",\"#FECB52\"],\"font\":{\"color\":\"#2a3f5f\"},\"geo\":{\"bgcolor\":\"white\",\"lakecolor\":\"white\",\"landcolor\":\"#E5ECF6\",\"showlakes\":true,\"showland\":true,\"subunitcolor\":\"white\"},\"hoverlabel\":{\"align\":\"left\"},\"hovermode\":\"closest\",\"mapbox\":{\"style\":\"light\"},\"paper_bgcolor\":\"white\",\"plot_bgcolor\":\"#E5ECF6\",\"polar\":{\"angularaxis\":{\"gridcolor\":\"white\",\"linecolor\":\"white\",\"ticks\":\"\"},\"bgcolor\":\"#E5ECF6\",\"radialaxis\":{\"gridcolor\":\"white\",\"linecolor\":\"white\",\"ticks\":\"\"}},\"scene\":{\"xaxis\":{\"backgroundcolor\":\"#E5ECF6\",\"gridcolor\":\"white\",\"gridwidth\":2,\"linecolor\":\"white\",\"showbackground\":true,\"ticks\":\"\",\"zerolinecolor\":\"white\"},\"yaxis\":{\"backgroundcolor\":\"#E5ECF6\",\"gridcolor\":\"white\",\"gridwidth\":2,\"linecolor\":\"white\",\"showbackground\":true,\"ticks\":\"\",\"zerolinecolor\":\"white\"},\"zaxis\":{\"backgroundcolor\":\"#E5ECF6\",\"gridcolor\":\"white\",\"gridwidth\":2,\"linecolor\":\"white\",\"showbackground\":true,\"ticks\":\"\",\"zerolinecolor\":\"white\"}},\"shapedefaults\":{\"line\":{\"color\":\"#2a3f5f\"}},\"ternary\":{\"aaxis\":{\"gridcolor\":\"white\",\"linecolor\":\"white\",\"ticks\":\"\"},\"baxis\":{\"gridcolor\":\"white\",\"linecolor\":\"white\",\"ticks\":\"\"},\"bgcolor\":\"#E5ECF6\",\"caxis\":{\"gridcolor\":\"white\",\"linecolor\":\"white\",\"ticks\":\"\"}},\"title\":{\"x\":0.05},\"xaxis\":{\"automargin\":true,\"gridcolor\":\"white\",\"linecolor\":\"white\",\"ticks\":\"\",\"title\":{\"standoff\":15},\"zerolinecolor\":\"white\",\"zerolinewidth\":2},\"yaxis\":{\"automargin\":true,\"gridcolor\":\"white\",\"linecolor\":\"white\",\"ticks\":\"\",\"title\":{\"standoff\":15},\"zerolinecolor\":\"white\",\"zerolinewidth\":2}}},\"xaxis\":{\"tickangle\":-45},\"barmode\":\"group\"},                        {\"responsive\": true}                    ).then(function(){\n",
              "                            \n",
              "var gd = document.getElementById('04344838-bab4-4ad8-ac9d-7e96c7065fec');\n",
              "var x = new MutationObserver(function (mutations, observer) {{\n",
              "        var display = window.getComputedStyle(gd).display;\n",
              "        if (!display || display === 'none') {{\n",
              "            console.log([gd, 'removed!']);\n",
              "            Plotly.purge(gd);\n",
              "            observer.disconnect();\n",
              "        }}\n",
              "}});\n",
              "\n",
              "// Listen for the removal of the full notebook cells\n",
              "var notebookContainer = gd.closest('#notebook-container');\n",
              "if (notebookContainer) {{\n",
              "    x.observe(notebookContainer, {childList: true});\n",
              "}}\n",
              "\n",
              "// Listen for the clearing of the current output cell\n",
              "var outputEl = gd.closest('.output');\n",
              "if (outputEl) {{\n",
              "    x.observe(outputEl, {childList: true});\n",
              "}}\n",
              "\n",
              "                        })                };                            </script>        </div>\n",
              "</body>\n",
              "</html>"
            ]
          },
          "metadata": {}
        },
        {
          "output_type": "stream",
          "name": "stdout",
          "text": [
            "Report saved to ./report.html. To upload and share your report, create a free Datapane account by running `datapane signup`.\n"
          ]
        },
        {
          "output_type": "execute_result",
          "data": {
            "text/html": [
              "\n",
              "  <div id=\"df-446e47b8-8f62-46a2-821d-4d1f5193e4cc\">\n",
              "    <div class=\"colab-df-container\">\n",
              "      <div>\n",
              "<style scoped>\n",
              "    .dataframe tbody tr th:only-of-type {\n",
              "        vertical-align: middle;\n",
              "    }\n",
              "\n",
              "    .dataframe tbody tr th {\n",
              "        vertical-align: top;\n",
              "    }\n",
              "\n",
              "    .dataframe thead th {\n",
              "        text-align: right;\n",
              "    }\n",
              "</style>\n",
              "<table border=\"1\" class=\"dataframe\">\n",
              "  <thead>\n",
              "    <tr style=\"text-align: right;\">\n",
              "      <th></th>\n",
              "      <th>CONSUMO_NORMAL</th>\n",
              "      <th>PAGO_NORMAL</th>\n",
              "      <th>CONSUMO_REDUCIDO</th>\n",
              "      <th>PAGO_REDUCIDO</th>\n",
              "      <th>CONSUMO_INCREMENTO</th>\n",
              "      <th>PAGO_INCREMENTO</th>\n",
              "    </tr>\n",
              "    <tr>\n",
              "      <th>Date</th>\n",
              "      <th></th>\n",
              "      <th></th>\n",
              "      <th></th>\n",
              "      <th></th>\n",
              "      <th></th>\n",
              "      <th></th>\n",
              "    </tr>\n",
              "  </thead>\n",
              "  <tbody>\n",
              "    <tr>\n",
              "      <th>2021-07-30</th>\n",
              "      <td>1825.800000</td>\n",
              "      <td>5659.980000</td>\n",
              "      <td>1825.800000</td>\n",
              "      <td>5659.980000</td>\n",
              "      <td>1825.800000</td>\n",
              "      <td>5659.980000</td>\n",
              "    </tr>\n",
              "    <tr>\n",
              "      <th>2021-08-31</th>\n",
              "      <td>1915.975586</td>\n",
              "      <td>5939.524316</td>\n",
              "      <td>1724.378027</td>\n",
              "      <td>5345.571885</td>\n",
              "      <td>2107.573145</td>\n",
              "      <td>6533.476748</td>\n",
              "    </tr>\n",
              "    <tr>\n",
              "      <th>2021-09-30</th>\n",
              "      <td>1785.462158</td>\n",
              "      <td>5534.932690</td>\n",
              "      <td>1606.915942</td>\n",
              "      <td>4981.439421</td>\n",
              "      <td>1964.008374</td>\n",
              "      <td>6088.425959</td>\n",
              "    </tr>\n",
              "    <tr>\n",
              "      <th>2021-10-31</th>\n",
              "      <td>1831.505859</td>\n",
              "      <td>5677.668164</td>\n",
              "      <td>1648.355273</td>\n",
              "      <td>5109.901348</td>\n",
              "      <td>2014.656445</td>\n",
              "      <td>6245.434980</td>\n",
              "    </tr>\n",
              "  </tbody>\n",
              "</table>\n",
              "</div>\n",
              "      <button class=\"colab-df-convert\" onclick=\"convertToInteractive('df-446e47b8-8f62-46a2-821d-4d1f5193e4cc')\"\n",
              "              title=\"Convert this dataframe to an interactive table.\"\n",
              "              style=\"display:none;\">\n",
              "        \n",
              "  <svg xmlns=\"http://www.w3.org/2000/svg\" height=\"24px\"viewBox=\"0 0 24 24\"\n",
              "       width=\"24px\">\n",
              "    <path d=\"M0 0h24v24H0V0z\" fill=\"none\"/>\n",
              "    <path d=\"M18.56 5.44l.94 2.06.94-2.06 2.06-.94-2.06-.94-.94-2.06-.94 2.06-2.06.94zm-11 1L8.5 8.5l.94-2.06 2.06-.94-2.06-.94L8.5 2.5l-.94 2.06-2.06.94zm10 10l.94 2.06.94-2.06 2.06-.94-2.06-.94-.94-2.06-.94 2.06-2.06.94z\"/><path d=\"M17.41 7.96l-1.37-1.37c-.4-.4-.92-.59-1.43-.59-.52 0-1.04.2-1.43.59L10.3 9.45l-7.72 7.72c-.78.78-.78 2.05 0 2.83L4 21.41c.39.39.9.59 1.41.59.51 0 1.02-.2 1.41-.59l7.78-7.78 2.81-2.81c.8-.78.8-2.07 0-2.86zM5.41 20L4 18.59l7.72-7.72 1.47 1.35L5.41 20z\"/>\n",
              "  </svg>\n",
              "      </button>\n",
              "      \n",
              "  <style>\n",
              "    .colab-df-container {\n",
              "      display:flex;\n",
              "      flex-wrap:wrap;\n",
              "      gap: 12px;\n",
              "    }\n",
              "\n",
              "    .colab-df-convert {\n",
              "      background-color: #E8F0FE;\n",
              "      border: none;\n",
              "      border-radius: 50%;\n",
              "      cursor: pointer;\n",
              "      display: none;\n",
              "      fill: #1967D2;\n",
              "      height: 32px;\n",
              "      padding: 0 0 0 0;\n",
              "      width: 32px;\n",
              "    }\n",
              "\n",
              "    .colab-df-convert:hover {\n",
              "      background-color: #E2EBFA;\n",
              "      box-shadow: 0px 1px 2px rgba(60, 64, 67, 0.3), 0px 1px 3px 1px rgba(60, 64, 67, 0.15);\n",
              "      fill: #174EA6;\n",
              "    }\n",
              "\n",
              "    [theme=dark] .colab-df-convert {\n",
              "      background-color: #3B4455;\n",
              "      fill: #D2E3FC;\n",
              "    }\n",
              "\n",
              "    [theme=dark] .colab-df-convert:hover {\n",
              "      background-color: #434B5C;\n",
              "      box-shadow: 0px 1px 3px 1px rgba(0, 0, 0, 0.15);\n",
              "      filter: drop-shadow(0px 1px 2px rgba(0, 0, 0, 0.3));\n",
              "      fill: #FFFFFF;\n",
              "    }\n",
              "  </style>\n",
              "\n",
              "      <script>\n",
              "        const buttonEl =\n",
              "          document.querySelector('#df-446e47b8-8f62-46a2-821d-4d1f5193e4cc button.colab-df-convert');\n",
              "        buttonEl.style.display =\n",
              "          google.colab.kernel.accessAllowed ? 'block' : 'none';\n",
              "\n",
              "        async function convertToInteractive(key) {\n",
              "          const element = document.querySelector('#df-446e47b8-8f62-46a2-821d-4d1f5193e4cc');\n",
              "          const dataTable =\n",
              "            await google.colab.kernel.invokeFunction('convertToInteractive',\n",
              "                                                     [key], {});\n",
              "          if (!dataTable) return;\n",
              "\n",
              "          const docLinkHtml = 'Like what you see? Visit the ' +\n",
              "            '<a target=\"_blank\" href=https://colab.research.google.com/notebooks/data_table.ipynb>data table notebook</a>'\n",
              "            + ' to learn more about interactive tables.';\n",
              "          element.innerHTML = '';\n",
              "          dataTable['output_type'] = 'display_data';\n",
              "          await google.colab.output.renderOutput(dataTable, element);\n",
              "          const docLink = document.createElement('div');\n",
              "          docLink.innerHTML = docLinkHtml;\n",
              "          element.appendChild(docLink);\n",
              "        }\n",
              "      </script>\n",
              "    </div>\n",
              "  </div>\n",
              "  "
            ],
            "text/plain": [
              "            CONSUMO_NORMAL  PAGO_NORMAL  ...  CONSUMO_INCREMENTO  PAGO_INCREMENTO\n",
              "Date                                     ...                                     \n",
              "2021-07-30     1825.800000  5659.980000  ...         1825.800000      5659.980000\n",
              "2021-08-31     1915.975586  5939.524316  ...         2107.573145      6533.476748\n",
              "2021-09-30     1785.462158  5534.932690  ...         1964.008374      6088.425959\n",
              "2021-10-31     1831.505859  5677.668164  ...         2014.656445      6245.434980\n",
              "\n",
              "[4 rows x 6 columns]"
            ]
          },
          "metadata": {},
          "execution_count": 37
        }
      ],
      "source": [
        "new_prediction(model_kronos,usuario=1)"
      ]
    },
    {
      "cell_type": "code",
      "execution_count": 38,
      "metadata": {
        "id": "UcPWqxwn8G1W",
        "colab": {
          "base_uri": "https://localhost:8080/",
          "height": 1000
        },
        "outputId": "1793fe9f-6a74-4ec9-f5b7-a7e76fd2d42d"
      },
      "outputs": [
        {
          "output_type": "stream",
          "name": "stderr",
          "text": [
            "/usr/local/lib/python3.7/dist-packages/sklearn/base.py:451: UserWarning:\n",
            "\n",
            "X does not have valid feature names, but MinMaxScaler was fitted with feature names\n",
            "\n"
          ]
        },
        {
          "output_type": "display_data",
          "data": {
            "text/html": [
              "<html>\n",
              "<head><meta charset=\"utf-8\" /></head>\n",
              "<body>\n",
              "    <div>            <script src=\"https://cdnjs.cloudflare.com/ajax/libs/mathjax/2.7.5/MathJax.js?config=TeX-AMS-MML_SVG\"></script><script type=\"text/javascript\">if (window.MathJax) {MathJax.Hub.Config({SVG: {font: \"STIX-Web\"}});}</script>                <script type=\"text/javascript\">window.PlotlyConfig = {MathJaxConfig: 'local'};</script>\n",
              "        <script src=\"https://cdn.plot.ly/plotly-2.8.3.min.js\"></script>                <div id=\"60a66a07-3983-401f-abee-bbafbd70da6f\" class=\"plotly-graph-div\" style=\"height:525px; width:100%;\"></div>            <script type=\"text/javascript\">                                    window.PLOTLYENV=window.PLOTLYENV || {};                                    if (document.getElementById(\"60a66a07-3983-401f-abee-bbafbd70da6f\")) {                    Plotly.newPlot(                        \"60a66a07-3983-401f-abee-bbafbd70da6f\",                        [{\"fillcolor\":\"green\",\"mode\":\"lines\",\"name\":\"HISTORIAL\",\"x\":[\"2020-08-31T00:00:00\",\"2020-09-30T00:00:00\",\"2020-10-30T00:00:00\",\"2020-11-30T00:00:00\",\"2020-12-31T00:00:00\",\"2021-01-29T00:00:00\",\"2021-02-26T00:00:00\",\"2021-03-31T00:00:00\",\"2021-04-30T00:00:00\",\"2021-05-31T00:00:00\",\"2021-06-30T00:00:00\",\"2021-07-30T00:00:00\"],\"y\":[1636.7,1609.1,1615.5,1473.5,1542.7,1534.1,1435.9,1438.8,1468.4,1554.0,1486.8,1539.7],\"type\":\"scatter\"},{\"fillcolor\":\"green\",\"mode\":\"lines\",\"name\":\"NORMAL\",\"x\":[\"2021-07-30T00:00:00\",\"2021-08-31T00:00:00\",\"2021-09-30T00:00:00\",\"2021-10-31T00:00:00\"],\"y\":[1539.7,2023.9427490234375,2127.8564453125,2321.30078125],\"type\":\"scatter\"},{\"fillcolor\":\"red\",\"mode\":\"lines\",\"name\":\"REDUCCION\",\"x\":[\"2021-07-30T00:00:00\",\"2021-08-31T00:00:00\",\"2021-09-30T00:00:00\",\"2021-10-31T00:00:00\"],\"y\":[1539.7,1821.5484741210937,1915.07080078125,2089.170703125],\"type\":\"scatter\"},{\"fillcolor\":\"red\",\"mode\":\"lines\",\"name\":\"INCREMENTO\",\"x\":[\"2021-07-30T00:00:00\",\"2021-08-31T00:00:00\",\"2021-09-30T00:00:00\",\"2021-10-31T00:00:00\"],\"y\":[1539.7,2226.337023925781,2340.64208984375,2553.430859375],\"type\":\"scatter\"}],                        {\"title\":{\"text\":\"CONSUMO DE AGUA DEL SR: Michael Hermantrout PARA 3 MESES\"},\"xaxis\":{\"title\":{\"text\":\"Date\"}},\"yaxis\":{\"title\":{\"text\":\"Consumo (m3)\"}},\"template\":{\"data\":{\"bar\":[{\"error_x\":{\"color\":\"#2a3f5f\"},\"error_y\":{\"color\":\"#2a3f5f\"},\"marker\":{\"line\":{\"color\":\"#E5ECF6\",\"width\":0.5},\"pattern\":{\"fillmode\":\"overlay\",\"size\":10,\"solidity\":0.2}},\"type\":\"bar\"}],\"barpolar\":[{\"marker\":{\"line\":{\"color\":\"#E5ECF6\",\"width\":0.5},\"pattern\":{\"fillmode\":\"overlay\",\"size\":10,\"solidity\":0.2}},\"type\":\"barpolar\"}],\"carpet\":[{\"aaxis\":{\"endlinecolor\":\"#2a3f5f\",\"gridcolor\":\"white\",\"linecolor\":\"white\",\"minorgridcolor\":\"white\",\"startlinecolor\":\"#2a3f5f\"},\"baxis\":{\"endlinecolor\":\"#2a3f5f\",\"gridcolor\":\"white\",\"linecolor\":\"white\",\"minorgridcolor\":\"white\",\"startlinecolor\":\"#2a3f5f\"},\"type\":\"carpet\"}],\"choropleth\":[{\"colorbar\":{\"outlinewidth\":0,\"ticks\":\"\"},\"type\":\"choropleth\"}],\"contour\":[{\"colorbar\":{\"outlinewidth\":0,\"ticks\":\"\"},\"colorscale\":[[0.0,\"#0d0887\"],[0.1111111111111111,\"#46039f\"],[0.2222222222222222,\"#7201a8\"],[0.3333333333333333,\"#9c179e\"],[0.4444444444444444,\"#bd3786\"],[0.5555555555555556,\"#d8576b\"],[0.6666666666666666,\"#ed7953\"],[0.7777777777777778,\"#fb9f3a\"],[0.8888888888888888,\"#fdca26\"],[1.0,\"#f0f921\"]],\"type\":\"contour\"}],\"contourcarpet\":[{\"colorbar\":{\"outlinewidth\":0,\"ticks\":\"\"},\"type\":\"contourcarpet\"}],\"heatmap\":[{\"colorbar\":{\"outlinewidth\":0,\"ticks\":\"\"},\"colorscale\":[[0.0,\"#0d0887\"],[0.1111111111111111,\"#46039f\"],[0.2222222222222222,\"#7201a8\"],[0.3333333333333333,\"#9c179e\"],[0.4444444444444444,\"#bd3786\"],[0.5555555555555556,\"#d8576b\"],[0.6666666666666666,\"#ed7953\"],[0.7777777777777778,\"#fb9f3a\"],[0.8888888888888888,\"#fdca26\"],[1.0,\"#f0f921\"]],\"type\":\"heatmap\"}],\"heatmapgl\":[{\"colorbar\":{\"outlinewidth\":0,\"ticks\":\"\"},\"colorscale\":[[0.0,\"#0d0887\"],[0.1111111111111111,\"#46039f\"],[0.2222222222222222,\"#7201a8\"],[0.3333333333333333,\"#9c179e\"],[0.4444444444444444,\"#bd3786\"],[0.5555555555555556,\"#d8576b\"],[0.6666666666666666,\"#ed7953\"],[0.7777777777777778,\"#fb9f3a\"],[0.8888888888888888,\"#fdca26\"],[1.0,\"#f0f921\"]],\"type\":\"heatmapgl\"}],\"histogram\":[{\"marker\":{\"pattern\":{\"fillmode\":\"overlay\",\"size\":10,\"solidity\":0.2}},\"type\":\"histogram\"}],\"histogram2d\":[{\"colorbar\":{\"outlinewidth\":0,\"ticks\":\"\"},\"colorscale\":[[0.0,\"#0d0887\"],[0.1111111111111111,\"#46039f\"],[0.2222222222222222,\"#7201a8\"],[0.3333333333333333,\"#9c179e\"],[0.4444444444444444,\"#bd3786\"],[0.5555555555555556,\"#d8576b\"],[0.6666666666666666,\"#ed7953\"],[0.7777777777777778,\"#fb9f3a\"],[0.8888888888888888,\"#fdca26\"],[1.0,\"#f0f921\"]],\"type\":\"histogram2d\"}],\"histogram2dcontour\":[{\"colorbar\":{\"outlinewidth\":0,\"ticks\":\"\"},\"colorscale\":[[0.0,\"#0d0887\"],[0.1111111111111111,\"#46039f\"],[0.2222222222222222,\"#7201a8\"],[0.3333333333333333,\"#9c179e\"],[0.4444444444444444,\"#bd3786\"],[0.5555555555555556,\"#d8576b\"],[0.6666666666666666,\"#ed7953\"],[0.7777777777777778,\"#fb9f3a\"],[0.8888888888888888,\"#fdca26\"],[1.0,\"#f0f921\"]],\"type\":\"histogram2dcontour\"}],\"mesh3d\":[{\"colorbar\":{\"outlinewidth\":0,\"ticks\":\"\"},\"type\":\"mesh3d\"}],\"parcoords\":[{\"line\":{\"colorbar\":{\"outlinewidth\":0,\"ticks\":\"\"}},\"type\":\"parcoords\"}],\"pie\":[{\"automargin\":true,\"type\":\"pie\"}],\"scatter\":[{\"marker\":{\"colorbar\":{\"outlinewidth\":0,\"ticks\":\"\"}},\"type\":\"scatter\"}],\"scatter3d\":[{\"line\":{\"colorbar\":{\"outlinewidth\":0,\"ticks\":\"\"}},\"marker\":{\"colorbar\":{\"outlinewidth\":0,\"ticks\":\"\"}},\"type\":\"scatter3d\"}],\"scattercarpet\":[{\"marker\":{\"colorbar\":{\"outlinewidth\":0,\"ticks\":\"\"}},\"type\":\"scattercarpet\"}],\"scattergeo\":[{\"marker\":{\"colorbar\":{\"outlinewidth\":0,\"ticks\":\"\"}},\"type\":\"scattergeo\"}],\"scattergl\":[{\"marker\":{\"colorbar\":{\"outlinewidth\":0,\"ticks\":\"\"}},\"type\":\"scattergl\"}],\"scattermapbox\":[{\"marker\":{\"colorbar\":{\"outlinewidth\":0,\"ticks\":\"\"}},\"type\":\"scattermapbox\"}],\"scatterpolar\":[{\"marker\":{\"colorbar\":{\"outlinewidth\":0,\"ticks\":\"\"}},\"type\":\"scatterpolar\"}],\"scatterpolargl\":[{\"marker\":{\"colorbar\":{\"outlinewidth\":0,\"ticks\":\"\"}},\"type\":\"scatterpolargl\"}],\"scatterternary\":[{\"marker\":{\"colorbar\":{\"outlinewidth\":0,\"ticks\":\"\"}},\"type\":\"scatterternary\"}],\"surface\":[{\"colorbar\":{\"outlinewidth\":0,\"ticks\":\"\"},\"colorscale\":[[0.0,\"#0d0887\"],[0.1111111111111111,\"#46039f\"],[0.2222222222222222,\"#7201a8\"],[0.3333333333333333,\"#9c179e\"],[0.4444444444444444,\"#bd3786\"],[0.5555555555555556,\"#d8576b\"],[0.6666666666666666,\"#ed7953\"],[0.7777777777777778,\"#fb9f3a\"],[0.8888888888888888,\"#fdca26\"],[1.0,\"#f0f921\"]],\"type\":\"surface\"}],\"table\":[{\"cells\":{\"fill\":{\"color\":\"#EBF0F8\"},\"line\":{\"color\":\"white\"}},\"header\":{\"fill\":{\"color\":\"#C8D4E3\"},\"line\":{\"color\":\"white\"}},\"type\":\"table\"}]},\"layout\":{\"annotationdefaults\":{\"arrowcolor\":\"#2a3f5f\",\"arrowhead\":0,\"arrowwidth\":1},\"autotypenumbers\":\"strict\",\"coloraxis\":{\"colorbar\":{\"outlinewidth\":0,\"ticks\":\"\"}},\"colorscale\":{\"diverging\":[[0,\"#8e0152\"],[0.1,\"#c51b7d\"],[0.2,\"#de77ae\"],[0.3,\"#f1b6da\"],[0.4,\"#fde0ef\"],[0.5,\"#f7f7f7\"],[0.6,\"#e6f5d0\"],[0.7,\"#b8e186\"],[0.8,\"#7fbc41\"],[0.9,\"#4d9221\"],[1,\"#276419\"]],\"sequential\":[[0.0,\"#0d0887\"],[0.1111111111111111,\"#46039f\"],[0.2222222222222222,\"#7201a8\"],[0.3333333333333333,\"#9c179e\"],[0.4444444444444444,\"#bd3786\"],[0.5555555555555556,\"#d8576b\"],[0.6666666666666666,\"#ed7953\"],[0.7777777777777778,\"#fb9f3a\"],[0.8888888888888888,\"#fdca26\"],[1.0,\"#f0f921\"]],\"sequentialminus\":[[0.0,\"#0d0887\"],[0.1111111111111111,\"#46039f\"],[0.2222222222222222,\"#7201a8\"],[0.3333333333333333,\"#9c179e\"],[0.4444444444444444,\"#bd3786\"],[0.5555555555555556,\"#d8576b\"],[0.6666666666666666,\"#ed7953\"],[0.7777777777777778,\"#fb9f3a\"],[0.8888888888888888,\"#fdca26\"],[1.0,\"#f0f921\"]]},\"colorway\":[\"#636efa\",\"#EF553B\",\"#00cc96\",\"#ab63fa\",\"#FFA15A\",\"#19d3f3\",\"#FF6692\",\"#B6E880\",\"#FF97FF\",\"#FECB52\"],\"font\":{\"color\":\"#2a3f5f\"},\"geo\":{\"bgcolor\":\"white\",\"lakecolor\":\"white\",\"landcolor\":\"#E5ECF6\",\"showlakes\":true,\"showland\":true,\"subunitcolor\":\"white\"},\"hoverlabel\":{\"align\":\"left\"},\"hovermode\":\"closest\",\"mapbox\":{\"style\":\"light\"},\"paper_bgcolor\":\"white\",\"plot_bgcolor\":\"#E5ECF6\",\"polar\":{\"angularaxis\":{\"gridcolor\":\"white\",\"linecolor\":\"white\",\"ticks\":\"\"},\"bgcolor\":\"#E5ECF6\",\"radialaxis\":{\"gridcolor\":\"white\",\"linecolor\":\"white\",\"ticks\":\"\"}},\"scene\":{\"xaxis\":{\"backgroundcolor\":\"#E5ECF6\",\"gridcolor\":\"white\",\"gridwidth\":2,\"linecolor\":\"white\",\"showbackground\":true,\"ticks\":\"\",\"zerolinecolor\":\"white\"},\"yaxis\":{\"backgroundcolor\":\"#E5ECF6\",\"gridcolor\":\"white\",\"gridwidth\":2,\"linecolor\":\"white\",\"showbackground\":true,\"ticks\":\"\",\"zerolinecolor\":\"white\"},\"zaxis\":{\"backgroundcolor\":\"#E5ECF6\",\"gridcolor\":\"white\",\"gridwidth\":2,\"linecolor\":\"white\",\"showbackground\":true,\"ticks\":\"\",\"zerolinecolor\":\"white\"}},\"shapedefaults\":{\"line\":{\"color\":\"#2a3f5f\"}},\"ternary\":{\"aaxis\":{\"gridcolor\":\"white\",\"linecolor\":\"white\",\"ticks\":\"\"},\"baxis\":{\"gridcolor\":\"white\",\"linecolor\":\"white\",\"ticks\":\"\"},\"bgcolor\":\"#E5ECF6\",\"caxis\":{\"gridcolor\":\"white\",\"linecolor\":\"white\",\"ticks\":\"\"}},\"title\":{\"x\":0.05},\"xaxis\":{\"automargin\":true,\"gridcolor\":\"white\",\"linecolor\":\"white\",\"ticks\":\"\",\"title\":{\"standoff\":15},\"zerolinecolor\":\"white\",\"zerolinewidth\":2},\"yaxis\":{\"automargin\":true,\"gridcolor\":\"white\",\"linecolor\":\"white\",\"ticks\":\"\",\"title\":{\"standoff\":15},\"zerolinecolor\":\"white\",\"zerolinewidth\":2}}}},                        {\"responsive\": true}                    ).then(function(){\n",
              "                            \n",
              "var gd = document.getElementById('60a66a07-3983-401f-abee-bbafbd70da6f');\n",
              "var x = new MutationObserver(function (mutations, observer) {{\n",
              "        var display = window.getComputedStyle(gd).display;\n",
              "        if (!display || display === 'none') {{\n",
              "            console.log([gd, 'removed!']);\n",
              "            Plotly.purge(gd);\n",
              "            observer.disconnect();\n",
              "        }}\n",
              "}});\n",
              "\n",
              "// Listen for the removal of the full notebook cells\n",
              "var notebookContainer = gd.closest('#notebook-container');\n",
              "if (notebookContainer) {{\n",
              "    x.observe(notebookContainer, {childList: true});\n",
              "}}\n",
              "\n",
              "// Listen for the clearing of the current output cell\n",
              "var outputEl = gd.closest('.output');\n",
              "if (outputEl) {{\n",
              "    x.observe(outputEl, {childList: true});\n",
              "}}\n",
              "\n",
              "                        })                };                            </script>        </div>\n",
              "</body>\n",
              "</html>"
            ]
          },
          "metadata": {}
        },
        {
          "output_type": "display_data",
          "data": {
            "text/html": [
              "<html>\n",
              "<head><meta charset=\"utf-8\" /></head>\n",
              "<body>\n",
              "    <div>            <script src=\"https://cdnjs.cloudflare.com/ajax/libs/mathjax/2.7.5/MathJax.js?config=TeX-AMS-MML_SVG\"></script><script type=\"text/javascript\">if (window.MathJax) {MathJax.Hub.Config({SVG: {font: \"STIX-Web\"}});}</script>                <script type=\"text/javascript\">window.PlotlyConfig = {MathJaxConfig: 'local'};</script>\n",
              "        <script src=\"https://cdn.plot.ly/plotly-2.8.3.min.js\"></script>                <div id=\"d7331dc9-07e7-4a6c-bcad-0cc7cb0c6baa\" class=\"plotly-graph-div\" style=\"height:525px; width:100%;\"></div>            <script type=\"text/javascript\">                                    window.PLOTLYENV=window.PLOTLYENV || {};                                    if (document.getElementById(\"d7331dc9-07e7-4a6c-bcad-0cc7cb0c6baa\")) {                    Plotly.newPlot(                        \"d7331dc9-07e7-4a6c-bcad-0cc7cb0c6baa\",                        [{\"marker\":{\"color\":\"indianred\"},\"name\":\"PAGO NORMAL\",\"text\":[4773.07,6274.22,6596.35,7196.03],\"x\":[\"2021-07-30T00:00:00\",\"2021-08-31T00:00:00\",\"2021-09-30T00:00:00\",\"2021-10-31T00:00:00\"],\"y\":[4773.070000000001,6274.222521972656,6596.35498046875,7196.032421875],\"type\":\"bar\"},{\"marker\":{\"color\":\"lightsalmon\"},\"name\":\"PAGO REDUCIDO\",\"text\":[4773.07,5646.8,5936.72,6476.43],\"x\":[\"2021-07-30T00:00:00\",\"2021-08-31T00:00:00\",\"2021-09-30T00:00:00\",\"2021-10-31T00:00:00\"],\"y\":[4773.070000000001,5646.800269775391,5936.719482421875,6476.4291796874995],\"type\":\"bar\"},{\"marker\":{\"color\":\"yellow\"},\"name\":\"PAGO INCREMENTO\",\"text\":[4773.07,6901.64,7255.99,7915.64],\"x\":[\"2021-07-30T00:00:00\",\"2021-08-31T00:00:00\",\"2021-09-30T00:00:00\",\"2021-10-31T00:00:00\"],\"y\":[4773.070000000001,6901.644774169921,7255.990478515625,7915.635664062501],\"type\":\"bar\"}],                        {\"template\":{\"data\":{\"bar\":[{\"error_x\":{\"color\":\"#2a3f5f\"},\"error_y\":{\"color\":\"#2a3f5f\"},\"marker\":{\"line\":{\"color\":\"#E5ECF6\",\"width\":0.5},\"pattern\":{\"fillmode\":\"overlay\",\"size\":10,\"solidity\":0.2}},\"type\":\"bar\"}],\"barpolar\":[{\"marker\":{\"line\":{\"color\":\"#E5ECF6\",\"width\":0.5},\"pattern\":{\"fillmode\":\"overlay\",\"size\":10,\"solidity\":0.2}},\"type\":\"barpolar\"}],\"carpet\":[{\"aaxis\":{\"endlinecolor\":\"#2a3f5f\",\"gridcolor\":\"white\",\"linecolor\":\"white\",\"minorgridcolor\":\"white\",\"startlinecolor\":\"#2a3f5f\"},\"baxis\":{\"endlinecolor\":\"#2a3f5f\",\"gridcolor\":\"white\",\"linecolor\":\"white\",\"minorgridcolor\":\"white\",\"startlinecolor\":\"#2a3f5f\"},\"type\":\"carpet\"}],\"choropleth\":[{\"colorbar\":{\"outlinewidth\":0,\"ticks\":\"\"},\"type\":\"choropleth\"}],\"contour\":[{\"colorbar\":{\"outlinewidth\":0,\"ticks\":\"\"},\"colorscale\":[[0.0,\"#0d0887\"],[0.1111111111111111,\"#46039f\"],[0.2222222222222222,\"#7201a8\"],[0.3333333333333333,\"#9c179e\"],[0.4444444444444444,\"#bd3786\"],[0.5555555555555556,\"#d8576b\"],[0.6666666666666666,\"#ed7953\"],[0.7777777777777778,\"#fb9f3a\"],[0.8888888888888888,\"#fdca26\"],[1.0,\"#f0f921\"]],\"type\":\"contour\"}],\"contourcarpet\":[{\"colorbar\":{\"outlinewidth\":0,\"ticks\":\"\"},\"type\":\"contourcarpet\"}],\"heatmap\":[{\"colorbar\":{\"outlinewidth\":0,\"ticks\":\"\"},\"colorscale\":[[0.0,\"#0d0887\"],[0.1111111111111111,\"#46039f\"],[0.2222222222222222,\"#7201a8\"],[0.3333333333333333,\"#9c179e\"],[0.4444444444444444,\"#bd3786\"],[0.5555555555555556,\"#d8576b\"],[0.6666666666666666,\"#ed7953\"],[0.7777777777777778,\"#fb9f3a\"],[0.8888888888888888,\"#fdca26\"],[1.0,\"#f0f921\"]],\"type\":\"heatmap\"}],\"heatmapgl\":[{\"colorbar\":{\"outlinewidth\":0,\"ticks\":\"\"},\"colorscale\":[[0.0,\"#0d0887\"],[0.1111111111111111,\"#46039f\"],[0.2222222222222222,\"#7201a8\"],[0.3333333333333333,\"#9c179e\"],[0.4444444444444444,\"#bd3786\"],[0.5555555555555556,\"#d8576b\"],[0.6666666666666666,\"#ed7953\"],[0.7777777777777778,\"#fb9f3a\"],[0.8888888888888888,\"#fdca26\"],[1.0,\"#f0f921\"]],\"type\":\"heatmapgl\"}],\"histogram\":[{\"marker\":{\"pattern\":{\"fillmode\":\"overlay\",\"size\":10,\"solidity\":0.2}},\"type\":\"histogram\"}],\"histogram2d\":[{\"colorbar\":{\"outlinewidth\":0,\"ticks\":\"\"},\"colorscale\":[[0.0,\"#0d0887\"],[0.1111111111111111,\"#46039f\"],[0.2222222222222222,\"#7201a8\"],[0.3333333333333333,\"#9c179e\"],[0.4444444444444444,\"#bd3786\"],[0.5555555555555556,\"#d8576b\"],[0.6666666666666666,\"#ed7953\"],[0.7777777777777778,\"#fb9f3a\"],[0.8888888888888888,\"#fdca26\"],[1.0,\"#f0f921\"]],\"type\":\"histogram2d\"}],\"histogram2dcontour\":[{\"colorbar\":{\"outlinewidth\":0,\"ticks\":\"\"},\"colorscale\":[[0.0,\"#0d0887\"],[0.1111111111111111,\"#46039f\"],[0.2222222222222222,\"#7201a8\"],[0.3333333333333333,\"#9c179e\"],[0.4444444444444444,\"#bd3786\"],[0.5555555555555556,\"#d8576b\"],[0.6666666666666666,\"#ed7953\"],[0.7777777777777778,\"#fb9f3a\"],[0.8888888888888888,\"#fdca26\"],[1.0,\"#f0f921\"]],\"type\":\"histogram2dcontour\"}],\"mesh3d\":[{\"colorbar\":{\"outlinewidth\":0,\"ticks\":\"\"},\"type\":\"mesh3d\"}],\"parcoords\":[{\"line\":{\"colorbar\":{\"outlinewidth\":0,\"ticks\":\"\"}},\"type\":\"parcoords\"}],\"pie\":[{\"automargin\":true,\"type\":\"pie\"}],\"scatter\":[{\"marker\":{\"colorbar\":{\"outlinewidth\":0,\"ticks\":\"\"}},\"type\":\"scatter\"}],\"scatter3d\":[{\"line\":{\"colorbar\":{\"outlinewidth\":0,\"ticks\":\"\"}},\"marker\":{\"colorbar\":{\"outlinewidth\":0,\"ticks\":\"\"}},\"type\":\"scatter3d\"}],\"scattercarpet\":[{\"marker\":{\"colorbar\":{\"outlinewidth\":0,\"ticks\":\"\"}},\"type\":\"scattercarpet\"}],\"scattergeo\":[{\"marker\":{\"colorbar\":{\"outlinewidth\":0,\"ticks\":\"\"}},\"type\":\"scattergeo\"}],\"scattergl\":[{\"marker\":{\"colorbar\":{\"outlinewidth\":0,\"ticks\":\"\"}},\"type\":\"scattergl\"}],\"scattermapbox\":[{\"marker\":{\"colorbar\":{\"outlinewidth\":0,\"ticks\":\"\"}},\"type\":\"scattermapbox\"}],\"scatterpolar\":[{\"marker\":{\"colorbar\":{\"outlinewidth\":0,\"ticks\":\"\"}},\"type\":\"scatterpolar\"}],\"scatterpolargl\":[{\"marker\":{\"colorbar\":{\"outlinewidth\":0,\"ticks\":\"\"}},\"type\":\"scatterpolargl\"}],\"scatterternary\":[{\"marker\":{\"colorbar\":{\"outlinewidth\":0,\"ticks\":\"\"}},\"type\":\"scatterternary\"}],\"surface\":[{\"colorbar\":{\"outlinewidth\":0,\"ticks\":\"\"},\"colorscale\":[[0.0,\"#0d0887\"],[0.1111111111111111,\"#46039f\"],[0.2222222222222222,\"#7201a8\"],[0.3333333333333333,\"#9c179e\"],[0.4444444444444444,\"#bd3786\"],[0.5555555555555556,\"#d8576b\"],[0.6666666666666666,\"#ed7953\"],[0.7777777777777778,\"#fb9f3a\"],[0.8888888888888888,\"#fdca26\"],[1.0,\"#f0f921\"]],\"type\":\"surface\"}],\"table\":[{\"cells\":{\"fill\":{\"color\":\"#EBF0F8\"},\"line\":{\"color\":\"white\"}},\"header\":{\"fill\":{\"color\":\"#C8D4E3\"},\"line\":{\"color\":\"white\"}},\"type\":\"table\"}]},\"layout\":{\"annotationdefaults\":{\"arrowcolor\":\"#2a3f5f\",\"arrowhead\":0,\"arrowwidth\":1},\"autotypenumbers\":\"strict\",\"coloraxis\":{\"colorbar\":{\"outlinewidth\":0,\"ticks\":\"\"}},\"colorscale\":{\"diverging\":[[0,\"#8e0152\"],[0.1,\"#c51b7d\"],[0.2,\"#de77ae\"],[0.3,\"#f1b6da\"],[0.4,\"#fde0ef\"],[0.5,\"#f7f7f7\"],[0.6,\"#e6f5d0\"],[0.7,\"#b8e186\"],[0.8,\"#7fbc41\"],[0.9,\"#4d9221\"],[1,\"#276419\"]],\"sequential\":[[0.0,\"#0d0887\"],[0.1111111111111111,\"#46039f\"],[0.2222222222222222,\"#7201a8\"],[0.3333333333333333,\"#9c179e\"],[0.4444444444444444,\"#bd3786\"],[0.5555555555555556,\"#d8576b\"],[0.6666666666666666,\"#ed7953\"],[0.7777777777777778,\"#fb9f3a\"],[0.8888888888888888,\"#fdca26\"],[1.0,\"#f0f921\"]],\"sequentialminus\":[[0.0,\"#0d0887\"],[0.1111111111111111,\"#46039f\"],[0.2222222222222222,\"#7201a8\"],[0.3333333333333333,\"#9c179e\"],[0.4444444444444444,\"#bd3786\"],[0.5555555555555556,\"#d8576b\"],[0.6666666666666666,\"#ed7953\"],[0.7777777777777778,\"#fb9f3a\"],[0.8888888888888888,\"#fdca26\"],[1.0,\"#f0f921\"]]},\"colorway\":[\"#636efa\",\"#EF553B\",\"#00cc96\",\"#ab63fa\",\"#FFA15A\",\"#19d3f3\",\"#FF6692\",\"#B6E880\",\"#FF97FF\",\"#FECB52\"],\"font\":{\"color\":\"#2a3f5f\"},\"geo\":{\"bgcolor\":\"white\",\"lakecolor\":\"white\",\"landcolor\":\"#E5ECF6\",\"showlakes\":true,\"showland\":true,\"subunitcolor\":\"white\"},\"hoverlabel\":{\"align\":\"left\"},\"hovermode\":\"closest\",\"mapbox\":{\"style\":\"light\"},\"paper_bgcolor\":\"white\",\"plot_bgcolor\":\"#E5ECF6\",\"polar\":{\"angularaxis\":{\"gridcolor\":\"white\",\"linecolor\":\"white\",\"ticks\":\"\"},\"bgcolor\":\"#E5ECF6\",\"radialaxis\":{\"gridcolor\":\"white\",\"linecolor\":\"white\",\"ticks\":\"\"}},\"scene\":{\"xaxis\":{\"backgroundcolor\":\"#E5ECF6\",\"gridcolor\":\"white\",\"gridwidth\":2,\"linecolor\":\"white\",\"showbackground\":true,\"ticks\":\"\",\"zerolinecolor\":\"white\"},\"yaxis\":{\"backgroundcolor\":\"#E5ECF6\",\"gridcolor\":\"white\",\"gridwidth\":2,\"linecolor\":\"white\",\"showbackground\":true,\"ticks\":\"\",\"zerolinecolor\":\"white\"},\"zaxis\":{\"backgroundcolor\":\"#E5ECF6\",\"gridcolor\":\"white\",\"gridwidth\":2,\"linecolor\":\"white\",\"showbackground\":true,\"ticks\":\"\",\"zerolinecolor\":\"white\"}},\"shapedefaults\":{\"line\":{\"color\":\"#2a3f5f\"}},\"ternary\":{\"aaxis\":{\"gridcolor\":\"white\",\"linecolor\":\"white\",\"ticks\":\"\"},\"baxis\":{\"gridcolor\":\"white\",\"linecolor\":\"white\",\"ticks\":\"\"},\"bgcolor\":\"#E5ECF6\",\"caxis\":{\"gridcolor\":\"white\",\"linecolor\":\"white\",\"ticks\":\"\"}},\"title\":{\"x\":0.05},\"xaxis\":{\"automargin\":true,\"gridcolor\":\"white\",\"linecolor\":\"white\",\"ticks\":\"\",\"title\":{\"standoff\":15},\"zerolinecolor\":\"white\",\"zerolinewidth\":2},\"yaxis\":{\"automargin\":true,\"gridcolor\":\"white\",\"linecolor\":\"white\",\"ticks\":\"\",\"title\":{\"standoff\":15},\"zerolinecolor\":\"white\",\"zerolinewidth\":2}}},\"xaxis\":{\"tickangle\":-45},\"barmode\":\"group\"},                        {\"responsive\": true}                    ).then(function(){\n",
              "                            \n",
              "var gd = document.getElementById('d7331dc9-07e7-4a6c-bcad-0cc7cb0c6baa');\n",
              "var x = new MutationObserver(function (mutations, observer) {{\n",
              "        var display = window.getComputedStyle(gd).display;\n",
              "        if (!display || display === 'none') {{\n",
              "            console.log([gd, 'removed!']);\n",
              "            Plotly.purge(gd);\n",
              "            observer.disconnect();\n",
              "        }}\n",
              "}});\n",
              "\n",
              "// Listen for the removal of the full notebook cells\n",
              "var notebookContainer = gd.closest('#notebook-container');\n",
              "if (notebookContainer) {{\n",
              "    x.observe(notebookContainer, {childList: true});\n",
              "}}\n",
              "\n",
              "// Listen for the clearing of the current output cell\n",
              "var outputEl = gd.closest('.output');\n",
              "if (outputEl) {{\n",
              "    x.observe(outputEl, {childList: true});\n",
              "}}\n",
              "\n",
              "                        })                };                            </script>        </div>\n",
              "</body>\n",
              "</html>"
            ]
          },
          "metadata": {}
        },
        {
          "output_type": "stream",
          "name": "stdout",
          "text": [
            "Report saved to ./report.html. To upload and share your report, create a free Datapane account by running `datapane signup`.\n"
          ]
        },
        {
          "output_type": "execute_result",
          "data": {
            "text/html": [
              "\n",
              "  <div id=\"df-2b138f30-4415-448c-b9c6-ecbab9a957b4\">\n",
              "    <div class=\"colab-df-container\">\n",
              "      <div>\n",
              "<style scoped>\n",
              "    .dataframe tbody tr th:only-of-type {\n",
              "        vertical-align: middle;\n",
              "    }\n",
              "\n",
              "    .dataframe tbody tr th {\n",
              "        vertical-align: top;\n",
              "    }\n",
              "\n",
              "    .dataframe thead th {\n",
              "        text-align: right;\n",
              "    }\n",
              "</style>\n",
              "<table border=\"1\" class=\"dataframe\">\n",
              "  <thead>\n",
              "    <tr style=\"text-align: right;\">\n",
              "      <th></th>\n",
              "      <th>CONSUMO_NORMAL</th>\n",
              "      <th>PAGO_NORMAL</th>\n",
              "      <th>CONSUMO_REDUCIDO</th>\n",
              "      <th>PAGO_REDUCIDO</th>\n",
              "      <th>CONSUMO_INCREMENTO</th>\n",
              "      <th>PAGO_INCREMENTO</th>\n",
              "    </tr>\n",
              "    <tr>\n",
              "      <th>Date</th>\n",
              "      <th></th>\n",
              "      <th></th>\n",
              "      <th></th>\n",
              "      <th></th>\n",
              "      <th></th>\n",
              "      <th></th>\n",
              "    </tr>\n",
              "  </thead>\n",
              "  <tbody>\n",
              "    <tr>\n",
              "      <th>2021-07-30</th>\n",
              "      <td>1539.700000</td>\n",
              "      <td>4773.070000</td>\n",
              "      <td>1539.700000</td>\n",
              "      <td>4773.070000</td>\n",
              "      <td>1539.700000</td>\n",
              "      <td>4773.070000</td>\n",
              "    </tr>\n",
              "    <tr>\n",
              "      <th>2021-08-31</th>\n",
              "      <td>2023.942749</td>\n",
              "      <td>6274.222522</td>\n",
              "      <td>1821.548474</td>\n",
              "      <td>5646.800270</td>\n",
              "      <td>2226.337024</td>\n",
              "      <td>6901.644774</td>\n",
              "    </tr>\n",
              "    <tr>\n",
              "      <th>2021-09-30</th>\n",
              "      <td>2127.856445</td>\n",
              "      <td>6596.354980</td>\n",
              "      <td>1915.070801</td>\n",
              "      <td>5936.719482</td>\n",
              "      <td>2340.642090</td>\n",
              "      <td>7255.990479</td>\n",
              "    </tr>\n",
              "    <tr>\n",
              "      <th>2021-10-31</th>\n",
              "      <td>2321.300781</td>\n",
              "      <td>7196.032422</td>\n",
              "      <td>2089.170703</td>\n",
              "      <td>6476.429180</td>\n",
              "      <td>2553.430859</td>\n",
              "      <td>7915.635664</td>\n",
              "    </tr>\n",
              "  </tbody>\n",
              "</table>\n",
              "</div>\n",
              "      <button class=\"colab-df-convert\" onclick=\"convertToInteractive('df-2b138f30-4415-448c-b9c6-ecbab9a957b4')\"\n",
              "              title=\"Convert this dataframe to an interactive table.\"\n",
              "              style=\"display:none;\">\n",
              "        \n",
              "  <svg xmlns=\"http://www.w3.org/2000/svg\" height=\"24px\"viewBox=\"0 0 24 24\"\n",
              "       width=\"24px\">\n",
              "    <path d=\"M0 0h24v24H0V0z\" fill=\"none\"/>\n",
              "    <path d=\"M18.56 5.44l.94 2.06.94-2.06 2.06-.94-2.06-.94-.94-2.06-.94 2.06-2.06.94zm-11 1L8.5 8.5l.94-2.06 2.06-.94-2.06-.94L8.5 2.5l-.94 2.06-2.06.94zm10 10l.94 2.06.94-2.06 2.06-.94-2.06-.94-.94-2.06-.94 2.06-2.06.94z\"/><path d=\"M17.41 7.96l-1.37-1.37c-.4-.4-.92-.59-1.43-.59-.52 0-1.04.2-1.43.59L10.3 9.45l-7.72 7.72c-.78.78-.78 2.05 0 2.83L4 21.41c.39.39.9.59 1.41.59.51 0 1.02-.2 1.41-.59l7.78-7.78 2.81-2.81c.8-.78.8-2.07 0-2.86zM5.41 20L4 18.59l7.72-7.72 1.47 1.35L5.41 20z\"/>\n",
              "  </svg>\n",
              "      </button>\n",
              "      \n",
              "  <style>\n",
              "    .colab-df-container {\n",
              "      display:flex;\n",
              "      flex-wrap:wrap;\n",
              "      gap: 12px;\n",
              "    }\n",
              "\n",
              "    .colab-df-convert {\n",
              "      background-color: #E8F0FE;\n",
              "      border: none;\n",
              "      border-radius: 50%;\n",
              "      cursor: pointer;\n",
              "      display: none;\n",
              "      fill: #1967D2;\n",
              "      height: 32px;\n",
              "      padding: 0 0 0 0;\n",
              "      width: 32px;\n",
              "    }\n",
              "\n",
              "    .colab-df-convert:hover {\n",
              "      background-color: #E2EBFA;\n",
              "      box-shadow: 0px 1px 2px rgba(60, 64, 67, 0.3), 0px 1px 3px 1px rgba(60, 64, 67, 0.15);\n",
              "      fill: #174EA6;\n",
              "    }\n",
              "\n",
              "    [theme=dark] .colab-df-convert {\n",
              "      background-color: #3B4455;\n",
              "      fill: #D2E3FC;\n",
              "    }\n",
              "\n",
              "    [theme=dark] .colab-df-convert:hover {\n",
              "      background-color: #434B5C;\n",
              "      box-shadow: 0px 1px 3px 1px rgba(0, 0, 0, 0.15);\n",
              "      filter: drop-shadow(0px 1px 2px rgba(0, 0, 0, 0.3));\n",
              "      fill: #FFFFFF;\n",
              "    }\n",
              "  </style>\n",
              "\n",
              "      <script>\n",
              "        const buttonEl =\n",
              "          document.querySelector('#df-2b138f30-4415-448c-b9c6-ecbab9a957b4 button.colab-df-convert');\n",
              "        buttonEl.style.display =\n",
              "          google.colab.kernel.accessAllowed ? 'block' : 'none';\n",
              "\n",
              "        async function convertToInteractive(key) {\n",
              "          const element = document.querySelector('#df-2b138f30-4415-448c-b9c6-ecbab9a957b4');\n",
              "          const dataTable =\n",
              "            await google.colab.kernel.invokeFunction('convertToInteractive',\n",
              "                                                     [key], {});\n",
              "          if (!dataTable) return;\n",
              "\n",
              "          const docLinkHtml = 'Like what you see? Visit the ' +\n",
              "            '<a target=\"_blank\" href=https://colab.research.google.com/notebooks/data_table.ipynb>data table notebook</a>'\n",
              "            + ' to learn more about interactive tables.';\n",
              "          element.innerHTML = '';\n",
              "          dataTable['output_type'] = 'display_data';\n",
              "          await google.colab.output.renderOutput(dataTable, element);\n",
              "          const docLink = document.createElement('div');\n",
              "          docLink.innerHTML = docLinkHtml;\n",
              "          element.appendChild(docLink);\n",
              "        }\n",
              "      </script>\n",
              "    </div>\n",
              "  </div>\n",
              "  "
            ],
            "text/plain": [
              "            CONSUMO_NORMAL  PAGO_NORMAL  ...  CONSUMO_INCREMENTO  PAGO_INCREMENTO\n",
              "Date                                     ...                                     \n",
              "2021-07-30     1539.700000  4773.070000  ...         1539.700000      4773.070000\n",
              "2021-08-31     2023.942749  6274.222522  ...         2226.337024      6901.644774\n",
              "2021-09-30     2127.856445  6596.354980  ...         2340.642090      7255.990479\n",
              "2021-10-31     2321.300781  7196.032422  ...         2553.430859      7915.635664\n",
              "\n",
              "[4 rows x 6 columns]"
            ]
          },
          "metadata": {},
          "execution_count": 38
        }
      ],
      "source": [
        "new_prediction(model_ades,usuario=2)"
      ]
    },
    {
      "cell_type": "markdown",
      "source": [
        "# Prediccion por sectores"
      ],
      "metadata": {
        "id": "DpJBC7uXEiyC"
      }
    },
    {
      "cell_type": "code",
      "source": [
        "#Metodo para mapear todos los sectores dentro de la data\n",
        "def append_sectors():\n",
        "  sectores_users = {}\n",
        "  for sector in sectores:\n",
        "    name_arr_sector = sector+'_users'\n",
        "    name_arr_sector = []\n",
        "    [name_arr_sector.append(df_cpu_pivot.columns.get_loc(usuario)) for usuario, sector_user in dict.items() if sector == sector_user]\n",
        "    if not sector in sectores_users:\n",
        "      sectores_users.update({sector:name_arr_sector})\n",
        "  return sectores_users"
      ],
      "metadata": {
        "id": "Yx8m9_oBaVmw"
      },
      "execution_count": 39,
      "outputs": []
    },
    {
      "cell_type": "code",
      "source": [
        "def new_prediction_sector(model, usuario,pago_mensual=3.10,descuento=0.10):\n",
        "  x_input = df_cpu_pivot.iloc[len(df_cpu_pivot)-LOOK_BACK:len(df_cpu_pivot),1:].values\n",
        "  x_input=scaler.transform(x_input)\n",
        "  x_input = x_input.reshape((1, LOOK_BACK, len(df_cpu_pivot.columns)-1))\n",
        "  yhat = model.predict(x_input, verbose=0)\n",
        "  yhat = yhat.reshape(-1, yhat.shape[-1])\n",
        "  yhat = pd.DataFrame(scaler.inverse_transform(yhat))\n",
        "  historial,prediccion,nombre,df_all_predict=formating_samples(yhat,usuario)\n",
        "  return prediccion,historial"
      ],
      "metadata": {
        "id": "Y5wpA9T27gp7"
      },
      "execution_count": 40,
      "outputs": []
    },
    {
      "cell_type": "code",
      "source": [
        "from functools import reduce\n",
        "def sum_predict_sectors(list_users):\n",
        "  predicciones = []\n",
        "  historial_df = []\n",
        "  for i in list_users:\n",
        "    prediction,historial = new_prediction_sector(model_kronos,i)\n",
        "    predicciones.append(prediction)\n",
        "  summatory_df = reduce(lambda x, y: x.add(y, fill_value=0), predicciones)\n",
        "  [historial_df.append(historial.columns[usuario]) for usuario in list_users]\n",
        "  history_values = df_cpu_pivot[historial_df]\n",
        "  summatory_historial = history_values.sum(axis=1)\n",
        "  summatory_historial = pd.DataFrame(summatory_historial).rename(columns={0:'HISTORIAL'})\n",
        "  return summatory_df,summatory_historial"
      ],
      "metadata": {
        "id": "W3HlwYnb2nZY"
      },
      "execution_count": 55,
      "outputs": []
    },
    {
      "cell_type": "code",
      "source": [
        "def graph_sectors(sec_predictions):\n",
        "  layout = go.Layout(\n",
        "  title = 'Consumo de agua en '+str(sectores)+' proyeccion '+str(FORECAST_RANGE)+' meses',\n",
        "  xaxis = {'title' : 'Linea de tiempo'},\n",
        "  yaxis = {'title' : 'Consumo (m3)'},\n",
        "  hovermode='x unified'\n",
        "  )\n",
        "  data = []\n",
        "  for clave,valor in sec_predictions.items():\n",
        "    nombre= str(clave)\n",
        "    clave = go.Scatter(\n",
        "    x = valor[0].index,\n",
        "    y = valor[0]['CONSUMO_NORMAL'],\n",
        "    mode = 'lines',\n",
        "    name = nombre +'_Prediccion',\n",
        "    fillcolor = 'green'\n",
        "    )\n",
        "    name_hist= nombre+'_Historial'\n",
        "    name_hist = go.Scatter(\n",
        "    x = df_cpu_pivot.Date,\n",
        "    y = valor[1]['HISTORIAL'],\n",
        "    mode = 'lines',\n",
        "    name = name_hist,\n",
        "    fillcolor = 'red'\n",
        "    )\n",
        "    data.append(clave)\n",
        "    data.append(name_hist)\n",
        "  fig_sectores = go.Figure(data=data, layout=layout)\n",
        "  fig_sectores.show()"
      ],
      "metadata": {
        "id": "N_srXhTKWIdI"
      },
      "execution_count": 116,
      "outputs": []
    },
    {
      "cell_type": "code",
      "source": [
        "sectores_users=append_sectors()\n",
        "for clave,valor in sectores_users.items():  \n",
        "  sectores_users.update({clave:sum_predict_sectors(valor)})\n",
        "graph_sectors(sectores_users)\n"
      ],
      "metadata": {
        "id": "qtxAIsk58AA7",
        "colab": {
          "base_uri": "https://localhost:8080/",
          "height": 1000
        },
        "outputId": "7d23514c-0e33-440d-954d-20bfe82a0375"
      },
      "execution_count": 117,
      "outputs": [
        {
          "output_type": "stream",
          "name": "stderr",
          "text": [
            "/usr/local/lib/python3.7/dist-packages/sklearn/base.py:451: UserWarning:\n",
            "\n",
            "X does not have valid feature names, but MinMaxScaler was fitted with feature names\n",
            "\n",
            "/usr/local/lib/python3.7/dist-packages/sklearn/base.py:451: UserWarning:\n",
            "\n",
            "X does not have valid feature names, but MinMaxScaler was fitted with feature names\n",
            "\n",
            "/usr/local/lib/python3.7/dist-packages/sklearn/base.py:451: UserWarning:\n",
            "\n",
            "X does not have valid feature names, but MinMaxScaler was fitted with feature names\n",
            "\n",
            "/usr/local/lib/python3.7/dist-packages/sklearn/base.py:451: UserWarning:\n",
            "\n",
            "X does not have valid feature names, but MinMaxScaler was fitted with feature names\n",
            "\n",
            "/usr/local/lib/python3.7/dist-packages/sklearn/base.py:451: UserWarning:\n",
            "\n",
            "X does not have valid feature names, but MinMaxScaler was fitted with feature names\n",
            "\n",
            "/usr/local/lib/python3.7/dist-packages/sklearn/base.py:451: UserWarning:\n",
            "\n",
            "X does not have valid feature names, but MinMaxScaler was fitted with feature names\n",
            "\n",
            "/usr/local/lib/python3.7/dist-packages/sklearn/base.py:451: UserWarning:\n",
            "\n",
            "X does not have valid feature names, but MinMaxScaler was fitted with feature names\n",
            "\n",
            "/usr/local/lib/python3.7/dist-packages/sklearn/base.py:451: UserWarning:\n",
            "\n",
            "X does not have valid feature names, but MinMaxScaler was fitted with feature names\n",
            "\n",
            "/usr/local/lib/python3.7/dist-packages/sklearn/base.py:451: UserWarning:\n",
            "\n",
            "X does not have valid feature names, but MinMaxScaler was fitted with feature names\n",
            "\n",
            "/usr/local/lib/python3.7/dist-packages/sklearn/base.py:451: UserWarning:\n",
            "\n",
            "X does not have valid feature names, but MinMaxScaler was fitted with feature names\n",
            "\n",
            "/usr/local/lib/python3.7/dist-packages/sklearn/base.py:451: UserWarning:\n",
            "\n",
            "X does not have valid feature names, but MinMaxScaler was fitted with feature names\n",
            "\n",
            "/usr/local/lib/python3.7/dist-packages/sklearn/base.py:451: UserWarning:\n",
            "\n",
            "X does not have valid feature names, but MinMaxScaler was fitted with feature names\n",
            "\n",
            "/usr/local/lib/python3.7/dist-packages/sklearn/base.py:451: UserWarning:\n",
            "\n",
            "X does not have valid feature names, but MinMaxScaler was fitted with feature names\n",
            "\n",
            "/usr/local/lib/python3.7/dist-packages/sklearn/base.py:451: UserWarning:\n",
            "\n",
            "X does not have valid feature names, but MinMaxScaler was fitted with feature names\n",
            "\n",
            "/usr/local/lib/python3.7/dist-packages/sklearn/base.py:451: UserWarning:\n",
            "\n",
            "X does not have valid feature names, but MinMaxScaler was fitted with feature names\n",
            "\n",
            "/usr/local/lib/python3.7/dist-packages/sklearn/base.py:451: UserWarning:\n",
            "\n",
            "X does not have valid feature names, but MinMaxScaler was fitted with feature names\n",
            "\n",
            "/usr/local/lib/python3.7/dist-packages/sklearn/base.py:451: UserWarning:\n",
            "\n",
            "X does not have valid feature names, but MinMaxScaler was fitted with feature names\n",
            "\n",
            "/usr/local/lib/python3.7/dist-packages/sklearn/base.py:451: UserWarning:\n",
            "\n",
            "X does not have valid feature names, but MinMaxScaler was fitted with feature names\n",
            "\n"
          ]
        },
        {
          "output_type": "display_data",
          "data": {
            "text/html": [
              "<html>\n",
              "<head><meta charset=\"utf-8\" /></head>\n",
              "<body>\n",
              "    <div>            <script src=\"https://cdnjs.cloudflare.com/ajax/libs/mathjax/2.7.5/MathJax.js?config=TeX-AMS-MML_SVG\"></script><script type=\"text/javascript\">if (window.MathJax) {MathJax.Hub.Config({SVG: {font: \"STIX-Web\"}});}</script>                <script type=\"text/javascript\">window.PlotlyConfig = {MathJaxConfig: 'local'};</script>\n",
              "        <script src=\"https://cdn.plot.ly/plotly-2.8.3.min.js\"></script>                <div id=\"01a3bf49-fcd7-4178-b0ab-e3462be95e67\" class=\"plotly-graph-div\" style=\"height:525px; width:100%;\"></div>            <script type=\"text/javascript\">                                    window.PLOTLYENV=window.PLOTLYENV || {};                                    if (document.getElementById(\"01a3bf49-fcd7-4178-b0ab-e3462be95e67\")) {                    Plotly.newPlot(                        \"01a3bf49-fcd7-4178-b0ab-e3462be95e67\",                        [{\"fillcolor\":\"green\",\"mode\":\"lines\",\"name\":\"Totoracocha_Prediccion\",\"x\":[\"2021-07-30T00:00:00\",\"2021-08-31T00:00:00\",\"2021-09-30T00:00:00\",\"2021-10-31T00:00:00\"],\"y\":[28847195.299999997,32260035.541748047,28577105.881469727,29386238.830322266],\"type\":\"scatter\"},{\"fillcolor\":\"red\",\"mode\":\"lines\",\"name\":\"Totoracocha_Historial\",\"x\":[\"1990-01-31T00:00:00\",\"1990-02-28T00:00:00\",\"1990-03-30T00:00:00\",\"1990-04-30T00:00:00\",\"1990-05-31T00:00:00\",\"1990-06-29T00:00:00\",\"1990-07-31T00:00:00\",\"1990-08-31T00:00:00\",\"1990-09-28T00:00:00\",\"1990-10-31T00:00:00\",\"1990-11-30T00:00:00\",\"1990-12-31T00:00:00\",\"1991-01-31T00:00:00\",\"1991-02-28T00:00:00\",\"1991-03-29T00:00:00\",\"1991-04-30T00:00:00\",\"1991-05-31T00:00:00\",\"1991-06-28T00:00:00\",\"1991-07-31T00:00:00\",\"1991-08-30T00:00:00\",\"1991-09-30T00:00:00\",\"1991-10-31T00:00:00\",\"1991-11-29T00:00:00\",\"1991-12-31T00:00:00\",\"1992-01-31T00:00:00\",\"1992-02-28T00:00:00\",\"1992-03-31T00:00:00\",\"1992-04-30T00:00:00\",\"1992-05-29T00:00:00\",\"1992-06-30T00:00:00\",\"1992-07-31T00:00:00\",\"1992-08-31T00:00:00\",\"1992-09-30T00:00:00\",\"1992-10-30T00:00:00\",\"1992-11-30T00:00:00\",\"1992-12-31T00:00:00\",\"1993-01-29T00:00:00\",\"1993-02-26T00:00:00\",\"1993-03-31T00:00:00\",\"1993-04-30T00:00:00\",\"1993-05-31T00:00:00\",\"1993-06-30T00:00:00\",\"1993-07-30T00:00:00\",\"1993-08-31T00:00:00\",\"1993-09-30T00:00:00\",\"1993-10-29T00:00:00\",\"1993-11-30T00:00:00\",\"1993-12-31T00:00:00\",\"1994-01-31T00:00:00\",\"1994-02-28T00:00:00\",\"1994-03-31T00:00:00\",\"1994-04-29T00:00:00\",\"1994-05-31T00:00:00\",\"1994-06-30T00:00:00\",\"1994-07-29T00:00:00\",\"1994-08-31T00:00:00\",\"1994-09-30T00:00:00\",\"1994-10-31T00:00:00\",\"1994-11-30T00:00:00\",\"1994-12-30T00:00:00\",\"1995-01-31T00:00:00\",\"1995-02-28T00:00:00\",\"1995-03-31T00:00:00\",\"1995-04-28T00:00:00\",\"1995-05-31T00:00:00\",\"1995-06-30T00:00:00\",\"1995-07-31T00:00:00\",\"1995-08-31T00:00:00\",\"1995-09-29T00:00:00\",\"1995-10-31T00:00:00\",\"1995-11-30T00:00:00\",\"1995-12-29T00:00:00\",\"1996-01-31T00:00:00\",\"1996-02-29T00:00:00\",\"1996-03-29T00:00:00\",\"1996-04-30T00:00:00\",\"1996-05-31T00:00:00\",\"1996-06-28T00:00:00\",\"1996-07-31T00:00:00\",\"1996-08-30T00:00:00\",\"1996-09-30T00:00:00\",\"1996-10-31T00:00:00\",\"1996-11-29T00:00:00\",\"1996-12-31T00:00:00\",\"1997-01-31T00:00:00\",\"1997-02-28T00:00:00\",\"1997-03-31T00:00:00\",\"1997-04-30T00:00:00\",\"1997-05-30T00:00:00\",\"1997-06-30T00:00:00\",\"1997-07-31T00:00:00\",\"1997-08-29T00:00:00\",\"1997-09-30T00:00:00\",\"1997-10-31T00:00:00\",\"1997-11-28T00:00:00\",\"1997-12-31T00:00:00\",\"1998-01-30T00:00:00\",\"1998-02-27T00:00:00\",\"1998-03-31T00:00:00\",\"1998-04-30T00:00:00\",\"1998-05-29T00:00:00\",\"1998-06-30T00:00:00\",\"1998-07-31T00:00:00\",\"1998-08-31T00:00:00\",\"1998-09-30T00:00:00\",\"1998-10-30T00:00:00\",\"1998-11-30T00:00:00\",\"1998-12-31T00:00:00\",\"1999-01-29T00:00:00\",\"1999-02-26T00:00:00\",\"1999-03-31T00:00:00\",\"1999-04-30T00:00:00\",\"1999-05-31T00:00:00\",\"1999-06-30T00:00:00\",\"1999-07-30T00:00:00\",\"1999-08-31T00:00:00\",\"1999-09-30T00:00:00\",\"1999-10-29T00:00:00\",\"1999-11-30T00:00:00\",\"1999-12-31T00:00:00\",\"2000-01-31T00:00:00\",\"2000-02-29T00:00:00\",\"2000-03-31T00:00:00\",\"2000-04-28T00:00:00\",\"2000-05-31T00:00:00\",\"2000-06-30T00:00:00\",\"2000-07-31T00:00:00\",\"2000-08-31T00:00:00\",\"2000-09-29T00:00:00\",\"2000-10-31T00:00:00\",\"2000-11-30T00:00:00\",\"2000-12-29T00:00:00\",\"2001-01-31T00:00:00\",\"2001-02-28T00:00:00\",\"2001-03-30T00:00:00\",\"2001-04-30T00:00:00\",\"2001-05-31T00:00:00\",\"2001-06-29T00:00:00\",\"2001-07-31T00:00:00\",\"2001-08-31T00:00:00\",\"2001-09-28T00:00:00\",\"2001-10-31T00:00:00\",\"2001-11-30T00:00:00\",\"2001-12-31T00:00:00\",\"2002-01-31T00:00:00\",\"2002-02-28T00:00:00\",\"2002-03-29T00:00:00\",\"2002-04-30T00:00:00\",\"2002-05-31T00:00:00\",\"2002-06-28T00:00:00\",\"2002-07-31T00:00:00\",\"2002-08-30T00:00:00\",\"2002-09-30T00:00:00\",\"2002-10-31T00:00:00\",\"2002-11-29T00:00:00\",\"2002-12-31T00:00:00\",\"2003-01-31T00:00:00\",\"2003-02-28T00:00:00\",\"2003-03-31T00:00:00\",\"2003-04-30T00:00:00\",\"2003-05-30T00:00:00\",\"2003-06-30T00:00:00\",\"2003-07-31T00:00:00\",\"2003-08-29T00:00:00\",\"2003-09-30T00:00:00\",\"2003-10-31T00:00:00\",\"2003-11-28T00:00:00\",\"2003-12-31T00:00:00\",\"2004-01-30T00:00:00\",\"2004-02-27T00:00:00\",\"2004-03-31T00:00:00\",\"2004-04-30T00:00:00\",\"2004-05-31T00:00:00\",\"2004-06-30T00:00:00\",\"2004-07-30T00:00:00\",\"2004-08-31T00:00:00\",\"2004-09-30T00:00:00\",\"2004-10-29T00:00:00\",\"2004-11-30T00:00:00\",\"2004-12-31T00:00:00\",\"2005-01-31T00:00:00\",\"2005-02-28T00:00:00\",\"2005-03-31T00:00:00\",\"2005-04-29T00:00:00\",\"2005-05-31T00:00:00\",\"2005-06-30T00:00:00\",\"2005-07-29T00:00:00\",\"2005-08-31T00:00:00\",\"2005-09-30T00:00:00\",\"2005-10-31T00:00:00\",\"2005-11-30T00:00:00\",\"2005-12-30T00:00:00\",\"2006-01-31T00:00:00\",\"2006-02-28T00:00:00\",\"2006-03-31T00:00:00\",\"2006-04-28T00:00:00\",\"2006-05-31T00:00:00\",\"2006-06-30T00:00:00\",\"2006-07-31T00:00:00\",\"2006-08-31T00:00:00\",\"2006-09-29T00:00:00\",\"2006-10-31T00:00:00\",\"2006-11-30T00:00:00\",\"2006-12-29T00:00:00\",\"2007-01-31T00:00:00\",\"2007-02-28T00:00:00\",\"2007-03-30T00:00:00\",\"2007-04-30T00:00:00\",\"2007-05-31T00:00:00\",\"2007-06-29T00:00:00\",\"2007-07-31T00:00:00\",\"2007-08-31T00:00:00\",\"2007-09-28T00:00:00\",\"2007-10-31T00:00:00\",\"2007-11-30T00:00:00\",\"2007-12-31T00:00:00\",\"2008-01-31T00:00:00\",\"2008-02-29T00:00:00\",\"2008-03-31T00:00:00\",\"2008-04-30T00:00:00\",\"2008-05-30T00:00:00\",\"2008-06-30T00:00:00\",\"2008-07-31T00:00:00\",\"2008-08-29T00:00:00\",\"2008-09-30T00:00:00\",\"2008-10-31T00:00:00\",\"2008-11-28T00:00:00\",\"2008-12-31T00:00:00\",\"2009-01-30T00:00:00\",\"2009-02-27T00:00:00\",\"2009-03-31T00:00:00\",\"2009-04-30T00:00:00\",\"2009-05-29T00:00:00\",\"2009-06-30T00:00:00\",\"2009-07-31T00:00:00\",\"2009-08-31T00:00:00\",\"2009-09-30T00:00:00\",\"2009-10-30T00:00:00\",\"2009-11-30T00:00:00\",\"2009-12-31T00:00:00\",\"2010-01-29T00:00:00\",\"2010-02-26T00:00:00\",\"2010-03-31T00:00:00\",\"2010-04-30T00:00:00\",\"2010-05-31T00:00:00\",\"2010-06-30T00:00:00\",\"2010-07-30T00:00:00\",\"2010-08-31T00:00:00\",\"2010-09-30T00:00:00\",\"2010-10-29T00:00:00\",\"2010-11-30T00:00:00\",\"2010-12-31T00:00:00\",\"2011-01-31T00:00:00\",\"2011-02-28T00:00:00\",\"2011-03-31T00:00:00\",\"2011-04-29T00:00:00\",\"2011-05-31T00:00:00\",\"2011-06-30T00:00:00\",\"2011-07-29T00:00:00\",\"2011-08-31T00:00:00\",\"2011-09-30T00:00:00\",\"2011-10-31T00:00:00\",\"2011-11-30T00:00:00\",\"2011-12-30T00:00:00\",\"2012-01-31T00:00:00\",\"2012-02-29T00:00:00\",\"2012-03-30T00:00:00\",\"2012-04-30T00:00:00\",\"2012-05-31T00:00:00\",\"2012-06-29T00:00:00\",\"2012-07-31T00:00:00\",\"2012-08-31T00:00:00\",\"2012-09-28T00:00:00\",\"2012-10-31T00:00:00\",\"2012-11-30T00:00:00\",\"2012-12-31T00:00:00\",\"2013-01-31T00:00:00\",\"2013-02-28T00:00:00\",\"2013-03-29T00:00:00\",\"2013-04-30T00:00:00\",\"2013-05-31T00:00:00\",\"2013-06-28T00:00:00\",\"2013-07-31T00:00:00\",\"2013-08-30T00:00:00\",\"2013-09-30T00:00:00\",\"2013-10-31T00:00:00\",\"2013-11-29T00:00:00\",\"2013-12-31T00:00:00\",\"2014-01-31T00:00:00\",\"2014-02-28T00:00:00\",\"2014-03-31T00:00:00\",\"2014-04-30T00:00:00\",\"2014-05-30T00:00:00\",\"2014-06-30T00:00:00\",\"2014-07-31T00:00:00\",\"2014-08-29T00:00:00\",\"2014-09-30T00:00:00\",\"2014-10-31T00:00:00\",\"2014-11-28T00:00:00\",\"2014-12-31T00:00:00\",\"2015-01-30T00:00:00\",\"2015-02-27T00:00:00\",\"2015-03-31T00:00:00\",\"2015-04-30T00:00:00\",\"2015-05-29T00:00:00\",\"2015-06-30T00:00:00\",\"2015-07-31T00:00:00\",\"2015-08-31T00:00:00\",\"2015-09-30T00:00:00\",\"2015-10-30T00:00:00\",\"2015-11-30T00:00:00\",\"2015-12-31T00:00:00\",\"2016-01-29T00:00:00\",\"2016-02-29T00:00:00\",\"2016-03-31T00:00:00\",\"2016-04-29T00:00:00\",\"2016-05-31T00:00:00\",\"2016-06-30T00:00:00\",\"2016-07-29T00:00:00\",\"2016-08-31T00:00:00\",\"2016-09-30T00:00:00\",\"2016-10-31T00:00:00\",\"2016-11-30T00:00:00\",\"2016-12-30T00:00:00\",\"2017-01-31T00:00:00\",\"2017-02-28T00:00:00\",\"2017-03-31T00:00:00\",\"2017-04-28T00:00:00\",\"2017-05-31T00:00:00\",\"2017-06-30T00:00:00\",\"2017-07-31T00:00:00\",\"2017-08-31T00:00:00\",\"2017-09-29T00:00:00\",\"2017-10-31T00:00:00\",\"2017-11-30T00:00:00\",\"2017-12-29T00:00:00\",\"2018-01-31T00:00:00\",\"2018-02-28T00:00:00\",\"2018-03-30T00:00:00\",\"2018-04-30T00:00:00\",\"2018-05-31T00:00:00\",\"2018-06-29T00:00:00\",\"2018-07-31T00:00:00\",\"2018-08-31T00:00:00\",\"2018-09-28T00:00:00\",\"2018-10-31T00:00:00\",\"2018-11-30T00:00:00\",\"2018-12-31T00:00:00\",\"2019-01-31T00:00:00\",\"2019-02-28T00:00:00\",\"2019-03-29T00:00:00\",\"2019-04-30T00:00:00\",\"2019-05-31T00:00:00\",\"2019-06-28T00:00:00\",\"2019-07-31T00:00:00\",\"2019-08-30T00:00:00\",\"2019-09-30T00:00:00\",\"2019-10-31T00:00:00\",\"2019-11-29T00:00:00\",\"2019-12-31T00:00:00\",\"2020-01-31T00:00:00\",\"2020-02-28T00:00:00\",\"2020-03-31T00:00:00\",\"2020-04-30T00:00:00\",\"2020-05-29T00:00:00\",\"2020-06-30T00:00:00\",\"2020-07-31T00:00:00\",\"2020-08-31T00:00:00\",\"2020-09-30T00:00:00\",\"2020-10-30T00:00:00\",\"2020-11-30T00:00:00\",\"2020-12-31T00:00:00\",\"2021-01-29T00:00:00\",\"2021-02-26T00:00:00\",\"2021-03-31T00:00:00\",\"2021-04-30T00:00:00\",\"2021-05-31T00:00:00\",\"2021-06-30T00:00:00\",\"2021-07-30T00:00:00\"],\"y\":[1106792.2,1108434.0,984445.0,1002676.2000000001,1004462.1000000001,963974.1,1018097.1,1085395.9000000001,1116285.3,1066482.2,1076271.8999999997,1093268.6,1024634.0000000001,1035957.5,1028003.8,997383.4,1042184.8999999999,1057258.9,1038311.4000000001,1006461.9,1023554.9,1025847.4,1081544.4,1034683.1999999998,1036792.2000000002,1047325.2999999999,1017042.2999999999,1002618.3,997506.7,1029588.8000000002,1076766.7,1022352.7,1048020.8000000002,1025665.5000000002,1008783.2000000002,1004852.7,1020561.9,999442.5,1015707.6,1076484.4000000001,1142559.5000000002,1167841.2000000002,1226822.8999999997,1143185.0,1103926.6,1137050.0999999999,1144205.9000000001,1201859.9,1164732.0,1185368.0000000002,1212181.4000000001,1172693.3,1211030.4000000001,1203171.8,1197174.9,1204915.2999999998,1232935.0,1195330.0999999999,1195737.6,1201586.0,1182526.9000000001,1186382.2999999998,1232790.5,1219022.4000000001,1198029.3999999997,1207027.0999999999,1198905.1,1218322.7,1221714.3,1219555.3,1242716.4000000001,1243912.5,1311038.9999999998,1303449.7,1298349.0,1276478.4999999998,1280335.4000000001,1259903.2000000002,1279541.4999999998,1282864.4999999998,1254059.4000000001,1259748.9,1239375.1,1246037.9,1179127.7,1231170.6,1208436.0,1190483.1,1206231.5,1165836.7,1201102.5,1311869.9999999998,1450150.7,1481132.2,1487054.2,2145662.3,3728063.9,3175639.8,3080254.0,2985237.1,3791083.1999999997,4853646.3,4215128.3,3488866.7000000007,3612323.8,2659671.2,2609995.7000000007,2684674.8000000003,2941060.5000000005,2940542.9,2818266.4999999995,2710349.7,2537547.1000000006,2147332.9,2101021.1,2300963.8,2913964.4000000004,2450974.1999999997,2516564.5999999996,2423540.4000000004,2469065.3,2564028.8,2447399.8,2532959.0,2693850.3000000003,2893190.8,2821747.1,2659138.3999999994,2755477.9000000004,2824954.4999999995,2942578.0999999996,3053798.5000000005,2881832.6,3012833.5999999996,3079285.2,3451566.5000000005,3370649.9000000004,3488268.4999999995,2924665.4000000004,2821169.0000000005,3286279.5999999996,3336377.599999999,3288839.6000000006,3296887.3000000003,3342897.8999999994,3468939.4,3424580.9000000004,3337526.2,3305972.4000000004,3220065.8,3182715.4,3206415.3,3372888.0,3373950.0999999996,3312996.0,3586114.3000000003,3758815.9,3568023.1000000006,3465157.8000000003,3394802.6999999997,3508606.8,3334473.4999999995,3506262.5999999996,3700294.6999999997,3774020.1,3808315.9,3938009.0,4075183.9,3920342.6,3882912.5,4187182.0,3937723.1999999997,4176527.0,4249782.7,4104442.8000000007,4360795.6,4361206.4,4423861.700000001,4633313.9,4568144.3,4374209.100000001,4543703.300000001,4557155.300000001,4674977.500000001,4431927.500000001,4797035.2,4725090.7,4991699.5,5449178.2,5338897.799999999,5577576.199999999,5662700.0,5991930.600000001,5747224.1,5961914.200000001,6385545.199999999,6777867.6,6376221.399999999,6455765.5,6386126.700000001,6206272.799999999,6181001.9,6644617.7,6387912.499999999,6652069.3,6810995.499999999,6781216.600000001,6902776.5,6551665.200000002,6599426.000000001,6871495.9,7060535.2,7606162.7,8032405.4,8197957.500000001,8755391.5,9562592.2,9877645.900000002,9665805.1,9048127.000000002,9309622.9,9705189.3,9432926.700000001,8670890.200000003,9557361.999999998,9028417.2,11122512.8,10710696.8,11875726.899999999,13021871.0,12008645.999999998,10626106.399999999,11416445.6,10877602.200000001,10620449.299999999,10972515.4,10946978.600000003,11319236.600000001,12656263.200000001,11650550.299999999,11500125.300000003,11796725.8,11583317.8,12118029.0,12713312.700000001,12982138.200000001,12014878.2,12929389.499999998,13339163.200000003,13736979.799999999,14297721.1,14452025.900000002,13680189.700000001,14236058.2,14309523.1,15006047.2,14984819.800000003,14725220.8,15780069.4,17650261.099999998,16368484.3,17386760.900000002,18139715.3,15854668.9,17872444.599999998,18190177.399999995,17319093.5,17269780.099999998,16700156.300000003,17067813.400000002,17409348.5,17816185.1,19212720.7,18624623.400000002,18671953.799999997,17989700.799999997,18277539.5,17310909.7,17553532.700000003,16129577.999999998,15460275.8,13383799.599999998,15197086.3,17003735.5,16998527.500000004,16540581.5,16521910.700000001,16133385.3,16822342.800000004,17035628.899999995,16264479.699999997,16441980.500000002,16082951.1,17137038.2,16414994.700000001,16558795.699999997,16318907.299999999,15519934.600000001,15961876.100000001,16485707.700000001,17573932.1,17248531.299999997,17058390.8,16784223.6,17303969.099999998,17141231.3,16356984.999999998,17507969.999999996,17854840.5,17158346.499999996,16129386.099999998,16061127.600000001,16865390.6,18271222.3,18047003.7,18650842.9,18227408.1,19204283.099999998,19316099.099999998,19058122.700000007,18945763.7,18278251.3,17575123.2,17050829.099999998,17840162.3,18403991.900000002,18219866.7,18565627.399999995,18525234.699999996,18216467.8,18547610.2,19227774.5,18997668.099999998,18895037.6,18953168.1,19142913.700000003,19692224.700000003,19785266.2,19877376.599999998,19916121.400000002,19787377.6,19550545.0,19205341.299999997,19280398.0,19237976.3,20090431.700000007,19014307.0,20061838.299999997,20207495.300000004,20290594.8,20161985.700000007,20014229.5,20275606.4,21792270.299999997,21963402.6,23812822.3,23136175.299999993,23246434.099999998,22591531.3,23058781.099999994,23814471.099999998,25352271.4,28506450.099999994,27724813.6,27723250.4,27715954.3,31392131.400000002,31190918.6,30632204.1,30000947.2,27155416.400000002,28907477.9,28569100.499999996,27093374.000000004,26792276.1,27827002.799999997,29592329.8,27881811.300000004,28847195.299999997],\"type\":\"scatter\"},{\"fillcolor\":\"green\",\"mode\":\"lines\",\"name\":\"Ricaurte_Prediccion\",\"x\":[\"2021-07-30T00:00:00\",\"2021-08-31T00:00:00\",\"2021-09-30T00:00:00\",\"2021-10-31T00:00:00\"],\"y\":[42071317.3,49039555.22717285,44342968.29211426,45705719.33642578],\"type\":\"scatter\"},{\"fillcolor\":\"red\",\"mode\":\"lines\",\"name\":\"Ricaurte_Historial\",\"x\":[\"1990-01-31T00:00:00\",\"1990-02-28T00:00:00\",\"1990-03-30T00:00:00\",\"1990-04-30T00:00:00\",\"1990-05-31T00:00:00\",\"1990-06-29T00:00:00\",\"1990-07-31T00:00:00\",\"1990-08-31T00:00:00\",\"1990-09-28T00:00:00\",\"1990-10-31T00:00:00\",\"1990-11-30T00:00:00\",\"1990-12-31T00:00:00\",\"1991-01-31T00:00:00\",\"1991-02-28T00:00:00\",\"1991-03-29T00:00:00\",\"1991-04-30T00:00:00\",\"1991-05-31T00:00:00\",\"1991-06-28T00:00:00\",\"1991-07-31T00:00:00\",\"1991-08-30T00:00:00\",\"1991-09-30T00:00:00\",\"1991-10-31T00:00:00\",\"1991-11-29T00:00:00\",\"1991-12-31T00:00:00\",\"1992-01-31T00:00:00\",\"1992-02-28T00:00:00\",\"1992-03-31T00:00:00\",\"1992-04-30T00:00:00\",\"1992-05-29T00:00:00\",\"1992-06-30T00:00:00\",\"1992-07-31T00:00:00\",\"1992-08-31T00:00:00\",\"1992-09-30T00:00:00\",\"1992-10-30T00:00:00\",\"1992-11-30T00:00:00\",\"1992-12-31T00:00:00\",\"1993-01-29T00:00:00\",\"1993-02-26T00:00:00\",\"1993-03-31T00:00:00\",\"1993-04-30T00:00:00\",\"1993-05-31T00:00:00\",\"1993-06-30T00:00:00\",\"1993-07-30T00:00:00\",\"1993-08-31T00:00:00\",\"1993-09-30T00:00:00\",\"1993-10-29T00:00:00\",\"1993-11-30T00:00:00\",\"1993-12-31T00:00:00\",\"1994-01-31T00:00:00\",\"1994-02-28T00:00:00\",\"1994-03-31T00:00:00\",\"1994-04-29T00:00:00\",\"1994-05-31T00:00:00\",\"1994-06-30T00:00:00\",\"1994-07-29T00:00:00\",\"1994-08-31T00:00:00\",\"1994-09-30T00:00:00\",\"1994-10-31T00:00:00\",\"1994-11-30T00:00:00\",\"1994-12-30T00:00:00\",\"1995-01-31T00:00:00\",\"1995-02-28T00:00:00\",\"1995-03-31T00:00:00\",\"1995-04-28T00:00:00\",\"1995-05-31T00:00:00\",\"1995-06-30T00:00:00\",\"1995-07-31T00:00:00\",\"1995-08-31T00:00:00\",\"1995-09-29T00:00:00\",\"1995-10-31T00:00:00\",\"1995-11-30T00:00:00\",\"1995-12-29T00:00:00\",\"1996-01-31T00:00:00\",\"1996-02-29T00:00:00\",\"1996-03-29T00:00:00\",\"1996-04-30T00:00:00\",\"1996-05-31T00:00:00\",\"1996-06-28T00:00:00\",\"1996-07-31T00:00:00\",\"1996-08-30T00:00:00\",\"1996-09-30T00:00:00\",\"1996-10-31T00:00:00\",\"1996-11-29T00:00:00\",\"1996-12-31T00:00:00\",\"1997-01-31T00:00:00\",\"1997-02-28T00:00:00\",\"1997-03-31T00:00:00\",\"1997-04-30T00:00:00\",\"1997-05-30T00:00:00\",\"1997-06-30T00:00:00\",\"1997-07-31T00:00:00\",\"1997-08-29T00:00:00\",\"1997-09-30T00:00:00\",\"1997-10-31T00:00:00\",\"1997-11-28T00:00:00\",\"1997-12-31T00:00:00\",\"1998-01-30T00:00:00\",\"1998-02-27T00:00:00\",\"1998-03-31T00:00:00\",\"1998-04-30T00:00:00\",\"1998-05-29T00:00:00\",\"1998-06-30T00:00:00\",\"1998-07-31T00:00:00\",\"1998-08-31T00:00:00\",\"1998-09-30T00:00:00\",\"1998-10-30T00:00:00\",\"1998-11-30T00:00:00\",\"1998-12-31T00:00:00\",\"1999-01-29T00:00:00\",\"1999-02-26T00:00:00\",\"1999-03-31T00:00:00\",\"1999-04-30T00:00:00\",\"1999-05-31T00:00:00\",\"1999-06-30T00:00:00\",\"1999-07-30T00:00:00\",\"1999-08-31T00:00:00\",\"1999-09-30T00:00:00\",\"1999-10-29T00:00:00\",\"1999-11-30T00:00:00\",\"1999-12-31T00:00:00\",\"2000-01-31T00:00:00\",\"2000-02-29T00:00:00\",\"2000-03-31T00:00:00\",\"2000-04-28T00:00:00\",\"2000-05-31T00:00:00\",\"2000-06-30T00:00:00\",\"2000-07-31T00:00:00\",\"2000-08-31T00:00:00\",\"2000-09-29T00:00:00\",\"2000-10-31T00:00:00\",\"2000-11-30T00:00:00\",\"2000-12-29T00:00:00\",\"2001-01-31T00:00:00\",\"2001-02-28T00:00:00\",\"2001-03-30T00:00:00\",\"2001-04-30T00:00:00\",\"2001-05-31T00:00:00\",\"2001-06-29T00:00:00\",\"2001-07-31T00:00:00\",\"2001-08-31T00:00:00\",\"2001-09-28T00:00:00\",\"2001-10-31T00:00:00\",\"2001-11-30T00:00:00\",\"2001-12-31T00:00:00\",\"2002-01-31T00:00:00\",\"2002-02-28T00:00:00\",\"2002-03-29T00:00:00\",\"2002-04-30T00:00:00\",\"2002-05-31T00:00:00\",\"2002-06-28T00:00:00\",\"2002-07-31T00:00:00\",\"2002-08-30T00:00:00\",\"2002-09-30T00:00:00\",\"2002-10-31T00:00:00\",\"2002-11-29T00:00:00\",\"2002-12-31T00:00:00\",\"2003-01-31T00:00:00\",\"2003-02-28T00:00:00\",\"2003-03-31T00:00:00\",\"2003-04-30T00:00:00\",\"2003-05-30T00:00:00\",\"2003-06-30T00:00:00\",\"2003-07-31T00:00:00\",\"2003-08-29T00:00:00\",\"2003-09-30T00:00:00\",\"2003-10-31T00:00:00\",\"2003-11-28T00:00:00\",\"2003-12-31T00:00:00\",\"2004-01-30T00:00:00\",\"2004-02-27T00:00:00\",\"2004-03-31T00:00:00\",\"2004-04-30T00:00:00\",\"2004-05-31T00:00:00\",\"2004-06-30T00:00:00\",\"2004-07-30T00:00:00\",\"2004-08-31T00:00:00\",\"2004-09-30T00:00:00\",\"2004-10-29T00:00:00\",\"2004-11-30T00:00:00\",\"2004-12-31T00:00:00\",\"2005-01-31T00:00:00\",\"2005-02-28T00:00:00\",\"2005-03-31T00:00:00\",\"2005-04-29T00:00:00\",\"2005-05-31T00:00:00\",\"2005-06-30T00:00:00\",\"2005-07-29T00:00:00\",\"2005-08-31T00:00:00\",\"2005-09-30T00:00:00\",\"2005-10-31T00:00:00\",\"2005-11-30T00:00:00\",\"2005-12-30T00:00:00\",\"2006-01-31T00:00:00\",\"2006-02-28T00:00:00\",\"2006-03-31T00:00:00\",\"2006-04-28T00:00:00\",\"2006-05-31T00:00:00\",\"2006-06-30T00:00:00\",\"2006-07-31T00:00:00\",\"2006-08-31T00:00:00\",\"2006-09-29T00:00:00\",\"2006-10-31T00:00:00\",\"2006-11-30T00:00:00\",\"2006-12-29T00:00:00\",\"2007-01-31T00:00:00\",\"2007-02-28T00:00:00\",\"2007-03-30T00:00:00\",\"2007-04-30T00:00:00\",\"2007-05-31T00:00:00\",\"2007-06-29T00:00:00\",\"2007-07-31T00:00:00\",\"2007-08-31T00:00:00\",\"2007-09-28T00:00:00\",\"2007-10-31T00:00:00\",\"2007-11-30T00:00:00\",\"2007-12-31T00:00:00\",\"2008-01-31T00:00:00\",\"2008-02-29T00:00:00\",\"2008-03-31T00:00:00\",\"2008-04-30T00:00:00\",\"2008-05-30T00:00:00\",\"2008-06-30T00:00:00\",\"2008-07-31T00:00:00\",\"2008-08-29T00:00:00\",\"2008-09-30T00:00:00\",\"2008-10-31T00:00:00\",\"2008-11-28T00:00:00\",\"2008-12-31T00:00:00\",\"2009-01-30T00:00:00\",\"2009-02-27T00:00:00\",\"2009-03-31T00:00:00\",\"2009-04-30T00:00:00\",\"2009-05-29T00:00:00\",\"2009-06-30T00:00:00\",\"2009-07-31T00:00:00\",\"2009-08-31T00:00:00\",\"2009-09-30T00:00:00\",\"2009-10-30T00:00:00\",\"2009-11-30T00:00:00\",\"2009-12-31T00:00:00\",\"2010-01-29T00:00:00\",\"2010-02-26T00:00:00\",\"2010-03-31T00:00:00\",\"2010-04-30T00:00:00\",\"2010-05-31T00:00:00\",\"2010-06-30T00:00:00\",\"2010-07-30T00:00:00\",\"2010-08-31T00:00:00\",\"2010-09-30T00:00:00\",\"2010-10-29T00:00:00\",\"2010-11-30T00:00:00\",\"2010-12-31T00:00:00\",\"2011-01-31T00:00:00\",\"2011-02-28T00:00:00\",\"2011-03-31T00:00:00\",\"2011-04-29T00:00:00\",\"2011-05-31T00:00:00\",\"2011-06-30T00:00:00\",\"2011-07-29T00:00:00\",\"2011-08-31T00:00:00\",\"2011-09-30T00:00:00\",\"2011-10-31T00:00:00\",\"2011-11-30T00:00:00\",\"2011-12-30T00:00:00\",\"2012-01-31T00:00:00\",\"2012-02-29T00:00:00\",\"2012-03-30T00:00:00\",\"2012-04-30T00:00:00\",\"2012-05-31T00:00:00\",\"2012-06-29T00:00:00\",\"2012-07-31T00:00:00\",\"2012-08-31T00:00:00\",\"2012-09-28T00:00:00\",\"2012-10-31T00:00:00\",\"2012-11-30T00:00:00\",\"2012-12-31T00:00:00\",\"2013-01-31T00:00:00\",\"2013-02-28T00:00:00\",\"2013-03-29T00:00:00\",\"2013-04-30T00:00:00\",\"2013-05-31T00:00:00\",\"2013-06-28T00:00:00\",\"2013-07-31T00:00:00\",\"2013-08-30T00:00:00\",\"2013-09-30T00:00:00\",\"2013-10-31T00:00:00\",\"2013-11-29T00:00:00\",\"2013-12-31T00:00:00\",\"2014-01-31T00:00:00\",\"2014-02-28T00:00:00\",\"2014-03-31T00:00:00\",\"2014-04-30T00:00:00\",\"2014-05-30T00:00:00\",\"2014-06-30T00:00:00\",\"2014-07-31T00:00:00\",\"2014-08-29T00:00:00\",\"2014-09-30T00:00:00\",\"2014-10-31T00:00:00\",\"2014-11-28T00:00:00\",\"2014-12-31T00:00:00\",\"2015-01-30T00:00:00\",\"2015-02-27T00:00:00\",\"2015-03-31T00:00:00\",\"2015-04-30T00:00:00\",\"2015-05-29T00:00:00\",\"2015-06-30T00:00:00\",\"2015-07-31T00:00:00\",\"2015-08-31T00:00:00\",\"2015-09-30T00:00:00\",\"2015-10-30T00:00:00\",\"2015-11-30T00:00:00\",\"2015-12-31T00:00:00\",\"2016-01-29T00:00:00\",\"2016-02-29T00:00:00\",\"2016-03-31T00:00:00\",\"2016-04-29T00:00:00\",\"2016-05-31T00:00:00\",\"2016-06-30T00:00:00\",\"2016-07-29T00:00:00\",\"2016-08-31T00:00:00\",\"2016-09-30T00:00:00\",\"2016-10-31T00:00:00\",\"2016-11-30T00:00:00\",\"2016-12-30T00:00:00\",\"2017-01-31T00:00:00\",\"2017-02-28T00:00:00\",\"2017-03-31T00:00:00\",\"2017-04-28T00:00:00\",\"2017-05-31T00:00:00\",\"2017-06-30T00:00:00\",\"2017-07-31T00:00:00\",\"2017-08-31T00:00:00\",\"2017-09-29T00:00:00\",\"2017-10-31T00:00:00\",\"2017-11-30T00:00:00\",\"2017-12-29T00:00:00\",\"2018-01-31T00:00:00\",\"2018-02-28T00:00:00\",\"2018-03-30T00:00:00\",\"2018-04-30T00:00:00\",\"2018-05-31T00:00:00\",\"2018-06-29T00:00:00\",\"2018-07-31T00:00:00\",\"2018-08-31T00:00:00\",\"2018-09-28T00:00:00\",\"2018-10-31T00:00:00\",\"2018-11-30T00:00:00\",\"2018-12-31T00:00:00\",\"2019-01-31T00:00:00\",\"2019-02-28T00:00:00\",\"2019-03-29T00:00:00\",\"2019-04-30T00:00:00\",\"2019-05-31T00:00:00\",\"2019-06-28T00:00:00\",\"2019-07-31T00:00:00\",\"2019-08-30T00:00:00\",\"2019-09-30T00:00:00\",\"2019-10-31T00:00:00\",\"2019-11-29T00:00:00\",\"2019-12-31T00:00:00\",\"2020-01-31T00:00:00\",\"2020-02-28T00:00:00\",\"2020-03-31T00:00:00\",\"2020-04-30T00:00:00\",\"2020-05-29T00:00:00\",\"2020-06-30T00:00:00\",\"2020-07-31T00:00:00\",\"2020-08-31T00:00:00\",\"2020-09-30T00:00:00\",\"2020-10-30T00:00:00\",\"2020-11-30T00:00:00\",\"2020-12-31T00:00:00\",\"2021-01-29T00:00:00\",\"2021-02-26T00:00:00\",\"2021-03-31T00:00:00\",\"2021-04-30T00:00:00\",\"2021-05-31T00:00:00\",\"2021-06-30T00:00:00\",\"2021-07-30T00:00:00\"],\"y\":[1876431.6,1862783.1,1630824.5,1659987.1,1655125.3,1579740.4,1669354.3,1776313.4,1851215.8,2417582.6999999997,2487780.6,2552468.6,2495255.5,2671445.4,2661193.4,2755828.3,2925986.0,3059923.5,3211076.1,3155784.1,3750940.7,3940151.3,4692486.1,4597131.600000001,4180099.4,3956839.6,3805700.3000000003,3825322.3,3777084.0,3866823.3000000003,4010292.9000000004,3707291.9000000004,3697355.1999999997,3745669.1999999997,3598665.8,3623165.1999999997,3598057.7,3534598.0,3521764.3000000003,3765192.0,3999724.0,3999971.5,4398952.2,4026038.8000000003,3882000.3000000003,3988657.3,4020869.2,4241280.8,4123081.8000000003,4153226.1999999997,4267372.2,4113773.1999999997,4254253.5,4251458.8,4202019.399999999,4302461.2,4306910.8,4199339.8,4216823.4,4257803.4,4155099.3,4186476.1,4409540.3,4384246.0,4372966.1,4284966.399999999,4248770.9,4218357.7,4247750.100000001,4233263.3,4372703.800000001,4277531.0,4433730.7,4455637.8,4380701.9,4352118.0,4316357.899999999,4222900.2,4256632.800000001,4291467.7,4196148.600000001,4151584.6,4134669.6,4084070.0999999996,3877844.0999999996,4021990.4,4187031.9,3978820.7,4043958.7,3917178.2,3826032.8,3819240.0999999996,3905565.5,3813685.1,3659731.1999999997,3580029.6999999997,3760294.8,3871533.6999999997,3920133.0,4048363.6999999997,3825694.3000000003,3861819.4,3767113.4,3815474.9,4099797.7,4078626.8000000003,4106130.3000000003,4012264.2,3975106.2,4001591.1,3898375.2,4000086.5,3749957.7,3649215.5,3577660.5,3570075.3,4198980.8,4204964.2,4097927.3000000003,4086119.4,3994967.9,4142393.0,3905100.8,3883059.2,3848148.2,4072625.2,3914095.8,3925606.0,3903924.5,3816723.8,3915670.5,3997849.4,3861040.6,3898343.5,3761680.0,3847097.7,3936164.7,4031736.6,3988076.3000000003,4108090.5,4413442.399999999,4205506.5,4166072.6,4185688.1,4284260.0,4511103.3,4595013.5,4708126.2,4998736.9,4882080.2,4684212.8,4812581.0,4984784.3,4885616.2,4925727.600000001,5366316.1,5691036.2,5379966.0,5192871.0,5225783.2,5611568.4,5380384.4,5522372.7,5849075.4,6055323.8,6061862.6,6245553.6,6532768.6,6294836.8,6256744.199999999,6682183.7,6126141.1,6211850.7,6243449.399999999,6184565.4,6439907.3,6570514.100000001,6722468.100000001,7174235.6,6892535.7,6685702.5,6903252.5,6784123.6,6918127.6,6591992.5,6950378.899999999,6833148.0,6900259.7,7545085.399999999,7507413.9,7910861.5,8190401.1,9082233.0,8874319.3,9298170.1,10300159.6,10454959.0,9846011.8,10157533.8,10017947.0,9652253.6,9736533.700000001,10425737.0,10179584.6,10467088.2,10657055.0,10634397.1,10895506.6,10639309.0,10526574.8,10772383.7,10945149.7,11986292.3,12732043.4,12609261.200000001,13391976.200000001,14787050.1,15521626.9,15082289.2,14083240.5,14433235.2,15713317.8,15435237.6,13807321.6,14730072.0,12336048.0,13870167.0,15254295.0,16127543.5,16695503.4,16363975.6,15757227.100000001,17392218.6,16660077.9,16778317.1,17079265.7,17819411.2,18627253.5,21796528.3,20148551.7,19981406.1,21198665.2,21352707.6,22439652.0,22988839.4,23802008.3,22360982.8,24358008.7,25521483.5,26317155.3,27049894.6,27476320.5,25943365.1,29531849.9,30142032.0,31778836.1,31647291.1,31068550.9,33622379.9,37875184.9,33834877.4,36272772.6,36779342.8,32294741.5,36754103.5,36977304.3,34759723.3,34552117.599999994,32614270.3,33517398.7,33952993.1,34458303.6,37198160.1,35945940.9,36093344.1,34644966.1,34793824.4,33384889.2,33569752.1,30835869.0,29391557.2,25355942.6,27924130.6,29608457.8,28098580.400000002,28027517.7,26550906.7,25492468.9,26433973.7,28081384.8,27339516.5,27252129.6,26540650.7,28137844.9,27376481.1,27339147.3,25907690.0,24855569.8,25390287.8,25878775.0,26949564.400000002,26000501.9,25669590.1,25566092.9,26076091.0,25656896.8,24044272.700000003,25601385.5,25122458.1,25599094.599999998,23972368.2,23913077.9,24800133.099999998,27633167.2,27668578.4,28752990.8,27230640.0,29558212.7,30026550.4,29301595.2,29597024.0,28490831.7,26786961.9,26181462.2,27493765.700000003,28677775.3,28418834.9,28896470.8,28854900.799999997,28329114.1,28899734.400000002,29913678.3,29255795.0,28942361.2,29180077.5,29411702.3,30643003.2,30088395.1,30295173.2,29993200.0,29871002.1,28806745.599999998,28523842.599999998,28121779.3,27795320.5,28466984.700000003,28488205.8,29769583.7,30806327.400000002,30712398.599999998,30162664.3,29965475.099999998,30441625.4,32949954.6,33279632.1,35564040.1,34582351.199999996,35182718.1,33967473.2,35226019.199999996,36921131.4,37549675.1,38139844.9,40042945.699999996,40398860.6,41185980.199999996,45711046.9,45530828.4,43906290.1,43791619.5,40943822.8,43732831.099999994,43118524.9,40264837.199999996,39167873.4,40908433.5,43950693.1,40736682.5,42071317.3],\"type\":\"scatter\"}],                        {\"hovermode\":\"x unified\",\"title\":{\"text\":\"Consumo de agua en ['Totoracocha', 'Ricaurte'] proyeccion 3 meses\"},\"xaxis\":{\"title\":{\"text\":\"Linea de tiempo\"}},\"yaxis\":{\"title\":{\"text\":\"Consumo (m3)\"}},\"template\":{\"data\":{\"bar\":[{\"error_x\":{\"color\":\"#2a3f5f\"},\"error_y\":{\"color\":\"#2a3f5f\"},\"marker\":{\"line\":{\"color\":\"#E5ECF6\",\"width\":0.5},\"pattern\":{\"fillmode\":\"overlay\",\"size\":10,\"solidity\":0.2}},\"type\":\"bar\"}],\"barpolar\":[{\"marker\":{\"line\":{\"color\":\"#E5ECF6\",\"width\":0.5},\"pattern\":{\"fillmode\":\"overlay\",\"size\":10,\"solidity\":0.2}},\"type\":\"barpolar\"}],\"carpet\":[{\"aaxis\":{\"endlinecolor\":\"#2a3f5f\",\"gridcolor\":\"white\",\"linecolor\":\"white\",\"minorgridcolor\":\"white\",\"startlinecolor\":\"#2a3f5f\"},\"baxis\":{\"endlinecolor\":\"#2a3f5f\",\"gridcolor\":\"white\",\"linecolor\":\"white\",\"minorgridcolor\":\"white\",\"startlinecolor\":\"#2a3f5f\"},\"type\":\"carpet\"}],\"choropleth\":[{\"colorbar\":{\"outlinewidth\":0,\"ticks\":\"\"},\"type\":\"choropleth\"}],\"contour\":[{\"colorbar\":{\"outlinewidth\":0,\"ticks\":\"\"},\"colorscale\":[[0.0,\"#0d0887\"],[0.1111111111111111,\"#46039f\"],[0.2222222222222222,\"#7201a8\"],[0.3333333333333333,\"#9c179e\"],[0.4444444444444444,\"#bd3786\"],[0.5555555555555556,\"#d8576b\"],[0.6666666666666666,\"#ed7953\"],[0.7777777777777778,\"#fb9f3a\"],[0.8888888888888888,\"#fdca26\"],[1.0,\"#f0f921\"]],\"type\":\"contour\"}],\"contourcarpet\":[{\"colorbar\":{\"outlinewidth\":0,\"ticks\":\"\"},\"type\":\"contourcarpet\"}],\"heatmap\":[{\"colorbar\":{\"outlinewidth\":0,\"ticks\":\"\"},\"colorscale\":[[0.0,\"#0d0887\"],[0.1111111111111111,\"#46039f\"],[0.2222222222222222,\"#7201a8\"],[0.3333333333333333,\"#9c179e\"],[0.4444444444444444,\"#bd3786\"],[0.5555555555555556,\"#d8576b\"],[0.6666666666666666,\"#ed7953\"],[0.7777777777777778,\"#fb9f3a\"],[0.8888888888888888,\"#fdca26\"],[1.0,\"#f0f921\"]],\"type\":\"heatmap\"}],\"heatmapgl\":[{\"colorbar\":{\"outlinewidth\":0,\"ticks\":\"\"},\"colorscale\":[[0.0,\"#0d0887\"],[0.1111111111111111,\"#46039f\"],[0.2222222222222222,\"#7201a8\"],[0.3333333333333333,\"#9c179e\"],[0.4444444444444444,\"#bd3786\"],[0.5555555555555556,\"#d8576b\"],[0.6666666666666666,\"#ed7953\"],[0.7777777777777778,\"#fb9f3a\"],[0.8888888888888888,\"#fdca26\"],[1.0,\"#f0f921\"]],\"type\":\"heatmapgl\"}],\"histogram\":[{\"marker\":{\"pattern\":{\"fillmode\":\"overlay\",\"size\":10,\"solidity\":0.2}},\"type\":\"histogram\"}],\"histogram2d\":[{\"colorbar\":{\"outlinewidth\":0,\"ticks\":\"\"},\"colorscale\":[[0.0,\"#0d0887\"],[0.1111111111111111,\"#46039f\"],[0.2222222222222222,\"#7201a8\"],[0.3333333333333333,\"#9c179e\"],[0.4444444444444444,\"#bd3786\"],[0.5555555555555556,\"#d8576b\"],[0.6666666666666666,\"#ed7953\"],[0.7777777777777778,\"#fb9f3a\"],[0.8888888888888888,\"#fdca26\"],[1.0,\"#f0f921\"]],\"type\":\"histogram2d\"}],\"histogram2dcontour\":[{\"colorbar\":{\"outlinewidth\":0,\"ticks\":\"\"},\"colorscale\":[[0.0,\"#0d0887\"],[0.1111111111111111,\"#46039f\"],[0.2222222222222222,\"#7201a8\"],[0.3333333333333333,\"#9c179e\"],[0.4444444444444444,\"#bd3786\"],[0.5555555555555556,\"#d8576b\"],[0.6666666666666666,\"#ed7953\"],[0.7777777777777778,\"#fb9f3a\"],[0.8888888888888888,\"#fdca26\"],[1.0,\"#f0f921\"]],\"type\":\"histogram2dcontour\"}],\"mesh3d\":[{\"colorbar\":{\"outlinewidth\":0,\"ticks\":\"\"},\"type\":\"mesh3d\"}],\"parcoords\":[{\"line\":{\"colorbar\":{\"outlinewidth\":0,\"ticks\":\"\"}},\"type\":\"parcoords\"}],\"pie\":[{\"automargin\":true,\"type\":\"pie\"}],\"scatter\":[{\"marker\":{\"colorbar\":{\"outlinewidth\":0,\"ticks\":\"\"}},\"type\":\"scatter\"}],\"scatter3d\":[{\"line\":{\"colorbar\":{\"outlinewidth\":0,\"ticks\":\"\"}},\"marker\":{\"colorbar\":{\"outlinewidth\":0,\"ticks\":\"\"}},\"type\":\"scatter3d\"}],\"scattercarpet\":[{\"marker\":{\"colorbar\":{\"outlinewidth\":0,\"ticks\":\"\"}},\"type\":\"scattercarpet\"}],\"scattergeo\":[{\"marker\":{\"colorbar\":{\"outlinewidth\":0,\"ticks\":\"\"}},\"type\":\"scattergeo\"}],\"scattergl\":[{\"marker\":{\"colorbar\":{\"outlinewidth\":0,\"ticks\":\"\"}},\"type\":\"scattergl\"}],\"scattermapbox\":[{\"marker\":{\"colorbar\":{\"outlinewidth\":0,\"ticks\":\"\"}},\"type\":\"scattermapbox\"}],\"scatterpolar\":[{\"marker\":{\"colorbar\":{\"outlinewidth\":0,\"ticks\":\"\"}},\"type\":\"scatterpolar\"}],\"scatterpolargl\":[{\"marker\":{\"colorbar\":{\"outlinewidth\":0,\"ticks\":\"\"}},\"type\":\"scatterpolargl\"}],\"scatterternary\":[{\"marker\":{\"colorbar\":{\"outlinewidth\":0,\"ticks\":\"\"}},\"type\":\"scatterternary\"}],\"surface\":[{\"colorbar\":{\"outlinewidth\":0,\"ticks\":\"\"},\"colorscale\":[[0.0,\"#0d0887\"],[0.1111111111111111,\"#46039f\"],[0.2222222222222222,\"#7201a8\"],[0.3333333333333333,\"#9c179e\"],[0.4444444444444444,\"#bd3786\"],[0.5555555555555556,\"#d8576b\"],[0.6666666666666666,\"#ed7953\"],[0.7777777777777778,\"#fb9f3a\"],[0.8888888888888888,\"#fdca26\"],[1.0,\"#f0f921\"]],\"type\":\"surface\"}],\"table\":[{\"cells\":{\"fill\":{\"color\":\"#EBF0F8\"},\"line\":{\"color\":\"white\"}},\"header\":{\"fill\":{\"color\":\"#C8D4E3\"},\"line\":{\"color\":\"white\"}},\"type\":\"table\"}]},\"layout\":{\"annotationdefaults\":{\"arrowcolor\":\"#2a3f5f\",\"arrowhead\":0,\"arrowwidth\":1},\"autotypenumbers\":\"strict\",\"coloraxis\":{\"colorbar\":{\"outlinewidth\":0,\"ticks\":\"\"}},\"colorscale\":{\"diverging\":[[0,\"#8e0152\"],[0.1,\"#c51b7d\"],[0.2,\"#de77ae\"],[0.3,\"#f1b6da\"],[0.4,\"#fde0ef\"],[0.5,\"#f7f7f7\"],[0.6,\"#e6f5d0\"],[0.7,\"#b8e186\"],[0.8,\"#7fbc41\"],[0.9,\"#4d9221\"],[1,\"#276419\"]],\"sequential\":[[0.0,\"#0d0887\"],[0.1111111111111111,\"#46039f\"],[0.2222222222222222,\"#7201a8\"],[0.3333333333333333,\"#9c179e\"],[0.4444444444444444,\"#bd3786\"],[0.5555555555555556,\"#d8576b\"],[0.6666666666666666,\"#ed7953\"],[0.7777777777777778,\"#fb9f3a\"],[0.8888888888888888,\"#fdca26\"],[1.0,\"#f0f921\"]],\"sequentialminus\":[[0.0,\"#0d0887\"],[0.1111111111111111,\"#46039f\"],[0.2222222222222222,\"#7201a8\"],[0.3333333333333333,\"#9c179e\"],[0.4444444444444444,\"#bd3786\"],[0.5555555555555556,\"#d8576b\"],[0.6666666666666666,\"#ed7953\"],[0.7777777777777778,\"#fb9f3a\"],[0.8888888888888888,\"#fdca26\"],[1.0,\"#f0f921\"]]},\"colorway\":[\"#636efa\",\"#EF553B\",\"#00cc96\",\"#ab63fa\",\"#FFA15A\",\"#19d3f3\",\"#FF6692\",\"#B6E880\",\"#FF97FF\",\"#FECB52\"],\"font\":{\"color\":\"#2a3f5f\"},\"geo\":{\"bgcolor\":\"white\",\"lakecolor\":\"white\",\"landcolor\":\"#E5ECF6\",\"showlakes\":true,\"showland\":true,\"subunitcolor\":\"white\"},\"hoverlabel\":{\"align\":\"left\"},\"hovermode\":\"closest\",\"mapbox\":{\"style\":\"light\"},\"paper_bgcolor\":\"white\",\"plot_bgcolor\":\"#E5ECF6\",\"polar\":{\"angularaxis\":{\"gridcolor\":\"white\",\"linecolor\":\"white\",\"ticks\":\"\"},\"bgcolor\":\"#E5ECF6\",\"radialaxis\":{\"gridcolor\":\"white\",\"linecolor\":\"white\",\"ticks\":\"\"}},\"scene\":{\"xaxis\":{\"backgroundcolor\":\"#E5ECF6\",\"gridcolor\":\"white\",\"gridwidth\":2,\"linecolor\":\"white\",\"showbackground\":true,\"ticks\":\"\",\"zerolinecolor\":\"white\"},\"yaxis\":{\"backgroundcolor\":\"#E5ECF6\",\"gridcolor\":\"white\",\"gridwidth\":2,\"linecolor\":\"white\",\"showbackground\":true,\"ticks\":\"\",\"zerolinecolor\":\"white\"},\"zaxis\":{\"backgroundcolor\":\"#E5ECF6\",\"gridcolor\":\"white\",\"gridwidth\":2,\"linecolor\":\"white\",\"showbackground\":true,\"ticks\":\"\",\"zerolinecolor\":\"white\"}},\"shapedefaults\":{\"line\":{\"color\":\"#2a3f5f\"}},\"ternary\":{\"aaxis\":{\"gridcolor\":\"white\",\"linecolor\":\"white\",\"ticks\":\"\"},\"baxis\":{\"gridcolor\":\"white\",\"linecolor\":\"white\",\"ticks\":\"\"},\"bgcolor\":\"#E5ECF6\",\"caxis\":{\"gridcolor\":\"white\",\"linecolor\":\"white\",\"ticks\":\"\"}},\"title\":{\"x\":0.05},\"xaxis\":{\"automargin\":true,\"gridcolor\":\"white\",\"linecolor\":\"white\",\"ticks\":\"\",\"title\":{\"standoff\":15},\"zerolinecolor\":\"white\",\"zerolinewidth\":2},\"yaxis\":{\"automargin\":true,\"gridcolor\":\"white\",\"linecolor\":\"white\",\"ticks\":\"\",\"title\":{\"standoff\":15},\"zerolinecolor\":\"white\",\"zerolinewidth\":2}}}},                        {\"responsive\": true}                    ).then(function(){\n",
              "                            \n",
              "var gd = document.getElementById('01a3bf49-fcd7-4178-b0ab-e3462be95e67');\n",
              "var x = new MutationObserver(function (mutations, observer) {{\n",
              "        var display = window.getComputedStyle(gd).display;\n",
              "        if (!display || display === 'none') {{\n",
              "            console.log([gd, 'removed!']);\n",
              "            Plotly.purge(gd);\n",
              "            observer.disconnect();\n",
              "        }}\n",
              "}});\n",
              "\n",
              "// Listen for the removal of the full notebook cells\n",
              "var notebookContainer = gd.closest('#notebook-container');\n",
              "if (notebookContainer) {{\n",
              "    x.observe(notebookContainer, {childList: true});\n",
              "}}\n",
              "\n",
              "// Listen for the clearing of the current output cell\n",
              "var outputEl = gd.closest('.output');\n",
              "if (outputEl) {{\n",
              "    x.observe(outputEl, {childList: true});\n",
              "}}\n",
              "\n",
              "                        })                };                            </script>        </div>\n",
              "</body>\n",
              "</html>"
            ]
          },
          "metadata": {}
        }
      ]
    },
    {
      "cell_type": "markdown",
      "metadata": {
        "id": "jse7Q2mlu3HS"
      },
      "source": [
        "# REPORTES"
      ]
    },
    {
      "cell_type": "code",
      "execution_count": 44,
      "metadata": {
        "id": "EuoW-G_nu5w9"
      },
      "outputs": [],
      "source": [
        "\n",
        "\n",
        "def generate_report(consumos, pagos, df_user_values):\n",
        "  dp.Report(\"Reporte de consumo de agua\",\n",
        "    dp.Plot(consumos, caption=\"Consumo de agua potable a traves del tiempo\"),\n",
        "    dp.Plot(pagos, caption=\"Comparacion de pagos para los siguientes meses\"),\n",
        "    dp.Table(df_user_values, caption=\"Informacion consumo vs pago\")\n",
        "  ).save(path='report.html', open=True)\n"
      ]
    },
    {
      "cell_type": "markdown",
      "metadata": {
        "id": "OqgQAcut5BF_"
      },
      "source": [
        "# TUNING LSTM"
      ]
    },
    {
      "cell_type": "code",
      "execution_count": 45,
      "metadata": {
        "id": "UA9CQDeh5kD9"
      },
      "outputs": [],
      "source": [
        "import tensorflow as tf\n",
        "import keras_tuner as kt"
      ]
    },
    {
      "cell_type": "code",
      "execution_count": 46,
      "metadata": {
        "id": "w12aRHSg5L-B"
      },
      "outputs": [],
      "source": [
        "def model_builder(hp):\n",
        "  tf.keras.backend.clear_session()\n",
        "\n",
        "  # Initialize the Sequential API and start stacking the layers\n",
        "  model = tf.keras.models.Sequential()\n",
        "  model.add(Conv1D(filters=13, kernel_size=4, activation=hp.Choice(\"activation\", [\"relu\",\"sigmoid\"]), input_shape=(LOOK_BACK, n_features)))\n",
        "  model.add(MaxPooling1D(pool_size=2))\n",
        "  model.add(Flatten())\n",
        "  model.add(tf.keras.layers.RepeatVector(FORECAST_RANGE))\n",
        "  hp_units = hp.Int('units', min_value=32, max_value=512, step=32)\n",
        "  model.add(tf.keras.layers.LSTM(units= hp_units, activation=hp.Choice(\"activation\", [\"relu\",\"sigmoid\"]), return_sequences=True,name='lstm_1'))\n",
        "  hp_units2 = hp.Int('units', min_value=32, max_value=512, step=32)\n",
        "  model.add(tf.keras.layers.LSTM(units= hp_units, activation=hp.Choice(\"activation\", [\"relu\",\"sigmoid\"]), return_sequences=True))\n",
        "  # Tune the number of units in the first Dense layer\n",
        "  # Choose an optimal value between 32-512\n",
        "  hp_units3 = hp.Int('units', min_value=32, max_value=512, step=32)\n",
        "  model.add(keras.layers.Dense(units=hp_units, activation=hp.Choice(\"activation\", [\"relu\",\"sigmoid\"]), name='dense_1'))\n",
        "  # Add next layers\n",
        "  model.add(keras.layers.Dense(units=hp_units3,activation=hp.Choice(\"activation\", [\"relu\",\"sigmoid\"])))\n",
        "  model.add(tf.keras.layers.TimeDistributed(Dense(n_features)))\n",
        "  # Tune the learning rate for the optimizer\n",
        "  # Choose an optimal value from 0.01, 0.001, or 0.0001\n",
        "  hp_learning_rate = hp.Choice('learning_rate', values=[1e-2, 1e-3, 1e-4])\n",
        "  model.compile(optimizer=keras.optimizers.Adam(learning_rate=hp_learning_rate),\n",
        "                loss=keras.losses.MAE,\n",
        "                metrics=['mae'])\n",
        "  return model"
      ]
    },
    {
      "cell_type": "code",
      "execution_count": 47,
      "metadata": {
        "id": "AkKCnlGC5eQo"
      },
      "outputs": [],
      "source": [
        "# Instantiate the tuner\n",
        "tuner = kt.Hyperband(model_builder, # the hypermodel\n",
        "                     objective='val_mae', # objective to optimize\n",
        "max_epochs=50,\n",
        "factor=3, # factor which you have seen above \n",
        "#directory='dir', # directory to save logs \n",
        "project_name='WatejConsumptionTuning')"
      ]
    },
    {
      "cell_type": "code",
      "execution_count": 48,
      "metadata": {
        "id": "1io7aaQ-5Y7e",
        "colab": {
          "base_uri": "https://localhost:8080/"
        },
        "outputId": "67ca75f8-9266-47f9-a980-8d926495c703"
      },
      "outputs": [
        {
          "output_type": "stream",
          "name": "stdout",
          "text": [
            "Search space summary\n",
            "Default search space size: 3\n",
            "activation (Choice)\n",
            "{'default': 'relu', 'conditions': [], 'values': ['relu', 'sigmoid'], 'ordered': False}\n",
            "units (Int)\n",
            "{'default': None, 'conditions': [], 'min_value': 32, 'max_value': 512, 'step': 32, 'sampling': None}\n",
            "learning_rate (Choice)\n",
            "{'default': 0.01, 'conditions': [], 'values': [0.01, 0.001, 0.0001], 'ordered': True}\n"
          ]
        }
      ],
      "source": [
        "#hypertuning settings\n",
        "tuner.search_space_summary() \n",
        "#Output:- \n",
        "\n",
        "# Search space summary\n",
        "# Default search space size: 2\n",
        "# units (Int)\n",
        "# {'default': None, 'conditions': [], 'min_value': 32, 'max_value': 512, 'step': 32, 'sampling': None}\n",
        "# learning_rate (Choice)\n",
        "# {'default': 0.01, 'conditions': [], 'values': [0.01, 0.001, 0.0001], 'ordered': True}"
      ]
    },
    {
      "cell_type": "code",
      "execution_count": 49,
      "metadata": {
        "id": "H9BJ9gdq5No1",
        "colab": {
          "base_uri": "https://localhost:8080/",
          "height": 692
        },
        "outputId": "440d8353-7725-40fa-c0d2-6b0fc13dd61b"
      },
      "outputs": [
        {
          "output_type": "stream",
          "name": "stdout",
          "text": [
            "Trial 47 Complete [00h 00m 16s]\n",
            "val_mae: 0.11953235417604446\n",
            "\n",
            "Best val_mae So Far: 0.11953235417604446\n",
            "Total elapsed time: 00h 05m 18s\n",
            "\n",
            "Search: Running Trial #48\n",
            "\n",
            "Hyperparameter    |Value             |Best Value So Far \n",
            "activation        |relu              |relu              \n",
            "units             |128               |416               \n",
            "learning_rate     |0.01              |0.001             \n",
            "tuner/epochs      |17                |17                \n",
            "tuner/initial_e...|6                 |6                 \n",
            "tuner/bracket     |3                 |3                 \n",
            "tuner/round       |2                 |2                 \n",
            "tuner/trial_id    |59ee0cc216006ee...|bdab1a47c92e41e...\n",
            "\n",
            "Epoch 7/17\n"
          ]
        },
        {
          "output_type": "error",
          "ename": "KeyboardInterrupt",
          "evalue": "ignored",
          "traceback": [
            "\u001b[0;31m---------------------------------------------------------------------------\u001b[0m",
            "\u001b[0;31mKeyboardInterrupt\u001b[0m                         Traceback (most recent call last)",
            "\u001b[0;32m<ipython-input-49-6d33da514b94>\u001b[0m in \u001b[0;36m<module>\u001b[0;34m()\u001b[0m\n\u001b[1;32m      1\u001b[0m \u001b[0mstop_early\u001b[0m \u001b[0;34m=\u001b[0m \u001b[0mtf\u001b[0m\u001b[0;34m.\u001b[0m\u001b[0mkeras\u001b[0m\u001b[0;34m.\u001b[0m\u001b[0mcallbacks\u001b[0m\u001b[0;34m.\u001b[0m\u001b[0mEarlyStopping\u001b[0m\u001b[0;34m(\u001b[0m\u001b[0mmonitor\u001b[0m\u001b[0;34m=\u001b[0m\u001b[0;34m'val_mae'\u001b[0m\u001b[0;34m,\u001b[0m \u001b[0mpatience\u001b[0m\u001b[0;34m=\u001b[0m\u001b[0;36m5\u001b[0m\u001b[0;34m)\u001b[0m\u001b[0;34m\u001b[0m\u001b[0;34m\u001b[0m\u001b[0m\n\u001b[1;32m      2\u001b[0m \u001b[0;31m# Perform hypertuning\u001b[0m\u001b[0;34m\u001b[0m\u001b[0;34m\u001b[0m\u001b[0;34m\u001b[0m\u001b[0m\n\u001b[0;32m----> 3\u001b[0;31m \u001b[0mtuner\u001b[0m\u001b[0;34m.\u001b[0m\u001b[0msearch\u001b[0m\u001b[0;34m(\u001b[0m\u001b[0mX_train\u001b[0m\u001b[0;34m,\u001b[0m \u001b[0my_train\u001b[0m\u001b[0;34m,\u001b[0m \u001b[0mepochs\u001b[0m\u001b[0;34m=\u001b[0m\u001b[0;36m400\u001b[0m\u001b[0;34m,\u001b[0m \u001b[0mvalidation_split\u001b[0m\u001b[0;34m=\u001b[0m\u001b[0;36m0.2\u001b[0m\u001b[0;34m,\u001b[0m \u001b[0mcallbacks\u001b[0m\u001b[0;34m=\u001b[0m\u001b[0;34m[\u001b[0m\u001b[0mstop_early\u001b[0m\u001b[0;34m]\u001b[0m\u001b[0;34m)\u001b[0m\u001b[0;34m\u001b[0m\u001b[0;34m\u001b[0m\u001b[0m\n\u001b[0m",
            "\u001b[0;32m/usr/local/lib/python3.7/dist-packages/keras_tuner/engine/base_tuner.py\u001b[0m in \u001b[0;36msearch\u001b[0;34m(self, *fit_args, **fit_kwargs)\u001b[0m\n\u001b[1;32m    177\u001b[0m \u001b[0;34m\u001b[0m\u001b[0m\n\u001b[1;32m    178\u001b[0m             \u001b[0mself\u001b[0m\u001b[0;34m.\u001b[0m\u001b[0mon_trial_begin\u001b[0m\u001b[0;34m(\u001b[0m\u001b[0mtrial\u001b[0m\u001b[0;34m)\u001b[0m\u001b[0;34m\u001b[0m\u001b[0;34m\u001b[0m\u001b[0m\n\u001b[0;32m--> 179\u001b[0;31m             \u001b[0mresults\u001b[0m \u001b[0;34m=\u001b[0m \u001b[0mself\u001b[0m\u001b[0;34m.\u001b[0m\u001b[0mrun_trial\u001b[0m\u001b[0;34m(\u001b[0m\u001b[0mtrial\u001b[0m\u001b[0;34m,\u001b[0m \u001b[0;34m*\u001b[0m\u001b[0mfit_args\u001b[0m\u001b[0;34m,\u001b[0m \u001b[0;34m**\u001b[0m\u001b[0mfit_kwargs\u001b[0m\u001b[0;34m)\u001b[0m\u001b[0;34m\u001b[0m\u001b[0;34m\u001b[0m\u001b[0m\n\u001b[0m\u001b[1;32m    180\u001b[0m             \u001b[0;31m# `results` is None indicates user updated oracle in `run_trial()`.\u001b[0m\u001b[0;34m\u001b[0m\u001b[0;34m\u001b[0m\u001b[0;34m\u001b[0m\u001b[0m\n\u001b[1;32m    181\u001b[0m             \u001b[0;32mif\u001b[0m \u001b[0mresults\u001b[0m \u001b[0;32mis\u001b[0m \u001b[0;32mNone\u001b[0m\u001b[0;34m:\u001b[0m\u001b[0;34m\u001b[0m\u001b[0;34m\u001b[0m\u001b[0m\n",
            "\u001b[0;32m/usr/local/lib/python3.7/dist-packages/keras_tuner/tuners/hyperband.py\u001b[0m in \u001b[0;36mrun_trial\u001b[0;34m(self, trial, *fit_args, **fit_kwargs)\u001b[0m\n\u001b[1;32m    374\u001b[0m             \u001b[0mfit_kwargs\u001b[0m\u001b[0;34m[\u001b[0m\u001b[0;34m\"epochs\"\u001b[0m\u001b[0;34m]\u001b[0m \u001b[0;34m=\u001b[0m \u001b[0mhp\u001b[0m\u001b[0;34m.\u001b[0m\u001b[0mvalues\u001b[0m\u001b[0;34m[\u001b[0m\u001b[0;34m\"tuner/epochs\"\u001b[0m\u001b[0;34m]\u001b[0m\u001b[0;34m\u001b[0m\u001b[0;34m\u001b[0m\u001b[0m\n\u001b[1;32m    375\u001b[0m             \u001b[0mfit_kwargs\u001b[0m\u001b[0;34m[\u001b[0m\u001b[0;34m\"initial_epoch\"\u001b[0m\u001b[0;34m]\u001b[0m \u001b[0;34m=\u001b[0m \u001b[0mhp\u001b[0m\u001b[0;34m.\u001b[0m\u001b[0mvalues\u001b[0m\u001b[0;34m[\u001b[0m\u001b[0;34m\"tuner/initial_epoch\"\u001b[0m\u001b[0;34m]\u001b[0m\u001b[0;34m\u001b[0m\u001b[0;34m\u001b[0m\u001b[0m\n\u001b[0;32m--> 376\u001b[0;31m         \u001b[0;32mreturn\u001b[0m \u001b[0msuper\u001b[0m\u001b[0;34m(\u001b[0m\u001b[0mHyperband\u001b[0m\u001b[0;34m,\u001b[0m \u001b[0mself\u001b[0m\u001b[0;34m)\u001b[0m\u001b[0;34m.\u001b[0m\u001b[0mrun_trial\u001b[0m\u001b[0;34m(\u001b[0m\u001b[0mtrial\u001b[0m\u001b[0;34m,\u001b[0m \u001b[0;34m*\u001b[0m\u001b[0mfit_args\u001b[0m\u001b[0;34m,\u001b[0m \u001b[0;34m**\u001b[0m\u001b[0mfit_kwargs\u001b[0m\u001b[0;34m)\u001b[0m\u001b[0;34m\u001b[0m\u001b[0;34m\u001b[0m\u001b[0m\n\u001b[0m\u001b[1;32m    377\u001b[0m \u001b[0;34m\u001b[0m\u001b[0m\n\u001b[1;32m    378\u001b[0m     \u001b[0;32mdef\u001b[0m \u001b[0m_build_model\u001b[0m\u001b[0;34m(\u001b[0m\u001b[0mself\u001b[0m\u001b[0;34m,\u001b[0m \u001b[0mhp\u001b[0m\u001b[0;34m)\u001b[0m\u001b[0;34m:\u001b[0m\u001b[0;34m\u001b[0m\u001b[0;34m\u001b[0m\u001b[0m\n",
            "\u001b[0;32m/usr/local/lib/python3.7/dist-packages/keras_tuner/engine/tuner.py\u001b[0m in \u001b[0;36mrun_trial\u001b[0;34m(self, trial, *args, **kwargs)\u001b[0m\n\u001b[1;32m    302\u001b[0m             \u001b[0mcallbacks\u001b[0m\u001b[0;34m.\u001b[0m\u001b[0mappend\u001b[0m\u001b[0;34m(\u001b[0m\u001b[0mmodel_checkpoint\u001b[0m\u001b[0;34m)\u001b[0m\u001b[0;34m\u001b[0m\u001b[0;34m\u001b[0m\u001b[0m\n\u001b[1;32m    303\u001b[0m             \u001b[0mcopied_kwargs\u001b[0m\u001b[0;34m[\u001b[0m\u001b[0;34m\"callbacks\"\u001b[0m\u001b[0;34m]\u001b[0m \u001b[0;34m=\u001b[0m \u001b[0mcallbacks\u001b[0m\u001b[0;34m\u001b[0m\u001b[0;34m\u001b[0m\u001b[0m\n\u001b[0;32m--> 304\u001b[0;31m             \u001b[0mobj_value\u001b[0m \u001b[0;34m=\u001b[0m \u001b[0mself\u001b[0m\u001b[0;34m.\u001b[0m\u001b[0m_build_and_fit_model\u001b[0m\u001b[0;34m(\u001b[0m\u001b[0mtrial\u001b[0m\u001b[0;34m,\u001b[0m \u001b[0;34m*\u001b[0m\u001b[0margs\u001b[0m\u001b[0;34m,\u001b[0m \u001b[0;34m**\u001b[0m\u001b[0mcopied_kwargs\u001b[0m\u001b[0;34m)\u001b[0m\u001b[0;34m\u001b[0m\u001b[0;34m\u001b[0m\u001b[0m\n\u001b[0m\u001b[1;32m    305\u001b[0m \u001b[0;34m\u001b[0m\u001b[0m\n\u001b[1;32m    306\u001b[0m             \u001b[0;31m# objective left unspecified,\u001b[0m\u001b[0;34m\u001b[0m\u001b[0;34m\u001b[0m\u001b[0;34m\u001b[0m\u001b[0m\n",
            "\u001b[0;32m/usr/local/lib/python3.7/dist-packages/keras_tuner/engine/tuner.py\u001b[0m in \u001b[0;36m_build_and_fit_model\u001b[0;34m(self, trial, *args, **kwargs)\u001b[0m\n\u001b[1;32m    232\u001b[0m         \u001b[0mhp\u001b[0m \u001b[0;34m=\u001b[0m \u001b[0mtrial\u001b[0m\u001b[0;34m.\u001b[0m\u001b[0mhyperparameters\u001b[0m\u001b[0;34m\u001b[0m\u001b[0;34m\u001b[0m\u001b[0m\n\u001b[1;32m    233\u001b[0m         \u001b[0mmodel\u001b[0m \u001b[0;34m=\u001b[0m \u001b[0mself\u001b[0m\u001b[0;34m.\u001b[0m\u001b[0m_try_build\u001b[0m\u001b[0;34m(\u001b[0m\u001b[0mhp\u001b[0m\u001b[0;34m)\u001b[0m\u001b[0;34m\u001b[0m\u001b[0;34m\u001b[0m\u001b[0m\n\u001b[0;32m--> 234\u001b[0;31m         \u001b[0;32mreturn\u001b[0m \u001b[0mself\u001b[0m\u001b[0;34m.\u001b[0m\u001b[0mhypermodel\u001b[0m\u001b[0;34m.\u001b[0m\u001b[0mfit\u001b[0m\u001b[0;34m(\u001b[0m\u001b[0mhp\u001b[0m\u001b[0;34m,\u001b[0m \u001b[0mmodel\u001b[0m\u001b[0;34m,\u001b[0m \u001b[0;34m*\u001b[0m\u001b[0margs\u001b[0m\u001b[0;34m,\u001b[0m \u001b[0;34m**\u001b[0m\u001b[0mkwargs\u001b[0m\u001b[0;34m)\u001b[0m\u001b[0;34m\u001b[0m\u001b[0;34m\u001b[0m\u001b[0m\n\u001b[0m\u001b[1;32m    235\u001b[0m \u001b[0;34m\u001b[0m\u001b[0m\n\u001b[1;32m    236\u001b[0m     \u001b[0;32mdef\u001b[0m \u001b[0mrun_trial\u001b[0m\u001b[0;34m(\u001b[0m\u001b[0mself\u001b[0m\u001b[0;34m,\u001b[0m \u001b[0mtrial\u001b[0m\u001b[0;34m,\u001b[0m \u001b[0;34m*\u001b[0m\u001b[0margs\u001b[0m\u001b[0;34m,\u001b[0m \u001b[0;34m**\u001b[0m\u001b[0mkwargs\u001b[0m\u001b[0;34m)\u001b[0m\u001b[0;34m:\u001b[0m\u001b[0;34m\u001b[0m\u001b[0;34m\u001b[0m\u001b[0m\n",
            "\u001b[0;32m/usr/local/lib/python3.7/dist-packages/keras_tuner/engine/hypermodel.py\u001b[0m in \u001b[0;36mfit\u001b[0;34m(self, hp, model, *args, **kwargs)\u001b[0m\n\u001b[1;32m    135\u001b[0m             \u001b[0mIf\u001b[0m \u001b[0;32mreturn\u001b[0m \u001b[0ma\u001b[0m \u001b[0mfloat\u001b[0m\u001b[0;34m,\u001b[0m \u001b[0mit\u001b[0m \u001b[0mshould\u001b[0m \u001b[0mbe\u001b[0m \u001b[0mthe\u001b[0m\u001b[0;31m \u001b[0m\u001b[0;31m`\u001b[0m\u001b[0mobjective\u001b[0m\u001b[0;31m`\u001b[0m \u001b[0mvalue\u001b[0m\u001b[0;34m.\u001b[0m\u001b[0;34m\u001b[0m\u001b[0;34m\u001b[0m\u001b[0m\n\u001b[1;32m    136\u001b[0m         \"\"\"\n\u001b[0;32m--> 137\u001b[0;31m         \u001b[0;32mreturn\u001b[0m \u001b[0mmodel\u001b[0m\u001b[0;34m.\u001b[0m\u001b[0mfit\u001b[0m\u001b[0;34m(\u001b[0m\u001b[0;34m*\u001b[0m\u001b[0margs\u001b[0m\u001b[0;34m,\u001b[0m \u001b[0;34m**\u001b[0m\u001b[0mkwargs\u001b[0m\u001b[0;34m)\u001b[0m\u001b[0;34m\u001b[0m\u001b[0;34m\u001b[0m\u001b[0m\n\u001b[0m\u001b[1;32m    138\u001b[0m \u001b[0;34m\u001b[0m\u001b[0m\n\u001b[1;32m    139\u001b[0m \u001b[0;34m\u001b[0m\u001b[0m\n",
            "\u001b[0;32m/usr/local/lib/python3.7/dist-packages/keras/utils/traceback_utils.py\u001b[0m in \u001b[0;36merror_handler\u001b[0;34m(*args, **kwargs)\u001b[0m\n\u001b[1;32m     62\u001b[0m     \u001b[0mfiltered_tb\u001b[0m \u001b[0;34m=\u001b[0m \u001b[0;32mNone\u001b[0m\u001b[0;34m\u001b[0m\u001b[0;34m\u001b[0m\u001b[0m\n\u001b[1;32m     63\u001b[0m     \u001b[0;32mtry\u001b[0m\u001b[0;34m:\u001b[0m\u001b[0;34m\u001b[0m\u001b[0;34m\u001b[0m\u001b[0m\n\u001b[0;32m---> 64\u001b[0;31m       \u001b[0;32mreturn\u001b[0m \u001b[0mfn\u001b[0m\u001b[0;34m(\u001b[0m\u001b[0;34m*\u001b[0m\u001b[0margs\u001b[0m\u001b[0;34m,\u001b[0m \u001b[0;34m**\u001b[0m\u001b[0mkwargs\u001b[0m\u001b[0;34m)\u001b[0m\u001b[0;34m\u001b[0m\u001b[0;34m\u001b[0m\u001b[0m\n\u001b[0m\u001b[1;32m     65\u001b[0m     \u001b[0;32mexcept\u001b[0m \u001b[0mException\u001b[0m \u001b[0;32mas\u001b[0m \u001b[0me\u001b[0m\u001b[0;34m:\u001b[0m  \u001b[0;31m# pylint: disable=broad-except\u001b[0m\u001b[0;34m\u001b[0m\u001b[0;34m\u001b[0m\u001b[0m\n\u001b[1;32m     66\u001b[0m       \u001b[0mfiltered_tb\u001b[0m \u001b[0;34m=\u001b[0m \u001b[0m_process_traceback_frames\u001b[0m\u001b[0;34m(\u001b[0m\u001b[0me\u001b[0m\u001b[0;34m.\u001b[0m\u001b[0m__traceback__\u001b[0m\u001b[0;34m)\u001b[0m\u001b[0;34m\u001b[0m\u001b[0;34m\u001b[0m\u001b[0m\n",
            "\u001b[0;32m/usr/local/lib/python3.7/dist-packages/keras/engine/training.py\u001b[0m in \u001b[0;36mfit\u001b[0;34m(self, x, y, batch_size, epochs, verbose, callbacks, validation_split, validation_data, shuffle, class_weight, sample_weight, initial_epoch, steps_per_epoch, validation_steps, validation_batch_size, validation_freq, max_queue_size, workers, use_multiprocessing)\u001b[0m\n\u001b[1;32m   1382\u001b[0m                 _r=1):\n\u001b[1;32m   1383\u001b[0m               \u001b[0mcallbacks\u001b[0m\u001b[0;34m.\u001b[0m\u001b[0mon_train_batch_begin\u001b[0m\u001b[0;34m(\u001b[0m\u001b[0mstep\u001b[0m\u001b[0;34m)\u001b[0m\u001b[0;34m\u001b[0m\u001b[0;34m\u001b[0m\u001b[0m\n\u001b[0;32m-> 1384\u001b[0;31m               \u001b[0mtmp_logs\u001b[0m \u001b[0;34m=\u001b[0m \u001b[0mself\u001b[0m\u001b[0;34m.\u001b[0m\u001b[0mtrain_function\u001b[0m\u001b[0;34m(\u001b[0m\u001b[0miterator\u001b[0m\u001b[0;34m)\u001b[0m\u001b[0;34m\u001b[0m\u001b[0;34m\u001b[0m\u001b[0m\n\u001b[0m\u001b[1;32m   1385\u001b[0m               \u001b[0;32mif\u001b[0m \u001b[0mdata_handler\u001b[0m\u001b[0;34m.\u001b[0m\u001b[0mshould_sync\u001b[0m\u001b[0;34m:\u001b[0m\u001b[0;34m\u001b[0m\u001b[0;34m\u001b[0m\u001b[0m\n\u001b[1;32m   1386\u001b[0m                 \u001b[0mcontext\u001b[0m\u001b[0;34m.\u001b[0m\u001b[0masync_wait\u001b[0m\u001b[0;34m(\u001b[0m\u001b[0;34m)\u001b[0m\u001b[0;34m\u001b[0m\u001b[0;34m\u001b[0m\u001b[0m\n",
            "\u001b[0;32m/usr/local/lib/python3.7/dist-packages/tensorflow/python/util/traceback_utils.py\u001b[0m in \u001b[0;36merror_handler\u001b[0;34m(*args, **kwargs)\u001b[0m\n\u001b[1;32m    148\u001b[0m     \u001b[0mfiltered_tb\u001b[0m \u001b[0;34m=\u001b[0m \u001b[0;32mNone\u001b[0m\u001b[0;34m\u001b[0m\u001b[0;34m\u001b[0m\u001b[0m\n\u001b[1;32m    149\u001b[0m     \u001b[0;32mtry\u001b[0m\u001b[0;34m:\u001b[0m\u001b[0;34m\u001b[0m\u001b[0;34m\u001b[0m\u001b[0m\n\u001b[0;32m--> 150\u001b[0;31m       \u001b[0;32mreturn\u001b[0m \u001b[0mfn\u001b[0m\u001b[0;34m(\u001b[0m\u001b[0;34m*\u001b[0m\u001b[0margs\u001b[0m\u001b[0;34m,\u001b[0m \u001b[0;34m**\u001b[0m\u001b[0mkwargs\u001b[0m\u001b[0;34m)\u001b[0m\u001b[0;34m\u001b[0m\u001b[0;34m\u001b[0m\u001b[0m\n\u001b[0m\u001b[1;32m    151\u001b[0m     \u001b[0;32mexcept\u001b[0m \u001b[0mException\u001b[0m \u001b[0;32mas\u001b[0m \u001b[0me\u001b[0m\u001b[0;34m:\u001b[0m\u001b[0;34m\u001b[0m\u001b[0;34m\u001b[0m\u001b[0m\n\u001b[1;32m    152\u001b[0m       \u001b[0mfiltered_tb\u001b[0m \u001b[0;34m=\u001b[0m \u001b[0m_process_traceback_frames\u001b[0m\u001b[0;34m(\u001b[0m\u001b[0me\u001b[0m\u001b[0;34m.\u001b[0m\u001b[0m__traceback__\u001b[0m\u001b[0;34m)\u001b[0m\u001b[0;34m\u001b[0m\u001b[0;34m\u001b[0m\u001b[0m\n",
            "\u001b[0;32m/usr/local/lib/python3.7/dist-packages/tensorflow/python/eager/def_function.py\u001b[0m in \u001b[0;36m__call__\u001b[0;34m(self, *args, **kwds)\u001b[0m\n\u001b[1;32m    913\u001b[0m \u001b[0;34m\u001b[0m\u001b[0m\n\u001b[1;32m    914\u001b[0m       \u001b[0;32mwith\u001b[0m \u001b[0mOptionalXlaContext\u001b[0m\u001b[0;34m(\u001b[0m\u001b[0mself\u001b[0m\u001b[0;34m.\u001b[0m\u001b[0m_jit_compile\u001b[0m\u001b[0;34m)\u001b[0m\u001b[0;34m:\u001b[0m\u001b[0;34m\u001b[0m\u001b[0;34m\u001b[0m\u001b[0m\n\u001b[0;32m--> 915\u001b[0;31m         \u001b[0mresult\u001b[0m \u001b[0;34m=\u001b[0m \u001b[0mself\u001b[0m\u001b[0;34m.\u001b[0m\u001b[0m_call\u001b[0m\u001b[0;34m(\u001b[0m\u001b[0;34m*\u001b[0m\u001b[0margs\u001b[0m\u001b[0;34m,\u001b[0m \u001b[0;34m**\u001b[0m\u001b[0mkwds\u001b[0m\u001b[0;34m)\u001b[0m\u001b[0;34m\u001b[0m\u001b[0;34m\u001b[0m\u001b[0m\n\u001b[0m\u001b[1;32m    916\u001b[0m \u001b[0;34m\u001b[0m\u001b[0m\n\u001b[1;32m    917\u001b[0m       \u001b[0mnew_tracing_count\u001b[0m \u001b[0;34m=\u001b[0m \u001b[0mself\u001b[0m\u001b[0;34m.\u001b[0m\u001b[0mexperimental_get_tracing_count\u001b[0m\u001b[0;34m(\u001b[0m\u001b[0;34m)\u001b[0m\u001b[0;34m\u001b[0m\u001b[0;34m\u001b[0m\u001b[0m\n",
            "\u001b[0;32m/usr/local/lib/python3.7/dist-packages/tensorflow/python/eager/def_function.py\u001b[0m in \u001b[0;36m_call\u001b[0;34m(self, *args, **kwds)\u001b[0m\n\u001b[1;32m    978\u001b[0m         \u001b[0;31m# Lifting succeeded, so variables are initialized and we can run the\u001b[0m\u001b[0;34m\u001b[0m\u001b[0;34m\u001b[0m\u001b[0;34m\u001b[0m\u001b[0m\n\u001b[1;32m    979\u001b[0m         \u001b[0;31m# stateless function.\u001b[0m\u001b[0;34m\u001b[0m\u001b[0;34m\u001b[0m\u001b[0;34m\u001b[0m\u001b[0m\n\u001b[0;32m--> 980\u001b[0;31m         \u001b[0;32mreturn\u001b[0m \u001b[0mself\u001b[0m\u001b[0;34m.\u001b[0m\u001b[0m_stateless_fn\u001b[0m\u001b[0;34m(\u001b[0m\u001b[0;34m*\u001b[0m\u001b[0margs\u001b[0m\u001b[0;34m,\u001b[0m \u001b[0;34m**\u001b[0m\u001b[0mkwds\u001b[0m\u001b[0;34m)\u001b[0m\u001b[0;34m\u001b[0m\u001b[0;34m\u001b[0m\u001b[0m\n\u001b[0m\u001b[1;32m    981\u001b[0m     \u001b[0;32melse\u001b[0m\u001b[0;34m:\u001b[0m\u001b[0;34m\u001b[0m\u001b[0;34m\u001b[0m\u001b[0m\n\u001b[1;32m    982\u001b[0m       \u001b[0m_\u001b[0m\u001b[0;34m,\u001b[0m \u001b[0m_\u001b[0m\u001b[0;34m,\u001b[0m \u001b[0m_\u001b[0m\u001b[0;34m,\u001b[0m \u001b[0mfiltered_flat_args\u001b[0m \u001b[0;34m=\u001b[0m\u001b[0;31m \u001b[0m\u001b[0;31m\\\u001b[0m\u001b[0;34m\u001b[0m\u001b[0;34m\u001b[0m\u001b[0m\n",
            "\u001b[0;32m/usr/local/lib/python3.7/dist-packages/tensorflow/python/eager/function.py\u001b[0m in \u001b[0;36m__call__\u001b[0;34m(self, *args, **kwargs)\u001b[0m\n\u001b[1;32m   2953\u001b[0m     \u001b[0;32mwith\u001b[0m \u001b[0mself\u001b[0m\u001b[0;34m.\u001b[0m\u001b[0m_lock\u001b[0m\u001b[0;34m:\u001b[0m\u001b[0;34m\u001b[0m\u001b[0;34m\u001b[0m\u001b[0m\n\u001b[1;32m   2954\u001b[0m       (graph_function,\n\u001b[0;32m-> 2955\u001b[0;31m        filtered_flat_args) = self._maybe_define_function(args, kwargs)\n\u001b[0m\u001b[1;32m   2956\u001b[0m     return graph_function._call_flat(\n\u001b[1;32m   2957\u001b[0m         filtered_flat_args, captured_inputs=graph_function.captured_inputs)  # pylint: disable=protected-access\n",
            "\u001b[0;32m/usr/local/lib/python3.7/dist-packages/tensorflow/python/eager/function.py\u001b[0m in \u001b[0;36m_maybe_define_function\u001b[0;34m(self, args, kwargs)\u001b[0m\n\u001b[1;32m   3290\u001b[0m \u001b[0;34m\u001b[0m\u001b[0m\n\u001b[1;32m   3291\u001b[0m           \u001b[0mself\u001b[0m\u001b[0;34m.\u001b[0m\u001b[0m_function_cache\u001b[0m\u001b[0;34m.\u001b[0m\u001b[0madd_call_context\u001b[0m\u001b[0;34m(\u001b[0m\u001b[0mcache_key\u001b[0m\u001b[0;34m.\u001b[0m\u001b[0mcall_context\u001b[0m\u001b[0;34m)\u001b[0m\u001b[0;34m\u001b[0m\u001b[0;34m\u001b[0m\u001b[0m\n\u001b[0;32m-> 3292\u001b[0;31m           \u001b[0mgraph_function\u001b[0m \u001b[0;34m=\u001b[0m \u001b[0mself\u001b[0m\u001b[0;34m.\u001b[0m\u001b[0m_create_graph_function\u001b[0m\u001b[0;34m(\u001b[0m\u001b[0margs\u001b[0m\u001b[0;34m,\u001b[0m \u001b[0mkwargs\u001b[0m\u001b[0;34m)\u001b[0m\u001b[0;34m\u001b[0m\u001b[0;34m\u001b[0m\u001b[0m\n\u001b[0m\u001b[1;32m   3293\u001b[0m           self._function_cache.add(cache_key, cache_key_deletion_observer,\n\u001b[1;32m   3294\u001b[0m                                    graph_function)\n",
            "\u001b[0;32m/usr/local/lib/python3.7/dist-packages/tensorflow/python/eager/function.py\u001b[0m in \u001b[0;36m_create_graph_function\u001b[0;34m(self, args, kwargs, override_flat_arg_shapes)\u001b[0m\n\u001b[1;32m   3138\u001b[0m             \u001b[0marg_names\u001b[0m\u001b[0;34m=\u001b[0m\u001b[0marg_names\u001b[0m\u001b[0;34m,\u001b[0m\u001b[0;34m\u001b[0m\u001b[0;34m\u001b[0m\u001b[0m\n\u001b[1;32m   3139\u001b[0m             \u001b[0moverride_flat_arg_shapes\u001b[0m\u001b[0;34m=\u001b[0m\u001b[0moverride_flat_arg_shapes\u001b[0m\u001b[0;34m,\u001b[0m\u001b[0;34m\u001b[0m\u001b[0;34m\u001b[0m\u001b[0m\n\u001b[0;32m-> 3140\u001b[0;31m             capture_by_value=self._capture_by_value),\n\u001b[0m\u001b[1;32m   3141\u001b[0m         \u001b[0mself\u001b[0m\u001b[0;34m.\u001b[0m\u001b[0m_function_attributes\u001b[0m\u001b[0;34m,\u001b[0m\u001b[0;34m\u001b[0m\u001b[0;34m\u001b[0m\u001b[0m\n\u001b[1;32m   3142\u001b[0m         \u001b[0mfunction_spec\u001b[0m\u001b[0;34m=\u001b[0m\u001b[0mself\u001b[0m\u001b[0;34m.\u001b[0m\u001b[0mfunction_spec\u001b[0m\u001b[0;34m,\u001b[0m\u001b[0;34m\u001b[0m\u001b[0;34m\u001b[0m\u001b[0m\n",
            "\u001b[0;32m/usr/local/lib/python3.7/dist-packages/tensorflow/python/framework/func_graph.py\u001b[0m in \u001b[0;36mfunc_graph_from_py_func\u001b[0;34m(name, python_func, args, kwargs, signature, func_graph, autograph, autograph_options, add_control_dependencies, arg_names, op_return_value, collections, capture_by_value, override_flat_arg_shapes, acd_record_initial_resource_uses)\u001b[0m\n\u001b[1;32m   1159\u001b[0m         \u001b[0m_\u001b[0m\u001b[0;34m,\u001b[0m \u001b[0moriginal_func\u001b[0m \u001b[0;34m=\u001b[0m \u001b[0mtf_decorator\u001b[0m\u001b[0;34m.\u001b[0m\u001b[0munwrap\u001b[0m\u001b[0;34m(\u001b[0m\u001b[0mpython_func\u001b[0m\u001b[0;34m)\u001b[0m\u001b[0;34m\u001b[0m\u001b[0;34m\u001b[0m\u001b[0m\n\u001b[1;32m   1160\u001b[0m \u001b[0;34m\u001b[0m\u001b[0m\n\u001b[0;32m-> 1161\u001b[0;31m       \u001b[0mfunc_outputs\u001b[0m \u001b[0;34m=\u001b[0m \u001b[0mpython_func\u001b[0m\u001b[0;34m(\u001b[0m\u001b[0;34m*\u001b[0m\u001b[0mfunc_args\u001b[0m\u001b[0;34m,\u001b[0m \u001b[0;34m**\u001b[0m\u001b[0mfunc_kwargs\u001b[0m\u001b[0;34m)\u001b[0m\u001b[0;34m\u001b[0m\u001b[0;34m\u001b[0m\u001b[0m\n\u001b[0m\u001b[1;32m   1162\u001b[0m \u001b[0;34m\u001b[0m\u001b[0m\n\u001b[1;32m   1163\u001b[0m       \u001b[0;31m# invariant: `func_outputs` contains only Tensors, CompositeTensors,\u001b[0m\u001b[0;34m\u001b[0m\u001b[0;34m\u001b[0m\u001b[0;34m\u001b[0m\u001b[0m\n",
            "\u001b[0;32m/usr/local/lib/python3.7/dist-packages/tensorflow/python/eager/def_function.py\u001b[0m in \u001b[0;36mwrapped_fn\u001b[0;34m(*args, **kwds)\u001b[0m\n\u001b[1;32m    675\u001b[0m         \u001b[0;31m# the function a weak reference to itself to avoid a reference cycle.\u001b[0m\u001b[0;34m\u001b[0m\u001b[0;34m\u001b[0m\u001b[0;34m\u001b[0m\u001b[0m\n\u001b[1;32m    676\u001b[0m         \u001b[0;32mwith\u001b[0m \u001b[0mOptionalXlaContext\u001b[0m\u001b[0;34m(\u001b[0m\u001b[0mcompile_with_xla\u001b[0m\u001b[0;34m)\u001b[0m\u001b[0;34m:\u001b[0m\u001b[0;34m\u001b[0m\u001b[0;34m\u001b[0m\u001b[0m\n\u001b[0;32m--> 677\u001b[0;31m           \u001b[0mout\u001b[0m \u001b[0;34m=\u001b[0m \u001b[0mweak_wrapped_fn\u001b[0m\u001b[0;34m(\u001b[0m\u001b[0;34m)\u001b[0m\u001b[0;34m.\u001b[0m\u001b[0m__wrapped__\u001b[0m\u001b[0;34m(\u001b[0m\u001b[0;34m*\u001b[0m\u001b[0margs\u001b[0m\u001b[0;34m,\u001b[0m \u001b[0;34m**\u001b[0m\u001b[0mkwds\u001b[0m\u001b[0;34m)\u001b[0m\u001b[0;34m\u001b[0m\u001b[0;34m\u001b[0m\u001b[0m\n\u001b[0m\u001b[1;32m    678\u001b[0m         \u001b[0;32mreturn\u001b[0m \u001b[0mout\u001b[0m\u001b[0;34m\u001b[0m\u001b[0;34m\u001b[0m\u001b[0m\n\u001b[1;32m    679\u001b[0m \u001b[0;34m\u001b[0m\u001b[0m\n",
            "\u001b[0;32m/usr/local/lib/python3.7/dist-packages/tensorflow/python/framework/func_graph.py\u001b[0m in \u001b[0;36mautograph_handler\u001b[0;34m(*args, **kwargs)\u001b[0m\n\u001b[1;32m   1141\u001b[0m                     \u001b[0mrecursive\u001b[0m\u001b[0;34m=\u001b[0m\u001b[0;32mTrue\u001b[0m\u001b[0;34m,\u001b[0m\u001b[0;34m\u001b[0m\u001b[0;34m\u001b[0m\u001b[0m\n\u001b[1;32m   1142\u001b[0m                     \u001b[0moptional_features\u001b[0m\u001b[0;34m=\u001b[0m\u001b[0mautograph_options\u001b[0m\u001b[0;34m,\u001b[0m\u001b[0;34m\u001b[0m\u001b[0;34m\u001b[0m\u001b[0m\n\u001b[0;32m-> 1143\u001b[0;31m                     \u001b[0muser_requested\u001b[0m\u001b[0;34m=\u001b[0m\u001b[0;32mTrue\u001b[0m\u001b[0;34m,\u001b[0m\u001b[0;34m\u001b[0m\u001b[0;34m\u001b[0m\u001b[0m\n\u001b[0m\u001b[1;32m   1144\u001b[0m                 ))\n\u001b[1;32m   1145\u001b[0m           \u001b[0;32mexcept\u001b[0m \u001b[0mException\u001b[0m \u001b[0;32mas\u001b[0m \u001b[0me\u001b[0m\u001b[0;34m:\u001b[0m  \u001b[0;31m# pylint:disable=broad-except\u001b[0m\u001b[0;34m\u001b[0m\u001b[0;34m\u001b[0m\u001b[0m\n",
            "\u001b[0;32m/usr/local/lib/python3.7/dist-packages/tensorflow/python/autograph/impl/api.py\u001b[0m in \u001b[0;36mconverted_call\u001b[0;34m(f, args, kwargs, caller_fn_scope, options)\u001b[0m\n\u001b[1;32m    437\u001b[0m     \u001b[0;32mtry\u001b[0m\u001b[0;34m:\u001b[0m\u001b[0;34m\u001b[0m\u001b[0;34m\u001b[0m\u001b[0m\n\u001b[1;32m    438\u001b[0m       \u001b[0;32mif\u001b[0m \u001b[0mkwargs\u001b[0m \u001b[0;32mis\u001b[0m \u001b[0;32mnot\u001b[0m \u001b[0;32mNone\u001b[0m\u001b[0;34m:\u001b[0m\u001b[0;34m\u001b[0m\u001b[0;34m\u001b[0m\u001b[0m\n\u001b[0;32m--> 439\u001b[0;31m         \u001b[0mresult\u001b[0m \u001b[0;34m=\u001b[0m \u001b[0mconverted_f\u001b[0m\u001b[0;34m(\u001b[0m\u001b[0;34m*\u001b[0m\u001b[0meffective_args\u001b[0m\u001b[0;34m,\u001b[0m \u001b[0;34m**\u001b[0m\u001b[0mkwargs\u001b[0m\u001b[0;34m)\u001b[0m\u001b[0;34m\u001b[0m\u001b[0;34m\u001b[0m\u001b[0m\n\u001b[0m\u001b[1;32m    440\u001b[0m       \u001b[0;32melse\u001b[0m\u001b[0;34m:\u001b[0m\u001b[0;34m\u001b[0m\u001b[0;34m\u001b[0m\u001b[0m\n\u001b[1;32m    441\u001b[0m         \u001b[0mresult\u001b[0m \u001b[0;34m=\u001b[0m \u001b[0mconverted_f\u001b[0m\u001b[0;34m(\u001b[0m\u001b[0;34m*\u001b[0m\u001b[0meffective_args\u001b[0m\u001b[0;34m)\u001b[0m\u001b[0;34m\u001b[0m\u001b[0;34m\u001b[0m\u001b[0m\n",
            "\u001b[0;32m/usr/local/lib/python3.7/dist-packages/keras/engine/training.py\u001b[0m in \u001b[0;36mtf__train_function\u001b[0;34m(iterator)\u001b[0m\n\u001b[1;32m     13\u001b[0m                 \u001b[0;32mtry\u001b[0m\u001b[0;34m:\u001b[0m\u001b[0;34m\u001b[0m\u001b[0;34m\u001b[0m\u001b[0m\n\u001b[1;32m     14\u001b[0m                     \u001b[0mdo_return\u001b[0m \u001b[0;34m=\u001b[0m \u001b[0;32mTrue\u001b[0m\u001b[0;34m\u001b[0m\u001b[0;34m\u001b[0m\u001b[0m\n\u001b[0;32m---> 15\u001b[0;31m                     \u001b[0mretval_\u001b[0m \u001b[0;34m=\u001b[0m \u001b[0mag__\u001b[0m\u001b[0;34m.\u001b[0m\u001b[0mconverted_call\u001b[0m\u001b[0;34m(\u001b[0m\u001b[0mag__\u001b[0m\u001b[0;34m.\u001b[0m\u001b[0mld\u001b[0m\u001b[0;34m(\u001b[0m\u001b[0mstep_function\u001b[0m\u001b[0;34m)\u001b[0m\u001b[0;34m,\u001b[0m \u001b[0;34m(\u001b[0m\u001b[0mag__\u001b[0m\u001b[0;34m.\u001b[0m\u001b[0mld\u001b[0m\u001b[0;34m(\u001b[0m\u001b[0mself\u001b[0m\u001b[0;34m)\u001b[0m\u001b[0;34m,\u001b[0m \u001b[0mag__\u001b[0m\u001b[0;34m.\u001b[0m\u001b[0mld\u001b[0m\u001b[0;34m(\u001b[0m\u001b[0miterator\u001b[0m\u001b[0;34m)\u001b[0m\u001b[0;34m)\u001b[0m\u001b[0;34m,\u001b[0m \u001b[0;32mNone\u001b[0m\u001b[0;34m,\u001b[0m \u001b[0mfscope\u001b[0m\u001b[0;34m)\u001b[0m\u001b[0;34m\u001b[0m\u001b[0;34m\u001b[0m\u001b[0m\n\u001b[0m\u001b[1;32m     16\u001b[0m                 \u001b[0;32mexcept\u001b[0m\u001b[0;34m:\u001b[0m\u001b[0;34m\u001b[0m\u001b[0;34m\u001b[0m\u001b[0m\n\u001b[1;32m     17\u001b[0m                     \u001b[0mdo_return\u001b[0m \u001b[0;34m=\u001b[0m \u001b[0;32mFalse\u001b[0m\u001b[0;34m\u001b[0m\u001b[0;34m\u001b[0m\u001b[0m\n",
            "\u001b[0;32m/usr/local/lib/python3.7/dist-packages/tensorflow/python/autograph/impl/api.py\u001b[0m in \u001b[0;36mconverted_call\u001b[0;34m(f, args, kwargs, caller_fn_scope, options)\u001b[0m\n\u001b[1;32m    329\u001b[0m   \u001b[0;32mif\u001b[0m \u001b[0mconversion\u001b[0m\u001b[0;34m.\u001b[0m\u001b[0mis_in_allowlist_cache\u001b[0m\u001b[0;34m(\u001b[0m\u001b[0mf\u001b[0m\u001b[0;34m,\u001b[0m \u001b[0moptions\u001b[0m\u001b[0;34m)\u001b[0m\u001b[0;34m:\u001b[0m\u001b[0;34m\u001b[0m\u001b[0;34m\u001b[0m\u001b[0m\n\u001b[1;32m    330\u001b[0m     \u001b[0mlogging\u001b[0m\u001b[0;34m.\u001b[0m\u001b[0mlog\u001b[0m\u001b[0;34m(\u001b[0m\u001b[0;36m2\u001b[0m\u001b[0;34m,\u001b[0m \u001b[0;34m'Allowlisted %s: from cache'\u001b[0m\u001b[0;34m,\u001b[0m \u001b[0mf\u001b[0m\u001b[0;34m)\u001b[0m\u001b[0;34m\u001b[0m\u001b[0;34m\u001b[0m\u001b[0m\n\u001b[0;32m--> 331\u001b[0;31m     \u001b[0;32mreturn\u001b[0m \u001b[0m_call_unconverted\u001b[0m\u001b[0;34m(\u001b[0m\u001b[0mf\u001b[0m\u001b[0;34m,\u001b[0m \u001b[0margs\u001b[0m\u001b[0;34m,\u001b[0m \u001b[0mkwargs\u001b[0m\u001b[0;34m,\u001b[0m \u001b[0moptions\u001b[0m\u001b[0;34m,\u001b[0m \u001b[0;32mFalse\u001b[0m\u001b[0;34m)\u001b[0m\u001b[0;34m\u001b[0m\u001b[0;34m\u001b[0m\u001b[0m\n\u001b[0m\u001b[1;32m    332\u001b[0m \u001b[0;34m\u001b[0m\u001b[0m\n\u001b[1;32m    333\u001b[0m   \u001b[0;32mif\u001b[0m \u001b[0mag_ctx\u001b[0m\u001b[0;34m.\u001b[0m\u001b[0mcontrol_status_ctx\u001b[0m\u001b[0;34m(\u001b[0m\u001b[0;34m)\u001b[0m\u001b[0;34m.\u001b[0m\u001b[0mstatus\u001b[0m \u001b[0;34m==\u001b[0m \u001b[0mag_ctx\u001b[0m\u001b[0;34m.\u001b[0m\u001b[0mStatus\u001b[0m\u001b[0;34m.\u001b[0m\u001b[0mDISABLED\u001b[0m\u001b[0;34m:\u001b[0m\u001b[0;34m\u001b[0m\u001b[0;34m\u001b[0m\u001b[0m\n",
            "\u001b[0;32m/usr/local/lib/python3.7/dist-packages/tensorflow/python/autograph/impl/api.py\u001b[0m in \u001b[0;36m_call_unconverted\u001b[0;34m(f, args, kwargs, options, update_cache)\u001b[0m\n\u001b[1;32m    457\u001b[0m   \u001b[0;32mif\u001b[0m \u001b[0mkwargs\u001b[0m \u001b[0;32mis\u001b[0m \u001b[0;32mnot\u001b[0m \u001b[0;32mNone\u001b[0m\u001b[0;34m:\u001b[0m\u001b[0;34m\u001b[0m\u001b[0;34m\u001b[0m\u001b[0m\n\u001b[1;32m    458\u001b[0m     \u001b[0;32mreturn\u001b[0m \u001b[0mf\u001b[0m\u001b[0;34m(\u001b[0m\u001b[0;34m*\u001b[0m\u001b[0margs\u001b[0m\u001b[0;34m,\u001b[0m \u001b[0;34m**\u001b[0m\u001b[0mkwargs\u001b[0m\u001b[0;34m)\u001b[0m\u001b[0;34m\u001b[0m\u001b[0;34m\u001b[0m\u001b[0m\n\u001b[0;32m--> 459\u001b[0;31m   \u001b[0;32mreturn\u001b[0m \u001b[0mf\u001b[0m\u001b[0;34m(\u001b[0m\u001b[0;34m*\u001b[0m\u001b[0margs\u001b[0m\u001b[0;34m)\u001b[0m\u001b[0;34m\u001b[0m\u001b[0;34m\u001b[0m\u001b[0m\n\u001b[0m\u001b[1;32m    460\u001b[0m \u001b[0;34m\u001b[0m\u001b[0m\n\u001b[1;32m    461\u001b[0m \u001b[0;34m\u001b[0m\u001b[0m\n",
            "\u001b[0;32m/usr/local/lib/python3.7/dist-packages/keras/engine/training.py\u001b[0m in \u001b[0;36mstep_function\u001b[0;34m(model, iterator)\u001b[0m\n\u001b[1;32m   1008\u001b[0m             run_step, jit_compile=True, experimental_relax_shapes=True)\n\u001b[1;32m   1009\u001b[0m       \u001b[0mdata\u001b[0m \u001b[0;34m=\u001b[0m \u001b[0mnext\u001b[0m\u001b[0;34m(\u001b[0m\u001b[0miterator\u001b[0m\u001b[0;34m)\u001b[0m\u001b[0;34m\u001b[0m\u001b[0;34m\u001b[0m\u001b[0m\n\u001b[0;32m-> 1010\u001b[0;31m       \u001b[0moutputs\u001b[0m \u001b[0;34m=\u001b[0m \u001b[0mmodel\u001b[0m\u001b[0;34m.\u001b[0m\u001b[0mdistribute_strategy\u001b[0m\u001b[0;34m.\u001b[0m\u001b[0mrun\u001b[0m\u001b[0;34m(\u001b[0m\u001b[0mrun_step\u001b[0m\u001b[0;34m,\u001b[0m \u001b[0margs\u001b[0m\u001b[0;34m=\u001b[0m\u001b[0;34m(\u001b[0m\u001b[0mdata\u001b[0m\u001b[0;34m,\u001b[0m\u001b[0;34m)\u001b[0m\u001b[0;34m)\u001b[0m\u001b[0;34m\u001b[0m\u001b[0;34m\u001b[0m\u001b[0m\n\u001b[0m\u001b[1;32m   1011\u001b[0m       outputs = reduce_per_replica(\n\u001b[1;32m   1012\u001b[0m           outputs, self.distribute_strategy, reduction='first')\n",
            "\u001b[0;32m/usr/local/lib/python3.7/dist-packages/tensorflow/python/distribute/distribute_lib.py\u001b[0m in \u001b[0;36mrun\u001b[0;34m(***failed resolving arguments***)\u001b[0m\n\u001b[1;32m   1310\u001b[0m       fn = autograph.tf_convert(\n\u001b[1;32m   1311\u001b[0m           fn, autograph_ctx.control_status_ctx(), convert_by_default=False)\n\u001b[0;32m-> 1312\u001b[0;31m       \u001b[0;32mreturn\u001b[0m \u001b[0mself\u001b[0m\u001b[0;34m.\u001b[0m\u001b[0m_extended\u001b[0m\u001b[0;34m.\u001b[0m\u001b[0mcall_for_each_replica\u001b[0m\u001b[0;34m(\u001b[0m\u001b[0mfn\u001b[0m\u001b[0;34m,\u001b[0m \u001b[0margs\u001b[0m\u001b[0;34m=\u001b[0m\u001b[0margs\u001b[0m\u001b[0;34m,\u001b[0m \u001b[0mkwargs\u001b[0m\u001b[0;34m=\u001b[0m\u001b[0mkwargs\u001b[0m\u001b[0;34m)\u001b[0m\u001b[0;34m\u001b[0m\u001b[0;34m\u001b[0m\u001b[0m\n\u001b[0m\u001b[1;32m   1313\u001b[0m \u001b[0;34m\u001b[0m\u001b[0m\n\u001b[1;32m   1314\u001b[0m   \u001b[0;32mdef\u001b[0m \u001b[0mreduce\u001b[0m\u001b[0;34m(\u001b[0m\u001b[0mself\u001b[0m\u001b[0;34m,\u001b[0m \u001b[0mreduce_op\u001b[0m\u001b[0;34m,\u001b[0m \u001b[0mvalue\u001b[0m\u001b[0;34m,\u001b[0m \u001b[0maxis\u001b[0m\u001b[0;34m)\u001b[0m\u001b[0;34m:\u001b[0m\u001b[0;34m\u001b[0m\u001b[0;34m\u001b[0m\u001b[0m\n",
            "\u001b[0;32m/usr/local/lib/python3.7/dist-packages/tensorflow/python/distribute/distribute_lib.py\u001b[0m in \u001b[0;36mcall_for_each_replica\u001b[0;34m(self, fn, args, kwargs)\u001b[0m\n\u001b[1;32m   2886\u001b[0m       \u001b[0mkwargs\u001b[0m \u001b[0;34m=\u001b[0m \u001b[0;34m{\u001b[0m\u001b[0;34m}\u001b[0m\u001b[0;34m\u001b[0m\u001b[0;34m\u001b[0m\u001b[0m\n\u001b[1;32m   2887\u001b[0m     \u001b[0;32mwith\u001b[0m \u001b[0mself\u001b[0m\u001b[0;34m.\u001b[0m\u001b[0m_container_strategy\u001b[0m\u001b[0;34m(\u001b[0m\u001b[0;34m)\u001b[0m\u001b[0;34m.\u001b[0m\u001b[0mscope\u001b[0m\u001b[0;34m(\u001b[0m\u001b[0;34m)\u001b[0m\u001b[0;34m:\u001b[0m\u001b[0;34m\u001b[0m\u001b[0;34m\u001b[0m\u001b[0m\n\u001b[0;32m-> 2888\u001b[0;31m       \u001b[0;32mreturn\u001b[0m \u001b[0mself\u001b[0m\u001b[0;34m.\u001b[0m\u001b[0m_call_for_each_replica\u001b[0m\u001b[0;34m(\u001b[0m\u001b[0mfn\u001b[0m\u001b[0;34m,\u001b[0m \u001b[0margs\u001b[0m\u001b[0;34m,\u001b[0m \u001b[0mkwargs\u001b[0m\u001b[0;34m)\u001b[0m\u001b[0;34m\u001b[0m\u001b[0;34m\u001b[0m\u001b[0m\n\u001b[0m\u001b[1;32m   2889\u001b[0m \u001b[0;34m\u001b[0m\u001b[0m\n\u001b[1;32m   2890\u001b[0m   \u001b[0;32mdef\u001b[0m \u001b[0m_call_for_each_replica\u001b[0m\u001b[0;34m(\u001b[0m\u001b[0mself\u001b[0m\u001b[0;34m,\u001b[0m \u001b[0mfn\u001b[0m\u001b[0;34m,\u001b[0m \u001b[0margs\u001b[0m\u001b[0;34m,\u001b[0m \u001b[0mkwargs\u001b[0m\u001b[0;34m)\u001b[0m\u001b[0;34m:\u001b[0m\u001b[0;34m\u001b[0m\u001b[0;34m\u001b[0m\u001b[0m\n",
            "\u001b[0;32m/usr/local/lib/python3.7/dist-packages/tensorflow/python/distribute/distribute_lib.py\u001b[0m in \u001b[0;36m_call_for_each_replica\u001b[0;34m(self, fn, args, kwargs)\u001b[0m\n\u001b[1;32m   3687\u001b[0m   \u001b[0;32mdef\u001b[0m \u001b[0m_call_for_each_replica\u001b[0m\u001b[0;34m(\u001b[0m\u001b[0mself\u001b[0m\u001b[0;34m,\u001b[0m \u001b[0mfn\u001b[0m\u001b[0;34m,\u001b[0m \u001b[0margs\u001b[0m\u001b[0;34m,\u001b[0m \u001b[0mkwargs\u001b[0m\u001b[0;34m)\u001b[0m\u001b[0;34m:\u001b[0m\u001b[0;34m\u001b[0m\u001b[0;34m\u001b[0m\u001b[0m\n\u001b[1;32m   3688\u001b[0m     \u001b[0;32mwith\u001b[0m \u001b[0mReplicaContext\u001b[0m\u001b[0;34m(\u001b[0m\u001b[0mself\u001b[0m\u001b[0;34m.\u001b[0m\u001b[0m_container_strategy\u001b[0m\u001b[0;34m(\u001b[0m\u001b[0;34m)\u001b[0m\u001b[0;34m,\u001b[0m \u001b[0mreplica_id_in_sync_group\u001b[0m\u001b[0;34m=\u001b[0m\u001b[0;36m0\u001b[0m\u001b[0;34m)\u001b[0m\u001b[0;34m:\u001b[0m\u001b[0;34m\u001b[0m\u001b[0;34m\u001b[0m\u001b[0m\n\u001b[0;32m-> 3689\u001b[0;31m       \u001b[0;32mreturn\u001b[0m \u001b[0mfn\u001b[0m\u001b[0;34m(\u001b[0m\u001b[0;34m*\u001b[0m\u001b[0margs\u001b[0m\u001b[0;34m,\u001b[0m \u001b[0;34m**\u001b[0m\u001b[0mkwargs\u001b[0m\u001b[0;34m)\u001b[0m\u001b[0;34m\u001b[0m\u001b[0;34m\u001b[0m\u001b[0m\n\u001b[0m\u001b[1;32m   3690\u001b[0m \u001b[0;34m\u001b[0m\u001b[0m\n\u001b[1;32m   3691\u001b[0m   \u001b[0;32mdef\u001b[0m \u001b[0m_reduce_to\u001b[0m\u001b[0;34m(\u001b[0m\u001b[0mself\u001b[0m\u001b[0;34m,\u001b[0m \u001b[0mreduce_op\u001b[0m\u001b[0;34m,\u001b[0m \u001b[0mvalue\u001b[0m\u001b[0;34m,\u001b[0m \u001b[0mdestinations\u001b[0m\u001b[0;34m,\u001b[0m \u001b[0moptions\u001b[0m\u001b[0;34m)\u001b[0m\u001b[0;34m:\u001b[0m\u001b[0;34m\u001b[0m\u001b[0;34m\u001b[0m\u001b[0m\n",
            "\u001b[0;32m/usr/local/lib/python3.7/dist-packages/tensorflow/python/autograph/impl/api.py\u001b[0m in \u001b[0;36mwrapper\u001b[0;34m(*args, **kwargs)\u001b[0m\n\u001b[1;32m    687\u001b[0m       \u001b[0;32mtry\u001b[0m\u001b[0;34m:\u001b[0m\u001b[0;34m\u001b[0m\u001b[0;34m\u001b[0m\u001b[0m\n\u001b[1;32m    688\u001b[0m         \u001b[0;32mwith\u001b[0m \u001b[0mconversion_ctx\u001b[0m\u001b[0;34m:\u001b[0m\u001b[0;34m\u001b[0m\u001b[0;34m\u001b[0m\u001b[0m\n\u001b[0;32m--> 689\u001b[0;31m           \u001b[0;32mreturn\u001b[0m \u001b[0mconverted_call\u001b[0m\u001b[0;34m(\u001b[0m\u001b[0mf\u001b[0m\u001b[0;34m,\u001b[0m \u001b[0margs\u001b[0m\u001b[0;34m,\u001b[0m \u001b[0mkwargs\u001b[0m\u001b[0;34m,\u001b[0m \u001b[0moptions\u001b[0m\u001b[0;34m=\u001b[0m\u001b[0moptions\u001b[0m\u001b[0;34m)\u001b[0m\u001b[0;34m\u001b[0m\u001b[0;34m\u001b[0m\u001b[0m\n\u001b[0m\u001b[1;32m    690\u001b[0m       \u001b[0;32mexcept\u001b[0m \u001b[0mException\u001b[0m \u001b[0;32mas\u001b[0m \u001b[0me\u001b[0m\u001b[0;34m:\u001b[0m  \u001b[0;31m# pylint:disable=broad-except\u001b[0m\u001b[0;34m\u001b[0m\u001b[0;34m\u001b[0m\u001b[0m\n\u001b[1;32m    691\u001b[0m         \u001b[0;32mif\u001b[0m \u001b[0mhasattr\u001b[0m\u001b[0;34m(\u001b[0m\u001b[0me\u001b[0m\u001b[0;34m,\u001b[0m \u001b[0;34m'ag_error_metadata'\u001b[0m\u001b[0;34m)\u001b[0m\u001b[0;34m:\u001b[0m\u001b[0;34m\u001b[0m\u001b[0;34m\u001b[0m\u001b[0m\n",
            "\u001b[0;32m/usr/local/lib/python3.7/dist-packages/tensorflow/python/autograph/impl/api.py\u001b[0m in \u001b[0;36mconverted_call\u001b[0;34m(f, args, kwargs, caller_fn_scope, options)\u001b[0m\n\u001b[1;32m    375\u001b[0m \u001b[0;34m\u001b[0m\u001b[0m\n\u001b[1;32m    376\u001b[0m   \u001b[0;32mif\u001b[0m \u001b[0;32mnot\u001b[0m \u001b[0moptions\u001b[0m\u001b[0;34m.\u001b[0m\u001b[0muser_requested\u001b[0m \u001b[0;32mand\u001b[0m \u001b[0mconversion\u001b[0m\u001b[0;34m.\u001b[0m\u001b[0mis_allowlisted\u001b[0m\u001b[0;34m(\u001b[0m\u001b[0mf\u001b[0m\u001b[0;34m)\u001b[0m\u001b[0;34m:\u001b[0m\u001b[0;34m\u001b[0m\u001b[0;34m\u001b[0m\u001b[0m\n\u001b[0;32m--> 377\u001b[0;31m     \u001b[0;32mreturn\u001b[0m \u001b[0m_call_unconverted\u001b[0m\u001b[0;34m(\u001b[0m\u001b[0mf\u001b[0m\u001b[0;34m,\u001b[0m \u001b[0margs\u001b[0m\u001b[0;34m,\u001b[0m \u001b[0mkwargs\u001b[0m\u001b[0;34m,\u001b[0m \u001b[0moptions\u001b[0m\u001b[0;34m)\u001b[0m\u001b[0;34m\u001b[0m\u001b[0;34m\u001b[0m\u001b[0m\n\u001b[0m\u001b[1;32m    378\u001b[0m \u001b[0;34m\u001b[0m\u001b[0m\n\u001b[1;32m    379\u001b[0m   \u001b[0;31m# internal_convert_user_code is for example turned off when issuing a dynamic\u001b[0m\u001b[0;34m\u001b[0m\u001b[0;34m\u001b[0m\u001b[0;34m\u001b[0m\u001b[0m\n",
            "\u001b[0;32m/usr/local/lib/python3.7/dist-packages/tensorflow/python/autograph/impl/api.py\u001b[0m in \u001b[0;36m_call_unconverted\u001b[0;34m(f, args, kwargs, options, update_cache)\u001b[0m\n\u001b[1;32m    456\u001b[0m \u001b[0;34m\u001b[0m\u001b[0m\n\u001b[1;32m    457\u001b[0m   \u001b[0;32mif\u001b[0m \u001b[0mkwargs\u001b[0m \u001b[0;32mis\u001b[0m \u001b[0;32mnot\u001b[0m \u001b[0;32mNone\u001b[0m\u001b[0;34m:\u001b[0m\u001b[0;34m\u001b[0m\u001b[0;34m\u001b[0m\u001b[0m\n\u001b[0;32m--> 458\u001b[0;31m     \u001b[0;32mreturn\u001b[0m \u001b[0mf\u001b[0m\u001b[0;34m(\u001b[0m\u001b[0;34m*\u001b[0m\u001b[0margs\u001b[0m\u001b[0;34m,\u001b[0m \u001b[0;34m**\u001b[0m\u001b[0mkwargs\u001b[0m\u001b[0;34m)\u001b[0m\u001b[0;34m\u001b[0m\u001b[0;34m\u001b[0m\u001b[0m\n\u001b[0m\u001b[1;32m    459\u001b[0m   \u001b[0;32mreturn\u001b[0m \u001b[0mf\u001b[0m\u001b[0;34m(\u001b[0m\u001b[0;34m*\u001b[0m\u001b[0margs\u001b[0m\u001b[0;34m)\u001b[0m\u001b[0;34m\u001b[0m\u001b[0;34m\u001b[0m\u001b[0m\n\u001b[1;32m    460\u001b[0m \u001b[0;34m\u001b[0m\u001b[0m\n",
            "\u001b[0;32m/usr/local/lib/python3.7/dist-packages/keras/engine/training.py\u001b[0m in \u001b[0;36mrun_step\u001b[0;34m(data)\u001b[0m\n\u001b[1;32m    998\u001b[0m \u001b[0;34m\u001b[0m\u001b[0m\n\u001b[1;32m    999\u001b[0m       \u001b[0;32mdef\u001b[0m \u001b[0mrun_step\u001b[0m\u001b[0;34m(\u001b[0m\u001b[0mdata\u001b[0m\u001b[0;34m)\u001b[0m\u001b[0;34m:\u001b[0m\u001b[0;34m\u001b[0m\u001b[0;34m\u001b[0m\u001b[0m\n\u001b[0;32m-> 1000\u001b[0;31m         \u001b[0moutputs\u001b[0m \u001b[0;34m=\u001b[0m \u001b[0mmodel\u001b[0m\u001b[0;34m.\u001b[0m\u001b[0mtrain_step\u001b[0m\u001b[0;34m(\u001b[0m\u001b[0mdata\u001b[0m\u001b[0;34m)\u001b[0m\u001b[0;34m\u001b[0m\u001b[0;34m\u001b[0m\u001b[0m\n\u001b[0m\u001b[1;32m   1001\u001b[0m         \u001b[0;31m# Ensure counter is updated only if `train_step` succeeds.\u001b[0m\u001b[0;34m\u001b[0m\u001b[0;34m\u001b[0m\u001b[0;34m\u001b[0m\u001b[0m\n\u001b[1;32m   1002\u001b[0m         \u001b[0;32mwith\u001b[0m \u001b[0mtf\u001b[0m\u001b[0;34m.\u001b[0m\u001b[0mcontrol_dependencies\u001b[0m\u001b[0;34m(\u001b[0m\u001b[0m_minimum_control_deps\u001b[0m\u001b[0;34m(\u001b[0m\u001b[0moutputs\u001b[0m\u001b[0;34m)\u001b[0m\u001b[0;34m)\u001b[0m\u001b[0;34m:\u001b[0m\u001b[0;34m\u001b[0m\u001b[0;34m\u001b[0m\u001b[0m\n",
            "\u001b[0;32m/usr/local/lib/python3.7/dist-packages/keras/engine/training.py\u001b[0m in \u001b[0;36mtrain_step\u001b[0;34m(self, data)\u001b[0m\n\u001b[1;32m    857\u001b[0m     \u001b[0;31m# Run forward pass.\u001b[0m\u001b[0;34m\u001b[0m\u001b[0;34m\u001b[0m\u001b[0;34m\u001b[0m\u001b[0m\n\u001b[1;32m    858\u001b[0m     \u001b[0;32mwith\u001b[0m \u001b[0mtf\u001b[0m\u001b[0;34m.\u001b[0m\u001b[0mGradientTape\u001b[0m\u001b[0;34m(\u001b[0m\u001b[0;34m)\u001b[0m \u001b[0;32mas\u001b[0m \u001b[0mtape\u001b[0m\u001b[0;34m:\u001b[0m\u001b[0;34m\u001b[0m\u001b[0;34m\u001b[0m\u001b[0m\n\u001b[0;32m--> 859\u001b[0;31m       \u001b[0my_pred\u001b[0m \u001b[0;34m=\u001b[0m \u001b[0mself\u001b[0m\u001b[0;34m(\u001b[0m\u001b[0mx\u001b[0m\u001b[0;34m,\u001b[0m \u001b[0mtraining\u001b[0m\u001b[0;34m=\u001b[0m\u001b[0;32mTrue\u001b[0m\u001b[0;34m)\u001b[0m\u001b[0;34m\u001b[0m\u001b[0;34m\u001b[0m\u001b[0m\n\u001b[0m\u001b[1;32m    860\u001b[0m       \u001b[0mloss\u001b[0m \u001b[0;34m=\u001b[0m \u001b[0mself\u001b[0m\u001b[0;34m.\u001b[0m\u001b[0mcompute_loss\u001b[0m\u001b[0;34m(\u001b[0m\u001b[0mx\u001b[0m\u001b[0;34m,\u001b[0m \u001b[0my\u001b[0m\u001b[0;34m,\u001b[0m \u001b[0my_pred\u001b[0m\u001b[0;34m,\u001b[0m \u001b[0msample_weight\u001b[0m\u001b[0;34m)\u001b[0m\u001b[0;34m\u001b[0m\u001b[0;34m\u001b[0m\u001b[0m\n\u001b[1;32m    861\u001b[0m     \u001b[0mself\u001b[0m\u001b[0;34m.\u001b[0m\u001b[0m_validate_target_and_loss\u001b[0m\u001b[0;34m(\u001b[0m\u001b[0my\u001b[0m\u001b[0;34m,\u001b[0m \u001b[0mloss\u001b[0m\u001b[0;34m)\u001b[0m\u001b[0;34m\u001b[0m\u001b[0;34m\u001b[0m\u001b[0m\n",
            "\u001b[0;32m/usr/local/lib/python3.7/dist-packages/keras/utils/traceback_utils.py\u001b[0m in \u001b[0;36merror_handler\u001b[0;34m(*args, **kwargs)\u001b[0m\n\u001b[1;32m     62\u001b[0m     \u001b[0mfiltered_tb\u001b[0m \u001b[0;34m=\u001b[0m \u001b[0;32mNone\u001b[0m\u001b[0;34m\u001b[0m\u001b[0;34m\u001b[0m\u001b[0m\n\u001b[1;32m     63\u001b[0m     \u001b[0;32mtry\u001b[0m\u001b[0;34m:\u001b[0m\u001b[0;34m\u001b[0m\u001b[0;34m\u001b[0m\u001b[0m\n\u001b[0;32m---> 64\u001b[0;31m       \u001b[0;32mreturn\u001b[0m \u001b[0mfn\u001b[0m\u001b[0;34m(\u001b[0m\u001b[0;34m*\u001b[0m\u001b[0margs\u001b[0m\u001b[0;34m,\u001b[0m \u001b[0;34m**\u001b[0m\u001b[0mkwargs\u001b[0m\u001b[0;34m)\u001b[0m\u001b[0;34m\u001b[0m\u001b[0;34m\u001b[0m\u001b[0m\n\u001b[0m\u001b[1;32m     65\u001b[0m     \u001b[0;32mexcept\u001b[0m \u001b[0mException\u001b[0m \u001b[0;32mas\u001b[0m \u001b[0me\u001b[0m\u001b[0;34m:\u001b[0m  \u001b[0;31m# pylint: disable=broad-except\u001b[0m\u001b[0;34m\u001b[0m\u001b[0;34m\u001b[0m\u001b[0m\n\u001b[1;32m     66\u001b[0m       \u001b[0mfiltered_tb\u001b[0m \u001b[0;34m=\u001b[0m \u001b[0m_process_traceback_frames\u001b[0m\u001b[0;34m(\u001b[0m\u001b[0me\u001b[0m\u001b[0;34m.\u001b[0m\u001b[0m__traceback__\u001b[0m\u001b[0;34m)\u001b[0m\u001b[0;34m\u001b[0m\u001b[0;34m\u001b[0m\u001b[0m\n",
            "\u001b[0;32m/usr/local/lib/python3.7/dist-packages/keras/engine/base_layer.py\u001b[0m in \u001b[0;36m__call__\u001b[0;34m(self, *args, **kwargs)\u001b[0m\n\u001b[1;32m   1094\u001b[0m         with autocast_variable.enable_auto_cast_variables(\n\u001b[1;32m   1095\u001b[0m             self._compute_dtype_object):\n\u001b[0;32m-> 1096\u001b[0;31m           \u001b[0moutputs\u001b[0m \u001b[0;34m=\u001b[0m \u001b[0mcall_fn\u001b[0m\u001b[0;34m(\u001b[0m\u001b[0minputs\u001b[0m\u001b[0;34m,\u001b[0m \u001b[0;34m*\u001b[0m\u001b[0margs\u001b[0m\u001b[0;34m,\u001b[0m \u001b[0;34m**\u001b[0m\u001b[0mkwargs\u001b[0m\u001b[0;34m)\u001b[0m\u001b[0;34m\u001b[0m\u001b[0;34m\u001b[0m\u001b[0m\n\u001b[0m\u001b[1;32m   1097\u001b[0m \u001b[0;34m\u001b[0m\u001b[0m\n\u001b[1;32m   1098\u001b[0m         \u001b[0;32mif\u001b[0m \u001b[0mself\u001b[0m\u001b[0;34m.\u001b[0m\u001b[0m_activity_regularizer\u001b[0m\u001b[0;34m:\u001b[0m\u001b[0;34m\u001b[0m\u001b[0;34m\u001b[0m\u001b[0m\n",
            "\u001b[0;32m/usr/local/lib/python3.7/dist-packages/keras/utils/traceback_utils.py\u001b[0m in \u001b[0;36merror_handler\u001b[0;34m(*args, **kwargs)\u001b[0m\n\u001b[1;32m     90\u001b[0m     \u001b[0mbound_signature\u001b[0m \u001b[0;34m=\u001b[0m \u001b[0;32mNone\u001b[0m\u001b[0;34m\u001b[0m\u001b[0;34m\u001b[0m\u001b[0m\n\u001b[1;32m     91\u001b[0m     \u001b[0;32mtry\u001b[0m\u001b[0;34m:\u001b[0m\u001b[0;34m\u001b[0m\u001b[0;34m\u001b[0m\u001b[0m\n\u001b[0;32m---> 92\u001b[0;31m       \u001b[0;32mreturn\u001b[0m \u001b[0mfn\u001b[0m\u001b[0;34m(\u001b[0m\u001b[0;34m*\u001b[0m\u001b[0margs\u001b[0m\u001b[0;34m,\u001b[0m \u001b[0;34m**\u001b[0m\u001b[0mkwargs\u001b[0m\u001b[0;34m)\u001b[0m\u001b[0;34m\u001b[0m\u001b[0;34m\u001b[0m\u001b[0m\n\u001b[0m\u001b[1;32m     93\u001b[0m     \u001b[0;32mexcept\u001b[0m \u001b[0mException\u001b[0m \u001b[0;32mas\u001b[0m \u001b[0me\u001b[0m\u001b[0;34m:\u001b[0m  \u001b[0;31m# pylint: disable=broad-except\u001b[0m\u001b[0;34m\u001b[0m\u001b[0;34m\u001b[0m\u001b[0m\n\u001b[1;32m     94\u001b[0m       \u001b[0;32mif\u001b[0m \u001b[0mhasattr\u001b[0m\u001b[0;34m(\u001b[0m\u001b[0me\u001b[0m\u001b[0;34m,\u001b[0m \u001b[0;34m'_keras_call_info_injected'\u001b[0m\u001b[0;34m)\u001b[0m\u001b[0;34m:\u001b[0m\u001b[0;34m\u001b[0m\u001b[0;34m\u001b[0m\u001b[0m\n",
            "\u001b[0;32m/usr/local/lib/python3.7/dist-packages/keras/engine/sequential.py\u001b[0m in \u001b[0;36mcall\u001b[0;34m(self, inputs, training, mask)\u001b[0m\n\u001b[1;32m    372\u001b[0m       \u001b[0;32mif\u001b[0m \u001b[0;32mnot\u001b[0m \u001b[0mself\u001b[0m\u001b[0;34m.\u001b[0m\u001b[0mbuilt\u001b[0m\u001b[0;34m:\u001b[0m\u001b[0;34m\u001b[0m\u001b[0;34m\u001b[0m\u001b[0m\n\u001b[1;32m    373\u001b[0m         \u001b[0mself\u001b[0m\u001b[0;34m.\u001b[0m\u001b[0m_init_graph_network\u001b[0m\u001b[0;34m(\u001b[0m\u001b[0mself\u001b[0m\u001b[0;34m.\u001b[0m\u001b[0minputs\u001b[0m\u001b[0;34m,\u001b[0m \u001b[0mself\u001b[0m\u001b[0;34m.\u001b[0m\u001b[0moutputs\u001b[0m\u001b[0;34m)\u001b[0m\u001b[0;34m\u001b[0m\u001b[0;34m\u001b[0m\u001b[0m\n\u001b[0;32m--> 374\u001b[0;31m       \u001b[0;32mreturn\u001b[0m \u001b[0msuper\u001b[0m\u001b[0;34m(\u001b[0m\u001b[0mSequential\u001b[0m\u001b[0;34m,\u001b[0m \u001b[0mself\u001b[0m\u001b[0;34m)\u001b[0m\u001b[0;34m.\u001b[0m\u001b[0mcall\u001b[0m\u001b[0;34m(\u001b[0m\u001b[0minputs\u001b[0m\u001b[0;34m,\u001b[0m \u001b[0mtraining\u001b[0m\u001b[0;34m=\u001b[0m\u001b[0mtraining\u001b[0m\u001b[0;34m,\u001b[0m \u001b[0mmask\u001b[0m\u001b[0;34m=\u001b[0m\u001b[0mmask\u001b[0m\u001b[0;34m)\u001b[0m\u001b[0;34m\u001b[0m\u001b[0;34m\u001b[0m\u001b[0m\n\u001b[0m\u001b[1;32m    375\u001b[0m \u001b[0;34m\u001b[0m\u001b[0m\n\u001b[1;32m    376\u001b[0m     \u001b[0moutputs\u001b[0m \u001b[0;34m=\u001b[0m \u001b[0minputs\u001b[0m  \u001b[0;31m# handle the corner case where self.layers is empty\u001b[0m\u001b[0;34m\u001b[0m\u001b[0;34m\u001b[0m\u001b[0m\n",
            "\u001b[0;32m/usr/local/lib/python3.7/dist-packages/keras/engine/functional.py\u001b[0m in \u001b[0;36mcall\u001b[0;34m(self, inputs, training, mask)\u001b[0m\n\u001b[1;32m    450\u001b[0m     \"\"\"\n\u001b[1;32m    451\u001b[0m     return self._run_internal_graph(\n\u001b[0;32m--> 452\u001b[0;31m         inputs, training=training, mask=mask)\n\u001b[0m\u001b[1;32m    453\u001b[0m \u001b[0;34m\u001b[0m\u001b[0m\n\u001b[1;32m    454\u001b[0m   \u001b[0;32mdef\u001b[0m \u001b[0mcompute_output_shape\u001b[0m\u001b[0;34m(\u001b[0m\u001b[0mself\u001b[0m\u001b[0;34m,\u001b[0m \u001b[0minput_shape\u001b[0m\u001b[0;34m)\u001b[0m\u001b[0;34m:\u001b[0m\u001b[0;34m\u001b[0m\u001b[0;34m\u001b[0m\u001b[0m\n",
            "\u001b[0;32m/usr/local/lib/python3.7/dist-packages/keras/engine/functional.py\u001b[0m in \u001b[0;36m_run_internal_graph\u001b[0;34m(self, inputs, training, mask)\u001b[0m\n\u001b[1;32m    587\u001b[0m \u001b[0;34m\u001b[0m\u001b[0m\n\u001b[1;32m    588\u001b[0m         \u001b[0margs\u001b[0m\u001b[0;34m,\u001b[0m \u001b[0mkwargs\u001b[0m \u001b[0;34m=\u001b[0m \u001b[0mnode\u001b[0m\u001b[0;34m.\u001b[0m\u001b[0mmap_arguments\u001b[0m\u001b[0;34m(\u001b[0m\u001b[0mtensor_dict\u001b[0m\u001b[0;34m)\u001b[0m\u001b[0;34m\u001b[0m\u001b[0;34m\u001b[0m\u001b[0m\n\u001b[0;32m--> 589\u001b[0;31m         \u001b[0moutputs\u001b[0m \u001b[0;34m=\u001b[0m \u001b[0mnode\u001b[0m\u001b[0;34m.\u001b[0m\u001b[0mlayer\u001b[0m\u001b[0;34m(\u001b[0m\u001b[0;34m*\u001b[0m\u001b[0margs\u001b[0m\u001b[0;34m,\u001b[0m \u001b[0;34m**\u001b[0m\u001b[0mkwargs\u001b[0m\u001b[0;34m)\u001b[0m\u001b[0;34m\u001b[0m\u001b[0;34m\u001b[0m\u001b[0m\n\u001b[0m\u001b[1;32m    590\u001b[0m \u001b[0;34m\u001b[0m\u001b[0m\n\u001b[1;32m    591\u001b[0m         \u001b[0;31m# Update tensor_dict.\u001b[0m\u001b[0;34m\u001b[0m\u001b[0;34m\u001b[0m\u001b[0;34m\u001b[0m\u001b[0m\n",
            "\u001b[0;32m/usr/local/lib/python3.7/dist-packages/keras/layers/recurrent.py\u001b[0m in \u001b[0;36m__call__\u001b[0;34m(self, inputs, initial_state, constants, **kwargs)\u001b[0m\n\u001b[1;32m    677\u001b[0m \u001b[0;34m\u001b[0m\u001b[0m\n\u001b[1;32m    678\u001b[0m     \u001b[0;32mif\u001b[0m \u001b[0minitial_state\u001b[0m \u001b[0;32mis\u001b[0m \u001b[0;32mNone\u001b[0m \u001b[0;32mand\u001b[0m \u001b[0mconstants\u001b[0m \u001b[0;32mis\u001b[0m \u001b[0;32mNone\u001b[0m\u001b[0;34m:\u001b[0m\u001b[0;34m\u001b[0m\u001b[0;34m\u001b[0m\u001b[0m\n\u001b[0;32m--> 679\u001b[0;31m       \u001b[0;32mreturn\u001b[0m \u001b[0msuper\u001b[0m\u001b[0;34m(\u001b[0m\u001b[0mRNN\u001b[0m\u001b[0;34m,\u001b[0m \u001b[0mself\u001b[0m\u001b[0;34m)\u001b[0m\u001b[0;34m.\u001b[0m\u001b[0m__call__\u001b[0m\u001b[0;34m(\u001b[0m\u001b[0minputs\u001b[0m\u001b[0;34m,\u001b[0m \u001b[0;34m**\u001b[0m\u001b[0mkwargs\u001b[0m\u001b[0;34m)\u001b[0m\u001b[0;34m\u001b[0m\u001b[0;34m\u001b[0m\u001b[0m\n\u001b[0m\u001b[1;32m    680\u001b[0m \u001b[0;34m\u001b[0m\u001b[0m\n\u001b[1;32m    681\u001b[0m     \u001b[0;31m# If any of `initial_state` or `constants` are specified and are Keras\u001b[0m\u001b[0;34m\u001b[0m\u001b[0;34m\u001b[0m\u001b[0;34m\u001b[0m\u001b[0m\n",
            "\u001b[0;32m/usr/local/lib/python3.7/dist-packages/keras/utils/traceback_utils.py\u001b[0m in \u001b[0;36merror_handler\u001b[0;34m(*args, **kwargs)\u001b[0m\n\u001b[1;32m     62\u001b[0m     \u001b[0mfiltered_tb\u001b[0m \u001b[0;34m=\u001b[0m \u001b[0;32mNone\u001b[0m\u001b[0;34m\u001b[0m\u001b[0;34m\u001b[0m\u001b[0m\n\u001b[1;32m     63\u001b[0m     \u001b[0;32mtry\u001b[0m\u001b[0;34m:\u001b[0m\u001b[0;34m\u001b[0m\u001b[0;34m\u001b[0m\u001b[0m\n\u001b[0;32m---> 64\u001b[0;31m       \u001b[0;32mreturn\u001b[0m \u001b[0mfn\u001b[0m\u001b[0;34m(\u001b[0m\u001b[0;34m*\u001b[0m\u001b[0margs\u001b[0m\u001b[0;34m,\u001b[0m \u001b[0;34m**\u001b[0m\u001b[0mkwargs\u001b[0m\u001b[0;34m)\u001b[0m\u001b[0;34m\u001b[0m\u001b[0;34m\u001b[0m\u001b[0m\n\u001b[0m\u001b[1;32m     65\u001b[0m     \u001b[0;32mexcept\u001b[0m \u001b[0mException\u001b[0m \u001b[0;32mas\u001b[0m \u001b[0me\u001b[0m\u001b[0;34m:\u001b[0m  \u001b[0;31m# pylint: disable=broad-except\u001b[0m\u001b[0;34m\u001b[0m\u001b[0;34m\u001b[0m\u001b[0m\n\u001b[1;32m     66\u001b[0m       \u001b[0mfiltered_tb\u001b[0m \u001b[0;34m=\u001b[0m \u001b[0m_process_traceback_frames\u001b[0m\u001b[0;34m(\u001b[0m\u001b[0me\u001b[0m\u001b[0;34m.\u001b[0m\u001b[0m__traceback__\u001b[0m\u001b[0;34m)\u001b[0m\u001b[0;34m\u001b[0m\u001b[0;34m\u001b[0m\u001b[0m\n",
            "\u001b[0;32m/usr/local/lib/python3.7/dist-packages/keras/engine/base_layer.py\u001b[0m in \u001b[0;36m__call__\u001b[0;34m(self, *args, **kwargs)\u001b[0m\n\u001b[1;32m   1094\u001b[0m         with autocast_variable.enable_auto_cast_variables(\n\u001b[1;32m   1095\u001b[0m             self._compute_dtype_object):\n\u001b[0;32m-> 1096\u001b[0;31m           \u001b[0moutputs\u001b[0m \u001b[0;34m=\u001b[0m \u001b[0mcall_fn\u001b[0m\u001b[0;34m(\u001b[0m\u001b[0minputs\u001b[0m\u001b[0;34m,\u001b[0m \u001b[0;34m*\u001b[0m\u001b[0margs\u001b[0m\u001b[0;34m,\u001b[0m \u001b[0;34m**\u001b[0m\u001b[0mkwargs\u001b[0m\u001b[0;34m)\u001b[0m\u001b[0;34m\u001b[0m\u001b[0;34m\u001b[0m\u001b[0m\n\u001b[0m\u001b[1;32m   1097\u001b[0m \u001b[0;34m\u001b[0m\u001b[0m\n\u001b[1;32m   1098\u001b[0m         \u001b[0;32mif\u001b[0m \u001b[0mself\u001b[0m\u001b[0;34m.\u001b[0m\u001b[0m_activity_regularizer\u001b[0m\u001b[0;34m:\u001b[0m\u001b[0;34m\u001b[0m\u001b[0;34m\u001b[0m\u001b[0m\n",
            "\u001b[0;32m/usr/local/lib/python3.7/dist-packages/keras/utils/traceback_utils.py\u001b[0m in \u001b[0;36merror_handler\u001b[0;34m(*args, **kwargs)\u001b[0m\n\u001b[1;32m     90\u001b[0m     \u001b[0mbound_signature\u001b[0m \u001b[0;34m=\u001b[0m \u001b[0;32mNone\u001b[0m\u001b[0;34m\u001b[0m\u001b[0;34m\u001b[0m\u001b[0m\n\u001b[1;32m     91\u001b[0m     \u001b[0;32mtry\u001b[0m\u001b[0;34m:\u001b[0m\u001b[0;34m\u001b[0m\u001b[0;34m\u001b[0m\u001b[0m\n\u001b[0;32m---> 92\u001b[0;31m       \u001b[0;32mreturn\u001b[0m \u001b[0mfn\u001b[0m\u001b[0;34m(\u001b[0m\u001b[0;34m*\u001b[0m\u001b[0margs\u001b[0m\u001b[0;34m,\u001b[0m \u001b[0;34m**\u001b[0m\u001b[0mkwargs\u001b[0m\u001b[0;34m)\u001b[0m\u001b[0;34m\u001b[0m\u001b[0;34m\u001b[0m\u001b[0m\n\u001b[0m\u001b[1;32m     93\u001b[0m     \u001b[0;32mexcept\u001b[0m \u001b[0mException\u001b[0m \u001b[0;32mas\u001b[0m \u001b[0me\u001b[0m\u001b[0;34m:\u001b[0m  \u001b[0;31m# pylint: disable=broad-except\u001b[0m\u001b[0;34m\u001b[0m\u001b[0;34m\u001b[0m\u001b[0m\n\u001b[1;32m     94\u001b[0m       \u001b[0;32mif\u001b[0m \u001b[0mhasattr\u001b[0m\u001b[0;34m(\u001b[0m\u001b[0me\u001b[0m\u001b[0;34m,\u001b[0m \u001b[0;34m'_keras_call_info_injected'\u001b[0m\u001b[0;34m)\u001b[0m\u001b[0;34m:\u001b[0m\u001b[0;34m\u001b[0m\u001b[0;34m\u001b[0m\u001b[0m\n",
            "\u001b[0;32m/usr/local/lib/python3.7/dist-packages/keras/layers/recurrent_v2.py\u001b[0m in \u001b[0;36mcall\u001b[0;34m(self, inputs, mask, training, initial_state)\u001b[0m\n\u001b[1;32m   1167\u001b[0m           \u001b[0minput_length\u001b[0m\u001b[0;34m=\u001b[0m\u001b[0mrow_lengths\u001b[0m \u001b[0;32mif\u001b[0m \u001b[0mrow_lengths\u001b[0m \u001b[0;32mis\u001b[0m \u001b[0;32mnot\u001b[0m \u001b[0;32mNone\u001b[0m \u001b[0;32melse\u001b[0m \u001b[0mtimesteps\u001b[0m\u001b[0;34m,\u001b[0m\u001b[0;34m\u001b[0m\u001b[0;34m\u001b[0m\u001b[0m\n\u001b[1;32m   1168\u001b[0m           \u001b[0mtime_major\u001b[0m\u001b[0;34m=\u001b[0m\u001b[0mself\u001b[0m\u001b[0;34m.\u001b[0m\u001b[0mtime_major\u001b[0m\u001b[0;34m,\u001b[0m\u001b[0;34m\u001b[0m\u001b[0;34m\u001b[0m\u001b[0m\n\u001b[0;32m-> 1169\u001b[0;31m           zero_output_for_mask=self.zero_output_for_mask)\n\u001b[0m\u001b[1;32m   1170\u001b[0m       \u001b[0mruntime\u001b[0m \u001b[0;34m=\u001b[0m \u001b[0m_runtime\u001b[0m\u001b[0;34m(\u001b[0m\u001b[0m_RUNTIME_UNKNOWN\u001b[0m\u001b[0;34m)\u001b[0m\u001b[0;34m\u001b[0m\u001b[0;34m\u001b[0m\u001b[0m\n\u001b[1;32m   1171\u001b[0m     \u001b[0;32melse\u001b[0m\u001b[0;34m:\u001b[0m\u001b[0;34m\u001b[0m\u001b[0;34m\u001b[0m\u001b[0m\n",
            "\u001b[0;32m/usr/local/lib/python3.7/dist-packages/tensorflow/python/util/traceback_utils.py\u001b[0m in \u001b[0;36merror_handler\u001b[0;34m(*args, **kwargs)\u001b[0m\n\u001b[1;32m    148\u001b[0m     \u001b[0mfiltered_tb\u001b[0m \u001b[0;34m=\u001b[0m \u001b[0;32mNone\u001b[0m\u001b[0;34m\u001b[0m\u001b[0;34m\u001b[0m\u001b[0m\n\u001b[1;32m    149\u001b[0m     \u001b[0;32mtry\u001b[0m\u001b[0;34m:\u001b[0m\u001b[0;34m\u001b[0m\u001b[0;34m\u001b[0m\u001b[0m\n\u001b[0;32m--> 150\u001b[0;31m       \u001b[0;32mreturn\u001b[0m \u001b[0mfn\u001b[0m\u001b[0;34m(\u001b[0m\u001b[0;34m*\u001b[0m\u001b[0margs\u001b[0m\u001b[0;34m,\u001b[0m \u001b[0;34m**\u001b[0m\u001b[0mkwargs\u001b[0m\u001b[0;34m)\u001b[0m\u001b[0;34m\u001b[0m\u001b[0;34m\u001b[0m\u001b[0m\n\u001b[0m\u001b[1;32m    151\u001b[0m     \u001b[0;32mexcept\u001b[0m \u001b[0mException\u001b[0m \u001b[0;32mas\u001b[0m \u001b[0me\u001b[0m\u001b[0;34m:\u001b[0m\u001b[0;34m\u001b[0m\u001b[0;34m\u001b[0m\u001b[0m\n\u001b[1;32m    152\u001b[0m       \u001b[0mfiltered_tb\u001b[0m \u001b[0;34m=\u001b[0m \u001b[0m_process_traceback_frames\u001b[0m\u001b[0;34m(\u001b[0m\u001b[0me\u001b[0m\u001b[0;34m.\u001b[0m\u001b[0m__traceback__\u001b[0m\u001b[0;34m)\u001b[0m\u001b[0;34m\u001b[0m\u001b[0;34m\u001b[0m\u001b[0m\n",
            "\u001b[0;32m/usr/local/lib/python3.7/dist-packages/tensorflow/python/util/dispatch.py\u001b[0m in \u001b[0;36mop_dispatch_handler\u001b[0;34m(*args, **kwargs)\u001b[0m\n\u001b[1;32m   1080\u001b[0m       \u001b[0;31m# Fallback dispatch system (dispatch v1):\u001b[0m\u001b[0;34m\u001b[0m\u001b[0;34m\u001b[0m\u001b[0;34m\u001b[0m\u001b[0m\n\u001b[1;32m   1081\u001b[0m       \u001b[0;32mtry\u001b[0m\u001b[0;34m:\u001b[0m\u001b[0;34m\u001b[0m\u001b[0;34m\u001b[0m\u001b[0m\n\u001b[0;32m-> 1082\u001b[0;31m         \u001b[0;32mreturn\u001b[0m \u001b[0mdispatch_target\u001b[0m\u001b[0;34m(\u001b[0m\u001b[0;34m*\u001b[0m\u001b[0margs\u001b[0m\u001b[0;34m,\u001b[0m \u001b[0;34m**\u001b[0m\u001b[0mkwargs\u001b[0m\u001b[0;34m)\u001b[0m\u001b[0;34m\u001b[0m\u001b[0;34m\u001b[0m\u001b[0m\n\u001b[0m\u001b[1;32m   1083\u001b[0m       \u001b[0;32mexcept\u001b[0m \u001b[0;34m(\u001b[0m\u001b[0mTypeError\u001b[0m\u001b[0;34m,\u001b[0m \u001b[0mValueError\u001b[0m\u001b[0;34m)\u001b[0m\u001b[0;34m:\u001b[0m\u001b[0;34m\u001b[0m\u001b[0;34m\u001b[0m\u001b[0m\n\u001b[1;32m   1084\u001b[0m         \u001b[0;31m# Note: convert_to_eager_tensor currently raises a ValueError, not a\u001b[0m\u001b[0;34m\u001b[0m\u001b[0;34m\u001b[0m\u001b[0;34m\u001b[0m\u001b[0m\n",
            "\u001b[0;32m/usr/local/lib/python3.7/dist-packages/keras/backend.py\u001b[0m in \u001b[0;36mrnn\u001b[0;34m(step_function, inputs, initial_states, go_backwards, mask, constants, unroll, input_length, time_major, zero_output_for_mask)\u001b[0m\n\u001b[1;32m   4750\u001b[0m \u001b[0;34m\u001b[0m\u001b[0m\n\u001b[1;32m   4751\u001b[0m     \u001b[0moutputs\u001b[0m \u001b[0;34m=\u001b[0m \u001b[0mtuple\u001b[0m\u001b[0;34m(\u001b[0m\u001b[0mo\u001b[0m\u001b[0;34m.\u001b[0m\u001b[0mstack\u001b[0m\u001b[0;34m(\u001b[0m\u001b[0;34m)\u001b[0m \u001b[0;32mfor\u001b[0m \u001b[0mo\u001b[0m \u001b[0;32min\u001b[0m \u001b[0moutput_ta\u001b[0m\u001b[0;34m)\u001b[0m\u001b[0;34m\u001b[0m\u001b[0;34m\u001b[0m\u001b[0m\n\u001b[0;32m-> 4752\u001b[0;31m     \u001b[0mlast_output\u001b[0m \u001b[0;34m=\u001b[0m \u001b[0mtuple\u001b[0m\u001b[0;34m(\u001b[0m\u001b[0mo\u001b[0m\u001b[0;34m[\u001b[0m\u001b[0;34m-\u001b[0m\u001b[0;36m1\u001b[0m\u001b[0;34m]\u001b[0m \u001b[0;32mfor\u001b[0m \u001b[0mo\u001b[0m \u001b[0;32min\u001b[0m \u001b[0moutputs\u001b[0m\u001b[0;34m)\u001b[0m\u001b[0;34m\u001b[0m\u001b[0;34m\u001b[0m\u001b[0m\n\u001b[0m\u001b[1;32m   4753\u001b[0m \u001b[0;34m\u001b[0m\u001b[0m\n\u001b[1;32m   4754\u001b[0m     \u001b[0moutputs\u001b[0m \u001b[0;34m=\u001b[0m \u001b[0mtf\u001b[0m\u001b[0;34m.\u001b[0m\u001b[0mnest\u001b[0m\u001b[0;34m.\u001b[0m\u001b[0mpack_sequence_as\u001b[0m\u001b[0;34m(\u001b[0m\u001b[0moutput_time_zero\u001b[0m\u001b[0;34m,\u001b[0m \u001b[0moutputs\u001b[0m\u001b[0;34m)\u001b[0m\u001b[0;34m\u001b[0m\u001b[0;34m\u001b[0m\u001b[0m\n",
            "\u001b[0;32m/usr/local/lib/python3.7/dist-packages/keras/backend.py\u001b[0m in \u001b[0;36m<genexpr>\u001b[0;34m(.0)\u001b[0m\n\u001b[1;32m   4750\u001b[0m \u001b[0;34m\u001b[0m\u001b[0m\n\u001b[1;32m   4751\u001b[0m     \u001b[0moutputs\u001b[0m \u001b[0;34m=\u001b[0m \u001b[0mtuple\u001b[0m\u001b[0;34m(\u001b[0m\u001b[0mo\u001b[0m\u001b[0;34m.\u001b[0m\u001b[0mstack\u001b[0m\u001b[0;34m(\u001b[0m\u001b[0;34m)\u001b[0m \u001b[0;32mfor\u001b[0m \u001b[0mo\u001b[0m \u001b[0;32min\u001b[0m \u001b[0moutput_ta\u001b[0m\u001b[0;34m)\u001b[0m\u001b[0;34m\u001b[0m\u001b[0;34m\u001b[0m\u001b[0m\n\u001b[0;32m-> 4752\u001b[0;31m     \u001b[0mlast_output\u001b[0m \u001b[0;34m=\u001b[0m \u001b[0mtuple\u001b[0m\u001b[0;34m(\u001b[0m\u001b[0mo\u001b[0m\u001b[0;34m[\u001b[0m\u001b[0;34m-\u001b[0m\u001b[0;36m1\u001b[0m\u001b[0;34m]\u001b[0m \u001b[0;32mfor\u001b[0m \u001b[0mo\u001b[0m \u001b[0;32min\u001b[0m \u001b[0moutputs\u001b[0m\u001b[0;34m)\u001b[0m\u001b[0;34m\u001b[0m\u001b[0;34m\u001b[0m\u001b[0m\n\u001b[0m\u001b[1;32m   4753\u001b[0m \u001b[0;34m\u001b[0m\u001b[0m\n\u001b[1;32m   4754\u001b[0m     \u001b[0moutputs\u001b[0m \u001b[0;34m=\u001b[0m \u001b[0mtf\u001b[0m\u001b[0;34m.\u001b[0m\u001b[0mnest\u001b[0m\u001b[0;34m.\u001b[0m\u001b[0mpack_sequence_as\u001b[0m\u001b[0;34m(\u001b[0m\u001b[0moutput_time_zero\u001b[0m\u001b[0;34m,\u001b[0m \u001b[0moutputs\u001b[0m\u001b[0;34m)\u001b[0m\u001b[0;34m\u001b[0m\u001b[0;34m\u001b[0m\u001b[0m\n",
            "\u001b[0;32m/usr/local/lib/python3.7/dist-packages/tensorflow/python/util/traceback_utils.py\u001b[0m in \u001b[0;36merror_handler\u001b[0;34m(*args, **kwargs)\u001b[0m\n\u001b[1;32m    148\u001b[0m     \u001b[0mfiltered_tb\u001b[0m \u001b[0;34m=\u001b[0m \u001b[0;32mNone\u001b[0m\u001b[0;34m\u001b[0m\u001b[0;34m\u001b[0m\u001b[0m\n\u001b[1;32m    149\u001b[0m     \u001b[0;32mtry\u001b[0m\u001b[0;34m:\u001b[0m\u001b[0;34m\u001b[0m\u001b[0;34m\u001b[0m\u001b[0m\n\u001b[0;32m--> 150\u001b[0;31m       \u001b[0;32mreturn\u001b[0m \u001b[0mfn\u001b[0m\u001b[0;34m(\u001b[0m\u001b[0;34m*\u001b[0m\u001b[0margs\u001b[0m\u001b[0;34m,\u001b[0m \u001b[0;34m**\u001b[0m\u001b[0mkwargs\u001b[0m\u001b[0;34m)\u001b[0m\u001b[0;34m\u001b[0m\u001b[0;34m\u001b[0m\u001b[0m\n\u001b[0m\u001b[1;32m    151\u001b[0m     \u001b[0;32mexcept\u001b[0m \u001b[0mException\u001b[0m \u001b[0;32mas\u001b[0m \u001b[0me\u001b[0m\u001b[0;34m:\u001b[0m\u001b[0;34m\u001b[0m\u001b[0;34m\u001b[0m\u001b[0m\n\u001b[1;32m    152\u001b[0m       \u001b[0mfiltered_tb\u001b[0m \u001b[0;34m=\u001b[0m \u001b[0m_process_traceback_frames\u001b[0m\u001b[0;34m(\u001b[0m\u001b[0me\u001b[0m\u001b[0;34m.\u001b[0m\u001b[0m__traceback__\u001b[0m\u001b[0;34m)\u001b[0m\u001b[0;34m\u001b[0m\u001b[0;34m\u001b[0m\u001b[0m\n",
            "\u001b[0;32m/usr/local/lib/python3.7/dist-packages/tensorflow/python/util/dispatch.py\u001b[0m in \u001b[0;36mop_dispatch_handler\u001b[0;34m(*args, **kwargs)\u001b[0m\n\u001b[1;32m   1080\u001b[0m       \u001b[0;31m# Fallback dispatch system (dispatch v1):\u001b[0m\u001b[0;34m\u001b[0m\u001b[0;34m\u001b[0m\u001b[0;34m\u001b[0m\u001b[0m\n\u001b[1;32m   1081\u001b[0m       \u001b[0;32mtry\u001b[0m\u001b[0;34m:\u001b[0m\u001b[0;34m\u001b[0m\u001b[0;34m\u001b[0m\u001b[0m\n\u001b[0;32m-> 1082\u001b[0;31m         \u001b[0;32mreturn\u001b[0m \u001b[0mdispatch_target\u001b[0m\u001b[0;34m(\u001b[0m\u001b[0;34m*\u001b[0m\u001b[0margs\u001b[0m\u001b[0;34m,\u001b[0m \u001b[0;34m**\u001b[0m\u001b[0mkwargs\u001b[0m\u001b[0;34m)\u001b[0m\u001b[0;34m\u001b[0m\u001b[0;34m\u001b[0m\u001b[0m\n\u001b[0m\u001b[1;32m   1083\u001b[0m       \u001b[0;32mexcept\u001b[0m \u001b[0;34m(\u001b[0m\u001b[0mTypeError\u001b[0m\u001b[0;34m,\u001b[0m \u001b[0mValueError\u001b[0m\u001b[0;34m)\u001b[0m\u001b[0;34m:\u001b[0m\u001b[0;34m\u001b[0m\u001b[0;34m\u001b[0m\u001b[0m\n\u001b[1;32m   1084\u001b[0m         \u001b[0;31m# Note: convert_to_eager_tensor currently raises a ValueError, not a\u001b[0m\u001b[0;34m\u001b[0m\u001b[0;34m\u001b[0m\u001b[0;34m\u001b[0m\u001b[0m\n",
            "\u001b[0;32m/usr/local/lib/python3.7/dist-packages/tensorflow/python/ops/array_ops.py\u001b[0m in \u001b[0;36m_slice_helper\u001b[0;34m(tensor, slice_spec, var)\u001b[0m\n\u001b[1;32m   1061\u001b[0m         \u001b[0mellipsis_mask\u001b[0m\u001b[0;34m=\u001b[0m\u001b[0mellipsis_mask\u001b[0m\u001b[0;34m,\u001b[0m\u001b[0;34m\u001b[0m\u001b[0;34m\u001b[0m\u001b[0m\n\u001b[1;32m   1062\u001b[0m         \u001b[0mvar\u001b[0m\u001b[0;34m=\u001b[0m\u001b[0mvar\u001b[0m\u001b[0;34m,\u001b[0m\u001b[0;34m\u001b[0m\u001b[0;34m\u001b[0m\u001b[0m\n\u001b[0;32m-> 1063\u001b[0;31m         name=name)\n\u001b[0m\u001b[1;32m   1064\u001b[0m \u001b[0;34m\u001b[0m\u001b[0m\n\u001b[1;32m   1065\u001b[0m \u001b[0;34m\u001b[0m\u001b[0m\n",
            "\u001b[0;32m/usr/local/lib/python3.7/dist-packages/tensorflow/python/util/traceback_utils.py\u001b[0m in \u001b[0;36merror_handler\u001b[0;34m(*args, **kwargs)\u001b[0m\n\u001b[1;32m    148\u001b[0m     \u001b[0mfiltered_tb\u001b[0m \u001b[0;34m=\u001b[0m \u001b[0;32mNone\u001b[0m\u001b[0;34m\u001b[0m\u001b[0;34m\u001b[0m\u001b[0m\n\u001b[1;32m    149\u001b[0m     \u001b[0;32mtry\u001b[0m\u001b[0;34m:\u001b[0m\u001b[0;34m\u001b[0m\u001b[0;34m\u001b[0m\u001b[0m\n\u001b[0;32m--> 150\u001b[0;31m       \u001b[0;32mreturn\u001b[0m \u001b[0mfn\u001b[0m\u001b[0;34m(\u001b[0m\u001b[0;34m*\u001b[0m\u001b[0margs\u001b[0m\u001b[0;34m,\u001b[0m \u001b[0;34m**\u001b[0m\u001b[0mkwargs\u001b[0m\u001b[0;34m)\u001b[0m\u001b[0;34m\u001b[0m\u001b[0;34m\u001b[0m\u001b[0m\n\u001b[0m\u001b[1;32m    151\u001b[0m     \u001b[0;32mexcept\u001b[0m \u001b[0mException\u001b[0m \u001b[0;32mas\u001b[0m \u001b[0me\u001b[0m\u001b[0;34m:\u001b[0m\u001b[0;34m\u001b[0m\u001b[0;34m\u001b[0m\u001b[0m\n\u001b[1;32m    152\u001b[0m       \u001b[0mfiltered_tb\u001b[0m \u001b[0;34m=\u001b[0m \u001b[0m_process_traceback_frames\u001b[0m\u001b[0;34m(\u001b[0m\u001b[0me\u001b[0m\u001b[0;34m.\u001b[0m\u001b[0m__traceback__\u001b[0m\u001b[0;34m)\u001b[0m\u001b[0;34m\u001b[0m\u001b[0;34m\u001b[0m\u001b[0m\n",
            "\u001b[0;32m/usr/local/lib/python3.7/dist-packages/tensorflow/python/util/dispatch.py\u001b[0m in \u001b[0;36mop_dispatch_handler\u001b[0;34m(*args, **kwargs)\u001b[0m\n\u001b[1;32m   1080\u001b[0m       \u001b[0;31m# Fallback dispatch system (dispatch v1):\u001b[0m\u001b[0;34m\u001b[0m\u001b[0;34m\u001b[0m\u001b[0;34m\u001b[0m\u001b[0m\n\u001b[1;32m   1081\u001b[0m       \u001b[0;32mtry\u001b[0m\u001b[0;34m:\u001b[0m\u001b[0;34m\u001b[0m\u001b[0;34m\u001b[0m\u001b[0m\n\u001b[0;32m-> 1082\u001b[0;31m         \u001b[0;32mreturn\u001b[0m \u001b[0mdispatch_target\u001b[0m\u001b[0;34m(\u001b[0m\u001b[0;34m*\u001b[0m\u001b[0margs\u001b[0m\u001b[0;34m,\u001b[0m \u001b[0;34m**\u001b[0m\u001b[0mkwargs\u001b[0m\u001b[0;34m)\u001b[0m\u001b[0;34m\u001b[0m\u001b[0;34m\u001b[0m\u001b[0m\n\u001b[0m\u001b[1;32m   1083\u001b[0m       \u001b[0;32mexcept\u001b[0m \u001b[0;34m(\u001b[0m\u001b[0mTypeError\u001b[0m\u001b[0;34m,\u001b[0m \u001b[0mValueError\u001b[0m\u001b[0;34m)\u001b[0m\u001b[0;34m:\u001b[0m\u001b[0;34m\u001b[0m\u001b[0;34m\u001b[0m\u001b[0m\n\u001b[1;32m   1084\u001b[0m         \u001b[0;31m# Note: convert_to_eager_tensor currently raises a ValueError, not a\u001b[0m\u001b[0;34m\u001b[0m\u001b[0;34m\u001b[0m\u001b[0;34m\u001b[0m\u001b[0m\n",
            "\u001b[0;32m/usr/local/lib/python3.7/dist-packages/tensorflow/python/ops/array_ops.py\u001b[0m in \u001b[0;36mstrided_slice\u001b[0;34m(input_, begin, end, strides, begin_mask, end_mask, ellipsis_mask, new_axis_mask, shrink_axis_mask, var, name)\u001b[0m\n\u001b[1;32m   1233\u001b[0m       \u001b[0mellipsis_mask\u001b[0m\u001b[0;34m=\u001b[0m\u001b[0mellipsis_mask\u001b[0m\u001b[0;34m,\u001b[0m\u001b[0;34m\u001b[0m\u001b[0;34m\u001b[0m\u001b[0m\n\u001b[1;32m   1234\u001b[0m       \u001b[0mnew_axis_mask\u001b[0m\u001b[0;34m=\u001b[0m\u001b[0mnew_axis_mask\u001b[0m\u001b[0;34m,\u001b[0m\u001b[0;34m\u001b[0m\u001b[0;34m\u001b[0m\u001b[0m\n\u001b[0;32m-> 1235\u001b[0;31m       shrink_axis_mask=shrink_axis_mask)\n\u001b[0m\u001b[1;32m   1236\u001b[0m \u001b[0;34m\u001b[0m\u001b[0m\n\u001b[1;32m   1237\u001b[0m   \u001b[0mparent_name\u001b[0m \u001b[0;34m=\u001b[0m \u001b[0mname\u001b[0m\u001b[0;34m\u001b[0m\u001b[0;34m\u001b[0m\u001b[0m\n",
            "\u001b[0;32m/usr/local/lib/python3.7/dist-packages/tensorflow/python/ops/gen_array_ops.py\u001b[0m in \u001b[0;36mstrided_slice\u001b[0;34m(input, begin, end, strides, begin_mask, end_mask, ellipsis_mask, new_axis_mask, shrink_axis_mask, name)\u001b[0m\n\u001b[1;32m  10701\u001b[0m                         \u001b[0mellipsis_mask\u001b[0m\u001b[0;34m=\u001b[0m\u001b[0mellipsis_mask\u001b[0m\u001b[0;34m,\u001b[0m\u001b[0;34m\u001b[0m\u001b[0;34m\u001b[0m\u001b[0m\n\u001b[1;32m  10702\u001b[0m                         \u001b[0mnew_axis_mask\u001b[0m\u001b[0;34m=\u001b[0m\u001b[0mnew_axis_mask\u001b[0m\u001b[0;34m,\u001b[0m\u001b[0;34m\u001b[0m\u001b[0;34m\u001b[0m\u001b[0m\n\u001b[0;32m> 10703\u001b[0;31m                         shrink_axis_mask=shrink_axis_mask, name=name)\n\u001b[0m\u001b[1;32m  10704\u001b[0m   \u001b[0m_result\u001b[0m \u001b[0;34m=\u001b[0m \u001b[0m_outputs\u001b[0m\u001b[0;34m[\u001b[0m\u001b[0;34m:\u001b[0m\u001b[0;34m]\u001b[0m\u001b[0;34m\u001b[0m\u001b[0;34m\u001b[0m\u001b[0m\n\u001b[1;32m  10705\u001b[0m   \u001b[0;32mif\u001b[0m \u001b[0m_execute\u001b[0m\u001b[0;34m.\u001b[0m\u001b[0mmust_record_gradient\u001b[0m\u001b[0;34m(\u001b[0m\u001b[0;34m)\u001b[0m\u001b[0;34m:\u001b[0m\u001b[0;34m\u001b[0m\u001b[0;34m\u001b[0m\u001b[0m\n",
            "\u001b[0;32m/usr/local/lib/python3.7/dist-packages/tensorflow/python/framework/op_def_library.py\u001b[0m in \u001b[0;36m_apply_op_helper\u001b[0;34m(op_type_name, name, **keywords)\u001b[0m\n\u001b[1;32m    740\u001b[0m       op = g._create_op_internal(op_type_name, inputs, dtypes=None,\n\u001b[1;32m    741\u001b[0m                                  \u001b[0mname\u001b[0m\u001b[0;34m=\u001b[0m\u001b[0mscope\u001b[0m\u001b[0;34m,\u001b[0m \u001b[0minput_types\u001b[0m\u001b[0;34m=\u001b[0m\u001b[0minput_types\u001b[0m\u001b[0;34m,\u001b[0m\u001b[0;34m\u001b[0m\u001b[0;34m\u001b[0m\u001b[0m\n\u001b[0;32m--> 742\u001b[0;31m                                  attrs=attr_protos, op_def=op_def)\n\u001b[0m\u001b[1;32m    743\u001b[0m \u001b[0;34m\u001b[0m\u001b[0m\n\u001b[1;32m    744\u001b[0m     \u001b[0;31m# `outputs` is returned as a separate return value so that the output\u001b[0m\u001b[0;34m\u001b[0m\u001b[0;34m\u001b[0m\u001b[0;34m\u001b[0m\u001b[0m\n",
            "\u001b[0;32m/usr/local/lib/python3.7/dist-packages/tensorflow/python/framework/func_graph.py\u001b[0m in \u001b[0;36m_create_op_internal\u001b[0;34m(self, op_type, inputs, dtypes, input_types, name, attrs, op_def, compute_device)\u001b[0m\n\u001b[1;32m    693\u001b[0m     return super(FuncGraph, self)._create_op_internal(  # pylint: disable=protected-access\n\u001b[1;32m    694\u001b[0m         \u001b[0mop_type\u001b[0m\u001b[0;34m,\u001b[0m \u001b[0mcaptured_inputs\u001b[0m\u001b[0;34m,\u001b[0m \u001b[0mdtypes\u001b[0m\u001b[0;34m,\u001b[0m \u001b[0minput_types\u001b[0m\u001b[0;34m,\u001b[0m \u001b[0mname\u001b[0m\u001b[0;34m,\u001b[0m \u001b[0mattrs\u001b[0m\u001b[0;34m,\u001b[0m \u001b[0mop_def\u001b[0m\u001b[0;34m,\u001b[0m\u001b[0;34m\u001b[0m\u001b[0;34m\u001b[0m\u001b[0m\n\u001b[0;32m--> 695\u001b[0;31m         compute_device)\n\u001b[0m\u001b[1;32m    696\u001b[0m \u001b[0;34m\u001b[0m\u001b[0m\n\u001b[1;32m    697\u001b[0m   \u001b[0;32mdef\u001b[0m \u001b[0mcapture\u001b[0m\u001b[0;34m(\u001b[0m\u001b[0mself\u001b[0m\u001b[0;34m,\u001b[0m \u001b[0mtensor\u001b[0m\u001b[0;34m,\u001b[0m \u001b[0mname\u001b[0m\u001b[0;34m=\u001b[0m\u001b[0;32mNone\u001b[0m\u001b[0;34m,\u001b[0m \u001b[0mshape\u001b[0m\u001b[0;34m=\u001b[0m\u001b[0;32mNone\u001b[0m\u001b[0;34m)\u001b[0m\u001b[0;34m:\u001b[0m\u001b[0;34m\u001b[0m\u001b[0;34m\u001b[0m\u001b[0m\n",
            "\u001b[0;32m/usr/local/lib/python3.7/dist-packages/tensorflow/python/framework/ops.py\u001b[0m in \u001b[0;36m_create_op_internal\u001b[0;34m(self, op_type, inputs, dtypes, input_types, name, attrs, op_def, compute_device)\u001b[0m\n\u001b[1;32m   3773\u001b[0m     \u001b[0;31m# _create_op_helper mutates the new Operation. `_mutation_lock` ensures a\u001b[0m\u001b[0;34m\u001b[0m\u001b[0;34m\u001b[0m\u001b[0;34m\u001b[0m\u001b[0m\n\u001b[1;32m   3774\u001b[0m     \u001b[0;31m# Session.run call cannot occur between creating and mutating the op.\u001b[0m\u001b[0;34m\u001b[0m\u001b[0;34m\u001b[0m\u001b[0;34m\u001b[0m\u001b[0m\n\u001b[0;32m-> 3775\u001b[0;31m     \u001b[0;32mwith\u001b[0m \u001b[0mself\u001b[0m\u001b[0;34m.\u001b[0m\u001b[0m_mutation_lock\u001b[0m\u001b[0;34m(\u001b[0m\u001b[0;34m)\u001b[0m\u001b[0;34m:\u001b[0m\u001b[0;34m\u001b[0m\u001b[0;34m\u001b[0m\u001b[0m\n\u001b[0m\u001b[1;32m   3776\u001b[0m       ret = Operation(\n\u001b[1;32m   3777\u001b[0m           \u001b[0mnode_def\u001b[0m\u001b[0;34m,\u001b[0m\u001b[0;34m\u001b[0m\u001b[0;34m\u001b[0m\u001b[0m\n",
            "\u001b[0;32m/usr/local/lib/python3.7/dist-packages/tensorflow/python/util/lock_util.py\u001b[0m in \u001b[0;36m__enter__\u001b[0;34m(self)\u001b[0m\n\u001b[1;32m    124\u001b[0m \u001b[0;34m\u001b[0m\u001b[0m\n\u001b[1;32m    125\u001b[0m     \u001b[0;32mdef\u001b[0m \u001b[0m__enter__\u001b[0m\u001b[0;34m(\u001b[0m\u001b[0mself\u001b[0m\u001b[0;34m)\u001b[0m\u001b[0;34m:\u001b[0m\u001b[0;34m\u001b[0m\u001b[0;34m\u001b[0m\u001b[0m\n\u001b[0;32m--> 126\u001b[0;31m       \u001b[0mself\u001b[0m\u001b[0;34m.\u001b[0m\u001b[0m_lock\u001b[0m\u001b[0;34m.\u001b[0m\u001b[0macquire\u001b[0m\u001b[0;34m(\u001b[0m\u001b[0mself\u001b[0m\u001b[0;34m.\u001b[0m\u001b[0m_group_id\u001b[0m\u001b[0;34m)\u001b[0m\u001b[0;34m\u001b[0m\u001b[0;34m\u001b[0m\u001b[0m\n\u001b[0m\u001b[1;32m    127\u001b[0m \u001b[0;34m\u001b[0m\u001b[0m\n\u001b[1;32m    128\u001b[0m     \u001b[0;32mdef\u001b[0m \u001b[0m__exit__\u001b[0m\u001b[0;34m(\u001b[0m\u001b[0mself\u001b[0m\u001b[0;34m,\u001b[0m \u001b[0mtype_arg\u001b[0m\u001b[0;34m,\u001b[0m \u001b[0mvalue_arg\u001b[0m\u001b[0;34m,\u001b[0m \u001b[0mtraceback_arg\u001b[0m\u001b[0;34m)\u001b[0m\u001b[0;34m:\u001b[0m\u001b[0;34m\u001b[0m\u001b[0;34m\u001b[0m\u001b[0m\n",
            "\u001b[0;32m/usr/local/lib/python3.7/dist-packages/tensorflow/python/util/lock_util.py\u001b[0m in \u001b[0;36macquire\u001b[0;34m(self, group_id)\u001b[0m\n\u001b[1;32m     87\u001b[0m     \u001b[0mself\u001b[0m\u001b[0;34m.\u001b[0m\u001b[0m_validate_group_id\u001b[0m\u001b[0;34m(\u001b[0m\u001b[0mgroup_id\u001b[0m\u001b[0;34m)\u001b[0m\u001b[0;34m\u001b[0m\u001b[0;34m\u001b[0m\u001b[0m\n\u001b[1;32m     88\u001b[0m \u001b[0;34m\u001b[0m\u001b[0m\n\u001b[0;32m---> 89\u001b[0;31m     \u001b[0mself\u001b[0m\u001b[0;34m.\u001b[0m\u001b[0m_ready\u001b[0m\u001b[0;34m.\u001b[0m\u001b[0macquire\u001b[0m\u001b[0;34m(\u001b[0m\u001b[0;34m)\u001b[0m\u001b[0;34m\u001b[0m\u001b[0;34m\u001b[0m\u001b[0m\n\u001b[0m\u001b[1;32m     90\u001b[0m     \u001b[0;32mwhile\u001b[0m \u001b[0mself\u001b[0m\u001b[0;34m.\u001b[0m\u001b[0m_another_group_active\u001b[0m\u001b[0;34m(\u001b[0m\u001b[0mgroup_id\u001b[0m\u001b[0;34m)\u001b[0m\u001b[0;34m:\u001b[0m\u001b[0;34m\u001b[0m\u001b[0;34m\u001b[0m\u001b[0m\n\u001b[1;32m     91\u001b[0m       \u001b[0mself\u001b[0m\u001b[0;34m.\u001b[0m\u001b[0m_ready\u001b[0m\u001b[0;34m.\u001b[0m\u001b[0mwait\u001b[0m\u001b[0;34m(\u001b[0m\u001b[0;34m)\u001b[0m\u001b[0;34m\u001b[0m\u001b[0;34m\u001b[0m\u001b[0m\n",
            "\u001b[0;31mKeyboardInterrupt\u001b[0m: "
          ]
        }
      ],
      "source": [
        "stop_early = tf.keras.callbacks.EarlyStopping(monitor='val_mae', patience=5)\n",
        "# Perform hypertuning\n",
        "tuner.search(X_train, y_train, epochs=400, validation_split=0.2, callbacks=[stop_early])"
      ]
    },
    {
      "cell_type": "code",
      "execution_count": null,
      "metadata": {
        "id": "y_2JpnUT5Es4"
      },
      "outputs": [],
      "source": [
        "best_hp=tuner.get_best_hyperparameters()[0]"
      ]
    },
    {
      "cell_type": "code",
      "execution_count": null,
      "metadata": {
        "id": "37UQYx7z5Fg1"
      },
      "outputs": [],
      "source": [
        "# Build the model with the optimal hyperparameters\n",
        "h_model = tuner.hypermodel.build(best_hp)\n",
        "h_model.summary()\n",
        "plot_model(model=h_model, show_shapes=True)\n",
        "history=h_model.fit(X_train, y_train, epochs=300, validation_split=0.2)\n",
        "yhat = h_model.predict(X_test, verbose=0)\n",
        "yhat_inverse, y_test_inverse = inverse_transform(y_test, yhat)\n",
        "evaluate_forecast(y_test, yhat)\n",
        "pyplot.plot(history.history['loss'], label='train')\n",
        "pyplot.plot(history.history['val_loss'], label='test')\n",
        "pyplot.legend()\n",
        "pyplot.show()"
      ]
    },
    {
      "cell_type": "code",
      "execution_count": null,
      "metadata": {
        "id": "WfV0lEXlu7Az"
      },
      "outputs": [],
      "source": [
        ""
      ]
    }
  ],
  "metadata": {
    "colab": {
      "collapsed_sections": [],
      "name": " LstmWaterConsumption1990-21.ipynb",
      "provenance": [],
      "authorship_tag": "ABX9TyNe735P23b8+yl0GlcS3fxP",
      "include_colab_link": true
    },
    "kernelspec": {
      "display_name": "Python 3",
      "name": "python3"
    },
    "language_info": {
      "name": "python"
    }
  },
  "nbformat": 4,
  "nbformat_minor": 0
}