{
  "cells": [
    {
      "cell_type": "markdown",
      "metadata": {
        "id": "view-in-github",
        "colab_type": "text"
      },
      "source": [
        "<a href=\"https://colab.research.google.com/github/bchuchucaa/RNNConsumoDeAgua/blob/main/RNNConsumoDeAgua.ipynb\" target=\"_parent\"><img src=\"https://colab.research.google.com/assets/colab-badge.svg\" alt=\"Open In Colab\"/></a>"
      ]
    },
    {
      "cell_type": "code",
      "execution_count": null,
      "metadata": {
        "colab": {
          "base_uri": "https://localhost:8080/"
        },
        "id": "n1D2LPUIg2CZ",
        "outputId": "cfce02df-15dc-43a4-9cc2-4c0474992cd2"
      },
      "outputs": [
        {
          "name": "stdout",
          "output_type": "stream",
          "text": [
            "unzip:  cannot find or open /content/archive.zip, /content/archive.zip.zip or /content/archive.zip.ZIP.\n"
          ]
        }
      ],
      "source": [
        "!unzip /content/archive.zip"
      ]
    },
    {
      "cell_type": "code",
      "execution_count": 1,
      "metadata": {
        "colab": {
          "base_uri": "https://localhost:8080/"
        },
        "id": "0JXAtN7ukusZ",
        "outputId": "d456502f-72c8-42ab-fe7d-24b8d9ae507b"
      },
      "outputs": [
        {
          "output_type": "stream",
          "name": "stdout",
          "text": [
            "LIBRERIAS IMPORTADAS\n"
          ]
        }
      ],
      "source": [
        "from pandas import read_csv\n",
        "from datetime import datetime\n",
        "import pandas as pd\n",
        "from matplotlib import pyplot\n",
        "import numpy as np\n",
        "from math import sqrt\n",
        "from numpy import concatenate\n",
        "from matplotlib import pyplot\n",
        "from pandas import read_csv\n",
        "from pandas import DataFrame\n",
        "from pandas import concat\n",
        "from sklearn.preprocessing import MinMaxScaler\n",
        "from sklearn.preprocessing import LabelEncoder\n",
        "from sklearn.metrics import mean_squared_error\n",
        "from sklearn.model_selection import train_test_split\n",
        "from keras.models import Sequential\n",
        "from keras.layers import Dense\n",
        "from keras.layers import LSTM\n",
        "from keras.models import model_from_json\n",
        "from sklearn.metrics import mean_squared_error\n",
        "from keras.layers import Dense,Activation,Flatten\n",
        "from sklearn.preprocessing import scale \n",
        "\n",
        "\n",
        "print('LIBRERIAS IMPORTADAS')"
      ]
    },
    {
      "cell_type": "markdown",
      "metadata": {
        "id": "s5wDR_wiN-7q"
      },
      "source": [
        "**LECTURA DE DATOS**"
      ]
    },
    {
      "cell_type": "code",
      "execution_count": 19,
      "metadata": {
        "colab": {
          "base_uri": "https://localhost:8080/"
        },
        "id": "DhCtqBU9mSVP",
        "outputId": "5c580118-a5f5-46ec-ef08-0b835769b9b9"
      },
      "outputs": [
        {
          "output_type": "stream",
          "name": "stdout",
          "text": [
            "Dataframe shape  (5000, 85)\n",
            "Names shape  (50, 1)\n"
          ]
        }
      ],
      "source": [
        "#LOADING DATA \n",
        "df= read_csv('/content/AguaH.csv')\n",
        "df = df.iloc[0:5000 , :]\n",
        "#AJUSTE DEL FORMATO DE LAS FECHAS \n",
        "lookup = {'ENE':'01','FEB':'02','MAR':'03','ABR':'04','MAY':'05','JUN':'06','JUL':'07','AGO':'08','SEP':'09','OCT':'10','NOV':'11','DIC':'12'}\n",
        "clist=[]\n",
        "for col in df.columns[5:]:\n",
        "    col = col[4:].split('_')\n",
        "    clist.append('20'+col[1]+'-'+lookup[col[0]]+'-01')\n",
        "\n",
        "columns = ['LANDUSE_TYPE','USER','PIPE DIAM','VENDOR','JAN16']+clist\n",
        "df.columns=columns\n",
        "df = df.drop(columns=['LANDUSE_TYPE','PIPE DIAM','VENDOR','JAN16'])\n",
        "print(\"Dataframe shape \",df.shape)\n",
        "#ESTE CODIGO SIRVE UNICAMENTE PARA LA INTEGRACION DE LOS NOMBRES EN EL DATAFRAME\n",
        "col_list = [\"Name\"]\n",
        "names = pd.read_csv(\"/content/StateNames.csv\", usecols=col_list)\n",
        "names = names.iloc[0:50 , :]\n",
        "#ELIMINAMOS LA COLUMNA DE LOS NOMBRE YA QUE SE BINARIZARON\n",
        "#df = df.iloc[: , 1:]\n",
        "print(\"Names shape \",names.shape)\n",
        "df.insert(loc=1, column='Names', value=names)\n",
        "\n",
        "#AJUSTE DEL DATASET EN EL FORMATO SOLICITADO \n",
        "rows_list=[]\n",
        "dataComp = pd.DataFrame(columns=('DATE','NOMBRE','TIPO', 'CONSUMO'))\n",
        "for column in range(2,len(df.columns),1):\n",
        "  selection=df.iloc[:,column]\n",
        "  for row in range(len(selection)):\n",
        "    df2=[df.columns[column],df.iloc[row,1],df.iloc[row,0],selection.iloc[row]]\n",
        "    rows_list.append(df2)\n",
        "    \n",
        "dataComp = pd.DataFrame(rows_list)  \n"
      ]
    },
    {
      "cell_type": "code",
      "execution_count": 11,
      "metadata": {
        "colab": {
          "base_uri": "https://localhost:8080/",
          "height": 206
        },
        "id": "ZnesYEWmYRl5",
        "outputId": "7be24240-f8cc-44b0-d98d-989196c67126"
      },
      "outputs": [
        {
          "output_type": "execute_result",
          "data": {
            "text/html": [
              "<div>\n",
              "<style scoped>\n",
              "    .dataframe tbody tr th:only-of-type {\n",
              "        vertical-align: middle;\n",
              "    }\n",
              "\n",
              "    .dataframe tbody tr th {\n",
              "        vertical-align: top;\n",
              "    }\n",
              "\n",
              "    .dataframe thead th {\n",
              "        text-align: right;\n",
              "    }\n",
              "</style>\n",
              "<table border=\"1\" class=\"dataframe\">\n",
              "  <thead>\n",
              "    <tr style=\"text-align: right;\">\n",
              "      <th></th>\n",
              "      <th>0</th>\n",
              "      <th>1</th>\n",
              "      <th>2</th>\n",
              "      <th>3</th>\n",
              "    </tr>\n",
              "  </thead>\n",
              "  <tbody>\n",
              "    <tr>\n",
              "      <th>0</th>\n",
              "      <td>2009-01-01</td>\n",
              "      <td>Mary</td>\n",
              "      <td>DOMESTICO MEDIO</td>\n",
              "      <td>20.0</td>\n",
              "    </tr>\n",
              "    <tr>\n",
              "      <th>1</th>\n",
              "      <td>2009-01-01</td>\n",
              "      <td>Annie</td>\n",
              "      <td>DOMESTICO MEDIO</td>\n",
              "      <td>NaN</td>\n",
              "    </tr>\n",
              "    <tr>\n",
              "      <th>2</th>\n",
              "      <td>2009-01-01</td>\n",
              "      <td>Anna</td>\n",
              "      <td>DOMESTICO RESIDENCIAL</td>\n",
              "      <td>NaN</td>\n",
              "    </tr>\n",
              "    <tr>\n",
              "      <th>3</th>\n",
              "      <td>2009-01-01</td>\n",
              "      <td>Margaret</td>\n",
              "      <td>DOMESTICO MEDIO</td>\n",
              "      <td>NaN</td>\n",
              "    </tr>\n",
              "    <tr>\n",
              "      <th>4</th>\n",
              "      <td>2009-01-01</td>\n",
              "      <td>Helen</td>\n",
              "      <td>DOMESTICO RESIDENCIAL</td>\n",
              "      <td>20.0</td>\n",
              "    </tr>\n",
              "  </tbody>\n",
              "</table>\n",
              "</div>"
            ],
            "text/plain": [
              "            0         1                      2     3\n",
              "0  2009-01-01      Mary        DOMESTICO MEDIO  20.0\n",
              "1  2009-01-01     Annie        DOMESTICO MEDIO   NaN\n",
              "2  2009-01-01      Anna  DOMESTICO RESIDENCIAL   NaN\n",
              "3  2009-01-01  Margaret        DOMESTICO MEDIO   NaN\n",
              "4  2009-01-01     Helen  DOMESTICO RESIDENCIAL  20.0"
            ]
          },
          "metadata": {},
          "execution_count": 11
        }
      ],
      "source": [
        "dataComp.head()"
      ]
    },
    {
      "cell_type": "code",
      "execution_count": 20,
      "metadata": {
        "colab": {
          "base_uri": "https://localhost:8080/"
        },
        "id": "yo4UgmQ0S5QI",
        "outputId": "fbb041b3-6231-4e09-fef9-776a6ceab255"
      },
      "outputs": [
        {
          "output_type": "stream",
          "name": "stdout",
          "text": [
            "2009-01-01 00:00:00\n",
            "2015-12-01 00:00:00\n",
            "60000\n",
            "60000\n",
            "60000\n",
            "60000\n",
            "60000\n",
            "60000\n",
            "60000\n"
          ]
        }
      ],
      "source": [
        "dataComp.rename(columns = {0:'DATE',1:'NOMBRE',2:'TIPO',3:'CONSUMO'}, inplace = True)\n",
        "dataComp['DATE'] = pd.to_datetime(dataComp['DATE'], format='%Y-%m-%d')\n",
        "dataComp=dataComp.set_index('DATE')\n",
        "#RANGO DE FECHAS DE LAS MUESTRAS\n",
        "print(dataComp.index.min())\n",
        "print(dataComp.index.max())\n",
        "#CANTIDAD DE MUESTRAS POR ANIO\n",
        "print(len(dataComp['2009']))\n",
        "print(len(dataComp['2010']))\n",
        "print(len(dataComp['2011']))\n",
        "print(len(dataComp['2012']))\n",
        "print(len(dataComp['2013']))\n",
        "print(len(dataComp['2014']))\n",
        "print(len(dataComp['2015']))"
      ]
    },
    {
      "cell_type": "code",
      "execution_count": 5,
      "metadata": {
        "colab": {
          "base_uri": "https://localhost:8080/",
          "height": 300
        },
        "id": "bRg4nC0LewF6",
        "outputId": "4adbaf01-cf1e-4d41-da54-27a5fbea2e8e"
      },
      "outputs": [
        {
          "output_type": "execute_result",
          "data": {
            "text/html": [
              "<div>\n",
              "<style scoped>\n",
              "    .dataframe tbody tr th:only-of-type {\n",
              "        vertical-align: middle;\n",
              "    }\n",
              "\n",
              "    .dataframe tbody tr th {\n",
              "        vertical-align: top;\n",
              "    }\n",
              "\n",
              "    .dataframe thead th {\n",
              "        text-align: right;\n",
              "    }\n",
              "</style>\n",
              "<table border=\"1\" class=\"dataframe\">\n",
              "  <thead>\n",
              "    <tr style=\"text-align: right;\">\n",
              "      <th></th>\n",
              "      <th>CONSUMO</th>\n",
              "    </tr>\n",
              "  </thead>\n",
              "  <tbody>\n",
              "    <tr>\n",
              "      <th>count</th>\n",
              "      <td>323059.000000</td>\n",
              "    </tr>\n",
              "    <tr>\n",
              "      <th>mean</th>\n",
              "      <td>94.573140</td>\n",
              "    </tr>\n",
              "    <tr>\n",
              "      <th>std</th>\n",
              "      <td>1032.767218</td>\n",
              "    </tr>\n",
              "    <tr>\n",
              "      <th>min</th>\n",
              "      <td>0.000000</td>\n",
              "    </tr>\n",
              "    <tr>\n",
              "      <th>25%</th>\n",
              "      <td>9.000000</td>\n",
              "    </tr>\n",
              "    <tr>\n",
              "      <th>50%</th>\n",
              "      <td>15.000000</td>\n",
              "    </tr>\n",
              "    <tr>\n",
              "      <th>75%</th>\n",
              "      <td>22.000000</td>\n",
              "    </tr>\n",
              "    <tr>\n",
              "      <th>max</th>\n",
              "      <td>100302.000000</td>\n",
              "    </tr>\n",
              "  </tbody>\n",
              "</table>\n",
              "</div>"
            ],
            "text/plain": [
              "             CONSUMO\n",
              "count  323059.000000\n",
              "mean       94.573140\n",
              "std      1032.767218\n",
              "min         0.000000\n",
              "25%         9.000000\n",
              "50%        15.000000\n",
              "75%        22.000000\n",
              "max    100302.000000"
            ]
          },
          "metadata": {},
          "execution_count": 5
        }
      ],
      "source": [
        "#DESCRIPCION DEL DATASET\n",
        "dataComp.describe()"
      ]
    },
    {
      "cell_type": "code",
      "execution_count": 21,
      "metadata": {
        "colab": {
          "base_uri": "https://localhost:8080/",
          "height": 238
        },
        "id": "e0M6htqEDuDw",
        "outputId": "69aa44b4-0db3-450d-f56a-167da87260fa"
      },
      "outputs": [
        {
          "output_type": "execute_result",
          "data": {
            "text/html": [
              "<div>\n",
              "<style scoped>\n",
              "    .dataframe tbody tr th:only-of-type {\n",
              "        vertical-align: middle;\n",
              "    }\n",
              "\n",
              "    .dataframe tbody tr th {\n",
              "        vertical-align: top;\n",
              "    }\n",
              "\n",
              "    .dataframe thead th {\n",
              "        text-align: right;\n",
              "    }\n",
              "</style>\n",
              "<table border=\"1\" class=\"dataframe\">\n",
              "  <thead>\n",
              "    <tr style=\"text-align: right;\">\n",
              "      <th></th>\n",
              "      <th>NOMBRE</th>\n",
              "      <th>TIPO</th>\n",
              "    </tr>\n",
              "    <tr>\n",
              "      <th>DATE</th>\n",
              "      <th></th>\n",
              "      <th></th>\n",
              "    </tr>\n",
              "  </thead>\n",
              "  <tbody>\n",
              "    <tr>\n",
              "      <th>2009-01-01</th>\n",
              "      <td>Mary</td>\n",
              "      <td>DOMESTICO MEDIO</td>\n",
              "    </tr>\n",
              "    <tr>\n",
              "      <th>2009-01-01</th>\n",
              "      <td>Annie</td>\n",
              "      <td>DOMESTICO MEDIO</td>\n",
              "    </tr>\n",
              "    <tr>\n",
              "      <th>2009-01-01</th>\n",
              "      <td>Anna</td>\n",
              "      <td>DOMESTICO RESIDENCIAL</td>\n",
              "    </tr>\n",
              "    <tr>\n",
              "      <th>2009-01-01</th>\n",
              "      <td>Margaret</td>\n",
              "      <td>DOMESTICO MEDIO</td>\n",
              "    </tr>\n",
              "    <tr>\n",
              "      <th>2009-01-01</th>\n",
              "      <td>Helen</td>\n",
              "      <td>DOMESTICO RESIDENCIAL</td>\n",
              "    </tr>\n",
              "  </tbody>\n",
              "</table>\n",
              "</div>"
            ],
            "text/plain": [
              "              NOMBRE                   TIPO\n",
              "DATE                                       \n",
              "2009-01-01      Mary        DOMESTICO MEDIO\n",
              "2009-01-01     Annie        DOMESTICO MEDIO\n",
              "2009-01-01      Anna  DOMESTICO RESIDENCIAL\n",
              "2009-01-01  Margaret        DOMESTICO MEDIO\n",
              "2009-01-01     Helen  DOMESTICO RESIDENCIAL"
            ]
          },
          "metadata": {},
          "execution_count": 21
        }
      ],
      "source": [
        "#RELLENANDO VALORES NAN POR LA MEDIA\n",
        "dataComp=dataComp.fillna(dataComp['CONSUMO'].mean())\n",
        "#CONVIRTIENDO EL INDICE DEL DATAFRAME EN TIPO DATETIME\n",
        "#dataComp.index = pd.to_datetime(dataComp.index)\n",
        "#type(dataComp.index)\n",
        "salida=dataComp[\"CONSUMO\"]\n",
        "dataComp = dataComp.drop('CONSUMO',axis = 1)\n",
        "dataComp.head()"
      ]
    },
    {
      "cell_type": "code",
      "execution_count": 22,
      "metadata": {
        "id": "HzZNCzwIc-aZ"
      },
      "outputs": [],
      "source": [
        "# Create a categorical boolean mask\n",
        "categorical_feature_mask = dataComp.dtypes == object\n",
        "# Filter out the categorical columns into a list for easy reference later on in case you have more than a couple categorical columns\n",
        "categorical_cols = dataComp.columns[categorical_feature_mask].tolist()\n",
        "\n",
        "# Instantiate the OneHotEncoder Object\n",
        "from sklearn.preprocessing import OneHotEncoder\n",
        "ohe = OneHotEncoder(handle_unknown='ignore', sparse = False)\n",
        "dataComp['TIPO'] = dataComp['TIPO'].astype(str)\n",
        "dataComp['NOMBRE'] = dataComp['NOMBRE'].astype(str)\n"
      ]
    },
    {
      "cell_type": "code",
      "execution_count": 23,
      "metadata": {
        "colab": {
          "base_uri": "https://localhost:8080/"
        },
        "id": "3SGmuU0MdpXp",
        "outputId": "207bf5ae-083e-461c-d266-8b9e4bc4312d"
      },
      "outputs": [
        {
          "output_type": "stream",
          "name": "stderr",
          "text": [
            "/usr/local/lib/python3.7/dist-packages/sklearn/utils/deprecation.py:87: FutureWarning: Function get_feature_names is deprecated; get_feature_names is deprecated in 1.0 and will be removed in 1.2. Please use get_feature_names_out instead.\n",
            "  warnings.warn(msg, category=FutureWarning)\n"
          ]
        }
      ],
      "source": [
        "# Apply ohe on data\n",
        "ohe.fit(dataComp[categorical_cols])\n",
        "cat_ohe = ohe.transform(dataComp[categorical_cols])\n",
        "\n",
        "#Create a Pandas DataFrame of the hot encoded column\n",
        "ohe_df = pd.DataFrame(cat_ohe, columns = ohe.get_feature_names(input_features = categorical_cols))\n",
        "#concat with original data and drop original columns\n"
      ]
    },
    {
      "cell_type": "code",
      "execution_count": null,
      "metadata": {
        "id": "nQBIhu1bznsE"
      },
      "outputs": [],
      "source": [
        "#df_ohe = pd.concat([dataComp, ohe_df], axis=1).drop(columns = categorical_cols, axis=1)\n"
      ]
    },
    {
      "cell_type": "code",
      "execution_count": 24,
      "metadata": {
        "colab": {
          "base_uri": "https://localhost:8080/"
        },
        "id": "q-6TW4b1fqPh",
        "outputId": "7c6c9ef0-e6e5-4748-9ca8-3afb987c7704"
      },
      "outputs": [
        {
          "output_type": "stream",
          "name": "stdout",
          "text": [
            "           0     1     2     3     4\n",
            "0      -0.51 -0.10 -0.02  0.02  1.06\n",
            "1      -0.51 -0.10 -0.02  0.02  1.04\n",
            "2       0.87 -0.41 -0.05 -0.01  0.99\n",
            "3      -0.51 -0.10 -0.02  0.01  1.06\n",
            "4       0.87 -0.41 -0.06 -0.01  1.06\n",
            "...      ...   ...   ...   ...   ...\n",
            "419995 -0.52 -0.09 -0.02 -0.01 -0.01\n",
            "419996 -0.52 -0.09 -0.02 -0.01 -0.01\n",
            "419997 -0.52 -0.09 -0.02 -0.01 -0.01\n",
            "419998  0.86 -0.39 -0.06 -0.03 -0.02\n",
            "419999 -0.52 -0.09 -0.02 -0.01 -0.01\n",
            "\n",
            "[420000 rows x 5 columns]\n"
          ]
        }
      ],
      "source": [
        "#PCA Projection to 2D\n",
        "from sklearn.decomposition import PCA\n",
        "num_components=5\n",
        "pca = PCA(num_components)\n",
        "principalComponents = pca.fit_transform(ohe_df)\n",
        "a = range(num_components)\n",
        "num_pc= a[::1]\n",
        "\n",
        "principalDf = pd.DataFrame(data = principalComponents\n",
        "             , columns = num_pc)\n",
        "\n",
        "principalDf=round(principalDf, 2)\n",
        "print(principalDf)"
      ]
    },
    {
      "cell_type": "code",
      "source": [
        "principalDf.head()"
      ],
      "metadata": {
        "colab": {
          "base_uri": "https://localhost:8080/",
          "height": 206
        },
        "id": "eJWQZpHFyYOL",
        "outputId": "9393b138-bf15-412d-c740-f4ca284470d7"
      },
      "execution_count": 30,
      "outputs": [
        {
          "output_type": "execute_result",
          "data": {
            "text/html": [
              "<div>\n",
              "<style scoped>\n",
              "    .dataframe tbody tr th:only-of-type {\n",
              "        vertical-align: middle;\n",
              "    }\n",
              "\n",
              "    .dataframe tbody tr th {\n",
              "        vertical-align: top;\n",
              "    }\n",
              "\n",
              "    .dataframe thead th {\n",
              "        text-align: right;\n",
              "    }\n",
              "</style>\n",
              "<table border=\"1\" class=\"dataframe\">\n",
              "  <thead>\n",
              "    <tr style=\"text-align: right;\">\n",
              "      <th></th>\n",
              "      <th>0</th>\n",
              "      <th>1</th>\n",
              "      <th>2</th>\n",
              "      <th>3</th>\n",
              "      <th>4</th>\n",
              "    </tr>\n",
              "  </thead>\n",
              "  <tbody>\n",
              "    <tr>\n",
              "      <th>0</th>\n",
              "      <td>-0.51</td>\n",
              "      <td>-0.10</td>\n",
              "      <td>-0.02</td>\n",
              "      <td>0.02</td>\n",
              "      <td>1.06</td>\n",
              "    </tr>\n",
              "    <tr>\n",
              "      <th>1</th>\n",
              "      <td>-0.51</td>\n",
              "      <td>-0.10</td>\n",
              "      <td>-0.02</td>\n",
              "      <td>0.02</td>\n",
              "      <td>1.04</td>\n",
              "    </tr>\n",
              "    <tr>\n",
              "      <th>2</th>\n",
              "      <td>0.87</td>\n",
              "      <td>-0.41</td>\n",
              "      <td>-0.05</td>\n",
              "      <td>-0.01</td>\n",
              "      <td>0.99</td>\n",
              "    </tr>\n",
              "    <tr>\n",
              "      <th>3</th>\n",
              "      <td>-0.51</td>\n",
              "      <td>-0.10</td>\n",
              "      <td>-0.02</td>\n",
              "      <td>0.01</td>\n",
              "      <td>1.06</td>\n",
              "    </tr>\n",
              "    <tr>\n",
              "      <th>4</th>\n",
              "      <td>0.87</td>\n",
              "      <td>-0.41</td>\n",
              "      <td>-0.06</td>\n",
              "      <td>-0.01</td>\n",
              "      <td>1.06</td>\n",
              "    </tr>\n",
              "  </tbody>\n",
              "</table>\n",
              "</div>"
            ],
            "text/plain": [
              "      0     1     2     3     4\n",
              "0 -0.51 -0.10 -0.02  0.02  1.06\n",
              "1 -0.51 -0.10 -0.02  0.02  1.04\n",
              "2  0.87 -0.41 -0.05 -0.01  0.99\n",
              "3 -0.51 -0.10 -0.02  0.01  1.06\n",
              "4  0.87 -0.41 -0.06 -0.01  1.06"
            ]
          },
          "metadata": {},
          "execution_count": 30
        }
      ]
    },
    {
      "cell_type": "code",
      "execution_count": 32,
      "metadata": {
        "colab": {
          "base_uri": "https://localhost:8080/",
          "height": 206
        },
        "id": "NS6sR22rvXQd",
        "outputId": "1ff63312-d469-4f0f-f9e4-da5e9417f054"
      },
      "outputs": [
        {
          "output_type": "execute_result",
          "data": {
            "text/html": [
              "<div>\n",
              "<style scoped>\n",
              "    .dataframe tbody tr th:only-of-type {\n",
              "        vertical-align: middle;\n",
              "    }\n",
              "\n",
              "    .dataframe tbody tr th {\n",
              "        vertical-align: top;\n",
              "    }\n",
              "\n",
              "    .dataframe thead th {\n",
              "        text-align: right;\n",
              "    }\n",
              "</style>\n",
              "<table border=\"1\" class=\"dataframe\">\n",
              "  <thead>\n",
              "    <tr style=\"text-align: right;\">\n",
              "      <th></th>\n",
              "      <th>PC1</th>\n",
              "      <th>PC2</th>\n",
              "      <th>PC3</th>\n",
              "      <th>PC4</th>\n",
              "      <th>PC5</th>\n",
              "      <th>CONSUMO</th>\n",
              "    </tr>\n",
              "  </thead>\n",
              "  <tbody>\n",
              "    <tr>\n",
              "      <th>0</th>\n",
              "      <td>-0.51</td>\n",
              "      <td>-0.10</td>\n",
              "      <td>-0.02</td>\n",
              "      <td>0.02</td>\n",
              "      <td>1.06</td>\n",
              "      <td>20.00000</td>\n",
              "    </tr>\n",
              "    <tr>\n",
              "      <th>1</th>\n",
              "      <td>-0.51</td>\n",
              "      <td>-0.10</td>\n",
              "      <td>-0.02</td>\n",
              "      <td>0.02</td>\n",
              "      <td>1.04</td>\n",
              "      <td>94.57314</td>\n",
              "    </tr>\n",
              "    <tr>\n",
              "      <th>2</th>\n",
              "      <td>0.87</td>\n",
              "      <td>-0.41</td>\n",
              "      <td>-0.05</td>\n",
              "      <td>-0.01</td>\n",
              "      <td>0.99</td>\n",
              "      <td>94.57314</td>\n",
              "    </tr>\n",
              "    <tr>\n",
              "      <th>3</th>\n",
              "      <td>-0.51</td>\n",
              "      <td>-0.10</td>\n",
              "      <td>-0.02</td>\n",
              "      <td>0.01</td>\n",
              "      <td>1.06</td>\n",
              "      <td>94.57314</td>\n",
              "    </tr>\n",
              "    <tr>\n",
              "      <th>4</th>\n",
              "      <td>0.87</td>\n",
              "      <td>-0.41</td>\n",
              "      <td>-0.06</td>\n",
              "      <td>-0.01</td>\n",
              "      <td>1.06</td>\n",
              "      <td>20.00000</td>\n",
              "    </tr>\n",
              "  </tbody>\n",
              "</table>\n",
              "</div>"
            ],
            "text/plain": [
              "    PC1   PC2   PC3   PC4   PC5   CONSUMO\n",
              "0 -0.51 -0.10 -0.02  0.02  1.06  20.00000\n",
              "1 -0.51 -0.10 -0.02  0.02  1.04  94.57314\n",
              "2  0.87 -0.41 -0.05 -0.01  0.99  94.57314\n",
              "3 -0.51 -0.10 -0.02  0.01  1.06  94.57314\n",
              "4  0.87 -0.41 -0.06 -0.01  1.06  20.00000"
            ]
          },
          "metadata": {},
          "execution_count": 32
        }
      ],
      "source": [
        "salida.index= principalDf.index\n",
        "principalDf.insert(loc=5, column='CONSUMO', value=salida)\n",
        "principalDf.rename(columns = {0:'PC1',1:'PC2',2:'PC3',3:'PC4',4:'PC5'}, inplace = True)\n",
        "principalDf.head()"
      ]
    },
    {
      "cell_type": "code",
      "execution_count": 33,
      "metadata": {
        "id": "L6Tzs4oquAs_"
      },
      "outputs": [],
      "source": [
        "principalDf['CONSUMO']=principalDf['CONSUMO'].astype(float)\n"
      ]
    },
    {
      "cell_type": "code",
      "execution_count": 34,
      "metadata": {
        "id": "tTk9v1_Exwna",
        "colab": {
          "base_uri": "https://localhost:8080/",
          "height": 424
        },
        "outputId": "48ce6689-a391-4739-e690-8f5defaa506d"
      },
      "outputs": [
        {
          "output_type": "execute_result",
          "data": {
            "text/html": [
              "<div>\n",
              "<style scoped>\n",
              "    .dataframe tbody tr th:only-of-type {\n",
              "        vertical-align: middle;\n",
              "    }\n",
              "\n",
              "    .dataframe tbody tr th {\n",
              "        vertical-align: top;\n",
              "    }\n",
              "\n",
              "    .dataframe thead th {\n",
              "        text-align: right;\n",
              "    }\n",
              "</style>\n",
              "<table border=\"1\" class=\"dataframe\">\n",
              "  <thead>\n",
              "    <tr style=\"text-align: right;\">\n",
              "      <th></th>\n",
              "      <th>PC1</th>\n",
              "      <th>PC2</th>\n",
              "      <th>PC3</th>\n",
              "      <th>PC4</th>\n",
              "      <th>PC5</th>\n",
              "    </tr>\n",
              "  </thead>\n",
              "  <tbody>\n",
              "    <tr>\n",
              "      <th>0</th>\n",
              "      <td>-0.51</td>\n",
              "      <td>-0.10</td>\n",
              "      <td>-0.02</td>\n",
              "      <td>0.02</td>\n",
              "      <td>1.06</td>\n",
              "    </tr>\n",
              "    <tr>\n",
              "      <th>1</th>\n",
              "      <td>-0.51</td>\n",
              "      <td>-0.10</td>\n",
              "      <td>-0.02</td>\n",
              "      <td>0.02</td>\n",
              "      <td>1.04</td>\n",
              "    </tr>\n",
              "    <tr>\n",
              "      <th>2</th>\n",
              "      <td>0.87</td>\n",
              "      <td>-0.41</td>\n",
              "      <td>-0.05</td>\n",
              "      <td>-0.01</td>\n",
              "      <td>0.99</td>\n",
              "    </tr>\n",
              "    <tr>\n",
              "      <th>3</th>\n",
              "      <td>-0.51</td>\n",
              "      <td>-0.10</td>\n",
              "      <td>-0.02</td>\n",
              "      <td>0.01</td>\n",
              "      <td>1.06</td>\n",
              "    </tr>\n",
              "    <tr>\n",
              "      <th>4</th>\n",
              "      <td>0.87</td>\n",
              "      <td>-0.41</td>\n",
              "      <td>-0.06</td>\n",
              "      <td>-0.01</td>\n",
              "      <td>1.06</td>\n",
              "    </tr>\n",
              "    <tr>\n",
              "      <th>...</th>\n",
              "      <td>...</td>\n",
              "      <td>...</td>\n",
              "      <td>...</td>\n",
              "      <td>...</td>\n",
              "      <td>...</td>\n",
              "    </tr>\n",
              "    <tr>\n",
              "      <th>419995</th>\n",
              "      <td>-0.52</td>\n",
              "      <td>-0.09</td>\n",
              "      <td>-0.02</td>\n",
              "      <td>-0.01</td>\n",
              "      <td>-0.01</td>\n",
              "    </tr>\n",
              "    <tr>\n",
              "      <th>419996</th>\n",
              "      <td>-0.52</td>\n",
              "      <td>-0.09</td>\n",
              "      <td>-0.02</td>\n",
              "      <td>-0.01</td>\n",
              "      <td>-0.01</td>\n",
              "    </tr>\n",
              "    <tr>\n",
              "      <th>419997</th>\n",
              "      <td>-0.52</td>\n",
              "      <td>-0.09</td>\n",
              "      <td>-0.02</td>\n",
              "      <td>-0.01</td>\n",
              "      <td>-0.01</td>\n",
              "    </tr>\n",
              "    <tr>\n",
              "      <th>419998</th>\n",
              "      <td>0.86</td>\n",
              "      <td>-0.39</td>\n",
              "      <td>-0.06</td>\n",
              "      <td>-0.03</td>\n",
              "      <td>-0.02</td>\n",
              "    </tr>\n",
              "    <tr>\n",
              "      <th>419999</th>\n",
              "      <td>-0.52</td>\n",
              "      <td>-0.09</td>\n",
              "      <td>-0.02</td>\n",
              "      <td>-0.01</td>\n",
              "      <td>-0.01</td>\n",
              "    </tr>\n",
              "  </tbody>\n",
              "</table>\n",
              "<p>420000 rows × 5 columns</p>\n",
              "</div>"
            ],
            "text/plain": [
              "         PC1   PC2   PC3   PC4   PC5\n",
              "0      -0.51 -0.10 -0.02  0.02  1.06\n",
              "1      -0.51 -0.10 -0.02  0.02  1.04\n",
              "2       0.87 -0.41 -0.05 -0.01  0.99\n",
              "3      -0.51 -0.10 -0.02  0.01  1.06\n",
              "4       0.87 -0.41 -0.06 -0.01  1.06\n",
              "...      ...   ...   ...   ...   ...\n",
              "419995 -0.52 -0.09 -0.02 -0.01 -0.01\n",
              "419996 -0.52 -0.09 -0.02 -0.01 -0.01\n",
              "419997 -0.52 -0.09 -0.02 -0.01 -0.01\n",
              "419998  0.86 -0.39 -0.06 -0.03 -0.02\n",
              "419999 -0.52 -0.09 -0.02 -0.01 -0.01\n",
              "\n",
              "[420000 rows x 5 columns]"
            ]
          },
          "metadata": {},
          "execution_count": 34
        }
      ],
      "source": [
        "#Split en x, y\n",
        "y=principalDf['CONSUMO']\n",
        "dataset=principalDf.drop(['CONSUMO'], axis=1)\n",
        "x=dataset\n",
        "values = dataset.values\n",
        "x\n",
        "#-0.38, -0.16,  0.05,  0.77,  0.64"
      ]
    },
    {
      "cell_type": "code",
      "execution_count": 35,
      "metadata": {
        "id": "LyAeNQwczf2H",
        "colab": {
          "base_uri": "https://localhost:8080/"
        },
        "outputId": "23569889-b116-4e3c-819d-f4a0252dc4c7"
      },
      "outputs": [
        {
          "output_type": "execute_result",
          "data": {
            "text/plain": [
              "array([[0.00719422, 0.24409449, 0.35294116, 0.23846154, 1.        ],\n",
              "       [0.00719422, 0.24409449, 0.35294116, 0.23846154, 0.98165137],\n",
              "       [1.        , 0.        , 0.33088234, 0.21538462, 0.93577987],\n",
              "       ...,\n",
              "       [0.        , 0.2519685 , 0.35294116, 0.21538462, 0.01834862],\n",
              "       [0.99280584, 0.01574805, 0.32352942, 0.2       , 0.00917431],\n",
              "       [0.        , 0.2519685 , 0.35294116, 0.21538462, 0.01834862]],\n",
              "      dtype=float32)"
            ]
          },
          "metadata": {},
          "execution_count": 35
        }
      ],
      "source": [
        "# asegurarse que todo esta en formato float\n",
        "values = values.astype('float32')\n",
        "# normalzación\n",
        "scaler = MinMaxScaler(feature_range=(0, 1))\n",
        "scaled = scaler.fit_transform(values)\n",
        "scaled"
      ]
    },
    {
      "cell_type": "code",
      "execution_count": 36,
      "metadata": {
        "id": "RRxVD8TU25YB",
        "colab": {
          "base_uri": "https://localhost:8080/"
        },
        "outputId": "585adbca-12d1-4993-b7dc-816b88edabc3"
      },
      "outputs": [
        {
          "output_type": "stream",
          "name": "stdout",
          "text": [
            "420000\n",
            "(336000, 1, 4) (336000,) (84000, 1, 4) (84000,)\n"
          ]
        }
      ],
      "source": [
        "#red neuronal estandar\n",
        "#X_train, X_test, y_train, y_test = train_test_split(scaled, y, test_size=.2)\n",
        "numregistros=scaled.shape[0]\n",
        "print(numregistros)\n",
        "\n",
        "# split en conjuntos de train y test\n",
        "n_train = int(round(numregistros*0.8,0)) #80% para entrenamiento\n",
        "\n",
        "train = values[:n_train, :]\n",
        "test = values[n_train:, :]\n",
        "# split into input and outputs\n",
        "train_X, train_y = train[:, :-1], train[:, -1]\n",
        "test_X, test_y = test[:, :-1], test[:, -1]\n",
        "\n",
        "# reshape entrada a 3D [samples, timesteps, features]\n",
        "train_X = train_X.reshape((train_X.shape[0], 1, train_X.shape[1]))\n",
        "test_X = test_X.reshape((test_X.shape[0], 1, test_X.shape[1]))\n",
        "print(train_X.shape, train_y.shape, test_X.shape, test_y.shape)"
      ]
    },
    {
      "cell_type": "code",
      "execution_count": null,
      "metadata": {
        "id": "mYoIFcx6l9vr",
        "colab": {
          "base_uri": "https://localhost:8080/"
        },
        "outputId": "f3a1c436-cddf-4e8d-a51c-9785c0e573c4"
      },
      "outputs": [
        {
          "output_type": "stream",
          "name": "stdout",
          "text": [
            "Epoch 1/500\n",
            "4667/4667 - 46s - loss: 0.0110 - val_loss: 0.0102 - 46s/epoch - 10ms/step\n",
            "Epoch 2/500\n"
          ]
        }
      ],
      "source": [
        "# Diseño de la red recurrente LSTM\n",
        "model = Sequential()\n",
        "model.add(LSTM(256, input_shape=(train_X.shape[1], train_X.shape[2])))\n",
        "model.add(Dense(128))\n",
        "model.add(Dense(164))\n",
        "model.add(Dense(32))\n",
        "model.compile(loss='mae', optimizer='adam')\n",
        "# entrenar red\n",
        "history = model.fit(train_X, train_y, epochs=500, batch_size=72, validation_data=(test_X, test_y), verbose=2, shuffle=False)\n",
        "# plot history\n",
        "pyplot.plot(history.history['loss'], label='train')\n",
        "pyplot.plot(history.history['val_loss'], label='test')\n",
        "pyplot.legend()\n",
        "pyplot.show()"
      ]
    },
    {
      "cell_type": "code",
      "execution_count": null,
      "metadata": {
        "id": "T4kfgBT0B0vX"
      },
      "outputs": [],
      "source": [
        "newdf=dataComp.iloc[1:2,:-1]\n",
        "newdf=pd.DataFrame(newdf)\n"
      ]
    },
    {
      "cell_type": "code",
      "execution_count": null,
      "metadata": {
        "id": "P-u1X8wiDxBt"
      },
      "outputs": [],
      "source": [
        "principalDf.iloc[1:2,:-1]"
      ]
    },
    {
      "cell_type": "code",
      "execution_count": null,
      "metadata": {
        "id": "HzlM-SJfDv_d"
      },
      "outputs": [],
      "source": [
        "newdf['TIPO'] = newdf['TIPO'].astype(str)\n",
        "newdf['NOMBRE'] =newdf['NOMBRE'].astype(str)\n",
        "newdf.columns"
      ]
    },
    {
      "cell_type": "code",
      "execution_count": null,
      "metadata": {
        "id": "N-AJZQ9kAVxq"
      },
      "outputs": [],
      "source": [
        "# The following code is for your newdf after training and testing on original df\n",
        "# Apply ohe on newdf\n",
        "\n",
        "cat_ohe_new = ohe.transform(newdf[categorical_cols])\n",
        "#Create a Pandas DataFrame of the hot encoded column\n",
        "ohe_df_new = pd.DataFrame(cat_ohe_new, columns = ohe.get_feature_names(input_features = categorical_cols))\n",
        "#concat with original data and drop original columns\n",
        "df_ohe_new = pd.concat([newdf, ohe_df_new], axis=1).drop(columns = categorical_cols, axis=1)\n"
      ]
    },
    {
      "cell_type": "code",
      "execution_count": null,
      "metadata": {
        "id": "ZwmpFVlcEPPs"
      },
      "outputs": [],
      "source": [
        "pd.DataFrame(ohe_df_new)"
      ]
    },
    {
      "cell_type": "code",
      "execution_count": null,
      "metadata": {
        "id": "vjdyzNHoGEVC"
      },
      "outputs": [],
      "source": [
        "ohe_df_new.shape"
      ]
    },
    {
      "cell_type": "code",
      "execution_count": null,
      "metadata": {
        "id": "ZI4tdOF2scqD"
      },
      "outputs": [],
      "source": [
        "pred_X, pred_y = train[1:2, :], train[1:2, -1]\n"
      ]
    },
    {
      "cell_type": "code",
      "execution_count": null,
      "metadata": {
        "id": "yDhYylMFtqDU"
      },
      "outputs": [],
      "source": [
        "pred_X"
      ]
    },
    {
      "cell_type": "code",
      "execution_count": null,
      "metadata": {
        "id": "0GTr_I6JtpQ4"
      },
      "outputs": [],
      "source": [
        "new = pred_X.reshape((pred_X.shape[0], 1, pred_X.shape[1]))"
      ]
    },
    {
      "cell_type": "code",
      "execution_count": null,
      "metadata": {
        "id": "irb--teuys2Z"
      },
      "outputs": [],
      "source": [
        "new\n",
        "\n",
        "2009-01-01\t-0.38\t-0.15\t0.05\t0.79\t0.66"
      ]
    },
    {
      "cell_type": "code",
      "execution_count": null,
      "metadata": {
        "id": "nFHmXg3L0yA3"
      },
      "outputs": [],
      "source": [
        "# predict on df_ohe_new\n",
        "predict = model.predict(new)\n"
      ]
    },
    {
      "cell_type": "code",
      "execution_count": null,
      "metadata": {
        "id": "B7MVNn0IuKJk"
      },
      "outputs": [],
      "source": [
        "print(predict)"
      ]
    },
    {
      "cell_type": "code",
      "execution_count": null,
      "metadata": {
        "id": "ke39TOyIWVso"
      },
      "outputs": [],
      "source": [
        "results=model.predict(x_val)\n",
        "plt.scatter(range(len(y_val)),y_val,c='g')\n",
        "plt.scatter(range(len(results)),results,c='r')\n",
        "plt.title('validate')\n",
        "plt.show()"
      ]
    },
    {
      "cell_type": "code",
      "execution_count": null,
      "metadata": {
        "id": "eHC3xwnESG9W"
      },
      "outputs": [],
      "source": [
        "ultimosDias = dataComp['2015-11-01':'2015-12-31']\n",
        "ultimosDias"
      ]
    },
    {
      "cell_type": "code",
      "execution_count": null,
      "metadata": {
        "id": "ZG9ketUjXJOy"
      },
      "outputs": [],
      "source": [
        "values = reframed.values\n",
        "x_test = values[6:, :]\n",
        "x_test = x_test.reshape((x_test.shape[0], 1, x_test.shape[1]))\n",
        "x_test"
      ]
    },
    {
      "cell_type": "code",
      "execution_count": null,
      "metadata": {
        "id": "qeVvOzXmXt6g"
      },
      "outputs": [],
      "source": [
        "prediccion1SemanaDiciembre = pd.DataFrame(inverted)\n",
        "prediccion1SemanaDiciembre.columns = ['pronostico']\n",
        "prediccion1SemanaDiciembre.plot()\n",
        "prediccion1SemanaDiciembre.to_csv('pronostico.csv')"
      ]
    },
    {
      "cell_type": "code",
      "execution_count": null,
      "metadata": {
        "id": "RIWqnBedN64K"
      },
      "outputs": [],
      "source": [
        "# Diseño de la red recurrente LSTM\n",
        "model = Sequential()\n",
        "model.add(LSTM(64, input_shape=(train_X.shape[1], train_X.shape[2])))\n",
        "model.add(Dense(128))\n",
        "model.add(Dense(1))\n",
        "model.compile(loss='mae', optimizer='adam')\n",
        "# fit network\n",
        "history = model.fit(train_X, train_y, epochs=100, batch_size=72, validation_data=(test_X, test_y), verbose=2, shuffle=False)\n",
        "# plot history\n",
        "pyplot.plot(history.history['loss'], label='train')\n",
        "pyplot.plot(history.history['val_loss'], label='test')\n",
        "pyplot.legend()\n",
        "pyplot.show()"
      ]
    },
    {
      "cell_type": "code",
      "execution_count": null,
      "metadata": {
        "id": "_PrB3FujP7l3"
      },
      "outputs": [],
      "source": [
        "model.summary()"
      ]
    },
    {
      "cell_type": "code",
      "execution_count": null,
      "metadata": {
        "id": "cjkaiItZ_Qv9"
      },
      "outputs": [],
      "source": [
        "y_pred= model.predict(test_X)\n"
      ]
    },
    {
      "cell_type": "code",
      "execution_count": null,
      "metadata": {
        "id": "N0ICiYn3BEZa"
      },
      "outputs": [],
      "source": [
        "pd.DataFrame(test_y)"
      ]
    },
    {
      "cell_type": "code",
      "execution_count": null,
      "metadata": {
        "id": "tP2QaGKk_xty"
      },
      "outputs": [],
      "source": [
        "y_pred.shape"
      ]
    },
    {
      "cell_type": "code",
      "execution_count": null,
      "metadata": {
        "id": "QzNYwW4s_3Yg"
      },
      "outputs": [],
      "source": [
        ""
      ]
    },
    {
      "cell_type": "code",
      "execution_count": null,
      "metadata": {
        "id": "kFkFsGyO_9B5"
      },
      "outputs": [],
      "source": [
        "tes"
      ]
    },
    {
      "cell_type": "code",
      "execution_count": null,
      "metadata": {
        "id": "IDR52a_D_wvA"
      },
      "outputs": [],
      "source": [
        "mean_squared_error(test_y, y_pred, squared=False)"
      ]
    },
    {
      "cell_type": "code",
      "execution_count": null,
      "metadata": {
        "id": "MkZtj853Nafx"
      },
      "outputs": [],
      "source": [
        " # serialize model to JSON\n",
        "model_json = model.to_json()\n",
        "with open(\"model.json\", \"w\") as json_file:\n",
        "    json_file.write(model_json)\n",
        "# serialize weights to HDF5\n",
        "model.save_weights(\"model.h5\")\n",
        "print(\"Saved model to disk\")\n",
        " \n",
        "# later...\n",
        " \n",
        "# load json and create model\n",
        "json_file = open('model.json', 'r')\n",
        "loaded_model_json = json_file.read()\n",
        "json_file.close()\n",
        "model = model_from_json(loaded_model_json)\n",
        "# load weights into new model\n",
        "model.load_weights(\"model.h5\")\n",
        "print(\"Loaded model from disk\")\n",
        " "
      ]
    },
    {
      "cell_type": "code",
      "execution_count": null,
      "metadata": {
        "id": "kux8Fpcdfe3Y"
      },
      "outputs": [],
      "source": [
        "#FUNCION PARA ESCOGER UN REGISTRO DENTRO DEL DATAFRAME PARA LAS PRUEBAS DE VALIDACION\n",
        "def selectRabbit(user):\n",
        "  xnew = dataComp.iloc[user , 1:999]\n",
        "  return xnew\n"
      ]
    },
    {
      "cell_type": "code",
      "execution_count": null,
      "metadata": {
        "id": "l0VW_pfbfy70"
      },
      "outputs": [],
      "source": [
        "#FUNCION PARA BUSCAR EL VALOR REAL DE CONSUMO DENTRO DEL DATAFRAME\n",
        "def searchForReal(user):\n",
        "  real= dataComp.iloc[user ,-1]\n",
        "  return real"
      ]
    },
    {
      "cell_type": "code",
      "execution_count": null,
      "metadata": {
        "id": "F0e74tCs2z7O"
      },
      "outputs": [],
      "source": [
        "user=dataComp.iloc[-1,1:]"
      ]
    },
    {
      "cell_type": "code",
      "execution_count": null,
      "metadata": {
        "id": "gSsC1cyW26Z4"
      },
      "outputs": [],
      "source": [
        "user.shape"
      ]
    },
    {
      "cell_type": "code",
      "execution_count": null,
      "metadata": {
        "id": "SaeTCCaXOFvS"
      },
      "outputs": [],
      "source": [
        "def prediccion(user):\n",
        "    Xnew = np.array([dataComp.iloc[-1,1:]])#real es 79\n",
        "    print(Xnew.shape)\n",
        "    #xnew=selectRabbit(user)\n",
        "    Xnew= scaler.transform(Xnew)\n",
        "    Xnew = Xnew.reshape((Xnew.shape[0], 1, Xnew.shape[1]))\n",
        "    print(Xnew.shape)\n",
        "    pred= model.predict(Xnew)[0]\n",
        "    return pred\n",
        "    \n",
        "pred=prediccion(83)\n",
        "print('PREDICCION DE CONSUMO: ',pred)\n",
        "#print('USUARIO CONSUMO REAL :  [',searchForReal(83),']')"
      ]
    },
    {
      "cell_type": "code",
      "execution_count": null,
      "metadata": {
        "id": "8Lp_ahUu1uD_"
      },
      "outputs": [],
      "source": [
        "plt.plot(meses['2009'].values)\n",
        "plt.plot(meses['2010'].values)"
      ]
    },
    {
      "cell_type": "code",
      "execution_count": null,
      "metadata": {
        "id": "X88wrGVu1x7K"
      },
      "outputs": [],
      "source": [
        "verano2009 = dataComp['2009-01-01':'2009-01-31']\n",
        "plt.plot(verano2009.values)\n",
        "verano2010 = dataComp['2010-01-01':'2010-01-31']\n",
        "plt.plot(verano2010.values)"
      ]
    },
    {
      "cell_type": "code",
      "execution_count": null,
      "metadata": {
        "id": "S-2JkusPhp8S"
      },
      "outputs": [],
      "source": [
        "import matplotlib.pyplot as plt\n",
        "steps = 14400\n",
        "datos_train = dataComp[:-steps]\n",
        "datos_test  = dataComp[-steps:]\n",
        "fig, ax=plt.subplots(figsize=(9, 4))\n",
        "datos_train.plot(ax=ax, label='train')\n",
        "datos_test.plot(ax=ax, label='test')\n",
        "ax.legend();"
      ]
    }
  ],
  "metadata": {
    "colab": {
      "collapsed_sections": [],
      "name": "RNNConsumoDeAgua.ipynb",
      "provenance": [],
      "include_colab_link": true
    },
    "kernelspec": {
      "display_name": "Python 3",
      "name": "python3"
    },
    "language_info": {
      "name": "python"
    }
  },
  "nbformat": 4,
  "nbformat_minor": 0
}