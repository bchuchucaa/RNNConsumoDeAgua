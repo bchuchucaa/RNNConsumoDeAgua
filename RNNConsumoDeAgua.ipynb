{
  "cells": [
    {
      "cell_type": "markdown",
      "metadata": {
        "id": "view-in-github",
        "colab_type": "text"
      },
      "source": [
        "<a href=\"https://colab.research.google.com/github/bchuchucaa/RNNConsumoDeAgua/blob/main/RNNConsumoDeAgua.ipynb\" target=\"_parent\"><img src=\"https://colab.research.google.com/assets/colab-badge.svg\" alt=\"Open In Colab\"/></a>"
      ]
    },
    {
      "cell_type": "code",
      "execution_count": null,
      "metadata": {
        "colab": {
          "base_uri": "https://localhost:8080/"
        },
        "id": "n1D2LPUIg2CZ",
        "outputId": "cfce02df-15dc-43a4-9cc2-4c0474992cd2"
      },
      "outputs": [
        {
          "name": "stdout",
          "output_type": "stream",
          "text": [
            "unzip:  cannot find or open /content/archive.zip, /content/archive.zip.zip or /content/archive.zip.ZIP.\n"
          ]
        }
      ],
      "source": [
        "!unzip /content/archive.zip"
      ]
    },
    {
      "cell_type": "code",
      "execution_count": 1,
      "metadata": {
        "colab": {
          "base_uri": "https://localhost:8080/"
        },
        "id": "0JXAtN7ukusZ",
        "outputId": "a9d75109-dfe9-43cd-85cb-3442d0220432"
      },
      "outputs": [
        {
          "output_type": "stream",
          "name": "stdout",
          "text": [
            "LIBRERIAS IMPORTADAS\n"
          ]
        }
      ],
      "source": [
        "from pandas import read_csv\n",
        "from datetime import datetime\n",
        "import pandas as pd\n",
        "from matplotlib import pyplot\n",
        "import numpy as np\n",
        "from math import sqrt\n",
        "from numpy import concatenate\n",
        "from matplotlib import pyplot\n",
        "from pandas import read_csv\n",
        "from pandas import DataFrame\n",
        "from pandas import concat\n",
        "from sklearn.preprocessing import MinMaxScaler\n",
        "from sklearn.preprocessing import LabelEncoder\n",
        "from sklearn.metrics import mean_squared_error\n",
        "from sklearn.model_selection import train_test_split\n",
        "from keras.models import Sequential\n",
        "from keras.layers import Dense\n",
        "from keras.layers import LSTM\n",
        "from keras.models import model_from_json\n",
        "from sklearn.metrics import mean_squared_error\n",
        "from keras.layers import Dense,Activation,Flatten\n",
        "from sklearn.preprocessing import scale \n",
        "\n",
        "print('LIBRERIAS IMPORTADAS')"
      ]
    },
    {
      "cell_type": "markdown",
      "metadata": {
        "id": "s5wDR_wiN-7q"
      },
      "source": [
        "**LECTURA DE DATOS**"
      ]
    },
    {
      "cell_type": "code",
      "execution_count": 2,
      "metadata": {
        "colab": {
          "base_uri": "https://localhost:8080/"
        },
        "id": "DhCtqBU9mSVP",
        "outputId": "7cf82961-b055-4ed0-cfac-8a761573442c"
      },
      "outputs": [
        {
          "output_type": "stream",
          "name": "stdout",
          "text": [
            "INGRESE EL NUMERO DE MUESTRAS7000\n",
            "Names shape  (7000, 1)\n",
            "Dataframe shape  (7000, 86)\n"
          ]
        }
      ],
      "source": [
        "#LOADING DATA \n",
        "number_of_samples=int(input(\"INGRESE EL NUMERO DE MUESTRAS\"))\n",
        "df= read_csv('/content/AguaH.csv')\n",
        "df = df.iloc[0:number_of_samples , :]\n",
        "#AJUSTE DEL FORMATO DE LAS FECHAS \n",
        "lookup = {'ENE':'01','FEB':'02','MAR':'03','ABR':'04','MAY':'05','JUN':'06','JUL':'07','AGO':'08','SEP':'09','OCT':'10','NOV':'11','DIC':'12'}\n",
        "clist=[]\n",
        "for col in df.columns[5:]:\n",
        "    col = col[4:].split('_')\n",
        "    clist.append('20'+col[1]+'-'+lookup[col[0]]+'-01')\n",
        "\n",
        "columns = ['LANDUSE_TYPE','USER','PIPE DIAM','VENDOR','JAN16']+clist\n",
        "df.columns=columns\n",
        "df = df.drop(columns=['LANDUSE_TYPE','PIPE DIAM','VENDOR','JAN16'])\n",
        "#ESTE CODIGO SIRVE UNICAMENTE PARA LA INTEGRACION DE LOS NOMBRES EN EL DATAFRAME\n",
        "names = pd.read_csv(\"/content/StateNames.csv\", usecols=[\"Name\"])\n",
        "names = names.iloc[0:number_of_samples , :]\n",
        "#ELIMINAMOS LA COLUMNA DE LOS NOMBRE YA QUE SE BINARIZARON\n",
        "print(\"Names shape \",names.shape)\n",
        "df.insert(loc=1, column='Names', value=names)\n",
        "print(\"Dataframe shape \",df.shape)\n",
        "#AJUSTE DEL DATASET EN EL FORMATO SOLICITADO \n",
        "rows_list=[]\n",
        "dataComp = pd.DataFrame(columns=('DATE','NOMBRE','TIPO', 'CONSUMO'))\n",
        "for column in range(2,len(df.columns),1):\n",
        "  selection=df.iloc[:,column]\n",
        "  for row in range(len(selection)):\n",
        "    df2=[df.columns[column],df.iloc[row,1],df.iloc[row,0],selection.iloc[row]]\n",
        "    rows_list.append(df2)\n",
        "    \n",
        "dataComp = pd.DataFrame(rows_list)  \n"
      ]
    },
    {
      "cell_type": "code",
      "execution_count": 3,
      "metadata": {
        "colab": {
          "base_uri": "https://localhost:8080/",
          "height": 206
        },
        "id": "ZnesYEWmYRl5",
        "outputId": "1e953034-727f-43b8-80df-19379bf5d31f"
      },
      "outputs": [
        {
          "output_type": "execute_result",
          "data": {
            "text/html": [
              "<div>\n",
              "<style scoped>\n",
              "    .dataframe tbody tr th:only-of-type {\n",
              "        vertical-align: middle;\n",
              "    }\n",
              "\n",
              "    .dataframe tbody tr th {\n",
              "        vertical-align: top;\n",
              "    }\n",
              "\n",
              "    .dataframe thead th {\n",
              "        text-align: right;\n",
              "    }\n",
              "</style>\n",
              "<table border=\"1\" class=\"dataframe\">\n",
              "  <thead>\n",
              "    <tr style=\"text-align: right;\">\n",
              "      <th></th>\n",
              "      <th>0</th>\n",
              "      <th>1</th>\n",
              "      <th>2</th>\n",
              "      <th>3</th>\n",
              "    </tr>\n",
              "  </thead>\n",
              "  <tbody>\n",
              "    <tr>\n",
              "      <th>587995</th>\n",
              "      <td>2015-12-01</td>\n",
              "      <td>Victoria</td>\n",
              "      <td>DOMESTICO RESIDENCIAL</td>\n",
              "      <td>0.0</td>\n",
              "    </tr>\n",
              "    <tr>\n",
              "      <th>587996</th>\n",
              "      <td>2015-12-01</td>\n",
              "      <td>Audrey</td>\n",
              "      <td>DOMESTICO RESIDENCIAL</td>\n",
              "      <td>10.0</td>\n",
              "    </tr>\n",
              "    <tr>\n",
              "      <th>587997</th>\n",
              "      <td>2015-12-01</td>\n",
              "      <td>Candace</td>\n",
              "      <td>DOMESTICO MEDIO</td>\n",
              "      <td>24.0</td>\n",
              "    </tr>\n",
              "    <tr>\n",
              "      <th>587998</th>\n",
              "      <td>2015-12-01</td>\n",
              "      <td>Janice</td>\n",
              "      <td>DOMESTICO RESIDENCIAL</td>\n",
              "      <td>6.0</td>\n",
              "    </tr>\n",
              "    <tr>\n",
              "      <th>587999</th>\n",
              "      <td>2015-12-01</td>\n",
              "      <td>Joanna</td>\n",
              "      <td>DOMESTICO MEDIO</td>\n",
              "      <td>10.0</td>\n",
              "    </tr>\n",
              "  </tbody>\n",
              "</table>\n",
              "</div>"
            ],
            "text/plain": [
              "                 0         1                      2     3\n",
              "587995  2015-12-01  Victoria  DOMESTICO RESIDENCIAL   0.0\n",
              "587996  2015-12-01    Audrey  DOMESTICO RESIDENCIAL  10.0\n",
              "587997  2015-12-01   Candace        DOMESTICO MEDIO  24.0\n",
              "587998  2015-12-01    Janice  DOMESTICO RESIDENCIAL   6.0\n",
              "587999  2015-12-01    Joanna        DOMESTICO MEDIO  10.0"
            ]
          },
          "metadata": {},
          "execution_count": 3
        }
      ],
      "source": [
        "dataComp.tail()"
      ]
    },
    {
      "cell_type": "code",
      "execution_count": 4,
      "metadata": {
        "colab": {
          "base_uri": "https://localhost:8080/"
        },
        "id": "yo4UgmQ0S5QI",
        "outputId": "5070d502-1fa8-4dc0-f698-0bc1ff11f661"
      },
      "outputs": [
        {
          "output_type": "stream",
          "name": "stdout",
          "text": [
            "2009-01-01 00:00:00\n",
            "2015-12-01 00:00:00\n",
            "84000\n"
          ]
        }
      ],
      "source": [
        "dataComp.rename(columns = {0:'DATE',1:'NOMBRE',2:'TIPO',3:'CONSUMO'}, inplace = True)\n",
        "dataComp['DATE'] = pd.to_datetime(dataComp['DATE'], format='%Y-%m-%d')\n",
        "dataComp=dataComp.set_index('DATE')\n",
        "#RANGO DE FECHAS DE LAS MUESTRAS\n",
        "print(dataComp.index.min())\n",
        "print(dataComp.index.max())\n",
        "#CANTIDAD DE MUESTRAS POR ANIO\n",
        "print(len(dataComp['2009']))\n"
      ]
    },
    {
      "cell_type": "code",
      "execution_count": 5,
      "metadata": {
        "colab": {
          "base_uri": "https://localhost:8080/",
          "height": 300
        },
        "id": "bRg4nC0LewF6",
        "outputId": "3c3314eb-c504-49af-f3b9-64dfa132627f"
      },
      "outputs": [
        {
          "output_type": "execute_result",
          "data": {
            "text/html": [
              "<div>\n",
              "<style scoped>\n",
              "    .dataframe tbody tr th:only-of-type {\n",
              "        vertical-align: middle;\n",
              "    }\n",
              "\n",
              "    .dataframe tbody tr th {\n",
              "        vertical-align: top;\n",
              "    }\n",
              "\n",
              "    .dataframe thead th {\n",
              "        text-align: right;\n",
              "    }\n",
              "</style>\n",
              "<table border=\"1\" class=\"dataframe\">\n",
              "  <thead>\n",
              "    <tr style=\"text-align: right;\">\n",
              "      <th></th>\n",
              "      <th>CONSUMO</th>\n",
              "    </tr>\n",
              "  </thead>\n",
              "  <tbody>\n",
              "    <tr>\n",
              "      <th>count</th>\n",
              "      <td>438765.000000</td>\n",
              "    </tr>\n",
              "    <tr>\n",
              "      <th>mean</th>\n",
              "      <td>122.771406</td>\n",
              "    </tr>\n",
              "    <tr>\n",
              "      <th>std</th>\n",
              "      <td>992.457554</td>\n",
              "    </tr>\n",
              "    <tr>\n",
              "      <th>min</th>\n",
              "      <td>0.000000</td>\n",
              "    </tr>\n",
              "    <tr>\n",
              "      <th>25%</th>\n",
              "      <td>9.000000</td>\n",
              "    </tr>\n",
              "    <tr>\n",
              "      <th>50%</th>\n",
              "      <td>15.000000</td>\n",
              "    </tr>\n",
              "    <tr>\n",
              "      <th>75%</th>\n",
              "      <td>23.000000</td>\n",
              "    </tr>\n",
              "    <tr>\n",
              "      <th>max</th>\n",
              "      <td>100302.000000</td>\n",
              "    </tr>\n",
              "  </tbody>\n",
              "</table>\n",
              "</div>"
            ],
            "text/plain": [
              "             CONSUMO\n",
              "count  438765.000000\n",
              "mean      122.771406\n",
              "std       992.457554\n",
              "min         0.000000\n",
              "25%         9.000000\n",
              "50%        15.000000\n",
              "75%        23.000000\n",
              "max    100302.000000"
            ]
          },
          "metadata": {},
          "execution_count": 5
        }
      ],
      "source": [
        "#DESCRIPCION DEL DATASET\n",
        "dataComp.describe()"
      ]
    },
    {
      "cell_type": "code",
      "execution_count": 6,
      "metadata": {
        "colab": {
          "base_uri": "https://localhost:8080/",
          "height": 238
        },
        "id": "e0M6htqEDuDw",
        "outputId": "9fce859d-a93f-4754-9c19-753c78f5fe66"
      },
      "outputs": [
        {
          "output_type": "execute_result",
          "data": {
            "text/html": [
              "<div>\n",
              "<style scoped>\n",
              "    .dataframe tbody tr th:only-of-type {\n",
              "        vertical-align: middle;\n",
              "    }\n",
              "\n",
              "    .dataframe tbody tr th {\n",
              "        vertical-align: top;\n",
              "    }\n",
              "\n",
              "    .dataframe thead th {\n",
              "        text-align: right;\n",
              "    }\n",
              "</style>\n",
              "<table border=\"1\" class=\"dataframe\">\n",
              "  <thead>\n",
              "    <tr style=\"text-align: right;\">\n",
              "      <th></th>\n",
              "      <th>NOMBRE</th>\n",
              "      <th>TIPO</th>\n",
              "    </tr>\n",
              "    <tr>\n",
              "      <th>DATE</th>\n",
              "      <th></th>\n",
              "      <th></th>\n",
              "    </tr>\n",
              "  </thead>\n",
              "  <tbody>\n",
              "    <tr>\n",
              "      <th>2009-01-01</th>\n",
              "      <td>Mary</td>\n",
              "      <td>DOMESTICO MEDIO</td>\n",
              "    </tr>\n",
              "    <tr>\n",
              "      <th>2009-01-01</th>\n",
              "      <td>Annie</td>\n",
              "      <td>DOMESTICO MEDIO</td>\n",
              "    </tr>\n",
              "    <tr>\n",
              "      <th>2009-01-01</th>\n",
              "      <td>Anna</td>\n",
              "      <td>DOMESTICO RESIDENCIAL</td>\n",
              "    </tr>\n",
              "    <tr>\n",
              "      <th>2009-01-01</th>\n",
              "      <td>Margaret</td>\n",
              "      <td>DOMESTICO MEDIO</td>\n",
              "    </tr>\n",
              "    <tr>\n",
              "      <th>2009-01-01</th>\n",
              "      <td>Helen</td>\n",
              "      <td>DOMESTICO RESIDENCIAL</td>\n",
              "    </tr>\n",
              "  </tbody>\n",
              "</table>\n",
              "</div>"
            ],
            "text/plain": [
              "              NOMBRE                   TIPO\n",
              "DATE                                       \n",
              "2009-01-01      Mary        DOMESTICO MEDIO\n",
              "2009-01-01     Annie        DOMESTICO MEDIO\n",
              "2009-01-01      Anna  DOMESTICO RESIDENCIAL\n",
              "2009-01-01  Margaret        DOMESTICO MEDIO\n",
              "2009-01-01     Helen  DOMESTICO RESIDENCIAL"
            ]
          },
          "metadata": {},
          "execution_count": 6
        }
      ],
      "source": [
        "#RELLENANDO VALORES NAN POR LA MEDIA\n",
        "dataComp=dataComp.fillna(dataComp['CONSUMO'].mean())\n",
        "salida=dataComp[\"CONSUMO\"]\n",
        "dataComp = dataComp.drop('CONSUMO',axis = 1)\n",
        "dataComp.head()"
      ]
    },
    {
      "cell_type": "code",
      "execution_count": 7,
      "metadata": {
        "id": "HzZNCzwIc-aZ",
        "colab": {
          "base_uri": "https://localhost:8080/"
        },
        "outputId": "5510c9a9-1439-4b14-ed1a-88c1d664e076"
      },
      "outputs": [
        {
          "output_type": "stream",
          "name": "stderr",
          "text": [
            "/usr/local/lib/python3.7/dist-packages/sklearn/utils/deprecation.py:87: FutureWarning: Function get_feature_names is deprecated; get_feature_names is deprecated in 1.0 and will be removed in 1.2. Please use get_feature_names_out instead.\n",
            "  warnings.warn(msg, category=FutureWarning)\n"
          ]
        }
      ],
      "source": [
        "# Create a categorical boolean mask\n",
        "categorical_feature_mask = dataComp.dtypes == object\n",
        "# Filter out the categorical columns into a list for easy reference later on in case you have more than a couple categorical columns\n",
        "categorical_cols = dataComp.columns[categorical_feature_mask].tolist()\n",
        "\n",
        "# Instantiate the OneHotEncoder Object\n",
        "from sklearn.preprocessing import OneHotEncoder\n",
        "ohe = OneHotEncoder(handle_unknown='ignore', sparse = False)\n",
        "dataComp['TIPO'] = dataComp['TIPO'].astype(str)\n",
        "dataComp['NOMBRE'] = dataComp['NOMBRE'].astype(str)\n",
        "\n",
        "# Apply ohe on data\n",
        "ohe.fit(dataComp[categorical_cols])\n",
        "cat_ohe = ohe.transform(dataComp[categorical_cols])\n",
        "\n",
        "#Create a Pandas DataFrame of the hot encoded column\n",
        "ohe_df = pd.DataFrame(cat_ohe, columns = ohe.get_feature_names(input_features = categorical_cols))\n",
        "#concat with original data and drop original columns\n"
      ]
    },
    {
      "cell_type": "code",
      "execution_count": 8,
      "metadata": {
        "id": "q-6TW4b1fqPh",
        "colab": {
          "base_uri": "https://localhost:8080/"
        },
        "outputId": "d1b7251c-03d5-4f10-ed25-b677604c12b8"
      },
      "outputs": [
        {
          "output_type": "stream",
          "name": "stdout",
          "text": [
            "         PC1   PC2   PC3   PC4   PC5\n",
            "0      -0.56 -0.11 -0.02 -0.01  0.95\n",
            "1      -0.55 -0.11 -0.02 -0.00 -0.00\n",
            "2       0.84 -0.32 -0.05 -0.03 -0.06\n",
            "3      -0.55 -0.10 -0.02 -0.01 -0.26\n",
            "4       0.84 -0.32 -0.05 -0.03 -0.03\n",
            "...      ...   ...   ...   ...   ...\n",
            "587995  0.84 -0.31 -0.05 -0.03 -0.00\n",
            "587996  0.84 -0.32 -0.05 -0.03 -0.00\n",
            "587997 -0.56 -0.11 -0.02 -0.01 -0.00\n",
            "587998  0.84 -0.32 -0.05 -0.02 -0.00\n",
            "587999 -0.55 -0.11 -0.02 -0.01 -0.00\n",
            "\n",
            "[588000 rows x 5 columns]\n"
          ]
        }
      ],
      "source": [
        "#PCA Projection to 2D\n",
        "from sklearn.decomposition import PCA\n",
        "num_components=5\n",
        "columnas=['PC1','PC2','PC3','PC4','PC5']\n",
        "pca = PCA(num_components)\n",
        "principalComponents = pca.fit_transform(ohe_df)\n",
        "principalDf = pd.DataFrame(data = principalComponents\n",
        "             , columns = columnas)\n",
        "principalDf=round(principalDf, 2)\n",
        "print(principalDf)"
      ]
    },
    {
      "cell_type": "code",
      "execution_count": 9,
      "metadata": {
        "colab": {
          "base_uri": "https://localhost:8080/",
          "height": 238
        },
        "id": "NS6sR22rvXQd",
        "outputId": "097490bf-d83b-4ab0-c67f-77afcf18b28c"
      },
      "outputs": [
        {
          "output_type": "execute_result",
          "data": {
            "text/html": [
              "<div>\n",
              "<style scoped>\n",
              "    .dataframe tbody tr th:only-of-type {\n",
              "        vertical-align: middle;\n",
              "    }\n",
              "\n",
              "    .dataframe tbody tr th {\n",
              "        vertical-align: top;\n",
              "    }\n",
              "\n",
              "    .dataframe thead th {\n",
              "        text-align: right;\n",
              "    }\n",
              "</style>\n",
              "<table border=\"1\" class=\"dataframe\">\n",
              "  <thead>\n",
              "    <tr style=\"text-align: right;\">\n",
              "      <th></th>\n",
              "      <th>PC1</th>\n",
              "      <th>PC2</th>\n",
              "      <th>PC3</th>\n",
              "      <th>PC4</th>\n",
              "      <th>PC5</th>\n",
              "      <th>CONSUMO</th>\n",
              "    </tr>\n",
              "    <tr>\n",
              "      <th>DATE</th>\n",
              "      <th></th>\n",
              "      <th></th>\n",
              "      <th></th>\n",
              "      <th></th>\n",
              "      <th></th>\n",
              "      <th></th>\n",
              "    </tr>\n",
              "  </thead>\n",
              "  <tbody>\n",
              "    <tr>\n",
              "      <th>2009-01-01</th>\n",
              "      <td>-0.56</td>\n",
              "      <td>-0.11</td>\n",
              "      <td>-0.02</td>\n",
              "      <td>-0.01</td>\n",
              "      <td>0.95</td>\n",
              "      <td>20.000000</td>\n",
              "    </tr>\n",
              "    <tr>\n",
              "      <th>2009-01-01</th>\n",
              "      <td>-0.55</td>\n",
              "      <td>-0.11</td>\n",
              "      <td>-0.02</td>\n",
              "      <td>-0.00</td>\n",
              "      <td>-0.00</td>\n",
              "      <td>122.771406</td>\n",
              "    </tr>\n",
              "    <tr>\n",
              "      <th>2009-01-01</th>\n",
              "      <td>0.84</td>\n",
              "      <td>-0.32</td>\n",
              "      <td>-0.05</td>\n",
              "      <td>-0.03</td>\n",
              "      <td>-0.06</td>\n",
              "      <td>122.771406</td>\n",
              "    </tr>\n",
              "    <tr>\n",
              "      <th>2009-01-01</th>\n",
              "      <td>-0.55</td>\n",
              "      <td>-0.10</td>\n",
              "      <td>-0.02</td>\n",
              "      <td>-0.01</td>\n",
              "      <td>-0.26</td>\n",
              "      <td>122.771406</td>\n",
              "    </tr>\n",
              "    <tr>\n",
              "      <th>2009-01-01</th>\n",
              "      <td>0.84</td>\n",
              "      <td>-0.32</td>\n",
              "      <td>-0.05</td>\n",
              "      <td>-0.03</td>\n",
              "      <td>-0.03</td>\n",
              "      <td>20.000000</td>\n",
              "    </tr>\n",
              "  </tbody>\n",
              "</table>\n",
              "</div>"
            ],
            "text/plain": [
              "             PC1   PC2   PC3   PC4   PC5     CONSUMO\n",
              "DATE                                                \n",
              "2009-01-01 -0.56 -0.11 -0.02 -0.01  0.95   20.000000\n",
              "2009-01-01 -0.55 -0.11 -0.02 -0.00 -0.00  122.771406\n",
              "2009-01-01  0.84 -0.32 -0.05 -0.03 -0.06  122.771406\n",
              "2009-01-01 -0.55 -0.10 -0.02 -0.01 -0.26  122.771406\n",
              "2009-01-01  0.84 -0.32 -0.05 -0.03 -0.03   20.000000"
            ]
          },
          "metadata": {},
          "execution_count": 9
        }
      ],
      "source": [
        "principalDf.index=dataComp.index\n",
        "principalDf.insert(loc=5, column='CONSUMO', value=salida)\n",
        "principalDf.rename(columns = {0:'PC1',1:'PC2',2:'PC3',3:'PC4',4:'PC5'}, inplace = True)\n",
        "principalDf.head()\n"
      ]
    },
    {
      "cell_type": "code",
      "source": [
        "scaler = MinMaxScaler(feature_range=(0, 1))\n",
        "principalDf = scaler.fit_transform(principalDf.values)"
      ],
      "metadata": {
        "id": "dprRyOhvTBBw"
      },
      "execution_count": 11,
      "outputs": []
    },
    {
      "cell_type": "code",
      "source": [
        "principalDf = pd.DataFrame(principalDf)"
      ],
      "metadata": {
        "id": "Fc5K7YO6TL6Y"
      },
      "execution_count": 12,
      "outputs": []
    },
    {
      "cell_type": "code",
      "source": [
        "principalDf.rename(columns = {0:'PC1',1:'PC2',2:'PC3',3:'PC4',4:'PC5',5:'CONSUMO'}, inplace = True)\n",
        "principalDf.head()"
      ],
      "metadata": {
        "colab": {
          "base_uri": "https://localhost:8080/",
          "height": 206
        },
        "id": "omM3wsVCTdwQ",
        "outputId": "2257d0fb-2ca5-4b3d-b231-a54341a056cb"
      },
      "execution_count": 13,
      "outputs": [
        {
          "output_type": "execute_result",
          "data": {
            "text/html": [
              "<div>\n",
              "<style scoped>\n",
              "    .dataframe tbody tr th:only-of-type {\n",
              "        vertical-align: middle;\n",
              "    }\n",
              "\n",
              "    .dataframe tbody tr th {\n",
              "        vertical-align: top;\n",
              "    }\n",
              "\n",
              "    .dataframe thead th {\n",
              "        text-align: right;\n",
              "    }\n",
              "</style>\n",
              "<table border=\"1\" class=\"dataframe\">\n",
              "  <thead>\n",
              "    <tr style=\"text-align: right;\">\n",
              "      <th></th>\n",
              "      <th>PC1</th>\n",
              "      <th>PC2</th>\n",
              "      <th>PC3</th>\n",
              "      <th>PC4</th>\n",
              "      <th>PC5</th>\n",
              "      <th>CONSUMO</th>\n",
              "    </tr>\n",
              "  </thead>\n",
              "  <tbody>\n",
              "    <tr>\n",
              "      <th>0</th>\n",
              "      <td>0.000000</td>\n",
              "      <td>0.168</td>\n",
              "      <td>0.321168</td>\n",
              "      <td>0.182540</td>\n",
              "      <td>1.000000</td>\n",
              "      <td>0.000199</td>\n",
              "    </tr>\n",
              "    <tr>\n",
              "      <th>1</th>\n",
              "      <td>0.007092</td>\n",
              "      <td>0.168</td>\n",
              "      <td>0.321168</td>\n",
              "      <td>0.190476</td>\n",
              "      <td>0.221311</td>\n",
              "      <td>0.001224</td>\n",
              "    </tr>\n",
              "    <tr>\n",
              "      <th>2</th>\n",
              "      <td>0.992908</td>\n",
              "      <td>0.000</td>\n",
              "      <td>0.299270</td>\n",
              "      <td>0.166667</td>\n",
              "      <td>0.172131</td>\n",
              "      <td>0.001224</td>\n",
              "    </tr>\n",
              "    <tr>\n",
              "      <th>3</th>\n",
              "      <td>0.007092</td>\n",
              "      <td>0.176</td>\n",
              "      <td>0.321168</td>\n",
              "      <td>0.182540</td>\n",
              "      <td>0.008197</td>\n",
              "      <td>0.001224</td>\n",
              "    </tr>\n",
              "    <tr>\n",
              "      <th>4</th>\n",
              "      <td>0.992908</td>\n",
              "      <td>0.000</td>\n",
              "      <td>0.299270</td>\n",
              "      <td>0.166667</td>\n",
              "      <td>0.196721</td>\n",
              "      <td>0.000199</td>\n",
              "    </tr>\n",
              "  </tbody>\n",
              "</table>\n",
              "</div>"
            ],
            "text/plain": [
              "        PC1    PC2       PC3       PC4       PC5   CONSUMO\n",
              "0  0.000000  0.168  0.321168  0.182540  1.000000  0.000199\n",
              "1  0.007092  0.168  0.321168  0.190476  0.221311  0.001224\n",
              "2  0.992908  0.000  0.299270  0.166667  0.172131  0.001224\n",
              "3  0.007092  0.176  0.321168  0.182540  0.008197  0.001224\n",
              "4  0.992908  0.000  0.299270  0.166667  0.196721  0.000199"
            ]
          },
          "metadata": {},
          "execution_count": 13
        }
      ]
    },
    {
      "cell_type": "code",
      "execution_count": 14,
      "metadata": {
        "id": "LyAeNQwczf2H",
        "colab": {
          "base_uri": "https://localhost:8080/",
          "height": 424
        },
        "outputId": "a088418d-698d-470c-a6b2-ecdcec2c0654"
      },
      "outputs": [
        {
          "output_type": "execute_result",
          "data": {
            "text/html": [
              "<div>\n",
              "<style scoped>\n",
              "    .dataframe tbody tr th:only-of-type {\n",
              "        vertical-align: middle;\n",
              "    }\n",
              "\n",
              "    .dataframe tbody tr th {\n",
              "        vertical-align: top;\n",
              "    }\n",
              "\n",
              "    .dataframe thead th {\n",
              "        text-align: right;\n",
              "    }\n",
              "</style>\n",
              "<table border=\"1\" class=\"dataframe\">\n",
              "  <thead>\n",
              "    <tr style=\"text-align: right;\">\n",
              "      <th></th>\n",
              "      <th>PC1</th>\n",
              "      <th>PC2</th>\n",
              "      <th>PC3</th>\n",
              "      <th>PC4</th>\n",
              "      <th>PC5</th>\n",
              "    </tr>\n",
              "  </thead>\n",
              "  <tbody>\n",
              "    <tr>\n",
              "      <th>0</th>\n",
              "      <td>0.000000</td>\n",
              "      <td>0.168</td>\n",
              "      <td>0.321168</td>\n",
              "      <td>0.182540</td>\n",
              "      <td>1.000000</td>\n",
              "    </tr>\n",
              "    <tr>\n",
              "      <th>1</th>\n",
              "      <td>0.007092</td>\n",
              "      <td>0.168</td>\n",
              "      <td>0.321168</td>\n",
              "      <td>0.190476</td>\n",
              "      <td>0.221311</td>\n",
              "    </tr>\n",
              "    <tr>\n",
              "      <th>2</th>\n",
              "      <td>0.992908</td>\n",
              "      <td>0.000</td>\n",
              "      <td>0.299270</td>\n",
              "      <td>0.166667</td>\n",
              "      <td>0.172131</td>\n",
              "    </tr>\n",
              "    <tr>\n",
              "      <th>3</th>\n",
              "      <td>0.007092</td>\n",
              "      <td>0.176</td>\n",
              "      <td>0.321168</td>\n",
              "      <td>0.182540</td>\n",
              "      <td>0.008197</td>\n",
              "    </tr>\n",
              "    <tr>\n",
              "      <th>4</th>\n",
              "      <td>0.992908</td>\n",
              "      <td>0.000</td>\n",
              "      <td>0.299270</td>\n",
              "      <td>0.166667</td>\n",
              "      <td>0.196721</td>\n",
              "    </tr>\n",
              "    <tr>\n",
              "      <th>...</th>\n",
              "      <td>...</td>\n",
              "      <td>...</td>\n",
              "      <td>...</td>\n",
              "      <td>...</td>\n",
              "      <td>...</td>\n",
              "    </tr>\n",
              "    <tr>\n",
              "      <th>587995</th>\n",
              "      <td>0.992908</td>\n",
              "      <td>0.008</td>\n",
              "      <td>0.299270</td>\n",
              "      <td>0.166667</td>\n",
              "      <td>0.221311</td>\n",
              "    </tr>\n",
              "    <tr>\n",
              "      <th>587996</th>\n",
              "      <td>0.992908</td>\n",
              "      <td>0.000</td>\n",
              "      <td>0.299270</td>\n",
              "      <td>0.166667</td>\n",
              "      <td>0.221311</td>\n",
              "    </tr>\n",
              "    <tr>\n",
              "      <th>587997</th>\n",
              "      <td>0.000000</td>\n",
              "      <td>0.168</td>\n",
              "      <td>0.321168</td>\n",
              "      <td>0.182540</td>\n",
              "      <td>0.221311</td>\n",
              "    </tr>\n",
              "    <tr>\n",
              "      <th>587998</th>\n",
              "      <td>0.992908</td>\n",
              "      <td>0.000</td>\n",
              "      <td>0.299270</td>\n",
              "      <td>0.174603</td>\n",
              "      <td>0.221311</td>\n",
              "    </tr>\n",
              "    <tr>\n",
              "      <th>587999</th>\n",
              "      <td>0.007092</td>\n",
              "      <td>0.168</td>\n",
              "      <td>0.321168</td>\n",
              "      <td>0.182540</td>\n",
              "      <td>0.221311</td>\n",
              "    </tr>\n",
              "  </tbody>\n",
              "</table>\n",
              "<p>588000 rows × 5 columns</p>\n",
              "</div>"
            ],
            "text/plain": [
              "             PC1    PC2       PC3       PC4       PC5\n",
              "0       0.000000  0.168  0.321168  0.182540  1.000000\n",
              "1       0.007092  0.168  0.321168  0.190476  0.221311\n",
              "2       0.992908  0.000  0.299270  0.166667  0.172131\n",
              "3       0.007092  0.176  0.321168  0.182540  0.008197\n",
              "4       0.992908  0.000  0.299270  0.166667  0.196721\n",
              "...          ...    ...       ...       ...       ...\n",
              "587995  0.992908  0.008  0.299270  0.166667  0.221311\n",
              "587996  0.992908  0.000  0.299270  0.166667  0.221311\n",
              "587997  0.000000  0.168  0.321168  0.182540  0.221311\n",
              "587998  0.992908  0.000  0.299270  0.174603  0.221311\n",
              "587999  0.007092  0.168  0.321168  0.182540  0.221311\n",
              "\n",
              "[588000 rows x 5 columns]"
            ]
          },
          "metadata": {},
          "execution_count": 14
        }
      ],
      "source": [
        "#Split en x, y\n",
        "y=principalDf['CONSUMO']\n",
        "dataset=principalDf.drop(['CONSUMO'], axis=1)\n",
        "x=dataset\n",
        "values = dataset.values\n",
        "x"
      ]
    },
    {
      "cell_type": "code",
      "source": [
        "# asegurarse que todo esta en formato float\n",
        "values = values.astype('float32')\n",
        "# normalzación\n",
        "#scaler = MinMaxScaler(feature_range=(0, 1))\n",
        "#scaled = scaler.fit_transform(values)\n",
        "scaled= values"
      ],
      "metadata": {
        "id": "_FASPuRKSUVS"
      },
      "execution_count": 15,
      "outputs": []
    },
    {
      "cell_type": "code",
      "execution_count": 16,
      "metadata": {
        "id": "RRxVD8TU25YB",
        "colab": {
          "base_uri": "https://localhost:8080/"
        },
        "outputId": "568b9005-60e6-4816-a7a6-5afeaa6a8eab"
      },
      "outputs": [
        {
          "output_type": "stream",
          "name": "stdout",
          "text": [
            "588000\n",
            "(470400, 1, 5) (470400,) (117600, 1, 5) (117600,)\n"
          ]
        }
      ],
      "source": [
        "##red neuronal estandar\n",
        "numregistros=scaled.shape[0]\n",
        "print(numregistros)\n",
        "\n",
        "# split en conjuntos de train y test\n",
        "n_train = int(round(numregistros*0.8,0)) #80% para entrenamiento\n",
        "train_X = scaled[:n_train, :]\n",
        "test_X = scaled[n_train:, :]\n",
        "train_y = y[:n_train]\n",
        "test_y = y[n_train:]\n",
        "\n",
        "# reshape entrada a 3D [samples, timesteps, features]\n",
        "train_X = train_X.reshape((train_X.shape[0], 1, train_X.shape[1]))\n",
        "test_X = test_X.reshape((test_X.shape[0], 1, test_X.shape[1]))\n",
        "print(train_X.shape, train_y.shape, test_X.shape, test_y.shape)"
      ]
    },
    {
      "cell_type": "code",
      "execution_count": 26,
      "metadata": {
        "id": "mYoIFcx6l9vr",
        "colab": {
          "base_uri": "https://localhost:8080/",
          "height": 1000
        },
        "outputId": "8aa7dfbb-a18b-446d-d97e-cbf54d13c04e"
      },
      "outputs": [
        {
          "output_type": "stream",
          "name": "stdout",
          "text": [
            "Epoch 1/50\n",
            "23520/23520 - 117s - loss: 6.5178e-05 - val_loss: 8.3786e-05 - 117s/epoch - 5ms/step\n",
            "Epoch 2/50\n",
            "23520/23520 - 114s - loss: 6.3926e-05 - val_loss: 8.3163e-05 - 114s/epoch - 5ms/step\n",
            "Epoch 3/50\n",
            "23520/23520 - 114s - loss: 6.3886e-05 - val_loss: 8.3664e-05 - 114s/epoch - 5ms/step\n",
            "Epoch 4/50\n",
            "23520/23520 - 116s - loss: 6.3781e-05 - val_loss: 8.3916e-05 - 116s/epoch - 5ms/step\n",
            "Epoch 5/50\n",
            "23520/23520 - 113s - loss: 6.3640e-05 - val_loss: 8.4296e-05 - 113s/epoch - 5ms/step\n",
            "Epoch 6/50\n",
            "23520/23520 - 110s - loss: 6.3590e-05 - val_loss: 8.3805e-05 - 110s/epoch - 5ms/step\n",
            "Epoch 7/50\n",
            "23520/23520 - 119s - loss: 6.3421e-05 - val_loss: 8.4054e-05 - 119s/epoch - 5ms/step\n",
            "Epoch 8/50\n",
            "23520/23520 - 121s - loss: 6.3146e-05 - val_loss: 8.3532e-05 - 121s/epoch - 5ms/step\n",
            "Epoch 9/50\n",
            "23520/23520 - 107s - loss: 6.2766e-05 - val_loss: 8.3464e-05 - 107s/epoch - 5ms/step\n",
            "Epoch 10/50\n",
            "23520/23520 - 123s - loss: 6.2289e-05 - val_loss: 8.3208e-05 - 123s/epoch - 5ms/step\n",
            "Epoch 11/50\n",
            "23520/23520 - 107s - loss: 6.1973e-05 - val_loss: 8.3002e-05 - 107s/epoch - 5ms/step\n",
            "Epoch 12/50\n",
            "23520/23520 - 109s - loss: 6.1835e-05 - val_loss: 8.2937e-05 - 109s/epoch - 5ms/step\n",
            "Epoch 13/50\n",
            "23520/23520 - 109s - loss: 6.1787e-05 - val_loss: 8.3002e-05 - 109s/epoch - 5ms/step\n",
            "Epoch 14/50\n",
            "23520/23520 - 106s - loss: 6.1736e-05 - val_loss: 8.2971e-05 - 106s/epoch - 5ms/step\n",
            "Epoch 15/50\n",
            "23520/23520 - 105s - loss: 6.1691e-05 - val_loss: 8.3030e-05 - 105s/epoch - 4ms/step\n",
            "Epoch 16/50\n",
            "23520/23520 - 105s - loss: 6.1695e-05 - val_loss: 8.3158e-05 - 105s/epoch - 4ms/step\n",
            "Epoch 17/50\n",
            "23520/23520 - 104s - loss: 6.1621e-05 - val_loss: 8.3178e-05 - 104s/epoch - 4ms/step\n",
            "Epoch 18/50\n",
            "23520/23520 - 105s - loss: 6.1614e-05 - val_loss: 8.3134e-05 - 105s/epoch - 4ms/step\n",
            "Epoch 19/50\n",
            "23520/23520 - 104s - loss: 6.1568e-05 - val_loss: 8.3186e-05 - 104s/epoch - 4ms/step\n",
            "Epoch 20/50\n",
            "23520/23520 - 105s - loss: 6.1568e-05 - val_loss: 8.3026e-05 - 105s/epoch - 4ms/step\n",
            "Epoch 21/50\n",
            "23520/23520 - 105s - loss: 6.1575e-05 - val_loss: 8.3017e-05 - 105s/epoch - 4ms/step\n",
            "Epoch 22/50\n",
            "23520/23520 - 106s - loss: 6.1583e-05 - val_loss: 8.3016e-05 - 106s/epoch - 4ms/step\n",
            "Epoch 23/50\n",
            "23520/23520 - 104s - loss: 6.1565e-05 - val_loss: 8.3001e-05 - 104s/epoch - 4ms/step\n",
            "Epoch 24/50\n",
            "23520/23520 - 105s - loss: 6.1554e-05 - val_loss: 8.3018e-05 - 105s/epoch - 4ms/step\n",
            "Epoch 25/50\n",
            "23520/23520 - 104s - loss: 6.1574e-05 - val_loss: 8.3022e-05 - 104s/epoch - 4ms/step\n",
            "Epoch 26/50\n",
            "23520/23520 - 108s - loss: 6.1561e-05 - val_loss: 8.3115e-05 - 108s/epoch - 5ms/step\n",
            "Epoch 27/50\n",
            "23520/23520 - 107s - loss: 6.1558e-05 - val_loss: 8.3298e-05 - 107s/epoch - 5ms/step\n",
            "Epoch 28/50\n",
            "23520/23520 - 108s - loss: 6.1535e-05 - val_loss: 8.3110e-05 - 108s/epoch - 5ms/step\n",
            "Epoch 29/50\n",
            "23520/23520 - 109s - loss: 6.1544e-05 - val_loss: 8.3165e-05 - 109s/epoch - 5ms/step\n",
            "Epoch 30/50\n",
            "23520/23520 - 111s - loss: 6.1547e-05 - val_loss: 8.3251e-05 - 111s/epoch - 5ms/step\n",
            "Epoch 31/50\n",
            "23520/23520 - 108s - loss: 6.1552e-05 - val_loss: 8.3301e-05 - 108s/epoch - 5ms/step\n",
            "Epoch 32/50\n",
            "23520/23520 - 109s - loss: 6.1530e-05 - val_loss: 8.3255e-05 - 109s/epoch - 5ms/step\n",
            "Epoch 33/50\n",
            "23520/23520 - 109s - loss: 6.1535e-05 - val_loss: 8.3401e-05 - 109s/epoch - 5ms/step\n",
            "Epoch 34/50\n",
            "23520/23520 - 109s - loss: 6.1524e-05 - val_loss: 8.3450e-05 - 109s/epoch - 5ms/step\n",
            "Epoch 35/50\n",
            "23520/23520 - 108s - loss: 6.1535e-05 - val_loss: 8.3536e-05 - 108s/epoch - 5ms/step\n",
            "Epoch 36/50\n",
            "23520/23520 - 108s - loss: 6.1526e-05 - val_loss: 8.3448e-05 - 108s/epoch - 5ms/step\n",
            "Epoch 37/50\n",
            "23520/23520 - 109s - loss: 6.1525e-05 - val_loss: 8.3467e-05 - 109s/epoch - 5ms/step\n",
            "Epoch 38/50\n",
            "23520/23520 - 109s - loss: 6.1515e-05 - val_loss: 8.3292e-05 - 109s/epoch - 5ms/step\n",
            "Epoch 39/50\n",
            "23520/23520 - 108s - loss: 6.1492e-05 - val_loss: 8.3514e-05 - 108s/epoch - 5ms/step\n",
            "Epoch 40/50\n",
            "23520/23520 - 108s - loss: 6.1485e-05 - val_loss: 8.3473e-05 - 108s/epoch - 5ms/step\n",
            "Epoch 41/50\n",
            "23520/23520 - 109s - loss: 6.1486e-05 - val_loss: 8.3450e-05 - 109s/epoch - 5ms/step\n",
            "Epoch 42/50\n",
            "23520/23520 - 108s - loss: 6.1462e-05 - val_loss: 8.3271e-05 - 108s/epoch - 5ms/step\n",
            "Epoch 43/50\n",
            "23520/23520 - 106s - loss: 6.1456e-05 - val_loss: 8.3380e-05 - 106s/epoch - 5ms/step\n",
            "Epoch 44/50\n",
            "23520/23520 - 106s - loss: 6.1465e-05 - val_loss: 8.3438e-05 - 106s/epoch - 5ms/step\n",
            "Epoch 45/50\n",
            "23520/23520 - 105s - loss: 6.1448e-05 - val_loss: 8.3286e-05 - 105s/epoch - 4ms/step\n",
            "Epoch 46/50\n",
            "23520/23520 - 104s - loss: 6.1451e-05 - val_loss: 8.3518e-05 - 104s/epoch - 4ms/step\n",
            "Epoch 47/50\n",
            "23520/23520 - 104s - loss: 6.1430e-05 - val_loss: 8.3376e-05 - 104s/epoch - 4ms/step\n",
            "Epoch 48/50\n",
            "23520/23520 - 102s - loss: 6.1440e-05 - val_loss: 8.3671e-05 - 102s/epoch - 4ms/step\n",
            "Epoch 49/50\n",
            "23520/23520 - 107s - loss: 6.1407e-05 - val_loss: 8.3454e-05 - 107s/epoch - 5ms/step\n",
            "Epoch 50/50\n",
            "23520/23520 - 106s - loss: 6.1419e-05 - val_loss: 8.3436e-05 - 106s/epoch - 4ms/step\n"
          ]
        },
        {
          "output_type": "display_data",
          "data": {
            "image/png": "[encoded data removed]",
            "text/plain": [
              "<Figure size 432x288 with 1 Axes>"
            ]
          },
          "metadata": {
            "needs_background": "light"
          }
        }
      ],
      "source": [
        "# Diseño de la red recurrente LSTM\n",
        "model = Sequential()\n",
        "model.add(LSTM(256, input_shape=(train_X.shape[1], train_X.shape[2])))\n",
        "model.add(Dense(32))\n",
        "model.add(Dense(1))\n",
        "model.compile(loss='mae', optimizer='adam')\n",
        "# entrenar red\n",
        "history = model.fit(train_X, train_y, epochs=50, batch_size=20, validation_data=(test_X, test_y), verbose=2, shuffle=False)\n",
        "# plot history\n",
        "pyplot.plot(history.history['loss'], label='train')\n",
        "pyplot.plot(history.history['val_loss'], label='test')\n",
        "pyplot.legend()\n",
        "pyplot.show()"
      ]
    },
    {
      "cell_type": "code",
      "source": [
        "y_pred= model.predict(test_X)\n",
        "mean_squared_error(test_y, y_pred)"
      ],
      "metadata": {
        "colab": {
          "base_uri": "https://localhost:8080/"
        },
        "id": "rRUrd2wI7POk",
        "outputId": "1bf11ef6-7e7c-410f-a862-434f6a7ebfa0"
      },
      "execution_count": 18,
      "outputs": [
        {
          "output_type": "execute_result",
          "data": {
            "text/plain": [
              "9.770761492003513e-05"
            ]
          },
          "metadata": {},
          "execution_count": 18
        }
      ]
    },
    {
      "cell_type": "code",
      "execution_count": 22,
      "metadata": {
        "id": "ZI4tdOF2scqD",
        "colab": {
          "base_uri": "https://localhost:8080/"
        },
        "outputId": "58e2aadb-bc13-489a-97ff-97e895f8723e"
      },
      "outputs": [
        {
          "output_type": "stream",
          "name": "stdout",
          "text": [
            "[]\n",
            "[[[0.0070922  0.168      0.3211679  0.1904762  0.22131148]]]\n",
            "[]\n"
          ]
        }
      ],
      "source": [
        "complete=train_X[1:2,:]\n",
        "pred_X = train_X[1:2, :-1]\n",
        "print(pred_X)\n",
        "print(complete)\n",
        "new = pred_X.reshape((pred_X.shape[0], 1, pred_X.shape[1]))\n",
        "print(new)"
      ]
    },
    {
      "cell_type": "code",
      "execution_count": 24,
      "metadata": {
        "id": "nFHmXg3L0yA3",
        "colab": {
          "base_uri": "https://localhost:8080/"
        },
        "outputId": "1bcfb3d3-19f0-47dc-f268-e180d3f5e936"
      },
      "outputs": [
        {
          "output_type": "stream",
          "name": "stdout",
          "text": [
            "-0.0026701204\n"
          ]
        }
      ],
      "source": [
        "# predict on df_ohe_new\n",
        "predict = model.predict(test_X)\n",
        "print(predict[0][0])"
      ]
    },
    {
      "cell_type": "code",
      "source": [
        "predict"
      ],
      "metadata": {
        "colab": {
          "base_uri": "https://localhost:8080/"
        },
        "id": "G_03QH6IUknn",
        "outputId": "f9f1fd93-260b-4f58-a3c1-f4e9bf87e8f1"
      },
      "execution_count": 25,
      "outputs": [
        {
          "output_type": "execute_result",
          "data": {
            "text/plain": [
              "array([[-0.00267012],\n",
              "       [-0.00146712],\n",
              "       [-0.00319162],\n",
              "       ...,\n",
              "       [-0.00319162],\n",
              "       [-0.00564108],\n",
              "       [-0.00267013]], dtype=float32)"
            ]
          },
          "metadata": {},
          "execution_count": 25
        }
      ]
    },
    {
      "cell_type": "code",
      "source": [
        "scaler.inverse_transform(complete)"
      ],
      "metadata": {
        "id": "PegqduHEzdWN"
      },
      "execution_count": null,
      "outputs": []
    },
    {
      "cell_type": "code",
      "execution_count": null,
      "metadata": {
        "id": "ke39TOyIWVso"
      },
      "outputs": [],
      "source": [
        "results=model.predict(x_val)\n",
        "plt.scatter(range(len(y_val)),y_val,c='g')\n",
        "plt.scatter(range(len(results)),results,c='r')\n",
        "plt.title('validate')\n",
        "plt.show()"
      ]
    },
    {
      "cell_type": "code",
      "execution_count": null,
      "metadata": {
        "id": "eHC3xwnESG9W"
      },
      "outputs": [],
      "source": [
        "ultimosDias = dataComp['2015-11-01':'2015-12-31']\n",
        "ultimosDias"
      ]
    },
    {
      "cell_type": "code",
      "execution_count": null,
      "metadata": {
        "id": "ZG9ketUjXJOy"
      },
      "outputs": [],
      "source": [
        "values = reframed.values\n",
        "x_test = values[6:, :]\n",
        "x_test = x_test.reshape((x_test.shape[0], 1, x_test.shape[1]))\n",
        "x_test"
      ]
    },
    {
      "cell_type": "code",
      "execution_count": null,
      "metadata": {
        "id": "qeVvOzXmXt6g"
      },
      "outputs": [],
      "source": [
        "prediccion1SemanaDiciembre = pd.DataFrame(inverted)\n",
        "prediccion1SemanaDiciembre.columns = ['pronostico']\n",
        "prediccion1SemanaDiciembre.plot()\n",
        "prediccion1SemanaDiciembre.to_csv('pronostico.csv')"
      ]
    },
    {
      "cell_type": "code",
      "execution_count": null,
      "metadata": {
        "id": "RIWqnBedN64K"
      },
      "outputs": [],
      "source": [
        "# Diseño de la red recurrente LSTM\n",
        "model = Sequential()\n",
        "model.add(LSTM(64, input_shape=(train_X.shape[1], train_X.shape[2])))\n",
        "model.add(Dense(128))\n",
        "model.add(Dense(1))\n",
        "model.compile(loss='mae', optimizer='adam')\n",
        "# fit network\n",
        "history = model.fit(train_X, train_y, epochs=100, batch_size=72, validation_data=(test_X, test_y), verbose=2, shuffle=False)\n",
        "# plot history\n",
        "pyplot.plot(history.history['loss'], label='train')\n",
        "pyplot.plot(history.history['val_loss'], label='test')\n",
        "pyplot.legend()\n",
        "pyplot.show()"
      ]
    },
    {
      "cell_type": "code",
      "execution_count": null,
      "metadata": {
        "id": "_PrB3FujP7l3"
      },
      "outputs": [],
      "source": [
        "model.summary()"
      ]
    },
    {
      "cell_type": "code",
      "execution_count": null,
      "metadata": {
        "id": "cjkaiItZ_Qv9"
      },
      "outputs": [],
      "source": [
        ""
      ]
    },
    {
      "cell_type": "code",
      "execution_count": null,
      "metadata": {
        "id": "N0ICiYn3BEZa"
      },
      "outputs": [],
      "source": [
        "pd.DataFrame(test_y)"
      ]
    },
    {
      "cell_type": "code",
      "execution_count": null,
      "metadata": {
        "id": "tP2QaGKk_xty"
      },
      "outputs": [],
      "source": [
        "y_pred.shape"
      ]
    },
    {
      "cell_type": "code",
      "execution_count": null,
      "metadata": {
        "id": "QzNYwW4s_3Yg"
      },
      "outputs": [],
      "source": [
        ""
      ]
    },
    {
      "cell_type": "code",
      "execution_count": null,
      "metadata": {
        "id": "kFkFsGyO_9B5"
      },
      "outputs": [],
      "source": [
        "tes"
      ]
    },
    {
      "cell_type": "code",
      "execution_count": null,
      "metadata": {
        "id": "IDR52a_D_wvA"
      },
      "outputs": [],
      "source": [
        "mean_squared_error(test_y, y_pred, squared=False)"
      ]
    },
    {
      "cell_type": "code",
      "execution_count": null,
      "metadata": {
        "id": "MkZtj853Nafx"
      },
      "outputs": [],
      "source": [
        " # serialize model to JSON\n",
        "model_json = model.to_json()\n",
        "with open(\"model.json\", \"w\") as json_file:\n",
        "    json_file.write(model_json)\n",
        "# serialize weights to HDF5\n",
        "model.save_weights(\"model.h5\")\n",
        "print(\"Saved model to disk\")\n",
        " \n",
        "# later...\n",
        " \n",
        "# load json and create model\n",
        "json_file = open('model.json', 'r')\n",
        "loaded_model_json = json_file.read()\n",
        "json_file.close()\n",
        "model = model_from_json(loaded_model_json)\n",
        "# load weights into new model\n",
        "model.load_weights(\"model.h5\")\n",
        "print(\"Loaded model from disk\")\n",
        " "
      ]
    },
    {
      "cell_type": "code",
      "execution_count": null,
      "metadata": {
        "id": "kux8Fpcdfe3Y"
      },
      "outputs": [],
      "source": [
        "#FUNCION PARA ESCOGER UN REGISTRO DENTRO DEL DATAFRAME PARA LAS PRUEBAS DE VALIDACION\n",
        "def selectRabbit(user):\n",
        "  xnew = dataComp.iloc[user , 1:999]\n",
        "  return xnew\n"
      ]
    },
    {
      "cell_type": "code",
      "execution_count": null,
      "metadata": {
        "id": "l0VW_pfbfy70"
      },
      "outputs": [],
      "source": [
        "#FUNCION PARA BUSCAR EL VALOR REAL DE CONSUMO DENTRO DEL DATAFRAME\n",
        "def searchForReal(user):\n",
        "  real= dataComp.iloc[user ,-1]\n",
        "  return real"
      ]
    },
    {
      "cell_type": "code",
      "execution_count": null,
      "metadata": {
        "id": "F0e74tCs2z7O"
      },
      "outputs": [],
      "source": [
        "user=dataComp.iloc[-1,1:]"
      ]
    },
    {
      "cell_type": "code",
      "execution_count": null,
      "metadata": {
        "id": "gSsC1cyW26Z4"
      },
      "outputs": [],
      "source": [
        "user.shape"
      ]
    },
    {
      "cell_type": "code",
      "execution_count": null,
      "metadata": {
        "id": "SaeTCCaXOFvS"
      },
      "outputs": [],
      "source": [
        "def prediccion(user):\n",
        "    Xnew = np.array([dataComp.iloc[-1,1:]])#real es 79\n",
        "    print(Xnew.shape)\n",
        "    #xnew=selectRabbit(user)\n",
        "    Xnew= scaler.transform(Xnew)\n",
        "    Xnew = Xnew.reshape((Xnew.shape[0], 1, Xnew.shape[1]))\n",
        "    print(Xnew.shape)\n",
        "    pred= model.predict(Xnew)[0]\n",
        "    return pred\n",
        "    \n",
        "pred=prediccion(83)\n",
        "print('PREDICCION DE CONSUMO: ',pred)\n",
        "#print('USUARIO CONSUMO REAL :  [',searchForReal(83),']')"
      ]
    },
    {
      "cell_type": "code",
      "execution_count": null,
      "metadata": {
        "id": "8Lp_ahUu1uD_"
      },
      "outputs": [],
      "source": [
        "plt.plot(meses['2009'].values)\n",
        "plt.plot(meses['2010'].values)"
      ]
    },
    {
      "cell_type": "code",
      "execution_count": null,
      "metadata": {
        "id": "X88wrGVu1x7K"
      },
      "outputs": [],
      "source": [
        "verano2009 = dataComp['2009-01-01':'2009-01-31']\n",
        "plt.plot(verano2009.values)\n",
        "verano2010 = dataComp['2010-01-01':'2010-01-31']\n",
        "plt.plot(verano2010.values)"
      ]
    },
    {
      "cell_type": "code",
      "execution_count": null,
      "metadata": {
        "id": "S-2JkusPhp8S"
      },
      "outputs": [],
      "source": [
        "import matplotlib.pyplot as plt\n",
        "steps = 14400\n",
        "datos_train = dataComp[:-steps]\n",
        "datos_test  = dataComp[-steps:]\n",
        "fig, ax=plt.subplots(figsize=(9, 4))\n",
        "datos_train.plot(ax=ax, label='train')\n",
        "datos_test.plot(ax=ax, label='test')\n",
        "ax.legend();"
      ]
    }
  ],
  "metadata": {
    "colab": {
      "collapsed_sections": [],
      "name": "RNNConsumoDeAgua.ipynb",
      "provenance": [],
      "include_colab_link": true
    },
    "kernelspec": {
      "display_name": "Python 3",
      "name": "python3"
    },
    "language_info": {
      "name": "python"
    }
  },
  "nbformat": 4,
  "nbformat_minor": 0
}