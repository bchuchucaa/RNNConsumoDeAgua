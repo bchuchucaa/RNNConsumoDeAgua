{
  "nbformat": 4,
  "nbformat_minor": 0,
  "metadata": {
    "colab": {
      "name": "RNNConsumoDeAgua.ipynb",
      "provenance": [],
      "collapsed_sections": [],
      "include_colab_link": true
    },
    "kernelspec": {
      "name": "python3",
      "display_name": "Python 3"
    },
    "language_info": {
      "name": "python"
    }
  },
  "cells": [
    {
      "cell_type": "markdown",
      "metadata": {
        "id": "view-in-github",
        "colab_type": "text"
      },
      "source": [
        "<a href=\"https://colab.research.google.com/github/bchuchucaa/RNNConsumoDeAgua/blob/main/RNNConsumoDeAgua.ipynb\" target=\"_parent\"><img src=\"https://colab.research.google.com/assets/colab-badge.svg\" alt=\"Open In Colab\"/></a>"
      ]
    },
    {
      "cell_type": "code",
      "metadata": {
        "colab": {
          "base_uri": "https://localhost:8080/"
        },
        "id": "n1D2LPUIg2CZ",
        "outputId": "733d624d-f5da-4479-8c31-0ac655bdf3b2"
      },
      "source": [
        "!unzip /content/archive.zip"
      ],
      "execution_count": null,
      "outputs": [
        {
          "output_type": "stream",
          "name": "stdout",
          "text": [
            "unzip:  cannot find or open /content/archive.zip, /content/archive.zip.zip or /content/archive.zip.ZIP.\n"
          ]
        }
      ]
    },
    {
      "cell_type": "code",
      "metadata": {
        "id": "0JXAtN7ukusZ",
        "colab": {
          "base_uri": "https://localhost:8080/"
        },
        "outputId": "a4e8dc2f-440f-4c77-9c52-4ee93cff84fd"
      },
      "source": [
        "from pandas import read_csv\n",
        "from datetime import datetime\n",
        "import pandas as pd\n",
        "from matplotlib import pyplot\n",
        "import numpy as np\n",
        "from math import sqrt\n",
        "from numpy import concatenate\n",
        "from matplotlib import pyplot\n",
        "from pandas import read_csv\n",
        "from pandas import DataFrame\n",
        "from pandas import concat\n",
        "from sklearn.preprocessing import MinMaxScaler\n",
        "from sklearn.preprocessing import LabelEncoder\n",
        "from sklearn.metrics import mean_squared_error\n",
        "from sklearn.model_selection import train_test_split\n",
        "from keras.models import Sequential\n",
        "from keras.layers import Dense\n",
        "from keras.layers import LSTM\n",
        "\n",
        "print('LIBRERIAS IMPORTADAS')"
      ],
      "execution_count": 1,
      "outputs": [
        {
          "output_type": "stream",
          "name": "stdout",
          "text": [
            "LIBRERIAS IMPORTADAS\n"
          ]
        }
      ]
    },
    {
      "cell_type": "markdown",
      "metadata": {
        "id": "s5wDR_wiN-7q"
      },
      "source": [
        "**LECTURA DE DATOS**"
      ]
    },
    {
      "cell_type": "code",
      "metadata": {
        "id": "DhCtqBU9mSVP",
        "colab": {
          "base_uri": "https://localhost:8080/"
        },
        "outputId": "32126805-16ef-4337-d9f3-dab359864ead"
      },
      "source": [
        "#LOADING DATA \n",
        "df= read_csv('/content/AguaH.csv')\n",
        "df = df.iloc[0:5000 , :]\n",
        "#AJUSTE DEL FORMATO DE LAS FECHAS PARA LA TRANSFORMACION A TIPO DATETIME\n",
        "lookup = {'ENE':'01','FEB':'02','MAR':'03','ABR':'04','MAY':'05','JUN':'06','JUL':'07','AGO':'08','SEP':'09','OCT':'10','NOV':'11','DIC':'12'}\n",
        "clist=[]\n",
        "for col in df.columns[5:]:\n",
        "    col = col[4:].split('_')\n",
        "    clist.append('20'+col[1]+'-'+lookup[col[0]]+'-01')\n",
        "\n",
        "columns = ['LANDUSE_TYPE','USER','PIPE DIAM','VENDOR','JAN16']+clist\n",
        "df.columns=columns\n",
        "df = df.drop(columns=['LANDUSE_TYPE','PIPE DIAM','VENDOR','JAN16'])\n",
        "\n",
        "#df=df.transpose()\n",
        "print(\"Dataframe shape \",df.shape)\n"
      ],
      "execution_count": 2,
      "outputs": [
        {
          "output_type": "stream",
          "name": "stdout",
          "text": [
            "Dataframe shape  (5000, 85)\n"
          ]
        }
      ]
    },
    {
      "cell_type": "code",
      "metadata": {
        "id": "6_oadNaIa3QW",
        "colab": {
          "base_uri": "https://localhost:8080/"
        },
        "outputId": "4726d85a-9246-4daa-b988-8ba36c552979"
      },
      "source": [
        "#ESTE CODIGO SIRVE UNICAMENTE PARA LA INTEGRACION DE LOS NOMBRES EN EL DATAFRAME\n",
        "col_list = [\"Name\"]\n",
        "names = pd.read_csv(\"/content/StateNames.csv\", usecols=col_list)\n",
        "names = names.iloc[0:84 , :]\n",
        "#ELIMINAMOS LA COLUMNA DE LOS NOMBRE YA QUE SE BINARIZARON\n",
        "#df = df.iloc[: , 1:]\n",
        "print(\"Names shape \",names.shape)"
      ],
      "execution_count": null,
      "outputs": [
        {
          "output_type": "stream",
          "name": "stdout",
          "text": [
            "Names shape  (84, 1)\n"
          ]
        }
      ]
    },
    {
      "cell_type": "code",
      "metadata": {
        "id": "TFljSolZSVTq"
      },
      "source": [
        "rows_list=[]\n",
        "dataComp = pd.DataFrame(columns=('DATE','TIPO', 'CONSUMO'))\n",
        "for column in range(1,len(df.columns),1):\n",
        "  selection=df.iloc[:,column]\n",
        "  for row in range(len(selection)):\n",
        "    df2=[df.columns[column],df.iloc[row,0],selection.iloc[row]]\n",
        "    rows_list.append(df2)\n",
        "    \n",
        "dataComp = pd.DataFrame(rows_list)  "
      ],
      "execution_count": 3,
      "outputs": []
    },
    {
      "cell_type": "code",
      "metadata": {
        "colab": {
          "base_uri": "https://localhost:8080/",
          "height": 450
        },
        "id": "yo4UgmQ0S5QI",
        "outputId": "4ce42257-16be-4ec2-8090-e2cb51a74d56"
      },
      "source": [
        "dataComp.rename(columns = {0:'DATE',1:'TIPO',2:'CONSUMO'}, inplace = True)\n",
        "dataComp['DATE'] = pd.to_datetime(dataComp['DATE'], format='%Y-%m-%d')\n",
        "dataComp.set_index('DATE')"
      ],
      "execution_count": 6,
      "outputs": [
        {
          "output_type": "execute_result",
          "data": {
            "text/html": [
              "<div>\n",
              "<style scoped>\n",
              "    .dataframe tbody tr th:only-of-type {\n",
              "        vertical-align: middle;\n",
              "    }\n",
              "\n",
              "    .dataframe tbody tr th {\n",
              "        vertical-align: top;\n",
              "    }\n",
              "\n",
              "    .dataframe thead th {\n",
              "        text-align: right;\n",
              "    }\n",
              "</style>\n",
              "<table border=\"1\" class=\"dataframe\">\n",
              "  <thead>\n",
              "    <tr style=\"text-align: right;\">\n",
              "      <th></th>\n",
              "      <th>TIPO</th>\n",
              "      <th>CONSUMO</th>\n",
              "    </tr>\n",
              "    <tr>\n",
              "      <th>DATE</th>\n",
              "      <th></th>\n",
              "      <th></th>\n",
              "    </tr>\n",
              "  </thead>\n",
              "  <tbody>\n",
              "    <tr>\n",
              "      <th>2009-01-01</th>\n",
              "      <td>DOMESTICO MEDIO</td>\n",
              "      <td>20.0</td>\n",
              "    </tr>\n",
              "    <tr>\n",
              "      <th>2009-01-01</th>\n",
              "      <td>DOMESTICO MEDIO</td>\n",
              "      <td>NaN</td>\n",
              "    </tr>\n",
              "    <tr>\n",
              "      <th>2009-01-01</th>\n",
              "      <td>DOMESTICO RESIDENCIAL</td>\n",
              "      <td>NaN</td>\n",
              "    </tr>\n",
              "    <tr>\n",
              "      <th>2009-01-01</th>\n",
              "      <td>DOMESTICO MEDIO</td>\n",
              "      <td>NaN</td>\n",
              "    </tr>\n",
              "    <tr>\n",
              "      <th>2009-01-01</th>\n",
              "      <td>DOMESTICO RESIDENCIAL</td>\n",
              "      <td>20.0</td>\n",
              "    </tr>\n",
              "    <tr>\n",
              "      <th>...</th>\n",
              "      <td>...</td>\n",
              "      <td>...</td>\n",
              "    </tr>\n",
              "    <tr>\n",
              "      <th>2015-12-01</th>\n",
              "      <td>DOMESTICO MEDIO</td>\n",
              "      <td>22.0</td>\n",
              "    </tr>\n",
              "    <tr>\n",
              "      <th>2015-12-01</th>\n",
              "      <td>DOMESTICO MEDIO</td>\n",
              "      <td>3.0</td>\n",
              "    </tr>\n",
              "    <tr>\n",
              "      <th>2015-12-01</th>\n",
              "      <td>DOMESTICO MEDIO</td>\n",
              "      <td>8.0</td>\n",
              "    </tr>\n",
              "    <tr>\n",
              "      <th>2015-12-01</th>\n",
              "      <td>DOMESTICO RESIDENCIAL</td>\n",
              "      <td>12.0</td>\n",
              "    </tr>\n",
              "    <tr>\n",
              "      <th>2015-12-01</th>\n",
              "      <td>DOMESTICO MEDIO</td>\n",
              "      <td>22.0</td>\n",
              "    </tr>\n",
              "  </tbody>\n",
              "</table>\n",
              "<p>420000 rows × 2 columns</p>\n",
              "</div>"
            ],
            "text/plain": [
              "                             TIPO  CONSUMO\n",
              "DATE                                      \n",
              "2009-01-01        DOMESTICO MEDIO     20.0\n",
              "2009-01-01        DOMESTICO MEDIO      NaN\n",
              "2009-01-01  DOMESTICO RESIDENCIAL      NaN\n",
              "2009-01-01        DOMESTICO MEDIO      NaN\n",
              "2009-01-01  DOMESTICO RESIDENCIAL     20.0\n",
              "...                           ...      ...\n",
              "2015-12-01        DOMESTICO MEDIO     22.0\n",
              "2015-12-01        DOMESTICO MEDIO      3.0\n",
              "2015-12-01        DOMESTICO MEDIO      8.0\n",
              "2015-12-01  DOMESTICO RESIDENCIAL     12.0\n",
              "2015-12-01        DOMESTICO MEDIO     22.0\n",
              "\n",
              "[420000 rows x 2 columns]"
            ]
          },
          "metadata": {},
          "execution_count": 6
        }
      ]
    },
    {
      "cell_type": "code",
      "metadata": {
        "id": "e0M6htqEDuDw"
      },
      "source": [
        "\n",
        "#RELLENANDO VALORES NAN POR LA MEDIA\n",
        "dataComp=dataComp.fillna(20)\n",
        "#CONVIRTIENDO EL INDICE DEL DATAFRAME EN TIPO DATETIME\n",
        "#dataComp.index = pd.to_datetime(dataComp.index)\n",
        "#type(dataComp.index)"
      ],
      "execution_count": 7,
      "outputs": []
    },
    {
      "cell_type": "code",
      "metadata": {
        "colab": {
          "base_uri": "https://localhost:8080/"
        },
        "id": "bgWWmUCK1nfr",
        "outputId": "2505e5fb-f285-4c46-edae-a72108630e8a"
      },
      "source": [
        "dataComp['DATE'].describe()"
      ],
      "execution_count": 8,
      "outputs": [
        {
          "output_type": "stream",
          "name": "stderr",
          "text": [
            "/usr/local/lib/python3.7/dist-packages/ipykernel_launcher.py:1: FutureWarning: Treating datetime data as categorical rather than numeric in `.describe` is deprecated and will be removed in a future version of pandas. Specify `datetime_is_numeric=True` to silence this warning and adopt the future behavior now.\n",
            "  \"\"\"Entry point for launching an IPython kernel.\n"
          ]
        },
        {
          "output_type": "execute_result",
          "data": {
            "text/plain": [
              "count                  420000\n",
              "unique                     84\n",
              "top       2012-05-01 00:00:00\n",
              "freq                     5000\n",
              "first     2009-01-01 00:00:00\n",
              "last      2015-12-01 00:00:00\n",
              "Name: DATE, dtype: object"
            ]
          },
          "metadata": {},
          "execution_count": 8
        }
      ]
    },
    {
      "cell_type": "code",
      "metadata": {
        "id": "-s23dcm0BMGP"
      },
      "source": [
        "one_hot = pd.get_dummies(dataComp['TIPO'])\n",
        "dataComp = dataComp.drop('TIPO',axis = 1)\n",
        "dataComp = dataComp.join(one_hot)\n"
      ],
      "execution_count": 9,
      "outputs": []
    },
    {
      "cell_type": "code",
      "metadata": {
        "colab": {
          "base_uri": "https://localhost:8080/"
        },
        "id": "7h9fPQQtnVmX",
        "outputId": "59125b29-27c2-4e0c-a8e6-4184866b96f6"
      },
      "source": [
        "values = dataComp.iloc[:,1:].values\n",
        "train, test=train_test_split(values,test_size=.2,shuffle=False)\n",
        "# asegurarse que todo esta en formato float\n",
        "values = values.astype('float32')\n",
        "# normalzación\n",
        "scaler = MinMaxScaler(feature_range=(0, 1))\n",
        "scaled = scaler.fit_transform(values)\n",
        "scaled"
      ],
      "execution_count": 10,
      "outputs": [
        {
          "output_type": "execute_result",
          "data": {
            "text/plain": [
              "array([[1.9939782e-04, 0.0000000e+00, 0.0000000e+00, ..., 0.0000000e+00,\n",
              "        0.0000000e+00, 0.0000000e+00],\n",
              "       [1.9939782e-04, 0.0000000e+00, 0.0000000e+00, ..., 0.0000000e+00,\n",
              "        0.0000000e+00, 0.0000000e+00],\n",
              "       [1.9939782e-04, 0.0000000e+00, 0.0000000e+00, ..., 0.0000000e+00,\n",
              "        0.0000000e+00, 0.0000000e+00],\n",
              "       ...,\n",
              "       [7.9759127e-05, 0.0000000e+00, 0.0000000e+00, ..., 0.0000000e+00,\n",
              "        0.0000000e+00, 0.0000000e+00],\n",
              "       [1.1963869e-04, 0.0000000e+00, 0.0000000e+00, ..., 0.0000000e+00,\n",
              "        0.0000000e+00, 0.0000000e+00],\n",
              "       [2.1933760e-04, 0.0000000e+00, 0.0000000e+00, ..., 0.0000000e+00,\n",
              "        0.0000000e+00, 0.0000000e+00]], dtype=float32)"
            ]
          },
          "metadata": {},
          "execution_count": 10
        }
      ]
    },
    {
      "cell_type": "code",
      "metadata": {
        "colab": {
          "base_uri": "https://localhost:8080/"
        },
        "id": "eHC3xwnESG9W",
        "outputId": "a58b3189-1051-4543-a433-3103b069f27a"
      },
      "source": [
        "\n",
        "numregistros=scaled.shape[0]\n",
        "print(numregistros)\n",
        "\n",
        "# split en conjuntos de train y test\n",
        "n_train = int(round(numregistros*0.8,0)) #80% para entrenamiento\n",
        "train = values[:n_train, :]\n",
        "test = values[n_train:, :]\n",
        "# split into input and outputs\n",
        "train_X, train_y = train[:, :-1], train[:, -1]\n",
        "test_X, test_y = test[:, :-1], test[:, -1]\n",
        "# reshape input to be 3D [samples, timesteps, features]\n",
        "train_X = train_X.reshape((train_X.shape[0], 1, train_X.shape[1]))\n",
        "test_X = test_X.reshape((test_X.shape[0], 1, test_X.shape[1]))\n",
        "\n",
        "print(train_X.shape, train_y.shape, test_X.shape, test_y.shape)"
      ],
      "execution_count": 19,
      "outputs": [
        {
          "output_type": "stream",
          "name": "stdout",
          "text": [
            "420000\n",
            "(336000, 1, 7) (336000,) (84000, 1, 7) (84000,)\n"
          ]
        }
      ]
    },
    {
      "cell_type": "code",
      "metadata": {
        "id": "RIWqnBedN64K",
        "colab": {
          "base_uri": "https://localhost:8080/"
        },
        "outputId": "0f72b43a-8276-4033-a8c2-5ec674a213d6"
      },
      "source": [
        "# Diseño de la red recurrente LSTM\n",
        "model = Sequential()\n",
        "model.add(LSTM(24, input_shape=(train_X.shape[1], train_X.shape[2])))\n",
        "model.add(Dense(128))\n",
        "model.add(Dense(1))\n",
        "model.compile(loss='mae', optimizer='adam')\n",
        "# fit network\n",
        "history = model.fit(train_X, train_y, epochs=100, batch_size=72, validation_data=(test_X, test_y), verbose=2, shuffle=False)\n",
        "# plot history\n",
        "pyplot.plot(history.history['loss'], label='train')\n",
        "pyplot.plot(history.history['val_loss'], label='test')\n",
        "pyplot.legend()\n",
        "pyplot.show()"
      ],
      "execution_count": null,
      "outputs": [
        {
          "output_type": "stream",
          "name": "stdout",
          "text": [
            "Epoch 1/100\n",
            "4667/4667 - 15s - loss: 0.0382 - val_loss: 0.0046 - 15s/epoch - 3ms/step\n",
            "Epoch 2/100\n",
            "4667/4667 - 13s - loss: 0.0081 - val_loss: 0.0029 - 13s/epoch - 3ms/step\n",
            "Epoch 3/100\n",
            "4667/4667 - 12s - loss: 0.0068 - val_loss: 0.0141 - 12s/epoch - 3ms/step\n",
            "Epoch 4/100\n",
            "4667/4667 - 13s - loss: 0.0057 - val_loss: 0.0027 - 13s/epoch - 3ms/step\n",
            "Epoch 5/100\n"
          ]
        }
      ]
    },
    {
      "cell_type": "code",
      "metadata": {
        "id": "gi4zBMF5ZHnO"
      },
      "source": [
        "train_acc = model.evaluate(train_X, train_y, verbose=0)\n",
        "test_acc = model.evaluate(test_X, test_y, verbose=0)"
      ],
      "execution_count": 30,
      "outputs": []
    },
    {
      "cell_type": "code",
      "metadata": {
        "colab": {
          "base_uri": "https://localhost:8080/"
        },
        "id": "7MNeG_-JZ5g5",
        "outputId": "80222cef-9a61-4f67-a707-cc74a1c1a8ab"
      },
      "source": [
        "print('Train: %.3f, Test: %.3f' % (train_acc, test_acc))\n"
      ],
      "execution_count": 31,
      "outputs": [
        {
          "output_type": "stream",
          "name": "stdout",
          "text": [
            "Train: 0.005, Test: 0.005\n"
          ]
        }
      ]
    },
    {
      "cell_type": "code",
      "metadata": {
        "id": "kux8Fpcdfe3Y"
      },
      "source": [
        "#FUNCION PARA ESCOGER UN REGISTRO DENTRO DEL DATAFRAME PARA LAS PRUEBAS DE VALIDACION\n",
        "def selectRabbit(user):\n",
        "  xnew = df.iloc[user:user+1 , 0:999]\n",
        "  return xnew\n"
      ],
      "execution_count": null,
      "outputs": []
    },
    {
      "cell_type": "code",
      "metadata": {
        "id": "l0VW_pfbfy70"
      },
      "source": [
        "#FUNCION PARA BUSCAR EL VALOR REAL DE CONSUMO DENTRO DEL DATAFRAME\n",
        "def searchForReal(user):\n",
        "  real=xnew = df.iloc[user ,-1]\n",
        "  return real"
      ],
      "execution_count": null,
      "outputs": []
    },
    {
      "cell_type": "code",
      "metadata": {
        "id": "5TtDymQlo9pw"
      },
      "source": [
        "#FUNCION PARA GRAFICAR LOS RESULTADOS\n",
        "def graphResults(2):\n",
        "  row = df.iloc[user:user+1 , 0:999]"
      ],
      "execution_count": null,
      "outputs": []
    },
    {
      "cell_type": "code",
      "metadata": {
        "id": "SaeTCCaXOFvS"
      },
      "source": [
        "def prediccion(user):\n",
        "    xnew=selectRabbit(user)\n",
        "    Xnew= scaler.transform(xnew)\n",
        "    Xnew = Xnew.reshape((Xnew.shape[0], 1, Xnew.shape[1]))\n",
        "    pred= model.predict(Xnew)[0]\n",
        "    return pred\n",
        "    \n",
        "pred=prediccion(83)\n",
        "print('PREDICCION DE CONSUMO: ',pred)\n",
        "print('USUARIO CONSUMO REAL :  [',searchForReal(83),']')"
      ],
      "execution_count": null,
      "outputs": []
    },
    {
      "cell_type": "markdown",
      "metadata": {
        "id": "W8Z9fz5Lze-N"
      },
      "source": [
        "PRUEBAS PARA LA BINARIZACION DE LOS NOMBRES"
      ]
    },
    {
      "cell_type": "code",
      "metadata": {
        "id": "qtVgUYxtrmHV"
      },
      "source": [
        "#TRYING TO TRANSPOSE DATA CONSUMPTION WITH NAMES OF CLIENTS\n",
        "data= pd.read_csv('/content/AguaH.csv')\n",
        "dataset= data.iloc[0:10,:]\n",
        "dataset.shape\n",
        "#ESTE CODIGO SIRVE UNICAMENTE PARA LA INTEGRACION DE LOS NOMBRES EN EL DATAFRAME\n",
        "col_list = [\"Name\"]\n",
        "names = pd.read_csv(\"/content/StateNames.csv\", usecols=col_list)\n",
        "names = names.iloc[0:10 , :]\n",
        "#ELIMINAMOS LA COLUMNA DE LOS NOMBRE YA QUE SE BINARIZARON\n",
        "#df = df.iloc[: , 1:]\n",
        "print(\"Names shape \",names.shape)"
      ],
      "execution_count": null,
      "outputs": []
    },
    {
      "cell_type": "code",
      "metadata": {
        "id": "dzR_BZvUt_tl"
      },
      "source": [
        "names.index = dataset.index\n",
        "dataset.insert(loc=1, column='Names', value=names)\n"
      ],
      "execution_count": null,
      "outputs": []
    },
    {
      "cell_type": "code",
      "metadata": {
        "id": "SyiAhOMBuOjP"
      },
      "source": [
        "dataset=dataset.transpose()\n",
        "\n"
      ],
      "execution_count": null,
      "outputs": []
    },
    {
      "cell_type": "code",
      "metadata": {
        "id": "zhd8L3b_GfZr"
      },
      "source": [
        "dataset.index.name = 'date'\n",
        "dataset\n"
      ],
      "execution_count": null,
      "outputs": []
    },
    {
      "cell_type": "code",
      "metadata": {
        "id": "rIivijspGpKn"
      },
      "source": [
        "dataset.set_index(['date', 'Names']).unstack()\n"
      ],
      "execution_count": null,
      "outputs": []
    },
    {
      "cell_type": "code",
      "metadata": {
        "id": "CIPsIarlF2L2"
      },
      "source": [
        "data.set_index(['date', 'Names']).unstack()\n"
      ],
      "execution_count": null,
      "outputs": []
    },
    {
      "cell_type": "code",
      "metadata": {
        "id": "-01zN11S_wg-"
      },
      "source": [
        "one_hot = pd.get_dummies(dataset['Names'])\n",
        "dataset = dataset.drop('Names',axis = 1)\n",
        "dataset = dataset.join(one_hot)\n"
      ],
      "execution_count": null,
      "outputs": []
    },
    {
      "cell_type": "code",
      "metadata": {
        "id": "_GInujex7yZe"
      },
      "source": [
        "dataset"
      ],
      "execution_count": null,
      "outputs": []
    }
  ]
}