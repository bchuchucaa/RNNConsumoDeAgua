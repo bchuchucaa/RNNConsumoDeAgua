{
  "nbformat": 4,
  "nbformat_minor": 0,
  "metadata": {
    "colab": {
      "name": "RNNConsumoDeAgua.ipynb",
      "provenance": [],
      "collapsed_sections": [],
      "include_colab_link": true
    },
    "kernelspec": {
      "name": "python3",
      "display_name": "Python 3"
    },
    "language_info": {
      "name": "python"
    }
  },
  "cells": [
    {
      "cell_type": "markdown",
      "metadata": {
        "id": "view-in-github",
        "colab_type": "text"
      },
      "source": [
        "<a href=\"https://colab.research.google.com/github/bchuchucaa/RNNConsumoDeAgua/blob/main/RNNConsumoDeAgua.ipynb\" target=\"_parent\"><img src=\"https://colab.research.google.com/assets/colab-badge.svg\" alt=\"Open In Colab\"/></a>"
      ]
    },
    {
      "cell_type": "code",
      "metadata": {
        "colab": {
          "base_uri": "https://localhost:8080/"
        },
        "id": "n1D2LPUIg2CZ",
        "outputId": "733d624d-f5da-4479-8c31-0ac655bdf3b2"
      },
      "source": [
        "!unzip /content/archive.zip"
      ],
      "execution_count": null,
      "outputs": [
        {
          "output_type": "stream",
          "name": "stdout",
          "text": [
            "unzip:  cannot find or open /content/archive.zip, /content/archive.zip.zip or /content/archive.zip.ZIP.\n"
          ]
        }
      ]
    },
    {
      "cell_type": "code",
      "metadata": {
        "id": "0JXAtN7ukusZ",
        "colab": {
          "base_uri": "https://localhost:8080/"
        },
        "outputId": "572dcbae-d720-4848-e44d-583873004333"
      },
      "source": [
        "from pandas import read_csv\n",
        "from datetime import datetime\n",
        "import pandas as pd\n",
        "from matplotlib import pyplot\n",
        "import numpy as np\n",
        "from math import sqrt\n",
        "from numpy import concatenate\n",
        "from matplotlib import pyplot\n",
        "from pandas import read_csv\n",
        "from pandas import DataFrame\n",
        "from pandas import concat\n",
        "from sklearn.preprocessing import MinMaxScaler\n",
        "from sklearn.preprocessing import LabelEncoder\n",
        "from sklearn.metrics import mean_squared_error\n",
        "from keras.models import Sequential\n",
        "from keras.layers import Dense\n",
        "from keras.layers import LSTM\n",
        "print('LIBRERIAS IMPORTADAS')"
      ],
      "execution_count": 18,
      "outputs": [
        {
          "output_type": "stream",
          "name": "stdout",
          "text": [
            "LIBRERIAS IMPORTADAS\n"
          ]
        }
      ]
    },
    {
      "cell_type": "markdown",
      "metadata": {
        "id": "s5wDR_wiN-7q"
      },
      "source": [
        "**LECTURA DE DATOS**"
      ]
    },
    {
      "cell_type": "code",
      "metadata": {
        "id": "DhCtqBU9mSVP",
        "colab": {
          "base_uri": "https://localhost:8080/"
        },
        "outputId": "36f9875b-4369-479f-e0ab-08ff3ea2faa8"
      },
      "source": [
        "#LOADING DATA \n",
        "df= read_csv('/content/AguaH.csv')\n",
        "df = df.iloc[0:5000 , :]\n",
        "#AJUSTE DEL FORMATO DE LAS FECHAS PARA LA TRANSFORMACION A TIPO DATETIME\n",
        "lookup = {'ENE':'01','FEB':'02','MAR':'03','ABR':'04','MAY':'05','JUN':'06','JUL':'07','AGO':'08','SEP':'09','OCT':'10','NOV':'11','DIC':'12'}\n",
        "clist=[]\n",
        "for col in df.columns[5:]:\n",
        "    col = col[4:].split('_')\n",
        "    clist.append('20'+col[1]+'-'+lookup[col[0]]+'-01')\n",
        "\n",
        "columns = ['LANDUSE_TYPE','USER','PIPE DIAM','VENDOR','JAN16']+clist\n",
        "df.columns=columns\n",
        "df = df.drop(columns=['LANDUSE_TYPE','PIPE DIAM','VENDOR','JAN16'])\n",
        "#df=df.transpose()\n",
        "print(\"Dataframe shape \",df.shape)\n"
      ],
      "execution_count": 34,
      "outputs": [
        {
          "output_type": "stream",
          "name": "stdout",
          "text": [
            "Dataframe shape  (5000, 85)\n"
          ]
        }
      ]
    },
    {
      "cell_type": "code",
      "metadata": {
        "id": "6_oadNaIa3QW",
        "colab": {
          "base_uri": "https://localhost:8080/"
        },
        "outputId": "4726d85a-9246-4daa-b988-8ba36c552979"
      },
      "source": [
        "#ESTE CODIGO SIRVE UNICAMENTE PARA LA INTEGRACION DE LOS NOMBRES EN EL DATAFRAME\n",
        "col_list = [\"Name\"]\n",
        "names = pd.read_csv(\"/content/StateNames.csv\", usecols=col_list)\n",
        "names = names.iloc[0:84 , :]\n",
        "#ELIMINAMOS LA COLUMNA DE LOS NOMBRE YA QUE SE BINARIZARON\n",
        "#df = df.iloc[: , 1:]\n",
        "print(\"Names shape \",names.shape)"
      ],
      "execution_count": 20,
      "outputs": [
        {
          "output_type": "stream",
          "name": "stdout",
          "text": [
            "Names shape  (84, 1)\n"
          ]
        }
      ]
    },
    {
      "cell_type": "code",
      "metadata": {
        "id": "TFljSolZSVTq"
      },
      "source": [
        "rows_list=[]\n",
        "dataComp = pd.DataFrame(columns=('DATE','TIPO', 'CONSUMO'))\n",
        "for column in range(1,len(df.columns),1):\n",
        "  selection=df.iloc[:,column]\n",
        "  for row in range(len(selection)):\n",
        "    df2=[df.columns[column],df.iloc[row,0],selection.iloc[row]]\n",
        "    rows_list.append(df2)"
      ],
      "execution_count": 61,
      "outputs": []
    },
    {
      "cell_type": "code",
      "metadata": {
        "id": "IbQi1hPJSm1w"
      },
      "source": [
        "dataComp = pd.DataFrame(rows_list)               "
      ],
      "execution_count": 62,
      "outputs": []
    },
    {
      "cell_type": "code",
      "metadata": {
        "colab": {
          "base_uri": "https://localhost:8080/",
          "height": 204
        },
        "id": "cBpRjqCeS18t",
        "outputId": "63570c7f-12ec-4e7c-cd69-9af1a338527f"
      },
      "source": [
        "dataComp.head()"
      ],
      "execution_count": 63,
      "outputs": [
        {
          "output_type": "execute_result",
          "data": {
            "text/html": [
              "<div>\n",
              "<style scoped>\n",
              "    .dataframe tbody tr th:only-of-type {\n",
              "        vertical-align: middle;\n",
              "    }\n",
              "\n",
              "    .dataframe tbody tr th {\n",
              "        vertical-align: top;\n",
              "    }\n",
              "\n",
              "    .dataframe thead th {\n",
              "        text-align: right;\n",
              "    }\n",
              "</style>\n",
              "<table border=\"1\" class=\"dataframe\">\n",
              "  <thead>\n",
              "    <tr style=\"text-align: right;\">\n",
              "      <th></th>\n",
              "      <th>0</th>\n",
              "      <th>1</th>\n",
              "      <th>2</th>\n",
              "    </tr>\n",
              "  </thead>\n",
              "  <tbody>\n",
              "    <tr>\n",
              "      <th>0</th>\n",
              "      <td>2009-01-01</td>\n",
              "      <td>DOMESTICO MEDIO</td>\n",
              "      <td>20.0</td>\n",
              "    </tr>\n",
              "    <tr>\n",
              "      <th>1</th>\n",
              "      <td>2009-01-01</td>\n",
              "      <td>DOMESTICO MEDIO</td>\n",
              "      <td>NaN</td>\n",
              "    </tr>\n",
              "    <tr>\n",
              "      <th>2</th>\n",
              "      <td>2009-01-01</td>\n",
              "      <td>DOMESTICO RESIDENCIAL</td>\n",
              "      <td>NaN</td>\n",
              "    </tr>\n",
              "    <tr>\n",
              "      <th>3</th>\n",
              "      <td>2009-01-01</td>\n",
              "      <td>DOMESTICO MEDIO</td>\n",
              "      <td>NaN</td>\n",
              "    </tr>\n",
              "    <tr>\n",
              "      <th>4</th>\n",
              "      <td>2009-01-01</td>\n",
              "      <td>DOMESTICO RESIDENCIAL</td>\n",
              "      <td>20.0</td>\n",
              "    </tr>\n",
              "  </tbody>\n",
              "</table>\n",
              "</div>"
            ],
            "text/plain": [
              "            0                      1     2\n",
              "0  2009-01-01        DOMESTICO MEDIO  20.0\n",
              "1  2009-01-01        DOMESTICO MEDIO   NaN\n",
              "2  2009-01-01  DOMESTICO RESIDENCIAL   NaN\n",
              "3  2009-01-01        DOMESTICO MEDIO   NaN\n",
              "4  2009-01-01  DOMESTICO RESIDENCIAL  20.0"
            ]
          },
          "metadata": {},
          "execution_count": 63
        }
      ]
    },
    {
      "cell_type": "code",
      "metadata": {
        "id": "yo4UgmQ0S5QI"
      },
      "source": [
        "dataComp.rename(columns = {0:'DATE',1:'TIPO',2:'CONSUMO'}, inplace = True)"
      ],
      "execution_count": 64,
      "outputs": []
    },
    {
      "cell_type": "code",
      "metadata": {
        "id": "dNcFCWWFyymi"
      },
      "source": [
        "dataComp['DATE'] = pd.to_datetime(dataComp['DATE'], format='%Y-%m-%d')\n"
      ],
      "execution_count": 67,
      "outputs": []
    },
    {
      "cell_type": "code",
      "metadata": {
        "colab": {
          "base_uri": "https://localhost:8080/",
          "height": 450
        },
        "id": "m8ofVrVCxCK_",
        "outputId": "e94e8d27-6ef3-4d21-8a9e-65dc0e2d210c"
      },
      "source": [
        "dataComp.set_index('DATE')"
      ],
      "execution_count": 75,
      "outputs": [
        {
          "output_type": "execute_result",
          "data": {
            "text/html": [
              "<div>\n",
              "<style scoped>\n",
              "    .dataframe tbody tr th:only-of-type {\n",
              "        vertical-align: middle;\n",
              "    }\n",
              "\n",
              "    .dataframe tbody tr th {\n",
              "        vertical-align: top;\n",
              "    }\n",
              "\n",
              "    .dataframe thead th {\n",
              "        text-align: right;\n",
              "    }\n",
              "</style>\n",
              "<table border=\"1\" class=\"dataframe\">\n",
              "  <thead>\n",
              "    <tr style=\"text-align: right;\">\n",
              "      <th></th>\n",
              "      <th>TIPO</th>\n",
              "      <th>CONSUMO</th>\n",
              "    </tr>\n",
              "    <tr>\n",
              "      <th>DATE</th>\n",
              "      <th></th>\n",
              "      <th></th>\n",
              "    </tr>\n",
              "  </thead>\n",
              "  <tbody>\n",
              "    <tr>\n",
              "      <th>2009-01-01</th>\n",
              "      <td>DOMESTICO MEDIO</td>\n",
              "      <td>20.0</td>\n",
              "    </tr>\n",
              "    <tr>\n",
              "      <th>2009-01-01</th>\n",
              "      <td>DOMESTICO MEDIO</td>\n",
              "      <td>NaN</td>\n",
              "    </tr>\n",
              "    <tr>\n",
              "      <th>2009-01-01</th>\n",
              "      <td>DOMESTICO RESIDENCIAL</td>\n",
              "      <td>NaN</td>\n",
              "    </tr>\n",
              "    <tr>\n",
              "      <th>2009-01-01</th>\n",
              "      <td>DOMESTICO MEDIO</td>\n",
              "      <td>NaN</td>\n",
              "    </tr>\n",
              "    <tr>\n",
              "      <th>2009-01-01</th>\n",
              "      <td>DOMESTICO RESIDENCIAL</td>\n",
              "      <td>20.0</td>\n",
              "    </tr>\n",
              "    <tr>\n",
              "      <th>...</th>\n",
              "      <td>...</td>\n",
              "      <td>...</td>\n",
              "    </tr>\n",
              "    <tr>\n",
              "      <th>2015-12-01</th>\n",
              "      <td>DOMESTICO MEDIO</td>\n",
              "      <td>22.0</td>\n",
              "    </tr>\n",
              "    <tr>\n",
              "      <th>2015-12-01</th>\n",
              "      <td>DOMESTICO MEDIO</td>\n",
              "      <td>3.0</td>\n",
              "    </tr>\n",
              "    <tr>\n",
              "      <th>2015-12-01</th>\n",
              "      <td>DOMESTICO MEDIO</td>\n",
              "      <td>8.0</td>\n",
              "    </tr>\n",
              "    <tr>\n",
              "      <th>2015-12-01</th>\n",
              "      <td>DOMESTICO RESIDENCIAL</td>\n",
              "      <td>12.0</td>\n",
              "    </tr>\n",
              "    <tr>\n",
              "      <th>2015-12-01</th>\n",
              "      <td>DOMESTICO MEDIO</td>\n",
              "      <td>22.0</td>\n",
              "    </tr>\n",
              "  </tbody>\n",
              "</table>\n",
              "<p>420000 rows × 2 columns</p>\n",
              "</div>"
            ],
            "text/plain": [
              "                             TIPO  CONSUMO\n",
              "DATE                                      \n",
              "2009-01-01        DOMESTICO MEDIO     20.0\n",
              "2009-01-01        DOMESTICO MEDIO      NaN\n",
              "2009-01-01  DOMESTICO RESIDENCIAL      NaN\n",
              "2009-01-01        DOMESTICO MEDIO      NaN\n",
              "2009-01-01  DOMESTICO RESIDENCIAL     20.0\n",
              "...                           ...      ...\n",
              "2015-12-01        DOMESTICO MEDIO     22.0\n",
              "2015-12-01        DOMESTICO MEDIO      3.0\n",
              "2015-12-01        DOMESTICO MEDIO      8.0\n",
              "2015-12-01  DOMESTICO RESIDENCIAL     12.0\n",
              "2015-12-01        DOMESTICO MEDIO     22.0\n",
              "\n",
              "[420000 rows x 2 columns]"
            ]
          },
          "metadata": {},
          "execution_count": 75
        }
      ]
    },
    {
      "cell_type": "code",
      "metadata": {
        "id": "NbzzDHLPQfaw"
      },
      "source": [
        "#df.to_csv(\"waterconsumption.csv\")"
      ],
      "execution_count": 11,
      "outputs": []
    },
    {
      "cell_type": "code",
      "metadata": {
        "id": "xIUWwJcHhIG0"
      },
      "source": [
        "\n",
        "#RELLENANDO VALORES NAN POR LA MEDIA\n",
        "dataComp=dataComp.fillna(20)\n",
        "dataComp.index.name = 'DATE'\n",
        "#CONVIRTIENDO EL INDICE DEL DATAFRAME EN TIPO DATETIME\n",
        "#dataComp.index = pd.to_datetime(dataComp.index)\n",
        "#type(dataComp.index)\n"
      ],
      "execution_count": 16,
      "outputs": []
    },
    {
      "cell_type": "code",
      "metadata": {
        "colab": {
          "base_uri": "https://localhost:8080/",
          "height": 235
        },
        "id": "7vu6MYKHueOy",
        "outputId": "6b228136-5ba8-4f1d-98c8-0146fffede20"
      },
      "source": [
        "dataComp.head()"
      ],
      "execution_count": 17,
      "outputs": [
        {
          "output_type": "execute_result",
          "data": {
            "text/html": [
              "<div>\n",
              "<style scoped>\n",
              "    .dataframe tbody tr th:only-of-type {\n",
              "        vertical-align: middle;\n",
              "    }\n",
              "\n",
              "    .dataframe tbody tr th {\n",
              "        vertical-align: top;\n",
              "    }\n",
              "\n",
              "    .dataframe thead th {\n",
              "        text-align: right;\n",
              "    }\n",
              "</style>\n",
              "<table border=\"1\" class=\"dataframe\">\n",
              "  <thead>\n",
              "    <tr style=\"text-align: right;\">\n",
              "      <th></th>\n",
              "      <th>DATE</th>\n",
              "      <th>TIPO</th>\n",
              "      <th>CONSUMO</th>\n",
              "    </tr>\n",
              "    <tr>\n",
              "      <th>DATE</th>\n",
              "      <th></th>\n",
              "      <th></th>\n",
              "      <th></th>\n",
              "    </tr>\n",
              "  </thead>\n",
              "  <tbody>\n",
              "    <tr>\n",
              "      <th>0</th>\n",
              "      <td>2009-01-01</td>\n",
              "      <td>DOMESTICO MEDIO</td>\n",
              "      <td>20.0</td>\n",
              "    </tr>\n",
              "    <tr>\n",
              "      <th>1</th>\n",
              "      <td>2009-01-01</td>\n",
              "      <td>DOMESTICO MEDIO</td>\n",
              "      <td>20.0</td>\n",
              "    </tr>\n",
              "    <tr>\n",
              "      <th>2</th>\n",
              "      <td>2009-01-01</td>\n",
              "      <td>DOMESTICO RESIDENCIAL</td>\n",
              "      <td>20.0</td>\n",
              "    </tr>\n",
              "    <tr>\n",
              "      <th>3</th>\n",
              "      <td>2009-01-01</td>\n",
              "      <td>DOMESTICO MEDIO</td>\n",
              "      <td>20.0</td>\n",
              "    </tr>\n",
              "    <tr>\n",
              "      <th>4</th>\n",
              "      <td>2009-01-01</td>\n",
              "      <td>DOMESTICO RESIDENCIAL</td>\n",
              "      <td>20.0</td>\n",
              "    </tr>\n",
              "  </tbody>\n",
              "</table>\n",
              "</div>"
            ],
            "text/plain": [
              "            DATE                   TIPO  CONSUMO\n",
              "DATE                                            \n",
              "0     2009-01-01        DOMESTICO MEDIO     20.0\n",
              "1     2009-01-01        DOMESTICO MEDIO     20.0\n",
              "2     2009-01-01  DOMESTICO RESIDENCIAL     20.0\n",
              "3     2009-01-01        DOMESTICO MEDIO     20.0\n",
              "4     2009-01-01  DOMESTICO RESIDENCIAL     20.0"
            ]
          },
          "metadata": {},
          "execution_count": 17
        }
      ]
    },
    {
      "cell_type": "code",
      "metadata": {
        "colab": {
          "base_uri": "https://localhost:8080/",
          "height": 419
        },
        "id": "jQsrBe6A6G_W",
        "outputId": "baf7b54a-a2f5-4124-a360-878cc4d3f806"
      },
      "source": [
        "y=dataComp.iloc[: , -1]\n",
        "dataset=dataComp.iloc[:, :-1]\n",
        "x=dataset\n",
        "values = dataset.values\n",
        "x"
      ],
      "execution_count": 13,
      "outputs": [
        {
          "output_type": "execute_result",
          "data": {
            "text/html": [
              "<div>\n",
              "<style scoped>\n",
              "    .dataframe tbody tr th:only-of-type {\n",
              "        vertical-align: middle;\n",
              "    }\n",
              "\n",
              "    .dataframe tbody tr th {\n",
              "        vertical-align: top;\n",
              "    }\n",
              "\n",
              "    .dataframe thead th {\n",
              "        text-align: right;\n",
              "    }\n",
              "</style>\n",
              "<table border=\"1\" class=\"dataframe\">\n",
              "  <thead>\n",
              "    <tr style=\"text-align: right;\">\n",
              "      <th></th>\n",
              "      <th>DATE</th>\n",
              "      <th>TIPO</th>\n",
              "    </tr>\n",
              "  </thead>\n",
              "  <tbody>\n",
              "    <tr>\n",
              "      <th>0</th>\n",
              "      <td>2009-01-01</td>\n",
              "      <td>DOMESTICO MEDIO</td>\n",
              "    </tr>\n",
              "    <tr>\n",
              "      <th>1</th>\n",
              "      <td>2009-01-01</td>\n",
              "      <td>DOMESTICO MEDIO</td>\n",
              "    </tr>\n",
              "    <tr>\n",
              "      <th>2</th>\n",
              "      <td>2009-01-01</td>\n",
              "      <td>DOMESTICO RESIDENCIAL</td>\n",
              "    </tr>\n",
              "    <tr>\n",
              "      <th>3</th>\n",
              "      <td>2009-01-01</td>\n",
              "      <td>DOMESTICO MEDIO</td>\n",
              "    </tr>\n",
              "    <tr>\n",
              "      <th>4</th>\n",
              "      <td>2009-01-01</td>\n",
              "      <td>DOMESTICO RESIDENCIAL</td>\n",
              "    </tr>\n",
              "    <tr>\n",
              "      <th>...</th>\n",
              "      <td>...</td>\n",
              "      <td>...</td>\n",
              "    </tr>\n",
              "    <tr>\n",
              "      <th>419995</th>\n",
              "      <td>2015-12-01</td>\n",
              "      <td>DOMESTICO MEDIO</td>\n",
              "    </tr>\n",
              "    <tr>\n",
              "      <th>419996</th>\n",
              "      <td>2015-12-01</td>\n",
              "      <td>DOMESTICO MEDIO</td>\n",
              "    </tr>\n",
              "    <tr>\n",
              "      <th>419997</th>\n",
              "      <td>2015-12-01</td>\n",
              "      <td>DOMESTICO MEDIO</td>\n",
              "    </tr>\n",
              "    <tr>\n",
              "      <th>419998</th>\n",
              "      <td>2015-12-01</td>\n",
              "      <td>DOMESTICO RESIDENCIAL</td>\n",
              "    </tr>\n",
              "    <tr>\n",
              "      <th>419999</th>\n",
              "      <td>2015-12-01</td>\n",
              "      <td>DOMESTICO MEDIO</td>\n",
              "    </tr>\n",
              "  </tbody>\n",
              "</table>\n",
              "<p>420000 rows × 2 columns</p>\n",
              "</div>"
            ],
            "text/plain": [
              "              DATE                   TIPO\n",
              "0       2009-01-01        DOMESTICO MEDIO\n",
              "1       2009-01-01        DOMESTICO MEDIO\n",
              "2       2009-01-01  DOMESTICO RESIDENCIAL\n",
              "3       2009-01-01        DOMESTICO MEDIO\n",
              "4       2009-01-01  DOMESTICO RESIDENCIAL\n",
              "...            ...                    ...\n",
              "419995  2015-12-01        DOMESTICO MEDIO\n",
              "419996  2015-12-01        DOMESTICO MEDIO\n",
              "419997  2015-12-01        DOMESTICO MEDIO\n",
              "419998  2015-12-01  DOMESTICO RESIDENCIAL\n",
              "419999  2015-12-01        DOMESTICO MEDIO\n",
              "\n",
              "[420000 rows x 2 columns]"
            ]
          },
          "metadata": {},
          "execution_count": 13
        }
      ]
    },
    {
      "cell_type": "markdown",
      "metadata": {
        "id": "SWh6p1a0OPru"
      },
      "source": [
        "Grafica del consumo de agua de un usuario"
      ]
    },
    {
      "cell_type": "code",
      "metadata": {
        "colab": {
          "base_uri": "https://localhost:8080/",
          "height": 232
        },
        "id": "cMndnFmGM8DN",
        "outputId": "5bf7f781-ebad-42bb-c7b2-de19f049543f"
      },
      "source": [
        "# asegurarse que todo esta en formato float\n",
        "values = values.astype('float32')\n",
        "# normalzación\n",
        "scaler = MinMaxScaler(feature_range=(0, 1))\n",
        "scaled = scaler.fit_transform(values)\n",
        "scaled"
      ],
      "execution_count": 14,
      "outputs": [
        {
          "output_type": "error",
          "ename": "ValueError",
          "evalue": "ignored",
          "traceback": [
            "\u001b[0;31m---------------------------------------------------------------------------\u001b[0m",
            "\u001b[0;31mValueError\u001b[0m                                Traceback (most recent call last)",
            "\u001b[0;32m<ipython-input-14-f956eb84fa12>\u001b[0m in \u001b[0;36m<module>\u001b[0;34m()\u001b[0m\n\u001b[1;32m      1\u001b[0m \u001b[0;31m# asegurarse que todo esta en formato float\u001b[0m\u001b[0;34m\u001b[0m\u001b[0;34m\u001b[0m\u001b[0;34m\u001b[0m\u001b[0m\n\u001b[0;32m----> 2\u001b[0;31m \u001b[0mvalues\u001b[0m \u001b[0;34m=\u001b[0m \u001b[0mvalues\u001b[0m\u001b[0;34m.\u001b[0m\u001b[0mastype\u001b[0m\u001b[0;34m(\u001b[0m\u001b[0;34m'float32'\u001b[0m\u001b[0;34m)\u001b[0m\u001b[0;34m\u001b[0m\u001b[0;34m\u001b[0m\u001b[0m\n\u001b[0m\u001b[1;32m      3\u001b[0m \u001b[0;31m# normalzación\u001b[0m\u001b[0;34m\u001b[0m\u001b[0;34m\u001b[0m\u001b[0;34m\u001b[0m\u001b[0m\n\u001b[1;32m      4\u001b[0m \u001b[0mscaler\u001b[0m \u001b[0;34m=\u001b[0m \u001b[0mMinMaxScaler\u001b[0m\u001b[0;34m(\u001b[0m\u001b[0mfeature_range\u001b[0m\u001b[0;34m=\u001b[0m\u001b[0;34m(\u001b[0m\u001b[0;36m0\u001b[0m\u001b[0;34m,\u001b[0m \u001b[0;36m1\u001b[0m\u001b[0;34m)\u001b[0m\u001b[0;34m)\u001b[0m\u001b[0;34m\u001b[0m\u001b[0;34m\u001b[0m\u001b[0m\n\u001b[1;32m      5\u001b[0m \u001b[0mscaled\u001b[0m \u001b[0;34m=\u001b[0m \u001b[0mscaler\u001b[0m\u001b[0;34m.\u001b[0m\u001b[0mfit_transform\u001b[0m\u001b[0;34m(\u001b[0m\u001b[0mvalues\u001b[0m\u001b[0;34m)\u001b[0m\u001b[0;34m\u001b[0m\u001b[0;34m\u001b[0m\u001b[0m\n",
            "\u001b[0;31mValueError\u001b[0m: could not convert string to float: '2009-01-01'"
          ]
        }
      ]
    },
    {
      "cell_type": "code",
      "metadata": {
        "id": "-BcOpI8-sFaE"
      },
      "source": [
        "#red neuronal estandar\n",
        "#X_train, X_test, y_train, y_test = train_test_split(scaled, y, test_size=.2)\n",
        "\n",
        "numregistros=scaled.shape[0]\n",
        "print(numregistros)\n",
        "\n",
        "# split en conjuntos de train y test\n",
        "n_train = int(round(numregistros*0.8,0)) #80% para entrenamiento\n",
        "train_X = scaled[:n_train, :]\n",
        "test_X = scaled[n_train:, :]\n",
        "train_y = y[:n_train]\n",
        "test_y = y[n_train:]\n",
        "\n",
        "# reshape entrada a 3D [samples, timesteps, features]\n",
        "train_X = train_X.reshape((train_X.shape[0], 1, train_X.shape[1]))\n",
        "test_X = test_X.reshape((test_X.shape[0], 1, test_X.shape[1]))\n",
        "print(train_X.shape, train_y.shape, test_X.shape, test_y.shape)"
      ],
      "execution_count": null,
      "outputs": []
    },
    {
      "cell_type": "code",
      "metadata": {
        "id": "RIWqnBedN64K"
      },
      "source": [
        "# Diseño de la red recurrente LSTM\n",
        "model = Sequential()\n",
        "model.add(LSTM(12, input_shape=(train_X.shape[1], train_X.shape[2])))\n",
        "model.add(Dense(9))\n",
        "model.add(Dense(1))\n",
        "model.compile(loss='mae', optimizer='adam')\n",
        "# entrenar red\n",
        "history = model.fit(train_X, train_y, epochs=1000, batch_size=72, validation_data=(test_X, test_y), verbose=2, shuffle=False)\n",
        "# plot history\n",
        "pyplot.plot(history.history['loss'], label='train')\n",
        "pyplot.plot(history.history['val_loss'], label='test')\n",
        "pyplot.legend()\n",
        "pyplot.show()"
      ],
      "execution_count": null,
      "outputs": []
    },
    {
      "cell_type": "code",
      "metadata": {
        "id": "kux8Fpcdfe3Y"
      },
      "source": [
        "#FUNCION PARA ESCOGER UN REGISTRO DENTRO DEL DATAFRAME PARA LAS PRUEBAS DE VALIDACION\n",
        "def selectRabbit(user):\n",
        "  xnew = df.iloc[user:user+1 , 0:999]\n",
        "  return xnew\n"
      ],
      "execution_count": null,
      "outputs": []
    },
    {
      "cell_type": "code",
      "metadata": {
        "id": "l0VW_pfbfy70"
      },
      "source": [
        "#FUNCION PARA BUSCAR EL VALOR REAL DE CONSUMO DENTRO DEL DATAFRAME\n",
        "def searchForReal(user):\n",
        "  real=xnew = df.iloc[user ,-1]\n",
        "  return real"
      ],
      "execution_count": null,
      "outputs": []
    },
    {
      "cell_type": "code",
      "metadata": {
        "id": "5TtDymQlo9pw"
      },
      "source": [
        "#FUNCION PARA GRAFICAR LOS RESULTADOS\n",
        "def graphResults(2):\n",
        "  row = df.iloc[user:user+1 , 0:999]"
      ],
      "execution_count": null,
      "outputs": []
    },
    {
      "cell_type": "code",
      "metadata": {
        "id": "SaeTCCaXOFvS"
      },
      "source": [
        "def prediccion(user):\n",
        "    xnew=selectRabbit(user)\n",
        "    Xnew= scaler.transform(xnew)\n",
        "    Xnew = Xnew.reshape((Xnew.shape[0], 1, Xnew.shape[1]))\n",
        "    pred= model.predict(Xnew)[0]\n",
        "    return pred\n",
        "    \n",
        "pred=prediccion(83)\n",
        "print('PREDICCION DE CONSUMO: ',pred)\n",
        "print('USUARIO CONSUMO REAL :  [',searchForReal(83),']')"
      ],
      "execution_count": null,
      "outputs": []
    },
    {
      "cell_type": "markdown",
      "metadata": {
        "id": "W8Z9fz5Lze-N"
      },
      "source": [
        "PRUEBAS PARA LA BINARIZACION DE LOS NOMBRES"
      ]
    },
    {
      "cell_type": "code",
      "metadata": {
        "id": "qtVgUYxtrmHV"
      },
      "source": [
        "#TRYING TO TRANSPOSE DATA CONSUMPTION WITH NAMES OF CLIENTS\n",
        "data= pd.read_csv('/content/AguaH.csv')\n",
        "dataset= data.iloc[0:10,:]\n",
        "dataset.shape\n",
        "#ESTE CODIGO SIRVE UNICAMENTE PARA LA INTEGRACION DE LOS NOMBRES EN EL DATAFRAME\n",
        "col_list = [\"Name\"]\n",
        "names = pd.read_csv(\"/content/StateNames.csv\", usecols=col_list)\n",
        "names = names.iloc[0:10 , :]\n",
        "#ELIMINAMOS LA COLUMNA DE LOS NOMBRE YA QUE SE BINARIZARON\n",
        "#df = df.iloc[: , 1:]\n",
        "print(\"Names shape \",names.shape)"
      ],
      "execution_count": null,
      "outputs": []
    },
    {
      "cell_type": "code",
      "metadata": {
        "id": "DhnT4wrmsWXr"
      },
      "source": [
        "#AJUSTE DEL FORMATO DE LAS FECHAS PARA LA TRANSFORMACION A TIPO DATETIME\n",
        "lookup = {'ENE':'01','FEB':'02','MAR':'03','ABR':'04','MAY':'05','JUN':'06','JUL':'07','AGO':'08','SEP':'09','OCT':'10','NOV':'11','DIC':'12'}\n",
        "clist=[]\n",
        "for col in dataset.columns[5:]:\n",
        "    col = col[4:].split('_')\n",
        "    clist.append('20'+col[1]+'-'+lookup[col[0]]+'-01')\n",
        "\n",
        "columns = ['LANDUSE_TYPE','USER','PIPE DIAM','VENDOR','JAN16']+clist\n",
        "dataset.columns=columns\n"
      ],
      "execution_count": null,
      "outputs": []
    },
    {
      "cell_type": "code",
      "metadata": {
        "id": "sW-LHFoj28gz"
      },
      "source": [
        "dataset = dataset.drop(columns=['LANDUSE_TYPE','PIPE DIAM','VENDOR','JAN16'])\n",
        "\n"
      ],
      "execution_count": null,
      "outputs": []
    },
    {
      "cell_type": "code",
      "metadata": {
        "id": "zL9r4JiHNe7x"
      },
      "source": [
        "rows_list = []\n"
      ],
      "execution_count": null,
      "outputs": []
    },
    {
      "cell_type": "code",
      "metadata": {
        "id": "X70LXJOL3IEu"
      },
      "source": [
        "dataComp = pd.DataFrame(columns=('DATE','TIPO', 'CONSUMO'))\n",
        "for column in range(1,len(dataset.columns),1):\n",
        "  selection=dataset.iloc[:,column]\n",
        "  for row in range(len(selection)):\n",
        "    df2=[dataset.columns[column],dataset.iloc[row,0],selection.iloc[row]]\n",
        "    print(df2)\n",
        "    rows_list.append(df2)\n",
        "    "
      ],
      "execution_count": null,
      "outputs": []
    },
    {
      "cell_type": "code",
      "metadata": {
        "id": "y8AI43ihNoio"
      },
      "source": [
        "dataComp = pd.DataFrame(rows_list)               \n"
      ],
      "execution_count": null,
      "outputs": []
    },
    {
      "cell_type": "code",
      "metadata": {
        "id": "sFRnttgoMReQ"
      },
      "source": [
        "dataComp.shape"
      ],
      "execution_count": null,
      "outputs": []
    },
    {
      "cell_type": "code",
      "metadata": {
        "id": "a69ZoWrcLoBf"
      },
      "source": [
        "dataComp.tail(100)\n"
      ],
      "execution_count": null,
      "outputs": []
    },
    {
      "cell_type": "code",
      "metadata": {
        "id": "N3ZQtSWvMIQC"
      },
      "source": [
        "dataset.tail()"
      ],
      "execution_count": null,
      "outputs": []
    },
    {
      "cell_type": "code",
      "metadata": {
        "id": "-GQKurqcIxaq"
      },
      "source": [
        "dataComp = pd.DataFrame(columns=('DATE','TIPO', 'CONSUMO'))\n",
        "for column in range(2,len(dataset.columns),1):\n",
        "  selection=dataset.iloc[:,column]\n",
        "  for row in range(len(selection)):\n",
        "    for iter in range(1,2,1):\n",
        "      df2=[data.columns[iter],data.iloc[row,0],data.iloc[row,iter]]\n",
        "      dataComp.loc[row]=df2\n"
      ],
      "execution_count": null,
      "outputs": []
    },
    {
      "cell_type": "code",
      "metadata": {
        "id": "DTt8iZ14HCVX"
      },
      "source": [
        "\n",
        "  print()"
      ],
      "execution_count": null,
      "outputs": []
    },
    {
      "cell_type": "code",
      "metadata": {
        "id": "BJdMQ_tDBhxY"
      },
      "source": [
        "dataComp.head()"
      ],
      "execution_count": null,
      "outputs": []
    },
    {
      "cell_type": "code",
      "metadata": {
        "id": "ctVvdyyl4Ky1"
      },
      "source": [
        "datas"
      ],
      "execution_count": null,
      "outputs": []
    },
    {
      "cell_type": "code",
      "metadata": {
        "id": "dzR_BZvUt_tl"
      },
      "source": [
        "names.index = dataset.index\n",
        "dataset.insert(loc=1, column='Names', value=names)\n"
      ],
      "execution_count": null,
      "outputs": []
    },
    {
      "cell_type": "code",
      "metadata": {
        "id": "SyiAhOMBuOjP"
      },
      "source": [
        "dataset=dataset.transpose()\n",
        "\n"
      ],
      "execution_count": null,
      "outputs": []
    },
    {
      "cell_type": "code",
      "metadata": {
        "id": "zhd8L3b_GfZr"
      },
      "source": [
        "dataset.index.name = 'date'\n",
        "dataset\n"
      ],
      "execution_count": null,
      "outputs": []
    },
    {
      "cell_type": "code",
      "metadata": {
        "id": "rIivijspGpKn"
      },
      "source": [
        "dataset.set_index(['date', 'Names']).unstack()\n"
      ],
      "execution_count": null,
      "outputs": []
    },
    {
      "cell_type": "code",
      "metadata": {
        "id": "CIPsIarlF2L2"
      },
      "source": [
        "data.set_index(['date', 'Names']).unstack()\n"
      ],
      "execution_count": null,
      "outputs": []
    },
    {
      "cell_type": "code",
      "metadata": {
        "id": "-01zN11S_wg-"
      },
      "source": [
        "one_hot = pd.get_dummies(dataset['Names'])\n",
        "dataset = dataset.drop('Names',axis = 1)\n",
        "dataset = dataset.join(one_hot)\n"
      ],
      "execution_count": null,
      "outputs": []
    },
    {
      "cell_type": "code",
      "metadata": {
        "id": "_GInujex7yZe"
      },
      "source": [
        "dataset"
      ],
      "execution_count": null,
      "outputs": []
    }
  ]
}